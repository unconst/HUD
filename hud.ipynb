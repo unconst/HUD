{
 "cells": [
  {
   "cell_type": "code",
   "execution_count": null,
   "metadata": {},
   "outputs": [],
   "source": [
    "from hud import HUD\n",
    "R = HUD.load_from_config(project=\"R\")\n"
   ]
  },
  {
   "cell_type": "code",
   "execution_count": null,
   "metadata": {},
   "outputs": [],
   "source": [
    "R[:10].is_registered()"
   ]
  },
  {
   "cell_type": "code",
   "execution_count": null,
   "metadata": {},
   "outputs": [],
   "source": [
    "R.pow(R[10:20])"
   ]
  },
  {
   "cell_type": "code",
   "execution_count": null,
   "metadata": {},
   "outputs": [],
   "source": [
    "R.pow(pow)"
   ]
  },
  {
   "cell_type": "code",
   "execution_count": null,
   "metadata": {},
   "outputs": [],
   "source": [
    "R.iters()"
   ]
  },
  {
   "cell_type": "code",
   "execution_count": null,
   "metadata": {},
   "outputs": [],
   "source": [
    "import time\n",
    "from hud import HUD\n",
    "\n",
    "R = HUD.load_from_config(project=\"R\")\n",
    "miners = R\n",
    "pow_workers = R\n",
    "while True:\n",
    "    try:\n",
    "        print(\"Starting\")\n",
    "        for r in miners:\n",
    "            print( \"Monitoring: {}\".format(r) )\n",
    "            if not r.is_registered():\n",
    "                print( \"{} is not registered\".format(r) )\n",
    "                pow_workers.kill_pow()\n",
    "                print( \"Killing pow: {}\".format( pow_workers ) )\n",
    "                pow_workers.pow( r )\n",
    "                print( \"Starting pow: {}\".format( pow_workers ) )\n",
    "                while True:\n",
    "                    if r.is_registered():\n",
    "                        print( \"{} was just registered\".format(r) )\n",
    "                        break\n",
    "                    else:\n",
    "                        print( \"Waiting ... \" )\n",
    "                        time.sleep(60)\n",
    "                pow_workers.kill_pow( r )\n",
    "            else:\n",
    "                print( \"{} is registered\".format(r) )\n",
    "            \n",
    "            if not r.is_running():\n",
    "                print( \"{} is not running\".format(r) )\n",
    "                r.start()\n",
    "                print( \"{} is running\".format(r) )\n",
    "            else:\n",
    "                print( \"{} is running\".format(r) )\n",
    "\n",
    "    except Exception as e:\n",
    "        print ( e )\n"
   ]
  },
  {
   "cell_type": "code",
   "execution_count": null,
   "metadata": {},
   "outputs": [],
   "source": [
    "R.kill_pow()"
   ]
  },
  {
   "cell_type": "code",
   "execution_count": null,
   "metadata": {},
   "outputs": [],
   "source": [
    "\n",
    "\n",
    "totals = {}\n",
    "for dic in result.values():\n",
    "    for key, value in dic.items():\n",
    "        if key not in totals: totals[key] = 0\n",
    "        totals[key] += value\n",
    "\n",
    "print(totals)\n",
    "\n"
   ]
  },
  {
   "cell_type": "code",
   "execution_count": null,
   "metadata": {},
   "outputs": [],
   "source": [
    "result = R.iters()"
   ]
  },
  {
   "cell_type": "code",
   "execution_count": null,
   "metadata": {},
   "outputs": [],
   "source": [
    "\n"
   ]
  },
  {
   "cell_type": "code",
   "execution_count": null,
   "metadata": {},
   "outputs": [],
   "source": []
  }
 ],
 "metadata": {
  "interpreter": {
   "hash": "b0fa6594d8f4cbf19f97940f81e996739fb7646882a419484c72d19e05852a7e"
  },
  "kernelspec": {
   "display_name": "Python 3.9.12 64-bit",
   "language": "python",
   "name": "python3"
  },
  "language_info": {
   "codemirror_mode": {
    "name": "ipython",
    "version": 3
   },
   "file_extension": ".py",
   "mimetype": "text/x-python",
   "name": "python",
   "nbconvert_exporter": "python",
   "pygments_lexer": "ipython3",
   "version": "3.9.12"
  },
  "orig_nbformat": 4
 },
 "nbformat": 4,
 "nbformat_minor": 2
}
