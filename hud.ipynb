{
 "cells": [
  {
   "cell_type": "code",
   "execution_count": 1,
   "metadata": {},
   "outputs": [],
   "source": [
    "from hud import HUD\n",
    "R = HUD.load_from_config(project=\"R\")\n"
   ]
  },
  {
   "cell_type": "code",
   "execution_count": 2,
   "metadata": {},
   "outputs": [
    {
     "name": "stdout",
     "output_type": "stream",
     "text": [
      "Starting\n",
      "Monitoring: N(R-R0)\n"
     ]
    },
    {
     "name": "stderr",
     "output_type": "stream",
     "text": [
      "Running: <function HUD._is_registered.<locals>.__get_is_registered at 0x14b7e65e0>: 100%|██████████| 1/1 [00:06<00:00,  6.59s/it]\n"
     ]
    },
    {
     "name": "stdout",
     "output_type": "stream",
     "text": [
      "N(R-R0) is registered\n"
     ]
    },
    {
     "name": "stderr",
     "output_type": "stream",
     "text": [
      "Running: pm2 pid script: 100%|██████████| 1/1 [00:02<00:00,  2.45s/it]\n"
     ]
    },
    {
     "name": "stdout",
     "output_type": "stream",
     "text": [
      "N(R-R0) is running\n",
      "Monitoring: N(R-R1)\n"
     ]
    },
    {
     "name": "stderr",
     "output_type": "stream",
     "text": [
      "Running: <function HUD._is_registered.<locals>.__get_is_registered at 0x14bb6b160>: 100%|██████████| 1/1 [00:05<00:00,  5.81s/it]\n"
     ]
    },
    {
     "name": "stdout",
     "output_type": "stream",
     "text": [
      "N(R-R1) is registered\n"
     ]
    },
    {
     "name": "stderr",
     "output_type": "stream",
     "text": [
      "Running: pm2 pid script: 100%|██████████| 1/1 [00:02<00:00,  2.32s/it]\n"
     ]
    },
    {
     "name": "stdout",
     "output_type": "stream",
     "text": [
      "N(R-R1) is running\n",
      "Monitoring: N(R-R2)\n"
     ]
    },
    {
     "name": "stderr",
     "output_type": "stream",
     "text": [
      "Running: <function HUD._is_registered.<locals>.__get_is_registered at 0x14c23f310>: 100%|██████████| 1/1 [00:09<00:00,  9.72s/it]\n"
     ]
    },
    {
     "name": "stdout",
     "output_type": "stream",
     "text": [
      "N(R-R2) is not registered\n"
     ]
    },
    {
     "name": "stderr",
     "output_type": "stream",
     "text": [
      "Running: pkill -f pow.py & rm  pow_*: 100%|██████████| 290/290 [00:21<00:00, 13.67it/s]\n"
     ]
    },
    {
     "name": "stdout",
     "output_type": "stream",
     "text": [
      "Killing pow: [N(R-R10), N(R-R11), N(R-R12), N(R-R13), N(R-R14), N(R-R15), N(R-R16), N(R-R17), N(R-R18), N(R-R19), N(R-R20), N(R-R21), N(R-R22), N(R-R23), N(R-R24), N(R-R25), N(R-R26), N(R-R27), N(R-R28), N(R-R29), N(R-R30), N(R-R31), N(R-R32), N(R-R33), N(R-R34), N(R-R35), N(R-R36), N(R-R37), N(R-R38), N(R-R39), N(R-R40), N(R-R41), N(R-R42), N(R-R43), N(R-R44), N(R-R45), N(R-R46), N(R-R47), N(R-R48), N(R-R49), N(R-R50), N(R-R51), N(R-R52), N(R-R53), N(R-R54), N(R-R55), N(R-R56), N(R-R57), N(R-R58), N(R-R59), N(R-R60), N(R-R61), N(R-R62), N(R-R63), N(R-R64), N(R-R65), N(R-R66), N(R-R67), N(R-R68), N(R-R69), N(R-R70), N(R-R71), N(R-R72), N(R-R73), N(R-R74), N(R-R75), N(R-R76), N(R-R77), N(R-R78), N(R-R79), N(R-R80), N(R-R81), N(R-R82), N(R-R83), N(R-R84), N(R-R85), N(R-R86), N(R-R87), N(R-R88), N(R-R89), N(R-R90), N(R-R91), N(R-R92), N(R-R93), N(R-R94), N(R-R95), N(R-R96), N(R-R97), N(R-R98), N(R-R99), N(R-R100), N(R-R101), N(R-R102), N(R-R103), N(R-R104), N(R-R105), N(R-R106), N(R-R107), N(R-R108), N(R-R109), N(R-R110), N(R-R111), N(R-R112), N(R-R113), N(R-R114), N(R-R115), N(R-R116), N(R-R117), N(R-R118), N(R-R119), N(R-R120), N(R-R121), N(R-R122), N(R-R123), N(R-R124), N(R-R125), N(R-R126), N(R-R127), N(R-R128), N(R-R129), N(R-R130), N(R-R131), N(R-R132), N(R-R133), N(R-R134), N(R-R135), N(R-R136), N(R-R137), N(R-R138), N(R-R139), N(R-R140), N(R-R141), N(R-R142), N(R-R143), N(R-R144), N(R-R145), N(R-R146), N(R-R147), N(R-R148), N(R-R149), N(R-R150), N(R-R151), N(R-R152), N(R-R153), N(R-R154), N(R-R155), N(R-R156), N(R-R157), N(R-R158), N(R-R159), N(R-R160), N(R-R161), N(R-R162), N(R-R163), N(R-R164), N(R-R165), N(R-R166), N(R-R167), N(R-R168), N(R-R169), N(R-R170), N(R-R171), N(R-R172), N(R-R173), N(R-R174), N(R-R175), N(R-R176), N(R-R177), N(R-R178), N(R-R179), N(R-R180), N(R-R181), N(R-R182), N(R-R183), N(R-R184), N(R-R185), N(R-R186), N(R-R187), N(R-R188), N(R-R189), N(R-R190), N(R-R191), N(R-R192), N(R-R193), N(R-R194), N(R-R195), N(R-R196), N(R-R197), N(R-R198), N(R-R199), N(R-R200), N(R-R201), N(R-R202), N(R-R203), N(R-R204), N(R-R205), N(R-R206), N(R-R207), N(R-R208), N(R-R209), N(R-R210), N(R-R211), N(R-R212), N(R-R213), N(R-R214), N(R-R215), N(R-R216), N(R-R217), N(R-R218), N(R-R219), N(R-R220), N(R-R221), N(R-R222), N(R-R223), N(R-R224), N(R-R225), N(R-R226), N(R-R227), N(R-R228), N(R-R229), N(R-R230), N(R-R231), N(R-R232), N(R-R233), N(R-R234), N(R-R235), N(R-R236), N(R-R237), N(R-R238), N(R-R239), N(R-R240), N(R-R241), N(R-R242), N(R-R243), N(R-R244), N(R-R245), N(R-R246), N(R-R247), N(R-R248), N(R-R249), N(R-R250), N(R-R251), N(R-R252), N(R-R253), N(R-R254), N(R-R255), N(R-R256), N(R-R257), N(R-R258), N(R-R259), N(R-R260), N(R-R261), N(R-R262), N(R-R263), N(R-R264), N(R-R265), N(R-R266), N(R-R267), N(R-R268), N(R-R269), N(R-R270), N(R-R271), N(R-R272), N(R-R273), N(R-R274), N(R-R275), N(R-R276), N(R-R277), N(R-R278), N(R-R279), N(R-R280), N(R-R281), N(R-R282), N(R-R283), N(R-R284), N(R-R285), N(R-R286), N(R-R287), N(R-R288), N(R-R289), N(R-R290), N(R-R291), N(R-R292), N(R-R293), N(R-R294), N(R-R295), N(R-R296), N(R-R297), N(R-R298), N(R-R299)]\n",
      "INFO Starting PoW | targets:[N(R-R2)] workers: [N(R-R10), N(R-R11), N(R-R12), N(R-R13), N(R-R14), N(R-R15), N(R-R16), N(R-R17), N(R-R18), N(R-R19), N(R-R20), N(R-R21), N(R-R22), N(R-R23), N(R-R24), N(R-R25), N(R-R26), N(R-R27), N(R-R28), N(R-R29), N(R-R30), N(R-R31), N(R-R32), N(R-R33), N(R-R34), N(R-R35), N(R-R36), N(R-R37), N(R-R38), N(R-R39), N(R-R40), N(R-R41), N(R-R42), N(R-R43), N(R-R44), N(R-R45), N(R-R46), N(R-R47), N(R-R48), N(R-R49), N(R-R50), N(R-R51), N(R-R52), N(R-R53), N(R-R54), N(R-R55), N(R-R56), N(R-R57), N(R-R58), N(R-R59), N(R-R60), N(R-R61), N(R-R62), N(R-R63), N(R-R64), N(R-R65), N(R-R66), N(R-R67), N(R-R68), N(R-R69), N(R-R70), N(R-R71), N(R-R72), N(R-R73), N(R-R74), N(R-R75), N(R-R76), N(R-R77), N(R-R78), N(R-R79), N(R-R80), N(R-R81), N(R-R82), N(R-R83), N(R-R84), N(R-R85), N(R-R86), N(R-R87), N(R-R88), N(R-R89), N(R-R90), N(R-R91), N(R-R92), N(R-R93), N(R-R94), N(R-R95), N(R-R96), N(R-R97), N(R-R98), N(R-R99), N(R-R100), N(R-R101), N(R-R102), N(R-R103), N(R-R104), N(R-R105), N(R-R106), N(R-R107), N(R-R108), N(R-R109), N(R-R110), N(R-R111), N(R-R112), N(R-R113), N(R-R114), N(R-R115), N(R-R116), N(R-R117), N(R-R118), N(R-R119), N(R-R120), N(R-R121), N(R-R122), N(R-R123), N(R-R124), N(R-R125), N(R-R126), N(R-R127), N(R-R128), N(R-R129), N(R-R130), N(R-R131), N(R-R132), N(R-R133), N(R-R134), N(R-R135), N(R-R136), N(R-R137), N(R-R138), N(R-R139), N(R-R140), N(R-R141), N(R-R142), N(R-R143), N(R-R144), N(R-R145), N(R-R146), N(R-R147), N(R-R148), N(R-R149), N(R-R150), N(R-R151), N(R-R152), N(R-R153), N(R-R154), N(R-R155), N(R-R156), N(R-R157), N(R-R158), N(R-R159), N(R-R160), N(R-R161), N(R-R162), N(R-R163), N(R-R164), N(R-R165), N(R-R166), N(R-R167), N(R-R168), N(R-R169), N(R-R170), N(R-R171), N(R-R172), N(R-R173), N(R-R174), N(R-R175), N(R-R176), N(R-R177), N(R-R178), N(R-R179), N(R-R180), N(R-R181), N(R-R182), N(R-R183), N(R-R184), N(R-R185), N(R-R186), N(R-R187), N(R-R188), N(R-R189), N(R-R190), N(R-R191), N(R-R192), N(R-R193), N(R-R194), N(R-R195), N(R-R196), N(R-R197), N(R-R198), N(R-R199), N(R-R200), N(R-R201), N(R-R202), N(R-R203), N(R-R204), N(R-R205), N(R-R206), N(R-R207), N(R-R208), N(R-R209), N(R-R210), N(R-R211), N(R-R212), N(R-R213), N(R-R214), N(R-R215), N(R-R216), N(R-R217), N(R-R218), N(R-R219), N(R-R220), N(R-R221), N(R-R222), N(R-R223), N(R-R224), N(R-R225), N(R-R226), N(R-R227), N(R-R228), N(R-R229), N(R-R230), N(R-R231), N(R-R232), N(R-R233), N(R-R234), N(R-R235), N(R-R236), N(R-R237), N(R-R238), N(R-R239), N(R-R240), N(R-R241), N(R-R242), N(R-R243), N(R-R244), N(R-R245), N(R-R246), N(R-R247), N(R-R248), N(R-R249), N(R-R250), N(R-R251), N(R-R252), N(R-R253), N(R-R254), N(R-R255), N(R-R256), N(R-R257), N(R-R258), N(R-R259), N(R-R260), N(R-R261), N(R-R262), N(R-R263), N(R-R264), N(R-R265), N(R-R266), N(R-R267), N(R-R268), N(R-R269), N(R-R270), N(R-R271), N(R-R272), N(R-R273), N(R-R274), N(R-R275), N(R-R276), N(R-R277), N(R-R278), N(R-R279), N(R-R280), N(R-R281), N(R-R282), N(R-R283), N(R-R284), N(R-R285), N(R-R286), N(R-R287), N(R-R288), N(R-R289), N(R-R290), N(R-R291), N(R-R292), N(R-R293), N(R-R294), N(R-R295), N(R-R296), N(R-R297), N(R-R298), N(R-R299)]\n"
     ]
    },
    {
     "name": "stderr",
     "output_type": "stream",
     "text": [
      "Running: <function HUD._is_registered.<locals>.__get_is_registered at 0x14e75a310>: 100%|██████████| 1/1 [00:05<00:00,  5.98s/it]\n",
      "Running: pkill -f **hR2** & rm **hR2**: 100%|██████████| 290/290 [00:05<00:00, 48.35it/s] \n",
      "Running: mkdir -p ~/.bittensor/wallets/R/hotkeys: 100%|██████████| 290/290 [00:06<00:00, 45.39it/s] \n",
      "Running: echo '{\"accountId\": \"0x8c90bc3b7e45a7d8c3ee9cab064d5061b2638edd33843af1a5b06d0dc92c793a\", \"publicKey\": \"0x8c90bc3b7e45a7d8c3ee9cab064d5061b2638edd33843af1a5b06d0dc92c793a\", \"secretPhrase\": \"aerobic tonight search patrol struggle buffalo odor destroy eagle act silly library\", \"secretSeed\": \"0x41df075b2765cf294656deb56ff770fdc87bd0362d90aeb304eba5c56c5831f0\", \"ss58Address\": \"5FF1ZDuqPzujvKa5nWcD7yJpiR3hnN6gscz8wYQBL1iLv78C\"}' > ~/.bittensor/wallets/R/hotkeys/R2: 100%|██████████| 290/290 [00:06<00:00, 46.05it/s] \n",
      "Running: echo '{\"accountId\": \"0xa40472d672511733d6acc49d0ee68da88006c8fbbc3786b9b2b13fcf21c6143f\", \"publicKey\": \"0xa40472d672511733d6acc49d0ee68da88006c8fbbc3786b9b2b13fcf21c6143f\", \"secretPhrase\": null, \"secretSeed\": null, \"ss58Address\": \"5Fmm2o5x6zW3USdNUxJRqBHMipZW6ryv18Wp21RNFVcmxmAP\"}' > ~/.bittensor/wallets/R/coldkeypub.txt: 100%|██████████| 290/290 [00:04<00:00, 69.40it/s] \n",
      "Running: nohup python3 HUD/pow.py --subtensor.network nakamoto --wallet.name R --wallet.hotkey R2 > pow_0_cR_hR2.out &: 580it [00:05, 102.56it/s]                         \n"
     ]
    },
    {
     "name": "stdout",
     "output_type": "stream",
     "text": [
      "Starting pow: [N(R-R10), N(R-R11), N(R-R12), N(R-R13), N(R-R14), N(R-R15), N(R-R16), N(R-R17), N(R-R18), N(R-R19), N(R-R20), N(R-R21), N(R-R22), N(R-R23), N(R-R24), N(R-R25), N(R-R26), N(R-R27), N(R-R28), N(R-R29), N(R-R30), N(R-R31), N(R-R32), N(R-R33), N(R-R34), N(R-R35), N(R-R36), N(R-R37), N(R-R38), N(R-R39), N(R-R40), N(R-R41), N(R-R42), N(R-R43), N(R-R44), N(R-R45), N(R-R46), N(R-R47), N(R-R48), N(R-R49), N(R-R50), N(R-R51), N(R-R52), N(R-R53), N(R-R54), N(R-R55), N(R-R56), N(R-R57), N(R-R58), N(R-R59), N(R-R60), N(R-R61), N(R-R62), N(R-R63), N(R-R64), N(R-R65), N(R-R66), N(R-R67), N(R-R68), N(R-R69), N(R-R70), N(R-R71), N(R-R72), N(R-R73), N(R-R74), N(R-R75), N(R-R76), N(R-R77), N(R-R78), N(R-R79), N(R-R80), N(R-R81), N(R-R82), N(R-R83), N(R-R84), N(R-R85), N(R-R86), N(R-R87), N(R-R88), N(R-R89), N(R-R90), N(R-R91), N(R-R92), N(R-R93), N(R-R94), N(R-R95), N(R-R96), N(R-R97), N(R-R98), N(R-R99), N(R-R100), N(R-R101), N(R-R102), N(R-R103), N(R-R104), N(R-R105), N(R-R106), N(R-R107), N(R-R108), N(R-R109), N(R-R110), N(R-R111), N(R-R112), N(R-R113), N(R-R114), N(R-R115), N(R-R116), N(R-R117), N(R-R118), N(R-R119), N(R-R120), N(R-R121), N(R-R122), N(R-R123), N(R-R124), N(R-R125), N(R-R126), N(R-R127), N(R-R128), N(R-R129), N(R-R130), N(R-R131), N(R-R132), N(R-R133), N(R-R134), N(R-R135), N(R-R136), N(R-R137), N(R-R138), N(R-R139), N(R-R140), N(R-R141), N(R-R142), N(R-R143), N(R-R144), N(R-R145), N(R-R146), N(R-R147), N(R-R148), N(R-R149), N(R-R150), N(R-R151), N(R-R152), N(R-R153), N(R-R154), N(R-R155), N(R-R156), N(R-R157), N(R-R158), N(R-R159), N(R-R160), N(R-R161), N(R-R162), N(R-R163), N(R-R164), N(R-R165), N(R-R166), N(R-R167), N(R-R168), N(R-R169), N(R-R170), N(R-R171), N(R-R172), N(R-R173), N(R-R174), N(R-R175), N(R-R176), N(R-R177), N(R-R178), N(R-R179), N(R-R180), N(R-R181), N(R-R182), N(R-R183), N(R-R184), N(R-R185), N(R-R186), N(R-R187), N(R-R188), N(R-R189), N(R-R190), N(R-R191), N(R-R192), N(R-R193), N(R-R194), N(R-R195), N(R-R196), N(R-R197), N(R-R198), N(R-R199), N(R-R200), N(R-R201), N(R-R202), N(R-R203), N(R-R204), N(R-R205), N(R-R206), N(R-R207), N(R-R208), N(R-R209), N(R-R210), N(R-R211), N(R-R212), N(R-R213), N(R-R214), N(R-R215), N(R-R216), N(R-R217), N(R-R218), N(R-R219), N(R-R220), N(R-R221), N(R-R222), N(R-R223), N(R-R224), N(R-R225), N(R-R226), N(R-R227), N(R-R228), N(R-R229), N(R-R230), N(R-R231), N(R-R232), N(R-R233), N(R-R234), N(R-R235), N(R-R236), N(R-R237), N(R-R238), N(R-R239), N(R-R240), N(R-R241), N(R-R242), N(R-R243), N(R-R244), N(R-R245), N(R-R246), N(R-R247), N(R-R248), N(R-R249), N(R-R250), N(R-R251), N(R-R252), N(R-R253), N(R-R254), N(R-R255), N(R-R256), N(R-R257), N(R-R258), N(R-R259), N(R-R260), N(R-R261), N(R-R262), N(R-R263), N(R-R264), N(R-R265), N(R-R266), N(R-R267), N(R-R268), N(R-R269), N(R-R270), N(R-R271), N(R-R272), N(R-R273), N(R-R274), N(R-R275), N(R-R276), N(R-R277), N(R-R278), N(R-R279), N(R-R280), N(R-R281), N(R-R282), N(R-R283), N(R-R284), N(R-R285), N(R-R286), N(R-R287), N(R-R288), N(R-R289), N(R-R290), N(R-R291), N(R-R292), N(R-R293), N(R-R294), N(R-R295), N(R-R296), N(R-R297), N(R-R298), N(R-R299)]\n"
     ]
    },
    {
     "name": "stderr",
     "output_type": "stream",
     "text": [
      "Running: <function HUD._is_registered.<locals>.__get_is_registered at 0x14f409790>: 100%|██████████| 1/1 [00:03<00:00,  3.38s/it]\n"
     ]
    },
    {
     "name": "stdout",
     "output_type": "stream",
     "text": [
      "Waiting ... \n"
     ]
    },
    {
     "name": "stderr",
     "output_type": "stream",
     "text": [
      "Running: <function HUD._is_registered.<locals>.__get_is_registered at 0x168faf4c0>: 100%|██████████| 1/1 [00:02<00:00,  2.83s/it]\n"
     ]
    },
    {
     "name": "stdout",
     "output_type": "stream",
     "text": [
      "Waiting ... \n"
     ]
    },
    {
     "name": "stderr",
     "output_type": "stream",
     "text": [
      "Running: <function HUD._is_registered.<locals>.__get_is_registered at 0x169298f70>: 100%|██████████| 1/1 [00:05<00:00,  5.73s/it]\n"
     ]
    },
    {
     "name": "stdout",
     "output_type": "stream",
     "text": [
      "Waiting ... \n"
     ]
    },
    {
     "name": "stderr",
     "output_type": "stream",
     "text": [
      "Running: <function HUD._is_registered.<locals>.__get_is_registered at 0x16b1b84c0>: 100%|██████████| 1/1 [00:05<00:00,  5.10s/it]\n"
     ]
    },
    {
     "name": "stdout",
     "output_type": "stream",
     "text": [
      "Waiting ... \n"
     ]
    },
    {
     "name": "stderr",
     "output_type": "stream",
     "text": [
      "Running: <function HUD._is_registered.<locals>.__get_is_registered at 0x14c23f430>: 100%|██████████| 1/1 [00:29<00:00, 29.93s/it]\n"
     ]
    },
    {
     "name": "stdout",
     "output_type": "stream",
     "text": [
      "Waiting ... \n"
     ]
    },
    {
     "name": "stderr",
     "output_type": "stream",
     "text": [
      "Running: <function HUD._is_registered.<locals>.__get_is_registered at 0x169298790>: 100%|██████████| 1/1 [00:09<00:00,  9.33s/it]\n"
     ]
    },
    {
     "name": "stdout",
     "output_type": "stream",
     "text": [
      "Waiting ... \n"
     ]
    },
    {
     "name": "stderr",
     "output_type": "stream",
     "text": [
      "Running: <function HUD._is_registered.<locals>.__get_is_registered at 0x14bb6b280>: 100%|██████████| 1/1 [00:03<00:00,  3.08s/it]\n"
     ]
    },
    {
     "name": "stdout",
     "output_type": "stream",
     "text": [
      "Waiting ... \n"
     ]
    },
    {
     "name": "stderr",
     "output_type": "stream",
     "text": [
      "Running: <function HUD._is_registered.<locals>.__get_is_registered at 0x169298f70>: 100%|██████████| 1/1 [00:05<00:00,  5.59s/it]\n"
     ]
    },
    {
     "name": "stdout",
     "output_type": "stream",
     "text": [
      "Waiting ... \n"
     ]
    },
    {
     "name": "stderr",
     "output_type": "stream",
     "text": [
      "Running: <function HUD._is_registered.<locals>.__get_is_registered at 0x14c23f430>: 100%|██████████| 1/1 [00:02<00:00,  2.95s/it]\n"
     ]
    },
    {
     "name": "stdout",
     "output_type": "stream",
     "text": [
      "Waiting ... \n"
     ]
    },
    {
     "name": "stderr",
     "output_type": "stream",
     "text": [
      "Running: <function HUD._is_registered.<locals>.__get_is_registered at 0x14e37d430>: 100%|██████████| 1/1 [00:13<00:00, 13.97s/it]\n"
     ]
    },
    {
     "name": "stdout",
     "output_type": "stream",
     "text": [
      "N(R-R2) was just registered\n",
      "'NoneType' object has no attribute 'name'\n",
      "Starting\n",
      "Monitoring: N(R-R0)\n"
     ]
    },
    {
     "name": "stderr",
     "output_type": "stream",
     "text": [
      "Running: <function HUD._is_registered.<locals>.__get_is_registered at 0x16a62bf70>: 100%|██████████| 1/1 [00:05<00:00,  5.64s/it]\n"
     ]
    },
    {
     "name": "stdout",
     "output_type": "stream",
     "text": [
      "N(R-R0) is registered\n"
     ]
    },
    {
     "name": "stderr",
     "output_type": "stream",
     "text": [
      "Running: pm2 pid script:   0%|          | 0/1 [00:00<?, ?it/s]Socket exception: Connection reset by peer (54)\n",
      "Running: pm2 pid script: 100%|██████████| 1/1 [00:02<00:00,  2.01s/it]"
     ]
    },
    {
     "name": "stdout",
     "output_type": "stream",
     "text": [
      "N(R-R0) is not running\n"
     ]
    },
    {
     "name": "stderr",
     "output_type": "stream",
     "text": [
      "Running: pm2 pid script: 100%|██████████| 1/1 [00:11<00:00, 11.46s/it]\n",
      "100%|██████████| 1/1 [00:12<00:00, 12.10s/it]\n",
      "Running: pm2 pid script: 100%|██████████| 1/1 [00:03<00:00,  3.16s/it]\n"
     ]
    },
    {
     "name": "stdout",
     "output_type": "stream",
     "text": [
      "N(R-R0) is running\n",
      "Monitoring: N(R-R1)\n"
     ]
    },
    {
     "name": "stderr",
     "output_type": "stream",
     "text": [
      "Running: <function HUD._is_registered.<locals>.__get_is_registered at 0x16b2abb80>: 100%|██████████| 1/1 [00:04<00:00,  4.55s/it]\n"
     ]
    },
    {
     "name": "stdout",
     "output_type": "stream",
     "text": [
      "N(R-R1) is registered\n"
     ]
    },
    {
     "name": "stderr",
     "output_type": "stream",
     "text": [
      "Running: pm2 pid script: 100%|██████████| 1/1 [00:31<00:00, 31.38s/it]\n"
     ]
    },
    {
     "name": "stdout",
     "output_type": "stream",
     "text": [
      "N(R-R1) is not running\n"
     ]
    },
    {
     "name": "stderr",
     "output_type": "stream",
     "text": [
      "100%|██████████| 1/1 [00:07<00:00,  7.09s/it]\n",
      "Running: pm2 pid script: 100%|██████████| 1/1 [00:02<00:00,  2.97s/it]\n"
     ]
    },
    {
     "name": "stdout",
     "output_type": "stream",
     "text": [
      "N(R-R1) is running\n",
      "Monitoring: N(R-R2)\n"
     ]
    },
    {
     "name": "stderr",
     "output_type": "stream",
     "text": [
      "Running: <function HUD._is_registered.<locals>.__get_is_registered at 0x16a520280>: 100%|██████████| 1/1 [00:05<00:00,  5.24s/it]\n"
     ]
    },
    {
     "name": "stdout",
     "output_type": "stream",
     "text": [
      "N(R-R2) is registered\n"
     ]
    },
    {
     "name": "stderr",
     "output_type": "stream",
     "text": [
      "Running: pm2 pid script: 100%|██████████| 1/1 [00:03<00:00,  3.35s/it]\n"
     ]
    },
    {
     "name": "stdout",
     "output_type": "stream",
     "text": [
      "N(R-R2) is not running\n"
     ]
    },
    {
     "name": "stderr",
     "output_type": "stream",
     "text": [
      "100%|██████████| 1/1 [00:03<00:00,  3.28s/it]\n",
      "Running: pm2 pid script: 100%|██████████| 1/1 [00:02<00:00,  2.39s/it]\n"
     ]
    },
    {
     "name": "stdout",
     "output_type": "stream",
     "text": [
      "N(R-R2) is running\n",
      "Monitoring: N(R-R3)\n"
     ]
    },
    {
     "name": "stderr",
     "output_type": "stream",
     "text": [
      "Running: <function HUD._is_registered.<locals>.__get_is_registered at 0x16b1b8790>: 100%|██████████| 1/1 [00:06<00:00,  6.97s/it]\n"
     ]
    },
    {
     "name": "stdout",
     "output_type": "stream",
     "text": [
      "N(R-R3) is not registered\n"
     ]
    },
    {
     "name": "stderr",
     "output_type": "stream",
     "text": [
      "Running: pkill -f pow.py & rm  pow_*:   0%|          | 0/290 [00:00<?, ?it/s]Socket exception: Connection reset by peer (54)\n",
      "Socket exception: Connection reset by peer (54)\n",
      "Socket exception: Connection reset by peer (54)\n",
      "Socket exception: Connection reset by peer (54)\n",
      "Socket exception: Connection reset by peer (54)\n",
      "Socket exception: Connection reset by peer (54)\n",
      "Running: pkill -f pow.py & rm  pow_*:  58%|█████▊    | 169/290 [01:18<20:44, 10.28s/it]"
     ]
    },
    {
     "data": {
      "text/html": [
       "<pre style=\"white-space:pre;overflow-x:auto;line-height:normal;font-family:Menlo,'DejaVu Sans Mono',consolas,'Courier New',monospace\"><span style=\"color: #ff0000; text-decoration-color: #ff0000\">╭──────────────────────────── </span><span style=\"color: #800000; text-decoration-color: #800000; font-weight: bold\">Traceback </span><span style=\"color: #bf7f7f; text-decoration-color: #bf7f7f; font-weight: bold\">(most recent call last)</span><span style=\"color: #ff0000; text-decoration-color: #ff0000\"> ────────────────────────────╮</span>\n",
       "<span style=\"color: #ff0000; text-decoration-color: #ff0000\">│</span>                                                                                           <span style=\"color: #ff0000; text-decoration-color: #ff0000\">│</span>\n",
       "<span style=\"color: #ff0000; text-decoration-color: #ff0000\">│</span> <span style=\"color: #bfbf7f; text-decoration-color: #bfbf7f\">/var/folders/t2/n8qztvk54892_y4rgslzz_wm0000gn/T/ipykernel_87690/</span><span style=\"color: #808000; text-decoration-color: #808000; font-weight: bold\">571511349.py</span>:<span style=\"color: #0000ff; text-decoration-color: #0000ff\">11</span> in       <span style=\"color: #ff0000; text-decoration-color: #ff0000\">│</span>\n",
       "<span style=\"color: #ff0000; text-decoration-color: #ff0000\">│</span> <span style=\"color: #00ff00; text-decoration-color: #00ff00\">&lt;module&gt;</span>                                                                                  <span style=\"color: #ff0000; text-decoration-color: #ff0000\">│</span>\n",
       "<span style=\"color: #ff0000; text-decoration-color: #ff0000\">│</span>                                                                                           <span style=\"color: #ff0000; text-decoration-color: #ff0000\">│</span>\n",
       "<span style=\"color: #ff0000; text-decoration-color: #ff0000\">│</span> <span style=\"color: #800000; text-decoration-color: #800000; font-style: italic\">[Errno 2] No such file or directory: </span>                                                     <span style=\"color: #ff0000; text-decoration-color: #ff0000\">│</span>\n",
       "<span style=\"color: #ff0000; text-decoration-color: #ff0000\">│</span> <span style=\"color: #800000; text-decoration-color: #800000; font-style: italic\">'/var/folders/t2/n8qztvk54892_y4rgslzz_wm0000gn/T/ipykernel_87690/571511349.py'</span>           <span style=\"color: #ff0000; text-decoration-color: #ff0000\">│</span>\n",
       "<span style=\"color: #ff0000; text-decoration-color: #ff0000\">│</span> <span style=\"color: #bfbf7f; text-decoration-color: #bfbf7f\">/Users/thebes/Work/HUD/</span><span style=\"color: #808000; text-decoration-color: #808000; font-weight: bold\">hud.py</span>:<span style=\"color: #0000ff; text-decoration-color: #0000ff\">541</span> in <span style=\"color: #00ff00; text-decoration-color: #00ff00\">kill_pow</span>                                             <span style=\"color: #ff0000; text-decoration-color: #ff0000\">│</span>\n",
       "<span style=\"color: #ff0000; text-decoration-color: #ff0000\">│</span>                                                                                           <span style=\"color: #ff0000; text-decoration-color: #ff0000\">│</span>\n",
       "<span style=\"color: #ff0000; text-decoration-color: #ff0000\">│</span>   <span style=\"color: #7f7f7f; text-decoration-color: #7f7f7f\">538 │   │   │   │   </span>logger.info( <span style=\"color: #808000; text-decoration-color: #808000\">\"Killing PoW | target:{} \"</span>.format( tar ) )             <span style=\"color: #ff0000; text-decoration-color: #ff0000\">│</span>\n",
       "<span style=\"color: #ff0000; text-decoration-color: #ff0000\">│</span>   <span style=\"color: #7f7f7f; text-decoration-color: #7f7f7f\">539 │   │   │   │   </span>HUD._run( <span style=\"color: #00ffff; text-decoration-color: #00ffff\">self</span>.values, script = <span style=\"color: #808000; text-decoration-color: #808000\">\"pkill -f **h{}** &amp; rm **h{}**\"</span>.for <span style=\"color: #ff0000; text-decoration-color: #ff0000\">│</span>\n",
       "<span style=\"color: #ff0000; text-decoration-color: #ff0000\">│</span>   <span style=\"color: #7f7f7f; text-decoration-color: #7f7f7f\">540 │   │   </span><span style=\"color: #0000ff; text-decoration-color: #0000ff\">else</span>:                                                                       <span style=\"color: #ff0000; text-decoration-color: #ff0000\">│</span>\n",
       "<span style=\"color: #ff0000; text-decoration-color: #ff0000\">│</span> <span style=\"color: #800000; text-decoration-color: #800000\">❱ </span>541 <span style=\"color: #7f7f7f; text-decoration-color: #7f7f7f\">│   │   │   </span>HUD._run( <span style=\"color: #00ffff; text-decoration-color: #00ffff\">self</span>.values, script = <span style=\"color: #808000; text-decoration-color: #808000\">\"pkill -f pow.py &amp; rm  pow_*\"</span>, disown = <span style=\"color: #ff0000; text-decoration-color: #ff0000\">│</span>\n",
       "<span style=\"color: #ff0000; text-decoration-color: #ff0000\">│</span>   <span style=\"color: #7f7f7f; text-decoration-color: #7f7f7f\">542 │   </span>                                                                                <span style=\"color: #ff0000; text-decoration-color: #ff0000\">│</span>\n",
       "<span style=\"color: #ff0000; text-decoration-color: #ff0000\">│</span>   <span style=\"color: #7f7f7f; text-decoration-color: #7f7f7f\">543 │   </span>                                                                                <span style=\"color: #ff0000; text-decoration-color: #ff0000\">│</span>\n",
       "<span style=\"color: #ff0000; text-decoration-color: #ff0000\">│</span>   <span style=\"color: #7f7f7f; text-decoration-color: #7f7f7f\">544 │   </span><span style=\"color: #ff00ff; text-decoration-color: #ff00ff; font-weight: bold\">@staticmethod</span>                                                                   <span style=\"color: #ff0000; text-decoration-color: #ff0000\">│</span>\n",
       "<span style=\"color: #ff0000; text-decoration-color: #ff0000\">│</span>                                                                                           <span style=\"color: #ff0000; text-decoration-color: #ff0000\">│</span>\n",
       "<span style=\"color: #ff0000; text-decoration-color: #ff0000\">│</span> <span style=\"color: #808000; text-decoration-color: #808000\">╭────────── locals ───────────╮</span>                                                           <span style=\"color: #ff0000; text-decoration-color: #ff0000\">│</span>\n",
       "<span style=\"color: #ff0000; text-decoration-color: #ff0000\">│</span> <span style=\"color: #808000; text-decoration-color: #808000\">│</span>      disown = <span style=\"color: #0000ff; text-decoration-color: #0000ff\">False</span>         <span style=\"color: #808000; text-decoration-color: #808000\">│</span>                                                           <span style=\"color: #ff0000; text-decoration-color: #ff0000\">│</span>\n",
       "<span style=\"color: #ff0000; text-decoration-color: #ff0000\">│</span> <span style=\"color: #808000; text-decoration-color: #808000\">│</span>        hide = <span style=\"color: #0000ff; text-decoration-color: #0000ff\">True</span>          <span style=\"color: #808000; text-decoration-color: #808000\">│</span>                                                           <span style=\"color: #ff0000; text-decoration-color: #ff0000\">│</span>\n",
       "<span style=\"color: #ff0000; text-decoration-color: #ff0000\">│</span> <span style=\"color: #808000; text-decoration-color: #808000\">│</span> max_threads = <span style=\"color: #0000ff; text-decoration-color: #0000ff\">100000</span>        <span style=\"color: #808000; text-decoration-color: #808000\">│</span>                                                           <span style=\"color: #ff0000; text-decoration-color: #ff0000\">│</span>\n",
       "<span style=\"color: #ff0000; text-decoration-color: #ff0000\">│</span> <span style=\"color: #808000; text-decoration-color: #808000\">│</span>        self = <span style=\"font-weight: bold\">[</span>             <span style=\"color: #808000; text-decoration-color: #808000\">│</span>                                                           <span style=\"color: #ff0000; text-decoration-color: #ff0000\">│</span>\n",
       "<span style=\"color: #ff0000; text-decoration-color: #ff0000\">│</span> <span style=\"color: #808000; text-decoration-color: #808000\">│</span>               <span style=\"color: #7f7f7f; text-decoration-color: #7f7f7f\">│   </span><span style=\"color: #800080; text-decoration-color: #800080; font-weight: bold\">N</span><span style=\"font-weight: bold\">(</span>R-R10<span style=\"font-weight: bold\">)</span>, <span style=\"color: #808000; text-decoration-color: #808000\">│</span>                                                           <span style=\"color: #ff0000; text-decoration-color: #ff0000\">│</span>\n",
       "<span style=\"color: #ff0000; text-decoration-color: #ff0000\">│</span> <span style=\"color: #808000; text-decoration-color: #808000\">│</span>               <span style=\"color: #7f7f7f; text-decoration-color: #7f7f7f\">│   </span><span style=\"color: #800080; text-decoration-color: #800080; font-weight: bold\">N</span><span style=\"font-weight: bold\">(</span>R-R11<span style=\"font-weight: bold\">)</span>, <span style=\"color: #808000; text-decoration-color: #808000\">│</span>                                                           <span style=\"color: #ff0000; text-decoration-color: #ff0000\">│</span>\n",
       "<span style=\"color: #ff0000; text-decoration-color: #ff0000\">│</span> <span style=\"color: #808000; text-decoration-color: #808000\">│</span>               <span style=\"color: #7f7f7f; text-decoration-color: #7f7f7f\">│   </span><span style=\"color: #800080; text-decoration-color: #800080; font-weight: bold\">N</span><span style=\"font-weight: bold\">(</span>R-R12<span style=\"font-weight: bold\">)</span>, <span style=\"color: #808000; text-decoration-color: #808000\">│</span>                                                           <span style=\"color: #ff0000; text-decoration-color: #ff0000\">│</span>\n",
       "<span style=\"color: #ff0000; text-decoration-color: #ff0000\">│</span> <span style=\"color: #808000; text-decoration-color: #808000\">│</span>               <span style=\"color: #7f7f7f; text-decoration-color: #7f7f7f\">│   </span><span style=\"color: #800080; text-decoration-color: #800080; font-weight: bold\">N</span><span style=\"font-weight: bold\">(</span>R-R13<span style=\"font-weight: bold\">)</span>, <span style=\"color: #808000; text-decoration-color: #808000\">│</span>                                                           <span style=\"color: #ff0000; text-decoration-color: #ff0000\">│</span>\n",
       "<span style=\"color: #ff0000; text-decoration-color: #ff0000\">│</span> <span style=\"color: #808000; text-decoration-color: #808000\">│</span>               <span style=\"color: #7f7f7f; text-decoration-color: #7f7f7f\">│   </span><span style=\"color: #800080; text-decoration-color: #800080; font-weight: bold\">N</span><span style=\"font-weight: bold\">(</span>R-R14<span style=\"font-weight: bold\">)</span>, <span style=\"color: #808000; text-decoration-color: #808000\">│</span>                                                           <span style=\"color: #ff0000; text-decoration-color: #ff0000\">│</span>\n",
       "<span style=\"color: #ff0000; text-decoration-color: #ff0000\">│</span> <span style=\"color: #808000; text-decoration-color: #808000\">│</span>               <span style=\"color: #7f7f7f; text-decoration-color: #7f7f7f\">│   </span><span style=\"color: #800080; text-decoration-color: #800080; font-weight: bold\">N</span><span style=\"font-weight: bold\">(</span>R-R15<span style=\"font-weight: bold\">)</span>, <span style=\"color: #808000; text-decoration-color: #808000\">│</span>                                                           <span style=\"color: #ff0000; text-decoration-color: #ff0000\">│</span>\n",
       "<span style=\"color: #ff0000; text-decoration-color: #ff0000\">│</span> <span style=\"color: #808000; text-decoration-color: #808000\">│</span>               <span style=\"color: #7f7f7f; text-decoration-color: #7f7f7f\">│   </span><span style=\"color: #800080; text-decoration-color: #800080; font-weight: bold\">N</span><span style=\"font-weight: bold\">(</span>R-R16<span style=\"font-weight: bold\">)</span>, <span style=\"color: #808000; text-decoration-color: #808000\">│</span>                                                           <span style=\"color: #ff0000; text-decoration-color: #ff0000\">│</span>\n",
       "<span style=\"color: #ff0000; text-decoration-color: #ff0000\">│</span> <span style=\"color: #808000; text-decoration-color: #808000\">│</span>               <span style=\"color: #7f7f7f; text-decoration-color: #7f7f7f\">│   </span><span style=\"color: #800080; text-decoration-color: #800080; font-weight: bold\">N</span><span style=\"font-weight: bold\">(</span>R-R17<span style=\"font-weight: bold\">)</span>, <span style=\"color: #808000; text-decoration-color: #808000\">│</span>                                                           <span style=\"color: #ff0000; text-decoration-color: #ff0000\">│</span>\n",
       "<span style=\"color: #ff0000; text-decoration-color: #ff0000\">│</span> <span style=\"color: #808000; text-decoration-color: #808000\">│</span>               <span style=\"color: #7f7f7f; text-decoration-color: #7f7f7f\">│   </span><span style=\"color: #800080; text-decoration-color: #800080; font-weight: bold\">N</span><span style=\"font-weight: bold\">(</span>R-R18<span style=\"font-weight: bold\">)</span>, <span style=\"color: #808000; text-decoration-color: #808000\">│</span>                                                           <span style=\"color: #ff0000; text-decoration-color: #ff0000\">│</span>\n",
       "<span style=\"color: #ff0000; text-decoration-color: #ff0000\">│</span> <span style=\"color: #808000; text-decoration-color: #808000\">│</span>               <span style=\"color: #7f7f7f; text-decoration-color: #7f7f7f\">│   </span><span style=\"color: #800080; text-decoration-color: #800080; font-weight: bold\">N</span><span style=\"font-weight: bold\">(</span>R-R19<span style=\"font-weight: bold\">)</span>, <span style=\"color: #808000; text-decoration-color: #808000\">│</span>                                                           <span style=\"color: #ff0000; text-decoration-color: #ff0000\">│</span>\n",
       "<span style=\"color: #ff0000; text-decoration-color: #ff0000\">│</span> <span style=\"color: #808000; text-decoration-color: #808000\">│</span>               <span style=\"color: #7f7f7f; text-decoration-color: #7f7f7f\">│   </span><span style=\"color: #808000; text-decoration-color: #808000\">...</span> +<span style=\"color: #0000ff; text-decoration-color: #0000ff\">280</span>  <span style=\"color: #808000; text-decoration-color: #808000\">│</span>                                                           <span style=\"color: #ff0000; text-decoration-color: #ff0000\">│</span>\n",
       "<span style=\"color: #ff0000; text-decoration-color: #ff0000\">│</span> <span style=\"color: #808000; text-decoration-color: #808000\">│</span>               <span style=\"font-weight: bold\">]</span>             <span style=\"color: #808000; text-decoration-color: #808000\">│</span>                                                           <span style=\"color: #ff0000; text-decoration-color: #ff0000\">│</span>\n",
       "<span style=\"color: #ff0000; text-decoration-color: #ff0000\">│</span> <span style=\"color: #808000; text-decoration-color: #808000\">│</span>     targets = <span style=\"color: #0000ff; text-decoration-color: #0000ff\">None</span>          <span style=\"color: #808000; text-decoration-color: #808000\">│</span>                                                           <span style=\"color: #ff0000; text-decoration-color: #ff0000\">│</span>\n",
       "<span style=\"color: #ff0000; text-decoration-color: #ff0000\">│</span> <span style=\"color: #808000; text-decoration-color: #808000\">│</span>     timeout = <span style=\"color: #0000ff; text-decoration-color: #0000ff\">30</span>            <span style=\"color: #808000; text-decoration-color: #808000\">│</span>                                                           <span style=\"color: #ff0000; text-decoration-color: #ff0000\">│</span>\n",
       "<span style=\"color: #ff0000; text-decoration-color: #ff0000\">│</span> <span style=\"color: #808000; text-decoration-color: #808000\">│</span>        warn = <span style=\"color: #0000ff; text-decoration-color: #0000ff\">False</span>         <span style=\"color: #808000; text-decoration-color: #808000\">│</span>                                                           <span style=\"color: #ff0000; text-decoration-color: #ff0000\">│</span>\n",
       "<span style=\"color: #ff0000; text-decoration-color: #ff0000\">│</span> <span style=\"color: #808000; text-decoration-color: #808000\">╰─────────────────────────────╯</span>                                                           <span style=\"color: #ff0000; text-decoration-color: #ff0000\">│</span>\n",
       "<span style=\"color: #ff0000; text-decoration-color: #ff0000\">│</span>                                                                                           <span style=\"color: #ff0000; text-decoration-color: #ff0000\">│</span>\n",
       "<span style=\"color: #ff0000; text-decoration-color: #ff0000\">│</span> <span style=\"color: #bfbf7f; text-decoration-color: #bfbf7f\">/Users/thebes/Work/HUD/</span><span style=\"color: #808000; text-decoration-color: #808000; font-weight: bold\">hud.py</span>:<span style=\"color: #0000ff; text-decoration-color: #0000ff\">325</span> in <span style=\"color: #00ff00; text-decoration-color: #00ff00\">_run</span>                                                 <span style=\"color: #ff0000; text-decoration-color: #ff0000\">│</span>\n",
       "<span style=\"color: #ff0000; text-decoration-color: #ff0000\">│</span>                                                                                           <span style=\"color: #ff0000; text-decoration-color: #ff0000\">│</span>\n",
       "<span style=\"color: #ff0000; text-decoration-color: #ff0000\">│</span>   <span style=\"color: #7f7f7f; text-decoration-color: #7f7f7f\">322 │   │   </span>futs = []                                                                   <span style=\"color: #ff0000; text-decoration-color: #ff0000\">│</span>\n",
       "<span style=\"color: #ff0000; text-decoration-color: #ff0000\">│</span>   <span style=\"color: #7f7f7f; text-decoration-color: #7f7f7f\">323 │   │   </span><span style=\"color: #0000ff; text-decoration-color: #0000ff\">with</span> ThreadPoolExecutor(max_workers=<span style=\"color: #00ffff; text-decoration-color: #00ffff\">min</span>(max_threads, <span style=\"color: #00ffff; text-decoration-color: #00ffff\">len</span>(neurons))) <span style=\"color: #0000ff; text-decoration-color: #0000ff\">as</span> exec <span style=\"color: #ff0000; text-decoration-color: #ff0000\">│</span>\n",
       "<span style=\"color: #ff0000; text-decoration-color: #ff0000\">│</span>   <span style=\"color: #7f7f7f; text-decoration-color: #7f7f7f\">324 │   │   │   </span><span style=\"color: #0000ff; text-decoration-color: #0000ff\">for</span> n <span style=\"color: #ff00ff; text-decoration-color: #ff00ff\">in</span> neurons:                                                       <span style=\"color: #ff0000; text-decoration-color: #ff0000\">│</span>\n",
       "<span style=\"color: #ff0000; text-decoration-color: #ff0000\">│</span> <span style=\"color: #800000; text-decoration-color: #800000\">❱ </span>325 <span style=\"color: #7f7f7f; text-decoration-color: #7f7f7f\">│   │   │   │   </span>futs.append( (n, executor.submit(_run, n)) )                        <span style=\"color: #ff0000; text-decoration-color: #ff0000\">│</span>\n",
       "<span style=\"color: #ff0000; text-decoration-color: #ff0000\">│</span>   <span style=\"color: #7f7f7f; text-decoration-color: #7f7f7f\">326 │   │   </span>results = HUDDict()                                                         <span style=\"color: #ff0000; text-decoration-color: #ff0000\">│</span>\n",
       "<span style=\"color: #ff0000; text-decoration-color: #ff0000\">│</span>   <span style=\"color: #7f7f7f; text-decoration-color: #7f7f7f\">327 │   │   </span><span style=\"color: #0000ff; text-decoration-color: #0000ff\">for</span> n, fut <span style=\"color: #ff00ff; text-decoration-color: #ff00ff\">in</span> futs:                                                         <span style=\"color: #ff0000; text-decoration-color: #ff0000\">│</span>\n",
       "<span style=\"color: #ff0000; text-decoration-color: #ff0000\">│</span>   <span style=\"color: #7f7f7f; text-decoration-color: #7f7f7f\">328 │   │   │   </span><span style=\"color: #0000ff; text-decoration-color: #0000ff\">try</span>:                                                                    <span style=\"color: #ff0000; text-decoration-color: #ff0000\">│</span>\n",
       "<span style=\"color: #ff0000; text-decoration-color: #ff0000\">│</span>                                                                                           <span style=\"color: #ff0000; text-decoration-color: #ff0000\">│</span>\n",
       "<span style=\"color: #ff0000; text-decoration-color: #ff0000\">│</span> <span style=\"color: #808000; text-decoration-color: #808000\">╭────────────────────────────────────── locals ──────────────────────────────────────╮</span>    <span style=\"color: #ff0000; text-decoration-color: #ff0000\">│</span>\n",
       "<span style=\"color: #ff0000; text-decoration-color: #ff0000\">│</span> <span style=\"color: #808000; text-decoration-color: #808000\">│</span>        _run = <span style=\"font-weight: bold\">&lt;</span><span style=\"color: #ff00ff; text-decoration-color: #ff00ff; font-weight: bold\">function</span><span style=\"color: #000000; text-decoration-color: #000000\"> HUD._run.&lt;locals</span><span style=\"font-weight: bold\">&gt;</span>._run at <span style=\"color: #0000ff; text-decoration-color: #0000ff\">0x1066471f0</span>&gt;                     <span style=\"color: #808000; text-decoration-color: #808000\">│</span>    <span style=\"color: #ff0000; text-decoration-color: #ff0000\">│</span>\n",
       "<span style=\"color: #ff0000; text-decoration-color: #ff0000\">│</span> <span style=\"color: #808000; text-decoration-color: #808000\">│</span>      disown = <span style=\"color: #0000ff; text-decoration-color: #0000ff\">False</span>                                                                <span style=\"color: #808000; text-decoration-color: #808000\">│</span>    <span style=\"color: #ff0000; text-decoration-color: #ff0000\">│</span>\n",
       "<span style=\"color: #ff0000; text-decoration-color: #ff0000\">│</span> <span style=\"color: #808000; text-decoration-color: #808000\">│</span>    executor = <span style=\"font-weight: bold\">&lt;</span><span style=\"color: #ff00ff; text-decoration-color: #ff00ff; font-weight: bold\">concurrent.futures.thread.ThreadPoolExecutor</span><span style=\"color: #000000; text-decoration-color: #000000\"> object at </span><span style=\"color: #0000ff; text-decoration-color: #0000ff\">0x16a470be0</span><span style=\"font-weight: bold\">&gt;</span> <span style=\"color: #808000; text-decoration-color: #808000\">│</span>    <span style=\"color: #ff0000; text-decoration-color: #ff0000\">│</span>\n",
       "<span style=\"color: #ff0000; text-decoration-color: #ff0000\">│</span> <span style=\"color: #808000; text-decoration-color: #808000\">│</span>        futs = <span style=\"font-weight: bold\">[</span>                                                                    <span style=\"color: #808000; text-decoration-color: #808000\">│</span>    <span style=\"color: #ff0000; text-decoration-color: #ff0000\">│</span>\n",
       "<span style=\"color: #ff0000; text-decoration-color: #ff0000\">│</span> <span style=\"color: #808000; text-decoration-color: #808000\">│</span>               <span style=\"color: #7f7f7f; text-decoration-color: #7f7f7f\">│   </span><span style=\"font-weight: bold\">(</span>                                                                <span style=\"color: #808000; text-decoration-color: #808000\">│</span>    <span style=\"color: #ff0000; text-decoration-color: #ff0000\">│</span>\n",
       "<span style=\"color: #ff0000; text-decoration-color: #ff0000\">│</span> <span style=\"color: #808000; text-decoration-color: #808000\">│</span>               <span style=\"color: #7f7f7f; text-decoration-color: #7f7f7f\">│   │   </span><span style=\"color: #800080; text-decoration-color: #800080; font-weight: bold\">N</span><span style=\"font-weight: bold\">(</span>R-R10<span style=\"font-weight: bold\">)</span>,                                                    <span style=\"color: #808000; text-decoration-color: #808000\">│</span>    <span style=\"color: #ff0000; text-decoration-color: #ff0000\">│</span>\n",
       "<span style=\"color: #ff0000; text-decoration-color: #ff0000\">│</span> <span style=\"color: #808000; text-decoration-color: #808000\">│</span>               <span style=\"color: #7f7f7f; text-decoration-color: #7f7f7f\">│   │   </span><span style=\"font-weight: bold\">&lt;</span><span style=\"color: #ff00ff; text-decoration-color: #ff00ff; font-weight: bold\">Future</span><span style=\"color: #000000; text-decoration-color: #000000\"> at </span><span style=\"color: #0000ff; text-decoration-color: #0000ff\">0x169d1cc40</span><span style=\"color: #000000; text-decoration-color: #000000\"> </span><span style=\"color: #808000; text-decoration-color: #808000\">state</span><span style=\"color: #000000; text-decoration-color: #000000\">=</span><span style=\"color: #800080; text-decoration-color: #800080\">finished</span><span style=\"color: #000000; text-decoration-color: #000000\"> returned str</span><span style=\"font-weight: bold\">&gt;</span>          <span style=\"color: #808000; text-decoration-color: #808000\">│</span>    <span style=\"color: #ff0000; text-decoration-color: #ff0000\">│</span>\n",
       "<span style=\"color: #ff0000; text-decoration-color: #ff0000\">│</span> <span style=\"color: #808000; text-decoration-color: #808000\">│</span>               <span style=\"color: #7f7f7f; text-decoration-color: #7f7f7f\">│   </span><span style=\"font-weight: bold\">)</span>,                                                               <span style=\"color: #808000; text-decoration-color: #808000\">│</span>    <span style=\"color: #ff0000; text-decoration-color: #ff0000\">│</span>\n",
       "<span style=\"color: #ff0000; text-decoration-color: #ff0000\">│</span> <span style=\"color: #808000; text-decoration-color: #808000\">│</span>               <span style=\"color: #7f7f7f; text-decoration-color: #7f7f7f\">│   </span><span style=\"font-weight: bold\">(</span>                                                                <span style=\"color: #808000; text-decoration-color: #808000\">│</span>    <span style=\"color: #ff0000; text-decoration-color: #ff0000\">│</span>\n",
       "<span style=\"color: #ff0000; text-decoration-color: #ff0000\">│</span> <span style=\"color: #808000; text-decoration-color: #808000\">│</span>               <span style=\"color: #7f7f7f; text-decoration-color: #7f7f7f\">│   │   </span><span style=\"color: #800080; text-decoration-color: #800080; font-weight: bold\">N</span><span style=\"font-weight: bold\">(</span>R-R11<span style=\"font-weight: bold\">)</span>,                                                    <span style=\"color: #808000; text-decoration-color: #808000\">│</span>    <span style=\"color: #ff0000; text-decoration-color: #ff0000\">│</span>\n",
       "<span style=\"color: #ff0000; text-decoration-color: #ff0000\">│</span> <span style=\"color: #808000; text-decoration-color: #808000\">│</span>               <span style=\"color: #7f7f7f; text-decoration-color: #7f7f7f\">│   │   </span><span style=\"font-weight: bold\">&lt;</span><span style=\"color: #ff00ff; text-decoration-color: #ff00ff; font-weight: bold\">Future</span><span style=\"color: #000000; text-decoration-color: #000000\"> at </span><span style=\"color: #0000ff; text-decoration-color: #0000ff\">0x169d0bf10</span><span style=\"color: #000000; text-decoration-color: #000000\"> </span><span style=\"color: #808000; text-decoration-color: #808000\">state</span><span style=\"color: #000000; text-decoration-color: #000000\">=</span><span style=\"color: #800080; text-decoration-color: #800080\">finished</span><span style=\"color: #000000; text-decoration-color: #000000\"> returned str</span><span style=\"font-weight: bold\">&gt;</span>          <span style=\"color: #808000; text-decoration-color: #808000\">│</span>    <span style=\"color: #ff0000; text-decoration-color: #ff0000\">│</span>\n",
       "<span style=\"color: #ff0000; text-decoration-color: #ff0000\">│</span> <span style=\"color: #808000; text-decoration-color: #808000\">│</span>               <span style=\"color: #7f7f7f; text-decoration-color: #7f7f7f\">│   </span><span style=\"font-weight: bold\">)</span>,                                                               <span style=\"color: #808000; text-decoration-color: #808000\">│</span>    <span style=\"color: #ff0000; text-decoration-color: #ff0000\">│</span>\n",
       "<span style=\"color: #ff0000; text-decoration-color: #ff0000\">│</span> <span style=\"color: #808000; text-decoration-color: #808000\">│</span>               <span style=\"color: #7f7f7f; text-decoration-color: #7f7f7f\">│   </span><span style=\"font-weight: bold\">(</span>                                                                <span style=\"color: #808000; text-decoration-color: #808000\">│</span>    <span style=\"color: #ff0000; text-decoration-color: #ff0000\">│</span>\n",
       "<span style=\"color: #ff0000; text-decoration-color: #ff0000\">│</span> <span style=\"color: #808000; text-decoration-color: #808000\">│</span>               <span style=\"color: #7f7f7f; text-decoration-color: #7f7f7f\">│   │   </span><span style=\"color: #800080; text-decoration-color: #800080; font-weight: bold\">N</span><span style=\"font-weight: bold\">(</span>R-R12<span style=\"font-weight: bold\">)</span>,                                                    <span style=\"color: #808000; text-decoration-color: #808000\">│</span>    <span style=\"color: #ff0000; text-decoration-color: #ff0000\">│</span>\n",
       "<span style=\"color: #ff0000; text-decoration-color: #ff0000\">│</span> <span style=\"color: #808000; text-decoration-color: #808000\">│</span>               <span style=\"color: #7f7f7f; text-decoration-color: #7f7f7f\">│   │   </span><span style=\"font-weight: bold\">&lt;</span><span style=\"color: #ff00ff; text-decoration-color: #ff00ff; font-weight: bold\">Future</span><span style=\"color: #000000; text-decoration-color: #000000\"> at </span><span style=\"color: #0000ff; text-decoration-color: #0000ff\">0x16a16e550</span><span style=\"color: #000000; text-decoration-color: #000000\"> </span><span style=\"color: #808000; text-decoration-color: #808000\">state</span><span style=\"color: #000000; text-decoration-color: #000000\">=</span><span style=\"color: #800080; text-decoration-color: #800080\">finished</span><span style=\"color: #000000; text-decoration-color: #000000\"> returned str</span><span style=\"font-weight: bold\">&gt;</span>          <span style=\"color: #808000; text-decoration-color: #808000\">│</span>    <span style=\"color: #ff0000; text-decoration-color: #ff0000\">│</span>\n",
       "<span style=\"color: #ff0000; text-decoration-color: #ff0000\">│</span> <span style=\"color: #808000; text-decoration-color: #808000\">│</span>               <span style=\"color: #7f7f7f; text-decoration-color: #7f7f7f\">│   </span><span style=\"font-weight: bold\">)</span>,                                                               <span style=\"color: #808000; text-decoration-color: #808000\">│</span>    <span style=\"color: #ff0000; text-decoration-color: #ff0000\">│</span>\n",
       "<span style=\"color: #ff0000; text-decoration-color: #ff0000\">│</span> <span style=\"color: #808000; text-decoration-color: #808000\">│</span>               <span style=\"color: #7f7f7f; text-decoration-color: #7f7f7f\">│   </span><span style=\"font-weight: bold\">(</span>                                                                <span style=\"color: #808000; text-decoration-color: #808000\">│</span>    <span style=\"color: #ff0000; text-decoration-color: #ff0000\">│</span>\n",
       "<span style=\"color: #ff0000; text-decoration-color: #ff0000\">│</span> <span style=\"color: #808000; text-decoration-color: #808000\">│</span>               <span style=\"color: #7f7f7f; text-decoration-color: #7f7f7f\">│   │   </span><span style=\"color: #800080; text-decoration-color: #800080; font-weight: bold\">N</span><span style=\"font-weight: bold\">(</span>R-R13<span style=\"font-weight: bold\">)</span>,                                                    <span style=\"color: #808000; text-decoration-color: #808000\">│</span>    <span style=\"color: #ff0000; text-decoration-color: #ff0000\">│</span>\n",
       "<span style=\"color: #ff0000; text-decoration-color: #ff0000\">│</span> <span style=\"color: #808000; text-decoration-color: #808000\">│</span>               <span style=\"color: #7f7f7f; text-decoration-color: #7f7f7f\">│   │   </span><span style=\"font-weight: bold\">&lt;</span><span style=\"color: #ff00ff; text-decoration-color: #ff00ff; font-weight: bold\">Future</span><span style=\"color: #000000; text-decoration-color: #000000\"> at </span><span style=\"color: #0000ff; text-decoration-color: #0000ff\">0x16b2adbb0</span><span style=\"color: #000000; text-decoration-color: #000000\"> </span><span style=\"color: #808000; text-decoration-color: #808000\">state</span><span style=\"color: #000000; text-decoration-color: #000000\">=</span><span style=\"color: #800080; text-decoration-color: #800080\">finished</span><span style=\"color: #000000; text-decoration-color: #000000\"> returned str</span><span style=\"font-weight: bold\">&gt;</span>          <span style=\"color: #808000; text-decoration-color: #808000\">│</span>    <span style=\"color: #ff0000; text-decoration-color: #ff0000\">│</span>\n",
       "<span style=\"color: #ff0000; text-decoration-color: #ff0000\">│</span> <span style=\"color: #808000; text-decoration-color: #808000\">│</span>               <span style=\"color: #7f7f7f; text-decoration-color: #7f7f7f\">│   </span><span style=\"font-weight: bold\">)</span>,                                                               <span style=\"color: #808000; text-decoration-color: #808000\">│</span>    <span style=\"color: #ff0000; text-decoration-color: #ff0000\">│</span>\n",
       "<span style=\"color: #ff0000; text-decoration-color: #ff0000\">│</span> <span style=\"color: #808000; text-decoration-color: #808000\">│</span>               <span style=\"color: #7f7f7f; text-decoration-color: #7f7f7f\">│   </span><span style=\"font-weight: bold\">(</span>                                                                <span style=\"color: #808000; text-decoration-color: #808000\">│</span>    <span style=\"color: #ff0000; text-decoration-color: #ff0000\">│</span>\n",
       "<span style=\"color: #ff0000; text-decoration-color: #ff0000\">│</span> <span style=\"color: #808000; text-decoration-color: #808000\">│</span>               <span style=\"color: #7f7f7f; text-decoration-color: #7f7f7f\">│   │   </span><span style=\"color: #800080; text-decoration-color: #800080; font-weight: bold\">N</span><span style=\"font-weight: bold\">(</span>R-R14<span style=\"font-weight: bold\">)</span>,                                                    <span style=\"color: #808000; text-decoration-color: #808000\">│</span>    <span style=\"color: #ff0000; text-decoration-color: #ff0000\">│</span>\n",
       "<span style=\"color: #ff0000; text-decoration-color: #ff0000\">│</span> <span style=\"color: #808000; text-decoration-color: #808000\">│</span>               <span style=\"color: #7f7f7f; text-decoration-color: #7f7f7f\">│   │   </span><span style=\"font-weight: bold\">&lt;</span><span style=\"color: #ff00ff; text-decoration-color: #ff00ff; font-weight: bold\">Future</span><span style=\"color: #000000; text-decoration-color: #000000\"> at </span><span style=\"color: #0000ff; text-decoration-color: #0000ff\">0x16a2c7400</span><span style=\"color: #000000; text-decoration-color: #000000\"> </span><span style=\"color: #808000; text-decoration-color: #808000\">state</span><span style=\"color: #000000; text-decoration-color: #000000\">=</span><span style=\"color: #800080; text-decoration-color: #800080\">finished</span><span style=\"color: #000000; text-decoration-color: #000000\"> returned str</span><span style=\"font-weight: bold\">&gt;</span>          <span style=\"color: #808000; text-decoration-color: #808000\">│</span>    <span style=\"color: #ff0000; text-decoration-color: #ff0000\">│</span>\n",
       "<span style=\"color: #ff0000; text-decoration-color: #ff0000\">│</span> <span style=\"color: #808000; text-decoration-color: #808000\">│</span>               <span style=\"color: #7f7f7f; text-decoration-color: #7f7f7f\">│   </span><span style=\"font-weight: bold\">)</span>,                                                               <span style=\"color: #808000; text-decoration-color: #808000\">│</span>    <span style=\"color: #ff0000; text-decoration-color: #ff0000\">│</span>\n",
       "<span style=\"color: #ff0000; text-decoration-color: #ff0000\">│</span> <span style=\"color: #808000; text-decoration-color: #808000\">│</span>               <span style=\"color: #7f7f7f; text-decoration-color: #7f7f7f\">│   </span><span style=\"font-weight: bold\">(</span>                                                                <span style=\"color: #808000; text-decoration-color: #808000\">│</span>    <span style=\"color: #ff0000; text-decoration-color: #ff0000\">│</span>\n",
       "<span style=\"color: #ff0000; text-decoration-color: #ff0000\">│</span> <span style=\"color: #808000; text-decoration-color: #808000\">│</span>               <span style=\"color: #7f7f7f; text-decoration-color: #7f7f7f\">│   │   </span><span style=\"color: #800080; text-decoration-color: #800080; font-weight: bold\">N</span><span style=\"font-weight: bold\">(</span>R-R15<span style=\"font-weight: bold\">)</span>,                                                    <span style=\"color: #808000; text-decoration-color: #808000\">│</span>    <span style=\"color: #ff0000; text-decoration-color: #ff0000\">│</span>\n",
       "<span style=\"color: #ff0000; text-decoration-color: #ff0000\">│</span> <span style=\"color: #808000; text-decoration-color: #808000\">│</span>               <span style=\"color: #7f7f7f; text-decoration-color: #7f7f7f\">│   │   </span><span style=\"font-weight: bold\">&lt;</span><span style=\"color: #ff00ff; text-decoration-color: #ff00ff; font-weight: bold\">Future</span><span style=\"color: #000000; text-decoration-color: #000000\"> at </span><span style=\"color: #0000ff; text-decoration-color: #0000ff\">0x16abf5370</span><span style=\"color: #000000; text-decoration-color: #000000\"> </span><span style=\"color: #808000; text-decoration-color: #808000\">state</span><span style=\"color: #000000; text-decoration-color: #000000\">=</span><span style=\"color: #800080; text-decoration-color: #800080\">finished</span><span style=\"color: #000000; text-decoration-color: #000000\"> returned str</span><span style=\"font-weight: bold\">&gt;</span>          <span style=\"color: #808000; text-decoration-color: #808000\">│</span>    <span style=\"color: #ff0000; text-decoration-color: #ff0000\">│</span>\n",
       "<span style=\"color: #ff0000; text-decoration-color: #ff0000\">│</span> <span style=\"color: #808000; text-decoration-color: #808000\">│</span>               <span style=\"color: #7f7f7f; text-decoration-color: #7f7f7f\">│   </span><span style=\"font-weight: bold\">)</span>,                                                               <span style=\"color: #808000; text-decoration-color: #808000\">│</span>    <span style=\"color: #ff0000; text-decoration-color: #ff0000\">│</span>\n",
       "<span style=\"color: #ff0000; text-decoration-color: #ff0000\">│</span> <span style=\"color: #808000; text-decoration-color: #808000\">│</span>               <span style=\"color: #7f7f7f; text-decoration-color: #7f7f7f\">│   </span><span style=\"font-weight: bold\">(</span><span style=\"color: #800080; text-decoration-color: #800080; font-weight: bold\">N</span><span style=\"font-weight: bold\">(</span>R-R16<span style=\"font-weight: bold\">)</span>, <span style=\"font-weight: bold\">&lt;</span><span style=\"color: #ff00ff; text-decoration-color: #ff00ff; font-weight: bold\">Future</span><span style=\"color: #000000; text-decoration-color: #000000\"> at </span><span style=\"color: #0000ff; text-decoration-color: #0000ff\">0x16a468280</span><span style=\"color: #000000; text-decoration-color: #000000\"> </span><span style=\"color: #808000; text-decoration-color: #808000\">state</span><span style=\"color: #000000; text-decoration-color: #000000\">=</span><span style=\"color: #800080; text-decoration-color: #800080\">running</span><span style=\"font-weight: bold\">&gt;)</span>,               <span style=\"color: #808000; text-decoration-color: #808000\">│</span>    <span style=\"color: #ff0000; text-decoration-color: #ff0000\">│</span>\n",
       "<span style=\"color: #ff0000; text-decoration-color: #ff0000\">│</span> <span style=\"color: #808000; text-decoration-color: #808000\">│</span>               <span style=\"color: #7f7f7f; text-decoration-color: #7f7f7f\">│   </span><span style=\"font-weight: bold\">(</span><span style=\"color: #800080; text-decoration-color: #800080; font-weight: bold\">N</span><span style=\"font-weight: bold\">(</span>R-R17<span style=\"font-weight: bold\">)</span>, <span style=\"font-weight: bold\">&lt;</span><span style=\"color: #ff00ff; text-decoration-color: #ff00ff; font-weight: bold\">Future</span><span style=\"color: #000000; text-decoration-color: #000000\"> at </span><span style=\"color: #0000ff; text-decoration-color: #0000ff\">0x16b310e20</span><span style=\"color: #000000; text-decoration-color: #000000\"> </span><span style=\"color: #808000; text-decoration-color: #808000\">state</span><span style=\"color: #000000; text-decoration-color: #000000\">=</span><span style=\"color: #800080; text-decoration-color: #800080\">running</span><span style=\"font-weight: bold\">&gt;)</span>,               <span style=\"color: #808000; text-decoration-color: #808000\">│</span>    <span style=\"color: #ff0000; text-decoration-color: #ff0000\">│</span>\n",
       "<span style=\"color: #ff0000; text-decoration-color: #ff0000\">│</span> <span style=\"color: #808000; text-decoration-color: #808000\">│</span>               <span style=\"color: #7f7f7f; text-decoration-color: #7f7f7f\">│   </span><span style=\"font-weight: bold\">(</span><span style=\"color: #800080; text-decoration-color: #800080; font-weight: bold\">N</span><span style=\"font-weight: bold\">(</span>R-R18<span style=\"font-weight: bold\">)</span>, <span style=\"font-weight: bold\">&lt;</span><span style=\"color: #ff00ff; text-decoration-color: #ff00ff; font-weight: bold\">Future</span><span style=\"color: #000000; text-decoration-color: #000000\"> at </span><span style=\"color: #0000ff; text-decoration-color: #0000ff\">0x16b413d90</span><span style=\"color: #000000; text-decoration-color: #000000\"> </span><span style=\"color: #808000; text-decoration-color: #808000\">state</span><span style=\"color: #000000; text-decoration-color: #000000\">=</span><span style=\"color: #800080; text-decoration-color: #800080\">running</span><span style=\"font-weight: bold\">&gt;)</span>,               <span style=\"color: #808000; text-decoration-color: #808000\">│</span>    <span style=\"color: #ff0000; text-decoration-color: #ff0000\">│</span>\n",
       "<span style=\"color: #ff0000; text-decoration-color: #ff0000\">│</span> <span style=\"color: #808000; text-decoration-color: #808000\">│</span>               <span style=\"color: #7f7f7f; text-decoration-color: #7f7f7f\">│   </span><span style=\"font-weight: bold\">(</span>                                                                <span style=\"color: #808000; text-decoration-color: #808000\">│</span>    <span style=\"color: #ff0000; text-decoration-color: #ff0000\">│</span>\n",
       "<span style=\"color: #ff0000; text-decoration-color: #ff0000\">│</span> <span style=\"color: #808000; text-decoration-color: #808000\">│</span>               <span style=\"color: #7f7f7f; text-decoration-color: #7f7f7f\">│   │   </span><span style=\"color: #800080; text-decoration-color: #800080; font-weight: bold\">N</span><span style=\"font-weight: bold\">(</span>R-R19<span style=\"font-weight: bold\">)</span>,                                                    <span style=\"color: #808000; text-decoration-color: #808000\">│</span>    <span style=\"color: #ff0000; text-decoration-color: #ff0000\">│</span>\n",
       "<span style=\"color: #ff0000; text-decoration-color: #ff0000\">│</span> <span style=\"color: #808000; text-decoration-color: #808000\">│</span>               <span style=\"color: #7f7f7f; text-decoration-color: #7f7f7f\">│   │   </span><span style=\"font-weight: bold\">&lt;</span><span style=\"color: #ff00ff; text-decoration-color: #ff00ff; font-weight: bold\">Future</span><span style=\"color: #000000; text-decoration-color: #000000\"> at </span><span style=\"color: #0000ff; text-decoration-color: #0000ff\">0x16a477df0</span><span style=\"color: #000000; text-decoration-color: #000000\"> </span><span style=\"color: #808000; text-decoration-color: #808000\">state</span><span style=\"color: #000000; text-decoration-color: #000000\">=</span><span style=\"color: #800080; text-decoration-color: #800080\">finished</span><span style=\"color: #000000; text-decoration-color: #000000\"> returned str</span><span style=\"font-weight: bold\">&gt;</span>          <span style=\"color: #808000; text-decoration-color: #808000\">│</span>    <span style=\"color: #ff0000; text-decoration-color: #ff0000\">│</span>\n",
       "<span style=\"color: #ff0000; text-decoration-color: #ff0000\">│</span> <span style=\"color: #808000; text-decoration-color: #808000\">│</span>               <span style=\"color: #7f7f7f; text-decoration-color: #7f7f7f\">│   </span><span style=\"font-weight: bold\">)</span>,                                                               <span style=\"color: #808000; text-decoration-color: #808000\">│</span>    <span style=\"color: #ff0000; text-decoration-color: #ff0000\">│</span>\n",
       "<span style=\"color: #ff0000; text-decoration-color: #ff0000\">│</span> <span style=\"color: #808000; text-decoration-color: #808000\">│</span>               <span style=\"color: #7f7f7f; text-decoration-color: #7f7f7f\">│   </span><span style=\"color: #808000; text-decoration-color: #808000\">...</span> +<span style=\"color: #0000ff; text-decoration-color: #0000ff\">280</span>                                                         <span style=\"color: #808000; text-decoration-color: #808000\">│</span>    <span style=\"color: #ff0000; text-decoration-color: #ff0000\">│</span>\n",
       "<span style=\"color: #ff0000; text-decoration-color: #ff0000\">│</span> <span style=\"color: #808000; text-decoration-color: #808000\">│</span>               <span style=\"font-weight: bold\">]</span>                                                                    <span style=\"color: #808000; text-decoration-color: #808000\">│</span>    <span style=\"color: #ff0000; text-decoration-color: #ff0000\">│</span>\n",
       "<span style=\"color: #ff0000; text-decoration-color: #ff0000\">│</span> <span style=\"color: #808000; text-decoration-color: #808000\">│</span>        hide = <span style=\"color: #0000ff; text-decoration-color: #0000ff\">True</span>                                                                 <span style=\"color: #808000; text-decoration-color: #808000\">│</span>    <span style=\"color: #ff0000; text-decoration-color: #ff0000\">│</span>\n",
       "<span style=\"color: #ff0000; text-decoration-color: #ff0000\">│</span> <span style=\"color: #808000; text-decoration-color: #808000\">│</span>   is_script = <span style=\"color: #0000ff; text-decoration-color: #0000ff\">True</span>                                                                 <span style=\"color: #808000; text-decoration-color: #808000\">│</span>    <span style=\"color: #ff0000; text-decoration-color: #ff0000\">│</span>\n",
       "<span style=\"color: #ff0000; text-decoration-color: #ff0000\">│</span> <span style=\"color: #808000; text-decoration-color: #808000\">│</span> max_threads = <span style=\"color: #0000ff; text-decoration-color: #0000ff\">100000</span>                                                               <span style=\"color: #808000; text-decoration-color: #808000\">│</span>    <span style=\"color: #ff0000; text-decoration-color: #ff0000\">│</span>\n",
       "<span style=\"color: #ff0000; text-decoration-color: #ff0000\">│</span> <span style=\"color: #808000; text-decoration-color: #808000\">│</span>           n = <span style=\"color: #800080; text-decoration-color: #800080; font-weight: bold\">N</span><span style=\"font-weight: bold\">(</span>R-R299<span style=\"font-weight: bold\">)</span>                                                            <span style=\"color: #808000; text-decoration-color: #808000\">│</span>    <span style=\"color: #ff0000; text-decoration-color: #ff0000\">│</span>\n",
       "<span style=\"color: #ff0000; text-decoration-color: #ff0000\">│</span> <span style=\"color: #808000; text-decoration-color: #808000\">│</span>     neurons = <span style=\"font-weight: bold\">[</span>                                                                    <span style=\"color: #808000; text-decoration-color: #808000\">│</span>    <span style=\"color: #ff0000; text-decoration-color: #ff0000\">│</span>\n",
       "<span style=\"color: #ff0000; text-decoration-color: #ff0000\">│</span> <span style=\"color: #808000; text-decoration-color: #808000\">│</span>               <span style=\"color: #7f7f7f; text-decoration-color: #7f7f7f\">│   </span><span style=\"color: #800080; text-decoration-color: #800080; font-weight: bold\">N</span><span style=\"font-weight: bold\">(</span>R-R10<span style=\"font-weight: bold\">)</span>,                                                        <span style=\"color: #808000; text-decoration-color: #808000\">│</span>    <span style=\"color: #ff0000; text-decoration-color: #ff0000\">│</span>\n",
       "<span style=\"color: #ff0000; text-decoration-color: #ff0000\">│</span> <span style=\"color: #808000; text-decoration-color: #808000\">│</span>               <span style=\"color: #7f7f7f; text-decoration-color: #7f7f7f\">│   </span><span style=\"color: #800080; text-decoration-color: #800080; font-weight: bold\">N</span><span style=\"font-weight: bold\">(</span>R-R11<span style=\"font-weight: bold\">)</span>,                                                        <span style=\"color: #808000; text-decoration-color: #808000\">│</span>    <span style=\"color: #ff0000; text-decoration-color: #ff0000\">│</span>\n",
       "<span style=\"color: #ff0000; text-decoration-color: #ff0000\">│</span> <span style=\"color: #808000; text-decoration-color: #808000\">│</span>               <span style=\"color: #7f7f7f; text-decoration-color: #7f7f7f\">│   </span><span style=\"color: #800080; text-decoration-color: #800080; font-weight: bold\">N</span><span style=\"font-weight: bold\">(</span>R-R12<span style=\"font-weight: bold\">)</span>,                                                        <span style=\"color: #808000; text-decoration-color: #808000\">│</span>    <span style=\"color: #ff0000; text-decoration-color: #ff0000\">│</span>\n",
       "<span style=\"color: #ff0000; text-decoration-color: #ff0000\">│</span> <span style=\"color: #808000; text-decoration-color: #808000\">│</span>               <span style=\"color: #7f7f7f; text-decoration-color: #7f7f7f\">│   </span><span style=\"color: #800080; text-decoration-color: #800080; font-weight: bold\">N</span><span style=\"font-weight: bold\">(</span>R-R13<span style=\"font-weight: bold\">)</span>,                                                        <span style=\"color: #808000; text-decoration-color: #808000\">│</span>    <span style=\"color: #ff0000; text-decoration-color: #ff0000\">│</span>\n",
       "<span style=\"color: #ff0000; text-decoration-color: #ff0000\">│</span> <span style=\"color: #808000; text-decoration-color: #808000\">│</span>               <span style=\"color: #7f7f7f; text-decoration-color: #7f7f7f\">│   </span><span style=\"color: #800080; text-decoration-color: #800080; font-weight: bold\">N</span><span style=\"font-weight: bold\">(</span>R-R14<span style=\"font-weight: bold\">)</span>,                                                        <span style=\"color: #808000; text-decoration-color: #808000\">│</span>    <span style=\"color: #ff0000; text-decoration-color: #ff0000\">│</span>\n",
       "<span style=\"color: #ff0000; text-decoration-color: #ff0000\">│</span> <span style=\"color: #808000; text-decoration-color: #808000\">│</span>               <span style=\"color: #7f7f7f; text-decoration-color: #7f7f7f\">│   </span><span style=\"color: #800080; text-decoration-color: #800080; font-weight: bold\">N</span><span style=\"font-weight: bold\">(</span>R-R15<span style=\"font-weight: bold\">)</span>,                                                        <span style=\"color: #808000; text-decoration-color: #808000\">│</span>    <span style=\"color: #ff0000; text-decoration-color: #ff0000\">│</span>\n",
       "<span style=\"color: #ff0000; text-decoration-color: #ff0000\">│</span> <span style=\"color: #808000; text-decoration-color: #808000\">│</span>               <span style=\"color: #7f7f7f; text-decoration-color: #7f7f7f\">│   </span><span style=\"color: #800080; text-decoration-color: #800080; font-weight: bold\">N</span><span style=\"font-weight: bold\">(</span>R-R16<span style=\"font-weight: bold\">)</span>,                                                        <span style=\"color: #808000; text-decoration-color: #808000\">│</span>    <span style=\"color: #ff0000; text-decoration-color: #ff0000\">│</span>\n",
       "<span style=\"color: #ff0000; text-decoration-color: #ff0000\">│</span> <span style=\"color: #808000; text-decoration-color: #808000\">│</span>               <span style=\"color: #7f7f7f; text-decoration-color: #7f7f7f\">│   </span><span style=\"color: #800080; text-decoration-color: #800080; font-weight: bold\">N</span><span style=\"font-weight: bold\">(</span>R-R17<span style=\"font-weight: bold\">)</span>,                                                        <span style=\"color: #808000; text-decoration-color: #808000\">│</span>    <span style=\"color: #ff0000; text-decoration-color: #ff0000\">│</span>\n",
       "<span style=\"color: #ff0000; text-decoration-color: #ff0000\">│</span> <span style=\"color: #808000; text-decoration-color: #808000\">│</span>               <span style=\"color: #7f7f7f; text-decoration-color: #7f7f7f\">│   </span><span style=\"color: #800080; text-decoration-color: #800080; font-weight: bold\">N</span><span style=\"font-weight: bold\">(</span>R-R18<span style=\"font-weight: bold\">)</span>,                                                        <span style=\"color: #808000; text-decoration-color: #808000\">│</span>    <span style=\"color: #ff0000; text-decoration-color: #ff0000\">│</span>\n",
       "<span style=\"color: #ff0000; text-decoration-color: #ff0000\">│</span> <span style=\"color: #808000; text-decoration-color: #808000\">│</span>               <span style=\"color: #7f7f7f; text-decoration-color: #7f7f7f\">│   </span><span style=\"color: #800080; text-decoration-color: #800080; font-weight: bold\">N</span><span style=\"font-weight: bold\">(</span>R-R19<span style=\"font-weight: bold\">)</span>,                                                        <span style=\"color: #808000; text-decoration-color: #808000\">│</span>    <span style=\"color: #ff0000; text-decoration-color: #ff0000\">│</span>\n",
       "<span style=\"color: #ff0000; text-decoration-color: #ff0000\">│</span> <span style=\"color: #808000; text-decoration-color: #808000\">│</span>               <span style=\"color: #7f7f7f; text-decoration-color: #7f7f7f\">│   </span><span style=\"color: #808000; text-decoration-color: #808000\">...</span> +<span style=\"color: #0000ff; text-decoration-color: #0000ff\">280</span>                                                         <span style=\"color: #808000; text-decoration-color: #808000\">│</span>    <span style=\"color: #ff0000; text-decoration-color: #ff0000\">│</span>\n",
       "<span style=\"color: #ff0000; text-decoration-color: #ff0000\">│</span> <span style=\"color: #808000; text-decoration-color: #808000\">│</span>               <span style=\"font-weight: bold\">]</span>                                                                    <span style=\"color: #808000; text-decoration-color: #808000\">│</span>    <span style=\"color: #ff0000; text-decoration-color: #ff0000\">│</span>\n",
       "<span style=\"color: #ff0000; text-decoration-color: #ff0000\">│</span> <span style=\"color: #808000; text-decoration-color: #808000\">│</span>     results = <span style=\"font-weight: bold\">{}</span>                                                                   <span style=\"color: #808000; text-decoration-color: #808000\">│</span>    <span style=\"color: #ff0000; text-decoration-color: #ff0000\">│</span>\n",
       "<span style=\"color: #ff0000; text-decoration-color: #ff0000\">│</span> <span style=\"color: #808000; text-decoration-color: #808000\">│</span>      script = <span style=\"color: #808000; text-decoration-color: #808000\">'pkill -f pow.py &amp; rm  pow_*'</span>                                        <span style=\"color: #808000; text-decoration-color: #808000\">│</span>    <span style=\"color: #ff0000; text-decoration-color: #ff0000\">│</span>\n",
       "<span style=\"color: #ff0000; text-decoration-color: #ff0000\">│</span> <span style=\"color: #808000; text-decoration-color: #808000\">│</span>      stdout = <span style=\"color: #0000ff; text-decoration-color: #0000ff\">True</span>                                                                 <span style=\"color: #808000; text-decoration-color: #808000\">│</span>    <span style=\"color: #ff0000; text-decoration-color: #ff0000\">│</span>\n",
       "<span style=\"color: #ff0000; text-decoration-color: #ff0000\">│</span> <span style=\"color: #808000; text-decoration-color: #808000\">│</span>        tbar = <span style=\"font-weight: bold\">&lt;</span><span style=\"color: #ff00ff; text-decoration-color: #ff00ff; font-weight: bold\">tqdm.std.tqdm</span><span style=\"color: #000000; text-decoration-color: #000000\"> object at </span><span style=\"color: #0000ff; text-decoration-color: #0000ff\">0x169d1cd30</span><span style=\"font-weight: bold\">&gt;</span>                                <span style=\"color: #808000; text-decoration-color: #808000\">│</span>    <span style=\"color: #ff0000; text-decoration-color: #ff0000\">│</span>\n",
       "<span style=\"color: #ff0000; text-decoration-color: #ff0000\">│</span> <span style=\"color: #808000; text-decoration-color: #808000\">│</span>     timeout = <span style=\"color: #0000ff; text-decoration-color: #0000ff\">30</span>                                                                   <span style=\"color: #808000; text-decoration-color: #808000\">│</span>    <span style=\"color: #ff0000; text-decoration-color: #ff0000\">│</span>\n",
       "<span style=\"color: #ff0000; text-decoration-color: #ff0000\">│</span> <span style=\"color: #808000; text-decoration-color: #808000\">│</span>        warn = <span style=\"color: #0000ff; text-decoration-color: #0000ff\">False</span>                                                                <span style=\"color: #808000; text-decoration-color: #808000\">│</span>    <span style=\"color: #ff0000; text-decoration-color: #ff0000\">│</span>\n",
       "<span style=\"color: #ff0000; text-decoration-color: #ff0000\">│</span> <span style=\"color: #808000; text-decoration-color: #808000\">╰────────────────────────────────────────────────────────────────────────────────────╯</span>    <span style=\"color: #ff0000; text-decoration-color: #ff0000\">│</span>\n",
       "<span style=\"color: #ff0000; text-decoration-color: #ff0000\">│</span>                                                                                           <span style=\"color: #ff0000; text-decoration-color: #ff0000\">│</span>\n",
       "<span style=\"color: #ff0000; text-decoration-color: #ff0000\">│</span> <span style=\"color: #bfbf7f; text-decoration-color: #bfbf7f\">/opt/homebrew/Cellar/python@3.9/3.9.12/Frameworks/Python.framework/Versions/3.9/lib/pytho</span> <span style=\"color: #ff0000; text-decoration-color: #ff0000\">│</span>\n",
       "<span style=\"color: #ff0000; text-decoration-color: #ff0000\">│</span> <span style=\"color: #bfbf7f; text-decoration-color: #bfbf7f\">n3.9/concurrent/futures/</span><span style=\"color: #808000; text-decoration-color: #808000; font-weight: bold\">_base.py</span>:<span style=\"color: #0000ff; text-decoration-color: #0000ff\">637</span> in <span style=\"color: #00ff00; text-decoration-color: #00ff00\">__exit__</span>                                          <span style=\"color: #ff0000; text-decoration-color: #ff0000\">│</span>\n",
       "<span style=\"color: #ff0000; text-decoration-color: #ff0000\">│</span>                                                                                           <span style=\"color: #ff0000; text-decoration-color: #ff0000\">│</span>\n",
       "<span style=\"color: #ff0000; text-decoration-color: #ff0000\">│</span>   <span style=\"color: #7f7f7f; text-decoration-color: #7f7f7f\">634 │   │   </span><span style=\"color: #0000ff; text-decoration-color: #0000ff\">return</span> <span style=\"color: #00ffff; text-decoration-color: #00ffff\">self</span>                                                                 <span style=\"color: #ff0000; text-decoration-color: #ff0000\">│</span>\n",
       "<span style=\"color: #ff0000; text-decoration-color: #ff0000\">│</span>   <span style=\"color: #7f7f7f; text-decoration-color: #7f7f7f\">635 │   </span>                                                                                <span style=\"color: #ff0000; text-decoration-color: #ff0000\">│</span>\n",
       "<span style=\"color: #ff0000; text-decoration-color: #ff0000\">│</span>   <span style=\"color: #7f7f7f; text-decoration-color: #7f7f7f\">636 │   </span><span style=\"color: #0000ff; text-decoration-color: #0000ff\">def</span> <span style=\"color: #00ff00; text-decoration-color: #00ff00\">__exit__</span>(<span style=\"color: #00ffff; text-decoration-color: #00ffff\">self</span>, exc_type, exc_val, exc_tb):                                  <span style=\"color: #ff0000; text-decoration-color: #ff0000\">│</span>\n",
       "<span style=\"color: #ff0000; text-decoration-color: #ff0000\">│</span> <span style=\"color: #800000; text-decoration-color: #800000\">❱ </span>637 <span style=\"color: #7f7f7f; text-decoration-color: #7f7f7f\">│   │   </span><span style=\"color: #00ffff; text-decoration-color: #00ffff\">self</span>.shutdown(wait=<span style=\"color: #0000ff; text-decoration-color: #0000ff\">True</span>)                                                    <span style=\"color: #ff0000; text-decoration-color: #ff0000\">│</span>\n",
       "<span style=\"color: #ff0000; text-decoration-color: #ff0000\">│</span>   <span style=\"color: #7f7f7f; text-decoration-color: #7f7f7f\">638 │   │   </span><span style=\"color: #0000ff; text-decoration-color: #0000ff\">return</span> <span style=\"color: #0000ff; text-decoration-color: #0000ff\">False</span>                                                                <span style=\"color: #ff0000; text-decoration-color: #ff0000\">│</span>\n",
       "<span style=\"color: #ff0000; text-decoration-color: #ff0000\">│</span>   <span style=\"color: #7f7f7f; text-decoration-color: #7f7f7f\">639 </span>                                                                                    <span style=\"color: #ff0000; text-decoration-color: #ff0000\">│</span>\n",
       "<span style=\"color: #ff0000; text-decoration-color: #ff0000\">│</span>   <span style=\"color: #7f7f7f; text-decoration-color: #7f7f7f\">640 </span>                                                                                    <span style=\"color: #ff0000; text-decoration-color: #ff0000\">│</span>\n",
       "<span style=\"color: #ff0000; text-decoration-color: #ff0000\">│</span>                                                                                           <span style=\"color: #ff0000; text-decoration-color: #ff0000\">│</span>\n",
       "<span style=\"color: #ff0000; text-decoration-color: #ff0000\">│</span> <span style=\"color: #808000; text-decoration-color: #808000\">╭──────────────────────────────────── locals ─────────────────────────────────────╮</span>       <span style=\"color: #ff0000; text-decoration-color: #ff0000\">│</span>\n",
       "<span style=\"color: #ff0000; text-decoration-color: #ff0000\">│</span> <span style=\"color: #808000; text-decoration-color: #808000\">│</span>   exc_tb = <span style=\"color: #0000ff; text-decoration-color: #0000ff\">None</span>                                                                 <span style=\"color: #808000; text-decoration-color: #808000\">│</span>       <span style=\"color: #ff0000; text-decoration-color: #ff0000\">│</span>\n",
       "<span style=\"color: #ff0000; text-decoration-color: #ff0000\">│</span> <span style=\"color: #808000; text-decoration-color: #808000\">│</span> exc_type = <span style=\"color: #0000ff; text-decoration-color: #0000ff\">None</span>                                                                 <span style=\"color: #808000; text-decoration-color: #808000\">│</span>       <span style=\"color: #ff0000; text-decoration-color: #ff0000\">│</span>\n",
       "<span style=\"color: #ff0000; text-decoration-color: #ff0000\">│</span> <span style=\"color: #808000; text-decoration-color: #808000\">│</span>  exc_val = <span style=\"color: #0000ff; text-decoration-color: #0000ff\">None</span>                                                                 <span style=\"color: #808000; text-decoration-color: #808000\">│</span>       <span style=\"color: #ff0000; text-decoration-color: #ff0000\">│</span>\n",
       "<span style=\"color: #ff0000; text-decoration-color: #ff0000\">│</span> <span style=\"color: #808000; text-decoration-color: #808000\">│</span>     self = <span style=\"font-weight: bold\">&lt;</span><span style=\"color: #ff00ff; text-decoration-color: #ff00ff; font-weight: bold\">concurrent.futures.thread.ThreadPoolExecutor</span><span style=\"color: #000000; text-decoration-color: #000000\"> object at </span><span style=\"color: #0000ff; text-decoration-color: #0000ff\">0x16a470be0</span><span style=\"font-weight: bold\">&gt;</span> <span style=\"color: #808000; text-decoration-color: #808000\">│</span>       <span style=\"color: #ff0000; text-decoration-color: #ff0000\">│</span>\n",
       "<span style=\"color: #ff0000; text-decoration-color: #ff0000\">│</span> <span style=\"color: #808000; text-decoration-color: #808000\">╰─────────────────────────────────────────────────────────────────────────────────╯</span>       <span style=\"color: #ff0000; text-decoration-color: #ff0000\">│</span>\n",
       "<span style=\"color: #ff0000; text-decoration-color: #ff0000\">│</span>                                                                                           <span style=\"color: #ff0000; text-decoration-color: #ff0000\">│</span>\n",
       "<span style=\"color: #ff0000; text-decoration-color: #ff0000\">│</span> <span style=\"color: #bfbf7f; text-decoration-color: #bfbf7f\">/opt/homebrew/Cellar/python@3.9/3.9.12/Frameworks/Python.framework/Versions/3.9/lib/pytho</span> <span style=\"color: #ff0000; text-decoration-color: #ff0000\">│</span>\n",
       "<span style=\"color: #ff0000; text-decoration-color: #ff0000\">│</span> <span style=\"color: #bfbf7f; text-decoration-color: #bfbf7f\">n3.9/concurrent/futures/</span><span style=\"color: #808000; text-decoration-color: #808000; font-weight: bold\">thread.py</span>:<span style=\"color: #0000ff; text-decoration-color: #0000ff\">235</span> in <span style=\"color: #00ff00; text-decoration-color: #00ff00\">shutdown</span>                                         <span style=\"color: #ff0000; text-decoration-color: #ff0000\">│</span>\n",
       "<span style=\"color: #ff0000; text-decoration-color: #ff0000\">│</span>                                                                                           <span style=\"color: #ff0000; text-decoration-color: #ff0000\">│</span>\n",
       "<span style=\"color: #ff0000; text-decoration-color: #ff0000\">│</span>   <span style=\"color: #7f7f7f; text-decoration-color: #7f7f7f\">232 │   │   │   </span><span style=\"color: #00ffff; text-decoration-color: #00ffff\">self</span>._work_queue.put(<span style=\"color: #0000ff; text-decoration-color: #0000ff\">None</span>)                                              <span style=\"color: #ff0000; text-decoration-color: #ff0000\">│</span>\n",
       "<span style=\"color: #ff0000; text-decoration-color: #ff0000\">│</span>   <span style=\"color: #7f7f7f; text-decoration-color: #7f7f7f\">233 │   │   </span><span style=\"color: #0000ff; text-decoration-color: #0000ff\">if</span> wait:                                                                    <span style=\"color: #ff0000; text-decoration-color: #ff0000\">│</span>\n",
       "<span style=\"color: #ff0000; text-decoration-color: #ff0000\">│</span>   <span style=\"color: #7f7f7f; text-decoration-color: #7f7f7f\">234 │   │   │   </span><span style=\"color: #0000ff; text-decoration-color: #0000ff\">for</span> t <span style=\"color: #ff00ff; text-decoration-color: #ff00ff\">in</span> <span style=\"color: #00ffff; text-decoration-color: #00ffff\">self</span>._threads:                                                 <span style=\"color: #ff0000; text-decoration-color: #ff0000\">│</span>\n",
       "<span style=\"color: #ff0000; text-decoration-color: #ff0000\">│</span> <span style=\"color: #800000; text-decoration-color: #800000\">❱ </span>235 <span style=\"color: #7f7f7f; text-decoration-color: #7f7f7f\">│   │   │   │   </span>t.join()                                                            <span style=\"color: #ff0000; text-decoration-color: #ff0000\">│</span>\n",
       "<span style=\"color: #ff0000; text-decoration-color: #ff0000\">│</span>   <span style=\"color: #7f7f7f; text-decoration-color: #7f7f7f\">236 │   </span>shutdown.<span style=\"color: #ff0000; text-decoration-color: #ff0000\">__doc__</span> = _base.Executor.shutdown.<span style=\"color: #ff0000; text-decoration-color: #ff0000\">__doc__</span>                              <span style=\"color: #ff0000; text-decoration-color: #ff0000\">│</span>\n",
       "<span style=\"color: #ff0000; text-decoration-color: #ff0000\">│</span>   <span style=\"color: #7f7f7f; text-decoration-color: #7f7f7f\">237 </span>                                                                                    <span style=\"color: #ff0000; text-decoration-color: #ff0000\">│</span>\n",
       "<span style=\"color: #ff0000; text-decoration-color: #ff0000\">│</span>                                                                                           <span style=\"color: #ff0000; text-decoration-color: #ff0000\">│</span>\n",
       "<span style=\"color: #ff0000; text-decoration-color: #ff0000\">│</span> <span style=\"color: #808000; text-decoration-color: #808000\">╭─────────────────────────────────────── locals ────────────────────────────────────────╮</span> <span style=\"color: #ff0000; text-decoration-color: #ff0000\">│</span>\n",
       "<span style=\"color: #ff0000; text-decoration-color: #ff0000\">│</span> <span style=\"color: #808000; text-decoration-color: #808000\">│</span> cancel_futures = <span style=\"color: #0000ff; text-decoration-color: #0000ff\">False</span>                                                                <span style=\"color: #808000; text-decoration-color: #808000\">│</span> <span style=\"color: #ff0000; text-decoration-color: #ff0000\">│</span>\n",
       "<span style=\"color: #ff0000; text-decoration-color: #ff0000\">│</span> <span style=\"color: #808000; text-decoration-color: #808000\">│</span>           self = <span style=\"font-weight: bold\">&lt;</span><span style=\"color: #ff00ff; text-decoration-color: #ff00ff; font-weight: bold\">concurrent.futures.thread.ThreadPoolExecutor</span><span style=\"color: #000000; text-decoration-color: #000000\"> object at </span><span style=\"color: #0000ff; text-decoration-color: #0000ff\">0x16a470be0</span><span style=\"font-weight: bold\">&gt;</span> <span style=\"color: #808000; text-decoration-color: #808000\">│</span> <span style=\"color: #ff0000; text-decoration-color: #ff0000\">│</span>\n",
       "<span style=\"color: #ff0000; text-decoration-color: #ff0000\">│</span> <span style=\"color: #808000; text-decoration-color: #808000\">│</span>              t = <span style=\"font-weight: bold\">&lt;</span><span style=\"color: #800080; text-decoration-color: #800080; font-weight: bold\">Thread</span><span style=\"color: #000000; text-decoration-color: #000000; font-weight: bold\">(</span><span style=\"color: #000000; text-decoration-color: #000000\">ThreadPoolExecutor-32_53, stopped </span><span style=\"color: #0000ff; text-decoration-color: #0000ff\">11662848000</span><span style=\"color: #000000; text-decoration-color: #000000; font-weight: bold\">)</span><span style=\"font-weight: bold\">&gt;</span>              <span style=\"color: #808000; text-decoration-color: #808000\">│</span> <span style=\"color: #ff0000; text-decoration-color: #ff0000\">│</span>\n",
       "<span style=\"color: #ff0000; text-decoration-color: #ff0000\">│</span> <span style=\"color: #808000; text-decoration-color: #808000\">│</span>           wait = <span style=\"color: #0000ff; text-decoration-color: #0000ff\">True</span>                                                                 <span style=\"color: #808000; text-decoration-color: #808000\">│</span> <span style=\"color: #ff0000; text-decoration-color: #ff0000\">│</span>\n",
       "<span style=\"color: #ff0000; text-decoration-color: #ff0000\">│</span> <span style=\"color: #808000; text-decoration-color: #808000\">╰───────────────────────────────────────────────────────────────────────────────────────╯</span> <span style=\"color: #ff0000; text-decoration-color: #ff0000\">│</span>\n",
       "<span style=\"color: #ff0000; text-decoration-color: #ff0000\">│</span>                                                                                           <span style=\"color: #ff0000; text-decoration-color: #ff0000\">│</span>\n",
       "<span style=\"color: #ff0000; text-decoration-color: #ff0000\">│</span> <span style=\"color: #bfbf7f; text-decoration-color: #bfbf7f\">/opt/homebrew/Cellar/python@3.9/3.9.12/Frameworks/Python.framework/Versions/3.9/lib/pytho</span> <span style=\"color: #ff0000; text-decoration-color: #ff0000\">│</span>\n",
       "<span style=\"color: #ff0000; text-decoration-color: #ff0000\">│</span> <span style=\"color: #bfbf7f; text-decoration-color: #bfbf7f\">n3.9/</span><span style=\"color: #808000; text-decoration-color: #808000; font-weight: bold\">threading.py</span>:<span style=\"color: #0000ff; text-decoration-color: #0000ff\">1053</span> in <span style=\"color: #00ff00; text-decoration-color: #00ff00\">join</span>                                                            <span style=\"color: #ff0000; text-decoration-color: #ff0000\">│</span>\n",
       "<span style=\"color: #ff0000; text-decoration-color: #ff0000\">│</span>                                                                                           <span style=\"color: #ff0000; text-decoration-color: #ff0000\">│</span>\n",
       "<span style=\"color: #ff0000; text-decoration-color: #ff0000\">│</span>   <span style=\"color: #7f7f7f; text-decoration-color: #7f7f7f\">1050 │   │   │   </span><span style=\"color: #0000ff; text-decoration-color: #0000ff\">raise</span> <span style=\"color: #00ffff; text-decoration-color: #00ffff\">RuntimeError</span>(<span style=\"color: #808000; text-decoration-color: #808000\">\"cannot join current thread\"</span>)                       <span style=\"color: #ff0000; text-decoration-color: #ff0000\">│</span>\n",
       "<span style=\"color: #ff0000; text-decoration-color: #ff0000\">│</span>   <span style=\"color: #7f7f7f; text-decoration-color: #7f7f7f\">1051 │   │   </span>                                                                           <span style=\"color: #ff0000; text-decoration-color: #ff0000\">│</span>\n",
       "<span style=\"color: #ff0000; text-decoration-color: #ff0000\">│</span>   <span style=\"color: #7f7f7f; text-decoration-color: #7f7f7f\">1052 │   │   </span><span style=\"color: #0000ff; text-decoration-color: #0000ff\">if</span> timeout <span style=\"color: #ff00ff; text-decoration-color: #ff00ff\">is</span> <span style=\"color: #0000ff; text-decoration-color: #0000ff\">None</span>:                                                        <span style=\"color: #ff0000; text-decoration-color: #ff0000\">│</span>\n",
       "<span style=\"color: #ff0000; text-decoration-color: #ff0000\">│</span> <span style=\"color: #800000; text-decoration-color: #800000\">❱ </span>1053 <span style=\"color: #7f7f7f; text-decoration-color: #7f7f7f\">│   │   │   </span><span style=\"color: #00ffff; text-decoration-color: #00ffff\">self</span>._wait_for_tstate_lock()                                           <span style=\"color: #ff0000; text-decoration-color: #ff0000\">│</span>\n",
       "<span style=\"color: #ff0000; text-decoration-color: #ff0000\">│</span>   <span style=\"color: #7f7f7f; text-decoration-color: #7f7f7f\">1054 │   │   </span><span style=\"color: #0000ff; text-decoration-color: #0000ff\">else</span>:                                                                      <span style=\"color: #ff0000; text-decoration-color: #ff0000\">│</span>\n",
       "<span style=\"color: #ff0000; text-decoration-color: #ff0000\">│</span>   <span style=\"color: #7f7f7f; text-decoration-color: #7f7f7f\">1055 │   │   │   # the behavior of a negative timeout isn't documented, but</span>             <span style=\"color: #ff0000; text-decoration-color: #ff0000\">│</span>\n",
       "<span style=\"color: #ff0000; text-decoration-color: #ff0000\">│</span>   <span style=\"color: #7f7f7f; text-decoration-color: #7f7f7f\">1056 │   │   │   # historically .join(timeout=x) for x&lt;0 has acted as if timeout=0</span>      <span style=\"color: #ff0000; text-decoration-color: #ff0000\">│</span>\n",
       "<span style=\"color: #ff0000; text-decoration-color: #ff0000\">│</span>                                                                                           <span style=\"color: #ff0000; text-decoration-color: #ff0000\">│</span>\n",
       "<span style=\"color: #ff0000; text-decoration-color: #ff0000\">│</span> <span style=\"color: #808000; text-decoration-color: #808000\">╭───────────────────────────── locals ──────────────────────────────╮</span>                     <span style=\"color: #ff0000; text-decoration-color: #ff0000\">│</span>\n",
       "<span style=\"color: #ff0000; text-decoration-color: #ff0000\">│</span> <span style=\"color: #808000; text-decoration-color: #808000\">│</span>    self = <span style=\"font-weight: bold\">&lt;</span><span style=\"color: #800080; text-decoration-color: #800080; font-weight: bold\">Thread</span><span style=\"color: #000000; text-decoration-color: #000000; font-weight: bold\">(</span><span style=\"color: #000000; text-decoration-color: #000000\">ThreadPoolExecutor-32_53, stopped </span><span style=\"color: #0000ff; text-decoration-color: #0000ff\">11662848000</span><span style=\"color: #000000; text-decoration-color: #000000; font-weight: bold\">)</span><span style=\"font-weight: bold\">&gt;</span> <span style=\"color: #808000; text-decoration-color: #808000\">│</span>                     <span style=\"color: #ff0000; text-decoration-color: #ff0000\">│</span>\n",
       "<span style=\"color: #ff0000; text-decoration-color: #ff0000\">│</span> <span style=\"color: #808000; text-decoration-color: #808000\">│</span> timeout = <span style=\"color: #0000ff; text-decoration-color: #0000ff\">None</span>                                                    <span style=\"color: #808000; text-decoration-color: #808000\">│</span>                     <span style=\"color: #ff0000; text-decoration-color: #ff0000\">│</span>\n",
       "<span style=\"color: #ff0000; text-decoration-color: #ff0000\">│</span> <span style=\"color: #808000; text-decoration-color: #808000\">╰───────────────────────────────────────────────────────────────────╯</span>                     <span style=\"color: #ff0000; text-decoration-color: #ff0000\">│</span>\n",
       "<span style=\"color: #ff0000; text-decoration-color: #ff0000\">│</span>                                                                                           <span style=\"color: #ff0000; text-decoration-color: #ff0000\">│</span>\n",
       "<span style=\"color: #ff0000; text-decoration-color: #ff0000\">│</span> <span style=\"color: #bfbf7f; text-decoration-color: #bfbf7f\">/opt/homebrew/Cellar/python@3.9/3.9.12/Frameworks/Python.framework/Versions/3.9/lib/pytho</span> <span style=\"color: #ff0000; text-decoration-color: #ff0000\">│</span>\n",
       "<span style=\"color: #ff0000; text-decoration-color: #ff0000\">│</span> <span style=\"color: #bfbf7f; text-decoration-color: #bfbf7f\">n3.9/</span><span style=\"color: #808000; text-decoration-color: #808000; font-weight: bold\">threading.py</span>:<span style=\"color: #0000ff; text-decoration-color: #0000ff\">1073</span> in <span style=\"color: #00ff00; text-decoration-color: #00ff00\">_wait_for_tstate_lock</span>                                           <span style=\"color: #ff0000; text-decoration-color: #ff0000\">│</span>\n",
       "<span style=\"color: #ff0000; text-decoration-color: #ff0000\">│</span>                                                                                           <span style=\"color: #ff0000; text-decoration-color: #ff0000\">│</span>\n",
       "<span style=\"color: #ff0000; text-decoration-color: #ff0000\">│</span>   <span style=\"color: #7f7f7f; text-decoration-color: #7f7f7f\">1070 │   │   │   </span><span style=\"color: #0000ff; text-decoration-color: #0000ff\">return</span>                                                                 <span style=\"color: #ff0000; text-decoration-color: #ff0000\">│</span>\n",
       "<span style=\"color: #ff0000; text-decoration-color: #ff0000\">│</span>   <span style=\"color: #7f7f7f; text-decoration-color: #7f7f7f\">1071 │   │   </span>                                                                           <span style=\"color: #ff0000; text-decoration-color: #ff0000\">│</span>\n",
       "<span style=\"color: #ff0000; text-decoration-color: #ff0000\">│</span>   <span style=\"color: #7f7f7f; text-decoration-color: #7f7f7f\">1072 │   │   </span><span style=\"color: #0000ff; text-decoration-color: #0000ff\">try</span>:                                                                       <span style=\"color: #ff0000; text-decoration-color: #ff0000\">│</span>\n",
       "<span style=\"color: #ff0000; text-decoration-color: #ff0000\">│</span> <span style=\"color: #800000; text-decoration-color: #800000\">❱ </span>1073 <span style=\"color: #7f7f7f; text-decoration-color: #7f7f7f\">│   │   │   </span><span style=\"color: #0000ff; text-decoration-color: #0000ff\">if</span> lock.acquire(block, timeout):                                       <span style=\"color: #ff0000; text-decoration-color: #ff0000\">│</span>\n",
       "<span style=\"color: #ff0000; text-decoration-color: #ff0000\">│</span>   <span style=\"color: #7f7f7f; text-decoration-color: #7f7f7f\">1074 │   │   │   │   </span>lock.release()                                                     <span style=\"color: #ff0000; text-decoration-color: #ff0000\">│</span>\n",
       "<span style=\"color: #ff0000; text-decoration-color: #ff0000\">│</span>   <span style=\"color: #7f7f7f; text-decoration-color: #7f7f7f\">1075 │   │   │   │   </span><span style=\"color: #00ffff; text-decoration-color: #00ffff\">self</span>._stop()                                                       <span style=\"color: #ff0000; text-decoration-color: #ff0000\">│</span>\n",
       "<span style=\"color: #ff0000; text-decoration-color: #ff0000\">│</span>   <span style=\"color: #7f7f7f; text-decoration-color: #7f7f7f\">1076 │   │   </span><span style=\"color: #0000ff; text-decoration-color: #0000ff\">except</span>:                                                                    <span style=\"color: #ff0000; text-decoration-color: #ff0000\">│</span>\n",
       "<span style=\"color: #ff0000; text-decoration-color: #ff0000\">│</span>                                                                                           <span style=\"color: #ff0000; text-decoration-color: #ff0000\">│</span>\n",
       "<span style=\"color: #ff0000; text-decoration-color: #ff0000\">│</span> <span style=\"color: #808000; text-decoration-color: #808000\">╭───────────────────────────── locals ──────────────────────────────╮</span>                     <span style=\"color: #ff0000; text-decoration-color: #ff0000\">│</span>\n",
       "<span style=\"color: #ff0000; text-decoration-color: #ff0000\">│</span> <span style=\"color: #808000; text-decoration-color: #808000\">│</span>   block = <span style=\"color: #0000ff; text-decoration-color: #0000ff\">True</span>                                                    <span style=\"color: #808000; text-decoration-color: #808000\">│</span>                     <span style=\"color: #ff0000; text-decoration-color: #ff0000\">│</span>\n",
       "<span style=\"color: #ff0000; text-decoration-color: #ff0000\">│</span> <span style=\"color: #808000; text-decoration-color: #808000\">│</span>    lock = <span style=\"font-weight: bold\">&lt;</span><span style=\"color: #ff00ff; text-decoration-color: #ff00ff; font-weight: bold\">unlocked</span><span style=\"color: #000000; text-decoration-color: #000000\"> _thread.lock object at </span><span style=\"color: #0000ff; text-decoration-color: #0000ff\">0x16a5fe390</span><span style=\"font-weight: bold\">&gt;</span>           <span style=\"color: #808000; text-decoration-color: #808000\">│</span>                     <span style=\"color: #ff0000; text-decoration-color: #ff0000\">│</span>\n",
       "<span style=\"color: #ff0000; text-decoration-color: #ff0000\">│</span> <span style=\"color: #808000; text-decoration-color: #808000\">│</span>    self = <span style=\"font-weight: bold\">&lt;</span><span style=\"color: #800080; text-decoration-color: #800080; font-weight: bold\">Thread</span><span style=\"color: #000000; text-decoration-color: #000000; font-weight: bold\">(</span><span style=\"color: #000000; text-decoration-color: #000000\">ThreadPoolExecutor-32_53, stopped </span><span style=\"color: #0000ff; text-decoration-color: #0000ff\">11662848000</span><span style=\"color: #000000; text-decoration-color: #000000; font-weight: bold\">)</span><span style=\"font-weight: bold\">&gt;</span> <span style=\"color: #808000; text-decoration-color: #808000\">│</span>                     <span style=\"color: #ff0000; text-decoration-color: #ff0000\">│</span>\n",
       "<span style=\"color: #ff0000; text-decoration-color: #ff0000\">│</span> <span style=\"color: #808000; text-decoration-color: #808000\">│</span> timeout = <span style=\"color: #0000ff; text-decoration-color: #0000ff\">-1</span>                                                      <span style=\"color: #808000; text-decoration-color: #808000\">│</span>                     <span style=\"color: #ff0000; text-decoration-color: #ff0000\">│</span>\n",
       "<span style=\"color: #ff0000; text-decoration-color: #ff0000\">│</span> <span style=\"color: #808000; text-decoration-color: #808000\">╰───────────────────────────────────────────────────────────────────╯</span>                     <span style=\"color: #ff0000; text-decoration-color: #ff0000\">│</span>\n",
       "<span style=\"color: #ff0000; text-decoration-color: #ff0000\">╰───────────────────────────────────────────────────────────────────────────────────────────╯</span>\n",
       "<span style=\"color: #ff0000; text-decoration-color: #ff0000; font-weight: bold\">KeyboardInterrupt</span>\n",
       "</pre>\n"
      ],
      "text/plain": [
       "\u001b[91m╭─\u001b[0m\u001b[91m─────────────────────────── \u001b[0m\u001b[1;31mTraceback \u001b[0m\u001b[1;2;31m(most recent call last)\u001b[0m\u001b[91m ───────────────────────────\u001b[0m\u001b[91m─╮\u001b[0m\n",
       "\u001b[91m│\u001b[0m                                                                                           \u001b[91m│\u001b[0m\n",
       "\u001b[91m│\u001b[0m \u001b[2;33m/var/folders/t2/n8qztvk54892_y4rgslzz_wm0000gn/T/ipykernel_87690/\u001b[0m\u001b[1;33m571511349.py\u001b[0m:\u001b[94m11\u001b[0m in       \u001b[91m│\u001b[0m\n",
       "\u001b[91m│\u001b[0m \u001b[92m<module>\u001b[0m                                                                                  \u001b[91m│\u001b[0m\n",
       "\u001b[91m│\u001b[0m                                                                                           \u001b[91m│\u001b[0m\n",
       "\u001b[91m│\u001b[0m \u001b[3;31m[Errno 2] No such file or directory: \u001b[0m                                                     \u001b[91m│\u001b[0m\n",
       "\u001b[91m│\u001b[0m \u001b[3;31m'/var/folders/t2/n8qztvk54892_y4rgslzz_wm0000gn/T/ipykernel_87690/571511349.py'\u001b[0m           \u001b[91m│\u001b[0m\n",
       "\u001b[91m│\u001b[0m \u001b[2;33m/Users/thebes/Work/HUD/\u001b[0m\u001b[1;33mhud.py\u001b[0m:\u001b[94m541\u001b[0m in \u001b[92mkill_pow\u001b[0m                                             \u001b[91m│\u001b[0m\n",
       "\u001b[91m│\u001b[0m                                                                                           \u001b[91m│\u001b[0m\n",
       "\u001b[91m│\u001b[0m   \u001b[2m538 \u001b[0m\u001b[2m│   │   │   │   \u001b[0mlogger.info( \u001b[33m\"\u001b[0m\u001b[33mKilling PoW | target:\u001b[0m\u001b[33m{}\u001b[0m\u001b[33m \u001b[0m\u001b[33m\"\u001b[0m.format( tar ) )             \u001b[91m│\u001b[0m\n",
       "\u001b[91m│\u001b[0m   \u001b[2m539 \u001b[0m\u001b[2m│   │   │   │   \u001b[0mHUD._run( \u001b[96mself\u001b[0m.values, script = \u001b[33m\"\u001b[0m\u001b[33mpkill -f **h\u001b[0m\u001b[33m{}\u001b[0m\u001b[33m** & rm **h\u001b[0m\u001b[33m{}\u001b[0m\u001b[33m**\u001b[0m\u001b[33m\"\u001b[0m.for \u001b[91m│\u001b[0m\n",
       "\u001b[91m│\u001b[0m   \u001b[2m540 \u001b[0m\u001b[2m│   │   \u001b[0m\u001b[94melse\u001b[0m:                                                                       \u001b[91m│\u001b[0m\n",
       "\u001b[91m│\u001b[0m \u001b[31m❱ \u001b[0m541 \u001b[2m│   │   │   \u001b[0mHUD._run( \u001b[96mself\u001b[0m.values, script = \u001b[33m\"\u001b[0m\u001b[33mpkill -f pow.py & rm  pow_*\u001b[0m\u001b[33m\"\u001b[0m, disown = \u001b[91m│\u001b[0m\n",
       "\u001b[91m│\u001b[0m   \u001b[2m542 \u001b[0m\u001b[2m│   \u001b[0m                                                                                \u001b[91m│\u001b[0m\n",
       "\u001b[91m│\u001b[0m   \u001b[2m543 \u001b[0m\u001b[2m│   \u001b[0m                                                                                \u001b[91m│\u001b[0m\n",
       "\u001b[91m│\u001b[0m   \u001b[2m544 \u001b[0m\u001b[2m│   \u001b[0m\u001b[1;95m@staticmethod\u001b[0m                                                                   \u001b[91m│\u001b[0m\n",
       "\u001b[91m│\u001b[0m                                                                                           \u001b[91m│\u001b[0m\n",
       "\u001b[91m│\u001b[0m \u001b[33m╭─\u001b[0m\u001b[33m───────── locals ──────────\u001b[0m\u001b[33m─╮\u001b[0m                                                           \u001b[91m│\u001b[0m\n",
       "\u001b[91m│\u001b[0m \u001b[33m│\u001b[0m      disown = \u001b[94mFalse\u001b[0m         \u001b[33m│\u001b[0m                                                           \u001b[91m│\u001b[0m\n",
       "\u001b[91m│\u001b[0m \u001b[33m│\u001b[0m        hide = \u001b[94mTrue\u001b[0m          \u001b[33m│\u001b[0m                                                           \u001b[91m│\u001b[0m\n",
       "\u001b[91m│\u001b[0m \u001b[33m│\u001b[0m max_threads = \u001b[94m100000\u001b[0m        \u001b[33m│\u001b[0m                                                           \u001b[91m│\u001b[0m\n",
       "\u001b[91m│\u001b[0m \u001b[33m│\u001b[0m        self = \u001b[1m[\u001b[0m             \u001b[33m│\u001b[0m                                                           \u001b[91m│\u001b[0m\n",
       "\u001b[91m│\u001b[0m \u001b[33m│\u001b[0m               \u001b[2m│   \u001b[0m\u001b[1;35mN\u001b[0m\u001b[1m(\u001b[0mR-R10\u001b[1m)\u001b[0m, \u001b[33m│\u001b[0m                                                           \u001b[91m│\u001b[0m\n",
       "\u001b[91m│\u001b[0m \u001b[33m│\u001b[0m               \u001b[2m│   \u001b[0m\u001b[1;35mN\u001b[0m\u001b[1m(\u001b[0mR-R11\u001b[1m)\u001b[0m, \u001b[33m│\u001b[0m                                                           \u001b[91m│\u001b[0m\n",
       "\u001b[91m│\u001b[0m \u001b[33m│\u001b[0m               \u001b[2m│   \u001b[0m\u001b[1;35mN\u001b[0m\u001b[1m(\u001b[0mR-R12\u001b[1m)\u001b[0m, \u001b[33m│\u001b[0m                                                           \u001b[91m│\u001b[0m\n",
       "\u001b[91m│\u001b[0m \u001b[33m│\u001b[0m               \u001b[2m│   \u001b[0m\u001b[1;35mN\u001b[0m\u001b[1m(\u001b[0mR-R13\u001b[1m)\u001b[0m, \u001b[33m│\u001b[0m                                                           \u001b[91m│\u001b[0m\n",
       "\u001b[91m│\u001b[0m \u001b[33m│\u001b[0m               \u001b[2m│   \u001b[0m\u001b[1;35mN\u001b[0m\u001b[1m(\u001b[0mR-R14\u001b[1m)\u001b[0m, \u001b[33m│\u001b[0m                                                           \u001b[91m│\u001b[0m\n",
       "\u001b[91m│\u001b[0m \u001b[33m│\u001b[0m               \u001b[2m│   \u001b[0m\u001b[1;35mN\u001b[0m\u001b[1m(\u001b[0mR-R15\u001b[1m)\u001b[0m, \u001b[33m│\u001b[0m                                                           \u001b[91m│\u001b[0m\n",
       "\u001b[91m│\u001b[0m \u001b[33m│\u001b[0m               \u001b[2m│   \u001b[0m\u001b[1;35mN\u001b[0m\u001b[1m(\u001b[0mR-R16\u001b[1m)\u001b[0m, \u001b[33m│\u001b[0m                                                           \u001b[91m│\u001b[0m\n",
       "\u001b[91m│\u001b[0m \u001b[33m│\u001b[0m               \u001b[2m│   \u001b[0m\u001b[1;35mN\u001b[0m\u001b[1m(\u001b[0mR-R17\u001b[1m)\u001b[0m, \u001b[33m│\u001b[0m                                                           \u001b[91m│\u001b[0m\n",
       "\u001b[91m│\u001b[0m \u001b[33m│\u001b[0m               \u001b[2m│   \u001b[0m\u001b[1;35mN\u001b[0m\u001b[1m(\u001b[0mR-R18\u001b[1m)\u001b[0m, \u001b[33m│\u001b[0m                                                           \u001b[91m│\u001b[0m\n",
       "\u001b[91m│\u001b[0m \u001b[33m│\u001b[0m               \u001b[2m│   \u001b[0m\u001b[1;35mN\u001b[0m\u001b[1m(\u001b[0mR-R19\u001b[1m)\u001b[0m, \u001b[33m│\u001b[0m                                                           \u001b[91m│\u001b[0m\n",
       "\u001b[91m│\u001b[0m \u001b[33m│\u001b[0m               \u001b[2m│   \u001b[0m\u001b[33m...\u001b[0m +\u001b[94m280\u001b[0m  \u001b[33m│\u001b[0m                                                           \u001b[91m│\u001b[0m\n",
       "\u001b[91m│\u001b[0m \u001b[33m│\u001b[0m               \u001b[1m]\u001b[0m             \u001b[33m│\u001b[0m                                                           \u001b[91m│\u001b[0m\n",
       "\u001b[91m│\u001b[0m \u001b[33m│\u001b[0m     targets = \u001b[94mNone\u001b[0m          \u001b[33m│\u001b[0m                                                           \u001b[91m│\u001b[0m\n",
       "\u001b[91m│\u001b[0m \u001b[33m│\u001b[0m     timeout = \u001b[94m30\u001b[0m            \u001b[33m│\u001b[0m                                                           \u001b[91m│\u001b[0m\n",
       "\u001b[91m│\u001b[0m \u001b[33m│\u001b[0m        warn = \u001b[94mFalse\u001b[0m         \u001b[33m│\u001b[0m                                                           \u001b[91m│\u001b[0m\n",
       "\u001b[91m│\u001b[0m \u001b[33m╰─────────────────────────────╯\u001b[0m                                                           \u001b[91m│\u001b[0m\n",
       "\u001b[91m│\u001b[0m                                                                                           \u001b[91m│\u001b[0m\n",
       "\u001b[91m│\u001b[0m \u001b[2;33m/Users/thebes/Work/HUD/\u001b[0m\u001b[1;33mhud.py\u001b[0m:\u001b[94m325\u001b[0m in \u001b[92m_run\u001b[0m                                                 \u001b[91m│\u001b[0m\n",
       "\u001b[91m│\u001b[0m                                                                                           \u001b[91m│\u001b[0m\n",
       "\u001b[91m│\u001b[0m   \u001b[2m322 \u001b[0m\u001b[2m│   │   \u001b[0mfuts = []                                                                   \u001b[91m│\u001b[0m\n",
       "\u001b[91m│\u001b[0m   \u001b[2m323 \u001b[0m\u001b[2m│   │   \u001b[0m\u001b[94mwith\u001b[0m ThreadPoolExecutor(max_workers=\u001b[96mmin\u001b[0m(max_threads, \u001b[96mlen\u001b[0m(neurons))) \u001b[94mas\u001b[0m exec \u001b[91m│\u001b[0m\n",
       "\u001b[91m│\u001b[0m   \u001b[2m324 \u001b[0m\u001b[2m│   │   │   \u001b[0m\u001b[94mfor\u001b[0m n \u001b[95min\u001b[0m neurons:                                                       \u001b[91m│\u001b[0m\n",
       "\u001b[91m│\u001b[0m \u001b[31m❱ \u001b[0m325 \u001b[2m│   │   │   │   \u001b[0mfuts.append( (n, executor.submit(_run, n)) )                        \u001b[91m│\u001b[0m\n",
       "\u001b[91m│\u001b[0m   \u001b[2m326 \u001b[0m\u001b[2m│   │   \u001b[0mresults = HUDDict()                                                         \u001b[91m│\u001b[0m\n",
       "\u001b[91m│\u001b[0m   \u001b[2m327 \u001b[0m\u001b[2m│   │   \u001b[0m\u001b[94mfor\u001b[0m n, fut \u001b[95min\u001b[0m futs:                                                         \u001b[91m│\u001b[0m\n",
       "\u001b[91m│\u001b[0m   \u001b[2m328 \u001b[0m\u001b[2m│   │   │   \u001b[0m\u001b[94mtry\u001b[0m:                                                                    \u001b[91m│\u001b[0m\n",
       "\u001b[91m│\u001b[0m                                                                                           \u001b[91m│\u001b[0m\n",
       "\u001b[91m│\u001b[0m \u001b[33m╭─\u001b[0m\u001b[33m───────────────────────────────────── locals ─────────────────────────────────────\u001b[0m\u001b[33m─╮\u001b[0m    \u001b[91m│\u001b[0m\n",
       "\u001b[91m│\u001b[0m \u001b[33m│\u001b[0m        _run = \u001b[1m<\u001b[0m\u001b[1;95mfunction\u001b[0m\u001b[39m HUD._run.<locals\u001b[0m\u001b[1m>\u001b[0m._run at \u001b[94m0x1066471f0\u001b[0m>                     \u001b[33m│\u001b[0m    \u001b[91m│\u001b[0m\n",
       "\u001b[91m│\u001b[0m \u001b[33m│\u001b[0m      disown = \u001b[94mFalse\u001b[0m                                                                \u001b[33m│\u001b[0m    \u001b[91m│\u001b[0m\n",
       "\u001b[91m│\u001b[0m \u001b[33m│\u001b[0m    executor = \u001b[1m<\u001b[0m\u001b[1;95mconcurrent.futures.thread.ThreadPoolExecutor\u001b[0m\u001b[39m object at \u001b[0m\u001b[94m0x16a470be0\u001b[0m\u001b[1m>\u001b[0m \u001b[33m│\u001b[0m    \u001b[91m│\u001b[0m\n",
       "\u001b[91m│\u001b[0m \u001b[33m│\u001b[0m        futs = \u001b[1m[\u001b[0m                                                                    \u001b[33m│\u001b[0m    \u001b[91m│\u001b[0m\n",
       "\u001b[91m│\u001b[0m \u001b[33m│\u001b[0m               \u001b[2m│   \u001b[0m\u001b[1m(\u001b[0m                                                                \u001b[33m│\u001b[0m    \u001b[91m│\u001b[0m\n",
       "\u001b[91m│\u001b[0m \u001b[33m│\u001b[0m               \u001b[2m│   │   \u001b[0m\u001b[1;35mN\u001b[0m\u001b[1m(\u001b[0mR-R10\u001b[1m)\u001b[0m,                                                    \u001b[33m│\u001b[0m    \u001b[91m│\u001b[0m\n",
       "\u001b[91m│\u001b[0m \u001b[33m│\u001b[0m               \u001b[2m│   │   \u001b[0m\u001b[1m<\u001b[0m\u001b[1;95mFuture\u001b[0m\u001b[39m at \u001b[0m\u001b[94m0x169d1cc40\u001b[0m\u001b[39m \u001b[0m\u001b[33mstate\u001b[0m\u001b[39m=\u001b[0m\u001b[35mfinished\u001b[0m\u001b[39m returned str\u001b[0m\u001b[1m>\u001b[0m          \u001b[33m│\u001b[0m    \u001b[91m│\u001b[0m\n",
       "\u001b[91m│\u001b[0m \u001b[33m│\u001b[0m               \u001b[2m│   \u001b[0m\u001b[1m)\u001b[0m,                                                               \u001b[33m│\u001b[0m    \u001b[91m│\u001b[0m\n",
       "\u001b[91m│\u001b[0m \u001b[33m│\u001b[0m               \u001b[2m│   \u001b[0m\u001b[1m(\u001b[0m                                                                \u001b[33m│\u001b[0m    \u001b[91m│\u001b[0m\n",
       "\u001b[91m│\u001b[0m \u001b[33m│\u001b[0m               \u001b[2m│   │   \u001b[0m\u001b[1;35mN\u001b[0m\u001b[1m(\u001b[0mR-R11\u001b[1m)\u001b[0m,                                                    \u001b[33m│\u001b[0m    \u001b[91m│\u001b[0m\n",
       "\u001b[91m│\u001b[0m \u001b[33m│\u001b[0m               \u001b[2m│   │   \u001b[0m\u001b[1m<\u001b[0m\u001b[1;95mFuture\u001b[0m\u001b[39m at \u001b[0m\u001b[94m0x169d0bf10\u001b[0m\u001b[39m \u001b[0m\u001b[33mstate\u001b[0m\u001b[39m=\u001b[0m\u001b[35mfinished\u001b[0m\u001b[39m returned str\u001b[0m\u001b[1m>\u001b[0m          \u001b[33m│\u001b[0m    \u001b[91m│\u001b[0m\n",
       "\u001b[91m│\u001b[0m \u001b[33m│\u001b[0m               \u001b[2m│   \u001b[0m\u001b[1m)\u001b[0m,                                                               \u001b[33m│\u001b[0m    \u001b[91m│\u001b[0m\n",
       "\u001b[91m│\u001b[0m \u001b[33m│\u001b[0m               \u001b[2m│   \u001b[0m\u001b[1m(\u001b[0m                                                                \u001b[33m│\u001b[0m    \u001b[91m│\u001b[0m\n",
       "\u001b[91m│\u001b[0m \u001b[33m│\u001b[0m               \u001b[2m│   │   \u001b[0m\u001b[1;35mN\u001b[0m\u001b[1m(\u001b[0mR-R12\u001b[1m)\u001b[0m,                                                    \u001b[33m│\u001b[0m    \u001b[91m│\u001b[0m\n",
       "\u001b[91m│\u001b[0m \u001b[33m│\u001b[0m               \u001b[2m│   │   \u001b[0m\u001b[1m<\u001b[0m\u001b[1;95mFuture\u001b[0m\u001b[39m at \u001b[0m\u001b[94m0x16a16e550\u001b[0m\u001b[39m \u001b[0m\u001b[33mstate\u001b[0m\u001b[39m=\u001b[0m\u001b[35mfinished\u001b[0m\u001b[39m returned str\u001b[0m\u001b[1m>\u001b[0m          \u001b[33m│\u001b[0m    \u001b[91m│\u001b[0m\n",
       "\u001b[91m│\u001b[0m \u001b[33m│\u001b[0m               \u001b[2m│   \u001b[0m\u001b[1m)\u001b[0m,                                                               \u001b[33m│\u001b[0m    \u001b[91m│\u001b[0m\n",
       "\u001b[91m│\u001b[0m \u001b[33m│\u001b[0m               \u001b[2m│   \u001b[0m\u001b[1m(\u001b[0m                                                                \u001b[33m│\u001b[0m    \u001b[91m│\u001b[0m\n",
       "\u001b[91m│\u001b[0m \u001b[33m│\u001b[0m               \u001b[2m│   │   \u001b[0m\u001b[1;35mN\u001b[0m\u001b[1m(\u001b[0mR-R13\u001b[1m)\u001b[0m,                                                    \u001b[33m│\u001b[0m    \u001b[91m│\u001b[0m\n",
       "\u001b[91m│\u001b[0m \u001b[33m│\u001b[0m               \u001b[2m│   │   \u001b[0m\u001b[1m<\u001b[0m\u001b[1;95mFuture\u001b[0m\u001b[39m at \u001b[0m\u001b[94m0x16b2adbb0\u001b[0m\u001b[39m \u001b[0m\u001b[33mstate\u001b[0m\u001b[39m=\u001b[0m\u001b[35mfinished\u001b[0m\u001b[39m returned str\u001b[0m\u001b[1m>\u001b[0m          \u001b[33m│\u001b[0m    \u001b[91m│\u001b[0m\n",
       "\u001b[91m│\u001b[0m \u001b[33m│\u001b[0m               \u001b[2m│   \u001b[0m\u001b[1m)\u001b[0m,                                                               \u001b[33m│\u001b[0m    \u001b[91m│\u001b[0m\n",
       "\u001b[91m│\u001b[0m \u001b[33m│\u001b[0m               \u001b[2m│   \u001b[0m\u001b[1m(\u001b[0m                                                                \u001b[33m│\u001b[0m    \u001b[91m│\u001b[0m\n",
       "\u001b[91m│\u001b[0m \u001b[33m│\u001b[0m               \u001b[2m│   │   \u001b[0m\u001b[1;35mN\u001b[0m\u001b[1m(\u001b[0mR-R14\u001b[1m)\u001b[0m,                                                    \u001b[33m│\u001b[0m    \u001b[91m│\u001b[0m\n",
       "\u001b[91m│\u001b[0m \u001b[33m│\u001b[0m               \u001b[2m│   │   \u001b[0m\u001b[1m<\u001b[0m\u001b[1;95mFuture\u001b[0m\u001b[39m at \u001b[0m\u001b[94m0x16a2c7400\u001b[0m\u001b[39m \u001b[0m\u001b[33mstate\u001b[0m\u001b[39m=\u001b[0m\u001b[35mfinished\u001b[0m\u001b[39m returned str\u001b[0m\u001b[1m>\u001b[0m          \u001b[33m│\u001b[0m    \u001b[91m│\u001b[0m\n",
       "\u001b[91m│\u001b[0m \u001b[33m│\u001b[0m               \u001b[2m│   \u001b[0m\u001b[1m)\u001b[0m,                                                               \u001b[33m│\u001b[0m    \u001b[91m│\u001b[0m\n",
       "\u001b[91m│\u001b[0m \u001b[33m│\u001b[0m               \u001b[2m│   \u001b[0m\u001b[1m(\u001b[0m                                                                \u001b[33m│\u001b[0m    \u001b[91m│\u001b[0m\n",
       "\u001b[91m│\u001b[0m \u001b[33m│\u001b[0m               \u001b[2m│   │   \u001b[0m\u001b[1;35mN\u001b[0m\u001b[1m(\u001b[0mR-R15\u001b[1m)\u001b[0m,                                                    \u001b[33m│\u001b[0m    \u001b[91m│\u001b[0m\n",
       "\u001b[91m│\u001b[0m \u001b[33m│\u001b[0m               \u001b[2m│   │   \u001b[0m\u001b[1m<\u001b[0m\u001b[1;95mFuture\u001b[0m\u001b[39m at \u001b[0m\u001b[94m0x16abf5370\u001b[0m\u001b[39m \u001b[0m\u001b[33mstate\u001b[0m\u001b[39m=\u001b[0m\u001b[35mfinished\u001b[0m\u001b[39m returned str\u001b[0m\u001b[1m>\u001b[0m          \u001b[33m│\u001b[0m    \u001b[91m│\u001b[0m\n",
       "\u001b[91m│\u001b[0m \u001b[33m│\u001b[0m               \u001b[2m│   \u001b[0m\u001b[1m)\u001b[0m,                                                               \u001b[33m│\u001b[0m    \u001b[91m│\u001b[0m\n",
       "\u001b[91m│\u001b[0m \u001b[33m│\u001b[0m               \u001b[2m│   \u001b[0m\u001b[1m(\u001b[0m\u001b[1;35mN\u001b[0m\u001b[1m(\u001b[0mR-R16\u001b[1m)\u001b[0m, \u001b[1m<\u001b[0m\u001b[1;95mFuture\u001b[0m\u001b[39m at \u001b[0m\u001b[94m0x16a468280\u001b[0m\u001b[39m \u001b[0m\u001b[33mstate\u001b[0m\u001b[39m=\u001b[0m\u001b[35mrunning\u001b[0m\u001b[1m>\u001b[0m\u001b[1m)\u001b[0m,               \u001b[33m│\u001b[0m    \u001b[91m│\u001b[0m\n",
       "\u001b[91m│\u001b[0m \u001b[33m│\u001b[0m               \u001b[2m│   \u001b[0m\u001b[1m(\u001b[0m\u001b[1;35mN\u001b[0m\u001b[1m(\u001b[0mR-R17\u001b[1m)\u001b[0m, \u001b[1m<\u001b[0m\u001b[1;95mFuture\u001b[0m\u001b[39m at \u001b[0m\u001b[94m0x16b310e20\u001b[0m\u001b[39m \u001b[0m\u001b[33mstate\u001b[0m\u001b[39m=\u001b[0m\u001b[35mrunning\u001b[0m\u001b[1m>\u001b[0m\u001b[1m)\u001b[0m,               \u001b[33m│\u001b[0m    \u001b[91m│\u001b[0m\n",
       "\u001b[91m│\u001b[0m \u001b[33m│\u001b[0m               \u001b[2m│   \u001b[0m\u001b[1m(\u001b[0m\u001b[1;35mN\u001b[0m\u001b[1m(\u001b[0mR-R18\u001b[1m)\u001b[0m, \u001b[1m<\u001b[0m\u001b[1;95mFuture\u001b[0m\u001b[39m at \u001b[0m\u001b[94m0x16b413d90\u001b[0m\u001b[39m \u001b[0m\u001b[33mstate\u001b[0m\u001b[39m=\u001b[0m\u001b[35mrunning\u001b[0m\u001b[1m>\u001b[0m\u001b[1m)\u001b[0m,               \u001b[33m│\u001b[0m    \u001b[91m│\u001b[0m\n",
       "\u001b[91m│\u001b[0m \u001b[33m│\u001b[0m               \u001b[2m│   \u001b[0m\u001b[1m(\u001b[0m                                                                \u001b[33m│\u001b[0m    \u001b[91m│\u001b[0m\n",
       "\u001b[91m│\u001b[0m \u001b[33m│\u001b[0m               \u001b[2m│   │   \u001b[0m\u001b[1;35mN\u001b[0m\u001b[1m(\u001b[0mR-R19\u001b[1m)\u001b[0m,                                                    \u001b[33m│\u001b[0m    \u001b[91m│\u001b[0m\n",
       "\u001b[91m│\u001b[0m \u001b[33m│\u001b[0m               \u001b[2m│   │   \u001b[0m\u001b[1m<\u001b[0m\u001b[1;95mFuture\u001b[0m\u001b[39m at \u001b[0m\u001b[94m0x16a477df0\u001b[0m\u001b[39m \u001b[0m\u001b[33mstate\u001b[0m\u001b[39m=\u001b[0m\u001b[35mfinished\u001b[0m\u001b[39m returned str\u001b[0m\u001b[1m>\u001b[0m          \u001b[33m│\u001b[0m    \u001b[91m│\u001b[0m\n",
       "\u001b[91m│\u001b[0m \u001b[33m│\u001b[0m               \u001b[2m│   \u001b[0m\u001b[1m)\u001b[0m,                                                               \u001b[33m│\u001b[0m    \u001b[91m│\u001b[0m\n",
       "\u001b[91m│\u001b[0m \u001b[33m│\u001b[0m               \u001b[2m│   \u001b[0m\u001b[33m...\u001b[0m +\u001b[94m280\u001b[0m                                                         \u001b[33m│\u001b[0m    \u001b[91m│\u001b[0m\n",
       "\u001b[91m│\u001b[0m \u001b[33m│\u001b[0m               \u001b[1m]\u001b[0m                                                                    \u001b[33m│\u001b[0m    \u001b[91m│\u001b[0m\n",
       "\u001b[91m│\u001b[0m \u001b[33m│\u001b[0m        hide = \u001b[94mTrue\u001b[0m                                                                 \u001b[33m│\u001b[0m    \u001b[91m│\u001b[0m\n",
       "\u001b[91m│\u001b[0m \u001b[33m│\u001b[0m   is_script = \u001b[94mTrue\u001b[0m                                                                 \u001b[33m│\u001b[0m    \u001b[91m│\u001b[0m\n",
       "\u001b[91m│\u001b[0m \u001b[33m│\u001b[0m max_threads = \u001b[94m100000\u001b[0m                                                               \u001b[33m│\u001b[0m    \u001b[91m│\u001b[0m\n",
       "\u001b[91m│\u001b[0m \u001b[33m│\u001b[0m           n = \u001b[1;35mN\u001b[0m\u001b[1m(\u001b[0mR-R299\u001b[1m)\u001b[0m                                                            \u001b[33m│\u001b[0m    \u001b[91m│\u001b[0m\n",
       "\u001b[91m│\u001b[0m \u001b[33m│\u001b[0m     neurons = \u001b[1m[\u001b[0m                                                                    \u001b[33m│\u001b[0m    \u001b[91m│\u001b[0m\n",
       "\u001b[91m│\u001b[0m \u001b[33m│\u001b[0m               \u001b[2m│   \u001b[0m\u001b[1;35mN\u001b[0m\u001b[1m(\u001b[0mR-R10\u001b[1m)\u001b[0m,                                                        \u001b[33m│\u001b[0m    \u001b[91m│\u001b[0m\n",
       "\u001b[91m│\u001b[0m \u001b[33m│\u001b[0m               \u001b[2m│   \u001b[0m\u001b[1;35mN\u001b[0m\u001b[1m(\u001b[0mR-R11\u001b[1m)\u001b[0m,                                                        \u001b[33m│\u001b[0m    \u001b[91m│\u001b[0m\n",
       "\u001b[91m│\u001b[0m \u001b[33m│\u001b[0m               \u001b[2m│   \u001b[0m\u001b[1;35mN\u001b[0m\u001b[1m(\u001b[0mR-R12\u001b[1m)\u001b[0m,                                                        \u001b[33m│\u001b[0m    \u001b[91m│\u001b[0m\n",
       "\u001b[91m│\u001b[0m \u001b[33m│\u001b[0m               \u001b[2m│   \u001b[0m\u001b[1;35mN\u001b[0m\u001b[1m(\u001b[0mR-R13\u001b[1m)\u001b[0m,                                                        \u001b[33m│\u001b[0m    \u001b[91m│\u001b[0m\n",
       "\u001b[91m│\u001b[0m \u001b[33m│\u001b[0m               \u001b[2m│   \u001b[0m\u001b[1;35mN\u001b[0m\u001b[1m(\u001b[0mR-R14\u001b[1m)\u001b[0m,                                                        \u001b[33m│\u001b[0m    \u001b[91m│\u001b[0m\n",
       "\u001b[91m│\u001b[0m \u001b[33m│\u001b[0m               \u001b[2m│   \u001b[0m\u001b[1;35mN\u001b[0m\u001b[1m(\u001b[0mR-R15\u001b[1m)\u001b[0m,                                                        \u001b[33m│\u001b[0m    \u001b[91m│\u001b[0m\n",
       "\u001b[91m│\u001b[0m \u001b[33m│\u001b[0m               \u001b[2m│   \u001b[0m\u001b[1;35mN\u001b[0m\u001b[1m(\u001b[0mR-R16\u001b[1m)\u001b[0m,                                                        \u001b[33m│\u001b[0m    \u001b[91m│\u001b[0m\n",
       "\u001b[91m│\u001b[0m \u001b[33m│\u001b[0m               \u001b[2m│   \u001b[0m\u001b[1;35mN\u001b[0m\u001b[1m(\u001b[0mR-R17\u001b[1m)\u001b[0m,                                                        \u001b[33m│\u001b[0m    \u001b[91m│\u001b[0m\n",
       "\u001b[91m│\u001b[0m \u001b[33m│\u001b[0m               \u001b[2m│   \u001b[0m\u001b[1;35mN\u001b[0m\u001b[1m(\u001b[0mR-R18\u001b[1m)\u001b[0m,                                                        \u001b[33m│\u001b[0m    \u001b[91m│\u001b[0m\n",
       "\u001b[91m│\u001b[0m \u001b[33m│\u001b[0m               \u001b[2m│   \u001b[0m\u001b[1;35mN\u001b[0m\u001b[1m(\u001b[0mR-R19\u001b[1m)\u001b[0m,                                                        \u001b[33m│\u001b[0m    \u001b[91m│\u001b[0m\n",
       "\u001b[91m│\u001b[0m \u001b[33m│\u001b[0m               \u001b[2m│   \u001b[0m\u001b[33m...\u001b[0m +\u001b[94m280\u001b[0m                                                         \u001b[33m│\u001b[0m    \u001b[91m│\u001b[0m\n",
       "\u001b[91m│\u001b[0m \u001b[33m│\u001b[0m               \u001b[1m]\u001b[0m                                                                    \u001b[33m│\u001b[0m    \u001b[91m│\u001b[0m\n",
       "\u001b[91m│\u001b[0m \u001b[33m│\u001b[0m     results = \u001b[1m{\u001b[0m\u001b[1m}\u001b[0m                                                                   \u001b[33m│\u001b[0m    \u001b[91m│\u001b[0m\n",
       "\u001b[91m│\u001b[0m \u001b[33m│\u001b[0m      script = \u001b[33m'pkill -f pow.py & rm  pow_*'\u001b[0m                                        \u001b[33m│\u001b[0m    \u001b[91m│\u001b[0m\n",
       "\u001b[91m│\u001b[0m \u001b[33m│\u001b[0m      stdout = \u001b[94mTrue\u001b[0m                                                                 \u001b[33m│\u001b[0m    \u001b[91m│\u001b[0m\n",
       "\u001b[91m│\u001b[0m \u001b[33m│\u001b[0m        tbar = \u001b[1m<\u001b[0m\u001b[1;95mtqdm.std.tqdm\u001b[0m\u001b[39m object at \u001b[0m\u001b[94m0x169d1cd30\u001b[0m\u001b[1m>\u001b[0m                                \u001b[33m│\u001b[0m    \u001b[91m│\u001b[0m\n",
       "\u001b[91m│\u001b[0m \u001b[33m│\u001b[0m     timeout = \u001b[94m30\u001b[0m                                                                   \u001b[33m│\u001b[0m    \u001b[91m│\u001b[0m\n",
       "\u001b[91m│\u001b[0m \u001b[33m│\u001b[0m        warn = \u001b[94mFalse\u001b[0m                                                                \u001b[33m│\u001b[0m    \u001b[91m│\u001b[0m\n",
       "\u001b[91m│\u001b[0m \u001b[33m╰────────────────────────────────────────────────────────────────────────────────────╯\u001b[0m    \u001b[91m│\u001b[0m\n",
       "\u001b[91m│\u001b[0m                                                                                           \u001b[91m│\u001b[0m\n",
       "\u001b[91m│\u001b[0m \u001b[2;33m/opt/homebrew/Cellar/python@3.9/3.9.12/Frameworks/Python.framework/Versions/3.9/lib/pytho\u001b[0m \u001b[91m│\u001b[0m\n",
       "\u001b[91m│\u001b[0m \u001b[2;33mn3.9/concurrent/futures/\u001b[0m\u001b[1;33m_base.py\u001b[0m:\u001b[94m637\u001b[0m in \u001b[92m__exit__\u001b[0m                                          \u001b[91m│\u001b[0m\n",
       "\u001b[91m│\u001b[0m                                                                                           \u001b[91m│\u001b[0m\n",
       "\u001b[91m│\u001b[0m   \u001b[2m634 \u001b[0m\u001b[2m│   │   \u001b[0m\u001b[94mreturn\u001b[0m \u001b[96mself\u001b[0m                                                                 \u001b[91m│\u001b[0m\n",
       "\u001b[91m│\u001b[0m   \u001b[2m635 \u001b[0m\u001b[2m│   \u001b[0m                                                                                \u001b[91m│\u001b[0m\n",
       "\u001b[91m│\u001b[0m   \u001b[2m636 \u001b[0m\u001b[2m│   \u001b[0m\u001b[94mdef\u001b[0m \u001b[92m__exit__\u001b[0m(\u001b[96mself\u001b[0m, exc_type, exc_val, exc_tb):                                  \u001b[91m│\u001b[0m\n",
       "\u001b[91m│\u001b[0m \u001b[31m❱ \u001b[0m637 \u001b[2m│   │   \u001b[0m\u001b[96mself\u001b[0m.shutdown(wait=\u001b[94mTrue\u001b[0m)                                                    \u001b[91m│\u001b[0m\n",
       "\u001b[91m│\u001b[0m   \u001b[2m638 \u001b[0m\u001b[2m│   │   \u001b[0m\u001b[94mreturn\u001b[0m \u001b[94mFalse\u001b[0m                                                                \u001b[91m│\u001b[0m\n",
       "\u001b[91m│\u001b[0m   \u001b[2m639 \u001b[0m                                                                                    \u001b[91m│\u001b[0m\n",
       "\u001b[91m│\u001b[0m   \u001b[2m640 \u001b[0m                                                                                    \u001b[91m│\u001b[0m\n",
       "\u001b[91m│\u001b[0m                                                                                           \u001b[91m│\u001b[0m\n",
       "\u001b[91m│\u001b[0m \u001b[33m╭─\u001b[0m\u001b[33m─────────────────────────────────── locals ────────────────────────────────────\u001b[0m\u001b[33m─╮\u001b[0m       \u001b[91m│\u001b[0m\n",
       "\u001b[91m│\u001b[0m \u001b[33m│\u001b[0m   exc_tb = \u001b[94mNone\u001b[0m                                                                 \u001b[33m│\u001b[0m       \u001b[91m│\u001b[0m\n",
       "\u001b[91m│\u001b[0m \u001b[33m│\u001b[0m exc_type = \u001b[94mNone\u001b[0m                                                                 \u001b[33m│\u001b[0m       \u001b[91m│\u001b[0m\n",
       "\u001b[91m│\u001b[0m \u001b[33m│\u001b[0m  exc_val = \u001b[94mNone\u001b[0m                                                                 \u001b[33m│\u001b[0m       \u001b[91m│\u001b[0m\n",
       "\u001b[91m│\u001b[0m \u001b[33m│\u001b[0m     self = \u001b[1m<\u001b[0m\u001b[1;95mconcurrent.futures.thread.ThreadPoolExecutor\u001b[0m\u001b[39m object at \u001b[0m\u001b[94m0x16a470be0\u001b[0m\u001b[1m>\u001b[0m \u001b[33m│\u001b[0m       \u001b[91m│\u001b[0m\n",
       "\u001b[91m│\u001b[0m \u001b[33m╰─────────────────────────────────────────────────────────────────────────────────╯\u001b[0m       \u001b[91m│\u001b[0m\n",
       "\u001b[91m│\u001b[0m                                                                                           \u001b[91m│\u001b[0m\n",
       "\u001b[91m│\u001b[0m \u001b[2;33m/opt/homebrew/Cellar/python@3.9/3.9.12/Frameworks/Python.framework/Versions/3.9/lib/pytho\u001b[0m \u001b[91m│\u001b[0m\n",
       "\u001b[91m│\u001b[0m \u001b[2;33mn3.9/concurrent/futures/\u001b[0m\u001b[1;33mthread.py\u001b[0m:\u001b[94m235\u001b[0m in \u001b[92mshutdown\u001b[0m                                         \u001b[91m│\u001b[0m\n",
       "\u001b[91m│\u001b[0m                                                                                           \u001b[91m│\u001b[0m\n",
       "\u001b[91m│\u001b[0m   \u001b[2m232 \u001b[0m\u001b[2m│   │   │   \u001b[0m\u001b[96mself\u001b[0m._work_queue.put(\u001b[94mNone\u001b[0m)                                              \u001b[91m│\u001b[0m\n",
       "\u001b[91m│\u001b[0m   \u001b[2m233 \u001b[0m\u001b[2m│   │   \u001b[0m\u001b[94mif\u001b[0m wait:                                                                    \u001b[91m│\u001b[0m\n",
       "\u001b[91m│\u001b[0m   \u001b[2m234 \u001b[0m\u001b[2m│   │   │   \u001b[0m\u001b[94mfor\u001b[0m t \u001b[95min\u001b[0m \u001b[96mself\u001b[0m._threads:                                                 \u001b[91m│\u001b[0m\n",
       "\u001b[91m│\u001b[0m \u001b[31m❱ \u001b[0m235 \u001b[2m│   │   │   │   \u001b[0mt.join()                                                            \u001b[91m│\u001b[0m\n",
       "\u001b[91m│\u001b[0m   \u001b[2m236 \u001b[0m\u001b[2m│   \u001b[0mshutdown.\u001b[91m__doc__\u001b[0m = _base.Executor.shutdown.\u001b[91m__doc__\u001b[0m                              \u001b[91m│\u001b[0m\n",
       "\u001b[91m│\u001b[0m   \u001b[2m237 \u001b[0m                                                                                    \u001b[91m│\u001b[0m\n",
       "\u001b[91m│\u001b[0m                                                                                           \u001b[91m│\u001b[0m\n",
       "\u001b[91m│\u001b[0m \u001b[33m╭─\u001b[0m\u001b[33m────────────────────────────────────── locals ───────────────────────────────────────\u001b[0m\u001b[33m─╮\u001b[0m \u001b[91m│\u001b[0m\n",
       "\u001b[91m│\u001b[0m \u001b[33m│\u001b[0m cancel_futures = \u001b[94mFalse\u001b[0m                                                                \u001b[33m│\u001b[0m \u001b[91m│\u001b[0m\n",
       "\u001b[91m│\u001b[0m \u001b[33m│\u001b[0m           self = \u001b[1m<\u001b[0m\u001b[1;95mconcurrent.futures.thread.ThreadPoolExecutor\u001b[0m\u001b[39m object at \u001b[0m\u001b[94m0x16a470be0\u001b[0m\u001b[1m>\u001b[0m \u001b[33m│\u001b[0m \u001b[91m│\u001b[0m\n",
       "\u001b[91m│\u001b[0m \u001b[33m│\u001b[0m              t = \u001b[1m<\u001b[0m\u001b[1;35mThread\u001b[0m\u001b[1;39m(\u001b[0m\u001b[39mThreadPoolExecutor-32_53, stopped \u001b[0m\u001b[94m11662848000\u001b[0m\u001b[1;39m)\u001b[0m\u001b[1m>\u001b[0m              \u001b[33m│\u001b[0m \u001b[91m│\u001b[0m\n",
       "\u001b[91m│\u001b[0m \u001b[33m│\u001b[0m           wait = \u001b[94mTrue\u001b[0m                                                                 \u001b[33m│\u001b[0m \u001b[91m│\u001b[0m\n",
       "\u001b[91m│\u001b[0m \u001b[33m╰───────────────────────────────────────────────────────────────────────────────────────╯\u001b[0m \u001b[91m│\u001b[0m\n",
       "\u001b[91m│\u001b[0m                                                                                           \u001b[91m│\u001b[0m\n",
       "\u001b[91m│\u001b[0m \u001b[2;33m/opt/homebrew/Cellar/python@3.9/3.9.12/Frameworks/Python.framework/Versions/3.9/lib/pytho\u001b[0m \u001b[91m│\u001b[0m\n",
       "\u001b[91m│\u001b[0m \u001b[2;33mn3.9/\u001b[0m\u001b[1;33mthreading.py\u001b[0m:\u001b[94m1053\u001b[0m in \u001b[92mjoin\u001b[0m                                                            \u001b[91m│\u001b[0m\n",
       "\u001b[91m│\u001b[0m                                                                                           \u001b[91m│\u001b[0m\n",
       "\u001b[91m│\u001b[0m   \u001b[2m1050 \u001b[0m\u001b[2m│   │   │   \u001b[0m\u001b[94mraise\u001b[0m \u001b[96mRuntimeError\u001b[0m(\u001b[33m\"\u001b[0m\u001b[33mcannot join current thread\u001b[0m\u001b[33m\"\u001b[0m)                       \u001b[91m│\u001b[0m\n",
       "\u001b[91m│\u001b[0m   \u001b[2m1051 \u001b[0m\u001b[2m│   │   \u001b[0m                                                                           \u001b[91m│\u001b[0m\n",
       "\u001b[91m│\u001b[0m   \u001b[2m1052 \u001b[0m\u001b[2m│   │   \u001b[0m\u001b[94mif\u001b[0m timeout \u001b[95mis\u001b[0m \u001b[94mNone\u001b[0m:                                                        \u001b[91m│\u001b[0m\n",
       "\u001b[91m│\u001b[0m \u001b[31m❱ \u001b[0m1053 \u001b[2m│   │   │   \u001b[0m\u001b[96mself\u001b[0m._wait_for_tstate_lock()                                           \u001b[91m│\u001b[0m\n",
       "\u001b[91m│\u001b[0m   \u001b[2m1054 \u001b[0m\u001b[2m│   │   \u001b[0m\u001b[94melse\u001b[0m:                                                                      \u001b[91m│\u001b[0m\n",
       "\u001b[91m│\u001b[0m   \u001b[2m1055 \u001b[0m\u001b[2m│   │   │   \u001b[0m\u001b[2m# the behavior of a negative timeout isn't documented, but\u001b[0m             \u001b[91m│\u001b[0m\n",
       "\u001b[91m│\u001b[0m   \u001b[2m1056 \u001b[0m\u001b[2m│   │   │   \u001b[0m\u001b[2m# historically .join(timeout=x) for x<0 has acted as if timeout=0\u001b[0m      \u001b[91m│\u001b[0m\n",
       "\u001b[91m│\u001b[0m                                                                                           \u001b[91m│\u001b[0m\n",
       "\u001b[91m│\u001b[0m \u001b[33m╭─\u001b[0m\u001b[33m──────────────────────────── locals ─────────────────────────────\u001b[0m\u001b[33m─╮\u001b[0m                     \u001b[91m│\u001b[0m\n",
       "\u001b[91m│\u001b[0m \u001b[33m│\u001b[0m    self = \u001b[1m<\u001b[0m\u001b[1;35mThread\u001b[0m\u001b[1;39m(\u001b[0m\u001b[39mThreadPoolExecutor-32_53, stopped \u001b[0m\u001b[94m11662848000\u001b[0m\u001b[1;39m)\u001b[0m\u001b[1m>\u001b[0m \u001b[33m│\u001b[0m                     \u001b[91m│\u001b[0m\n",
       "\u001b[91m│\u001b[0m \u001b[33m│\u001b[0m timeout = \u001b[94mNone\u001b[0m                                                    \u001b[33m│\u001b[0m                     \u001b[91m│\u001b[0m\n",
       "\u001b[91m│\u001b[0m \u001b[33m╰───────────────────────────────────────────────────────────────────╯\u001b[0m                     \u001b[91m│\u001b[0m\n",
       "\u001b[91m│\u001b[0m                                                                                           \u001b[91m│\u001b[0m\n",
       "\u001b[91m│\u001b[0m \u001b[2;33m/opt/homebrew/Cellar/python@3.9/3.9.12/Frameworks/Python.framework/Versions/3.9/lib/pytho\u001b[0m \u001b[91m│\u001b[0m\n",
       "\u001b[91m│\u001b[0m \u001b[2;33mn3.9/\u001b[0m\u001b[1;33mthreading.py\u001b[0m:\u001b[94m1073\u001b[0m in \u001b[92m_wait_for_tstate_lock\u001b[0m                                           \u001b[91m│\u001b[0m\n",
       "\u001b[91m│\u001b[0m                                                                                           \u001b[91m│\u001b[0m\n",
       "\u001b[91m│\u001b[0m   \u001b[2m1070 \u001b[0m\u001b[2m│   │   │   \u001b[0m\u001b[94mreturn\u001b[0m                                                                 \u001b[91m│\u001b[0m\n",
       "\u001b[91m│\u001b[0m   \u001b[2m1071 \u001b[0m\u001b[2m│   │   \u001b[0m                                                                           \u001b[91m│\u001b[0m\n",
       "\u001b[91m│\u001b[0m   \u001b[2m1072 \u001b[0m\u001b[2m│   │   \u001b[0m\u001b[94mtry\u001b[0m:                                                                       \u001b[91m│\u001b[0m\n",
       "\u001b[91m│\u001b[0m \u001b[31m❱ \u001b[0m1073 \u001b[2m│   │   │   \u001b[0m\u001b[94mif\u001b[0m lock.acquire(block, timeout):                                       \u001b[91m│\u001b[0m\n",
       "\u001b[91m│\u001b[0m   \u001b[2m1074 \u001b[0m\u001b[2m│   │   │   │   \u001b[0mlock.release()                                                     \u001b[91m│\u001b[0m\n",
       "\u001b[91m│\u001b[0m   \u001b[2m1075 \u001b[0m\u001b[2m│   │   │   │   \u001b[0m\u001b[96mself\u001b[0m._stop()                                                       \u001b[91m│\u001b[0m\n",
       "\u001b[91m│\u001b[0m   \u001b[2m1076 \u001b[0m\u001b[2m│   │   \u001b[0m\u001b[94mexcept\u001b[0m:                                                                    \u001b[91m│\u001b[0m\n",
       "\u001b[91m│\u001b[0m                                                                                           \u001b[91m│\u001b[0m\n",
       "\u001b[91m│\u001b[0m \u001b[33m╭─\u001b[0m\u001b[33m──────────────────────────── locals ─────────────────────────────\u001b[0m\u001b[33m─╮\u001b[0m                     \u001b[91m│\u001b[0m\n",
       "\u001b[91m│\u001b[0m \u001b[33m│\u001b[0m   block = \u001b[94mTrue\u001b[0m                                                    \u001b[33m│\u001b[0m                     \u001b[91m│\u001b[0m\n",
       "\u001b[91m│\u001b[0m \u001b[33m│\u001b[0m    lock = \u001b[1m<\u001b[0m\u001b[1;95munlocked\u001b[0m\u001b[39m _thread.lock object at \u001b[0m\u001b[94m0x16a5fe390\u001b[0m\u001b[1m>\u001b[0m           \u001b[33m│\u001b[0m                     \u001b[91m│\u001b[0m\n",
       "\u001b[91m│\u001b[0m \u001b[33m│\u001b[0m    self = \u001b[1m<\u001b[0m\u001b[1;35mThread\u001b[0m\u001b[1;39m(\u001b[0m\u001b[39mThreadPoolExecutor-32_53, stopped \u001b[0m\u001b[94m11662848000\u001b[0m\u001b[1;39m)\u001b[0m\u001b[1m>\u001b[0m \u001b[33m│\u001b[0m                     \u001b[91m│\u001b[0m\n",
       "\u001b[91m│\u001b[0m \u001b[33m│\u001b[0m timeout = \u001b[94m-1\u001b[0m                                                      \u001b[33m│\u001b[0m                     \u001b[91m│\u001b[0m\n",
       "\u001b[91m│\u001b[0m \u001b[33m╰───────────────────────────────────────────────────────────────────╯\u001b[0m                     \u001b[91m│\u001b[0m\n",
       "\u001b[91m╰───────────────────────────────────────────────────────────────────────────────────────────╯\u001b[0m\n",
       "\u001b[1;91mKeyboardInterrupt\u001b[0m\n"
      ]
     },
     "metadata": {},
     "output_type": "display_data"
    }
   ],
   "source": [
    "import time\n",
    "miners = R[:10]\n",
    "pow_workers = R[10:]\n",
    "while True:\n",
    "    try:\n",
    "        print(\"Starting\")\n",
    "        for r in miners:\n",
    "            print( \"Monitoring: {}\".format(r) )\n",
    "            if not r.is_registered():\n",
    "                print( \"{} is not registered\".format(r) )\n",
    "                pow_workers.kill_pow()\n",
    "                print( \"Killing pow: {}\".format( pow_workers ) )\n",
    "                pow_workers.pow( r )\n",
    "                print( \"Starting pow: {}\".format( pow_workers ) )\n",
    "                while True:\n",
    "                    if r.is_registered():\n",
    "                        print( \"{} was just registered\".format(r) )\n",
    "                        break\n",
    "                    else:\n",
    "                        print( \"Waiting ... \" )\n",
    "                        time.sleep(60)\n",
    "                pow_workers.kill_pow( r )\n",
    "            else:\n",
    "                print( \"{} is registered\".format(r) )\n",
    "            \n",
    "            if not r.is_running():\n",
    "                print( \"{} is not running\".format(r) )\n",
    "                r.start()\n",
    "                print( \"{} is running\".format(r) )\n",
    "            else:\n",
    "                print( \"{} is running\".format(r) )\n",
    "\n",
    "    except Exception as e:\n",
    "        print ( e )\n"
   ]
  },
  {
   "cell_type": "code",
   "execution_count": 22,
   "metadata": {},
   "outputs": [
    {
     "name": "stderr",
     "output_type": "stream",
     "text": [
      "Running: pkill -f pow.py & rm  pow_*: 100%|██████████| 300/300 [00:03<00:00, 78.13it/s] \n"
     ]
    }
   ],
   "source": [
    "R.kill_pow()"
   ]
  },
  {
   "cell_type": "code",
   "execution_count": 20,
   "metadata": {},
   "outputs": [
    {
     "name": "stdout",
     "output_type": "stream",
     "text": [
      "{'R-R3': 23908170, 'R-R4': 23814192, 'R-R0': 24054280, 'R-R1': 24032298, 'R-R2': 24103308}\n"
     ]
    }
   ],
   "source": [
    "\n",
    "\n",
    "totals = {}\n",
    "for dic in result.values():\n",
    "    for key, value in dic.items():\n",
    "        if key not in totals: totals[key] = 0\n",
    "        totals[key] += value\n",
    "\n",
    "print(totals)\n",
    "\n"
   ]
  },
  {
   "cell_type": "code",
   "execution_count": 17,
   "metadata": {},
   "outputs": [
    {
     "name": "stderr",
     "output_type": "stream",
     "text": [
      "Running: <function HUD._iters.<locals>.get_total_iters at 0x1747d03a0>: 100%|██████████| 300/300 [00:23<00:00, 12.61it/s]  \n"
     ]
    }
   ],
   "source": [
    "result = R.iters()"
   ]
  },
  {
   "cell_type": "code",
   "execution_count": 14,
   "metadata": {},
   "outputs": [
    {
     "data": {
      "text/html": [
       "<pre style=\"white-space:pre;overflow-x:auto;line-height:normal;font-family:Menlo,'DejaVu Sans Mono',consolas,'Courier New',monospace\"><span style=\"color: #800000; text-decoration-color: #800000\">╭───────────────────────────────────────────────────────────────────────────────────────────╮</span>\n",
       "<span style=\"color: #800000; text-decoration-color: #800000\">│</span> <span style=\"color: #bfbf7f; text-decoration-color: #bfbf7f\"> /var/folders/t2/n8qztvk54892_y4rgslzz_wm0000gn/T/ipykernel_86550/</span><span style=\"color: #808000; text-decoration-color: #808000; font-weight: bold\">2766222198.py</span><span style=\"font-weight: bold\">:</span><span style=\"color: #0000ff; text-decoration-color: #0000ff; font-weight: bold\">1</span>         <span style=\"color: #800000; text-decoration-color: #800000\">│</span>\n",
       "<span style=\"color: #800000; text-decoration-color: #800000\">│</span> miners = R<span style=\"font-weight: bold\">[</span>:<span style=\"color: #0000ff; text-decoration-color: #0000ff\">5</span><span style=\"font-weight: bold\">]</span>:                                                                           <span style=\"color: #800000; text-decoration-color: #800000\">│</span>\n",
       "<span style=\"color: #800000; text-decoration-color: #800000\">│</span>               <span style=\"color: #ff0000; text-decoration-color: #ff0000; font-weight: bold\">▲</span>                                                                           <span style=\"color: #800000; text-decoration-color: #800000\">│</span>\n",
       "<span style=\"color: #800000; text-decoration-color: #800000\">╰───────────────────────────────────────────────────────────────────────────────────────────╯</span>\n",
       "<span style=\"color: #ff0000; text-decoration-color: #ff0000; font-weight: bold\">SyntaxError: </span>invalid syntax\n",
       "</pre>\n"
      ],
      "text/plain": [
       "\u001b[31m╭───────────────────────────────────────────────────────────────────────────────────────────╮\u001b[0m\n",
       "\u001b[31m│\u001b[0m \u001b[2;33m /var/folders/t2/n8qztvk54892_y4rgslzz_wm0000gn/T/ipykernel_86550/\u001b[0m\u001b[1;33m2766222198.py\u001b[0m\u001b[1m:\u001b[0m\u001b[1;94m1\u001b[0m         \u001b[31m│\u001b[0m\n",
       "\u001b[31m│\u001b[0m miners = R\u001b[1m[\u001b[0m:\u001b[94m5\u001b[0m\u001b[1m]\u001b[0m:                                                                           \u001b[31m│\u001b[0m\n",
       "\u001b[31m│\u001b[0m               \u001b[1;91m▲\u001b[0m                                                                           \u001b[31m│\u001b[0m\n",
       "\u001b[31m╰───────────────────────────────────────────────────────────────────────────────────────────╯\u001b[0m\n",
       "\u001b[1;91mSyntaxError: \u001b[0minvalid syntax\n"
      ]
     },
     "metadata": {},
     "output_type": "display_data"
    }
   ],
   "source": [
    "\n"
   ]
  },
  {
   "cell_type": "code",
   "execution_count": null,
   "metadata": {},
   "outputs": [],
   "source": []
  }
 ],
 "metadata": {
  "interpreter": {
   "hash": "b0fa6594d8f4cbf19f97940f81e996739fb7646882a419484c72d19e05852a7e"
  },
  "kernelspec": {
   "display_name": "Python 3.9.12 64-bit",
   "language": "python",
   "name": "python3"
  },
  "language_info": {
   "codemirror_mode": {
    "name": "ipython",
    "version": 3
   },
   "file_extension": ".py",
   "mimetype": "text/x-python",
   "name": "python",
   "nbconvert_exporter": "python",
   "pygments_lexer": "ipython3",
   "version": "3.9.12"
  },
  "orig_nbformat": 4
 },
 "nbformat": 4,
 "nbformat_minor": 2
}
