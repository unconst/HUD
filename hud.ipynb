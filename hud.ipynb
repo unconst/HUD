{
 "cells": [
  {
   "cell_type": "code",
   "execution_count": 1,
   "metadata": {},
   "outputs": [],
   "source": [
    "from hud import HUD\n",
    "R = HUD.load_from_config(project=\"R\")\n"
   ]
  },
  {
   "cell_type": "code",
   "execution_count": 14,
   "metadata": {},
   "outputs": [
    {
     "name": "stderr",
     "output_type": "stream",
     "text": [
      "Running: <function HUD._is_registered.<locals>.__get_is_registered at 0x11d378c10>: 100%|██████████| 10/10 [00:03<00:00,  2.60it/s]\n"
     ]
    },
    {
     "data": {
      "text/html": [
       "<pre style=\"white-space:pre;overflow-x:auto;line-height:normal;font-family:Menlo,'DejaVu Sans Mono',consolas,'Courier New',monospace\">\n",
       "<span style=\"font-weight: bold\">{</span>\n",
       "    <span style=\"color: #800080; text-decoration-color: #800080; font-weight: bold\">N</span><span style=\"font-weight: bold\">(</span>R-R0<span style=\"font-weight: bold\">)</span>: <span style=\"color: #00ff00; text-decoration-color: #00ff00; font-style: italic\">True</span>,\n",
       "    <span style=\"color: #800080; text-decoration-color: #800080; font-weight: bold\">N</span><span style=\"font-weight: bold\">(</span>R-R1<span style=\"font-weight: bold\">)</span>: <span style=\"color: #00ff00; text-decoration-color: #00ff00; font-style: italic\">True</span>,\n",
       "    <span style=\"color: #800080; text-decoration-color: #800080; font-weight: bold\">N</span><span style=\"font-weight: bold\">(</span>R-R2<span style=\"font-weight: bold\">)</span>: <span style=\"color: #00ff00; text-decoration-color: #00ff00; font-style: italic\">True</span>,\n",
       "    <span style=\"color: #800080; text-decoration-color: #800080; font-weight: bold\">N</span><span style=\"font-weight: bold\">(</span>R-R3<span style=\"font-weight: bold\">)</span>: <span style=\"color: #00ff00; text-decoration-color: #00ff00; font-style: italic\">True</span>,\n",
       "    <span style=\"color: #800080; text-decoration-color: #800080; font-weight: bold\">N</span><span style=\"font-weight: bold\">(</span>R-R4<span style=\"font-weight: bold\">)</span>: <span style=\"color: #00ff00; text-decoration-color: #00ff00; font-style: italic\">True</span>,\n",
       "    <span style=\"color: #800080; text-decoration-color: #800080; font-weight: bold\">N</span><span style=\"font-weight: bold\">(</span>R-R5<span style=\"font-weight: bold\">)</span>: <span style=\"color: #00ff00; text-decoration-color: #00ff00; font-style: italic\">True</span>,\n",
       "    <span style=\"color: #800080; text-decoration-color: #800080; font-weight: bold\">N</span><span style=\"font-weight: bold\">(</span>R-R6<span style=\"font-weight: bold\">)</span>: <span style=\"color: #00ff00; text-decoration-color: #00ff00; font-style: italic\">True</span>,\n",
       "    <span style=\"color: #800080; text-decoration-color: #800080; font-weight: bold\">N</span><span style=\"font-weight: bold\">(</span>R-R7<span style=\"font-weight: bold\">)</span>: <span style=\"color: #00ff00; text-decoration-color: #00ff00; font-style: italic\">True</span>,\n",
       "    <span style=\"color: #800080; text-decoration-color: #800080; font-weight: bold\">N</span><span style=\"font-weight: bold\">(</span>R-R8<span style=\"font-weight: bold\">)</span>: <span style=\"color: #00ff00; text-decoration-color: #00ff00; font-style: italic\">True</span>,\n",
       "    <span style=\"color: #800080; text-decoration-color: #800080; font-weight: bold\">N</span><span style=\"font-weight: bold\">(</span>R-R9<span style=\"font-weight: bold\">)</span>: <span style=\"color: #00ff00; text-decoration-color: #00ff00; font-style: italic\">True</span>\n",
       "<span style=\"font-weight: bold\">}</span>\n",
       "</pre>\n"
      ],
      "text/plain": [
       "\n",
       "\u001b[1m{\u001b[0m\n",
       "    \u001b[1;35mN\u001b[0m\u001b[1m(\u001b[0mR-R0\u001b[1m)\u001b[0m: \u001b[3;92mTrue\u001b[0m,\n",
       "    \u001b[1;35mN\u001b[0m\u001b[1m(\u001b[0mR-R1\u001b[1m)\u001b[0m: \u001b[3;92mTrue\u001b[0m,\n",
       "    \u001b[1;35mN\u001b[0m\u001b[1m(\u001b[0mR-R2\u001b[1m)\u001b[0m: \u001b[3;92mTrue\u001b[0m,\n",
       "    \u001b[1;35mN\u001b[0m\u001b[1m(\u001b[0mR-R3\u001b[1m)\u001b[0m: \u001b[3;92mTrue\u001b[0m,\n",
       "    \u001b[1;35mN\u001b[0m\u001b[1m(\u001b[0mR-R4\u001b[1m)\u001b[0m: \u001b[3;92mTrue\u001b[0m,\n",
       "    \u001b[1;35mN\u001b[0m\u001b[1m(\u001b[0mR-R5\u001b[1m)\u001b[0m: \u001b[3;92mTrue\u001b[0m,\n",
       "    \u001b[1;35mN\u001b[0m\u001b[1m(\u001b[0mR-R6\u001b[1m)\u001b[0m: \u001b[3;92mTrue\u001b[0m,\n",
       "    \u001b[1;35mN\u001b[0m\u001b[1m(\u001b[0mR-R7\u001b[1m)\u001b[0m: \u001b[3;92mTrue\u001b[0m,\n",
       "    \u001b[1;35mN\u001b[0m\u001b[1m(\u001b[0mR-R8\u001b[1m)\u001b[0m: \u001b[3;92mTrue\u001b[0m,\n",
       "    \u001b[1;35mN\u001b[0m\u001b[1m(\u001b[0mR-R9\u001b[1m)\u001b[0m: \u001b[3;92mTrue\u001b[0m\n",
       "\u001b[1m}\u001b[0m\n"
      ]
     },
     "metadata": {},
     "output_type": "display_data"
    }
   ],
   "source": [
    "R[:10].is_registered()"
   ]
  },
  {
   "cell_type": "code",
   "execution_count": 17,
   "metadata": {},
   "outputs": [
    {
     "name": "stdout",
     "output_type": "stream",
     "text": [
      "INFO Starting PoW | targets:[N(R-R10), N(R-R11), N(R-R12), N(R-R13), N(R-R14), N(R-R15), N(R-R16), N(R-R17), N(R-R18), N(R-R19)] workers: [N(R-R0), N(R-R1), N(R-R2), N(R-R3), N(R-R4), N(R-R5), N(R-R6), N(R-R7), N(R-R8), N(R-R9), N(R-R10), N(R-R11), N(R-R12), N(R-R13), N(R-R14), N(R-R15), N(R-R16), N(R-R17), N(R-R18), N(R-R19), N(R-R20), N(R-R21), N(R-R22), N(R-R23), N(R-R24), N(R-R25), N(R-R26), N(R-R27), N(R-R28), N(R-R29), N(R-R30), N(R-R31), N(R-R32), N(R-R33), N(R-R34), N(R-R35), N(R-R36), N(R-R37), N(R-R38), N(R-R39), N(R-R40), N(R-R41), N(R-R42), N(R-R43), N(R-R44), N(R-R45), N(R-R46), N(R-R47), N(R-R48), N(R-R49), N(R-R50), N(R-R51), N(R-R52), N(R-R53), N(R-R54), N(R-R55), N(R-R56), N(R-R57), N(R-R58), N(R-R59), N(R-R60), N(R-R61), N(R-R62), N(R-R63), N(R-R64), N(R-R65), N(R-R66), N(R-R67), N(R-R68), N(R-R69), N(R-R70), N(R-R71), N(R-R72), N(R-R73), N(R-R74), N(R-R75), N(R-R76), N(R-R77), N(R-R78), N(R-R79), N(R-R80), N(R-R81), N(R-R82), N(R-R83), N(R-R84), N(R-R85), N(R-R86), N(R-R87), N(R-R88), N(R-R89), N(R-R90), N(R-R91), N(R-R92), N(R-R93), N(R-R94), N(R-R95), N(R-R96), N(R-R97), N(R-R98), N(R-R99), N(R-R100), N(R-R101), N(R-R102), N(R-R103), N(R-R104), N(R-R105), N(R-R106), N(R-R107), N(R-R108), N(R-R109), N(R-R110), N(R-R111), N(R-R112), N(R-R113), N(R-R114), N(R-R115), N(R-R116), N(R-R117), N(R-R118), N(R-R119), N(R-R120), N(R-R121), N(R-R122), N(R-R123), N(R-R124), N(R-R125), N(R-R126), N(R-R127), N(R-R128), N(R-R129), N(R-R130), N(R-R131), N(R-R132), N(R-R133), N(R-R134), N(R-R135), N(R-R136), N(R-R137), N(R-R138), N(R-R139), N(R-R140), N(R-R141), N(R-R142), N(R-R143), N(R-R144), N(R-R145), N(R-R146), N(R-R147), N(R-R148), N(R-R149), N(R-R150), N(R-R151), N(R-R152), N(R-R153), N(R-R154), N(R-R155), N(R-R156), N(R-R157), N(R-R158), N(R-R159), N(R-R160), N(R-R161), N(R-R162), N(R-R163), N(R-R164), N(R-R165), N(R-R166), N(R-R167), N(R-R168), N(R-R169), N(R-R170), N(R-R171), N(R-R172), N(R-R173), N(R-R174), N(R-R175), N(R-R176), N(R-R177), N(R-R178), N(R-R179), N(R-R180), N(R-R181), N(R-R182), N(R-R183), N(R-R184), N(R-R185), N(R-R186), N(R-R187), N(R-R188), N(R-R189), N(R-R190), N(R-R191), N(R-R192), N(R-R193), N(R-R194), N(R-R195), N(R-R196), N(R-R197), N(R-R198), N(R-R199), N(R-R200), N(R-R201), N(R-R202), N(R-R203), N(R-R204), N(R-R205), N(R-R206), N(R-R207), N(R-R208), N(R-R209), N(R-R210), N(R-R211), N(R-R212), N(R-R213), N(R-R214), N(R-R215), N(R-R216), N(R-R217), N(R-R218), N(R-R219), N(R-R220), N(R-R221), N(R-R222), N(R-R223), N(R-R224), N(R-R225), N(R-R226), N(R-R227), N(R-R228), N(R-R229), N(R-R230), N(R-R231), N(R-R232), N(R-R233), N(R-R234), N(R-R235), N(R-R236), N(R-R237), N(R-R238), N(R-R239), N(R-R240), N(R-R241), N(R-R242), N(R-R243), N(R-R244), N(R-R245), N(R-R246), N(R-R247), N(R-R248), N(R-R249), N(R-R250), N(R-R251), N(R-R252), N(R-R253), N(R-R254), N(R-R255), N(R-R256), N(R-R257), N(R-R258), N(R-R259), N(R-R260), N(R-R261), N(R-R262), N(R-R263), N(R-R264), N(R-R265), N(R-R266), N(R-R267), N(R-R268), N(R-R269), N(R-R270), N(R-R271), N(R-R272), N(R-R273), N(R-R274), N(R-R275), N(R-R276), N(R-R277), N(R-R278), N(R-R279), N(R-R280), N(R-R281), N(R-R282), N(R-R283), N(R-R284), N(R-R285), N(R-R286), N(R-R287), N(R-R288), N(R-R289), N(R-R290), N(R-R291), N(R-R292), N(R-R293), N(R-R294), N(R-R295), N(R-R296), N(R-R297), N(R-R298), N(R-R299)]\n"
     ]
    },
    {
     "name": "stderr",
     "output_type": "stream",
     "text": [
      "Running: <function HUD._is_registered.<locals>.__get_is_registered at 0x139edc3a0>: 100%|██████████| 10/10 [00:05<00:00,  1.77it/s]\n",
      "Running: pkill -f **hR10** & rm **hR10**: 100%|██████████| 300/300 [00:08<00:00, 35.59it/s]6143f\", \"publicKey\": \"0xa40472d672511733d6acc49d0ee68da88006c8fbbc3786b9b2b13fcf21c6143f\", \"secretPhrase\": null, \"secretSeed\": null, \"ss58Address\": \"5Fmm2o5x6zW3USdNUxJRqBHMipZW6ryv18Wp21RNFVcmxmAP\"}' > ~/.bittensor/wallets/R/coldkeypub.txt:  97%|█████████▋| 290/300 [00:21<00:00, 120.01it/s]\n",
      "Running: echo '{\"accountId\": \"0xa40472d672511733d6acc49d0ee68da88006c8fbbc3786b9b2b13fcf21c6143f\", \"publicKey\": \"0xa40472d672511733d6acc49d0ee68da88006c8fbbc3786b9b2b13fcf21c6143f\", \"secretPhrase\": null, \"secretSeed\": null, \"ss58Address\": \"5Fmm2o5x6zW3USdNUxJRqBHMipZW6ryv18Wp21RNFVcmxmAP\"}' > ~/.bittensor/wallets/R/coldkeypub.txt:  98%|█████████▊| 294/300 [00:33<00:01,  3.09it/s] Socket exception: Connection reset by peer (54)\n",
      "Running: mkdir -p ~/.bittensor/wallets/R/hotkeys: 100%|██████████| 300/300 [00:09<00:00, 32.29it/s]\n",
      "Running: echo '{\"accountId\": \"0xd235b2707ad4a8c5856d49cebf860b76c878ff2c400c162b6902bf725753395a\", \"publicKey\": \"0xd235b2707ad4a8c5856d49cebf860b76c878ff2c400c162b6902bf725753395a\", \"secretPhrase\": \"very bind matrix end special tragic obvious airport avoid buyer suspect visa\", \"secretSeed\": \"0x93884cef69872b76cc3dcc1d1886746b16595492359522753f8af4de5932a524\", \"ss58Address\": \"5GpKs5kXVKeNKJM7R9HQaLm3FYVuDygV8XaWLvgy1LZJWGkw\"}' > ~/.bittensor/wallets/R/hotkeys/R10: 100%|██████████| 300/300 [00:02<00:00, 133.77it/s]\n",
      "Running: echo '{\"accountId\": \"0xa40472d672511733d6acc49d0ee68da88006c8fbbc3786b9b2b13fcf21c6143f\", \"publicKey\": \"0xa40472d672511733d6acc49d0ee68da88006c8fbbc3786b9b2b13fcf21c6143f\", \"secretPhrase\": null, \"secretSeed\": null, \"ss58Address\": \"5Fmm2o5x6zW3USdNUxJRqBHMipZW6ryv18Wp21RNFVcmxmAP\"}' > ~/.bittensor/wallets/R/coldkeypub.txt: 100%|██████████| 300/300 [00:02<00:00, 125.37it/s]\n",
      "Running: nohup python3 HUD/pow.py --subtensor.network nakamoto --wallet.name R --wallet.hotkey R10 > pow_0_cR_hR10.out &: 600it [00:01, 374.94it/s]\n",
      "Running: pkill -f **hR11** & rm **hR11**: 100%|██████████| 300/300 [00:02<00:00, 109.11it/s]\n",
      "Running: mkdir -p ~/.bittensor/wallets/R/hotkeys: 100%|██████████| 300/300 [00:15<00:00, 19.28it/s]\"publicKey\": \"0xa40472d672511733d6acc49d0ee68da88006c8fbbc3786b9b2b13fcf21c6143f\", \"secretPhrase\": null, \"secretSeed\": null, \"ss58Address\": \"5Fmm2o5x6zW3USdNUxJRqBHMipZW6ryv18Wp21RNFVcmxmAP\"}' > ~/.bittensor/wallets/R/coldkeypub.txt:  98%|█████████▊| 294/300 [00:58<00:01,  3.09it/s]\n",
      "Running: echo '{\"accountId\": \"0x5a4c85aa8035dd95cc1d6d406212c0cc71cd83f64f615ff252e0a5a751f2dd66\", \"publicKey\": \"0x5a4c85aa8035dd95cc1d6d406212c0cc71cd83f64f615ff252e0a5a751f2dd66\", \"secretPhrase\": \"lobster decorate school light kingdom craft ice better parent equal doll coconut\", \"secretSeed\": \"0xefe0c6cb91b7e321a939457bf5c8ea57bb55169f779507abc4787045665dad69\", \"ss58Address\": \"5E76u5AMt72MRWWyB3UA5UWgUgustHEitAvaoTwLwGHG8r8v\"}' > ~/.bittensor/wallets/R/hotkeys/R11: 100%|██████████| 300/300 [00:02<00:00, 111.12it/s]\n",
      "Running: echo '{\"accountId\": \"0xa40472d672511733d6acc49d0ee68da88006c8fbbc3786b9b2b13fcf21c6143f\", \"publicKey\": \"0xa40472d672511733d6acc49d0ee68da88006c8fbbc3786b9b2b13fcf21c6143f\", \"secretPhrase\": null, \"secretSeed\": null, \"ss58Address\": \"5Fmm2o5x6zW3USdNUxJRqBHMipZW6ryv18Wp21RNFVcmxmAP\"}' > ~/.bittensor/wallets/R/coldkeypub.txt: 100%|██████████| 300/300 [00:02<00:00, 108.69it/s]\n",
      "Running: nohup python3 HUD/pow.py --subtensor.network nakamoto --wallet.name R --wallet.hotkey R11 > pow_0_cR_hR11.out &: 600it [00:14, 41.06it/s] \n",
      "Running: pkill -f **hR12** & rm **hR12**: 100%|██████████| 300/300 [00:13<00:00, 21.62it/s]\n",
      "Running: mkdir -p ~/.bittensor/wallets/R/hotkeys: 100%|██████████| 300/300 [00:04<00:00, 60.47it/s]\n",
      "Running: echo '{\"accountId\": \"0x8637fdd1aa9eac326536cf7f1a1ff40b58a45f33a6e08efd02f9fdc4235d1d5b\", \"publicKey\": \"0x8637fdd1aa9eac326536cf7f1a1ff40b58a45f33a6e08efd02f9fdc4235d1d5b\", \"secretPhrase\": \"way win avocado power spike hill pitch travel panic use slim target\", \"secretSeed\": \"0x81fe4eed525b53573aabc6ac092d7622f34cfa1b7abb18eb0b9b032a119be6bb\", \"ss58Address\": \"5F6guYEt3YcA63SukpmNcWCC5opGaraEEUodqrksiQQz4m97\"}' > ~/.bittensor/wallets/R/hotkeys/R12: 100%|██████████| 300/300 [00:09<00:00, 30.22it/s]\n",
      "Running: echo '{\"accountId\": \"0xa40472d672511733d6acc49d0ee68da88006c8fbbc3786b9b2b13fcf21c6143f\", \"publicKey\": \"0xa40472d672511733d6acc49d0ee68da88006c8fbbc3786b9b2b13fcf21c6143f\", \"secretPhrase\": null, \"secretSeed\": null, \"ss58Address\": \"5Fmm2o5x6zW3USdNUxJRqBHMipZW6ryv18Wp21RNFVcmxmAP\"}' > ~/.bittensor/wallets/R/coldkeypub.txt: 100%|██████████| 300/300 [00:04<00:00, 68.27it/s] \n",
      "Running: nohup python3 HUD/pow.py --subtensor.network nakamoto --wallet.name R --wallet.hotkey R12 > pow_0_cR_hR12.out &: 600it [00:07, 77.70it/s]\n",
      "Running: pkill -f **hR13** & rm **hR13**: 100%|██████████| 300/300 [00:08<00:00, 36.14it/s]\n",
      "Running: mkdir -p ~/.bittensor/wallets/R/hotkeys: 100%|██████████| 300/300 [00:03<00:00, 90.33it/s]\n",
      "Running: echo '{\"accountId\": \"0xfc2790e7aa6c20d1dcfbe38ac507fcb869c0c64b2b5ce790f1874b1f155e960e\", \"publicKey\": \"0xfc2790e7aa6c20d1dcfbe38ac507fcb869c0c64b2b5ce790f1874b1f155e960e\", \"secretPhrase\": \"ride predict impulse nothing glad mechanic predict trouble radar input load evidence\", \"secretSeed\": \"0xdebba23bbeca148435c481f54f768adde38717036b6e8a2cf56aa6e961871077\", \"ss58Address\": \"5HmKgFws7TMXprLVxrktgJiFDL7EoXwomewG24mX4DDwL9d7\"}' > ~/.bittensor/wallets/R/hotkeys/R13: 100%|██████████| 300/300 [00:05<00:00, 53.41it/s] \n",
      "Running: echo '{\"accountId\": \"0xa40472d672511733d6acc49d0ee68da88006c8fbbc3786b9b2b13fcf21c6143f\", \"publicKey\": \"0xa40472d672511733d6acc49d0ee68da88006c8fbbc3786b9b2b13fcf21c6143f\", \"secretPhrase\": null, \"secretSeed\": null, \"ss58Address\": \"5Fmm2o5x6zW3USdNUxJRqBHMipZW6ryv18Wp21RNFVcmxmAP\"}' > ~/.bittensor/wallets/R/coldkeypub.txt: 100%|██████████| 300/300 [00:03<00:00, 92.05it/s] \n",
      "Running: nohup python3 HUD/pow.py --subtensor.network nakamoto --wallet.name R --wallet.hotkey R13 > pow_0_cR_hR13.out &: 600it [00:03, 171.97it/s]\n",
      "\n",
      "Running: pkill -f **hR14** & rm **hR14**: 100%|██████████| 300/300 [00:11<00:00,  2.87it/s]"
     ]
    },
    {
     "data": {
      "text/html": [
       "<pre style=\"white-space:pre;overflow-x:auto;line-height:normal;font-family:Menlo,'DejaVu Sans Mono',consolas,'Courier New',monospace\"><span style=\"color: #ff0000; text-decoration-color: #ff0000\">╭──────────────────────────── </span><span style=\"color: #800000; text-decoration-color: #800000; font-weight: bold\">Traceback </span><span style=\"color: #bf7f7f; text-decoration-color: #bf7f7f; font-weight: bold\">(most recent call last)</span><span style=\"color: #ff0000; text-decoration-color: #ff0000\"> ────────────────────────────╮</span>\n",
       "<span style=\"color: #ff0000; text-decoration-color: #ff0000\">│</span>                                                                                           <span style=\"color: #ff0000; text-decoration-color: #ff0000\">│</span>\n",
       "<span style=\"color: #ff0000; text-decoration-color: #ff0000\">│</span> <span style=\"color: #bfbf7f; text-decoration-color: #bfbf7f\">/var/folders/t2/n8qztvk54892_y4rgslzz_wm0000gn/T/ipykernel_97458/</span><span style=\"color: #808000; text-decoration-color: #808000; font-weight: bold\">4245538860.py</span>:<span style=\"color: #0000ff; text-decoration-color: #0000ff\">1</span> in       <span style=\"color: #ff0000; text-decoration-color: #ff0000\">│</span>\n",
       "<span style=\"color: #ff0000; text-decoration-color: #ff0000\">│</span> <span style=\"color: #00ff00; text-decoration-color: #00ff00\">&lt;module&gt;</span>                                                                                  <span style=\"color: #ff0000; text-decoration-color: #ff0000\">│</span>\n",
       "<span style=\"color: #ff0000; text-decoration-color: #ff0000\">│</span>                                                                                           <span style=\"color: #ff0000; text-decoration-color: #ff0000\">│</span>\n",
       "<span style=\"color: #ff0000; text-decoration-color: #ff0000\">│</span> <span style=\"color: #800000; text-decoration-color: #800000; font-style: italic\">[Errno 2] No such file or directory: </span>                                                     <span style=\"color: #ff0000; text-decoration-color: #ff0000\">│</span>\n",
       "<span style=\"color: #ff0000; text-decoration-color: #ff0000\">│</span> <span style=\"color: #800000; text-decoration-color: #800000; font-style: italic\">'/var/folders/t2/n8qztvk54892_y4rgslzz_wm0000gn/T/ipykernel_97458/4245538860.py'</span>          <span style=\"color: #ff0000; text-decoration-color: #ff0000\">│</span>\n",
       "<span style=\"color: #ff0000; text-decoration-color: #ff0000\">│</span> <span style=\"color: #bfbf7f; text-decoration-color: #bfbf7f\">/Users/thebes/Work/HUD/</span><span style=\"color: #808000; text-decoration-color: #808000; font-weight: bold\">hud.py</span>:<span style=\"color: #0000ff; text-decoration-color: #0000ff\">554</span> in <span style=\"color: #00ff00; text-decoration-color: #00ff00\">pow</span>                                                  <span style=\"color: #ff0000; text-decoration-color: #ff0000\">│</span>\n",
       "<span style=\"color: #ff0000; text-decoration-color: #ff0000\">│</span>                                                                                           <span style=\"color: #ff0000; text-decoration-color: #ff0000\">│</span>\n",
       "<span style=\"color: #ff0000; text-decoration-color: #ff0000\">│</span>   <span style=\"color: #7f7f7f; text-decoration-color: #7f7f7f\">551 │   │   </span><span style=\"color: #0000ff; text-decoration-color: #0000ff\">return</span> HUD._run( neurons, script = <span style=\"color: #808000; text-decoration-color: #808000\">\"tail -n {} /root/.pm2/logs/script-out.l</span> <span style=\"color: #ff0000; text-decoration-color: #ff0000\">│</span>\n",
       "<span style=\"color: #ff0000; text-decoration-color: #ff0000\">│</span>   <span style=\"color: #7f7f7f; text-decoration-color: #7f7f7f\">552 │   </span>                                                                                <span style=\"color: #ff0000; text-decoration-color: #ff0000\">│</span>\n",
       "<span style=\"color: #ff0000; text-decoration-color: #ff0000\">│</span>   <span style=\"color: #7f7f7f; text-decoration-color: #7f7f7f\">553 │   </span><span style=\"color: #0000ff; text-decoration-color: #0000ff\">def</span> <span style=\"color: #00ff00; text-decoration-color: #00ff00\">pow</span>( <span style=\"color: #00ffff; text-decoration-color: #00ffff\">self</span>, targets: Union[ Neuron, List[Neuron], <span style=\"color: #808000; text-decoration-color: #808000\">'HUD'</span> ], pow_key: <span style=\"color: #00ffff; text-decoration-color: #00ffff\">int</span> = <span style=\"color: #00ffff; text-decoration-color: #00ffff\">in</span> <span style=\"color: #ff0000; text-decoration-color: #ff0000\">│</span>\n",
       "<span style=\"color: #ff0000; text-decoration-color: #ff0000\">│</span> <span style=\"color: #800000; text-decoration-color: #800000\">❱ </span>554 <span style=\"color: #7f7f7f; text-decoration-color: #7f7f7f\">│   │   </span><span style=\"color: #0000ff; text-decoration-color: #0000ff\">return</span> HUD._pow( <span style=\"color: #00ffff; text-decoration-color: #00ffff\">self</span>.values, targets = targets, n_procs = n_procs, network <span style=\"color: #ff0000; text-decoration-color: #ff0000\">│</span>\n",
       "<span style=\"color: #ff0000; text-decoration-color: #ff0000\">│</span>   <span style=\"color: #7f7f7f; text-decoration-color: #7f7f7f\">555 │   </span>                                                                                <span style=\"color: #ff0000; text-decoration-color: #ff0000\">│</span>\n",
       "<span style=\"color: #ff0000; text-decoration-color: #ff0000\">│</span>   <span style=\"color: #7f7f7f; text-decoration-color: #7f7f7f\">556 │   </span><span style=\"color: #ff00ff; text-decoration-color: #ff00ff; font-weight: bold\">@staticmethod</span>                                                                   <span style=\"color: #ff0000; text-decoration-color: #ff0000\">│</span>\n",
       "<span style=\"color: #ff0000; text-decoration-color: #ff0000\">│</span>   <span style=\"color: #7f7f7f; text-decoration-color: #7f7f7f\">557 │   </span><span style=\"color: #0000ff; text-decoration-color: #0000ff\">def</span> <span style=\"color: #00ff00; text-decoration-color: #00ff00\">_pow</span>( workers: Union[ List[Neuron], <span style=\"color: #808000; text-decoration-color: #808000\">'HUD'</span> ], targets: Union[ Neuron, List[N <span style=\"color: #ff0000; text-decoration-color: #ff0000\">│</span>\n",
       "<span style=\"color: #ff0000; text-decoration-color: #ff0000\">│</span>                                                                                           <span style=\"color: #ff0000; text-decoration-color: #ff0000\">│</span>\n",
       "<span style=\"color: #ff0000; text-decoration-color: #ff0000\">│</span> <span style=\"color: #808000; text-decoration-color: #808000\">╭────────── locals ───────────╮</span>                                                           <span style=\"color: #ff0000; text-decoration-color: #ff0000\">│</span>\n",
       "<span style=\"color: #ff0000; text-decoration-color: #ff0000\">│</span> <span style=\"color: #808000; text-decoration-color: #808000\">│</span>      disown = <span style=\"color: #0000ff; text-decoration-color: #0000ff\">False</span>         <span style=\"color: #808000; text-decoration-color: #808000\">│</span>                                                           <span style=\"color: #ff0000; text-decoration-color: #ff0000\">│</span>\n",
       "<span style=\"color: #ff0000; text-decoration-color: #ff0000\">│</span> <span style=\"color: #808000; text-decoration-color: #808000\">│</span>        hide = <span style=\"color: #0000ff; text-decoration-color: #0000ff\">True</span>          <span style=\"color: #808000; text-decoration-color: #808000\">│</span>                                                           <span style=\"color: #ff0000; text-decoration-color: #ff0000\">│</span>\n",
       "<span style=\"color: #ff0000; text-decoration-color: #ff0000\">│</span> <span style=\"color: #808000; text-decoration-color: #808000\">│</span> max_threads = <span style=\"color: #0000ff; text-decoration-color: #0000ff\">100000</span>        <span style=\"color: #808000; text-decoration-color: #808000\">│</span>                                                           <span style=\"color: #ff0000; text-decoration-color: #ff0000\">│</span>\n",
       "<span style=\"color: #ff0000; text-decoration-color: #ff0000\">│</span> <span style=\"color: #808000; text-decoration-color: #808000\">│</span>     n_procs = <span style=\"color: #0000ff; text-decoration-color: #0000ff\">1</span>             <span style=\"color: #808000; text-decoration-color: #808000\">│</span>                                                           <span style=\"color: #ff0000; text-decoration-color: #ff0000\">│</span>\n",
       "<span style=\"color: #ff0000; text-decoration-color: #ff0000\">│</span> <span style=\"color: #808000; text-decoration-color: #808000\">│</span>     network = <span style=\"color: #808000; text-decoration-color: #808000\">'nakamoto'</span>    <span style=\"color: #808000; text-decoration-color: #808000\">│</span>                                                           <span style=\"color: #ff0000; text-decoration-color: #ff0000\">│</span>\n",
       "<span style=\"color: #ff0000; text-decoration-color: #ff0000\">│</span> <span style=\"color: #808000; text-decoration-color: #808000\">│</span>     pow_key = <span style=\"color: #0000ff; text-decoration-color: #0000ff\">1650473354</span>    <span style=\"color: #808000; text-decoration-color: #808000\">│</span>                                                           <span style=\"color: #ff0000; text-decoration-color: #ff0000\">│</span>\n",
       "<span style=\"color: #ff0000; text-decoration-color: #ff0000\">│</span> <span style=\"color: #808000; text-decoration-color: #808000\">│</span>        self = <span style=\"font-weight: bold\">[</span>             <span style=\"color: #808000; text-decoration-color: #808000\">│</span>                                                           <span style=\"color: #ff0000; text-decoration-color: #ff0000\">│</span>\n",
       "<span style=\"color: #ff0000; text-decoration-color: #ff0000\">│</span> <span style=\"color: #808000; text-decoration-color: #808000\">│</span>               <span style=\"color: #7f7f7f; text-decoration-color: #7f7f7f\">│   </span><span style=\"color: #800080; text-decoration-color: #800080; font-weight: bold\">N</span><span style=\"font-weight: bold\">(</span>R-R0<span style=\"font-weight: bold\">)</span>,  <span style=\"color: #808000; text-decoration-color: #808000\">│</span>                                                           <span style=\"color: #ff0000; text-decoration-color: #ff0000\">│</span>\n",
       "<span style=\"color: #ff0000; text-decoration-color: #ff0000\">│</span> <span style=\"color: #808000; text-decoration-color: #808000\">│</span>               <span style=\"color: #7f7f7f; text-decoration-color: #7f7f7f\">│   </span><span style=\"color: #800080; text-decoration-color: #800080; font-weight: bold\">N</span><span style=\"font-weight: bold\">(</span>R-R1<span style=\"font-weight: bold\">)</span>,  <span style=\"color: #808000; text-decoration-color: #808000\">│</span>                                                           <span style=\"color: #ff0000; text-decoration-color: #ff0000\">│</span>\n",
       "<span style=\"color: #ff0000; text-decoration-color: #ff0000\">│</span> <span style=\"color: #808000; text-decoration-color: #808000\">│</span>               <span style=\"color: #7f7f7f; text-decoration-color: #7f7f7f\">│   </span><span style=\"color: #800080; text-decoration-color: #800080; font-weight: bold\">N</span><span style=\"font-weight: bold\">(</span>R-R2<span style=\"font-weight: bold\">)</span>,  <span style=\"color: #808000; text-decoration-color: #808000\">│</span>                                                           <span style=\"color: #ff0000; text-decoration-color: #ff0000\">│</span>\n",
       "<span style=\"color: #ff0000; text-decoration-color: #ff0000\">│</span> <span style=\"color: #808000; text-decoration-color: #808000\">│</span>               <span style=\"color: #7f7f7f; text-decoration-color: #7f7f7f\">│   </span><span style=\"color: #800080; text-decoration-color: #800080; font-weight: bold\">N</span><span style=\"font-weight: bold\">(</span>R-R3<span style=\"font-weight: bold\">)</span>,  <span style=\"color: #808000; text-decoration-color: #808000\">│</span>                                                           <span style=\"color: #ff0000; text-decoration-color: #ff0000\">│</span>\n",
       "<span style=\"color: #ff0000; text-decoration-color: #ff0000\">│</span> <span style=\"color: #808000; text-decoration-color: #808000\">│</span>               <span style=\"color: #7f7f7f; text-decoration-color: #7f7f7f\">│   </span><span style=\"color: #800080; text-decoration-color: #800080; font-weight: bold\">N</span><span style=\"font-weight: bold\">(</span>R-R4<span style=\"font-weight: bold\">)</span>,  <span style=\"color: #808000; text-decoration-color: #808000\">│</span>                                                           <span style=\"color: #ff0000; text-decoration-color: #ff0000\">│</span>\n",
       "<span style=\"color: #ff0000; text-decoration-color: #ff0000\">│</span> <span style=\"color: #808000; text-decoration-color: #808000\">│</span>               <span style=\"color: #7f7f7f; text-decoration-color: #7f7f7f\">│   </span><span style=\"color: #800080; text-decoration-color: #800080; font-weight: bold\">N</span><span style=\"font-weight: bold\">(</span>R-R5<span style=\"font-weight: bold\">)</span>,  <span style=\"color: #808000; text-decoration-color: #808000\">│</span>                                                           <span style=\"color: #ff0000; text-decoration-color: #ff0000\">│</span>\n",
       "<span style=\"color: #ff0000; text-decoration-color: #ff0000\">│</span> <span style=\"color: #808000; text-decoration-color: #808000\">│</span>               <span style=\"color: #7f7f7f; text-decoration-color: #7f7f7f\">│   </span><span style=\"color: #800080; text-decoration-color: #800080; font-weight: bold\">N</span><span style=\"font-weight: bold\">(</span>R-R6<span style=\"font-weight: bold\">)</span>,  <span style=\"color: #808000; text-decoration-color: #808000\">│</span>                                                           <span style=\"color: #ff0000; text-decoration-color: #ff0000\">│</span>\n",
       "<span style=\"color: #ff0000; text-decoration-color: #ff0000\">│</span> <span style=\"color: #808000; text-decoration-color: #808000\">│</span>               <span style=\"color: #7f7f7f; text-decoration-color: #7f7f7f\">│   </span><span style=\"color: #800080; text-decoration-color: #800080; font-weight: bold\">N</span><span style=\"font-weight: bold\">(</span>R-R7<span style=\"font-weight: bold\">)</span>,  <span style=\"color: #808000; text-decoration-color: #808000\">│</span>                                                           <span style=\"color: #ff0000; text-decoration-color: #ff0000\">│</span>\n",
       "<span style=\"color: #ff0000; text-decoration-color: #ff0000\">│</span> <span style=\"color: #808000; text-decoration-color: #808000\">│</span>               <span style=\"color: #7f7f7f; text-decoration-color: #7f7f7f\">│   </span><span style=\"color: #800080; text-decoration-color: #800080; font-weight: bold\">N</span><span style=\"font-weight: bold\">(</span>R-R8<span style=\"font-weight: bold\">)</span>,  <span style=\"color: #808000; text-decoration-color: #808000\">│</span>                                                           <span style=\"color: #ff0000; text-decoration-color: #ff0000\">│</span>\n",
       "<span style=\"color: #ff0000; text-decoration-color: #ff0000\">│</span> <span style=\"color: #808000; text-decoration-color: #808000\">│</span>               <span style=\"color: #7f7f7f; text-decoration-color: #7f7f7f\">│   </span><span style=\"color: #800080; text-decoration-color: #800080; font-weight: bold\">N</span><span style=\"font-weight: bold\">(</span>R-R9<span style=\"font-weight: bold\">)</span>,  <span style=\"color: #808000; text-decoration-color: #808000\">│</span>                                                           <span style=\"color: #ff0000; text-decoration-color: #ff0000\">│</span>\n",
       "<span style=\"color: #ff0000; text-decoration-color: #ff0000\">│</span> <span style=\"color: #808000; text-decoration-color: #808000\">│</span>               <span style=\"color: #7f7f7f; text-decoration-color: #7f7f7f\">│   </span><span style=\"color: #808000; text-decoration-color: #808000\">...</span> +<span style=\"color: #0000ff; text-decoration-color: #0000ff\">290</span>  <span style=\"color: #808000; text-decoration-color: #808000\">│</span>                                                           <span style=\"color: #ff0000; text-decoration-color: #ff0000\">│</span>\n",
       "<span style=\"color: #ff0000; text-decoration-color: #ff0000\">│</span> <span style=\"color: #808000; text-decoration-color: #808000\">│</span>               <span style=\"font-weight: bold\">]</span>             <span style=\"color: #808000; text-decoration-color: #808000\">│</span>                                                           <span style=\"color: #ff0000; text-decoration-color: #ff0000\">│</span>\n",
       "<span style=\"color: #ff0000; text-decoration-color: #ff0000\">│</span> <span style=\"color: #808000; text-decoration-color: #808000\">│</span>     targets = <span style=\"font-weight: bold\">[</span>             <span style=\"color: #808000; text-decoration-color: #808000\">│</span>                                                           <span style=\"color: #ff0000; text-decoration-color: #ff0000\">│</span>\n",
       "<span style=\"color: #ff0000; text-decoration-color: #ff0000\">│</span> <span style=\"color: #808000; text-decoration-color: #808000\">│</span>               <span style=\"color: #7f7f7f; text-decoration-color: #7f7f7f\">│   </span><span style=\"color: #800080; text-decoration-color: #800080; font-weight: bold\">N</span><span style=\"font-weight: bold\">(</span>R-R10<span style=\"font-weight: bold\">)</span>, <span style=\"color: #808000; text-decoration-color: #808000\">│</span>                                                           <span style=\"color: #ff0000; text-decoration-color: #ff0000\">│</span>\n",
       "<span style=\"color: #ff0000; text-decoration-color: #ff0000\">│</span> <span style=\"color: #808000; text-decoration-color: #808000\">│</span>               <span style=\"color: #7f7f7f; text-decoration-color: #7f7f7f\">│   </span><span style=\"color: #800080; text-decoration-color: #800080; font-weight: bold\">N</span><span style=\"font-weight: bold\">(</span>R-R11<span style=\"font-weight: bold\">)</span>, <span style=\"color: #808000; text-decoration-color: #808000\">│</span>                                                           <span style=\"color: #ff0000; text-decoration-color: #ff0000\">│</span>\n",
       "<span style=\"color: #ff0000; text-decoration-color: #ff0000\">│</span> <span style=\"color: #808000; text-decoration-color: #808000\">│</span>               <span style=\"color: #7f7f7f; text-decoration-color: #7f7f7f\">│   </span><span style=\"color: #800080; text-decoration-color: #800080; font-weight: bold\">N</span><span style=\"font-weight: bold\">(</span>R-R12<span style=\"font-weight: bold\">)</span>, <span style=\"color: #808000; text-decoration-color: #808000\">│</span>                                                           <span style=\"color: #ff0000; text-decoration-color: #ff0000\">│</span>\n",
       "<span style=\"color: #ff0000; text-decoration-color: #ff0000\">│</span> <span style=\"color: #808000; text-decoration-color: #808000\">│</span>               <span style=\"color: #7f7f7f; text-decoration-color: #7f7f7f\">│   </span><span style=\"color: #800080; text-decoration-color: #800080; font-weight: bold\">N</span><span style=\"font-weight: bold\">(</span>R-R13<span style=\"font-weight: bold\">)</span>, <span style=\"color: #808000; text-decoration-color: #808000\">│</span>                                                           <span style=\"color: #ff0000; text-decoration-color: #ff0000\">│</span>\n",
       "<span style=\"color: #ff0000; text-decoration-color: #ff0000\">│</span> <span style=\"color: #808000; text-decoration-color: #808000\">│</span>               <span style=\"color: #7f7f7f; text-decoration-color: #7f7f7f\">│   </span><span style=\"color: #800080; text-decoration-color: #800080; font-weight: bold\">N</span><span style=\"font-weight: bold\">(</span>R-R14<span style=\"font-weight: bold\">)</span>, <span style=\"color: #808000; text-decoration-color: #808000\">│</span>                                                           <span style=\"color: #ff0000; text-decoration-color: #ff0000\">│</span>\n",
       "<span style=\"color: #ff0000; text-decoration-color: #ff0000\">│</span> <span style=\"color: #808000; text-decoration-color: #808000\">│</span>               <span style=\"color: #7f7f7f; text-decoration-color: #7f7f7f\">│   </span><span style=\"color: #800080; text-decoration-color: #800080; font-weight: bold\">N</span><span style=\"font-weight: bold\">(</span>R-R15<span style=\"font-weight: bold\">)</span>, <span style=\"color: #808000; text-decoration-color: #808000\">│</span>                                                           <span style=\"color: #ff0000; text-decoration-color: #ff0000\">│</span>\n",
       "<span style=\"color: #ff0000; text-decoration-color: #ff0000\">│</span> <span style=\"color: #808000; text-decoration-color: #808000\">│</span>               <span style=\"color: #7f7f7f; text-decoration-color: #7f7f7f\">│   </span><span style=\"color: #800080; text-decoration-color: #800080; font-weight: bold\">N</span><span style=\"font-weight: bold\">(</span>R-R16<span style=\"font-weight: bold\">)</span>, <span style=\"color: #808000; text-decoration-color: #808000\">│</span>                                                           <span style=\"color: #ff0000; text-decoration-color: #ff0000\">│</span>\n",
       "<span style=\"color: #ff0000; text-decoration-color: #ff0000\">│</span> <span style=\"color: #808000; text-decoration-color: #808000\">│</span>               <span style=\"color: #7f7f7f; text-decoration-color: #7f7f7f\">│   </span><span style=\"color: #800080; text-decoration-color: #800080; font-weight: bold\">N</span><span style=\"font-weight: bold\">(</span>R-R17<span style=\"font-weight: bold\">)</span>, <span style=\"color: #808000; text-decoration-color: #808000\">│</span>                                                           <span style=\"color: #ff0000; text-decoration-color: #ff0000\">│</span>\n",
       "<span style=\"color: #ff0000; text-decoration-color: #ff0000\">│</span> <span style=\"color: #808000; text-decoration-color: #808000\">│</span>               <span style=\"color: #7f7f7f; text-decoration-color: #7f7f7f\">│   </span><span style=\"color: #800080; text-decoration-color: #800080; font-weight: bold\">N</span><span style=\"font-weight: bold\">(</span>R-R18<span style=\"font-weight: bold\">)</span>, <span style=\"color: #808000; text-decoration-color: #808000\">│</span>                                                           <span style=\"color: #ff0000; text-decoration-color: #ff0000\">│</span>\n",
       "<span style=\"color: #ff0000; text-decoration-color: #ff0000\">│</span> <span style=\"color: #808000; text-decoration-color: #808000\">│</span>               <span style=\"color: #7f7f7f; text-decoration-color: #7f7f7f\">│   </span><span style=\"color: #800080; text-decoration-color: #800080; font-weight: bold\">N</span><span style=\"font-weight: bold\">(</span>R-R19<span style=\"font-weight: bold\">)</span>  <span style=\"color: #808000; text-decoration-color: #808000\">│</span>                                                           <span style=\"color: #ff0000; text-decoration-color: #ff0000\">│</span>\n",
       "<span style=\"color: #ff0000; text-decoration-color: #ff0000\">│</span> <span style=\"color: #808000; text-decoration-color: #808000\">│</span>               <span style=\"font-weight: bold\">]</span>             <span style=\"color: #808000; text-decoration-color: #808000\">│</span>                                                           <span style=\"color: #ff0000; text-decoration-color: #ff0000\">│</span>\n",
       "<span style=\"color: #ff0000; text-decoration-color: #ff0000\">│</span> <span style=\"color: #808000; text-decoration-color: #808000\">│</span>     timeout = <span style=\"color: #0000ff; text-decoration-color: #0000ff\">30</span>            <span style=\"color: #808000; text-decoration-color: #808000\">│</span>                                                           <span style=\"color: #ff0000; text-decoration-color: #ff0000\">│</span>\n",
       "<span style=\"color: #ff0000; text-decoration-color: #ff0000\">│</span> <span style=\"color: #808000; text-decoration-color: #808000\">│</span>        warn = <span style=\"color: #0000ff; text-decoration-color: #0000ff\">False</span>         <span style=\"color: #808000; text-decoration-color: #808000\">│</span>                                                           <span style=\"color: #ff0000; text-decoration-color: #ff0000\">│</span>\n",
       "<span style=\"color: #ff0000; text-decoration-color: #ff0000\">│</span> <span style=\"color: #808000; text-decoration-color: #808000\">╰─────────────────────────────╯</span>                                                           <span style=\"color: #ff0000; text-decoration-color: #ff0000\">│</span>\n",
       "<span style=\"color: #ff0000; text-decoration-color: #ff0000\">│</span>                                                                                           <span style=\"color: #ff0000; text-decoration-color: #ff0000\">│</span>\n",
       "<span style=\"color: #ff0000; text-decoration-color: #ff0000\">│</span> <span style=\"color: #bfbf7f; text-decoration-color: #bfbf7f\">/Users/thebes/Work/HUD/</span><span style=\"color: #808000; text-decoration-color: #808000; font-weight: bold\">hud.py</span>:<span style=\"color: #0000ff; text-decoration-color: #0000ff\">563</span> in <span style=\"color: #00ff00; text-decoration-color: #00ff00\">_pow</span>                                                 <span style=\"color: #ff0000; text-decoration-color: #ff0000\">│</span>\n",
       "<span style=\"color: #ff0000; text-decoration-color: #ff0000\">│</span>                                                                                           <span style=\"color: #ff0000; text-decoration-color: #ff0000\">│</span>\n",
       "<span style=\"color: #ff0000; text-decoration-color: #ff0000\">│</span>   <span style=\"color: #7f7f7f; text-decoration-color: #7f7f7f\">560 │   │   </span>logger.info( <span style=\"color: #808000; text-decoration-color: #808000\">\"Starting PoW | targets:{} workers: {}\"</span>.format( targets, worke <span style=\"color: #ff0000; text-decoration-color: #ff0000\">│</span>\n",
       "<span style=\"color: #ff0000; text-decoration-color: #ff0000\">│</span>   <span style=\"color: #7f7f7f; text-decoration-color: #7f7f7f\">561 │   │   </span><span style=\"color: #0000ff; text-decoration-color: #0000ff\">for</span> target, is_registered <span style=\"color: #ff00ff; text-decoration-color: #ff00ff\">in</span> targets.is_registered().items():               <span style=\"color: #ff0000; text-decoration-color: #ff0000\">│</span>\n",
       "<span style=\"color: #ff0000; text-decoration-color: #ff0000\">│</span>   <span style=\"color: #7f7f7f; text-decoration-color: #7f7f7f\">562 │   │   │   </span><span style=\"color: #0000ff; text-decoration-color: #0000ff\">if</span> <span style=\"color: #ff00ff; text-decoration-color: #ff00ff\">not</span> is_registered:                                                   <span style=\"color: #ff0000; text-decoration-color: #ff0000\">│</span>\n",
       "<span style=\"color: #ff0000; text-decoration-color: #ff0000\">│</span> <span style=\"color: #800000; text-decoration-color: #800000\">❱ </span>563 <span style=\"color: #7f7f7f; text-decoration-color: #7f7f7f\">│   │   │   │   </span>HUD._run( workers, script = <span style=\"color: #808000; text-decoration-color: #808000\">\"pkill -f **h{}** &amp; rm **h{}**\"</span>.format( <span style=\"color: #ff0000; text-decoration-color: #ff0000\">│</span>\n",
       "<span style=\"color: #ff0000; text-decoration-color: #ff0000\">│</span>   <span style=\"color: #7f7f7f; text-decoration-color: #7f7f7f\">564 │   │   │   │   </span>HUD._run( workers, script = <span style=\"color: #808000; text-decoration-color: #808000\">\"mkdir -p ~/.bittensor/wallets/{}/hotke</span> <span style=\"color: #ff0000; text-decoration-color: #ff0000\">│</span>\n",
       "<span style=\"color: #ff0000; text-decoration-color: #ff0000\">│</span>   <span style=\"color: #7f7f7f; text-decoration-color: #7f7f7f\">565 │   │   │   │   </span>HUD._run( workers, script = <span style=\"color: #808000; text-decoration-color: #808000\">\"echo '{}' &gt; ~/.bittensor/wallets/{}/ho</span> <span style=\"color: #ff0000; text-decoration-color: #ff0000\">│</span>\n",
       "<span style=\"color: #ff0000; text-decoration-color: #ff0000\">│</span>   <span style=\"color: #7f7f7f; text-decoration-color: #7f7f7f\">566 │   │   │   │   </span>HUD._run( workers, script = <span style=\"color: #808000; text-decoration-color: #808000\">\"echo '{}' &gt; ~/.bittensor/wallets/{}/co</span> <span style=\"color: #ff0000; text-decoration-color: #ff0000\">│</span>\n",
       "<span style=\"color: #ff0000; text-decoration-color: #ff0000\">│</span>                                                                                           <span style=\"color: #ff0000; text-decoration-color: #ff0000\">│</span>\n",
       "<span style=\"color: #ff0000; text-decoration-color: #ff0000\">│</span> <span style=\"color: #808000; text-decoration-color: #808000\">╭─────────── locals ────────────╮</span>                                                         <span style=\"color: #ff0000; text-decoration-color: #ff0000\">│</span>\n",
       "<span style=\"color: #ff0000; text-decoration-color: #ff0000\">│</span> <span style=\"color: #808000; text-decoration-color: #808000\">│</span>        disown = <span style=\"color: #0000ff; text-decoration-color: #0000ff\">False</span>         <span style=\"color: #808000; text-decoration-color: #808000\">│</span>                                                         <span style=\"color: #ff0000; text-decoration-color: #ff0000\">│</span>\n",
       "<span style=\"color: #ff0000; text-decoration-color: #ff0000\">│</span> <span style=\"color: #808000; text-decoration-color: #808000\">│</span>          hide = <span style=\"color: #0000ff; text-decoration-color: #0000ff\">True</span>          <span style=\"color: #808000; text-decoration-color: #808000\">│</span>                                                         <span style=\"color: #ff0000; text-decoration-color: #ff0000\">│</span>\n",
       "<span style=\"color: #ff0000; text-decoration-color: #ff0000\">│</span> <span style=\"color: #808000; text-decoration-color: #808000\">│</span>             i = <span style=\"color: #0000ff; text-decoration-color: #0000ff\">0</span>             <span style=\"color: #808000; text-decoration-color: #808000\">│</span>                                                         <span style=\"color: #ff0000; text-decoration-color: #ff0000\">│</span>\n",
       "<span style=\"color: #ff0000; text-decoration-color: #ff0000\">│</span> <span style=\"color: #808000; text-decoration-color: #808000\">│</span> is_registered = <span style=\"color: #0000ff; text-decoration-color: #0000ff\">False</span>         <span style=\"color: #808000; text-decoration-color: #808000\">│</span>                                                         <span style=\"color: #ff0000; text-decoration-color: #ff0000\">│</span>\n",
       "<span style=\"color: #ff0000; text-decoration-color: #ff0000\">│</span> <span style=\"color: #808000; text-decoration-color: #808000\">│</span>   max_threads = <span style=\"color: #0000ff; text-decoration-color: #0000ff\">100000</span>        <span style=\"color: #808000; text-decoration-color: #808000\">│</span>                                                         <span style=\"color: #ff0000; text-decoration-color: #ff0000\">│</span>\n",
       "<span style=\"color: #ff0000; text-decoration-color: #ff0000\">│</span> <span style=\"color: #808000; text-decoration-color: #808000\">│</span>       n_procs = <span style=\"color: #0000ff; text-decoration-color: #0000ff\">1</span>             <span style=\"color: #808000; text-decoration-color: #808000\">│</span>                                                         <span style=\"color: #ff0000; text-decoration-color: #ff0000\">│</span>\n",
       "<span style=\"color: #ff0000; text-decoration-color: #ff0000\">│</span> <span style=\"color: #808000; text-decoration-color: #808000\">│</span>       network = <span style=\"color: #808000; text-decoration-color: #808000\">'nakamoto'</span>    <span style=\"color: #808000; text-decoration-color: #808000\">│</span>                                                         <span style=\"color: #ff0000; text-decoration-color: #ff0000\">│</span>\n",
       "<span style=\"color: #ff0000; text-decoration-color: #ff0000\">│</span> <span style=\"color: #808000; text-decoration-color: #808000\">│</span>        target = <span style=\"color: #800080; text-decoration-color: #800080; font-weight: bold\">N</span><span style=\"font-weight: bold\">(</span>R-R14<span style=\"font-weight: bold\">)</span>      <span style=\"color: #808000; text-decoration-color: #808000\">│</span>                                                         <span style=\"color: #ff0000; text-decoration-color: #ff0000\">│</span>\n",
       "<span style=\"color: #ff0000; text-decoration-color: #ff0000\">│</span> <span style=\"color: #808000; text-decoration-color: #808000\">│</span>       targets = <span style=\"font-weight: bold\">[</span>             <span style=\"color: #808000; text-decoration-color: #808000\">│</span>                                                         <span style=\"color: #ff0000; text-decoration-color: #ff0000\">│</span>\n",
       "<span style=\"color: #ff0000; text-decoration-color: #ff0000\">│</span> <span style=\"color: #808000; text-decoration-color: #808000\">│</span>                 <span style=\"color: #7f7f7f; text-decoration-color: #7f7f7f\">│   </span><span style=\"color: #800080; text-decoration-color: #800080; font-weight: bold\">N</span><span style=\"font-weight: bold\">(</span>R-R10<span style=\"font-weight: bold\">)</span>, <span style=\"color: #808000; text-decoration-color: #808000\">│</span>                                                         <span style=\"color: #ff0000; text-decoration-color: #ff0000\">│</span>\n",
       "<span style=\"color: #ff0000; text-decoration-color: #ff0000\">│</span> <span style=\"color: #808000; text-decoration-color: #808000\">│</span>                 <span style=\"color: #7f7f7f; text-decoration-color: #7f7f7f\">│   </span><span style=\"color: #800080; text-decoration-color: #800080; font-weight: bold\">N</span><span style=\"font-weight: bold\">(</span>R-R11<span style=\"font-weight: bold\">)</span>, <span style=\"color: #808000; text-decoration-color: #808000\">│</span>                                                         <span style=\"color: #ff0000; text-decoration-color: #ff0000\">│</span>\n",
       "<span style=\"color: #ff0000; text-decoration-color: #ff0000\">│</span> <span style=\"color: #808000; text-decoration-color: #808000\">│</span>                 <span style=\"color: #7f7f7f; text-decoration-color: #7f7f7f\">│   </span><span style=\"color: #800080; text-decoration-color: #800080; font-weight: bold\">N</span><span style=\"font-weight: bold\">(</span>R-R12<span style=\"font-weight: bold\">)</span>, <span style=\"color: #808000; text-decoration-color: #808000\">│</span>                                                         <span style=\"color: #ff0000; text-decoration-color: #ff0000\">│</span>\n",
       "<span style=\"color: #ff0000; text-decoration-color: #ff0000\">│</span> <span style=\"color: #808000; text-decoration-color: #808000\">│</span>                 <span style=\"color: #7f7f7f; text-decoration-color: #7f7f7f\">│   </span><span style=\"color: #800080; text-decoration-color: #800080; font-weight: bold\">N</span><span style=\"font-weight: bold\">(</span>R-R13<span style=\"font-weight: bold\">)</span>, <span style=\"color: #808000; text-decoration-color: #808000\">│</span>                                                         <span style=\"color: #ff0000; text-decoration-color: #ff0000\">│</span>\n",
       "<span style=\"color: #ff0000; text-decoration-color: #ff0000\">│</span> <span style=\"color: #808000; text-decoration-color: #808000\">│</span>                 <span style=\"color: #7f7f7f; text-decoration-color: #7f7f7f\">│   </span><span style=\"color: #800080; text-decoration-color: #800080; font-weight: bold\">N</span><span style=\"font-weight: bold\">(</span>R-R14<span style=\"font-weight: bold\">)</span>, <span style=\"color: #808000; text-decoration-color: #808000\">│</span>                                                         <span style=\"color: #ff0000; text-decoration-color: #ff0000\">│</span>\n",
       "<span style=\"color: #ff0000; text-decoration-color: #ff0000\">│</span> <span style=\"color: #808000; text-decoration-color: #808000\">│</span>                 <span style=\"color: #7f7f7f; text-decoration-color: #7f7f7f\">│   </span><span style=\"color: #800080; text-decoration-color: #800080; font-weight: bold\">N</span><span style=\"font-weight: bold\">(</span>R-R15<span style=\"font-weight: bold\">)</span>, <span style=\"color: #808000; text-decoration-color: #808000\">│</span>                                                         <span style=\"color: #ff0000; text-decoration-color: #ff0000\">│</span>\n",
       "<span style=\"color: #ff0000; text-decoration-color: #ff0000\">│</span> <span style=\"color: #808000; text-decoration-color: #808000\">│</span>                 <span style=\"color: #7f7f7f; text-decoration-color: #7f7f7f\">│   </span><span style=\"color: #800080; text-decoration-color: #800080; font-weight: bold\">N</span><span style=\"font-weight: bold\">(</span>R-R16<span style=\"font-weight: bold\">)</span>, <span style=\"color: #808000; text-decoration-color: #808000\">│</span>                                                         <span style=\"color: #ff0000; text-decoration-color: #ff0000\">│</span>\n",
       "<span style=\"color: #ff0000; text-decoration-color: #ff0000\">│</span> <span style=\"color: #808000; text-decoration-color: #808000\">│</span>                 <span style=\"color: #7f7f7f; text-decoration-color: #7f7f7f\">│   </span><span style=\"color: #800080; text-decoration-color: #800080; font-weight: bold\">N</span><span style=\"font-weight: bold\">(</span>R-R17<span style=\"font-weight: bold\">)</span>, <span style=\"color: #808000; text-decoration-color: #808000\">│</span>                                                         <span style=\"color: #ff0000; text-decoration-color: #ff0000\">│</span>\n",
       "<span style=\"color: #ff0000; text-decoration-color: #ff0000\">│</span> <span style=\"color: #808000; text-decoration-color: #808000\">│</span>                 <span style=\"color: #7f7f7f; text-decoration-color: #7f7f7f\">│   </span><span style=\"color: #800080; text-decoration-color: #800080; font-weight: bold\">N</span><span style=\"font-weight: bold\">(</span>R-R18<span style=\"font-weight: bold\">)</span>, <span style=\"color: #808000; text-decoration-color: #808000\">│</span>                                                         <span style=\"color: #ff0000; text-decoration-color: #ff0000\">│</span>\n",
       "<span style=\"color: #ff0000; text-decoration-color: #ff0000\">│</span> <span style=\"color: #808000; text-decoration-color: #808000\">│</span>                 <span style=\"color: #7f7f7f; text-decoration-color: #7f7f7f\">│   </span><span style=\"color: #800080; text-decoration-color: #800080; font-weight: bold\">N</span><span style=\"font-weight: bold\">(</span>R-R19<span style=\"font-weight: bold\">)</span>  <span style=\"color: #808000; text-decoration-color: #808000\">│</span>                                                         <span style=\"color: #ff0000; text-decoration-color: #ff0000\">│</span>\n",
       "<span style=\"color: #ff0000; text-decoration-color: #ff0000\">│</span> <span style=\"color: #808000; text-decoration-color: #808000\">│</span>                 <span style=\"font-weight: bold\">]</span>             <span style=\"color: #808000; text-decoration-color: #808000\">│</span>                                                         <span style=\"color: #ff0000; text-decoration-color: #ff0000\">│</span>\n",
       "<span style=\"color: #ff0000; text-decoration-color: #ff0000\">│</span> <span style=\"color: #808000; text-decoration-color: #808000\">│</span>       timeout = <span style=\"color: #0000ff; text-decoration-color: #0000ff\">30</span>            <span style=\"color: #808000; text-decoration-color: #808000\">│</span>                                                         <span style=\"color: #ff0000; text-decoration-color: #ff0000\">│</span>\n",
       "<span style=\"color: #ff0000; text-decoration-color: #ff0000\">│</span> <span style=\"color: #808000; text-decoration-color: #808000\">│</span>          warn = <span style=\"color: #0000ff; text-decoration-color: #0000ff\">False</span>         <span style=\"color: #808000; text-decoration-color: #808000\">│</span>                                                         <span style=\"color: #ff0000; text-decoration-color: #ff0000\">│</span>\n",
       "<span style=\"color: #ff0000; text-decoration-color: #ff0000\">│</span> <span style=\"color: #808000; text-decoration-color: #808000\">│</span>       workers = <span style=\"font-weight: bold\">[</span>             <span style=\"color: #808000; text-decoration-color: #808000\">│</span>                                                         <span style=\"color: #ff0000; text-decoration-color: #ff0000\">│</span>\n",
       "<span style=\"color: #ff0000; text-decoration-color: #ff0000\">│</span> <span style=\"color: #808000; text-decoration-color: #808000\">│</span>                 <span style=\"color: #7f7f7f; text-decoration-color: #7f7f7f\">│   </span><span style=\"color: #800080; text-decoration-color: #800080; font-weight: bold\">N</span><span style=\"font-weight: bold\">(</span>R-R0<span style=\"font-weight: bold\">)</span>,  <span style=\"color: #808000; text-decoration-color: #808000\">│</span>                                                         <span style=\"color: #ff0000; text-decoration-color: #ff0000\">│</span>\n",
       "<span style=\"color: #ff0000; text-decoration-color: #ff0000\">│</span> <span style=\"color: #808000; text-decoration-color: #808000\">│</span>                 <span style=\"color: #7f7f7f; text-decoration-color: #7f7f7f\">│   </span><span style=\"color: #800080; text-decoration-color: #800080; font-weight: bold\">N</span><span style=\"font-weight: bold\">(</span>R-R1<span style=\"font-weight: bold\">)</span>,  <span style=\"color: #808000; text-decoration-color: #808000\">│</span>                                                         <span style=\"color: #ff0000; text-decoration-color: #ff0000\">│</span>\n",
       "<span style=\"color: #ff0000; text-decoration-color: #ff0000\">│</span> <span style=\"color: #808000; text-decoration-color: #808000\">│</span>                 <span style=\"color: #7f7f7f; text-decoration-color: #7f7f7f\">│   </span><span style=\"color: #800080; text-decoration-color: #800080; font-weight: bold\">N</span><span style=\"font-weight: bold\">(</span>R-R2<span style=\"font-weight: bold\">)</span>,  <span style=\"color: #808000; text-decoration-color: #808000\">│</span>                                                         <span style=\"color: #ff0000; text-decoration-color: #ff0000\">│</span>\n",
       "<span style=\"color: #ff0000; text-decoration-color: #ff0000\">│</span> <span style=\"color: #808000; text-decoration-color: #808000\">│</span>                 <span style=\"color: #7f7f7f; text-decoration-color: #7f7f7f\">│   </span><span style=\"color: #800080; text-decoration-color: #800080; font-weight: bold\">N</span><span style=\"font-weight: bold\">(</span>R-R3<span style=\"font-weight: bold\">)</span>,  <span style=\"color: #808000; text-decoration-color: #808000\">│</span>                                                         <span style=\"color: #ff0000; text-decoration-color: #ff0000\">│</span>\n",
       "<span style=\"color: #ff0000; text-decoration-color: #ff0000\">│</span> <span style=\"color: #808000; text-decoration-color: #808000\">│</span>                 <span style=\"color: #7f7f7f; text-decoration-color: #7f7f7f\">│   </span><span style=\"color: #800080; text-decoration-color: #800080; font-weight: bold\">N</span><span style=\"font-weight: bold\">(</span>R-R4<span style=\"font-weight: bold\">)</span>,  <span style=\"color: #808000; text-decoration-color: #808000\">│</span>                                                         <span style=\"color: #ff0000; text-decoration-color: #ff0000\">│</span>\n",
       "<span style=\"color: #ff0000; text-decoration-color: #ff0000\">│</span> <span style=\"color: #808000; text-decoration-color: #808000\">│</span>                 <span style=\"color: #7f7f7f; text-decoration-color: #7f7f7f\">│   </span><span style=\"color: #800080; text-decoration-color: #800080; font-weight: bold\">N</span><span style=\"font-weight: bold\">(</span>R-R5<span style=\"font-weight: bold\">)</span>,  <span style=\"color: #808000; text-decoration-color: #808000\">│</span>                                                         <span style=\"color: #ff0000; text-decoration-color: #ff0000\">│</span>\n",
       "<span style=\"color: #ff0000; text-decoration-color: #ff0000\">│</span> <span style=\"color: #808000; text-decoration-color: #808000\">│</span>                 <span style=\"color: #7f7f7f; text-decoration-color: #7f7f7f\">│   </span><span style=\"color: #800080; text-decoration-color: #800080; font-weight: bold\">N</span><span style=\"font-weight: bold\">(</span>R-R6<span style=\"font-weight: bold\">)</span>,  <span style=\"color: #808000; text-decoration-color: #808000\">│</span>                                                         <span style=\"color: #ff0000; text-decoration-color: #ff0000\">│</span>\n",
       "<span style=\"color: #ff0000; text-decoration-color: #ff0000\">│</span> <span style=\"color: #808000; text-decoration-color: #808000\">│</span>                 <span style=\"color: #7f7f7f; text-decoration-color: #7f7f7f\">│   </span><span style=\"color: #800080; text-decoration-color: #800080; font-weight: bold\">N</span><span style=\"font-weight: bold\">(</span>R-R7<span style=\"font-weight: bold\">)</span>,  <span style=\"color: #808000; text-decoration-color: #808000\">│</span>                                                         <span style=\"color: #ff0000; text-decoration-color: #ff0000\">│</span>\n",
       "<span style=\"color: #ff0000; text-decoration-color: #ff0000\">│</span> <span style=\"color: #808000; text-decoration-color: #808000\">│</span>                 <span style=\"color: #7f7f7f; text-decoration-color: #7f7f7f\">│   </span><span style=\"color: #800080; text-decoration-color: #800080; font-weight: bold\">N</span><span style=\"font-weight: bold\">(</span>R-R8<span style=\"font-weight: bold\">)</span>,  <span style=\"color: #808000; text-decoration-color: #808000\">│</span>                                                         <span style=\"color: #ff0000; text-decoration-color: #ff0000\">│</span>\n",
       "<span style=\"color: #ff0000; text-decoration-color: #ff0000\">│</span> <span style=\"color: #808000; text-decoration-color: #808000\">│</span>                 <span style=\"color: #7f7f7f; text-decoration-color: #7f7f7f\">│   </span><span style=\"color: #800080; text-decoration-color: #800080; font-weight: bold\">N</span><span style=\"font-weight: bold\">(</span>R-R9<span style=\"font-weight: bold\">)</span>,  <span style=\"color: #808000; text-decoration-color: #808000\">│</span>                                                         <span style=\"color: #ff0000; text-decoration-color: #ff0000\">│</span>\n",
       "<span style=\"color: #ff0000; text-decoration-color: #ff0000\">│</span> <span style=\"color: #808000; text-decoration-color: #808000\">│</span>                 <span style=\"color: #7f7f7f; text-decoration-color: #7f7f7f\">│   </span><span style=\"color: #808000; text-decoration-color: #808000\">...</span> +<span style=\"color: #0000ff; text-decoration-color: #0000ff\">290</span>  <span style=\"color: #808000; text-decoration-color: #808000\">│</span>                                                         <span style=\"color: #ff0000; text-decoration-color: #ff0000\">│</span>\n",
       "<span style=\"color: #ff0000; text-decoration-color: #ff0000\">│</span> <span style=\"color: #808000; text-decoration-color: #808000\">│</span>                 <span style=\"font-weight: bold\">]</span>             <span style=\"color: #808000; text-decoration-color: #808000\">│</span>                                                         <span style=\"color: #ff0000; text-decoration-color: #ff0000\">│</span>\n",
       "<span style=\"color: #ff0000; text-decoration-color: #ff0000\">│</span> <span style=\"color: #808000; text-decoration-color: #808000\">╰───────────────────────────────╯</span>                                                         <span style=\"color: #ff0000; text-decoration-color: #ff0000\">│</span>\n",
       "<span style=\"color: #ff0000; text-decoration-color: #ff0000\">│</span>                                                                                           <span style=\"color: #ff0000; text-decoration-color: #ff0000\">│</span>\n",
       "<span style=\"color: #ff0000; text-decoration-color: #ff0000\">│</span> <span style=\"color: #bfbf7f; text-decoration-color: #bfbf7f\">/Users/thebes/Work/HUD/</span><span style=\"color: #808000; text-decoration-color: #808000; font-weight: bold\">hud.py</span>:<span style=\"color: #0000ff; text-decoration-color: #0000ff\">344</span> in <span style=\"color: #00ff00; text-decoration-color: #00ff00\">_run</span>                                                 <span style=\"color: #ff0000; text-decoration-color: #ff0000\">│</span>\n",
       "<span style=\"color: #ff0000; text-decoration-color: #ff0000\">│</span>                                                                                           <span style=\"color: #ff0000; text-decoration-color: #ff0000\">│</span>\n",
       "<span style=\"color: #ff0000; text-decoration-color: #ff0000\">│</span>   <span style=\"color: #7f7f7f; text-decoration-color: #7f7f7f\">341 │   │   </span>futs = []                                                                   <span style=\"color: #ff0000; text-decoration-color: #ff0000\">│</span>\n",
       "<span style=\"color: #ff0000; text-decoration-color: #ff0000\">│</span>   <span style=\"color: #7f7f7f; text-decoration-color: #7f7f7f\">342 │   │   </span><span style=\"color: #0000ff; text-decoration-color: #0000ff\">with</span> ThreadPoolExecutor(max_workers=<span style=\"color: #00ffff; text-decoration-color: #00ffff\">min</span>(max_threads, <span style=\"color: #00ffff; text-decoration-color: #00ffff\">len</span>(neurons))) <span style=\"color: #0000ff; text-decoration-color: #0000ff\">as</span> exec <span style=\"color: #ff0000; text-decoration-color: #ff0000\">│</span>\n",
       "<span style=\"color: #ff0000; text-decoration-color: #ff0000\">│</span>   <span style=\"color: #7f7f7f; text-decoration-color: #7f7f7f\">343 │   │   │   </span><span style=\"color: #0000ff; text-decoration-color: #0000ff\">for</span> n <span style=\"color: #ff00ff; text-decoration-color: #ff00ff\">in</span> neurons:                                                       <span style=\"color: #ff0000; text-decoration-color: #ff0000\">│</span>\n",
       "<span style=\"color: #ff0000; text-decoration-color: #ff0000\">│</span> <span style=\"color: #800000; text-decoration-color: #800000\">❱ </span>344 <span style=\"color: #7f7f7f; text-decoration-color: #7f7f7f\">│   │   │   │   </span>futs.append( (n, executor.submit(_run, n)) )                        <span style=\"color: #ff0000; text-decoration-color: #ff0000\">│</span>\n",
       "<span style=\"color: #ff0000; text-decoration-color: #ff0000\">│</span>   <span style=\"color: #7f7f7f; text-decoration-color: #7f7f7f\">345 │   │   </span>results = HUDDict()                                                         <span style=\"color: #ff0000; text-decoration-color: #ff0000\">│</span>\n",
       "<span style=\"color: #ff0000; text-decoration-color: #ff0000\">│</span>   <span style=\"color: #7f7f7f; text-decoration-color: #7f7f7f\">346 │   │   </span><span style=\"color: #0000ff; text-decoration-color: #0000ff\">for</span> n, fut <span style=\"color: #ff00ff; text-decoration-color: #ff00ff\">in</span> futs:                                                         <span style=\"color: #ff0000; text-decoration-color: #ff0000\">│</span>\n",
       "<span style=\"color: #ff0000; text-decoration-color: #ff0000\">│</span>   <span style=\"color: #7f7f7f; text-decoration-color: #7f7f7f\">347 │   │   │   </span><span style=\"color: #0000ff; text-decoration-color: #0000ff\">try</span>:                                                                    <span style=\"color: #ff0000; text-decoration-color: #ff0000\">│</span>\n",
       "<span style=\"color: #ff0000; text-decoration-color: #ff0000\">│</span>                                                                                           <span style=\"color: #ff0000; text-decoration-color: #ff0000\">│</span>\n",
       "<span style=\"color: #ff0000; text-decoration-color: #ff0000\">│</span> <span style=\"color: #808000; text-decoration-color: #808000\">╭────────────────────────────────────── locals ──────────────────────────────────────╮</span>    <span style=\"color: #ff0000; text-decoration-color: #ff0000\">│</span>\n",
       "<span style=\"color: #ff0000; text-decoration-color: #ff0000\">│</span> <span style=\"color: #808000; text-decoration-color: #808000\">│</span>        _run = <span style=\"font-weight: bold\">&lt;</span><span style=\"color: #ff00ff; text-decoration-color: #ff00ff; font-weight: bold\">function</span><span style=\"color: #000000; text-decoration-color: #000000\"> HUD._run.&lt;locals</span><span style=\"font-weight: bold\">&gt;</span>._run at <span style=\"color: #0000ff; text-decoration-color: #0000ff\">0x14aab4ee0</span>&gt;                     <span style=\"color: #808000; text-decoration-color: #808000\">│</span>    <span style=\"color: #ff0000; text-decoration-color: #ff0000\">│</span>\n",
       "<span style=\"color: #ff0000; text-decoration-color: #ff0000\">│</span> <span style=\"color: #808000; text-decoration-color: #808000\">│</span>      disown = <span style=\"color: #0000ff; text-decoration-color: #0000ff\">False</span>                                                                <span style=\"color: #808000; text-decoration-color: #808000\">│</span>    <span style=\"color: #ff0000; text-decoration-color: #ff0000\">│</span>\n",
       "<span style=\"color: #ff0000; text-decoration-color: #ff0000\">│</span> <span style=\"color: #808000; text-decoration-color: #808000\">│</span>    executor = <span style=\"font-weight: bold\">&lt;</span><span style=\"color: #ff00ff; text-decoration-color: #ff00ff; font-weight: bold\">concurrent.futures.thread.ThreadPoolExecutor</span><span style=\"color: #000000; text-decoration-color: #000000\"> object at </span><span style=\"color: #0000ff; text-decoration-color: #0000ff\">0x13c1a1550</span><span style=\"font-weight: bold\">&gt;</span> <span style=\"color: #808000; text-decoration-color: #808000\">│</span>    <span style=\"color: #ff0000; text-decoration-color: #ff0000\">│</span>\n",
       "<span style=\"color: #ff0000; text-decoration-color: #ff0000\">│</span> <span style=\"color: #808000; text-decoration-color: #808000\">│</span>        futs = <span style=\"font-weight: bold\">[</span>                                                                    <span style=\"color: #808000; text-decoration-color: #808000\">│</span>    <span style=\"color: #ff0000; text-decoration-color: #ff0000\">│</span>\n",
       "<span style=\"color: #ff0000; text-decoration-color: #ff0000\">│</span> <span style=\"color: #808000; text-decoration-color: #808000\">│</span>               <span style=\"color: #7f7f7f; text-decoration-color: #7f7f7f\">│   </span><span style=\"font-weight: bold\">(</span><span style=\"color: #800080; text-decoration-color: #800080; font-weight: bold\">N</span><span style=\"font-weight: bold\">(</span>R-R0<span style=\"font-weight: bold\">)</span>, <span style=\"font-weight: bold\">&lt;</span><span style=\"color: #ff00ff; text-decoration-color: #ff00ff; font-weight: bold\">Future</span><span style=\"color: #000000; text-decoration-color: #000000\"> at </span><span style=\"color: #0000ff; text-decoration-color: #0000ff\">0x14adfbf40</span><span style=\"color: #000000; text-decoration-color: #000000\"> </span><span style=\"color: #808000; text-decoration-color: #808000\">state</span><span style=\"color: #000000; text-decoration-color: #000000\">=</span><span style=\"color: #800080; text-decoration-color: #800080\">finished</span><span style=\"color: #000000; text-decoration-color: #000000\"> returned str</span><span style=\"font-weight: bold\">&gt;)</span>,  <span style=\"color: #808000; text-decoration-color: #808000\">│</span>    <span style=\"color: #ff0000; text-decoration-color: #ff0000\">│</span>\n",
       "<span style=\"color: #ff0000; text-decoration-color: #ff0000\">│</span> <span style=\"color: #808000; text-decoration-color: #808000\">│</span>               <span style=\"color: #7f7f7f; text-decoration-color: #7f7f7f\">│   </span><span style=\"font-weight: bold\">(</span><span style=\"color: #800080; text-decoration-color: #800080; font-weight: bold\">N</span><span style=\"font-weight: bold\">(</span>R-R1<span style=\"font-weight: bold\">)</span>, <span style=\"font-weight: bold\">&lt;</span><span style=\"color: #ff00ff; text-decoration-color: #ff00ff; font-weight: bold\">Future</span><span style=\"color: #000000; text-decoration-color: #000000\"> at </span><span style=\"color: #0000ff; text-decoration-color: #0000ff\">0x1380adb80</span><span style=\"color: #000000; text-decoration-color: #000000\"> </span><span style=\"color: #808000; text-decoration-color: #808000\">state</span><span style=\"color: #000000; text-decoration-color: #000000\">=</span><span style=\"color: #800080; text-decoration-color: #800080\">finished</span><span style=\"color: #000000; text-decoration-color: #000000\"> returned str</span><span style=\"font-weight: bold\">&gt;)</span>,  <span style=\"color: #808000; text-decoration-color: #808000\">│</span>    <span style=\"color: #ff0000; text-decoration-color: #ff0000\">│</span>\n",
       "<span style=\"color: #ff0000; text-decoration-color: #ff0000\">│</span> <span style=\"color: #808000; text-decoration-color: #808000\">│</span>               <span style=\"color: #7f7f7f; text-decoration-color: #7f7f7f\">│   </span><span style=\"font-weight: bold\">(</span><span style=\"color: #800080; text-decoration-color: #800080; font-weight: bold\">N</span><span style=\"font-weight: bold\">(</span>R-R2<span style=\"font-weight: bold\">)</span>, <span style=\"font-weight: bold\">&lt;</span><span style=\"color: #ff00ff; text-decoration-color: #ff00ff; font-weight: bold\">Future</span><span style=\"color: #000000; text-decoration-color: #000000\"> at </span><span style=\"color: #0000ff; text-decoration-color: #0000ff\">0x11cfd8370</span><span style=\"color: #000000; text-decoration-color: #000000\"> </span><span style=\"color: #808000; text-decoration-color: #808000\">state</span><span style=\"color: #000000; text-decoration-color: #000000\">=</span><span style=\"color: #800080; text-decoration-color: #800080\">finished</span><span style=\"color: #000000; text-decoration-color: #000000\"> returned str</span><span style=\"font-weight: bold\">&gt;)</span>,  <span style=\"color: #808000; text-decoration-color: #808000\">│</span>    <span style=\"color: #ff0000; text-decoration-color: #ff0000\">│</span>\n",
       "<span style=\"color: #ff0000; text-decoration-color: #ff0000\">│</span> <span style=\"color: #808000; text-decoration-color: #808000\">│</span>               <span style=\"color: #7f7f7f; text-decoration-color: #7f7f7f\">│   </span><span style=\"font-weight: bold\">(</span><span style=\"color: #800080; text-decoration-color: #800080; font-weight: bold\">N</span><span style=\"font-weight: bold\">(</span>R-R3<span style=\"font-weight: bold\">)</span>, <span style=\"font-weight: bold\">&lt;</span><span style=\"color: #ff00ff; text-decoration-color: #ff00ff; font-weight: bold\">Future</span><span style=\"color: #000000; text-decoration-color: #000000\"> at </span><span style=\"color: #0000ff; text-decoration-color: #0000ff\">0x139833940</span><span style=\"color: #000000; text-decoration-color: #000000\"> </span><span style=\"color: #808000; text-decoration-color: #808000\">state</span><span style=\"color: #000000; text-decoration-color: #000000\">=</span><span style=\"color: #800080; text-decoration-color: #800080\">finished</span><span style=\"color: #000000; text-decoration-color: #000000\"> returned str</span><span style=\"font-weight: bold\">&gt;)</span>,  <span style=\"color: #808000; text-decoration-color: #808000\">│</span>    <span style=\"color: #ff0000; text-decoration-color: #ff0000\">│</span>\n",
       "<span style=\"color: #ff0000; text-decoration-color: #ff0000\">│</span> <span style=\"color: #808000; text-decoration-color: #808000\">│</span>               <span style=\"color: #7f7f7f; text-decoration-color: #7f7f7f\">│   </span><span style=\"font-weight: bold\">(</span><span style=\"color: #800080; text-decoration-color: #800080; font-weight: bold\">N</span><span style=\"font-weight: bold\">(</span>R-R4<span style=\"font-weight: bold\">)</span>, <span style=\"font-weight: bold\">&lt;</span><span style=\"color: #ff00ff; text-decoration-color: #ff00ff; font-weight: bold\">Future</span><span style=\"color: #000000; text-decoration-color: #000000\"> at </span><span style=\"color: #0000ff; text-decoration-color: #0000ff\">0x13a4794f0</span><span style=\"color: #000000; text-decoration-color: #000000\"> </span><span style=\"color: #808000; text-decoration-color: #808000\">state</span><span style=\"color: #000000; text-decoration-color: #000000\">=</span><span style=\"color: #800080; text-decoration-color: #800080\">finished</span><span style=\"color: #000000; text-decoration-color: #000000\"> returned str</span><span style=\"font-weight: bold\">&gt;)</span>,  <span style=\"color: #808000; text-decoration-color: #808000\">│</span>    <span style=\"color: #ff0000; text-decoration-color: #ff0000\">│</span>\n",
       "<span style=\"color: #ff0000; text-decoration-color: #ff0000\">│</span> <span style=\"color: #808000; text-decoration-color: #808000\">│</span>               <span style=\"color: #7f7f7f; text-decoration-color: #7f7f7f\">│   </span><span style=\"font-weight: bold\">(</span><span style=\"color: #800080; text-decoration-color: #800080; font-weight: bold\">N</span><span style=\"font-weight: bold\">(</span>R-R5<span style=\"font-weight: bold\">)</span>, <span style=\"font-weight: bold\">&lt;</span><span style=\"color: #ff00ff; text-decoration-color: #ff00ff; font-weight: bold\">Future</span><span style=\"color: #000000; text-decoration-color: #000000\"> at </span><span style=\"color: #0000ff; text-decoration-color: #0000ff\">0x14bbc71c0</span><span style=\"color: #000000; text-decoration-color: #000000\"> </span><span style=\"color: #808000; text-decoration-color: #808000\">state</span><span style=\"color: #000000; text-decoration-color: #000000\">=</span><span style=\"color: #800080; text-decoration-color: #800080\">finished</span><span style=\"color: #000000; text-decoration-color: #000000\"> returned str</span><span style=\"font-weight: bold\">&gt;)</span>,  <span style=\"color: #808000; text-decoration-color: #808000\">│</span>    <span style=\"color: #ff0000; text-decoration-color: #ff0000\">│</span>\n",
       "<span style=\"color: #ff0000; text-decoration-color: #ff0000\">│</span> <span style=\"color: #808000; text-decoration-color: #808000\">│</span>               <span style=\"color: #7f7f7f; text-decoration-color: #7f7f7f\">│   </span><span style=\"font-weight: bold\">(</span><span style=\"color: #800080; text-decoration-color: #800080; font-weight: bold\">N</span><span style=\"font-weight: bold\">(</span>R-R6<span style=\"font-weight: bold\">)</span>, <span style=\"font-weight: bold\">&lt;</span><span style=\"color: #ff00ff; text-decoration-color: #ff00ff; font-weight: bold\">Future</span><span style=\"color: #000000; text-decoration-color: #000000\"> at </span><span style=\"color: #0000ff; text-decoration-color: #0000ff\">0x12eed0910</span><span style=\"color: #000000; text-decoration-color: #000000\"> </span><span style=\"color: #808000; text-decoration-color: #808000\">state</span><span style=\"color: #000000; text-decoration-color: #000000\">=</span><span style=\"color: #800080; text-decoration-color: #800080\">finished</span><span style=\"color: #000000; text-decoration-color: #000000\"> returned str</span><span style=\"font-weight: bold\">&gt;)</span>,  <span style=\"color: #808000; text-decoration-color: #808000\">│</span>    <span style=\"color: #ff0000; text-decoration-color: #ff0000\">│</span>\n",
       "<span style=\"color: #ff0000; text-decoration-color: #ff0000\">│</span> <span style=\"color: #808000; text-decoration-color: #808000\">│</span>               <span style=\"color: #7f7f7f; text-decoration-color: #7f7f7f\">│   </span><span style=\"font-weight: bold\">(</span><span style=\"color: #800080; text-decoration-color: #800080; font-weight: bold\">N</span><span style=\"font-weight: bold\">(</span>R-R7<span style=\"font-weight: bold\">)</span>, <span style=\"font-weight: bold\">&lt;</span><span style=\"color: #ff00ff; text-decoration-color: #ff00ff; font-weight: bold\">Future</span><span style=\"color: #000000; text-decoration-color: #000000\"> at </span><span style=\"color: #0000ff; text-decoration-color: #0000ff\">0x14abf2070</span><span style=\"color: #000000; text-decoration-color: #000000\"> </span><span style=\"color: #808000; text-decoration-color: #808000\">state</span><span style=\"color: #000000; text-decoration-color: #000000\">=</span><span style=\"color: #800080; text-decoration-color: #800080\">finished</span><span style=\"color: #000000; text-decoration-color: #000000\"> returned str</span><span style=\"font-weight: bold\">&gt;)</span>,  <span style=\"color: #808000; text-decoration-color: #808000\">│</span>    <span style=\"color: #ff0000; text-decoration-color: #ff0000\">│</span>\n",
       "<span style=\"color: #ff0000; text-decoration-color: #ff0000\">│</span> <span style=\"color: #808000; text-decoration-color: #808000\">│</span>               <span style=\"color: #7f7f7f; text-decoration-color: #7f7f7f\">│   </span><span style=\"font-weight: bold\">(</span><span style=\"color: #800080; text-decoration-color: #800080; font-weight: bold\">N</span><span style=\"font-weight: bold\">(</span>R-R8<span style=\"font-weight: bold\">)</span>, <span style=\"font-weight: bold\">&lt;</span><span style=\"color: #ff00ff; text-decoration-color: #ff00ff; font-weight: bold\">Future</span><span style=\"color: #000000; text-decoration-color: #000000\"> at </span><span style=\"color: #0000ff; text-decoration-color: #0000ff\">0x14aa3b820</span><span style=\"color: #000000; text-decoration-color: #000000\"> </span><span style=\"color: #808000; text-decoration-color: #808000\">state</span><span style=\"color: #000000; text-decoration-color: #000000\">=</span><span style=\"color: #800080; text-decoration-color: #800080\">finished</span><span style=\"color: #000000; text-decoration-color: #000000\"> returned str</span><span style=\"font-weight: bold\">&gt;)</span>,  <span style=\"color: #808000; text-decoration-color: #808000\">│</span>    <span style=\"color: #ff0000; text-decoration-color: #ff0000\">│</span>\n",
       "<span style=\"color: #ff0000; text-decoration-color: #ff0000\">│</span> <span style=\"color: #808000; text-decoration-color: #808000\">│</span>               <span style=\"color: #7f7f7f; text-decoration-color: #7f7f7f\">│   </span><span style=\"font-weight: bold\">(</span><span style=\"color: #800080; text-decoration-color: #800080; font-weight: bold\">N</span><span style=\"font-weight: bold\">(</span>R-R9<span style=\"font-weight: bold\">)</span>, <span style=\"font-weight: bold\">&lt;</span><span style=\"color: #ff00ff; text-decoration-color: #ff00ff; font-weight: bold\">Future</span><span style=\"color: #000000; text-decoration-color: #000000\"> at </span><span style=\"color: #0000ff; text-decoration-color: #0000ff\">0x13cc5f9d0</span><span style=\"color: #000000; text-decoration-color: #000000\"> </span><span style=\"color: #808000; text-decoration-color: #808000\">state</span><span style=\"color: #000000; text-decoration-color: #000000\">=</span><span style=\"color: #800080; text-decoration-color: #800080\">finished</span><span style=\"color: #000000; text-decoration-color: #000000\"> returned str</span><span style=\"font-weight: bold\">&gt;)</span>,  <span style=\"color: #808000; text-decoration-color: #808000\">│</span>    <span style=\"color: #ff0000; text-decoration-color: #ff0000\">│</span>\n",
       "<span style=\"color: #ff0000; text-decoration-color: #ff0000\">│</span> <span style=\"color: #808000; text-decoration-color: #808000\">│</span>               <span style=\"color: #7f7f7f; text-decoration-color: #7f7f7f\">│   </span><span style=\"color: #808000; text-decoration-color: #808000\">...</span> +<span style=\"color: #0000ff; text-decoration-color: #0000ff\">290</span>                                                         <span style=\"color: #808000; text-decoration-color: #808000\">│</span>    <span style=\"color: #ff0000; text-decoration-color: #ff0000\">│</span>\n",
       "<span style=\"color: #ff0000; text-decoration-color: #ff0000\">│</span> <span style=\"color: #808000; text-decoration-color: #808000\">│</span>               <span style=\"font-weight: bold\">]</span>                                                                    <span style=\"color: #808000; text-decoration-color: #808000\">│</span>    <span style=\"color: #ff0000; text-decoration-color: #ff0000\">│</span>\n",
       "<span style=\"color: #ff0000; text-decoration-color: #ff0000\">│</span> <span style=\"color: #808000; text-decoration-color: #808000\">│</span>        hide = <span style=\"color: #0000ff; text-decoration-color: #0000ff\">True</span>                                                                 <span style=\"color: #808000; text-decoration-color: #808000\">│</span>    <span style=\"color: #ff0000; text-decoration-color: #ff0000\">│</span>\n",
       "<span style=\"color: #ff0000; text-decoration-color: #ff0000\">│</span> <span style=\"color: #808000; text-decoration-color: #808000\">│</span>       is_ok = <span style=\"color: #0000ff; text-decoration-color: #0000ff\">False</span>                                                                <span style=\"color: #808000; text-decoration-color: #808000\">│</span>    <span style=\"color: #ff0000; text-decoration-color: #ff0000\">│</span>\n",
       "<span style=\"color: #ff0000; text-decoration-color: #ff0000\">│</span> <span style=\"color: #808000; text-decoration-color: #808000\">│</span>   is_script = <span style=\"color: #0000ff; text-decoration-color: #0000ff\">True</span>                                                                 <span style=\"color: #808000; text-decoration-color: #808000\">│</span>    <span style=\"color: #ff0000; text-decoration-color: #ff0000\">│</span>\n",
       "<span style=\"color: #ff0000; text-decoration-color: #ff0000\">│</span> <span style=\"color: #808000; text-decoration-color: #808000\">│</span> max_threads = <span style=\"color: #0000ff; text-decoration-color: #0000ff\">100000</span>                                                               <span style=\"color: #808000; text-decoration-color: #808000\">│</span>    <span style=\"color: #ff0000; text-decoration-color: #ff0000\">│</span>\n",
       "<span style=\"color: #ff0000; text-decoration-color: #ff0000\">│</span> <span style=\"color: #808000; text-decoration-color: #808000\">│</span>           n = <span style=\"color: #800080; text-decoration-color: #800080; font-weight: bold\">N</span><span style=\"font-weight: bold\">(</span>R-R299<span style=\"font-weight: bold\">)</span>                                                            <span style=\"color: #808000; text-decoration-color: #808000\">│</span>    <span style=\"color: #ff0000; text-decoration-color: #ff0000\">│</span>\n",
       "<span style=\"color: #ff0000; text-decoration-color: #ff0000\">│</span> <span style=\"color: #808000; text-decoration-color: #808000\">│</span>     neurons = <span style=\"font-weight: bold\">[</span>                                                                    <span style=\"color: #808000; text-decoration-color: #808000\">│</span>    <span style=\"color: #ff0000; text-decoration-color: #ff0000\">│</span>\n",
       "<span style=\"color: #ff0000; text-decoration-color: #ff0000\">│</span> <span style=\"color: #808000; text-decoration-color: #808000\">│</span>               <span style=\"color: #7f7f7f; text-decoration-color: #7f7f7f\">│   </span><span style=\"color: #800080; text-decoration-color: #800080; font-weight: bold\">N</span><span style=\"font-weight: bold\">(</span>R-R0<span style=\"font-weight: bold\">)</span>,                                                         <span style=\"color: #808000; text-decoration-color: #808000\">│</span>    <span style=\"color: #ff0000; text-decoration-color: #ff0000\">│</span>\n",
       "<span style=\"color: #ff0000; text-decoration-color: #ff0000\">│</span> <span style=\"color: #808000; text-decoration-color: #808000\">│</span>               <span style=\"color: #7f7f7f; text-decoration-color: #7f7f7f\">│   </span><span style=\"color: #800080; text-decoration-color: #800080; font-weight: bold\">N</span><span style=\"font-weight: bold\">(</span>R-R1<span style=\"font-weight: bold\">)</span>,                                                         <span style=\"color: #808000; text-decoration-color: #808000\">│</span>    <span style=\"color: #ff0000; text-decoration-color: #ff0000\">│</span>\n",
       "<span style=\"color: #ff0000; text-decoration-color: #ff0000\">│</span> <span style=\"color: #808000; text-decoration-color: #808000\">│</span>               <span style=\"color: #7f7f7f; text-decoration-color: #7f7f7f\">│   </span><span style=\"color: #800080; text-decoration-color: #800080; font-weight: bold\">N</span><span style=\"font-weight: bold\">(</span>R-R2<span style=\"font-weight: bold\">)</span>,                                                         <span style=\"color: #808000; text-decoration-color: #808000\">│</span>    <span style=\"color: #ff0000; text-decoration-color: #ff0000\">│</span>\n",
       "<span style=\"color: #ff0000; text-decoration-color: #ff0000\">│</span> <span style=\"color: #808000; text-decoration-color: #808000\">│</span>               <span style=\"color: #7f7f7f; text-decoration-color: #7f7f7f\">│   </span><span style=\"color: #800080; text-decoration-color: #800080; font-weight: bold\">N</span><span style=\"font-weight: bold\">(</span>R-R3<span style=\"font-weight: bold\">)</span>,                                                         <span style=\"color: #808000; text-decoration-color: #808000\">│</span>    <span style=\"color: #ff0000; text-decoration-color: #ff0000\">│</span>\n",
       "<span style=\"color: #ff0000; text-decoration-color: #ff0000\">│</span> <span style=\"color: #808000; text-decoration-color: #808000\">│</span>               <span style=\"color: #7f7f7f; text-decoration-color: #7f7f7f\">│   </span><span style=\"color: #800080; text-decoration-color: #800080; font-weight: bold\">N</span><span style=\"font-weight: bold\">(</span>R-R4<span style=\"font-weight: bold\">)</span>,                                                         <span style=\"color: #808000; text-decoration-color: #808000\">│</span>    <span style=\"color: #ff0000; text-decoration-color: #ff0000\">│</span>\n",
       "<span style=\"color: #ff0000; text-decoration-color: #ff0000\">│</span> <span style=\"color: #808000; text-decoration-color: #808000\">│</span>               <span style=\"color: #7f7f7f; text-decoration-color: #7f7f7f\">│   </span><span style=\"color: #800080; text-decoration-color: #800080; font-weight: bold\">N</span><span style=\"font-weight: bold\">(</span>R-R5<span style=\"font-weight: bold\">)</span>,                                                         <span style=\"color: #808000; text-decoration-color: #808000\">│</span>    <span style=\"color: #ff0000; text-decoration-color: #ff0000\">│</span>\n",
       "<span style=\"color: #ff0000; text-decoration-color: #ff0000\">│</span> <span style=\"color: #808000; text-decoration-color: #808000\">│</span>               <span style=\"color: #7f7f7f; text-decoration-color: #7f7f7f\">│   </span><span style=\"color: #800080; text-decoration-color: #800080; font-weight: bold\">N</span><span style=\"font-weight: bold\">(</span>R-R6<span style=\"font-weight: bold\">)</span>,                                                         <span style=\"color: #808000; text-decoration-color: #808000\">│</span>    <span style=\"color: #ff0000; text-decoration-color: #ff0000\">│</span>\n",
       "<span style=\"color: #ff0000; text-decoration-color: #ff0000\">│</span> <span style=\"color: #808000; text-decoration-color: #808000\">│</span>               <span style=\"color: #7f7f7f; text-decoration-color: #7f7f7f\">│   </span><span style=\"color: #800080; text-decoration-color: #800080; font-weight: bold\">N</span><span style=\"font-weight: bold\">(</span>R-R7<span style=\"font-weight: bold\">)</span>,                                                         <span style=\"color: #808000; text-decoration-color: #808000\">│</span>    <span style=\"color: #ff0000; text-decoration-color: #ff0000\">│</span>\n",
       "<span style=\"color: #ff0000; text-decoration-color: #ff0000\">│</span> <span style=\"color: #808000; text-decoration-color: #808000\">│</span>               <span style=\"color: #7f7f7f; text-decoration-color: #7f7f7f\">│   </span><span style=\"color: #800080; text-decoration-color: #800080; font-weight: bold\">N</span><span style=\"font-weight: bold\">(</span>R-R8<span style=\"font-weight: bold\">)</span>,                                                         <span style=\"color: #808000; text-decoration-color: #808000\">│</span>    <span style=\"color: #ff0000; text-decoration-color: #ff0000\">│</span>\n",
       "<span style=\"color: #ff0000; text-decoration-color: #ff0000\">│</span> <span style=\"color: #808000; text-decoration-color: #808000\">│</span>               <span style=\"color: #7f7f7f; text-decoration-color: #7f7f7f\">│   </span><span style=\"color: #800080; text-decoration-color: #800080; font-weight: bold\">N</span><span style=\"font-weight: bold\">(</span>R-R9<span style=\"font-weight: bold\">)</span>,                                                         <span style=\"color: #808000; text-decoration-color: #808000\">│</span>    <span style=\"color: #ff0000; text-decoration-color: #ff0000\">│</span>\n",
       "<span style=\"color: #ff0000; text-decoration-color: #ff0000\">│</span> <span style=\"color: #808000; text-decoration-color: #808000\">│</span>               <span style=\"color: #7f7f7f; text-decoration-color: #7f7f7f\">│   </span><span style=\"color: #808000; text-decoration-color: #808000\">...</span> +<span style=\"color: #0000ff; text-decoration-color: #0000ff\">290</span>                                                         <span style=\"color: #808000; text-decoration-color: #808000\">│</span>    <span style=\"color: #ff0000; text-decoration-color: #ff0000\">│</span>\n",
       "<span style=\"color: #ff0000; text-decoration-color: #ff0000\">│</span> <span style=\"color: #808000; text-decoration-color: #808000\">│</span>               <span style=\"font-weight: bold\">]</span>                                                                    <span style=\"color: #808000; text-decoration-color: #808000\">│</span>    <span style=\"color: #ff0000; text-decoration-color: #ff0000\">│</span>\n",
       "<span style=\"color: #ff0000; text-decoration-color: #ff0000\">│</span> <span style=\"color: #808000; text-decoration-color: #808000\">│</span>     results = <span style=\"font-weight: bold\">{}</span>                                                                   <span style=\"color: #808000; text-decoration-color: #808000\">│</span>    <span style=\"color: #ff0000; text-decoration-color: #ff0000\">│</span>\n",
       "<span style=\"color: #ff0000; text-decoration-color: #ff0000\">│</span> <span style=\"color: #808000; text-decoration-color: #808000\">│</span>      script = <span style=\"color: #808000; text-decoration-color: #808000\">'pkill -f **hR14** &amp; rm **hR14**'</span>                                    <span style=\"color: #808000; text-decoration-color: #808000\">│</span>    <span style=\"color: #ff0000; text-decoration-color: #ff0000\">│</span>\n",
       "<span style=\"color: #ff0000; text-decoration-color: #ff0000\">│</span> <span style=\"color: #808000; text-decoration-color: #808000\">│</span>      stdout = <span style=\"color: #0000ff; text-decoration-color: #0000ff\">True</span>                                                                 <span style=\"color: #808000; text-decoration-color: #808000\">│</span>    <span style=\"color: #ff0000; text-decoration-color: #ff0000\">│</span>\n",
       "<span style=\"color: #ff0000; text-decoration-color: #ff0000\">│</span> <span style=\"color: #808000; text-decoration-color: #808000\">│</span>        tbar = <span style=\"font-weight: bold\">&lt;</span><span style=\"color: #ff00ff; text-decoration-color: #ff00ff; font-weight: bold\">tqdm.std.tqdm</span><span style=\"color: #000000; text-decoration-color: #000000\"> object at </span><span style=\"color: #0000ff; text-decoration-color: #0000ff\">0x14ba80ac0</span><span style=\"font-weight: bold\">&gt;</span>                                <span style=\"color: #808000; text-decoration-color: #808000\">│</span>    <span style=\"color: #ff0000; text-decoration-color: #ff0000\">│</span>\n",
       "<span style=\"color: #ff0000; text-decoration-color: #ff0000\">│</span> <span style=\"color: #808000; text-decoration-color: #808000\">│</span>     timeout = <span style=\"color: #0000ff; text-decoration-color: #0000ff\">30</span>                                                                   <span style=\"color: #808000; text-decoration-color: #808000\">│</span>    <span style=\"color: #ff0000; text-decoration-color: #ff0000\">│</span>\n",
       "<span style=\"color: #ff0000; text-decoration-color: #ff0000\">│</span> <span style=\"color: #808000; text-decoration-color: #808000\">│</span>        warn = <span style=\"color: #0000ff; text-decoration-color: #0000ff\">False</span>                                                                <span style=\"color: #808000; text-decoration-color: #808000\">│</span>    <span style=\"color: #ff0000; text-decoration-color: #ff0000\">│</span>\n",
       "<span style=\"color: #ff0000; text-decoration-color: #ff0000\">│</span> <span style=\"color: #808000; text-decoration-color: #808000\">╰────────────────────────────────────────────────────────────────────────────────────╯</span>    <span style=\"color: #ff0000; text-decoration-color: #ff0000\">│</span>\n",
       "<span style=\"color: #ff0000; text-decoration-color: #ff0000\">│</span>                                                                                           <span style=\"color: #ff0000; text-decoration-color: #ff0000\">│</span>\n",
       "<span style=\"color: #ff0000; text-decoration-color: #ff0000\">│</span> <span style=\"color: #bfbf7f; text-decoration-color: #bfbf7f\">/opt/homebrew/Cellar/python@3.9/3.9.12/Frameworks/Python.framework/Versions/3.9/lib/pytho</span> <span style=\"color: #ff0000; text-decoration-color: #ff0000\">│</span>\n",
       "<span style=\"color: #ff0000; text-decoration-color: #ff0000\">│</span> <span style=\"color: #bfbf7f; text-decoration-color: #bfbf7f\">n3.9/concurrent/futures/</span><span style=\"color: #808000; text-decoration-color: #808000; font-weight: bold\">_base.py</span>:<span style=\"color: #0000ff; text-decoration-color: #0000ff\">637</span> in <span style=\"color: #00ff00; text-decoration-color: #00ff00\">__exit__</span>                                          <span style=\"color: #ff0000; text-decoration-color: #ff0000\">│</span>\n",
       "<span style=\"color: #ff0000; text-decoration-color: #ff0000\">│</span>                                                                                           <span style=\"color: #ff0000; text-decoration-color: #ff0000\">│</span>\n",
       "<span style=\"color: #ff0000; text-decoration-color: #ff0000\">│</span>   <span style=\"color: #7f7f7f; text-decoration-color: #7f7f7f\">634 │   │   </span><span style=\"color: #0000ff; text-decoration-color: #0000ff\">return</span> <span style=\"color: #00ffff; text-decoration-color: #00ffff\">self</span>                                                                 <span style=\"color: #ff0000; text-decoration-color: #ff0000\">│</span>\n",
       "<span style=\"color: #ff0000; text-decoration-color: #ff0000\">│</span>   <span style=\"color: #7f7f7f; text-decoration-color: #7f7f7f\">635 │   </span>                                                                                <span style=\"color: #ff0000; text-decoration-color: #ff0000\">│</span>\n",
       "<span style=\"color: #ff0000; text-decoration-color: #ff0000\">│</span>   <span style=\"color: #7f7f7f; text-decoration-color: #7f7f7f\">636 │   </span><span style=\"color: #0000ff; text-decoration-color: #0000ff\">def</span> <span style=\"color: #00ff00; text-decoration-color: #00ff00\">__exit__</span>(<span style=\"color: #00ffff; text-decoration-color: #00ffff\">self</span>, exc_type, exc_val, exc_tb):                                  <span style=\"color: #ff0000; text-decoration-color: #ff0000\">│</span>\n",
       "<span style=\"color: #ff0000; text-decoration-color: #ff0000\">│</span> <span style=\"color: #800000; text-decoration-color: #800000\">❱ </span>637 <span style=\"color: #7f7f7f; text-decoration-color: #7f7f7f\">│   │   </span><span style=\"color: #00ffff; text-decoration-color: #00ffff\">self</span>.shutdown(wait=<span style=\"color: #0000ff; text-decoration-color: #0000ff\">True</span>)                                                    <span style=\"color: #ff0000; text-decoration-color: #ff0000\">│</span>\n",
       "<span style=\"color: #ff0000; text-decoration-color: #ff0000\">│</span>   <span style=\"color: #7f7f7f; text-decoration-color: #7f7f7f\">638 │   │   </span><span style=\"color: #0000ff; text-decoration-color: #0000ff\">return</span> <span style=\"color: #0000ff; text-decoration-color: #0000ff\">False</span>                                                                <span style=\"color: #ff0000; text-decoration-color: #ff0000\">│</span>\n",
       "<span style=\"color: #ff0000; text-decoration-color: #ff0000\">│</span>   <span style=\"color: #7f7f7f; text-decoration-color: #7f7f7f\">639 </span>                                                                                    <span style=\"color: #ff0000; text-decoration-color: #ff0000\">│</span>\n",
       "<span style=\"color: #ff0000; text-decoration-color: #ff0000\">│</span>   <span style=\"color: #7f7f7f; text-decoration-color: #7f7f7f\">640 </span>                                                                                    <span style=\"color: #ff0000; text-decoration-color: #ff0000\">│</span>\n",
       "<span style=\"color: #ff0000; text-decoration-color: #ff0000\">│</span>                                                                                           <span style=\"color: #ff0000; text-decoration-color: #ff0000\">│</span>\n",
       "<span style=\"color: #ff0000; text-decoration-color: #ff0000\">│</span> <span style=\"color: #808000; text-decoration-color: #808000\">╭──────────────────────────────────── locals ─────────────────────────────────────╮</span>       <span style=\"color: #ff0000; text-decoration-color: #ff0000\">│</span>\n",
       "<span style=\"color: #ff0000; text-decoration-color: #ff0000\">│</span> <span style=\"color: #808000; text-decoration-color: #808000\">│</span>   exc_tb = <span style=\"color: #0000ff; text-decoration-color: #0000ff\">None</span>                                                                 <span style=\"color: #808000; text-decoration-color: #808000\">│</span>       <span style=\"color: #ff0000; text-decoration-color: #ff0000\">│</span>\n",
       "<span style=\"color: #ff0000; text-decoration-color: #ff0000\">│</span> <span style=\"color: #808000; text-decoration-color: #808000\">│</span> exc_type = <span style=\"color: #0000ff; text-decoration-color: #0000ff\">None</span>                                                                 <span style=\"color: #808000; text-decoration-color: #808000\">│</span>       <span style=\"color: #ff0000; text-decoration-color: #ff0000\">│</span>\n",
       "<span style=\"color: #ff0000; text-decoration-color: #ff0000\">│</span> <span style=\"color: #808000; text-decoration-color: #808000\">│</span>  exc_val = <span style=\"color: #0000ff; text-decoration-color: #0000ff\">None</span>                                                                 <span style=\"color: #808000; text-decoration-color: #808000\">│</span>       <span style=\"color: #ff0000; text-decoration-color: #ff0000\">│</span>\n",
       "<span style=\"color: #ff0000; text-decoration-color: #ff0000\">│</span> <span style=\"color: #808000; text-decoration-color: #808000\">│</span>     self = <span style=\"font-weight: bold\">&lt;</span><span style=\"color: #ff00ff; text-decoration-color: #ff00ff; font-weight: bold\">concurrent.futures.thread.ThreadPoolExecutor</span><span style=\"color: #000000; text-decoration-color: #000000\"> object at </span><span style=\"color: #0000ff; text-decoration-color: #0000ff\">0x13c1a1550</span><span style=\"font-weight: bold\">&gt;</span> <span style=\"color: #808000; text-decoration-color: #808000\">│</span>       <span style=\"color: #ff0000; text-decoration-color: #ff0000\">│</span>\n",
       "<span style=\"color: #ff0000; text-decoration-color: #ff0000\">│</span> <span style=\"color: #808000; text-decoration-color: #808000\">╰─────────────────────────────────────────────────────────────────────────────────╯</span>       <span style=\"color: #ff0000; text-decoration-color: #ff0000\">│</span>\n",
       "<span style=\"color: #ff0000; text-decoration-color: #ff0000\">│</span>                                                                                           <span style=\"color: #ff0000; text-decoration-color: #ff0000\">│</span>\n",
       "<span style=\"color: #ff0000; text-decoration-color: #ff0000\">│</span> <span style=\"color: #bfbf7f; text-decoration-color: #bfbf7f\">/opt/homebrew/Cellar/python@3.9/3.9.12/Frameworks/Python.framework/Versions/3.9/lib/pytho</span> <span style=\"color: #ff0000; text-decoration-color: #ff0000\">│</span>\n",
       "<span style=\"color: #ff0000; text-decoration-color: #ff0000\">│</span> <span style=\"color: #bfbf7f; text-decoration-color: #bfbf7f\">n3.9/concurrent/futures/</span><span style=\"color: #808000; text-decoration-color: #808000; font-weight: bold\">thread.py</span>:<span style=\"color: #0000ff; text-decoration-color: #0000ff\">235</span> in <span style=\"color: #00ff00; text-decoration-color: #00ff00\">shutdown</span>                                         <span style=\"color: #ff0000; text-decoration-color: #ff0000\">│</span>\n",
       "<span style=\"color: #ff0000; text-decoration-color: #ff0000\">│</span>                                                                                           <span style=\"color: #ff0000; text-decoration-color: #ff0000\">│</span>\n",
       "<span style=\"color: #ff0000; text-decoration-color: #ff0000\">│</span>   <span style=\"color: #7f7f7f; text-decoration-color: #7f7f7f\">232 │   │   │   </span><span style=\"color: #00ffff; text-decoration-color: #00ffff\">self</span>._work_queue.put(<span style=\"color: #0000ff; text-decoration-color: #0000ff\">None</span>)                                              <span style=\"color: #ff0000; text-decoration-color: #ff0000\">│</span>\n",
       "<span style=\"color: #ff0000; text-decoration-color: #ff0000\">│</span>   <span style=\"color: #7f7f7f; text-decoration-color: #7f7f7f\">233 │   │   </span><span style=\"color: #0000ff; text-decoration-color: #0000ff\">if</span> wait:                                                                    <span style=\"color: #ff0000; text-decoration-color: #ff0000\">│</span>\n",
       "<span style=\"color: #ff0000; text-decoration-color: #ff0000\">│</span>   <span style=\"color: #7f7f7f; text-decoration-color: #7f7f7f\">234 │   │   │   </span><span style=\"color: #0000ff; text-decoration-color: #0000ff\">for</span> t <span style=\"color: #ff00ff; text-decoration-color: #ff00ff\">in</span> <span style=\"color: #00ffff; text-decoration-color: #00ffff\">self</span>._threads:                                                 <span style=\"color: #ff0000; text-decoration-color: #ff0000\">│</span>\n",
       "<span style=\"color: #ff0000; text-decoration-color: #ff0000\">│</span> <span style=\"color: #800000; text-decoration-color: #800000\">❱ </span>235 <span style=\"color: #7f7f7f; text-decoration-color: #7f7f7f\">│   │   │   │   </span>t.join()                                                            <span style=\"color: #ff0000; text-decoration-color: #ff0000\">│</span>\n",
       "<span style=\"color: #ff0000; text-decoration-color: #ff0000\">│</span>   <span style=\"color: #7f7f7f; text-decoration-color: #7f7f7f\">236 │   </span>shutdown.<span style=\"color: #ff0000; text-decoration-color: #ff0000\">__doc__</span> = _base.Executor.shutdown.<span style=\"color: #ff0000; text-decoration-color: #ff0000\">__doc__</span>                              <span style=\"color: #ff0000; text-decoration-color: #ff0000\">│</span>\n",
       "<span style=\"color: #ff0000; text-decoration-color: #ff0000\">│</span>   <span style=\"color: #7f7f7f; text-decoration-color: #7f7f7f\">237 </span>                                                                                    <span style=\"color: #ff0000; text-decoration-color: #ff0000\">│</span>\n",
       "<span style=\"color: #ff0000; text-decoration-color: #ff0000\">│</span>                                                                                           <span style=\"color: #ff0000; text-decoration-color: #ff0000\">│</span>\n",
       "<span style=\"color: #ff0000; text-decoration-color: #ff0000\">│</span> <span style=\"color: #808000; text-decoration-color: #808000\">╭─────────────────────────────────────── locals ────────────────────────────────────────╮</span> <span style=\"color: #ff0000; text-decoration-color: #ff0000\">│</span>\n",
       "<span style=\"color: #ff0000; text-decoration-color: #ff0000\">│</span> <span style=\"color: #808000; text-decoration-color: #808000\">│</span> cancel_futures = <span style=\"color: #0000ff; text-decoration-color: #0000ff\">False</span>                                                                <span style=\"color: #808000; text-decoration-color: #808000\">│</span> <span style=\"color: #ff0000; text-decoration-color: #ff0000\">│</span>\n",
       "<span style=\"color: #ff0000; text-decoration-color: #ff0000\">│</span> <span style=\"color: #808000; text-decoration-color: #808000\">│</span>           self = <span style=\"font-weight: bold\">&lt;</span><span style=\"color: #ff00ff; text-decoration-color: #ff00ff; font-weight: bold\">concurrent.futures.thread.ThreadPoolExecutor</span><span style=\"color: #000000; text-decoration-color: #000000\"> object at </span><span style=\"color: #0000ff; text-decoration-color: #0000ff\">0x13c1a1550</span><span style=\"font-weight: bold\">&gt;</span> <span style=\"color: #808000; text-decoration-color: #808000\">│</span> <span style=\"color: #ff0000; text-decoration-color: #ff0000\">│</span>\n",
       "<span style=\"color: #ff0000; text-decoration-color: #ff0000\">│</span> <span style=\"color: #808000; text-decoration-color: #808000\">│</span>              t = <span style=\"font-weight: bold\">&lt;</span><span style=\"color: #800080; text-decoration-color: #800080; font-weight: bold\">Thread</span><span style=\"color: #000000; text-decoration-color: #000000; font-weight: bold\">(</span><span style=\"color: #000000; text-decoration-color: #000000\">ThreadPoolExecutor-66_162, stopped </span><span style=\"color: #0000ff; text-decoration-color: #0000ff\">19167408128</span><span style=\"color: #000000; text-decoration-color: #000000; font-weight: bold\">)</span><span style=\"font-weight: bold\">&gt;</span>             <span style=\"color: #808000; text-decoration-color: #808000\">│</span> <span style=\"color: #ff0000; text-decoration-color: #ff0000\">│</span>\n",
       "<span style=\"color: #ff0000; text-decoration-color: #ff0000\">│</span> <span style=\"color: #808000; text-decoration-color: #808000\">│</span>           wait = <span style=\"color: #0000ff; text-decoration-color: #0000ff\">True</span>                                                                 <span style=\"color: #808000; text-decoration-color: #808000\">│</span> <span style=\"color: #ff0000; text-decoration-color: #ff0000\">│</span>\n",
       "<span style=\"color: #ff0000; text-decoration-color: #ff0000\">│</span> <span style=\"color: #808000; text-decoration-color: #808000\">╰───────────────────────────────────────────────────────────────────────────────────────╯</span> <span style=\"color: #ff0000; text-decoration-color: #ff0000\">│</span>\n",
       "<span style=\"color: #ff0000; text-decoration-color: #ff0000\">│</span>                                                                                           <span style=\"color: #ff0000; text-decoration-color: #ff0000\">│</span>\n",
       "<span style=\"color: #ff0000; text-decoration-color: #ff0000\">│</span> <span style=\"color: #bfbf7f; text-decoration-color: #bfbf7f\">/opt/homebrew/Cellar/python@3.9/3.9.12/Frameworks/Python.framework/Versions/3.9/lib/pytho</span> <span style=\"color: #ff0000; text-decoration-color: #ff0000\">│</span>\n",
       "<span style=\"color: #ff0000; text-decoration-color: #ff0000\">│</span> <span style=\"color: #bfbf7f; text-decoration-color: #bfbf7f\">n3.9/</span><span style=\"color: #808000; text-decoration-color: #808000; font-weight: bold\">threading.py</span>:<span style=\"color: #0000ff; text-decoration-color: #0000ff\">1053</span> in <span style=\"color: #00ff00; text-decoration-color: #00ff00\">join</span>                                                            <span style=\"color: #ff0000; text-decoration-color: #ff0000\">│</span>\n",
       "<span style=\"color: #ff0000; text-decoration-color: #ff0000\">│</span>                                                                                           <span style=\"color: #ff0000; text-decoration-color: #ff0000\">│</span>\n",
       "<span style=\"color: #ff0000; text-decoration-color: #ff0000\">│</span>   <span style=\"color: #7f7f7f; text-decoration-color: #7f7f7f\">1050 │   │   │   </span><span style=\"color: #0000ff; text-decoration-color: #0000ff\">raise</span> <span style=\"color: #00ffff; text-decoration-color: #00ffff\">RuntimeError</span>(<span style=\"color: #808000; text-decoration-color: #808000\">\"cannot join current thread\"</span>)                       <span style=\"color: #ff0000; text-decoration-color: #ff0000\">│</span>\n",
       "<span style=\"color: #ff0000; text-decoration-color: #ff0000\">│</span>   <span style=\"color: #7f7f7f; text-decoration-color: #7f7f7f\">1051 │   │   </span>                                                                           <span style=\"color: #ff0000; text-decoration-color: #ff0000\">│</span>\n",
       "<span style=\"color: #ff0000; text-decoration-color: #ff0000\">│</span>   <span style=\"color: #7f7f7f; text-decoration-color: #7f7f7f\">1052 │   │   </span><span style=\"color: #0000ff; text-decoration-color: #0000ff\">if</span> timeout <span style=\"color: #ff00ff; text-decoration-color: #ff00ff\">is</span> <span style=\"color: #0000ff; text-decoration-color: #0000ff\">None</span>:                                                        <span style=\"color: #ff0000; text-decoration-color: #ff0000\">│</span>\n",
       "<span style=\"color: #ff0000; text-decoration-color: #ff0000\">│</span> <span style=\"color: #800000; text-decoration-color: #800000\">❱ </span>1053 <span style=\"color: #7f7f7f; text-decoration-color: #7f7f7f\">│   │   │   </span><span style=\"color: #00ffff; text-decoration-color: #00ffff\">self</span>._wait_for_tstate_lock()                                           <span style=\"color: #ff0000; text-decoration-color: #ff0000\">│</span>\n",
       "<span style=\"color: #ff0000; text-decoration-color: #ff0000\">│</span>   <span style=\"color: #7f7f7f; text-decoration-color: #7f7f7f\">1054 │   │   </span><span style=\"color: #0000ff; text-decoration-color: #0000ff\">else</span>:                                                                      <span style=\"color: #ff0000; text-decoration-color: #ff0000\">│</span>\n",
       "<span style=\"color: #ff0000; text-decoration-color: #ff0000\">│</span>   <span style=\"color: #7f7f7f; text-decoration-color: #7f7f7f\">1055 │   │   │   # the behavior of a negative timeout isn't documented, but</span>             <span style=\"color: #ff0000; text-decoration-color: #ff0000\">│</span>\n",
       "<span style=\"color: #ff0000; text-decoration-color: #ff0000\">│</span>   <span style=\"color: #7f7f7f; text-decoration-color: #7f7f7f\">1056 │   │   │   # historically .join(timeout=x) for x&lt;0 has acted as if timeout=0</span>      <span style=\"color: #ff0000; text-decoration-color: #ff0000\">│</span>\n",
       "<span style=\"color: #ff0000; text-decoration-color: #ff0000\">│</span>                                                                                           <span style=\"color: #ff0000; text-decoration-color: #ff0000\">│</span>\n",
       "<span style=\"color: #ff0000; text-decoration-color: #ff0000\">│</span> <span style=\"color: #808000; text-decoration-color: #808000\">╭────────────────────────────── locals ──────────────────────────────╮</span>                    <span style=\"color: #ff0000; text-decoration-color: #ff0000\">│</span>\n",
       "<span style=\"color: #ff0000; text-decoration-color: #ff0000\">│</span> <span style=\"color: #808000; text-decoration-color: #808000\">│</span>    self = <span style=\"font-weight: bold\">&lt;</span><span style=\"color: #800080; text-decoration-color: #800080; font-weight: bold\">Thread</span><span style=\"color: #000000; text-decoration-color: #000000; font-weight: bold\">(</span><span style=\"color: #000000; text-decoration-color: #000000\">ThreadPoolExecutor-66_162, stopped </span><span style=\"color: #0000ff; text-decoration-color: #0000ff\">19167408128</span><span style=\"color: #000000; text-decoration-color: #000000; font-weight: bold\">)</span><span style=\"font-weight: bold\">&gt;</span> <span style=\"color: #808000; text-decoration-color: #808000\">│</span>                    <span style=\"color: #ff0000; text-decoration-color: #ff0000\">│</span>\n",
       "<span style=\"color: #ff0000; text-decoration-color: #ff0000\">│</span> <span style=\"color: #808000; text-decoration-color: #808000\">│</span> timeout = <span style=\"color: #0000ff; text-decoration-color: #0000ff\">None</span>                                                     <span style=\"color: #808000; text-decoration-color: #808000\">│</span>                    <span style=\"color: #ff0000; text-decoration-color: #ff0000\">│</span>\n",
       "<span style=\"color: #ff0000; text-decoration-color: #ff0000\">│</span> <span style=\"color: #808000; text-decoration-color: #808000\">╰────────────────────────────────────────────────────────────────────╯</span>                    <span style=\"color: #ff0000; text-decoration-color: #ff0000\">│</span>\n",
       "<span style=\"color: #ff0000; text-decoration-color: #ff0000\">│</span>                                                                                           <span style=\"color: #ff0000; text-decoration-color: #ff0000\">│</span>\n",
       "<span style=\"color: #ff0000; text-decoration-color: #ff0000\">│</span> <span style=\"color: #bfbf7f; text-decoration-color: #bfbf7f\">/opt/homebrew/Cellar/python@3.9/3.9.12/Frameworks/Python.framework/Versions/3.9/lib/pytho</span> <span style=\"color: #ff0000; text-decoration-color: #ff0000\">│</span>\n",
       "<span style=\"color: #ff0000; text-decoration-color: #ff0000\">│</span> <span style=\"color: #bfbf7f; text-decoration-color: #bfbf7f\">n3.9/</span><span style=\"color: #808000; text-decoration-color: #808000; font-weight: bold\">threading.py</span>:<span style=\"color: #0000ff; text-decoration-color: #0000ff\">1073</span> in <span style=\"color: #00ff00; text-decoration-color: #00ff00\">_wait_for_tstate_lock</span>                                           <span style=\"color: #ff0000; text-decoration-color: #ff0000\">│</span>\n",
       "<span style=\"color: #ff0000; text-decoration-color: #ff0000\">│</span>                                                                                           <span style=\"color: #ff0000; text-decoration-color: #ff0000\">│</span>\n",
       "<span style=\"color: #ff0000; text-decoration-color: #ff0000\">│</span>   <span style=\"color: #7f7f7f; text-decoration-color: #7f7f7f\">1070 │   │   │   </span><span style=\"color: #0000ff; text-decoration-color: #0000ff\">return</span>                                                                 <span style=\"color: #ff0000; text-decoration-color: #ff0000\">│</span>\n",
       "<span style=\"color: #ff0000; text-decoration-color: #ff0000\">│</span>   <span style=\"color: #7f7f7f; text-decoration-color: #7f7f7f\">1071 │   │   </span>                                                                           <span style=\"color: #ff0000; text-decoration-color: #ff0000\">│</span>\n",
       "<span style=\"color: #ff0000; text-decoration-color: #ff0000\">│</span>   <span style=\"color: #7f7f7f; text-decoration-color: #7f7f7f\">1072 │   │   </span><span style=\"color: #0000ff; text-decoration-color: #0000ff\">try</span>:                                                                       <span style=\"color: #ff0000; text-decoration-color: #ff0000\">│</span>\n",
       "<span style=\"color: #ff0000; text-decoration-color: #ff0000\">│</span> <span style=\"color: #800000; text-decoration-color: #800000\">❱ </span>1073 <span style=\"color: #7f7f7f; text-decoration-color: #7f7f7f\">│   │   │   </span><span style=\"color: #0000ff; text-decoration-color: #0000ff\">if</span> lock.acquire(block, timeout):                                       <span style=\"color: #ff0000; text-decoration-color: #ff0000\">│</span>\n",
       "<span style=\"color: #ff0000; text-decoration-color: #ff0000\">│</span>   <span style=\"color: #7f7f7f; text-decoration-color: #7f7f7f\">1074 │   │   │   │   </span>lock.release()                                                     <span style=\"color: #ff0000; text-decoration-color: #ff0000\">│</span>\n",
       "<span style=\"color: #ff0000; text-decoration-color: #ff0000\">│</span>   <span style=\"color: #7f7f7f; text-decoration-color: #7f7f7f\">1075 │   │   │   │   </span><span style=\"color: #00ffff; text-decoration-color: #00ffff\">self</span>._stop()                                                       <span style=\"color: #ff0000; text-decoration-color: #ff0000\">│</span>\n",
       "<span style=\"color: #ff0000; text-decoration-color: #ff0000\">│</span>   <span style=\"color: #7f7f7f; text-decoration-color: #7f7f7f\">1076 │   │   </span><span style=\"color: #0000ff; text-decoration-color: #0000ff\">except</span>:                                                                    <span style=\"color: #ff0000; text-decoration-color: #ff0000\">│</span>\n",
       "<span style=\"color: #ff0000; text-decoration-color: #ff0000\">│</span>                                                                                           <span style=\"color: #ff0000; text-decoration-color: #ff0000\">│</span>\n",
       "<span style=\"color: #ff0000; text-decoration-color: #ff0000\">│</span> <span style=\"color: #808000; text-decoration-color: #808000\">╭────────────────────────────── locals ──────────────────────────────╮</span>                    <span style=\"color: #ff0000; text-decoration-color: #ff0000\">│</span>\n",
       "<span style=\"color: #ff0000; text-decoration-color: #ff0000\">│</span> <span style=\"color: #808000; text-decoration-color: #808000\">│</span>   block = <span style=\"color: #0000ff; text-decoration-color: #0000ff\">True</span>                                                     <span style=\"color: #808000; text-decoration-color: #808000\">│</span>                    <span style=\"color: #ff0000; text-decoration-color: #ff0000\">│</span>\n",
       "<span style=\"color: #ff0000; text-decoration-color: #ff0000\">│</span> <span style=\"color: #808000; text-decoration-color: #808000\">│</span>    lock = <span style=\"font-weight: bold\">&lt;</span><span style=\"color: #ff00ff; text-decoration-color: #ff00ff; font-weight: bold\">unlocked</span><span style=\"color: #000000; text-decoration-color: #000000\"> _thread.lock object at </span><span style=\"color: #0000ff; text-decoration-color: #0000ff\">0x14b5b22d0</span><span style=\"font-weight: bold\">&gt;</span>            <span style=\"color: #808000; text-decoration-color: #808000\">│</span>                    <span style=\"color: #ff0000; text-decoration-color: #ff0000\">│</span>\n",
       "<span style=\"color: #ff0000; text-decoration-color: #ff0000\">│</span> <span style=\"color: #808000; text-decoration-color: #808000\">│</span>    self = <span style=\"font-weight: bold\">&lt;</span><span style=\"color: #800080; text-decoration-color: #800080; font-weight: bold\">Thread</span><span style=\"color: #000000; text-decoration-color: #000000; font-weight: bold\">(</span><span style=\"color: #000000; text-decoration-color: #000000\">ThreadPoolExecutor-66_162, stopped </span><span style=\"color: #0000ff; text-decoration-color: #0000ff\">19167408128</span><span style=\"color: #000000; text-decoration-color: #000000; font-weight: bold\">)</span><span style=\"font-weight: bold\">&gt;</span> <span style=\"color: #808000; text-decoration-color: #808000\">│</span>                    <span style=\"color: #ff0000; text-decoration-color: #ff0000\">│</span>\n",
       "<span style=\"color: #ff0000; text-decoration-color: #ff0000\">│</span> <span style=\"color: #808000; text-decoration-color: #808000\">│</span> timeout = <span style=\"color: #0000ff; text-decoration-color: #0000ff\">-1</span>                                                       <span style=\"color: #808000; text-decoration-color: #808000\">│</span>                    <span style=\"color: #ff0000; text-decoration-color: #ff0000\">│</span>\n",
       "<span style=\"color: #ff0000; text-decoration-color: #ff0000\">│</span> <span style=\"color: #808000; text-decoration-color: #808000\">╰────────────────────────────────────────────────────────────────────╯</span>                    <span style=\"color: #ff0000; text-decoration-color: #ff0000\">│</span>\n",
       "<span style=\"color: #ff0000; text-decoration-color: #ff0000\">╰───────────────────────────────────────────────────────────────────────────────────────────╯</span>\n",
       "<span style=\"color: #ff0000; text-decoration-color: #ff0000; font-weight: bold\">KeyboardInterrupt</span>\n",
       "</pre>\n"
      ],
      "text/plain": [
       "\u001b[91m╭─\u001b[0m\u001b[91m─────────────────────────── \u001b[0m\u001b[1;31mTraceback \u001b[0m\u001b[1;2;31m(most recent call last)\u001b[0m\u001b[91m ───────────────────────────\u001b[0m\u001b[91m─╮\u001b[0m\n",
       "\u001b[91m│\u001b[0m                                                                                           \u001b[91m│\u001b[0m\n",
       "\u001b[91m│\u001b[0m \u001b[2;33m/var/folders/t2/n8qztvk54892_y4rgslzz_wm0000gn/T/ipykernel_97458/\u001b[0m\u001b[1;33m4245538860.py\u001b[0m:\u001b[94m1\u001b[0m in       \u001b[91m│\u001b[0m\n",
       "\u001b[91m│\u001b[0m \u001b[92m<module>\u001b[0m                                                                                  \u001b[91m│\u001b[0m\n",
       "\u001b[91m│\u001b[0m                                                                                           \u001b[91m│\u001b[0m\n",
       "\u001b[91m│\u001b[0m \u001b[3;31m[Errno 2] No such file or directory: \u001b[0m                                                     \u001b[91m│\u001b[0m\n",
       "\u001b[91m│\u001b[0m \u001b[3;31m'/var/folders/t2/n8qztvk54892_y4rgslzz_wm0000gn/T/ipykernel_97458/4245538860.py'\u001b[0m          \u001b[91m│\u001b[0m\n",
       "\u001b[91m│\u001b[0m \u001b[2;33m/Users/thebes/Work/HUD/\u001b[0m\u001b[1;33mhud.py\u001b[0m:\u001b[94m554\u001b[0m in \u001b[92mpow\u001b[0m                                                  \u001b[91m│\u001b[0m\n",
       "\u001b[91m│\u001b[0m                                                                                           \u001b[91m│\u001b[0m\n",
       "\u001b[91m│\u001b[0m   \u001b[2m551 \u001b[0m\u001b[2m│   │   \u001b[0m\u001b[94mreturn\u001b[0m HUD._run( neurons, script = \u001b[33m\"\u001b[0m\u001b[33mtail -n \u001b[0m\u001b[33m{}\u001b[0m\u001b[33m /root/.pm2/logs/script-out.l\u001b[0m \u001b[91m│\u001b[0m\n",
       "\u001b[91m│\u001b[0m   \u001b[2m552 \u001b[0m\u001b[2m│   \u001b[0m                                                                                \u001b[91m│\u001b[0m\n",
       "\u001b[91m│\u001b[0m   \u001b[2m553 \u001b[0m\u001b[2m│   \u001b[0m\u001b[94mdef\u001b[0m \u001b[92mpow\u001b[0m( \u001b[96mself\u001b[0m, targets: Union[ Neuron, List[Neuron], \u001b[33m'\u001b[0m\u001b[33mHUD\u001b[0m\u001b[33m'\u001b[0m ], pow_key: \u001b[96mint\u001b[0m = \u001b[96min\u001b[0m \u001b[91m│\u001b[0m\n",
       "\u001b[91m│\u001b[0m \u001b[31m❱ \u001b[0m554 \u001b[2m│   │   \u001b[0m\u001b[94mreturn\u001b[0m HUD._pow( \u001b[96mself\u001b[0m.values, targets = targets, n_procs = n_procs, network \u001b[91m│\u001b[0m\n",
       "\u001b[91m│\u001b[0m   \u001b[2m555 \u001b[0m\u001b[2m│   \u001b[0m                                                                                \u001b[91m│\u001b[0m\n",
       "\u001b[91m│\u001b[0m   \u001b[2m556 \u001b[0m\u001b[2m│   \u001b[0m\u001b[1;95m@staticmethod\u001b[0m                                                                   \u001b[91m│\u001b[0m\n",
       "\u001b[91m│\u001b[0m   \u001b[2m557 \u001b[0m\u001b[2m│   \u001b[0m\u001b[94mdef\u001b[0m \u001b[92m_pow\u001b[0m( workers: Union[ List[Neuron], \u001b[33m'\u001b[0m\u001b[33mHUD\u001b[0m\u001b[33m'\u001b[0m ], targets: Union[ Neuron, List[N \u001b[91m│\u001b[0m\n",
       "\u001b[91m│\u001b[0m                                                                                           \u001b[91m│\u001b[0m\n",
       "\u001b[91m│\u001b[0m \u001b[33m╭─\u001b[0m\u001b[33m───────── locals ──────────\u001b[0m\u001b[33m─╮\u001b[0m                                                           \u001b[91m│\u001b[0m\n",
       "\u001b[91m│\u001b[0m \u001b[33m│\u001b[0m      disown = \u001b[94mFalse\u001b[0m         \u001b[33m│\u001b[0m                                                           \u001b[91m│\u001b[0m\n",
       "\u001b[91m│\u001b[0m \u001b[33m│\u001b[0m        hide = \u001b[94mTrue\u001b[0m          \u001b[33m│\u001b[0m                                                           \u001b[91m│\u001b[0m\n",
       "\u001b[91m│\u001b[0m \u001b[33m│\u001b[0m max_threads = \u001b[94m100000\u001b[0m        \u001b[33m│\u001b[0m                                                           \u001b[91m│\u001b[0m\n",
       "\u001b[91m│\u001b[0m \u001b[33m│\u001b[0m     n_procs = \u001b[94m1\u001b[0m             \u001b[33m│\u001b[0m                                                           \u001b[91m│\u001b[0m\n",
       "\u001b[91m│\u001b[0m \u001b[33m│\u001b[0m     network = \u001b[33m'nakamoto'\u001b[0m    \u001b[33m│\u001b[0m                                                           \u001b[91m│\u001b[0m\n",
       "\u001b[91m│\u001b[0m \u001b[33m│\u001b[0m     pow_key = \u001b[94m1650473354\u001b[0m    \u001b[33m│\u001b[0m                                                           \u001b[91m│\u001b[0m\n",
       "\u001b[91m│\u001b[0m \u001b[33m│\u001b[0m        self = \u001b[1m[\u001b[0m             \u001b[33m│\u001b[0m                                                           \u001b[91m│\u001b[0m\n",
       "\u001b[91m│\u001b[0m \u001b[33m│\u001b[0m               \u001b[2m│   \u001b[0m\u001b[1;35mN\u001b[0m\u001b[1m(\u001b[0mR-R0\u001b[1m)\u001b[0m,  \u001b[33m│\u001b[0m                                                           \u001b[91m│\u001b[0m\n",
       "\u001b[91m│\u001b[0m \u001b[33m│\u001b[0m               \u001b[2m│   \u001b[0m\u001b[1;35mN\u001b[0m\u001b[1m(\u001b[0mR-R1\u001b[1m)\u001b[0m,  \u001b[33m│\u001b[0m                                                           \u001b[91m│\u001b[0m\n",
       "\u001b[91m│\u001b[0m \u001b[33m│\u001b[0m               \u001b[2m│   \u001b[0m\u001b[1;35mN\u001b[0m\u001b[1m(\u001b[0mR-R2\u001b[1m)\u001b[0m,  \u001b[33m│\u001b[0m                                                           \u001b[91m│\u001b[0m\n",
       "\u001b[91m│\u001b[0m \u001b[33m│\u001b[0m               \u001b[2m│   \u001b[0m\u001b[1;35mN\u001b[0m\u001b[1m(\u001b[0mR-R3\u001b[1m)\u001b[0m,  \u001b[33m│\u001b[0m                                                           \u001b[91m│\u001b[0m\n",
       "\u001b[91m│\u001b[0m \u001b[33m│\u001b[0m               \u001b[2m│   \u001b[0m\u001b[1;35mN\u001b[0m\u001b[1m(\u001b[0mR-R4\u001b[1m)\u001b[0m,  \u001b[33m│\u001b[0m                                                           \u001b[91m│\u001b[0m\n",
       "\u001b[91m│\u001b[0m \u001b[33m│\u001b[0m               \u001b[2m│   \u001b[0m\u001b[1;35mN\u001b[0m\u001b[1m(\u001b[0mR-R5\u001b[1m)\u001b[0m,  \u001b[33m│\u001b[0m                                                           \u001b[91m│\u001b[0m\n",
       "\u001b[91m│\u001b[0m \u001b[33m│\u001b[0m               \u001b[2m│   \u001b[0m\u001b[1;35mN\u001b[0m\u001b[1m(\u001b[0mR-R6\u001b[1m)\u001b[0m,  \u001b[33m│\u001b[0m                                                           \u001b[91m│\u001b[0m\n",
       "\u001b[91m│\u001b[0m \u001b[33m│\u001b[0m               \u001b[2m│   \u001b[0m\u001b[1;35mN\u001b[0m\u001b[1m(\u001b[0mR-R7\u001b[1m)\u001b[0m,  \u001b[33m│\u001b[0m                                                           \u001b[91m│\u001b[0m\n",
       "\u001b[91m│\u001b[0m \u001b[33m│\u001b[0m               \u001b[2m│   \u001b[0m\u001b[1;35mN\u001b[0m\u001b[1m(\u001b[0mR-R8\u001b[1m)\u001b[0m,  \u001b[33m│\u001b[0m                                                           \u001b[91m│\u001b[0m\n",
       "\u001b[91m│\u001b[0m \u001b[33m│\u001b[0m               \u001b[2m│   \u001b[0m\u001b[1;35mN\u001b[0m\u001b[1m(\u001b[0mR-R9\u001b[1m)\u001b[0m,  \u001b[33m│\u001b[0m                                                           \u001b[91m│\u001b[0m\n",
       "\u001b[91m│\u001b[0m \u001b[33m│\u001b[0m               \u001b[2m│   \u001b[0m\u001b[33m...\u001b[0m +\u001b[94m290\u001b[0m  \u001b[33m│\u001b[0m                                                           \u001b[91m│\u001b[0m\n",
       "\u001b[91m│\u001b[0m \u001b[33m│\u001b[0m               \u001b[1m]\u001b[0m             \u001b[33m│\u001b[0m                                                           \u001b[91m│\u001b[0m\n",
       "\u001b[91m│\u001b[0m \u001b[33m│\u001b[0m     targets = \u001b[1m[\u001b[0m             \u001b[33m│\u001b[0m                                                           \u001b[91m│\u001b[0m\n",
       "\u001b[91m│\u001b[0m \u001b[33m│\u001b[0m               \u001b[2m│   \u001b[0m\u001b[1;35mN\u001b[0m\u001b[1m(\u001b[0mR-R10\u001b[1m)\u001b[0m, \u001b[33m│\u001b[0m                                                           \u001b[91m│\u001b[0m\n",
       "\u001b[91m│\u001b[0m \u001b[33m│\u001b[0m               \u001b[2m│   \u001b[0m\u001b[1;35mN\u001b[0m\u001b[1m(\u001b[0mR-R11\u001b[1m)\u001b[0m, \u001b[33m│\u001b[0m                                                           \u001b[91m│\u001b[0m\n",
       "\u001b[91m│\u001b[0m \u001b[33m│\u001b[0m               \u001b[2m│   \u001b[0m\u001b[1;35mN\u001b[0m\u001b[1m(\u001b[0mR-R12\u001b[1m)\u001b[0m, \u001b[33m│\u001b[0m                                                           \u001b[91m│\u001b[0m\n",
       "\u001b[91m│\u001b[0m \u001b[33m│\u001b[0m               \u001b[2m│   \u001b[0m\u001b[1;35mN\u001b[0m\u001b[1m(\u001b[0mR-R13\u001b[1m)\u001b[0m, \u001b[33m│\u001b[0m                                                           \u001b[91m│\u001b[0m\n",
       "\u001b[91m│\u001b[0m \u001b[33m│\u001b[0m               \u001b[2m│   \u001b[0m\u001b[1;35mN\u001b[0m\u001b[1m(\u001b[0mR-R14\u001b[1m)\u001b[0m, \u001b[33m│\u001b[0m                                                           \u001b[91m│\u001b[0m\n",
       "\u001b[91m│\u001b[0m \u001b[33m│\u001b[0m               \u001b[2m│   \u001b[0m\u001b[1;35mN\u001b[0m\u001b[1m(\u001b[0mR-R15\u001b[1m)\u001b[0m, \u001b[33m│\u001b[0m                                                           \u001b[91m│\u001b[0m\n",
       "\u001b[91m│\u001b[0m \u001b[33m│\u001b[0m               \u001b[2m│   \u001b[0m\u001b[1;35mN\u001b[0m\u001b[1m(\u001b[0mR-R16\u001b[1m)\u001b[0m, \u001b[33m│\u001b[0m                                                           \u001b[91m│\u001b[0m\n",
       "\u001b[91m│\u001b[0m \u001b[33m│\u001b[0m               \u001b[2m│   \u001b[0m\u001b[1;35mN\u001b[0m\u001b[1m(\u001b[0mR-R17\u001b[1m)\u001b[0m, \u001b[33m│\u001b[0m                                                           \u001b[91m│\u001b[0m\n",
       "\u001b[91m│\u001b[0m \u001b[33m│\u001b[0m               \u001b[2m│   \u001b[0m\u001b[1;35mN\u001b[0m\u001b[1m(\u001b[0mR-R18\u001b[1m)\u001b[0m, \u001b[33m│\u001b[0m                                                           \u001b[91m│\u001b[0m\n",
       "\u001b[91m│\u001b[0m \u001b[33m│\u001b[0m               \u001b[2m│   \u001b[0m\u001b[1;35mN\u001b[0m\u001b[1m(\u001b[0mR-R19\u001b[1m)\u001b[0m  \u001b[33m│\u001b[0m                                                           \u001b[91m│\u001b[0m\n",
       "\u001b[91m│\u001b[0m \u001b[33m│\u001b[0m               \u001b[1m]\u001b[0m             \u001b[33m│\u001b[0m                                                           \u001b[91m│\u001b[0m\n",
       "\u001b[91m│\u001b[0m \u001b[33m│\u001b[0m     timeout = \u001b[94m30\u001b[0m            \u001b[33m│\u001b[0m                                                           \u001b[91m│\u001b[0m\n",
       "\u001b[91m│\u001b[0m \u001b[33m│\u001b[0m        warn = \u001b[94mFalse\u001b[0m         \u001b[33m│\u001b[0m                                                           \u001b[91m│\u001b[0m\n",
       "\u001b[91m│\u001b[0m \u001b[33m╰─────────────────────────────╯\u001b[0m                                                           \u001b[91m│\u001b[0m\n",
       "\u001b[91m│\u001b[0m                                                                                           \u001b[91m│\u001b[0m\n",
       "\u001b[91m│\u001b[0m \u001b[2;33m/Users/thebes/Work/HUD/\u001b[0m\u001b[1;33mhud.py\u001b[0m:\u001b[94m563\u001b[0m in \u001b[92m_pow\u001b[0m                                                 \u001b[91m│\u001b[0m\n",
       "\u001b[91m│\u001b[0m                                                                                           \u001b[91m│\u001b[0m\n",
       "\u001b[91m│\u001b[0m   \u001b[2m560 \u001b[0m\u001b[2m│   │   \u001b[0mlogger.info( \u001b[33m\"\u001b[0m\u001b[33mStarting PoW | targets:\u001b[0m\u001b[33m{}\u001b[0m\u001b[33m workers: \u001b[0m\u001b[33m{}\u001b[0m\u001b[33m\"\u001b[0m.format( targets, worke \u001b[91m│\u001b[0m\n",
       "\u001b[91m│\u001b[0m   \u001b[2m561 \u001b[0m\u001b[2m│   │   \u001b[0m\u001b[94mfor\u001b[0m target, is_registered \u001b[95min\u001b[0m targets.is_registered().items():               \u001b[91m│\u001b[0m\n",
       "\u001b[91m│\u001b[0m   \u001b[2m562 \u001b[0m\u001b[2m│   │   │   \u001b[0m\u001b[94mif\u001b[0m \u001b[95mnot\u001b[0m is_registered:                                                   \u001b[91m│\u001b[0m\n",
       "\u001b[91m│\u001b[0m \u001b[31m❱ \u001b[0m563 \u001b[2m│   │   │   │   \u001b[0mHUD._run( workers, script = \u001b[33m\"\u001b[0m\u001b[33mpkill -f **h\u001b[0m\u001b[33m{}\u001b[0m\u001b[33m** & rm **h\u001b[0m\u001b[33m{}\u001b[0m\u001b[33m**\u001b[0m\u001b[33m\"\u001b[0m.format( \u001b[91m│\u001b[0m\n",
       "\u001b[91m│\u001b[0m   \u001b[2m564 \u001b[0m\u001b[2m│   │   │   │   \u001b[0mHUD._run( workers, script = \u001b[33m\"\u001b[0m\u001b[33mmkdir -p ~/.bittensor/wallets/\u001b[0m\u001b[33m{}\u001b[0m\u001b[33m/hotke\u001b[0m \u001b[91m│\u001b[0m\n",
       "\u001b[91m│\u001b[0m   \u001b[2m565 \u001b[0m\u001b[2m│   │   │   │   \u001b[0mHUD._run( workers, script = \u001b[33m\"\u001b[0m\u001b[33mecho \u001b[0m\u001b[33m'\u001b[0m\u001b[33m{}\u001b[0m\u001b[33m'\u001b[0m\u001b[33m > ~/.bittensor/wallets/\u001b[0m\u001b[33m{}\u001b[0m\u001b[33m/ho\u001b[0m \u001b[91m│\u001b[0m\n",
       "\u001b[91m│\u001b[0m   \u001b[2m566 \u001b[0m\u001b[2m│   │   │   │   \u001b[0mHUD._run( workers, script = \u001b[33m\"\u001b[0m\u001b[33mecho \u001b[0m\u001b[33m'\u001b[0m\u001b[33m{}\u001b[0m\u001b[33m'\u001b[0m\u001b[33m > ~/.bittensor/wallets/\u001b[0m\u001b[33m{}\u001b[0m\u001b[33m/co\u001b[0m \u001b[91m│\u001b[0m\n",
       "\u001b[91m│\u001b[0m                                                                                           \u001b[91m│\u001b[0m\n",
       "\u001b[91m│\u001b[0m \u001b[33m╭─\u001b[0m\u001b[33m────────── locals ───────────\u001b[0m\u001b[33m─╮\u001b[0m                                                         \u001b[91m│\u001b[0m\n",
       "\u001b[91m│\u001b[0m \u001b[33m│\u001b[0m        disown = \u001b[94mFalse\u001b[0m         \u001b[33m│\u001b[0m                                                         \u001b[91m│\u001b[0m\n",
       "\u001b[91m│\u001b[0m \u001b[33m│\u001b[0m          hide = \u001b[94mTrue\u001b[0m          \u001b[33m│\u001b[0m                                                         \u001b[91m│\u001b[0m\n",
       "\u001b[91m│\u001b[0m \u001b[33m│\u001b[0m             i = \u001b[94m0\u001b[0m             \u001b[33m│\u001b[0m                                                         \u001b[91m│\u001b[0m\n",
       "\u001b[91m│\u001b[0m \u001b[33m│\u001b[0m is_registered = \u001b[94mFalse\u001b[0m         \u001b[33m│\u001b[0m                                                         \u001b[91m│\u001b[0m\n",
       "\u001b[91m│\u001b[0m \u001b[33m│\u001b[0m   max_threads = \u001b[94m100000\u001b[0m        \u001b[33m│\u001b[0m                                                         \u001b[91m│\u001b[0m\n",
       "\u001b[91m│\u001b[0m \u001b[33m│\u001b[0m       n_procs = \u001b[94m1\u001b[0m             \u001b[33m│\u001b[0m                                                         \u001b[91m│\u001b[0m\n",
       "\u001b[91m│\u001b[0m \u001b[33m│\u001b[0m       network = \u001b[33m'nakamoto'\u001b[0m    \u001b[33m│\u001b[0m                                                         \u001b[91m│\u001b[0m\n",
       "\u001b[91m│\u001b[0m \u001b[33m│\u001b[0m        target = \u001b[1;35mN\u001b[0m\u001b[1m(\u001b[0mR-R14\u001b[1m)\u001b[0m      \u001b[33m│\u001b[0m                                                         \u001b[91m│\u001b[0m\n",
       "\u001b[91m│\u001b[0m \u001b[33m│\u001b[0m       targets = \u001b[1m[\u001b[0m             \u001b[33m│\u001b[0m                                                         \u001b[91m│\u001b[0m\n",
       "\u001b[91m│\u001b[0m \u001b[33m│\u001b[0m                 \u001b[2m│   \u001b[0m\u001b[1;35mN\u001b[0m\u001b[1m(\u001b[0mR-R10\u001b[1m)\u001b[0m, \u001b[33m│\u001b[0m                                                         \u001b[91m│\u001b[0m\n",
       "\u001b[91m│\u001b[0m \u001b[33m│\u001b[0m                 \u001b[2m│   \u001b[0m\u001b[1;35mN\u001b[0m\u001b[1m(\u001b[0mR-R11\u001b[1m)\u001b[0m, \u001b[33m│\u001b[0m                                                         \u001b[91m│\u001b[0m\n",
       "\u001b[91m│\u001b[0m \u001b[33m│\u001b[0m                 \u001b[2m│   \u001b[0m\u001b[1;35mN\u001b[0m\u001b[1m(\u001b[0mR-R12\u001b[1m)\u001b[0m, \u001b[33m│\u001b[0m                                                         \u001b[91m│\u001b[0m\n",
       "\u001b[91m│\u001b[0m \u001b[33m│\u001b[0m                 \u001b[2m│   \u001b[0m\u001b[1;35mN\u001b[0m\u001b[1m(\u001b[0mR-R13\u001b[1m)\u001b[0m, \u001b[33m│\u001b[0m                                                         \u001b[91m│\u001b[0m\n",
       "\u001b[91m│\u001b[0m \u001b[33m│\u001b[0m                 \u001b[2m│   \u001b[0m\u001b[1;35mN\u001b[0m\u001b[1m(\u001b[0mR-R14\u001b[1m)\u001b[0m, \u001b[33m│\u001b[0m                                                         \u001b[91m│\u001b[0m\n",
       "\u001b[91m│\u001b[0m \u001b[33m│\u001b[0m                 \u001b[2m│   \u001b[0m\u001b[1;35mN\u001b[0m\u001b[1m(\u001b[0mR-R15\u001b[1m)\u001b[0m, \u001b[33m│\u001b[0m                                                         \u001b[91m│\u001b[0m\n",
       "\u001b[91m│\u001b[0m \u001b[33m│\u001b[0m                 \u001b[2m│   \u001b[0m\u001b[1;35mN\u001b[0m\u001b[1m(\u001b[0mR-R16\u001b[1m)\u001b[0m, \u001b[33m│\u001b[0m                                                         \u001b[91m│\u001b[0m\n",
       "\u001b[91m│\u001b[0m \u001b[33m│\u001b[0m                 \u001b[2m│   \u001b[0m\u001b[1;35mN\u001b[0m\u001b[1m(\u001b[0mR-R17\u001b[1m)\u001b[0m, \u001b[33m│\u001b[0m                                                         \u001b[91m│\u001b[0m\n",
       "\u001b[91m│\u001b[0m \u001b[33m│\u001b[0m                 \u001b[2m│   \u001b[0m\u001b[1;35mN\u001b[0m\u001b[1m(\u001b[0mR-R18\u001b[1m)\u001b[0m, \u001b[33m│\u001b[0m                                                         \u001b[91m│\u001b[0m\n",
       "\u001b[91m│\u001b[0m \u001b[33m│\u001b[0m                 \u001b[2m│   \u001b[0m\u001b[1;35mN\u001b[0m\u001b[1m(\u001b[0mR-R19\u001b[1m)\u001b[0m  \u001b[33m│\u001b[0m                                                         \u001b[91m│\u001b[0m\n",
       "\u001b[91m│\u001b[0m \u001b[33m│\u001b[0m                 \u001b[1m]\u001b[0m             \u001b[33m│\u001b[0m                                                         \u001b[91m│\u001b[0m\n",
       "\u001b[91m│\u001b[0m \u001b[33m│\u001b[0m       timeout = \u001b[94m30\u001b[0m            \u001b[33m│\u001b[0m                                                         \u001b[91m│\u001b[0m\n",
       "\u001b[91m│\u001b[0m \u001b[33m│\u001b[0m          warn = \u001b[94mFalse\u001b[0m         \u001b[33m│\u001b[0m                                                         \u001b[91m│\u001b[0m\n",
       "\u001b[91m│\u001b[0m \u001b[33m│\u001b[0m       workers = \u001b[1m[\u001b[0m             \u001b[33m│\u001b[0m                                                         \u001b[91m│\u001b[0m\n",
       "\u001b[91m│\u001b[0m \u001b[33m│\u001b[0m                 \u001b[2m│   \u001b[0m\u001b[1;35mN\u001b[0m\u001b[1m(\u001b[0mR-R0\u001b[1m)\u001b[0m,  \u001b[33m│\u001b[0m                                                         \u001b[91m│\u001b[0m\n",
       "\u001b[91m│\u001b[0m \u001b[33m│\u001b[0m                 \u001b[2m│   \u001b[0m\u001b[1;35mN\u001b[0m\u001b[1m(\u001b[0mR-R1\u001b[1m)\u001b[0m,  \u001b[33m│\u001b[0m                                                         \u001b[91m│\u001b[0m\n",
       "\u001b[91m│\u001b[0m \u001b[33m│\u001b[0m                 \u001b[2m│   \u001b[0m\u001b[1;35mN\u001b[0m\u001b[1m(\u001b[0mR-R2\u001b[1m)\u001b[0m,  \u001b[33m│\u001b[0m                                                         \u001b[91m│\u001b[0m\n",
       "\u001b[91m│\u001b[0m \u001b[33m│\u001b[0m                 \u001b[2m│   \u001b[0m\u001b[1;35mN\u001b[0m\u001b[1m(\u001b[0mR-R3\u001b[1m)\u001b[0m,  \u001b[33m│\u001b[0m                                                         \u001b[91m│\u001b[0m\n",
       "\u001b[91m│\u001b[0m \u001b[33m│\u001b[0m                 \u001b[2m│   \u001b[0m\u001b[1;35mN\u001b[0m\u001b[1m(\u001b[0mR-R4\u001b[1m)\u001b[0m,  \u001b[33m│\u001b[0m                                                         \u001b[91m│\u001b[0m\n",
       "\u001b[91m│\u001b[0m \u001b[33m│\u001b[0m                 \u001b[2m│   \u001b[0m\u001b[1;35mN\u001b[0m\u001b[1m(\u001b[0mR-R5\u001b[1m)\u001b[0m,  \u001b[33m│\u001b[0m                                                         \u001b[91m│\u001b[0m\n",
       "\u001b[91m│\u001b[0m \u001b[33m│\u001b[0m                 \u001b[2m│   \u001b[0m\u001b[1;35mN\u001b[0m\u001b[1m(\u001b[0mR-R6\u001b[1m)\u001b[0m,  \u001b[33m│\u001b[0m                                                         \u001b[91m│\u001b[0m\n",
       "\u001b[91m│\u001b[0m \u001b[33m│\u001b[0m                 \u001b[2m│   \u001b[0m\u001b[1;35mN\u001b[0m\u001b[1m(\u001b[0mR-R7\u001b[1m)\u001b[0m,  \u001b[33m│\u001b[0m                                                         \u001b[91m│\u001b[0m\n",
       "\u001b[91m│\u001b[0m \u001b[33m│\u001b[0m                 \u001b[2m│   \u001b[0m\u001b[1;35mN\u001b[0m\u001b[1m(\u001b[0mR-R8\u001b[1m)\u001b[0m,  \u001b[33m│\u001b[0m                                                         \u001b[91m│\u001b[0m\n",
       "\u001b[91m│\u001b[0m \u001b[33m│\u001b[0m                 \u001b[2m│   \u001b[0m\u001b[1;35mN\u001b[0m\u001b[1m(\u001b[0mR-R9\u001b[1m)\u001b[0m,  \u001b[33m│\u001b[0m                                                         \u001b[91m│\u001b[0m\n",
       "\u001b[91m│\u001b[0m \u001b[33m│\u001b[0m                 \u001b[2m│   \u001b[0m\u001b[33m...\u001b[0m +\u001b[94m290\u001b[0m  \u001b[33m│\u001b[0m                                                         \u001b[91m│\u001b[0m\n",
       "\u001b[91m│\u001b[0m \u001b[33m│\u001b[0m                 \u001b[1m]\u001b[0m             \u001b[33m│\u001b[0m                                                         \u001b[91m│\u001b[0m\n",
       "\u001b[91m│\u001b[0m \u001b[33m╰───────────────────────────────╯\u001b[0m                                                         \u001b[91m│\u001b[0m\n",
       "\u001b[91m│\u001b[0m                                                                                           \u001b[91m│\u001b[0m\n",
       "\u001b[91m│\u001b[0m \u001b[2;33m/Users/thebes/Work/HUD/\u001b[0m\u001b[1;33mhud.py\u001b[0m:\u001b[94m344\u001b[0m in \u001b[92m_run\u001b[0m                                                 \u001b[91m│\u001b[0m\n",
       "\u001b[91m│\u001b[0m                                                                                           \u001b[91m│\u001b[0m\n",
       "\u001b[91m│\u001b[0m   \u001b[2m341 \u001b[0m\u001b[2m│   │   \u001b[0mfuts = []                                                                   \u001b[91m│\u001b[0m\n",
       "\u001b[91m│\u001b[0m   \u001b[2m342 \u001b[0m\u001b[2m│   │   \u001b[0m\u001b[94mwith\u001b[0m ThreadPoolExecutor(max_workers=\u001b[96mmin\u001b[0m(max_threads, \u001b[96mlen\u001b[0m(neurons))) \u001b[94mas\u001b[0m exec \u001b[91m│\u001b[0m\n",
       "\u001b[91m│\u001b[0m   \u001b[2m343 \u001b[0m\u001b[2m│   │   │   \u001b[0m\u001b[94mfor\u001b[0m n \u001b[95min\u001b[0m neurons:                                                       \u001b[91m│\u001b[0m\n",
       "\u001b[91m│\u001b[0m \u001b[31m❱ \u001b[0m344 \u001b[2m│   │   │   │   \u001b[0mfuts.append( (n, executor.submit(_run, n)) )                        \u001b[91m│\u001b[0m\n",
       "\u001b[91m│\u001b[0m   \u001b[2m345 \u001b[0m\u001b[2m│   │   \u001b[0mresults = HUDDict()                                                         \u001b[91m│\u001b[0m\n",
       "\u001b[91m│\u001b[0m   \u001b[2m346 \u001b[0m\u001b[2m│   │   \u001b[0m\u001b[94mfor\u001b[0m n, fut \u001b[95min\u001b[0m futs:                                                         \u001b[91m│\u001b[0m\n",
       "\u001b[91m│\u001b[0m   \u001b[2m347 \u001b[0m\u001b[2m│   │   │   \u001b[0m\u001b[94mtry\u001b[0m:                                                                    \u001b[91m│\u001b[0m\n",
       "\u001b[91m│\u001b[0m                                                                                           \u001b[91m│\u001b[0m\n",
       "\u001b[91m│\u001b[0m \u001b[33m╭─\u001b[0m\u001b[33m───────────────────────────────────── locals ─────────────────────────────────────\u001b[0m\u001b[33m─╮\u001b[0m    \u001b[91m│\u001b[0m\n",
       "\u001b[91m│\u001b[0m \u001b[33m│\u001b[0m        _run = \u001b[1m<\u001b[0m\u001b[1;95mfunction\u001b[0m\u001b[39m HUD._run.<locals\u001b[0m\u001b[1m>\u001b[0m._run at \u001b[94m0x14aab4ee0\u001b[0m>                     \u001b[33m│\u001b[0m    \u001b[91m│\u001b[0m\n",
       "\u001b[91m│\u001b[0m \u001b[33m│\u001b[0m      disown = \u001b[94mFalse\u001b[0m                                                                \u001b[33m│\u001b[0m    \u001b[91m│\u001b[0m\n",
       "\u001b[91m│\u001b[0m \u001b[33m│\u001b[0m    executor = \u001b[1m<\u001b[0m\u001b[1;95mconcurrent.futures.thread.ThreadPoolExecutor\u001b[0m\u001b[39m object at \u001b[0m\u001b[94m0x13c1a1550\u001b[0m\u001b[1m>\u001b[0m \u001b[33m│\u001b[0m    \u001b[91m│\u001b[0m\n",
       "\u001b[91m│\u001b[0m \u001b[33m│\u001b[0m        futs = \u001b[1m[\u001b[0m                                                                    \u001b[33m│\u001b[0m    \u001b[91m│\u001b[0m\n",
       "\u001b[91m│\u001b[0m \u001b[33m│\u001b[0m               \u001b[2m│   \u001b[0m\u001b[1m(\u001b[0m\u001b[1;35mN\u001b[0m\u001b[1m(\u001b[0mR-R0\u001b[1m)\u001b[0m, \u001b[1m<\u001b[0m\u001b[1;95mFuture\u001b[0m\u001b[39m at \u001b[0m\u001b[94m0x14adfbf40\u001b[0m\u001b[39m \u001b[0m\u001b[33mstate\u001b[0m\u001b[39m=\u001b[0m\u001b[35mfinished\u001b[0m\u001b[39m returned str\u001b[0m\u001b[1m>\u001b[0m\u001b[1m)\u001b[0m,  \u001b[33m│\u001b[0m    \u001b[91m│\u001b[0m\n",
       "\u001b[91m│\u001b[0m \u001b[33m│\u001b[0m               \u001b[2m│   \u001b[0m\u001b[1m(\u001b[0m\u001b[1;35mN\u001b[0m\u001b[1m(\u001b[0mR-R1\u001b[1m)\u001b[0m, \u001b[1m<\u001b[0m\u001b[1;95mFuture\u001b[0m\u001b[39m at \u001b[0m\u001b[94m0x1380adb80\u001b[0m\u001b[39m \u001b[0m\u001b[33mstate\u001b[0m\u001b[39m=\u001b[0m\u001b[35mfinished\u001b[0m\u001b[39m returned str\u001b[0m\u001b[1m>\u001b[0m\u001b[1m)\u001b[0m,  \u001b[33m│\u001b[0m    \u001b[91m│\u001b[0m\n",
       "\u001b[91m│\u001b[0m \u001b[33m│\u001b[0m               \u001b[2m│   \u001b[0m\u001b[1m(\u001b[0m\u001b[1;35mN\u001b[0m\u001b[1m(\u001b[0mR-R2\u001b[1m)\u001b[0m, \u001b[1m<\u001b[0m\u001b[1;95mFuture\u001b[0m\u001b[39m at \u001b[0m\u001b[94m0x11cfd8370\u001b[0m\u001b[39m \u001b[0m\u001b[33mstate\u001b[0m\u001b[39m=\u001b[0m\u001b[35mfinished\u001b[0m\u001b[39m returned str\u001b[0m\u001b[1m>\u001b[0m\u001b[1m)\u001b[0m,  \u001b[33m│\u001b[0m    \u001b[91m│\u001b[0m\n",
       "\u001b[91m│\u001b[0m \u001b[33m│\u001b[0m               \u001b[2m│   \u001b[0m\u001b[1m(\u001b[0m\u001b[1;35mN\u001b[0m\u001b[1m(\u001b[0mR-R3\u001b[1m)\u001b[0m, \u001b[1m<\u001b[0m\u001b[1;95mFuture\u001b[0m\u001b[39m at \u001b[0m\u001b[94m0x139833940\u001b[0m\u001b[39m \u001b[0m\u001b[33mstate\u001b[0m\u001b[39m=\u001b[0m\u001b[35mfinished\u001b[0m\u001b[39m returned str\u001b[0m\u001b[1m>\u001b[0m\u001b[1m)\u001b[0m,  \u001b[33m│\u001b[0m    \u001b[91m│\u001b[0m\n",
       "\u001b[91m│\u001b[0m \u001b[33m│\u001b[0m               \u001b[2m│   \u001b[0m\u001b[1m(\u001b[0m\u001b[1;35mN\u001b[0m\u001b[1m(\u001b[0mR-R4\u001b[1m)\u001b[0m, \u001b[1m<\u001b[0m\u001b[1;95mFuture\u001b[0m\u001b[39m at \u001b[0m\u001b[94m0x13a4794f0\u001b[0m\u001b[39m \u001b[0m\u001b[33mstate\u001b[0m\u001b[39m=\u001b[0m\u001b[35mfinished\u001b[0m\u001b[39m returned str\u001b[0m\u001b[1m>\u001b[0m\u001b[1m)\u001b[0m,  \u001b[33m│\u001b[0m    \u001b[91m│\u001b[0m\n",
       "\u001b[91m│\u001b[0m \u001b[33m│\u001b[0m               \u001b[2m│   \u001b[0m\u001b[1m(\u001b[0m\u001b[1;35mN\u001b[0m\u001b[1m(\u001b[0mR-R5\u001b[1m)\u001b[0m, \u001b[1m<\u001b[0m\u001b[1;95mFuture\u001b[0m\u001b[39m at \u001b[0m\u001b[94m0x14bbc71c0\u001b[0m\u001b[39m \u001b[0m\u001b[33mstate\u001b[0m\u001b[39m=\u001b[0m\u001b[35mfinished\u001b[0m\u001b[39m returned str\u001b[0m\u001b[1m>\u001b[0m\u001b[1m)\u001b[0m,  \u001b[33m│\u001b[0m    \u001b[91m│\u001b[0m\n",
       "\u001b[91m│\u001b[0m \u001b[33m│\u001b[0m               \u001b[2m│   \u001b[0m\u001b[1m(\u001b[0m\u001b[1;35mN\u001b[0m\u001b[1m(\u001b[0mR-R6\u001b[1m)\u001b[0m, \u001b[1m<\u001b[0m\u001b[1;95mFuture\u001b[0m\u001b[39m at \u001b[0m\u001b[94m0x12eed0910\u001b[0m\u001b[39m \u001b[0m\u001b[33mstate\u001b[0m\u001b[39m=\u001b[0m\u001b[35mfinished\u001b[0m\u001b[39m returned str\u001b[0m\u001b[1m>\u001b[0m\u001b[1m)\u001b[0m,  \u001b[33m│\u001b[0m    \u001b[91m│\u001b[0m\n",
       "\u001b[91m│\u001b[0m \u001b[33m│\u001b[0m               \u001b[2m│   \u001b[0m\u001b[1m(\u001b[0m\u001b[1;35mN\u001b[0m\u001b[1m(\u001b[0mR-R7\u001b[1m)\u001b[0m, \u001b[1m<\u001b[0m\u001b[1;95mFuture\u001b[0m\u001b[39m at \u001b[0m\u001b[94m0x14abf2070\u001b[0m\u001b[39m \u001b[0m\u001b[33mstate\u001b[0m\u001b[39m=\u001b[0m\u001b[35mfinished\u001b[0m\u001b[39m returned str\u001b[0m\u001b[1m>\u001b[0m\u001b[1m)\u001b[0m,  \u001b[33m│\u001b[0m    \u001b[91m│\u001b[0m\n",
       "\u001b[91m│\u001b[0m \u001b[33m│\u001b[0m               \u001b[2m│   \u001b[0m\u001b[1m(\u001b[0m\u001b[1;35mN\u001b[0m\u001b[1m(\u001b[0mR-R8\u001b[1m)\u001b[0m, \u001b[1m<\u001b[0m\u001b[1;95mFuture\u001b[0m\u001b[39m at \u001b[0m\u001b[94m0x14aa3b820\u001b[0m\u001b[39m \u001b[0m\u001b[33mstate\u001b[0m\u001b[39m=\u001b[0m\u001b[35mfinished\u001b[0m\u001b[39m returned str\u001b[0m\u001b[1m>\u001b[0m\u001b[1m)\u001b[0m,  \u001b[33m│\u001b[0m    \u001b[91m│\u001b[0m\n",
       "\u001b[91m│\u001b[0m \u001b[33m│\u001b[0m               \u001b[2m│   \u001b[0m\u001b[1m(\u001b[0m\u001b[1;35mN\u001b[0m\u001b[1m(\u001b[0mR-R9\u001b[1m)\u001b[0m, \u001b[1m<\u001b[0m\u001b[1;95mFuture\u001b[0m\u001b[39m at \u001b[0m\u001b[94m0x13cc5f9d0\u001b[0m\u001b[39m \u001b[0m\u001b[33mstate\u001b[0m\u001b[39m=\u001b[0m\u001b[35mfinished\u001b[0m\u001b[39m returned str\u001b[0m\u001b[1m>\u001b[0m\u001b[1m)\u001b[0m,  \u001b[33m│\u001b[0m    \u001b[91m│\u001b[0m\n",
       "\u001b[91m│\u001b[0m \u001b[33m│\u001b[0m               \u001b[2m│   \u001b[0m\u001b[33m...\u001b[0m +\u001b[94m290\u001b[0m                                                         \u001b[33m│\u001b[0m    \u001b[91m│\u001b[0m\n",
       "\u001b[91m│\u001b[0m \u001b[33m│\u001b[0m               \u001b[1m]\u001b[0m                                                                    \u001b[33m│\u001b[0m    \u001b[91m│\u001b[0m\n",
       "\u001b[91m│\u001b[0m \u001b[33m│\u001b[0m        hide = \u001b[94mTrue\u001b[0m                                                                 \u001b[33m│\u001b[0m    \u001b[91m│\u001b[0m\n",
       "\u001b[91m│\u001b[0m \u001b[33m│\u001b[0m       is_ok = \u001b[94mFalse\u001b[0m                                                                \u001b[33m│\u001b[0m    \u001b[91m│\u001b[0m\n",
       "\u001b[91m│\u001b[0m \u001b[33m│\u001b[0m   is_script = \u001b[94mTrue\u001b[0m                                                                 \u001b[33m│\u001b[0m    \u001b[91m│\u001b[0m\n",
       "\u001b[91m│\u001b[0m \u001b[33m│\u001b[0m max_threads = \u001b[94m100000\u001b[0m                                                               \u001b[33m│\u001b[0m    \u001b[91m│\u001b[0m\n",
       "\u001b[91m│\u001b[0m \u001b[33m│\u001b[0m           n = \u001b[1;35mN\u001b[0m\u001b[1m(\u001b[0mR-R299\u001b[1m)\u001b[0m                                                            \u001b[33m│\u001b[0m    \u001b[91m│\u001b[0m\n",
       "\u001b[91m│\u001b[0m \u001b[33m│\u001b[0m     neurons = \u001b[1m[\u001b[0m                                                                    \u001b[33m│\u001b[0m    \u001b[91m│\u001b[0m\n",
       "\u001b[91m│\u001b[0m \u001b[33m│\u001b[0m               \u001b[2m│   \u001b[0m\u001b[1;35mN\u001b[0m\u001b[1m(\u001b[0mR-R0\u001b[1m)\u001b[0m,                                                         \u001b[33m│\u001b[0m    \u001b[91m│\u001b[0m\n",
       "\u001b[91m│\u001b[0m \u001b[33m│\u001b[0m               \u001b[2m│   \u001b[0m\u001b[1;35mN\u001b[0m\u001b[1m(\u001b[0mR-R1\u001b[1m)\u001b[0m,                                                         \u001b[33m│\u001b[0m    \u001b[91m│\u001b[0m\n",
       "\u001b[91m│\u001b[0m \u001b[33m│\u001b[0m               \u001b[2m│   \u001b[0m\u001b[1;35mN\u001b[0m\u001b[1m(\u001b[0mR-R2\u001b[1m)\u001b[0m,                                                         \u001b[33m│\u001b[0m    \u001b[91m│\u001b[0m\n",
       "\u001b[91m│\u001b[0m \u001b[33m│\u001b[0m               \u001b[2m│   \u001b[0m\u001b[1;35mN\u001b[0m\u001b[1m(\u001b[0mR-R3\u001b[1m)\u001b[0m,                                                         \u001b[33m│\u001b[0m    \u001b[91m│\u001b[0m\n",
       "\u001b[91m│\u001b[0m \u001b[33m│\u001b[0m               \u001b[2m│   \u001b[0m\u001b[1;35mN\u001b[0m\u001b[1m(\u001b[0mR-R4\u001b[1m)\u001b[0m,                                                         \u001b[33m│\u001b[0m    \u001b[91m│\u001b[0m\n",
       "\u001b[91m│\u001b[0m \u001b[33m│\u001b[0m               \u001b[2m│   \u001b[0m\u001b[1;35mN\u001b[0m\u001b[1m(\u001b[0mR-R5\u001b[1m)\u001b[0m,                                                         \u001b[33m│\u001b[0m    \u001b[91m│\u001b[0m\n",
       "\u001b[91m│\u001b[0m \u001b[33m│\u001b[0m               \u001b[2m│   \u001b[0m\u001b[1;35mN\u001b[0m\u001b[1m(\u001b[0mR-R6\u001b[1m)\u001b[0m,                                                         \u001b[33m│\u001b[0m    \u001b[91m│\u001b[0m\n",
       "\u001b[91m│\u001b[0m \u001b[33m│\u001b[0m               \u001b[2m│   \u001b[0m\u001b[1;35mN\u001b[0m\u001b[1m(\u001b[0mR-R7\u001b[1m)\u001b[0m,                                                         \u001b[33m│\u001b[0m    \u001b[91m│\u001b[0m\n",
       "\u001b[91m│\u001b[0m \u001b[33m│\u001b[0m               \u001b[2m│   \u001b[0m\u001b[1;35mN\u001b[0m\u001b[1m(\u001b[0mR-R8\u001b[1m)\u001b[0m,                                                         \u001b[33m│\u001b[0m    \u001b[91m│\u001b[0m\n",
       "\u001b[91m│\u001b[0m \u001b[33m│\u001b[0m               \u001b[2m│   \u001b[0m\u001b[1;35mN\u001b[0m\u001b[1m(\u001b[0mR-R9\u001b[1m)\u001b[0m,                                                         \u001b[33m│\u001b[0m    \u001b[91m│\u001b[0m\n",
       "\u001b[91m│\u001b[0m \u001b[33m│\u001b[0m               \u001b[2m│   \u001b[0m\u001b[33m...\u001b[0m +\u001b[94m290\u001b[0m                                                         \u001b[33m│\u001b[0m    \u001b[91m│\u001b[0m\n",
       "\u001b[91m│\u001b[0m \u001b[33m│\u001b[0m               \u001b[1m]\u001b[0m                                                                    \u001b[33m│\u001b[0m    \u001b[91m│\u001b[0m\n",
       "\u001b[91m│\u001b[0m \u001b[33m│\u001b[0m     results = \u001b[1m{\u001b[0m\u001b[1m}\u001b[0m                                                                   \u001b[33m│\u001b[0m    \u001b[91m│\u001b[0m\n",
       "\u001b[91m│\u001b[0m \u001b[33m│\u001b[0m      script = \u001b[33m'pkill -f **hR14** & rm **hR14**'\u001b[0m                                    \u001b[33m│\u001b[0m    \u001b[91m│\u001b[0m\n",
       "\u001b[91m│\u001b[0m \u001b[33m│\u001b[0m      stdout = \u001b[94mTrue\u001b[0m                                                                 \u001b[33m│\u001b[0m    \u001b[91m│\u001b[0m\n",
       "\u001b[91m│\u001b[0m \u001b[33m│\u001b[0m        tbar = \u001b[1m<\u001b[0m\u001b[1;95mtqdm.std.tqdm\u001b[0m\u001b[39m object at \u001b[0m\u001b[94m0x14ba80ac0\u001b[0m\u001b[1m>\u001b[0m                                \u001b[33m│\u001b[0m    \u001b[91m│\u001b[0m\n",
       "\u001b[91m│\u001b[0m \u001b[33m│\u001b[0m     timeout = \u001b[94m30\u001b[0m                                                                   \u001b[33m│\u001b[0m    \u001b[91m│\u001b[0m\n",
       "\u001b[91m│\u001b[0m \u001b[33m│\u001b[0m        warn = \u001b[94mFalse\u001b[0m                                                                \u001b[33m│\u001b[0m    \u001b[91m│\u001b[0m\n",
       "\u001b[91m│\u001b[0m \u001b[33m╰────────────────────────────────────────────────────────────────────────────────────╯\u001b[0m    \u001b[91m│\u001b[0m\n",
       "\u001b[91m│\u001b[0m                                                                                           \u001b[91m│\u001b[0m\n",
       "\u001b[91m│\u001b[0m \u001b[2;33m/opt/homebrew/Cellar/python@3.9/3.9.12/Frameworks/Python.framework/Versions/3.9/lib/pytho\u001b[0m \u001b[91m│\u001b[0m\n",
       "\u001b[91m│\u001b[0m \u001b[2;33mn3.9/concurrent/futures/\u001b[0m\u001b[1;33m_base.py\u001b[0m:\u001b[94m637\u001b[0m in \u001b[92m__exit__\u001b[0m                                          \u001b[91m│\u001b[0m\n",
       "\u001b[91m│\u001b[0m                                                                                           \u001b[91m│\u001b[0m\n",
       "\u001b[91m│\u001b[0m   \u001b[2m634 \u001b[0m\u001b[2m│   │   \u001b[0m\u001b[94mreturn\u001b[0m \u001b[96mself\u001b[0m                                                                 \u001b[91m│\u001b[0m\n",
       "\u001b[91m│\u001b[0m   \u001b[2m635 \u001b[0m\u001b[2m│   \u001b[0m                                                                                \u001b[91m│\u001b[0m\n",
       "\u001b[91m│\u001b[0m   \u001b[2m636 \u001b[0m\u001b[2m│   \u001b[0m\u001b[94mdef\u001b[0m \u001b[92m__exit__\u001b[0m(\u001b[96mself\u001b[0m, exc_type, exc_val, exc_tb):                                  \u001b[91m│\u001b[0m\n",
       "\u001b[91m│\u001b[0m \u001b[31m❱ \u001b[0m637 \u001b[2m│   │   \u001b[0m\u001b[96mself\u001b[0m.shutdown(wait=\u001b[94mTrue\u001b[0m)                                                    \u001b[91m│\u001b[0m\n",
       "\u001b[91m│\u001b[0m   \u001b[2m638 \u001b[0m\u001b[2m│   │   \u001b[0m\u001b[94mreturn\u001b[0m \u001b[94mFalse\u001b[0m                                                                \u001b[91m│\u001b[0m\n",
       "\u001b[91m│\u001b[0m   \u001b[2m639 \u001b[0m                                                                                    \u001b[91m│\u001b[0m\n",
       "\u001b[91m│\u001b[0m   \u001b[2m640 \u001b[0m                                                                                    \u001b[91m│\u001b[0m\n",
       "\u001b[91m│\u001b[0m                                                                                           \u001b[91m│\u001b[0m\n",
       "\u001b[91m│\u001b[0m \u001b[33m╭─\u001b[0m\u001b[33m─────────────────────────────────── locals ────────────────────────────────────\u001b[0m\u001b[33m─╮\u001b[0m       \u001b[91m│\u001b[0m\n",
       "\u001b[91m│\u001b[0m \u001b[33m│\u001b[0m   exc_tb = \u001b[94mNone\u001b[0m                                                                 \u001b[33m│\u001b[0m       \u001b[91m│\u001b[0m\n",
       "\u001b[91m│\u001b[0m \u001b[33m│\u001b[0m exc_type = \u001b[94mNone\u001b[0m                                                                 \u001b[33m│\u001b[0m       \u001b[91m│\u001b[0m\n",
       "\u001b[91m│\u001b[0m \u001b[33m│\u001b[0m  exc_val = \u001b[94mNone\u001b[0m                                                                 \u001b[33m│\u001b[0m       \u001b[91m│\u001b[0m\n",
       "\u001b[91m│\u001b[0m \u001b[33m│\u001b[0m     self = \u001b[1m<\u001b[0m\u001b[1;95mconcurrent.futures.thread.ThreadPoolExecutor\u001b[0m\u001b[39m object at \u001b[0m\u001b[94m0x13c1a1550\u001b[0m\u001b[1m>\u001b[0m \u001b[33m│\u001b[0m       \u001b[91m│\u001b[0m\n",
       "\u001b[91m│\u001b[0m \u001b[33m╰─────────────────────────────────────────────────────────────────────────────────╯\u001b[0m       \u001b[91m│\u001b[0m\n",
       "\u001b[91m│\u001b[0m                                                                                           \u001b[91m│\u001b[0m\n",
       "\u001b[91m│\u001b[0m \u001b[2;33m/opt/homebrew/Cellar/python@3.9/3.9.12/Frameworks/Python.framework/Versions/3.9/lib/pytho\u001b[0m \u001b[91m│\u001b[0m\n",
       "\u001b[91m│\u001b[0m \u001b[2;33mn3.9/concurrent/futures/\u001b[0m\u001b[1;33mthread.py\u001b[0m:\u001b[94m235\u001b[0m in \u001b[92mshutdown\u001b[0m                                         \u001b[91m│\u001b[0m\n",
       "\u001b[91m│\u001b[0m                                                                                           \u001b[91m│\u001b[0m\n",
       "\u001b[91m│\u001b[0m   \u001b[2m232 \u001b[0m\u001b[2m│   │   │   \u001b[0m\u001b[96mself\u001b[0m._work_queue.put(\u001b[94mNone\u001b[0m)                                              \u001b[91m│\u001b[0m\n",
       "\u001b[91m│\u001b[0m   \u001b[2m233 \u001b[0m\u001b[2m│   │   \u001b[0m\u001b[94mif\u001b[0m wait:                                                                    \u001b[91m│\u001b[0m\n",
       "\u001b[91m│\u001b[0m   \u001b[2m234 \u001b[0m\u001b[2m│   │   │   \u001b[0m\u001b[94mfor\u001b[0m t \u001b[95min\u001b[0m \u001b[96mself\u001b[0m._threads:                                                 \u001b[91m│\u001b[0m\n",
       "\u001b[91m│\u001b[0m \u001b[31m❱ \u001b[0m235 \u001b[2m│   │   │   │   \u001b[0mt.join()                                                            \u001b[91m│\u001b[0m\n",
       "\u001b[91m│\u001b[0m   \u001b[2m236 \u001b[0m\u001b[2m│   \u001b[0mshutdown.\u001b[91m__doc__\u001b[0m = _base.Executor.shutdown.\u001b[91m__doc__\u001b[0m                              \u001b[91m│\u001b[0m\n",
       "\u001b[91m│\u001b[0m   \u001b[2m237 \u001b[0m                                                                                    \u001b[91m│\u001b[0m\n",
       "\u001b[91m│\u001b[0m                                                                                           \u001b[91m│\u001b[0m\n",
       "\u001b[91m│\u001b[0m \u001b[33m╭─\u001b[0m\u001b[33m────────────────────────────────────── locals ───────────────────────────────────────\u001b[0m\u001b[33m─╮\u001b[0m \u001b[91m│\u001b[0m\n",
       "\u001b[91m│\u001b[0m \u001b[33m│\u001b[0m cancel_futures = \u001b[94mFalse\u001b[0m                                                                \u001b[33m│\u001b[0m \u001b[91m│\u001b[0m\n",
       "\u001b[91m│\u001b[0m \u001b[33m│\u001b[0m           self = \u001b[1m<\u001b[0m\u001b[1;95mconcurrent.futures.thread.ThreadPoolExecutor\u001b[0m\u001b[39m object at \u001b[0m\u001b[94m0x13c1a1550\u001b[0m\u001b[1m>\u001b[0m \u001b[33m│\u001b[0m \u001b[91m│\u001b[0m\n",
       "\u001b[91m│\u001b[0m \u001b[33m│\u001b[0m              t = \u001b[1m<\u001b[0m\u001b[1;35mThread\u001b[0m\u001b[1;39m(\u001b[0m\u001b[39mThreadPoolExecutor-66_162, stopped \u001b[0m\u001b[94m19167408128\u001b[0m\u001b[1;39m)\u001b[0m\u001b[1m>\u001b[0m             \u001b[33m│\u001b[0m \u001b[91m│\u001b[0m\n",
       "\u001b[91m│\u001b[0m \u001b[33m│\u001b[0m           wait = \u001b[94mTrue\u001b[0m                                                                 \u001b[33m│\u001b[0m \u001b[91m│\u001b[0m\n",
       "\u001b[91m│\u001b[0m \u001b[33m╰───────────────────────────────────────────────────────────────────────────────────────╯\u001b[0m \u001b[91m│\u001b[0m\n",
       "\u001b[91m│\u001b[0m                                                                                           \u001b[91m│\u001b[0m\n",
       "\u001b[91m│\u001b[0m \u001b[2;33m/opt/homebrew/Cellar/python@3.9/3.9.12/Frameworks/Python.framework/Versions/3.9/lib/pytho\u001b[0m \u001b[91m│\u001b[0m\n",
       "\u001b[91m│\u001b[0m \u001b[2;33mn3.9/\u001b[0m\u001b[1;33mthreading.py\u001b[0m:\u001b[94m1053\u001b[0m in \u001b[92mjoin\u001b[0m                                                            \u001b[91m│\u001b[0m\n",
       "\u001b[91m│\u001b[0m                                                                                           \u001b[91m│\u001b[0m\n",
       "\u001b[91m│\u001b[0m   \u001b[2m1050 \u001b[0m\u001b[2m│   │   │   \u001b[0m\u001b[94mraise\u001b[0m \u001b[96mRuntimeError\u001b[0m(\u001b[33m\"\u001b[0m\u001b[33mcannot join current thread\u001b[0m\u001b[33m\"\u001b[0m)                       \u001b[91m│\u001b[0m\n",
       "\u001b[91m│\u001b[0m   \u001b[2m1051 \u001b[0m\u001b[2m│   │   \u001b[0m                                                                           \u001b[91m│\u001b[0m\n",
       "\u001b[91m│\u001b[0m   \u001b[2m1052 \u001b[0m\u001b[2m│   │   \u001b[0m\u001b[94mif\u001b[0m timeout \u001b[95mis\u001b[0m \u001b[94mNone\u001b[0m:                                                        \u001b[91m│\u001b[0m\n",
       "\u001b[91m│\u001b[0m \u001b[31m❱ \u001b[0m1053 \u001b[2m│   │   │   \u001b[0m\u001b[96mself\u001b[0m._wait_for_tstate_lock()                                           \u001b[91m│\u001b[0m\n",
       "\u001b[91m│\u001b[0m   \u001b[2m1054 \u001b[0m\u001b[2m│   │   \u001b[0m\u001b[94melse\u001b[0m:                                                                      \u001b[91m│\u001b[0m\n",
       "\u001b[91m│\u001b[0m   \u001b[2m1055 \u001b[0m\u001b[2m│   │   │   \u001b[0m\u001b[2m# the behavior of a negative timeout isn't documented, but\u001b[0m             \u001b[91m│\u001b[0m\n",
       "\u001b[91m│\u001b[0m   \u001b[2m1056 \u001b[0m\u001b[2m│   │   │   \u001b[0m\u001b[2m# historically .join(timeout=x) for x<0 has acted as if timeout=0\u001b[0m      \u001b[91m│\u001b[0m\n",
       "\u001b[91m│\u001b[0m                                                                                           \u001b[91m│\u001b[0m\n",
       "\u001b[91m│\u001b[0m \u001b[33m╭─\u001b[0m\u001b[33m───────────────────────────── locals ─────────────────────────────\u001b[0m\u001b[33m─╮\u001b[0m                    \u001b[91m│\u001b[0m\n",
       "\u001b[91m│\u001b[0m \u001b[33m│\u001b[0m    self = \u001b[1m<\u001b[0m\u001b[1;35mThread\u001b[0m\u001b[1;39m(\u001b[0m\u001b[39mThreadPoolExecutor-66_162, stopped \u001b[0m\u001b[94m19167408128\u001b[0m\u001b[1;39m)\u001b[0m\u001b[1m>\u001b[0m \u001b[33m│\u001b[0m                    \u001b[91m│\u001b[0m\n",
       "\u001b[91m│\u001b[0m \u001b[33m│\u001b[0m timeout = \u001b[94mNone\u001b[0m                                                     \u001b[33m│\u001b[0m                    \u001b[91m│\u001b[0m\n",
       "\u001b[91m│\u001b[0m \u001b[33m╰────────────────────────────────────────────────────────────────────╯\u001b[0m                    \u001b[91m│\u001b[0m\n",
       "\u001b[91m│\u001b[0m                                                                                           \u001b[91m│\u001b[0m\n",
       "\u001b[91m│\u001b[0m \u001b[2;33m/opt/homebrew/Cellar/python@3.9/3.9.12/Frameworks/Python.framework/Versions/3.9/lib/pytho\u001b[0m \u001b[91m│\u001b[0m\n",
       "\u001b[91m│\u001b[0m \u001b[2;33mn3.9/\u001b[0m\u001b[1;33mthreading.py\u001b[0m:\u001b[94m1073\u001b[0m in \u001b[92m_wait_for_tstate_lock\u001b[0m                                           \u001b[91m│\u001b[0m\n",
       "\u001b[91m│\u001b[0m                                                                                           \u001b[91m│\u001b[0m\n",
       "\u001b[91m│\u001b[0m   \u001b[2m1070 \u001b[0m\u001b[2m│   │   │   \u001b[0m\u001b[94mreturn\u001b[0m                                                                 \u001b[91m│\u001b[0m\n",
       "\u001b[91m│\u001b[0m   \u001b[2m1071 \u001b[0m\u001b[2m│   │   \u001b[0m                                                                           \u001b[91m│\u001b[0m\n",
       "\u001b[91m│\u001b[0m   \u001b[2m1072 \u001b[0m\u001b[2m│   │   \u001b[0m\u001b[94mtry\u001b[0m:                                                                       \u001b[91m│\u001b[0m\n",
       "\u001b[91m│\u001b[0m \u001b[31m❱ \u001b[0m1073 \u001b[2m│   │   │   \u001b[0m\u001b[94mif\u001b[0m lock.acquire(block, timeout):                                       \u001b[91m│\u001b[0m\n",
       "\u001b[91m│\u001b[0m   \u001b[2m1074 \u001b[0m\u001b[2m│   │   │   │   \u001b[0mlock.release()                                                     \u001b[91m│\u001b[0m\n",
       "\u001b[91m│\u001b[0m   \u001b[2m1075 \u001b[0m\u001b[2m│   │   │   │   \u001b[0m\u001b[96mself\u001b[0m._stop()                                                       \u001b[91m│\u001b[0m\n",
       "\u001b[91m│\u001b[0m   \u001b[2m1076 \u001b[0m\u001b[2m│   │   \u001b[0m\u001b[94mexcept\u001b[0m:                                                                    \u001b[91m│\u001b[0m\n",
       "\u001b[91m│\u001b[0m                                                                                           \u001b[91m│\u001b[0m\n",
       "\u001b[91m│\u001b[0m \u001b[33m╭─\u001b[0m\u001b[33m───────────────────────────── locals ─────────────────────────────\u001b[0m\u001b[33m─╮\u001b[0m                    \u001b[91m│\u001b[0m\n",
       "\u001b[91m│\u001b[0m \u001b[33m│\u001b[0m   block = \u001b[94mTrue\u001b[0m                                                     \u001b[33m│\u001b[0m                    \u001b[91m│\u001b[0m\n",
       "\u001b[91m│\u001b[0m \u001b[33m│\u001b[0m    lock = \u001b[1m<\u001b[0m\u001b[1;95munlocked\u001b[0m\u001b[39m _thread.lock object at \u001b[0m\u001b[94m0x14b5b22d0\u001b[0m\u001b[1m>\u001b[0m            \u001b[33m│\u001b[0m                    \u001b[91m│\u001b[0m\n",
       "\u001b[91m│\u001b[0m \u001b[33m│\u001b[0m    self = \u001b[1m<\u001b[0m\u001b[1;35mThread\u001b[0m\u001b[1;39m(\u001b[0m\u001b[39mThreadPoolExecutor-66_162, stopped \u001b[0m\u001b[94m19167408128\u001b[0m\u001b[1;39m)\u001b[0m\u001b[1m>\u001b[0m \u001b[33m│\u001b[0m                    \u001b[91m│\u001b[0m\n",
       "\u001b[91m│\u001b[0m \u001b[33m│\u001b[0m timeout = \u001b[94m-1\u001b[0m                                                       \u001b[33m│\u001b[0m                    \u001b[91m│\u001b[0m\n",
       "\u001b[91m│\u001b[0m \u001b[33m╰────────────────────────────────────────────────────────────────────╯\u001b[0m                    \u001b[91m│\u001b[0m\n",
       "\u001b[91m╰───────────────────────────────────────────────────────────────────────────────────────────╯\u001b[0m\n",
       "\u001b[1;91mKeyboardInterrupt\u001b[0m\n"
      ]
     },
     "metadata": {},
     "output_type": "display_data"
    },
    {
     "name": "stderr",
     "output_type": "stream",
     "text": [
      "\u001b[A"
     ]
    }
   ],
   "source": [
    "R.pow(R[10:20])"
   ]
  },
  {
   "cell_type": "code",
   "execution_count": 6,
   "metadata": {},
   "outputs": [
    {
     "name": "stdout",
     "output_type": "stream",
     "text": [
      "INFO Starting PoW | targets:[N(R-R9)] workers: [N(R-R0), N(R-R1), N(R-R2), N(R-R3), N(R-R4), N(R-R5), N(R-R6), N(R-R7), N(R-R8), N(R-R9), N(R-R10), N(R-R11), N(R-R12), N(R-R13), N(R-R14), N(R-R15), N(R-R16), N(R-R17), N(R-R18), N(R-R19), N(R-R20), N(R-R21), N(R-R22), N(R-R23), N(R-R24), N(R-R25), N(R-R26), N(R-R27), N(R-R28), N(R-R29), N(R-R30), N(R-R31), N(R-R32), N(R-R33), N(R-R34), N(R-R35), N(R-R36), N(R-R37), N(R-R38), N(R-R39), N(R-R40), N(R-R41), N(R-R42), N(R-R43), N(R-R44), N(R-R45), N(R-R46), N(R-R47), N(R-R48), N(R-R49), N(R-R50), N(R-R51), N(R-R52), N(R-R53), N(R-R54), N(R-R55), N(R-R56), N(R-R57), N(R-R58), N(R-R59), N(R-R60), N(R-R61), N(R-R62), N(R-R63), N(R-R64), N(R-R65), N(R-R66), N(R-R67), N(R-R68), N(R-R69), N(R-R70), N(R-R71), N(R-R72), N(R-R73), N(R-R74), N(R-R75), N(R-R76), N(R-R77), N(R-R78), N(R-R79), N(R-R80), N(R-R81), N(R-R82), N(R-R83), N(R-R84), N(R-R85), N(R-R86), N(R-R87), N(R-R88), N(R-R89), N(R-R90), N(R-R91), N(R-R92), N(R-R93), N(R-R94), N(R-R95), N(R-R96), N(R-R97), N(R-R98), N(R-R99), N(R-R100), N(R-R101), N(R-R102), N(R-R103), N(R-R104), N(R-R105), N(R-R106), N(R-R107), N(R-R108), N(R-R109), N(R-R110), N(R-R111), N(R-R112), N(R-R113), N(R-R114), N(R-R115), N(R-R116), N(R-R117), N(R-R118), N(R-R119), N(R-R120), N(R-R121), N(R-R122), N(R-R123), N(R-R124), N(R-R125), N(R-R126), N(R-R127), N(R-R128), N(R-R129), N(R-R130), N(R-R131), N(R-R132), N(R-R133), N(R-R134), N(R-R135), N(R-R136), N(R-R137), N(R-R138), N(R-R139), N(R-R140), N(R-R141), N(R-R142), N(R-R143), N(R-R144), N(R-R145), N(R-R146), N(R-R147), N(R-R148), N(R-R149), N(R-R150), N(R-R151), N(R-R152), N(R-R153), N(R-R154), N(R-R155), N(R-R156), N(R-R157), N(R-R158), N(R-R159), N(R-R160), N(R-R161), N(R-R162), N(R-R163), N(R-R164), N(R-R165), N(R-R166), N(R-R167), N(R-R168), N(R-R169), N(R-R170), N(R-R171), N(R-R172), N(R-R173), N(R-R174), N(R-R175), N(R-R176), N(R-R177), N(R-R178), N(R-R179), N(R-R180), N(R-R181), N(R-R182), N(R-R183), N(R-R184), N(R-R185), N(R-R186), N(R-R187), N(R-R188), N(R-R189), N(R-R190), N(R-R191), N(R-R192), N(R-R193), N(R-R194), N(R-R195), N(R-R196), N(R-R197), N(R-R198), N(R-R199), N(R-R200), N(R-R201), N(R-R202), N(R-R203), N(R-R204), N(R-R205), N(R-R206), N(R-R207), N(R-R208), N(R-R209), N(R-R210), N(R-R211), N(R-R212), N(R-R213), N(R-R214), N(R-R215), N(R-R216), N(R-R217), N(R-R218), N(R-R219), N(R-R220), N(R-R221), N(R-R222), N(R-R223), N(R-R224), N(R-R225), N(R-R226), N(R-R227), N(R-R228), N(R-R229), N(R-R230), N(R-R231), N(R-R232), N(R-R233), N(R-R234), N(R-R235), N(R-R236), N(R-R237), N(R-R238), N(R-R239), N(R-R240), N(R-R241), N(R-R242), N(R-R243), N(R-R244), N(R-R245), N(R-R246), N(R-R247), N(R-R248), N(R-R249), N(R-R250), N(R-R251), N(R-R252), N(R-R253), N(R-R254), N(R-R255), N(R-R256), N(R-R257), N(R-R258), N(R-R259), N(R-R260), N(R-R261), N(R-R262), N(R-R263), N(R-R264), N(R-R265), N(R-R266), N(R-R267), N(R-R268), N(R-R269), N(R-R270), N(R-R271), N(R-R272), N(R-R273), N(R-R274), N(R-R275), N(R-R276), N(R-R277), N(R-R278), N(R-R279), N(R-R280), N(R-R281), N(R-R282), N(R-R283), N(R-R284), N(R-R285), N(R-R286), N(R-R287), N(R-R288), N(R-R289), N(R-R290), N(R-R291), N(R-R292), N(R-R293), N(R-R294), N(R-R295), N(R-R296), N(R-R297), N(R-R298), N(R-R299)]\n"
     ]
    },
    {
     "name": "stderr",
     "output_type": "stream",
     "text": [
      "Running: <function HUD._is_registered.<locals>.__get_is_registered at 0x12fde7b80>: 100%|██████████| 1/1 [00:02<00:00,  2.61s/it]\n",
      "Running: pkill -f **hR9** & rm **hR9**: 100%|██████████| 300/300 [00:02<00:00, 118.89it/s]\n",
      "Running: mkdir -p ~/.bittensor/wallets/R/hotkeys: 100%|██████████| 300/300 [00:02<00:00, 140.05it/s]\n",
      "Running: echo '{\"accountId\": \"0xc2163a3ad1d1568d33311a23924a41237640727f875802011d8b86d7e2c68325\", \"publicKey\": \"0xc2163a3ad1d1568d33311a23924a41237640727f875802011d8b86d7e2c68325\", \"secretPhrase\": \"mobile trophy only mistake one alpha chuckle enact venture casino achieve tail\", \"secretSeed\": \"0x2d554004c779fe732c4dff02903d93c851784428124ca0a974fc53e00482ecbb\", \"ss58Address\": \"5GTBkSLZuryqem2EXoPvnyvqdYG5ibEfdN2RuPdGzatJ5ERL\"}' > ~/.bittensor/wallets/R/hotkeys/R9: 100%|██████████| 300/300 [00:02<00:00, 106.51it/s]\n",
      "Running: echo '{\"accountId\": \"0xa40472d672511733d6acc49d0ee68da88006c8fbbc3786b9b2b13fcf21c6143f\", \"publicKey\": \"0xa40472d672511733d6acc49d0ee68da88006c8fbbc3786b9b2b13fcf21c6143f\", \"secretPhrase\": null, \"secretSeed\": null, \"ss58Address\": \"5Fmm2o5x6zW3USdNUxJRqBHMipZW6ryv18Wp21RNFVcmxmAP\"}' > ~/.bittensor/wallets/R/coldkeypub.txt: 100%|██████████| 300/300 [00:02<00:00, 111.33it/s]\n",
      "Running: nohup python3 HUD/pow.py --subtensor.network nakamoto --wallet.name R --wallet.hotkey R9 > pow_0_cR_hR9.out &: 600it [00:01, 428.45it/s]                        \n"
     ]
    }
   ],
   "source": [
    "R.pow(pow)"
   ]
  },
  {
   "cell_type": "code",
   "execution_count": 11,
   "metadata": {},
   "outputs": [
    {
     "name": "stderr",
     "output_type": "stream",
     "text": [
      "Running: <function HUD._iters.<locals>.get_total_iters at 0x12ca3a5e0>: 100%|██████████| 300/300 [00:04<00:00, 74.76it/s] \n"
     ]
    },
    {
     "data": {
      "text/html": [
       "<pre style=\"white-space:pre;overflow-x:auto;line-height:normal;font-family:Menlo,'DejaVu Sans Mono',consolas,'Courier New',monospace\">\n",
       "<span style=\"font-weight: bold\">{</span>\n",
       "    <span style=\"color: #800080; text-decoration-color: #800080; font-weight: bold\">N</span><span style=\"font-weight: bold\">(</span>R-R0<span style=\"font-weight: bold\">)</span>: <span style=\"font-weight: bold\">{</span><span style=\"color: #008000; text-decoration-color: #008000\">'R-R9'</span>: <span style=\"color: #008080; text-decoration-color: #008080; font-weight: bold\">525260</span><span style=\"font-weight: bold\">}</span>,\n",
       "    <span style=\"color: #800080; text-decoration-color: #800080; font-weight: bold\">N</span><span style=\"font-weight: bold\">(</span>R-R1<span style=\"font-weight: bold\">)</span>: <span style=\"font-weight: bold\">{</span><span style=\"color: #008000; text-decoration-color: #008000\">'R-R9'</span>: <span style=\"color: #008080; text-decoration-color: #008080; font-weight: bold\">297242</span><span style=\"font-weight: bold\">}</span>,\n",
       "    <span style=\"color: #800080; text-decoration-color: #800080; font-weight: bold\">N</span><span style=\"font-weight: bold\">(</span>R-R2<span style=\"font-weight: bold\">)</span>: <span style=\"font-weight: bold\">{</span><span style=\"color: #008000; text-decoration-color: #008000\">'R-R9'</span>: <span style=\"color: #008080; text-decoration-color: #008080; font-weight: bold\">397941</span><span style=\"font-weight: bold\">}</span>,\n",
       "    <span style=\"color: #800080; text-decoration-color: #800080; font-weight: bold\">N</span><span style=\"font-weight: bold\">(</span>R-R3<span style=\"font-weight: bold\">)</span>: <span style=\"font-weight: bold\">{</span><span style=\"color: #008000; text-decoration-color: #008000\">'R-R9'</span>: <span style=\"color: #008080; text-decoration-color: #008080; font-weight: bold\">260324</span><span style=\"font-weight: bold\">}</span>,\n",
       "    <span style=\"color: #800080; text-decoration-color: #800080; font-weight: bold\">N</span><span style=\"font-weight: bold\">(</span>R-R4<span style=\"font-weight: bold\">)</span>: <span style=\"font-weight: bold\">{</span><span style=\"color: #008000; text-decoration-color: #008000\">'R-R9'</span>: <span style=\"color: #008080; text-decoration-color: #008080; font-weight: bold\">269634</span><span style=\"font-weight: bold\">}</span>,\n",
       "    <span style=\"color: #800080; text-decoration-color: #800080; font-weight: bold\">N</span><span style=\"font-weight: bold\">(</span>R-R5<span style=\"font-weight: bold\">)</span>: <span style=\"font-weight: bold\">{</span><span style=\"color: #008000; text-decoration-color: #008000\">'R-R9'</span>: <span style=\"color: #008080; text-decoration-color: #008080; font-weight: bold\">167062</span><span style=\"font-weight: bold\">}</span>,\n",
       "    <span style=\"color: #800080; text-decoration-color: #800080; font-weight: bold\">N</span><span style=\"font-weight: bold\">(</span>R-R6<span style=\"font-weight: bold\">)</span>: <span style=\"font-weight: bold\">{</span><span style=\"color: #008000; text-decoration-color: #008000\">'R-R9'</span>: <span style=\"color: #008080; text-decoration-color: #008080; font-weight: bold\">176576</span><span style=\"font-weight: bold\">}</span>,\n",
       "    <span style=\"color: #800080; text-decoration-color: #800080; font-weight: bold\">N</span><span style=\"font-weight: bold\">(</span>R-R7<span style=\"font-weight: bold\">)</span>: <span style=\"font-weight: bold\">{</span><span style=\"color: #008000; text-decoration-color: #008000\">'R-R9'</span>: <span style=\"color: #008080; text-decoration-color: #008080; font-weight: bold\">340127</span><span style=\"font-weight: bold\">}</span>,\n",
       "    <span style=\"color: #800080; text-decoration-color: #800080; font-weight: bold\">N</span><span style=\"font-weight: bold\">(</span>R-R8<span style=\"font-weight: bold\">)</span>: <span style=\"font-weight: bold\">{</span><span style=\"color: #008000; text-decoration-color: #008000\">'R-R9'</span>: <span style=\"color: #008080; text-decoration-color: #008080; font-weight: bold\">318077</span><span style=\"font-weight: bold\">}</span>,\n",
       "    <span style=\"color: #800080; text-decoration-color: #800080; font-weight: bold\">N</span><span style=\"font-weight: bold\">(</span>R-R9<span style=\"font-weight: bold\">)</span>: <span style=\"font-weight: bold\">{</span><span style=\"color: #008000; text-decoration-color: #008000\">'R-R9'</span>: <span style=\"color: #008080; text-decoration-color: #008080; font-weight: bold\">469601</span><span style=\"font-weight: bold\">}</span>,\n",
       "    <span style=\"color: #800080; text-decoration-color: #800080; font-weight: bold\">N</span><span style=\"font-weight: bold\">(</span>R-R10<span style=\"font-weight: bold\">)</span>: <span style=\"font-weight: bold\">{</span><span style=\"color: #008000; text-decoration-color: #008000\">'R-R9'</span>: <span style=\"color: #008080; text-decoration-color: #008080; font-weight: bold\">378983</span><span style=\"font-weight: bold\">}</span>,\n",
       "    <span style=\"color: #800080; text-decoration-color: #800080; font-weight: bold\">N</span><span style=\"font-weight: bold\">(</span>R-R11<span style=\"font-weight: bold\">)</span>: <span style=\"font-weight: bold\">{</span><span style=\"color: #008000; text-decoration-color: #008000\">'R-R9'</span>: <span style=\"color: #008080; text-decoration-color: #008080; font-weight: bold\">335668</span><span style=\"font-weight: bold\">}</span>,\n",
       "    <span style=\"color: #800080; text-decoration-color: #800080; font-weight: bold\">N</span><span style=\"font-weight: bold\">(</span>R-R12<span style=\"font-weight: bold\">)</span>: <span style=\"font-weight: bold\">{</span><span style=\"color: #008000; text-decoration-color: #008000\">'R-R9'</span>: <span style=\"color: #008080; text-decoration-color: #008080; font-weight: bold\">355765</span><span style=\"font-weight: bold\">}</span>,\n",
       "    <span style=\"color: #800080; text-decoration-color: #800080; font-weight: bold\">N</span><span style=\"font-weight: bold\">(</span>R-R13<span style=\"font-weight: bold\">)</span>: <span style=\"font-weight: bold\">{</span><span style=\"color: #008000; text-decoration-color: #008000\">'R-R9'</span>: <span style=\"color: #008080; text-decoration-color: #008080; font-weight: bold\">409728</span><span style=\"font-weight: bold\">}</span>,\n",
       "    <span style=\"color: #800080; text-decoration-color: #800080; font-weight: bold\">N</span><span style=\"font-weight: bold\">(</span>R-R14<span style=\"font-weight: bold\">)</span>: <span style=\"font-weight: bold\">{</span><span style=\"color: #008000; text-decoration-color: #008000\">'R-R9'</span>: <span style=\"color: #008080; text-decoration-color: #008080; font-weight: bold\">401672</span><span style=\"font-weight: bold\">}</span>,\n",
       "    <span style=\"color: #800080; text-decoration-color: #800080; font-weight: bold\">N</span><span style=\"font-weight: bold\">(</span>R-R15<span style=\"font-weight: bold\">)</span>: <span style=\"font-weight: bold\">{</span><span style=\"color: #008000; text-decoration-color: #008000\">'R-R9'</span>: <span style=\"color: #008080; text-decoration-color: #008080; font-weight: bold\">250534</span><span style=\"font-weight: bold\">}</span>,\n",
       "    <span style=\"color: #800080; text-decoration-color: #800080; font-weight: bold\">N</span><span style=\"font-weight: bold\">(</span>R-R16<span style=\"font-weight: bold\">)</span>: <span style=\"font-weight: bold\">{</span><span style=\"color: #008000; text-decoration-color: #008000\">'R-R9'</span>: <span style=\"color: #008080; text-decoration-color: #008080; font-weight: bold\">452917</span><span style=\"font-weight: bold\">}</span>,\n",
       "    <span style=\"color: #800080; text-decoration-color: #800080; font-weight: bold\">N</span><span style=\"font-weight: bold\">(</span>R-R17<span style=\"font-weight: bold\">)</span>: <span style=\"font-weight: bold\">{</span><span style=\"color: #008000; text-decoration-color: #008000\">'R-R9'</span>: <span style=\"color: #008080; text-decoration-color: #008080; font-weight: bold\">504651</span><span style=\"font-weight: bold\">}</span>,\n",
       "    <span style=\"color: #800080; text-decoration-color: #800080; font-weight: bold\">N</span><span style=\"font-weight: bold\">(</span>R-R18<span style=\"font-weight: bold\">)</span>: <span style=\"font-weight: bold\">{</span><span style=\"color: #008000; text-decoration-color: #008000\">'R-R9'</span>: <span style=\"color: #008080; text-decoration-color: #008080; font-weight: bold\">443675</span><span style=\"font-weight: bold\">}</span>,\n",
       "    <span style=\"color: #800080; text-decoration-color: #800080; font-weight: bold\">N</span><span style=\"font-weight: bold\">(</span>R-R19<span style=\"font-weight: bold\">)</span>: <span style=\"font-weight: bold\">{</span><span style=\"color: #008000; text-decoration-color: #008000\">'R-R9'</span>: <span style=\"color: #008080; text-decoration-color: #008080; font-weight: bold\">455244</span><span style=\"font-weight: bold\">}</span>,\n",
       "    <span style=\"color: #800080; text-decoration-color: #800080; font-weight: bold\">N</span><span style=\"font-weight: bold\">(</span>R-R20<span style=\"font-weight: bold\">)</span>: <span style=\"font-weight: bold\">{</span><span style=\"color: #008000; text-decoration-color: #008000\">'R-R9'</span>: <span style=\"color: #008080; text-decoration-color: #008080; font-weight: bold\">506675</span><span style=\"font-weight: bold\">}</span>,\n",
       "    <span style=\"color: #800080; text-decoration-color: #800080; font-weight: bold\">N</span><span style=\"font-weight: bold\">(</span>R-R21<span style=\"font-weight: bold\">)</span>: <span style=\"font-weight: bold\">{</span><span style=\"color: #008000; text-decoration-color: #008000\">'R-R9'</span>: <span style=\"color: #008080; text-decoration-color: #008080; font-weight: bold\">391519</span><span style=\"font-weight: bold\">}</span>,\n",
       "    <span style=\"color: #800080; text-decoration-color: #800080; font-weight: bold\">N</span><span style=\"font-weight: bold\">(</span>R-R22<span style=\"font-weight: bold\">)</span>: <span style=\"font-weight: bold\">{</span><span style=\"color: #008000; text-decoration-color: #008000\">'R-R9'</span>: <span style=\"color: #008080; text-decoration-color: #008080; font-weight: bold\">480612</span><span style=\"font-weight: bold\">}</span>,\n",
       "    <span style=\"color: #800080; text-decoration-color: #800080; font-weight: bold\">N</span><span style=\"font-weight: bold\">(</span>R-R23<span style=\"font-weight: bold\">)</span>: <span style=\"font-weight: bold\">{</span><span style=\"color: #008000; text-decoration-color: #008000\">'R-R9'</span>: <span style=\"color: #008080; text-decoration-color: #008080; font-weight: bold\">391235</span><span style=\"font-weight: bold\">}</span>,\n",
       "    <span style=\"color: #800080; text-decoration-color: #800080; font-weight: bold\">N</span><span style=\"font-weight: bold\">(</span>R-R24<span style=\"font-weight: bold\">)</span>: <span style=\"font-weight: bold\">{</span><span style=\"color: #008000; text-decoration-color: #008000\">'R-R9'</span>: <span style=\"color: #008080; text-decoration-color: #008080; font-weight: bold\">341402</span><span style=\"font-weight: bold\">}</span>,\n",
       "    <span style=\"color: #800080; text-decoration-color: #800080; font-weight: bold\">N</span><span style=\"font-weight: bold\">(</span>R-R25<span style=\"font-weight: bold\">)</span>: <span style=\"font-weight: bold\">{</span><span style=\"color: #008000; text-decoration-color: #008000\">'R-R9'</span>: <span style=\"color: #008080; text-decoration-color: #008080; font-weight: bold\">316098</span><span style=\"font-weight: bold\">}</span>,\n",
       "    <span style=\"color: #800080; text-decoration-color: #800080; font-weight: bold\">N</span><span style=\"font-weight: bold\">(</span>R-R26<span style=\"font-weight: bold\">)</span>: <span style=\"font-weight: bold\">{</span><span style=\"color: #008000; text-decoration-color: #008000\">'R-R9'</span>: <span style=\"color: #008080; text-decoration-color: #008080; font-weight: bold\">298222</span><span style=\"font-weight: bold\">}</span>,\n",
       "    <span style=\"color: #800080; text-decoration-color: #800080; font-weight: bold\">N</span><span style=\"font-weight: bold\">(</span>R-R27<span style=\"font-weight: bold\">)</span>: <span style=\"font-weight: bold\">{</span><span style=\"color: #008000; text-decoration-color: #008000\">'R-R9'</span>: <span style=\"color: #008080; text-decoration-color: #008080; font-weight: bold\">283708</span><span style=\"font-weight: bold\">}</span>,\n",
       "    <span style=\"color: #800080; text-decoration-color: #800080; font-weight: bold\">N</span><span style=\"font-weight: bold\">(</span>R-R28<span style=\"font-weight: bold\">)</span>: <span style=\"font-weight: bold\">{</span><span style=\"color: #008000; text-decoration-color: #008000\">'R-R9'</span>: <span style=\"color: #008080; text-decoration-color: #008080; font-weight: bold\">362781</span><span style=\"font-weight: bold\">}</span>,\n",
       "    <span style=\"color: #800080; text-decoration-color: #800080; font-weight: bold\">N</span><span style=\"font-weight: bold\">(</span>R-R29<span style=\"font-weight: bold\">)</span>: <span style=\"font-weight: bold\">{</span><span style=\"color: #008000; text-decoration-color: #008000\">'R-R9'</span>: <span style=\"color: #008080; text-decoration-color: #008080; font-weight: bold\">330183</span><span style=\"font-weight: bold\">}</span>,\n",
       "    <span style=\"color: #800080; text-decoration-color: #800080; font-weight: bold\">N</span><span style=\"font-weight: bold\">(</span>R-R30<span style=\"font-weight: bold\">)</span>: <span style=\"font-weight: bold\">{</span><span style=\"color: #008000; text-decoration-color: #008000\">'R-R9'</span>: <span style=\"color: #008080; text-decoration-color: #008080; font-weight: bold\">451235</span><span style=\"font-weight: bold\">}</span>,\n",
       "    <span style=\"color: #800080; text-decoration-color: #800080; font-weight: bold\">N</span><span style=\"font-weight: bold\">(</span>R-R31<span style=\"font-weight: bold\">)</span>: <span style=\"font-weight: bold\">{</span><span style=\"color: #008000; text-decoration-color: #008000\">'R-R9'</span>: <span style=\"color: #008080; text-decoration-color: #008080; font-weight: bold\">489188</span><span style=\"font-weight: bold\">}</span>,\n",
       "    <span style=\"color: #800080; text-decoration-color: #800080; font-weight: bold\">N</span><span style=\"font-weight: bold\">(</span>R-R32<span style=\"font-weight: bold\">)</span>: <span style=\"font-weight: bold\">{</span><span style=\"color: #008000; text-decoration-color: #008000\">'R-R9'</span>: <span style=\"color: #008080; text-decoration-color: #008080; font-weight: bold\">389700</span><span style=\"font-weight: bold\">}</span>,\n",
       "    <span style=\"color: #800080; text-decoration-color: #800080; font-weight: bold\">N</span><span style=\"font-weight: bold\">(</span>R-R33<span style=\"font-weight: bold\">)</span>: <span style=\"font-weight: bold\">{</span><span style=\"color: #008000; text-decoration-color: #008000\">'R-R9'</span>: <span style=\"color: #008080; text-decoration-color: #008080; font-weight: bold\">362636</span><span style=\"font-weight: bold\">}</span>,\n",
       "    <span style=\"color: #800080; text-decoration-color: #800080; font-weight: bold\">N</span><span style=\"font-weight: bold\">(</span>R-R34<span style=\"font-weight: bold\">)</span>: <span style=\"font-weight: bold\">{</span><span style=\"color: #008000; text-decoration-color: #008000\">'R-R9'</span>: <span style=\"color: #008080; text-decoration-color: #008080; font-weight: bold\">376072</span><span style=\"font-weight: bold\">}</span>,\n",
       "    <span style=\"color: #800080; text-decoration-color: #800080; font-weight: bold\">N</span><span style=\"font-weight: bold\">(</span>R-R35<span style=\"font-weight: bold\">)</span>: <span style=\"font-weight: bold\">{</span><span style=\"color: #008000; text-decoration-color: #008000\">'R-R9'</span>: <span style=\"color: #008080; text-decoration-color: #008080; font-weight: bold\">466822</span><span style=\"font-weight: bold\">}</span>,\n",
       "    <span style=\"color: #800080; text-decoration-color: #800080; font-weight: bold\">N</span><span style=\"font-weight: bold\">(</span>R-R36<span style=\"font-weight: bold\">)</span>: <span style=\"font-weight: bold\">{</span><span style=\"color: #008000; text-decoration-color: #008000\">'R-R9'</span>: <span style=\"color: #008080; text-decoration-color: #008080; font-weight: bold\">277075</span><span style=\"font-weight: bold\">}</span>,\n",
       "    <span style=\"color: #800080; text-decoration-color: #800080; font-weight: bold\">N</span><span style=\"font-weight: bold\">(</span>R-R37<span style=\"font-weight: bold\">)</span>: <span style=\"font-weight: bold\">{</span><span style=\"color: #008000; text-decoration-color: #008000\">'R-R9'</span>: <span style=\"color: #008080; text-decoration-color: #008080; font-weight: bold\">336636</span><span style=\"font-weight: bold\">}</span>,\n",
       "    <span style=\"color: #800080; text-decoration-color: #800080; font-weight: bold\">N</span><span style=\"font-weight: bold\">(</span>R-R38<span style=\"font-weight: bold\">)</span>: <span style=\"font-weight: bold\">{</span><span style=\"color: #008000; text-decoration-color: #008000\">'R-R9'</span>: <span style=\"color: #008080; text-decoration-color: #008080; font-weight: bold\">212425</span><span style=\"font-weight: bold\">}</span>,\n",
       "    <span style=\"color: #800080; text-decoration-color: #800080; font-weight: bold\">N</span><span style=\"font-weight: bold\">(</span>R-R39<span style=\"font-weight: bold\">)</span>: <span style=\"font-weight: bold\">{</span><span style=\"color: #008000; text-decoration-color: #008000\">'R-R9'</span>: <span style=\"color: #008080; text-decoration-color: #008080; font-weight: bold\">491013</span><span style=\"font-weight: bold\">}</span>,\n",
       "    <span style=\"color: #800080; text-decoration-color: #800080; font-weight: bold\">N</span><span style=\"font-weight: bold\">(</span>R-R40<span style=\"font-weight: bold\">)</span>: <span style=\"font-weight: bold\">{</span><span style=\"color: #008000; text-decoration-color: #008000\">'R-R9'</span>: <span style=\"color: #008080; text-decoration-color: #008080; font-weight: bold\">394164</span><span style=\"font-weight: bold\">}</span>,\n",
       "    <span style=\"color: #800080; text-decoration-color: #800080; font-weight: bold\">N</span><span style=\"font-weight: bold\">(</span>R-R41<span style=\"font-weight: bold\">)</span>: <span style=\"font-weight: bold\">{</span><span style=\"color: #008000; text-decoration-color: #008000\">'R-R9'</span>: <span style=\"color: #008080; text-decoration-color: #008080; font-weight: bold\">408936</span><span style=\"font-weight: bold\">}</span>,\n",
       "    <span style=\"color: #800080; text-decoration-color: #800080; font-weight: bold\">N</span><span style=\"font-weight: bold\">(</span>R-R42<span style=\"font-weight: bold\">)</span>: <span style=\"font-weight: bold\">{</span><span style=\"color: #008000; text-decoration-color: #008000\">'R-R9'</span>: <span style=\"color: #008080; text-decoration-color: #008080; font-weight: bold\">382331</span><span style=\"font-weight: bold\">}</span>,\n",
       "    <span style=\"color: #800080; text-decoration-color: #800080; font-weight: bold\">N</span><span style=\"font-weight: bold\">(</span>R-R43<span style=\"font-weight: bold\">)</span>: <span style=\"font-weight: bold\">{</span><span style=\"color: #008000; text-decoration-color: #008000\">'R-R9'</span>: <span style=\"color: #008080; text-decoration-color: #008080; font-weight: bold\">385744</span><span style=\"font-weight: bold\">}</span>,\n",
       "    <span style=\"color: #800080; text-decoration-color: #800080; font-weight: bold\">N</span><span style=\"font-weight: bold\">(</span>R-R44<span style=\"font-weight: bold\">)</span>: <span style=\"font-weight: bold\">{</span><span style=\"color: #008000; text-decoration-color: #008000\">'R-R9'</span>: <span style=\"color: #008080; text-decoration-color: #008080; font-weight: bold\">386711</span><span style=\"font-weight: bold\">}</span>,\n",
       "    <span style=\"color: #800080; text-decoration-color: #800080; font-weight: bold\">N</span><span style=\"font-weight: bold\">(</span>R-R45<span style=\"font-weight: bold\">)</span>: <span style=\"font-weight: bold\">{</span><span style=\"color: #008000; text-decoration-color: #008000\">'R-R9'</span>: <span style=\"color: #008080; text-decoration-color: #008080; font-weight: bold\">383424</span><span style=\"font-weight: bold\">}</span>,\n",
       "    <span style=\"color: #800080; text-decoration-color: #800080; font-weight: bold\">N</span><span style=\"font-weight: bold\">(</span>R-R46<span style=\"font-weight: bold\">)</span>: <span style=\"font-weight: bold\">{</span><span style=\"color: #008000; text-decoration-color: #008000\">'R-R9'</span>: <span style=\"color: #008080; text-decoration-color: #008080; font-weight: bold\">415258</span><span style=\"font-weight: bold\">}</span>,\n",
       "    <span style=\"color: #800080; text-decoration-color: #800080; font-weight: bold\">N</span><span style=\"font-weight: bold\">(</span>R-R47<span style=\"font-weight: bold\">)</span>: <span style=\"font-weight: bold\">{</span><span style=\"color: #008000; text-decoration-color: #008000\">'R-R9'</span>: <span style=\"color: #008080; text-decoration-color: #008080; font-weight: bold\">366894</span><span style=\"font-weight: bold\">}</span>,\n",
       "    <span style=\"color: #800080; text-decoration-color: #800080; font-weight: bold\">N</span><span style=\"font-weight: bold\">(</span>R-R48<span style=\"font-weight: bold\">)</span>: <span style=\"font-weight: bold\">{</span><span style=\"color: #008000; text-decoration-color: #008000\">'R-R9'</span>: <span style=\"color: #008080; text-decoration-color: #008080; font-weight: bold\">371444</span><span style=\"font-weight: bold\">}</span>,\n",
       "    <span style=\"color: #800080; text-decoration-color: #800080; font-weight: bold\">N</span><span style=\"font-weight: bold\">(</span>R-R49<span style=\"font-weight: bold\">)</span>: <span style=\"font-weight: bold\">{</span><span style=\"color: #008000; text-decoration-color: #008000\">'R-R9'</span>: <span style=\"color: #008080; text-decoration-color: #008080; font-weight: bold\">522368</span><span style=\"font-weight: bold\">}</span>,\n",
       "    <span style=\"color: #800080; text-decoration-color: #800080; font-weight: bold\">N</span><span style=\"font-weight: bold\">(</span>R-R50<span style=\"font-weight: bold\">)</span>: <span style=\"font-weight: bold\">{</span><span style=\"color: #008000; text-decoration-color: #008000\">'R-R9'</span>: <span style=\"color: #008080; text-decoration-color: #008080; font-weight: bold\">489781</span><span style=\"font-weight: bold\">}</span>,\n",
       "    <span style=\"color: #800080; text-decoration-color: #800080; font-weight: bold\">N</span><span style=\"font-weight: bold\">(</span>R-R51<span style=\"font-weight: bold\">)</span>: <span style=\"font-weight: bold\">{</span><span style=\"color: #008000; text-decoration-color: #008000\">'R-R9'</span>: <span style=\"color: #008080; text-decoration-color: #008080; font-weight: bold\">126652</span><span style=\"font-weight: bold\">}</span>,\n",
       "    <span style=\"color: #800080; text-decoration-color: #800080; font-weight: bold\">N</span><span style=\"font-weight: bold\">(</span>R-R52<span style=\"font-weight: bold\">)</span>: <span style=\"font-weight: bold\">{</span><span style=\"color: #008000; text-decoration-color: #008000\">'R-R9'</span>: <span style=\"color: #008080; text-decoration-color: #008080; font-weight: bold\">125812</span><span style=\"font-weight: bold\">}</span>,\n",
       "    <span style=\"color: #800080; text-decoration-color: #800080; font-weight: bold\">N</span><span style=\"font-weight: bold\">(</span>R-R53<span style=\"font-weight: bold\">)</span>: <span style=\"font-weight: bold\">{</span><span style=\"color: #008000; text-decoration-color: #008000\">'R-R9'</span>: <span style=\"color: #008080; text-decoration-color: #008080; font-weight: bold\">274692</span><span style=\"font-weight: bold\">}</span>,\n",
       "    <span style=\"color: #800080; text-decoration-color: #800080; font-weight: bold\">N</span><span style=\"font-weight: bold\">(</span>R-R54<span style=\"font-weight: bold\">)</span>: <span style=\"font-weight: bold\">{</span><span style=\"color: #008000; text-decoration-color: #008000\">'R-R9'</span>: <span style=\"color: #008080; text-decoration-color: #008080; font-weight: bold\">235265</span><span style=\"font-weight: bold\">}</span>,\n",
       "    <span style=\"color: #800080; text-decoration-color: #800080; font-weight: bold\">N</span><span style=\"font-weight: bold\">(</span>R-R55<span style=\"font-weight: bold\">)</span>: <span style=\"font-weight: bold\">{</span><span style=\"color: #008000; text-decoration-color: #008000\">'R-R9'</span>: <span style=\"color: #008080; text-decoration-color: #008080; font-weight: bold\">200519</span><span style=\"font-weight: bold\">}</span>,\n",
       "    <span style=\"color: #800080; text-decoration-color: #800080; font-weight: bold\">N</span><span style=\"font-weight: bold\">(</span>R-R56<span style=\"font-weight: bold\">)</span>: <span style=\"font-weight: bold\">{</span><span style=\"color: #008000; text-decoration-color: #008000\">'R-R9'</span>: <span style=\"color: #008080; text-decoration-color: #008080; font-weight: bold\">404735</span><span style=\"font-weight: bold\">}</span>,\n",
       "    <span style=\"color: #800080; text-decoration-color: #800080; font-weight: bold\">N</span><span style=\"font-weight: bold\">(</span>R-R57<span style=\"font-weight: bold\">)</span>: <span style=\"font-weight: bold\">{</span><span style=\"color: #008000; text-decoration-color: #008000\">'R-R9'</span>: <span style=\"color: #008080; text-decoration-color: #008080; font-weight: bold\">441874</span><span style=\"font-weight: bold\">}</span>,\n",
       "    <span style=\"color: #800080; text-decoration-color: #800080; font-weight: bold\">N</span><span style=\"font-weight: bold\">(</span>R-R58<span style=\"font-weight: bold\">)</span>: <span style=\"font-weight: bold\">{</span><span style=\"color: #008000; text-decoration-color: #008000\">'R-R9'</span>: <span style=\"color: #008080; text-decoration-color: #008080; font-weight: bold\">422419</span><span style=\"font-weight: bold\">}</span>,\n",
       "    <span style=\"color: #800080; text-decoration-color: #800080; font-weight: bold\">N</span><span style=\"font-weight: bold\">(</span>R-R59<span style=\"font-weight: bold\">)</span>: <span style=\"font-weight: bold\">{</span><span style=\"color: #008000; text-decoration-color: #008000\">'R-R9'</span>: <span style=\"color: #008080; text-decoration-color: #008080; font-weight: bold\">195989</span><span style=\"font-weight: bold\">}</span>,\n",
       "    <span style=\"color: #800080; text-decoration-color: #800080; font-weight: bold\">N</span><span style=\"font-weight: bold\">(</span>R-R60<span style=\"font-weight: bold\">)</span>: <span style=\"font-weight: bold\">{</span><span style=\"color: #008000; text-decoration-color: #008000\">'R-R9'</span>: <span style=\"color: #008080; text-decoration-color: #008080; font-weight: bold\">195358</span><span style=\"font-weight: bold\">}</span>,\n",
       "    <span style=\"color: #800080; text-decoration-color: #800080; font-weight: bold\">N</span><span style=\"font-weight: bold\">(</span>R-R61<span style=\"font-weight: bold\">)</span>: <span style=\"font-weight: bold\">{</span><span style=\"color: #008000; text-decoration-color: #008000\">'R-R9'</span>: <span style=\"color: #008080; text-decoration-color: #008080; font-weight: bold\">427655</span><span style=\"font-weight: bold\">}</span>,\n",
       "    <span style=\"color: #800080; text-decoration-color: #800080; font-weight: bold\">N</span><span style=\"font-weight: bold\">(</span>R-R62<span style=\"font-weight: bold\">)</span>: <span style=\"font-weight: bold\">{</span><span style=\"color: #008000; text-decoration-color: #008000\">'R-R9'</span>: <span style=\"color: #008080; text-decoration-color: #008080; font-weight: bold\">396334</span><span style=\"font-weight: bold\">}</span>,\n",
       "    <span style=\"color: #800080; text-decoration-color: #800080; font-weight: bold\">N</span><span style=\"font-weight: bold\">(</span>R-R63<span style=\"font-weight: bold\">)</span>: <span style=\"font-weight: bold\">{</span><span style=\"color: #008000; text-decoration-color: #008000\">'R-R9'</span>: <span style=\"color: #008080; text-decoration-color: #008080; font-weight: bold\">310794</span><span style=\"font-weight: bold\">}</span>,\n",
       "    <span style=\"color: #800080; text-decoration-color: #800080; font-weight: bold\">N</span><span style=\"font-weight: bold\">(</span>R-R64<span style=\"font-weight: bold\">)</span>: <span style=\"font-weight: bold\">{</span><span style=\"color: #008000; text-decoration-color: #008000\">'R-R9'</span>: <span style=\"color: #008080; text-decoration-color: #008080; font-weight: bold\">273066</span><span style=\"font-weight: bold\">}</span>,\n",
       "    <span style=\"color: #800080; text-decoration-color: #800080; font-weight: bold\">N</span><span style=\"font-weight: bold\">(</span>R-R65<span style=\"font-weight: bold\">)</span>: <span style=\"font-weight: bold\">{</span><span style=\"color: #008000; text-decoration-color: #008000\">'R-R9'</span>: <span style=\"color: #008080; text-decoration-color: #008080; font-weight: bold\">338983</span><span style=\"font-weight: bold\">}</span>,\n",
       "    <span style=\"color: #800080; text-decoration-color: #800080; font-weight: bold\">N</span><span style=\"font-weight: bold\">(</span>R-R66<span style=\"font-weight: bold\">)</span>: <span style=\"font-weight: bold\">{</span><span style=\"color: #008000; text-decoration-color: #008000\">'R-R9'</span>: <span style=\"color: #008080; text-decoration-color: #008080; font-weight: bold\">205204</span><span style=\"font-weight: bold\">}</span>,\n",
       "    <span style=\"color: #800080; text-decoration-color: #800080; font-weight: bold\">N</span><span style=\"font-weight: bold\">(</span>R-R67<span style=\"font-weight: bold\">)</span>: <span style=\"font-weight: bold\">{</span><span style=\"color: #008000; text-decoration-color: #008000\">'R-R9'</span>: <span style=\"color: #008080; text-decoration-color: #008080; font-weight: bold\">165788</span><span style=\"font-weight: bold\">}</span>,\n",
       "    <span style=\"color: #800080; text-decoration-color: #800080; font-weight: bold\">N</span><span style=\"font-weight: bold\">(</span>R-R68<span style=\"font-weight: bold\">)</span>: <span style=\"font-weight: bold\">{</span><span style=\"color: #008000; text-decoration-color: #008000\">'R-R9'</span>: <span style=\"color: #008080; text-decoration-color: #008080; font-weight: bold\">185558</span><span style=\"font-weight: bold\">}</span>,\n",
       "    <span style=\"color: #800080; text-decoration-color: #800080; font-weight: bold\">N</span><span style=\"font-weight: bold\">(</span>R-R69<span style=\"font-weight: bold\">)</span>: <span style=\"font-weight: bold\">{</span><span style=\"color: #008000; text-decoration-color: #008000\">'R-R9'</span>: <span style=\"color: #008080; text-decoration-color: #008080; font-weight: bold\">187226</span><span style=\"font-weight: bold\">}</span>,\n",
       "    <span style=\"color: #800080; text-decoration-color: #800080; font-weight: bold\">N</span><span style=\"font-weight: bold\">(</span>R-R70<span style=\"font-weight: bold\">)</span>: <span style=\"font-weight: bold\">{</span><span style=\"color: #008000; text-decoration-color: #008000\">'R-R9'</span>: <span style=\"color: #008080; text-decoration-color: #008080; font-weight: bold\">184692</span><span style=\"font-weight: bold\">}</span>,\n",
       "    <span style=\"color: #800080; text-decoration-color: #800080; font-weight: bold\">N</span><span style=\"font-weight: bold\">(</span>R-R71<span style=\"font-weight: bold\">)</span>: <span style=\"font-weight: bold\">{</span><span style=\"color: #008000; text-decoration-color: #008000\">'R-R9'</span>: <span style=\"color: #008080; text-decoration-color: #008080; font-weight: bold\">335576</span><span style=\"font-weight: bold\">}</span>,\n",
       "    <span style=\"color: #800080; text-decoration-color: #800080; font-weight: bold\">N</span><span style=\"font-weight: bold\">(</span>R-R72<span style=\"font-weight: bold\">)</span>: <span style=\"font-weight: bold\">{</span><span style=\"color: #008000; text-decoration-color: #008000\">'R-R9'</span>: <span style=\"color: #008080; text-decoration-color: #008080; font-weight: bold\">327588</span><span style=\"font-weight: bold\">}</span>,\n",
       "    <span style=\"color: #800080; text-decoration-color: #800080; font-weight: bold\">N</span><span style=\"font-weight: bold\">(</span>R-R73<span style=\"font-weight: bold\">)</span>: <span style=\"font-weight: bold\">{</span><span style=\"color: #008000; text-decoration-color: #008000\">'R-R9'</span>: <span style=\"color: #008080; text-decoration-color: #008080; font-weight: bold\">252647</span><span style=\"font-weight: bold\">}</span>,\n",
       "    <span style=\"color: #800080; text-decoration-color: #800080; font-weight: bold\">N</span><span style=\"font-weight: bold\">(</span>R-R74<span style=\"font-weight: bold\">)</span>: <span style=\"font-weight: bold\">{</span><span style=\"color: #008000; text-decoration-color: #008000\">'R-R9'</span>: <span style=\"color: #008080; text-decoration-color: #008080; font-weight: bold\">227740</span><span style=\"font-weight: bold\">}</span>,\n",
       "    <span style=\"color: #800080; text-decoration-color: #800080; font-weight: bold\">N</span><span style=\"font-weight: bold\">(</span>R-R75<span style=\"font-weight: bold\">)</span>: <span style=\"font-weight: bold\">{</span><span style=\"color: #008000; text-decoration-color: #008000\">'R-R9'</span>: <span style=\"color: #008080; text-decoration-color: #008080; font-weight: bold\">405660</span><span style=\"font-weight: bold\">}</span>,\n",
       "    <span style=\"color: #800080; text-decoration-color: #800080; font-weight: bold\">N</span><span style=\"font-weight: bold\">(</span>R-R76<span style=\"font-weight: bold\">)</span>: <span style=\"font-weight: bold\">{</span><span style=\"color: #008000; text-decoration-color: #008000\">'R-R9'</span>: <span style=\"color: #008080; text-decoration-color: #008080; font-weight: bold\">350893</span><span style=\"font-weight: bold\">}</span>,\n",
       "    <span style=\"color: #800080; text-decoration-color: #800080; font-weight: bold\">N</span><span style=\"font-weight: bold\">(</span>R-R77<span style=\"font-weight: bold\">)</span>: <span style=\"font-weight: bold\">{</span><span style=\"color: #008000; text-decoration-color: #008000\">'R-R9'</span>: <span style=\"color: #008080; text-decoration-color: #008080; font-weight: bold\">381418</span><span style=\"font-weight: bold\">}</span>,\n",
       "    <span style=\"color: #800080; text-decoration-color: #800080; font-weight: bold\">N</span><span style=\"font-weight: bold\">(</span>R-R78<span style=\"font-weight: bold\">)</span>: <span style=\"font-weight: bold\">{</span><span style=\"color: #008000; text-decoration-color: #008000\">'R-R9'</span>: <span style=\"color: #008080; text-decoration-color: #008080; font-weight: bold\">265330</span><span style=\"font-weight: bold\">}</span>,\n",
       "    <span style=\"color: #800080; text-decoration-color: #800080; font-weight: bold\">N</span><span style=\"font-weight: bold\">(</span>R-R79<span style=\"font-weight: bold\">)</span>: <span style=\"font-weight: bold\">{</span><span style=\"color: #008000; text-decoration-color: #008000\">'R-R9'</span>: <span style=\"color: #008080; text-decoration-color: #008080; font-weight: bold\">266218</span><span style=\"font-weight: bold\">}</span>,\n",
       "    <span style=\"color: #800080; text-decoration-color: #800080; font-weight: bold\">N</span><span style=\"font-weight: bold\">(</span>R-R80<span style=\"font-weight: bold\">)</span>: <span style=\"font-weight: bold\">{</span><span style=\"color: #008000; text-decoration-color: #008000\">'R-R9'</span>: <span style=\"color: #008080; text-decoration-color: #008080; font-weight: bold\">289482</span><span style=\"font-weight: bold\">}</span>,\n",
       "    <span style=\"color: #800080; text-decoration-color: #800080; font-weight: bold\">N</span><span style=\"font-weight: bold\">(</span>R-R81<span style=\"font-weight: bold\">)</span>: <span style=\"font-weight: bold\">{</span><span style=\"color: #008000; text-decoration-color: #008000\">'R-R9'</span>: <span style=\"color: #008080; text-decoration-color: #008080; font-weight: bold\">418112</span><span style=\"font-weight: bold\">}</span>,\n",
       "    <span style=\"color: #800080; text-decoration-color: #800080; font-weight: bold\">N</span><span style=\"font-weight: bold\">(</span>R-R82<span style=\"font-weight: bold\">)</span>: <span style=\"font-weight: bold\">{</span><span style=\"color: #008000; text-decoration-color: #008000\">'R-R9'</span>: <span style=\"color: #008080; text-decoration-color: #008080; font-weight: bold\">481735</span><span style=\"font-weight: bold\">}</span>,\n",
       "    <span style=\"color: #800080; text-decoration-color: #800080; font-weight: bold\">N</span><span style=\"font-weight: bold\">(</span>R-R83<span style=\"font-weight: bold\">)</span>: <span style=\"font-weight: bold\">{</span><span style=\"color: #008000; text-decoration-color: #008000\">'R-R9'</span>: <span style=\"color: #008080; text-decoration-color: #008080; font-weight: bold\">507612</span><span style=\"font-weight: bold\">}</span>,\n",
       "    <span style=\"color: #800080; text-decoration-color: #800080; font-weight: bold\">N</span><span style=\"font-weight: bold\">(</span>R-R84<span style=\"font-weight: bold\">)</span>: <span style=\"font-weight: bold\">{</span><span style=\"color: #008000; text-decoration-color: #008000\">'R-R9'</span>: <span style=\"color: #008080; text-decoration-color: #008080; font-weight: bold\">338749</span><span style=\"font-weight: bold\">}</span>,\n",
       "    <span style=\"color: #800080; text-decoration-color: #800080; font-weight: bold\">N</span><span style=\"font-weight: bold\">(</span>R-R85<span style=\"font-weight: bold\">)</span>: <span style=\"font-weight: bold\">{</span><span style=\"color: #008000; text-decoration-color: #008000\">'R-R9'</span>: <span style=\"color: #008080; text-decoration-color: #008080; font-weight: bold\">246775</span><span style=\"font-weight: bold\">}</span>,\n",
       "    <span style=\"color: #800080; text-decoration-color: #800080; font-weight: bold\">N</span><span style=\"font-weight: bold\">(</span>R-R86<span style=\"font-weight: bold\">)</span>: <span style=\"font-weight: bold\">{</span><span style=\"color: #008000; text-decoration-color: #008000\">'R-R9'</span>: <span style=\"color: #008080; text-decoration-color: #008080; font-weight: bold\">232533</span><span style=\"font-weight: bold\">}</span>,\n",
       "    <span style=\"color: #800080; text-decoration-color: #800080; font-weight: bold\">N</span><span style=\"font-weight: bold\">(</span>R-R87<span style=\"font-weight: bold\">)</span>: <span style=\"font-weight: bold\">{</span><span style=\"color: #008000; text-decoration-color: #008000\">'R-R9'</span>: <span style=\"color: #008080; text-decoration-color: #008080; font-weight: bold\">240364</span><span style=\"font-weight: bold\">}</span>,\n",
       "    <span style=\"color: #800080; text-decoration-color: #800080; font-weight: bold\">N</span><span style=\"font-weight: bold\">(</span>R-R88<span style=\"font-weight: bold\">)</span>: <span style=\"font-weight: bold\">{</span><span style=\"color: #008000; text-decoration-color: #008000\">'R-R9'</span>: <span style=\"color: #008080; text-decoration-color: #008080; font-weight: bold\">219347</span><span style=\"font-weight: bold\">}</span>,\n",
       "    <span style=\"color: #800080; text-decoration-color: #800080; font-weight: bold\">N</span><span style=\"font-weight: bold\">(</span>R-R89<span style=\"font-weight: bold\">)</span>: <span style=\"font-weight: bold\">{</span><span style=\"color: #008000; text-decoration-color: #008000\">'R-R9'</span>: <span style=\"color: #008080; text-decoration-color: #008080; font-weight: bold\">332980</span><span style=\"font-weight: bold\">}</span>,\n",
       "    <span style=\"color: #800080; text-decoration-color: #800080; font-weight: bold\">N</span><span style=\"font-weight: bold\">(</span>R-R90<span style=\"font-weight: bold\">)</span>: <span style=\"font-weight: bold\">{</span><span style=\"color: #008000; text-decoration-color: #008000\">'R-R9'</span>: <span style=\"color: #008080; text-decoration-color: #008080; font-weight: bold\">328450</span><span style=\"font-weight: bold\">}</span>,\n",
       "    <span style=\"color: #800080; text-decoration-color: #800080; font-weight: bold\">N</span><span style=\"font-weight: bold\">(</span>R-R91<span style=\"font-weight: bold\">)</span>: <span style=\"font-weight: bold\">{</span><span style=\"color: #008000; text-decoration-color: #008000\">'R-R9'</span>: <span style=\"color: #008080; text-decoration-color: #008080; font-weight: bold\">324915</span><span style=\"font-weight: bold\">}</span>,\n",
       "    <span style=\"color: #800080; text-decoration-color: #800080; font-weight: bold\">N</span><span style=\"font-weight: bold\">(</span>R-R92<span style=\"font-weight: bold\">)</span>: <span style=\"font-weight: bold\">{</span><span style=\"color: #008000; text-decoration-color: #008000\">'R-R9'</span>: <span style=\"color: #008080; text-decoration-color: #008080; font-weight: bold\">336395</span><span style=\"font-weight: bold\">}</span>,\n",
       "    <span style=\"color: #800080; text-decoration-color: #800080; font-weight: bold\">N</span><span style=\"font-weight: bold\">(</span>R-R93<span style=\"font-weight: bold\">)</span>: <span style=\"font-weight: bold\">{</span><span style=\"color: #008000; text-decoration-color: #008000\">'R-R9'</span>: <span style=\"color: #008080; text-decoration-color: #008080; font-weight: bold\">305798</span><span style=\"font-weight: bold\">}</span>,\n",
       "    <span style=\"color: #800080; text-decoration-color: #800080; font-weight: bold\">N</span><span style=\"font-weight: bold\">(</span>R-R94<span style=\"font-weight: bold\">)</span>: <span style=\"font-weight: bold\">{</span><span style=\"color: #008000; text-decoration-color: #008000\">'R-R9'</span>: <span style=\"color: #008080; text-decoration-color: #008080; font-weight: bold\">311703</span><span style=\"font-weight: bold\">}</span>,\n",
       "    <span style=\"color: #800080; text-decoration-color: #800080; font-weight: bold\">N</span><span style=\"font-weight: bold\">(</span>R-R95<span style=\"font-weight: bold\">)</span>: <span style=\"font-weight: bold\">{</span><span style=\"color: #008000; text-decoration-color: #008000\">'R-R9'</span>: <span style=\"color: #008080; text-decoration-color: #008080; font-weight: bold\">308446</span><span style=\"font-weight: bold\">}</span>,\n",
       "    <span style=\"color: #800080; text-decoration-color: #800080; font-weight: bold\">N</span><span style=\"font-weight: bold\">(</span>R-R96<span style=\"font-weight: bold\">)</span>: <span style=\"font-weight: bold\">{</span><span style=\"color: #008000; text-decoration-color: #008000\">'R-R9'</span>: <span style=\"color: #008080; text-decoration-color: #008080; font-weight: bold\">270164</span><span style=\"font-weight: bold\">}</span>,\n",
       "    <span style=\"color: #800080; text-decoration-color: #800080; font-weight: bold\">N</span><span style=\"font-weight: bold\">(</span>R-R97<span style=\"font-weight: bold\">)</span>: <span style=\"font-weight: bold\">{</span><span style=\"color: #008000; text-decoration-color: #008000\">'R-R9'</span>: <span style=\"color: #008080; text-decoration-color: #008080; font-weight: bold\">192498</span><span style=\"font-weight: bold\">}</span>,\n",
       "    <span style=\"color: #800080; text-decoration-color: #800080; font-weight: bold\">N</span><span style=\"font-weight: bold\">(</span>R-R98<span style=\"font-weight: bold\">)</span>: <span style=\"font-weight: bold\">{</span><span style=\"color: #008000; text-decoration-color: #008000\">'R-R9'</span>: <span style=\"color: #008080; text-decoration-color: #008080; font-weight: bold\">292964</span><span style=\"font-weight: bold\">}</span>,\n",
       "    <span style=\"color: #800080; text-decoration-color: #800080; font-weight: bold\">N</span><span style=\"font-weight: bold\">(</span>R-R99<span style=\"font-weight: bold\">)</span>: <span style=\"font-weight: bold\">{</span><span style=\"color: #008000; text-decoration-color: #008000\">'R-R9'</span>: <span style=\"color: #008080; text-decoration-color: #008080; font-weight: bold\">255926</span><span style=\"font-weight: bold\">}</span>,\n",
       "    <span style=\"color: #800080; text-decoration-color: #800080; font-weight: bold\">N</span><span style=\"font-weight: bold\">(</span>R-R100<span style=\"font-weight: bold\">)</span>: <span style=\"font-weight: bold\">{</span><span style=\"color: #008000; text-decoration-color: #008000\">'R-R9'</span>: <span style=\"color: #008080; text-decoration-color: #008080; font-weight: bold\">252689</span><span style=\"font-weight: bold\">}</span>,\n",
       "    <span style=\"color: #800080; text-decoration-color: #800080; font-weight: bold\">N</span><span style=\"font-weight: bold\">(</span>R-R101<span style=\"font-weight: bold\">)</span>: <span style=\"font-weight: bold\">{</span><span style=\"color: #008000; text-decoration-color: #008000\">'R-R9'</span>: <span style=\"color: #008080; text-decoration-color: #008080; font-weight: bold\">293406</span><span style=\"font-weight: bold\">}</span>,\n",
       "    <span style=\"color: #800080; text-decoration-color: #800080; font-weight: bold\">N</span><span style=\"font-weight: bold\">(</span>R-R102<span style=\"font-weight: bold\">)</span>: <span style=\"font-weight: bold\">{</span><span style=\"color: #008000; text-decoration-color: #008000\">'R-R9'</span>: <span style=\"color: #008080; text-decoration-color: #008080; font-weight: bold\">337144</span><span style=\"font-weight: bold\">}</span>,\n",
       "    <span style=\"color: #800080; text-decoration-color: #800080; font-weight: bold\">N</span><span style=\"font-weight: bold\">(</span>R-R103<span style=\"font-weight: bold\">)</span>: <span style=\"font-weight: bold\">{</span><span style=\"color: #008000; text-decoration-color: #008000\">'R-R9'</span>: <span style=\"color: #008080; text-decoration-color: #008080; font-weight: bold\">487958</span><span style=\"font-weight: bold\">}</span>,\n",
       "    <span style=\"color: #800080; text-decoration-color: #800080; font-weight: bold\">N</span><span style=\"font-weight: bold\">(</span>R-R104<span style=\"font-weight: bold\">)</span>: <span style=\"font-weight: bold\">{</span><span style=\"color: #008000; text-decoration-color: #008000\">'R-R9'</span>: <span style=\"color: #008080; text-decoration-color: #008080; font-weight: bold\">265188</span><span style=\"font-weight: bold\">}</span>,\n",
       "    <span style=\"color: #800080; text-decoration-color: #800080; font-weight: bold\">N</span><span style=\"font-weight: bold\">(</span>R-R105<span style=\"font-weight: bold\">)</span>: <span style=\"font-weight: bold\">{</span><span style=\"color: #008000; text-decoration-color: #008000\">'R-R9'</span>: <span style=\"color: #008080; text-decoration-color: #008080; font-weight: bold\">233587</span><span style=\"font-weight: bold\">}</span>,\n",
       "    <span style=\"color: #800080; text-decoration-color: #800080; font-weight: bold\">N</span><span style=\"font-weight: bold\">(</span>R-R106<span style=\"font-weight: bold\">)</span>: <span style=\"font-weight: bold\">{</span><span style=\"color: #008000; text-decoration-color: #008000\">'R-R9'</span>: <span style=\"color: #008080; text-decoration-color: #008080; font-weight: bold\">528420</span><span style=\"font-weight: bold\">}</span>,\n",
       "    <span style=\"color: #800080; text-decoration-color: #800080; font-weight: bold\">N</span><span style=\"font-weight: bold\">(</span>R-R107<span style=\"font-weight: bold\">)</span>: <span style=\"font-weight: bold\">{</span><span style=\"color: #008000; text-decoration-color: #008000\">'R-R9'</span>: <span style=\"color: #008080; text-decoration-color: #008080; font-weight: bold\">227747</span><span style=\"font-weight: bold\">}</span>,\n",
       "    <span style=\"color: #800080; text-decoration-color: #800080; font-weight: bold\">N</span><span style=\"font-weight: bold\">(</span>R-R108<span style=\"font-weight: bold\">)</span>: <span style=\"font-weight: bold\">{</span><span style=\"color: #008000; text-decoration-color: #008000\">'R-R9'</span>: <span style=\"color: #008080; text-decoration-color: #008080; font-weight: bold\">267433</span><span style=\"font-weight: bold\">}</span>,\n",
       "    <span style=\"color: #800080; text-decoration-color: #800080; font-weight: bold\">N</span><span style=\"font-weight: bold\">(</span>R-R109<span style=\"font-weight: bold\">)</span>: <span style=\"font-weight: bold\">{</span><span style=\"color: #008000; text-decoration-color: #008000\">'R-R9'</span>: <span style=\"color: #008080; text-decoration-color: #008080; font-weight: bold\">286803</span><span style=\"font-weight: bold\">}</span>,\n",
       "    <span style=\"color: #800080; text-decoration-color: #800080; font-weight: bold\">N</span><span style=\"font-weight: bold\">(</span>R-R110<span style=\"font-weight: bold\">)</span>: <span style=\"font-weight: bold\">{</span><span style=\"color: #008000; text-decoration-color: #008000\">'R-R9'</span>: <span style=\"color: #008080; text-decoration-color: #008080; font-weight: bold\">160312</span><span style=\"font-weight: bold\">}</span>,\n",
       "    <span style=\"color: #800080; text-decoration-color: #800080; font-weight: bold\">N</span><span style=\"font-weight: bold\">(</span>R-R111<span style=\"font-weight: bold\">)</span>: <span style=\"font-weight: bold\">{</span><span style=\"color: #008000; text-decoration-color: #008000\">'R-R9'</span>: <span style=\"color: #008080; text-decoration-color: #008080; font-weight: bold\">171951</span><span style=\"font-weight: bold\">}</span>,\n",
       "    <span style=\"color: #800080; text-decoration-color: #800080; font-weight: bold\">N</span><span style=\"font-weight: bold\">(</span>R-R112<span style=\"font-weight: bold\">)</span>: <span style=\"font-weight: bold\">{</span><span style=\"color: #008000; text-decoration-color: #008000\">'R-R9'</span>: <span style=\"color: #008080; text-decoration-color: #008080; font-weight: bold\">316430</span><span style=\"font-weight: bold\">}</span>,\n",
       "    <span style=\"color: #800080; text-decoration-color: #800080; font-weight: bold\">N</span><span style=\"font-weight: bold\">(</span>R-R113<span style=\"font-weight: bold\">)</span>: <span style=\"font-weight: bold\">{</span><span style=\"color: #008000; text-decoration-color: #008000\">'R-R9'</span>: <span style=\"color: #008080; text-decoration-color: #008080; font-weight: bold\">327910</span><span style=\"font-weight: bold\">}</span>,\n",
       "    <span style=\"color: #800080; text-decoration-color: #800080; font-weight: bold\">N</span><span style=\"font-weight: bold\">(</span>R-R114<span style=\"font-weight: bold\">)</span>: <span style=\"font-weight: bold\">{</span><span style=\"color: #008000; text-decoration-color: #008000\">'R-R9'</span>: <span style=\"color: #008080; text-decoration-color: #008080; font-weight: bold\">264360</span><span style=\"font-weight: bold\">}</span>,\n",
       "    <span style=\"color: #800080; text-decoration-color: #800080; font-weight: bold\">N</span><span style=\"font-weight: bold\">(</span>R-R115<span style=\"font-weight: bold\">)</span>: <span style=\"font-weight: bold\">{</span><span style=\"color: #008000; text-decoration-color: #008000\">'R-R9'</span>: <span style=\"color: #008080; text-decoration-color: #008080; font-weight: bold\">309144</span><span style=\"font-weight: bold\">}</span>,\n",
       "    <span style=\"color: #800080; text-decoration-color: #800080; font-weight: bold\">N</span><span style=\"font-weight: bold\">(</span>R-R116<span style=\"font-weight: bold\">)</span>: <span style=\"font-weight: bold\">{</span><span style=\"color: #008000; text-decoration-color: #008000\">'R-R9'</span>: <span style=\"color: #008080; text-decoration-color: #008080; font-weight: bold\">362486</span><span style=\"font-weight: bold\">}</span>,\n",
       "    <span style=\"color: #800080; text-decoration-color: #800080; font-weight: bold\">N</span><span style=\"font-weight: bold\">(</span>R-R117<span style=\"font-weight: bold\">)</span>: <span style=\"font-weight: bold\">{</span><span style=\"color: #008000; text-decoration-color: #008000\">'R-R9'</span>: <span style=\"color: #008080; text-decoration-color: #008080; font-weight: bold\">485770</span><span style=\"font-weight: bold\">}</span>,\n",
       "    <span style=\"color: #800080; text-decoration-color: #800080; font-weight: bold\">N</span><span style=\"font-weight: bold\">(</span>R-R118<span style=\"font-weight: bold\">)</span>: <span style=\"font-weight: bold\">{</span><span style=\"color: #008000; text-decoration-color: #008000\">'R-R9'</span>: <span style=\"color: #008080; text-decoration-color: #008080; font-weight: bold\">360055</span><span style=\"font-weight: bold\">}</span>,\n",
       "    <span style=\"color: #800080; text-decoration-color: #800080; font-weight: bold\">N</span><span style=\"font-weight: bold\">(</span>R-R119<span style=\"font-weight: bold\">)</span>: <span style=\"font-weight: bold\">{</span><span style=\"color: #008000; text-decoration-color: #008000\">'R-R9'</span>: <span style=\"color: #008080; text-decoration-color: #008080; font-weight: bold\">352167</span><span style=\"font-weight: bold\">}</span>,\n",
       "    <span style=\"color: #800080; text-decoration-color: #800080; font-weight: bold\">N</span><span style=\"font-weight: bold\">(</span>R-R120<span style=\"font-weight: bold\">)</span>: <span style=\"font-weight: bold\">{</span><span style=\"color: #008000; text-decoration-color: #008000\">'R-R9'</span>: <span style=\"color: #008080; text-decoration-color: #008080; font-weight: bold\">331684</span><span style=\"font-weight: bold\">}</span>,\n",
       "    <span style=\"color: #800080; text-decoration-color: #800080; font-weight: bold\">N</span><span style=\"font-weight: bold\">(</span>R-R121<span style=\"font-weight: bold\">)</span>: <span style=\"font-weight: bold\">{</span><span style=\"color: #008000; text-decoration-color: #008000\">'R-R9'</span>: <span style=\"color: #008080; text-decoration-color: #008080; font-weight: bold\">264491</span><span style=\"font-weight: bold\">}</span>,\n",
       "    <span style=\"color: #800080; text-decoration-color: #800080; font-weight: bold\">N</span><span style=\"font-weight: bold\">(</span>R-R122<span style=\"font-weight: bold\">)</span>: <span style=\"font-weight: bold\">{</span><span style=\"color: #008000; text-decoration-color: #008000\">'R-R9'</span>: <span style=\"color: #008080; text-decoration-color: #008080; font-weight: bold\">336430</span><span style=\"font-weight: bold\">}</span>,\n",
       "    <span style=\"color: #800080; text-decoration-color: #800080; font-weight: bold\">N</span><span style=\"font-weight: bold\">(</span>R-R123<span style=\"font-weight: bold\">)</span>: <span style=\"font-weight: bold\">{</span><span style=\"color: #008000; text-decoration-color: #008000\">'R-R9'</span>: <span style=\"color: #008080; text-decoration-color: #008080; font-weight: bold\">348940</span><span style=\"font-weight: bold\">}</span>,\n",
       "    <span style=\"color: #800080; text-decoration-color: #800080; font-weight: bold\">N</span><span style=\"font-weight: bold\">(</span>R-R124<span style=\"font-weight: bold\">)</span>: <span style=\"font-weight: bold\">{</span><span style=\"color: #008000; text-decoration-color: #008000\">'R-R9'</span>: <span style=\"color: #008080; text-decoration-color: #008080; font-weight: bold\">364407</span><span style=\"font-weight: bold\">}</span>,\n",
       "    <span style=\"color: #800080; text-decoration-color: #800080; font-weight: bold\">N</span><span style=\"font-weight: bold\">(</span>R-R125<span style=\"font-weight: bold\">)</span>: <span style=\"font-weight: bold\">{</span><span style=\"color: #008000; text-decoration-color: #008000\">'R-R9'</span>: <span style=\"color: #008080; text-decoration-color: #008080; font-weight: bold\">283291</span><span style=\"font-weight: bold\">}</span>,\n",
       "    <span style=\"color: #800080; text-decoration-color: #800080; font-weight: bold\">N</span><span style=\"font-weight: bold\">(</span>R-R126<span style=\"font-weight: bold\">)</span>: <span style=\"font-weight: bold\">{</span><span style=\"color: #008000; text-decoration-color: #008000\">'R-R9'</span>: <span style=\"color: #008080; text-decoration-color: #008080; font-weight: bold\">290835</span><span style=\"font-weight: bold\">}</span>,\n",
       "    <span style=\"color: #800080; text-decoration-color: #800080; font-weight: bold\">N</span><span style=\"font-weight: bold\">(</span>R-R127<span style=\"font-weight: bold\">)</span>: <span style=\"font-weight: bold\">{</span><span style=\"color: #008000; text-decoration-color: #008000\">'R-R9'</span>: <span style=\"color: #008080; text-decoration-color: #008080; font-weight: bold\">258945</span><span style=\"font-weight: bold\">}</span>,\n",
       "    <span style=\"color: #800080; text-decoration-color: #800080; font-weight: bold\">N</span><span style=\"font-weight: bold\">(</span>R-R128<span style=\"font-weight: bold\">)</span>: <span style=\"font-weight: bold\">{</span><span style=\"color: #008000; text-decoration-color: #008000\">'R-R9'</span>: <span style=\"color: #008080; text-decoration-color: #008080; font-weight: bold\">200395</span><span style=\"font-weight: bold\">}</span>,\n",
       "    <span style=\"color: #800080; text-decoration-color: #800080; font-weight: bold\">N</span><span style=\"font-weight: bold\">(</span>R-R129<span style=\"font-weight: bold\">)</span>: <span style=\"font-weight: bold\">{</span><span style=\"color: #008000; text-decoration-color: #008000\">'R-R9'</span>: <span style=\"color: #008080; text-decoration-color: #008080; font-weight: bold\">204226</span><span style=\"font-weight: bold\">}</span>,\n",
       "    <span style=\"color: #800080; text-decoration-color: #800080; font-weight: bold\">N</span><span style=\"font-weight: bold\">(</span>R-R130<span style=\"font-weight: bold\">)</span>: <span style=\"font-weight: bold\">{</span><span style=\"color: #008000; text-decoration-color: #008000\">'R-R9'</span>: <span style=\"color: #008080; text-decoration-color: #008080; font-weight: bold\">197639</span><span style=\"font-weight: bold\">}</span>,\n",
       "    <span style=\"color: #800080; text-decoration-color: #800080; font-weight: bold\">N</span><span style=\"font-weight: bold\">(</span>R-R131<span style=\"font-weight: bold\">)</span>: <span style=\"font-weight: bold\">{</span><span style=\"color: #008000; text-decoration-color: #008000\">'R-R9'</span>: <span style=\"color: #008080; text-decoration-color: #008080; font-weight: bold\">355994</span><span style=\"font-weight: bold\">}</span>,\n",
       "    <span style=\"color: #800080; text-decoration-color: #800080; font-weight: bold\">N</span><span style=\"font-weight: bold\">(</span>R-R132<span style=\"font-weight: bold\">)</span>: <span style=\"font-weight: bold\">{</span><span style=\"color: #008000; text-decoration-color: #008000\">'R-R9'</span>: <span style=\"color: #008080; text-decoration-color: #008080; font-weight: bold\">339259</span><span style=\"font-weight: bold\">}</span>,\n",
       "    <span style=\"color: #800080; text-decoration-color: #800080; font-weight: bold\">N</span><span style=\"font-weight: bold\">(</span>R-R133<span style=\"font-weight: bold\">)</span>: <span style=\"font-weight: bold\">{</span><span style=\"color: #008000; text-decoration-color: #008000\">'R-R9'</span>: <span style=\"color: #008080; text-decoration-color: #008080; font-weight: bold\">342513</span><span style=\"font-weight: bold\">}</span>,\n",
       "    <span style=\"color: #800080; text-decoration-color: #800080; font-weight: bold\">N</span><span style=\"font-weight: bold\">(</span>R-R134<span style=\"font-weight: bold\">)</span>: <span style=\"font-weight: bold\">{</span><span style=\"color: #008000; text-decoration-color: #008000\">'R-R9'</span>: <span style=\"color: #008080; text-decoration-color: #008080; font-weight: bold\">289387</span><span style=\"font-weight: bold\">}</span>,\n",
       "    <span style=\"color: #800080; text-decoration-color: #800080; font-weight: bold\">N</span><span style=\"font-weight: bold\">(</span>R-R135<span style=\"font-weight: bold\">)</span>: <span style=\"font-weight: bold\">{</span><span style=\"color: #008000; text-decoration-color: #008000\">'R-R9'</span>: <span style=\"color: #008080; text-decoration-color: #008080; font-weight: bold\">283423</span><span style=\"font-weight: bold\">}</span>,\n",
       "    <span style=\"color: #800080; text-decoration-color: #800080; font-weight: bold\">N</span><span style=\"font-weight: bold\">(</span>R-R136<span style=\"font-weight: bold\">)</span>: <span style=\"font-weight: bold\">{</span><span style=\"color: #008000; text-decoration-color: #008000\">'R-R9'</span>: <span style=\"color: #008080; text-decoration-color: #008080; font-weight: bold\">302963</span><span style=\"font-weight: bold\">}</span>,\n",
       "    <span style=\"color: #800080; text-decoration-color: #800080; font-weight: bold\">N</span><span style=\"font-weight: bold\">(</span>R-R137<span style=\"font-weight: bold\">)</span>: <span style=\"font-weight: bold\">{</span><span style=\"color: #008000; text-decoration-color: #008000\">'R-R9'</span>: <span style=\"color: #008080; text-decoration-color: #008080; font-weight: bold\">317295</span><span style=\"font-weight: bold\">}</span>,\n",
       "    <span style=\"color: #800080; text-decoration-color: #800080; font-weight: bold\">N</span><span style=\"font-weight: bold\">(</span>R-R138<span style=\"font-weight: bold\">)</span>: <span style=\"font-weight: bold\">{</span><span style=\"color: #008000; text-decoration-color: #008000\">'R-R9'</span>: <span style=\"color: #008080; text-decoration-color: #008080; font-weight: bold\">311322</span><span style=\"font-weight: bold\">}</span>,\n",
       "    <span style=\"color: #800080; text-decoration-color: #800080; font-weight: bold\">N</span><span style=\"font-weight: bold\">(</span>R-R139<span style=\"font-weight: bold\">)</span>: <span style=\"font-weight: bold\">{</span><span style=\"color: #008000; text-decoration-color: #008000\">'R-R9'</span>: <span style=\"color: #008080; text-decoration-color: #008080; font-weight: bold\">380293</span><span style=\"font-weight: bold\">}</span>,\n",
       "    <span style=\"color: #800080; text-decoration-color: #800080; font-weight: bold\">N</span><span style=\"font-weight: bold\">(</span>R-R140<span style=\"font-weight: bold\">)</span>: <span style=\"font-weight: bold\">{</span><span style=\"color: #008000; text-decoration-color: #008000\">'R-R9'</span>: <span style=\"color: #008080; text-decoration-color: #008080; font-weight: bold\">376340</span><span style=\"font-weight: bold\">}</span>,\n",
       "    <span style=\"color: #800080; text-decoration-color: #800080; font-weight: bold\">N</span><span style=\"font-weight: bold\">(</span>R-R141<span style=\"font-weight: bold\">)</span>: <span style=\"font-weight: bold\">{</span><span style=\"color: #008000; text-decoration-color: #008000\">'R-R9'</span>: <span style=\"color: #008080; text-decoration-color: #008080; font-weight: bold\">294598</span><span style=\"font-weight: bold\">}</span>,\n",
       "    <span style=\"color: #800080; text-decoration-color: #800080; font-weight: bold\">N</span><span style=\"font-weight: bold\">(</span>R-R142<span style=\"font-weight: bold\">)</span>: <span style=\"font-weight: bold\">{</span><span style=\"color: #008000; text-decoration-color: #008000\">'R-R9'</span>: <span style=\"color: #008080; text-decoration-color: #008080; font-weight: bold\">298765</span><span style=\"font-weight: bold\">}</span>,\n",
       "    <span style=\"color: #800080; text-decoration-color: #800080; font-weight: bold\">N</span><span style=\"font-weight: bold\">(</span>R-R143<span style=\"font-weight: bold\">)</span>: <span style=\"font-weight: bold\">{</span><span style=\"color: #008000; text-decoration-color: #008000\">'R-R9'</span>: <span style=\"color: #008080; text-decoration-color: #008080; font-weight: bold\">297294</span><span style=\"font-weight: bold\">}</span>,\n",
       "    <span style=\"color: #800080; text-decoration-color: #800080; font-weight: bold\">N</span><span style=\"font-weight: bold\">(</span>R-R144<span style=\"font-weight: bold\">)</span>: <span style=\"font-weight: bold\">{</span><span style=\"color: #008000; text-decoration-color: #008000\">'R-R9'</span>: <span style=\"color: #008080; text-decoration-color: #008080; font-weight: bold\">297493</span><span style=\"font-weight: bold\">}</span>,\n",
       "    <span style=\"color: #800080; text-decoration-color: #800080; font-weight: bold\">N</span><span style=\"font-weight: bold\">(</span>R-R145<span style=\"font-weight: bold\">)</span>: <span style=\"font-weight: bold\">{</span><span style=\"color: #008000; text-decoration-color: #008000\">'R-R9'</span>: <span style=\"color: #008080; text-decoration-color: #008080; font-weight: bold\">319053</span><span style=\"font-weight: bold\">}</span>,\n",
       "    <span style=\"color: #800080; text-decoration-color: #800080; font-weight: bold\">N</span><span style=\"font-weight: bold\">(</span>R-R146<span style=\"font-weight: bold\">)</span>: <span style=\"font-weight: bold\">{</span><span style=\"color: #008000; text-decoration-color: #008000\">'R-R9'</span>: <span style=\"color: #008080; text-decoration-color: #008080; font-weight: bold\">302113</span><span style=\"font-weight: bold\">}</span>,\n",
       "    <span style=\"color: #800080; text-decoration-color: #800080; font-weight: bold\">N</span><span style=\"font-weight: bold\">(</span>R-R147<span style=\"font-weight: bold\">)</span>: <span style=\"font-weight: bold\">{</span><span style=\"color: #008000; text-decoration-color: #008000\">'R-R9'</span>: <span style=\"color: #008080; text-decoration-color: #008080; font-weight: bold\">264660</span><span style=\"font-weight: bold\">}</span>,\n",
       "    <span style=\"color: #800080; text-decoration-color: #800080; font-weight: bold\">N</span><span style=\"font-weight: bold\">(</span>R-R148<span style=\"font-weight: bold\">)</span>: <span style=\"font-weight: bold\">{</span><span style=\"color: #008000; text-decoration-color: #008000\">'R-R9'</span>: <span style=\"color: #008080; text-decoration-color: #008080; font-weight: bold\">244074</span><span style=\"font-weight: bold\">}</span>,\n",
       "    <span style=\"color: #800080; text-decoration-color: #800080; font-weight: bold\">N</span><span style=\"font-weight: bold\">(</span>R-R149<span style=\"font-weight: bold\">)</span>: <span style=\"font-weight: bold\">{</span><span style=\"color: #008000; text-decoration-color: #008000\">'R-R9'</span>: <span style=\"color: #008080; text-decoration-color: #008080; font-weight: bold\">228593</span><span style=\"font-weight: bold\">}</span>,\n",
       "    <span style=\"color: #800080; text-decoration-color: #800080; font-weight: bold\">N</span><span style=\"font-weight: bold\">(</span>R-R150<span style=\"font-weight: bold\">)</span>: <span style=\"font-weight: bold\">{</span><span style=\"color: #008000; text-decoration-color: #008000\">'R-R9'</span>: <span style=\"color: #008080; text-decoration-color: #008080; font-weight: bold\">267744</span><span style=\"font-weight: bold\">}</span>,\n",
       "    <span style=\"color: #800080; text-decoration-color: #800080; font-weight: bold\">N</span><span style=\"font-weight: bold\">(</span>R-R151<span style=\"font-weight: bold\">)</span>: <span style=\"font-weight: bold\">{</span><span style=\"color: #008000; text-decoration-color: #008000\">'R-R9'</span>: <span style=\"color: #008080; text-decoration-color: #008080; font-weight: bold\">289526</span><span style=\"font-weight: bold\">}</span>,\n",
       "    <span style=\"color: #800080; text-decoration-color: #800080; font-weight: bold\">N</span><span style=\"font-weight: bold\">(</span>R-R152<span style=\"font-weight: bold\">)</span>: <span style=\"font-weight: bold\">{</span><span style=\"color: #008000; text-decoration-color: #008000\">'R-R9'</span>: <span style=\"color: #008080; text-decoration-color: #008080; font-weight: bold\">264884</span><span style=\"font-weight: bold\">}</span>,\n",
       "    <span style=\"color: #800080; text-decoration-color: #800080; font-weight: bold\">N</span><span style=\"font-weight: bold\">(</span>R-R153<span style=\"font-weight: bold\">)</span>: <span style=\"font-weight: bold\">{</span><span style=\"color: #008000; text-decoration-color: #008000\">'R-R9'</span>: <span style=\"color: #008080; text-decoration-color: #008080; font-weight: bold\">211076</span><span style=\"font-weight: bold\">}</span>,\n",
       "    <span style=\"color: #800080; text-decoration-color: #800080; font-weight: bold\">N</span><span style=\"font-weight: bold\">(</span>R-R154<span style=\"font-weight: bold\">)</span>: <span style=\"font-weight: bold\">{</span><span style=\"color: #008000; text-decoration-color: #008000\">'R-R9'</span>: <span style=\"color: #008080; text-decoration-color: #008080; font-weight: bold\">205152</span><span style=\"font-weight: bold\">}</span>,\n",
       "    <span style=\"color: #800080; text-decoration-color: #800080; font-weight: bold\">N</span><span style=\"font-weight: bold\">(</span>R-R155<span style=\"font-weight: bold\">)</span>: <span style=\"font-weight: bold\">{</span><span style=\"color: #008000; text-decoration-color: #008000\">'R-R9'</span>: <span style=\"color: #008080; text-decoration-color: #008080; font-weight: bold\">219251</span><span style=\"font-weight: bold\">}</span>,\n",
       "    <span style=\"color: #800080; text-decoration-color: #800080; font-weight: bold\">N</span><span style=\"font-weight: bold\">(</span>R-R156<span style=\"font-weight: bold\">)</span>: <span style=\"font-weight: bold\">{</span><span style=\"color: #008000; text-decoration-color: #008000\">'R-R9'</span>: <span style=\"color: #008080; text-decoration-color: #008080; font-weight: bold\">501885</span><span style=\"font-weight: bold\">}</span>,\n",
       "    <span style=\"color: #800080; text-decoration-color: #800080; font-weight: bold\">N</span><span style=\"font-weight: bold\">(</span>R-R157<span style=\"font-weight: bold\">)</span>: <span style=\"font-weight: bold\">{</span><span style=\"color: #008000; text-decoration-color: #008000\">'R-R9'</span>: <span style=\"color: #008080; text-decoration-color: #008080; font-weight: bold\">522648</span><span style=\"font-weight: bold\">}</span>,\n",
       "    <span style=\"color: #800080; text-decoration-color: #800080; font-weight: bold\">N</span><span style=\"font-weight: bold\">(</span>R-R158<span style=\"font-weight: bold\">)</span>: <span style=\"font-weight: bold\">{</span><span style=\"color: #008000; text-decoration-color: #008000\">'R-R9'</span>: <span style=\"color: #008080; text-decoration-color: #008080; font-weight: bold\">161700</span><span style=\"font-weight: bold\">}</span>,\n",
       "    <span style=\"color: #800080; text-decoration-color: #800080; font-weight: bold\">N</span><span style=\"font-weight: bold\">(</span>R-R159<span style=\"font-weight: bold\">)</span>: <span style=\"font-weight: bold\">{</span><span style=\"color: #008000; text-decoration-color: #008000\">'R-R9'</span>: <span style=\"color: #008080; text-decoration-color: #008080; font-weight: bold\">253406</span><span style=\"font-weight: bold\">}</span>,\n",
       "    <span style=\"color: #800080; text-decoration-color: #800080; font-weight: bold\">N</span><span style=\"font-weight: bold\">(</span>R-R160<span style=\"font-weight: bold\">)</span>: <span style=\"font-weight: bold\">{</span><span style=\"color: #008000; text-decoration-color: #008000\">'R-R9'</span>: <span style=\"color: #008080; text-decoration-color: #008080; font-weight: bold\">419162</span><span style=\"font-weight: bold\">}</span>,\n",
       "    <span style=\"color: #800080; text-decoration-color: #800080; font-weight: bold\">N</span><span style=\"font-weight: bold\">(</span>R-R161<span style=\"font-weight: bold\">)</span>: <span style=\"font-weight: bold\">{</span><span style=\"color: #008000; text-decoration-color: #008000\">'R-R9'</span>: <span style=\"color: #008080; text-decoration-color: #008080; font-weight: bold\">223119</span><span style=\"font-weight: bold\">}</span>,\n",
       "    <span style=\"color: #800080; text-decoration-color: #800080; font-weight: bold\">N</span><span style=\"font-weight: bold\">(</span>R-R162<span style=\"font-weight: bold\">)</span>: <span style=\"font-weight: bold\">{</span><span style=\"color: #008000; text-decoration-color: #008000\">'R-R9'</span>: <span style=\"color: #008080; text-decoration-color: #008080; font-weight: bold\">226429</span><span style=\"font-weight: bold\">}</span>,\n",
       "    <span style=\"color: #800080; text-decoration-color: #800080; font-weight: bold\">N</span><span style=\"font-weight: bold\">(</span>R-R163<span style=\"font-weight: bold\">)</span>: <span style=\"font-weight: bold\">{</span><span style=\"color: #008000; text-decoration-color: #008000\">'R-R9'</span>: <span style=\"color: #008080; text-decoration-color: #008080; font-weight: bold\">230504</span><span style=\"font-weight: bold\">}</span>,\n",
       "    <span style=\"color: #800080; text-decoration-color: #800080; font-weight: bold\">N</span><span style=\"font-weight: bold\">(</span>R-R164<span style=\"font-weight: bold\">)</span>: <span style=\"font-weight: bold\">{</span><span style=\"color: #008000; text-decoration-color: #008000\">'R-R9'</span>: <span style=\"color: #008080; text-decoration-color: #008080; font-weight: bold\">227428</span><span style=\"font-weight: bold\">}</span>,\n",
       "    <span style=\"color: #800080; text-decoration-color: #800080; font-weight: bold\">N</span><span style=\"font-weight: bold\">(</span>R-R165<span style=\"font-weight: bold\">)</span>: <span style=\"font-weight: bold\">{</span><span style=\"color: #008000; text-decoration-color: #008000\">'R-R9'</span>: <span style=\"color: #008080; text-decoration-color: #008080; font-weight: bold\">248978</span><span style=\"font-weight: bold\">}</span>,\n",
       "    <span style=\"color: #800080; text-decoration-color: #800080; font-weight: bold\">N</span><span style=\"font-weight: bold\">(</span>R-R166<span style=\"font-weight: bold\">)</span>: <span style=\"font-weight: bold\">{</span><span style=\"color: #008000; text-decoration-color: #008000\">'R-R9'</span>: <span style=\"color: #008080; text-decoration-color: #008080; font-weight: bold\">317024</span><span style=\"font-weight: bold\">}</span>,\n",
       "    <span style=\"color: #800080; text-decoration-color: #800080; font-weight: bold\">N</span><span style=\"font-weight: bold\">(</span>R-R167<span style=\"font-weight: bold\">)</span>: <span style=\"font-weight: bold\">{</span><span style=\"color: #008000; text-decoration-color: #008000\">'R-R9'</span>: <span style=\"color: #008080; text-decoration-color: #008080; font-weight: bold\">250319</span><span style=\"font-weight: bold\">}</span>,\n",
       "    <span style=\"color: #800080; text-decoration-color: #800080; font-weight: bold\">N</span><span style=\"font-weight: bold\">(</span>R-R168<span style=\"font-weight: bold\">)</span>: <span style=\"font-weight: bold\">{</span><span style=\"color: #008000; text-decoration-color: #008000\">'R-R9'</span>: <span style=\"color: #008080; text-decoration-color: #008080; font-weight: bold\">237326</span><span style=\"font-weight: bold\">}</span>,\n",
       "    <span style=\"color: #800080; text-decoration-color: #800080; font-weight: bold\">N</span><span style=\"font-weight: bold\">(</span>R-R169<span style=\"font-weight: bold\">)</span>: <span style=\"font-weight: bold\">{</span><span style=\"color: #008000; text-decoration-color: #008000\">'R-R9'</span>: <span style=\"color: #008080; text-decoration-color: #008080; font-weight: bold\">438652</span><span style=\"font-weight: bold\">}</span>,\n",
       "    <span style=\"color: #800080; text-decoration-color: #800080; font-weight: bold\">N</span><span style=\"font-weight: bold\">(</span>R-R170<span style=\"font-weight: bold\">)</span>: <span style=\"font-weight: bold\">{</span><span style=\"color: #008000; text-decoration-color: #008000\">'R-R9'</span>: <span style=\"color: #008080; text-decoration-color: #008080; font-weight: bold\">246928</span><span style=\"font-weight: bold\">}</span>,\n",
       "    <span style=\"color: #800080; text-decoration-color: #800080; font-weight: bold\">N</span><span style=\"font-weight: bold\">(</span>R-R171<span style=\"font-weight: bold\">)</span>: <span style=\"font-weight: bold\">{</span><span style=\"color: #008000; text-decoration-color: #008000\">'R-R9'</span>: <span style=\"color: #008080; text-decoration-color: #008080; font-weight: bold\">256586</span><span style=\"font-weight: bold\">}</span>,\n",
       "    <span style=\"color: #800080; text-decoration-color: #800080; font-weight: bold\">N</span><span style=\"font-weight: bold\">(</span>R-R172<span style=\"font-weight: bold\">)</span>: <span style=\"font-weight: bold\">{</span><span style=\"color: #008000; text-decoration-color: #008000\">'R-R9'</span>: <span style=\"color: #008080; text-decoration-color: #008080; font-weight: bold\">335820</span><span style=\"font-weight: bold\">}</span>,\n",
       "    <span style=\"color: #800080; text-decoration-color: #800080; font-weight: bold\">N</span><span style=\"font-weight: bold\">(</span>R-R173<span style=\"font-weight: bold\">)</span>: <span style=\"font-weight: bold\">{</span><span style=\"color: #008000; text-decoration-color: #008000\">'R-R9'</span>: <span style=\"color: #008080; text-decoration-color: #008080; font-weight: bold\">361411</span><span style=\"font-weight: bold\">}</span>,\n",
       "    <span style=\"color: #800080; text-decoration-color: #800080; font-weight: bold\">N</span><span style=\"font-weight: bold\">(</span>R-R174<span style=\"font-weight: bold\">)</span>: <span style=\"font-weight: bold\">{</span><span style=\"color: #008000; text-decoration-color: #008000\">'R-R9'</span>: <span style=\"color: #008080; text-decoration-color: #008080; font-weight: bold\">516248</span><span style=\"font-weight: bold\">}</span>,\n",
       "    <span style=\"color: #800080; text-decoration-color: #800080; font-weight: bold\">N</span><span style=\"font-weight: bold\">(</span>R-R175<span style=\"font-weight: bold\">)</span>: <span style=\"font-weight: bold\">{</span><span style=\"color: #008000; text-decoration-color: #008000\">'R-R9'</span>: <span style=\"color: #008080; text-decoration-color: #008080; font-weight: bold\">411965</span><span style=\"font-weight: bold\">}</span>,\n",
       "    <span style=\"color: #800080; text-decoration-color: #800080; font-weight: bold\">N</span><span style=\"font-weight: bold\">(</span>R-R176<span style=\"font-weight: bold\">)</span>: <span style=\"font-weight: bold\">{</span><span style=\"color: #008000; text-decoration-color: #008000\">'R-R9'</span>: <span style=\"color: #008080; text-decoration-color: #008080; font-weight: bold\">403810</span><span style=\"font-weight: bold\">}</span>,\n",
       "    <span style=\"color: #800080; text-decoration-color: #800080; font-weight: bold\">N</span><span style=\"font-weight: bold\">(</span>R-R177<span style=\"font-weight: bold\">)</span>: <span style=\"font-weight: bold\">{</span><span style=\"color: #008000; text-decoration-color: #008000\">'R-R9'</span>: <span style=\"color: #008080; text-decoration-color: #008080; font-weight: bold\">525535</span><span style=\"font-weight: bold\">}</span>,\n",
       "    <span style=\"color: #800080; text-decoration-color: #800080; font-weight: bold\">N</span><span style=\"font-weight: bold\">(</span>R-R178<span style=\"font-weight: bold\">)</span>: <span style=\"font-weight: bold\">{</span><span style=\"color: #008000; text-decoration-color: #008000\">'R-R9'</span>: <span style=\"color: #008080; text-decoration-color: #008080; font-weight: bold\">235866</span><span style=\"font-weight: bold\">}</span>,\n",
       "    <span style=\"color: #800080; text-decoration-color: #800080; font-weight: bold\">N</span><span style=\"font-weight: bold\">(</span>R-R179<span style=\"font-weight: bold\">)</span>: <span style=\"font-weight: bold\">{</span><span style=\"color: #008000; text-decoration-color: #008000\">'R-R9'</span>: <span style=\"color: #008080; text-decoration-color: #008080; font-weight: bold\">368791</span><span style=\"font-weight: bold\">}</span>,\n",
       "    <span style=\"color: #800080; text-decoration-color: #800080; font-weight: bold\">N</span><span style=\"font-weight: bold\">(</span>R-R180<span style=\"font-weight: bold\">)</span>: <span style=\"font-weight: bold\">{</span><span style=\"color: #008000; text-decoration-color: #008000\">'R-R9'</span>: <span style=\"color: #008080; text-decoration-color: #008080; font-weight: bold\">310828</span><span style=\"font-weight: bold\">}</span>,\n",
       "    <span style=\"color: #800080; text-decoration-color: #800080; font-weight: bold\">N</span><span style=\"font-weight: bold\">(</span>R-R181<span style=\"font-weight: bold\">)</span>: <span style=\"font-weight: bold\">{</span><span style=\"color: #008000; text-decoration-color: #008000\">'R-R9'</span>: <span style=\"color: #008080; text-decoration-color: #008080; font-weight: bold\">308014</span><span style=\"font-weight: bold\">}</span>,\n",
       "    <span style=\"color: #800080; text-decoration-color: #800080; font-weight: bold\">N</span><span style=\"font-weight: bold\">(</span>R-R182<span style=\"font-weight: bold\">)</span>: <span style=\"font-weight: bold\">{</span><span style=\"color: #008000; text-decoration-color: #008000\">'R-R9'</span>: <span style=\"color: #008080; text-decoration-color: #008080; font-weight: bold\">357388</span><span style=\"font-weight: bold\">}</span>,\n",
       "    <span style=\"color: #800080; text-decoration-color: #800080; font-weight: bold\">N</span><span style=\"font-weight: bold\">(</span>R-R183<span style=\"font-weight: bold\">)</span>: <span style=\"font-weight: bold\">{</span><span style=\"color: #008000; text-decoration-color: #008000\">'R-R9'</span>: <span style=\"color: #008080; text-decoration-color: #008080; font-weight: bold\">331385</span><span style=\"font-weight: bold\">}</span>,\n",
       "    <span style=\"color: #800080; text-decoration-color: #800080; font-weight: bold\">N</span><span style=\"font-weight: bold\">(</span>R-R184<span style=\"font-weight: bold\">)</span>: <span style=\"font-weight: bold\">{</span><span style=\"color: #008000; text-decoration-color: #008000\">'R-R9'</span>: <span style=\"color: #008080; text-decoration-color: #008080; font-weight: bold\">316421</span><span style=\"font-weight: bold\">}</span>,\n",
       "    <span style=\"color: #800080; text-decoration-color: #800080; font-weight: bold\">N</span><span style=\"font-weight: bold\">(</span>R-R185<span style=\"font-weight: bold\">)</span>: <span style=\"font-weight: bold\">{</span><span style=\"color: #008000; text-decoration-color: #008000\">'R-R9'</span>: <span style=\"color: #008080; text-decoration-color: #008080; font-weight: bold\">440124</span><span style=\"font-weight: bold\">}</span>,\n",
       "    <span style=\"color: #800080; text-decoration-color: #800080; font-weight: bold\">N</span><span style=\"font-weight: bold\">(</span>R-R186<span style=\"font-weight: bold\">)</span>: <span style=\"font-weight: bold\">{</span><span style=\"color: #008000; text-decoration-color: #008000\">'R-R9'</span>: <span style=\"color: #008080; text-decoration-color: #008080; font-weight: bold\">451091</span><span style=\"font-weight: bold\">}</span>,\n",
       "    <span style=\"color: #800080; text-decoration-color: #800080; font-weight: bold\">N</span><span style=\"font-weight: bold\">(</span>R-R187<span style=\"font-weight: bold\">)</span>: <span style=\"font-weight: bold\">{</span><span style=\"color: #008000; text-decoration-color: #008000\">'R-R9'</span>: <span style=\"color: #008080; text-decoration-color: #008080; font-weight: bold\">395401</span><span style=\"font-weight: bold\">}</span>,\n",
       "    <span style=\"color: #800080; text-decoration-color: #800080; font-weight: bold\">N</span><span style=\"font-weight: bold\">(</span>R-R188<span style=\"font-weight: bold\">)</span>: <span style=\"font-weight: bold\">{</span><span style=\"color: #008000; text-decoration-color: #008000\">'R-R9'</span>: <span style=\"color: #008080; text-decoration-color: #008080; font-weight: bold\">391007</span><span style=\"font-weight: bold\">}</span>,\n",
       "    <span style=\"color: #800080; text-decoration-color: #800080; font-weight: bold\">N</span><span style=\"font-weight: bold\">(</span>R-R189<span style=\"font-weight: bold\">)</span>: <span style=\"font-weight: bold\">{</span><span style=\"color: #008000; text-decoration-color: #008000\">'R-R9'</span>: <span style=\"color: #008080; text-decoration-color: #008080; font-weight: bold\">306307</span><span style=\"font-weight: bold\">}</span>,\n",
       "    <span style=\"color: #800080; text-decoration-color: #800080; font-weight: bold\">N</span><span style=\"font-weight: bold\">(</span>R-R190<span style=\"font-weight: bold\">)</span>: <span style=\"font-weight: bold\">{</span><span style=\"color: #008000; text-decoration-color: #008000\">'R-R9'</span>: <span style=\"color: #008080; text-decoration-color: #008080; font-weight: bold\">292528</span><span style=\"font-weight: bold\">}</span>,\n",
       "    <span style=\"color: #800080; text-decoration-color: #800080; font-weight: bold\">N</span><span style=\"font-weight: bold\">(</span>R-R191<span style=\"font-weight: bold\">)</span>: <span style=\"font-weight: bold\">{</span><span style=\"color: #008000; text-decoration-color: #008000\">'R-R9'</span>: <span style=\"color: #008080; text-decoration-color: #008080; font-weight: bold\">288698</span><span style=\"font-weight: bold\">}</span>,\n",
       "    <span style=\"color: #800080; text-decoration-color: #800080; font-weight: bold\">N</span><span style=\"font-weight: bold\">(</span>R-R192<span style=\"font-weight: bold\">)</span>: <span style=\"font-weight: bold\">{</span><span style=\"color: #008000; text-decoration-color: #008000\">'R-R9'</span>: <span style=\"color: #008080; text-decoration-color: #008080; font-weight: bold\">290664</span><span style=\"font-weight: bold\">}</span>,\n",
       "    <span style=\"color: #800080; text-decoration-color: #800080; font-weight: bold\">N</span><span style=\"font-weight: bold\">(</span>R-R193<span style=\"font-weight: bold\">)</span>: <span style=\"font-weight: bold\">{</span><span style=\"color: #008000; text-decoration-color: #008000\">'R-R9'</span>: <span style=\"color: #008080; text-decoration-color: #008080; font-weight: bold\">432642</span><span style=\"font-weight: bold\">}</span>,\n",
       "    <span style=\"color: #800080; text-decoration-color: #800080; font-weight: bold\">N</span><span style=\"font-weight: bold\">(</span>R-R194<span style=\"font-weight: bold\">)</span>: <span style=\"font-weight: bold\">{</span><span style=\"color: #008000; text-decoration-color: #008000\">'R-R9'</span>: <span style=\"color: #008080; text-decoration-color: #008080; font-weight: bold\">425434</span><span style=\"font-weight: bold\">}</span>,\n",
       "    <span style=\"color: #800080; text-decoration-color: #800080; font-weight: bold\">N</span><span style=\"font-weight: bold\">(</span>R-R195<span style=\"font-weight: bold\">)</span>: <span style=\"font-weight: bold\">{</span><span style=\"color: #008000; text-decoration-color: #008000\">'R-R9'</span>: <span style=\"color: #008080; text-decoration-color: #008080; font-weight: bold\">197930</span><span style=\"font-weight: bold\">}</span>,\n",
       "    <span style=\"color: #800080; text-decoration-color: #800080; font-weight: bold\">N</span><span style=\"font-weight: bold\">(</span>R-R196<span style=\"font-weight: bold\">)</span>: <span style=\"font-weight: bold\">{</span><span style=\"color: #008000; text-decoration-color: #008000\">'R-R9'</span>: <span style=\"color: #008080; text-decoration-color: #008080; font-weight: bold\">191228</span><span style=\"font-weight: bold\">}</span>,\n",
       "    <span style=\"color: #800080; text-decoration-color: #800080; font-weight: bold\">N</span><span style=\"font-weight: bold\">(</span>R-R197<span style=\"font-weight: bold\">)</span>: <span style=\"font-weight: bold\">{</span><span style=\"color: #008000; text-decoration-color: #008000\">'R-R9'</span>: <span style=\"color: #008080; text-decoration-color: #008080; font-weight: bold\">193322</span><span style=\"font-weight: bold\">}</span>,\n",
       "    <span style=\"color: #800080; text-decoration-color: #800080; font-weight: bold\">N</span><span style=\"font-weight: bold\">(</span>R-R198<span style=\"font-weight: bold\">)</span>: <span style=\"font-weight: bold\">{</span><span style=\"color: #008000; text-decoration-color: #008000\">'R-R9'</span>: <span style=\"color: #008080; text-decoration-color: #008080; font-weight: bold\">196633</span><span style=\"font-weight: bold\">}</span>,\n",
       "    <span style=\"color: #800080; text-decoration-color: #800080; font-weight: bold\">N</span><span style=\"font-weight: bold\">(</span>R-R199<span style=\"font-weight: bold\">)</span>: <span style=\"font-weight: bold\">{</span><span style=\"color: #008000; text-decoration-color: #008000\">'R-R9'</span>: <span style=\"color: #008080; text-decoration-color: #008080; font-weight: bold\">297625</span><span style=\"font-weight: bold\">}</span>,\n",
       "    <span style=\"color: #800080; text-decoration-color: #800080; font-weight: bold\">N</span><span style=\"font-weight: bold\">(</span>R-R200<span style=\"font-weight: bold\">)</span>: <span style=\"font-weight: bold\">{</span><span style=\"color: #008000; text-decoration-color: #008000\">'R-R9'</span>: <span style=\"color: #008080; text-decoration-color: #008080; font-weight: bold\">293070</span><span style=\"font-weight: bold\">}</span>,\n",
       "    <span style=\"color: #800080; text-decoration-color: #800080; font-weight: bold\">N</span><span style=\"font-weight: bold\">(</span>R-R201<span style=\"font-weight: bold\">)</span>: <span style=\"font-weight: bold\">{</span><span style=\"color: #008000; text-decoration-color: #008000\">'R-R9'</span>: <span style=\"color: #008080; text-decoration-color: #008080; font-weight: bold\">308835</span><span style=\"font-weight: bold\">}</span>,\n",
       "    <span style=\"color: #800080; text-decoration-color: #800080; font-weight: bold\">N</span><span style=\"font-weight: bold\">(</span>R-R202<span style=\"font-weight: bold\">)</span>: <span style=\"font-weight: bold\">{</span><span style=\"color: #008000; text-decoration-color: #008000\">'R-R9'</span>: <span style=\"color: #008080; text-decoration-color: #008080; font-weight: bold\">309705</span><span style=\"font-weight: bold\">}</span>,\n",
       "    <span style=\"color: #800080; text-decoration-color: #800080; font-weight: bold\">N</span><span style=\"font-weight: bold\">(</span>R-R203<span style=\"font-weight: bold\">)</span>: <span style=\"font-weight: bold\">{</span><span style=\"color: #008000; text-decoration-color: #008000\">'R-R9'</span>: <span style=\"color: #008080; text-decoration-color: #008080; font-weight: bold\">313405</span><span style=\"font-weight: bold\">}</span>,\n",
       "    <span style=\"color: #800080; text-decoration-color: #800080; font-weight: bold\">N</span><span style=\"font-weight: bold\">(</span>R-R204<span style=\"font-weight: bold\">)</span>: <span style=\"font-weight: bold\">{</span><span style=\"color: #008000; text-decoration-color: #008000\">'R-R9'</span>: <span style=\"color: #008080; text-decoration-color: #008080; font-weight: bold\">273539</span><span style=\"font-weight: bold\">}</span>,\n",
       "    <span style=\"color: #800080; text-decoration-color: #800080; font-weight: bold\">N</span><span style=\"font-weight: bold\">(</span>R-R205<span style=\"font-weight: bold\">)</span>: <span style=\"font-weight: bold\">{</span><span style=\"color: #008000; text-decoration-color: #008000\">'R-R9'</span>: <span style=\"color: #008080; text-decoration-color: #008080; font-weight: bold\">244252</span><span style=\"font-weight: bold\">}</span>,\n",
       "    <span style=\"color: #800080; text-decoration-color: #800080; font-weight: bold\">N</span><span style=\"font-weight: bold\">(</span>R-R206<span style=\"font-weight: bold\">)</span>: <span style=\"font-weight: bold\">{</span><span style=\"color: #008000; text-decoration-color: #008000\">'R-R9'</span>: <span style=\"color: #008080; text-decoration-color: #008080; font-weight: bold\">234768</span><span style=\"font-weight: bold\">}</span>,\n",
       "    <span style=\"color: #800080; text-decoration-color: #800080; font-weight: bold\">N</span><span style=\"font-weight: bold\">(</span>R-R207<span style=\"font-weight: bold\">)</span>: <span style=\"font-weight: bold\">{</span><span style=\"color: #008000; text-decoration-color: #008000\">'R-R9'</span>: <span style=\"color: #008080; text-decoration-color: #008080; font-weight: bold\">244295</span><span style=\"font-weight: bold\">}</span>,\n",
       "    <span style=\"color: #800080; text-decoration-color: #800080; font-weight: bold\">N</span><span style=\"font-weight: bold\">(</span>R-R208<span style=\"font-weight: bold\">)</span>: <span style=\"font-weight: bold\">{</span><span style=\"color: #008000; text-decoration-color: #008000\">'R-R9'</span>: <span style=\"color: #008080; text-decoration-color: #008080; font-weight: bold\">233345</span><span style=\"font-weight: bold\">}</span>,\n",
       "    <span style=\"color: #800080; text-decoration-color: #800080; font-weight: bold\">N</span><span style=\"font-weight: bold\">(</span>R-R209<span style=\"font-weight: bold\">)</span>: <span style=\"font-weight: bold\">{</span><span style=\"color: #008000; text-decoration-color: #008000\">'R-R9'</span>: <span style=\"color: #008080; text-decoration-color: #008080; font-weight: bold\">170921</span><span style=\"font-weight: bold\">}</span>,\n",
       "    <span style=\"color: #800080; text-decoration-color: #800080; font-weight: bold\">N</span><span style=\"font-weight: bold\">(</span>R-R210<span style=\"font-weight: bold\">)</span>: <span style=\"font-weight: bold\">{</span><span style=\"color: #008000; text-decoration-color: #008000\">'R-R9'</span>: <span style=\"color: #008080; text-decoration-color: #008080; font-weight: bold\">166573</span><span style=\"font-weight: bold\">}</span>,\n",
       "    <span style=\"color: #800080; text-decoration-color: #800080; font-weight: bold\">N</span><span style=\"font-weight: bold\">(</span>R-R211<span style=\"font-weight: bold\">)</span>: <span style=\"font-weight: bold\">{</span><span style=\"color: #008000; text-decoration-color: #008000\">'R-R9'</span>: <span style=\"color: #008080; text-decoration-color: #008080; font-weight: bold\">313088</span><span style=\"font-weight: bold\">}</span>,\n",
       "    <span style=\"color: #800080; text-decoration-color: #800080; font-weight: bold\">N</span><span style=\"font-weight: bold\">(</span>R-R212<span style=\"font-weight: bold\">)</span>: <span style=\"font-weight: bold\">{</span><span style=\"color: #008000; text-decoration-color: #008000\">'R-R9'</span>: <span style=\"color: #008080; text-decoration-color: #008080; font-weight: bold\">314679</span><span style=\"font-weight: bold\">}</span>,\n",
       "    <span style=\"color: #800080; text-decoration-color: #800080; font-weight: bold\">N</span><span style=\"font-weight: bold\">(</span>R-R213<span style=\"font-weight: bold\">)</span>: <span style=\"font-weight: bold\">{</span><span style=\"color: #008000; text-decoration-color: #008000\">'R-R9'</span>: <span style=\"color: #008080; text-decoration-color: #008080; font-weight: bold\">380013</span><span style=\"font-weight: bold\">}</span>,\n",
       "    <span style=\"color: #800080; text-decoration-color: #800080; font-weight: bold\">N</span><span style=\"font-weight: bold\">(</span>R-R214<span style=\"font-weight: bold\">)</span>: <span style=\"font-weight: bold\">{</span><span style=\"color: #008000; text-decoration-color: #008000\">'R-R9'</span>: <span style=\"color: #008080; text-decoration-color: #008080; font-weight: bold\">363007</span><span style=\"font-weight: bold\">}</span>,\n",
       "    <span style=\"color: #800080; text-decoration-color: #800080; font-weight: bold\">N</span><span style=\"font-weight: bold\">(</span>R-R215<span style=\"font-weight: bold\">)</span>: <span style=\"font-weight: bold\">{</span><span style=\"color: #008000; text-decoration-color: #008000\">'R-R9'</span>: <span style=\"color: #008080; text-decoration-color: #008080; font-weight: bold\">471874</span><span style=\"font-weight: bold\">}</span>,\n",
       "    <span style=\"color: #800080; text-decoration-color: #800080; font-weight: bold\">N</span><span style=\"font-weight: bold\">(</span>R-R216<span style=\"font-weight: bold\">)</span>: <span style=\"font-weight: bold\">{</span><span style=\"color: #008000; text-decoration-color: #008000\">'R-R9'</span>: <span style=\"color: #008080; text-decoration-color: #008080; font-weight: bold\">495793</span><span style=\"font-weight: bold\">}</span>,\n",
       "    <span style=\"color: #800080; text-decoration-color: #800080; font-weight: bold\">N</span><span style=\"font-weight: bold\">(</span>R-R217<span style=\"font-weight: bold\">)</span>: <span style=\"font-weight: bold\">{</span><span style=\"color: #008000; text-decoration-color: #008000\">'R-R9'</span>: <span style=\"color: #008080; text-decoration-color: #008080; font-weight: bold\">501967</span><span style=\"font-weight: bold\">}</span>,\n",
       "    <span style=\"color: #800080; text-decoration-color: #800080; font-weight: bold\">N</span><span style=\"font-weight: bold\">(</span>R-R218<span style=\"font-weight: bold\">)</span>: <span style=\"font-weight: bold\">{</span><span style=\"color: #008000; text-decoration-color: #008000\">'R-R9'</span>: <span style=\"color: #008080; text-decoration-color: #008080; font-weight: bold\">572211</span><span style=\"font-weight: bold\">}</span>,\n",
       "    <span style=\"color: #800080; text-decoration-color: #800080; font-weight: bold\">N</span><span style=\"font-weight: bold\">(</span>R-R219<span style=\"font-weight: bold\">)</span>: <span style=\"font-weight: bold\">{</span><span style=\"color: #008000; text-decoration-color: #008000\">'R-R9'</span>: <span style=\"color: #008080; text-decoration-color: #008080; font-weight: bold\">291092</span><span style=\"font-weight: bold\">}</span>,\n",
       "    <span style=\"color: #800080; text-decoration-color: #800080; font-weight: bold\">N</span><span style=\"font-weight: bold\">(</span>R-R220<span style=\"font-weight: bold\">)</span>: <span style=\"font-weight: bold\">{</span><span style=\"color: #008000; text-decoration-color: #008000\">'R-R9'</span>: <span style=\"color: #008080; text-decoration-color: #008080; font-weight: bold\">297359</span><span style=\"font-weight: bold\">}</span>,\n",
       "    <span style=\"color: #800080; text-decoration-color: #800080; font-weight: bold\">N</span><span style=\"font-weight: bold\">(</span>R-R221<span style=\"font-weight: bold\">)</span>: <span style=\"font-weight: bold\">{</span><span style=\"color: #008000; text-decoration-color: #008000\">'R-R9'</span>: <span style=\"color: #008080; text-decoration-color: #008080; font-weight: bold\">297541</span><span style=\"font-weight: bold\">}</span>,\n",
       "    <span style=\"color: #800080; text-decoration-color: #800080; font-weight: bold\">N</span><span style=\"font-weight: bold\">(</span>R-R222<span style=\"font-weight: bold\">)</span>: <span style=\"font-weight: bold\">{</span><span style=\"color: #008000; text-decoration-color: #008000\">'R-R9'</span>: <span style=\"color: #008080; text-decoration-color: #008080; font-weight: bold\">414374</span><span style=\"font-weight: bold\">}</span>,\n",
       "    <span style=\"color: #800080; text-decoration-color: #800080; font-weight: bold\">N</span><span style=\"font-weight: bold\">(</span>R-R223<span style=\"font-weight: bold\">)</span>: <span style=\"font-weight: bold\">{</span><span style=\"color: #008000; text-decoration-color: #008000\">'R-R9'</span>: <span style=\"color: #008080; text-decoration-color: #008080; font-weight: bold\">363918</span><span style=\"font-weight: bold\">}</span>,\n",
       "    <span style=\"color: #800080; text-decoration-color: #800080; font-weight: bold\">N</span><span style=\"font-weight: bold\">(</span>R-R224<span style=\"font-weight: bold\">)</span>: <span style=\"font-weight: bold\">{</span><span style=\"color: #008000; text-decoration-color: #008000\">'R-R9'</span>: <span style=\"color: #008080; text-decoration-color: #008080; font-weight: bold\">351156</span><span style=\"font-weight: bold\">}</span>,\n",
       "    <span style=\"color: #800080; text-decoration-color: #800080; font-weight: bold\">N</span><span style=\"font-weight: bold\">(</span>R-R225<span style=\"font-weight: bold\">)</span>: <span style=\"font-weight: bold\">{</span><span style=\"color: #008000; text-decoration-color: #008000\">'R-R9'</span>: <span style=\"color: #008080; text-decoration-color: #008080; font-weight: bold\">273023</span><span style=\"font-weight: bold\">}</span>,\n",
       "    <span style=\"color: #800080; text-decoration-color: #800080; font-weight: bold\">N</span><span style=\"font-weight: bold\">(</span>R-R226<span style=\"font-weight: bold\">)</span>: <span style=\"font-weight: bold\">{</span><span style=\"color: #008000; text-decoration-color: #008000\">'R-R9'</span>: <span style=\"color: #008080; text-decoration-color: #008080; font-weight: bold\">263543</span><span style=\"font-weight: bold\">}</span>,\n",
       "    <span style=\"color: #800080; text-decoration-color: #800080; font-weight: bold\">N</span><span style=\"font-weight: bold\">(</span>R-R227<span style=\"font-weight: bold\">)</span>: <span style=\"font-weight: bold\">{</span><span style=\"color: #008000; text-decoration-color: #008000\">'R-R9'</span>: <span style=\"color: #008080; text-decoration-color: #008080; font-weight: bold\">300426</span><span style=\"font-weight: bold\">}</span>,\n",
       "    <span style=\"color: #800080; text-decoration-color: #800080; font-weight: bold\">N</span><span style=\"font-weight: bold\">(</span>R-R228<span style=\"font-weight: bold\">)</span>: <span style=\"font-weight: bold\">{</span><span style=\"color: #008000; text-decoration-color: #008000\">'R-R9'</span>: <span style=\"color: #008080; text-decoration-color: #008080; font-weight: bold\">401213</span><span style=\"font-weight: bold\">}</span>,\n",
       "    <span style=\"color: #800080; text-decoration-color: #800080; font-weight: bold\">N</span><span style=\"font-weight: bold\">(</span>R-R229<span style=\"font-weight: bold\">)</span>: <span style=\"font-weight: bold\">{</span><span style=\"color: #008000; text-decoration-color: #008000\">'R-R9'</span>: <span style=\"color: #008080; text-decoration-color: #008080; font-weight: bold\">314907</span><span style=\"font-weight: bold\">}</span>,\n",
       "    <span style=\"color: #800080; text-decoration-color: #800080; font-weight: bold\">N</span><span style=\"font-weight: bold\">(</span>R-R230<span style=\"font-weight: bold\">)</span>: <span style=\"font-weight: bold\">{</span><span style=\"color: #008000; text-decoration-color: #008000\">'R-R9'</span>: <span style=\"color: #008080; text-decoration-color: #008080; font-weight: bold\">425763</span><span style=\"font-weight: bold\">}</span>,\n",
       "    <span style=\"color: #800080; text-decoration-color: #800080; font-weight: bold\">N</span><span style=\"font-weight: bold\">(</span>R-R231<span style=\"font-weight: bold\">)</span>: <span style=\"font-weight: bold\">{</span><span style=\"color: #008000; text-decoration-color: #008000\">'R-R9'</span>: <span style=\"color: #008080; text-decoration-color: #008080; font-weight: bold\">346817</span><span style=\"font-weight: bold\">}</span>,\n",
       "    <span style=\"color: #800080; text-decoration-color: #800080; font-weight: bold\">N</span><span style=\"font-weight: bold\">(</span>R-R232<span style=\"font-weight: bold\">)</span>: <span style=\"font-weight: bold\">{</span><span style=\"color: #008000; text-decoration-color: #008000\">'R-R9'</span>: <span style=\"color: #008080; text-decoration-color: #008080; font-weight: bold\">615018</span><span style=\"font-weight: bold\">}</span>,\n",
       "    <span style=\"color: #800080; text-decoration-color: #800080; font-weight: bold\">N</span><span style=\"font-weight: bold\">(</span>R-R233<span style=\"font-weight: bold\">)</span>: <span style=\"font-weight: bold\">{</span><span style=\"color: #008000; text-decoration-color: #008000\">'R-R9'</span>: <span style=\"color: #008080; text-decoration-color: #008080; font-weight: bold\">640166</span><span style=\"font-weight: bold\">}</span>,\n",
       "    <span style=\"color: #800080; text-decoration-color: #800080; font-weight: bold\">N</span><span style=\"font-weight: bold\">(</span>R-R234<span style=\"font-weight: bold\">)</span>: <span style=\"font-weight: bold\">{</span><span style=\"color: #008000; text-decoration-color: #008000\">'R-R9'</span>: <span style=\"color: #008080; text-decoration-color: #008080; font-weight: bold\">454145</span><span style=\"font-weight: bold\">}</span>,\n",
       "    <span style=\"color: #800080; text-decoration-color: #800080; font-weight: bold\">N</span><span style=\"font-weight: bold\">(</span>R-R235<span style=\"font-weight: bold\">)</span>: <span style=\"font-weight: bold\">{</span><span style=\"color: #008000; text-decoration-color: #008000\">'R-R9'</span>: <span style=\"color: #008080; text-decoration-color: #008080; font-weight: bold\">530416</span><span style=\"font-weight: bold\">}</span>,\n",
       "    <span style=\"color: #800080; text-decoration-color: #800080; font-weight: bold\">N</span><span style=\"font-weight: bold\">(</span>R-R236<span style=\"font-weight: bold\">)</span>: <span style=\"font-weight: bold\">{</span><span style=\"color: #008000; text-decoration-color: #008000\">'R-R9'</span>: <span style=\"color: #008080; text-decoration-color: #008080; font-weight: bold\">468946</span><span style=\"font-weight: bold\">}</span>,\n",
       "    <span style=\"color: #800080; text-decoration-color: #800080; font-weight: bold\">N</span><span style=\"font-weight: bold\">(</span>R-R237<span style=\"font-weight: bold\">)</span>: <span style=\"font-weight: bold\">{</span><span style=\"color: #008000; text-decoration-color: #008000\">'R-R9'</span>: <span style=\"color: #008080; text-decoration-color: #008080; font-weight: bold\">645504</span><span style=\"font-weight: bold\">}</span>,\n",
       "    <span style=\"color: #800080; text-decoration-color: #800080; font-weight: bold\">N</span><span style=\"font-weight: bold\">(</span>R-R238<span style=\"font-weight: bold\">)</span>: <span style=\"font-weight: bold\">{</span><span style=\"color: #008000; text-decoration-color: #008000\">'R-R9'</span>: <span style=\"color: #008080; text-decoration-color: #008080; font-weight: bold\">287848</span><span style=\"font-weight: bold\">}</span>,\n",
       "    <span style=\"color: #800080; text-decoration-color: #800080; font-weight: bold\">N</span><span style=\"font-weight: bold\">(</span>R-R239<span style=\"font-weight: bold\">)</span>: <span style=\"font-weight: bold\">{</span><span style=\"color: #008000; text-decoration-color: #008000\">'R-R9'</span>: <span style=\"color: #008080; text-decoration-color: #008080; font-weight: bold\">499883</span><span style=\"font-weight: bold\">}</span>,\n",
       "    <span style=\"color: #800080; text-decoration-color: #800080; font-weight: bold\">N</span><span style=\"font-weight: bold\">(</span>R-R240<span style=\"font-weight: bold\">)</span>: <span style=\"font-weight: bold\">{</span><span style=\"color: #008000; text-decoration-color: #008000\">'R-R9'</span>: <span style=\"color: #008080; text-decoration-color: #008080; font-weight: bold\">434818</span><span style=\"font-weight: bold\">}</span>,\n",
       "    <span style=\"color: #800080; text-decoration-color: #800080; font-weight: bold\">N</span><span style=\"font-weight: bold\">(</span>R-R241<span style=\"font-weight: bold\">)</span>: <span style=\"font-weight: bold\">{</span><span style=\"color: #008000; text-decoration-color: #008000\">'R-R9'</span>: <span style=\"color: #008080; text-decoration-color: #008080; font-weight: bold\">378390</span><span style=\"font-weight: bold\">}</span>,\n",
       "    <span style=\"color: #800080; text-decoration-color: #800080; font-weight: bold\">N</span><span style=\"font-weight: bold\">(</span>R-R242<span style=\"font-weight: bold\">)</span>: <span style=\"font-weight: bold\">{</span><span style=\"color: #008000; text-decoration-color: #008000\">'R-R9'</span>: <span style=\"color: #008080; text-decoration-color: #008080; font-weight: bold\">387033</span><span style=\"font-weight: bold\">}</span>,\n",
       "    <span style=\"color: #800080; text-decoration-color: #800080; font-weight: bold\">N</span><span style=\"font-weight: bold\">(</span>R-R243<span style=\"font-weight: bold\">)</span>: <span style=\"font-weight: bold\">{</span><span style=\"color: #008000; text-decoration-color: #008000\">'R-R9'</span>: <span style=\"color: #008080; text-decoration-color: #008080; font-weight: bold\">314183</span><span style=\"font-weight: bold\">}</span>,\n",
       "    <span style=\"color: #800080; text-decoration-color: #800080; font-weight: bold\">N</span><span style=\"font-weight: bold\">(</span>R-R244<span style=\"font-weight: bold\">)</span>: <span style=\"font-weight: bold\">{</span><span style=\"color: #008000; text-decoration-color: #008000\">'R-R9'</span>: <span style=\"color: #008080; text-decoration-color: #008080; font-weight: bold\">422784</span><span style=\"font-weight: bold\">}</span>,\n",
       "    <span style=\"color: #800080; text-decoration-color: #800080; font-weight: bold\">N</span><span style=\"font-weight: bold\">(</span>R-R245<span style=\"font-weight: bold\">)</span>: <span style=\"font-weight: bold\">{</span><span style=\"color: #008000; text-decoration-color: #008000\">'R-R9'</span>: <span style=\"color: #008080; text-decoration-color: #008080; font-weight: bold\">437240</span><span style=\"font-weight: bold\">}</span>,\n",
       "    <span style=\"color: #800080; text-decoration-color: #800080; font-weight: bold\">N</span><span style=\"font-weight: bold\">(</span>R-R246<span style=\"font-weight: bold\">)</span>: <span style=\"font-weight: bold\">{</span><span style=\"color: #008000; text-decoration-color: #008000\">'R-R9'</span>: <span style=\"color: #008080; text-decoration-color: #008080; font-weight: bold\">312708</span><span style=\"font-weight: bold\">}</span>,\n",
       "    <span style=\"color: #800080; text-decoration-color: #800080; font-weight: bold\">N</span><span style=\"font-weight: bold\">(</span>R-R247<span style=\"font-weight: bold\">)</span>: <span style=\"font-weight: bold\">{</span><span style=\"color: #008000; text-decoration-color: #008000\">'R-R9'</span>: <span style=\"color: #008080; text-decoration-color: #008080; font-weight: bold\">629922</span><span style=\"font-weight: bold\">}</span>,\n",
       "    <span style=\"color: #800080; text-decoration-color: #800080; font-weight: bold\">N</span><span style=\"font-weight: bold\">(</span>R-R248<span style=\"font-weight: bold\">)</span>: <span style=\"font-weight: bold\">{</span><span style=\"color: #008000; text-decoration-color: #008000\">'R-R9'</span>: <span style=\"color: #008080; text-decoration-color: #008080; font-weight: bold\">439020</span><span style=\"font-weight: bold\">}</span>,\n",
       "    <span style=\"color: #800080; text-decoration-color: #800080; font-weight: bold\">N</span><span style=\"font-weight: bold\">(</span>R-R249<span style=\"font-weight: bold\">)</span>: <span style=\"font-weight: bold\">{</span><span style=\"color: #008000; text-decoration-color: #008000\">'R-R9'</span>: <span style=\"color: #008080; text-decoration-color: #008080; font-weight: bold\">395683</span><span style=\"font-weight: bold\">}</span>,\n",
       "    <span style=\"color: #800080; text-decoration-color: #800080; font-weight: bold\">N</span><span style=\"font-weight: bold\">(</span>R-R250<span style=\"font-weight: bold\">)</span>: <span style=\"font-weight: bold\">{</span><span style=\"color: #008000; text-decoration-color: #008000\">'R-R9'</span>: <span style=\"color: #008080; text-decoration-color: #008080; font-weight: bold\">444696</span><span style=\"font-weight: bold\">}</span>,\n",
       "    <span style=\"color: #800080; text-decoration-color: #800080; font-weight: bold\">N</span><span style=\"font-weight: bold\">(</span>R-R251<span style=\"font-weight: bold\">)</span>: <span style=\"font-weight: bold\">{</span><span style=\"color: #008000; text-decoration-color: #008000\">'R-R9'</span>: <span style=\"color: #008080; text-decoration-color: #008080; font-weight: bold\">426310</span><span style=\"font-weight: bold\">}</span>,\n",
       "    <span style=\"color: #800080; text-decoration-color: #800080; font-weight: bold\">N</span><span style=\"font-weight: bold\">(</span>R-R252<span style=\"font-weight: bold\">)</span>: <span style=\"font-weight: bold\">{</span><span style=\"color: #008000; text-decoration-color: #008000\">'R-R9'</span>: <span style=\"color: #008080; text-decoration-color: #008080; font-weight: bold\">481692</span><span style=\"font-weight: bold\">}</span>,\n",
       "    <span style=\"color: #800080; text-decoration-color: #800080; font-weight: bold\">N</span><span style=\"font-weight: bold\">(</span>R-R253<span style=\"font-weight: bold\">)</span>: <span style=\"font-weight: bold\">{</span><span style=\"color: #008000; text-decoration-color: #008000\">'R-R9'</span>: <span style=\"color: #008080; text-decoration-color: #008080; font-weight: bold\">611207</span><span style=\"font-weight: bold\">}</span>,\n",
       "    <span style=\"color: #800080; text-decoration-color: #800080; font-weight: bold\">N</span><span style=\"font-weight: bold\">(</span>R-R254<span style=\"font-weight: bold\">)</span>: <span style=\"font-weight: bold\">{</span><span style=\"color: #008000; text-decoration-color: #008000\">'R-R9'</span>: <span style=\"color: #008080; text-decoration-color: #008080; font-weight: bold\">269612</span><span style=\"font-weight: bold\">}</span>,\n",
       "    <span style=\"color: #800080; text-decoration-color: #800080; font-weight: bold\">N</span><span style=\"font-weight: bold\">(</span>R-R255<span style=\"font-weight: bold\">)</span>: <span style=\"font-weight: bold\">{</span><span style=\"color: #008000; text-decoration-color: #008000\">'R-R9'</span>: <span style=\"color: #008080; text-decoration-color: #008080; font-weight: bold\">568183</span><span style=\"font-weight: bold\">}</span>,\n",
       "    <span style=\"color: #800080; text-decoration-color: #800080; font-weight: bold\">N</span><span style=\"font-weight: bold\">(</span>R-R256<span style=\"font-weight: bold\">)</span>: <span style=\"font-weight: bold\">{</span><span style=\"color: #008000; text-decoration-color: #008000\">'R-R9'</span>: <span style=\"color: #008080; text-decoration-color: #008080; font-weight: bold\">433814</span><span style=\"font-weight: bold\">}</span>,\n",
       "    <span style=\"color: #800080; text-decoration-color: #800080; font-weight: bold\">N</span><span style=\"font-weight: bold\">(</span>R-R257<span style=\"font-weight: bold\">)</span>: <span style=\"font-weight: bold\">{</span><span style=\"color: #008000; text-decoration-color: #008000\">'R-R9'</span>: <span style=\"color: #008080; text-decoration-color: #008080; font-weight: bold\">434231</span><span style=\"font-weight: bold\">}</span>,\n",
       "    <span style=\"color: #800080; text-decoration-color: #800080; font-weight: bold\">N</span><span style=\"font-weight: bold\">(</span>R-R258<span style=\"font-weight: bold\">)</span>: <span style=\"font-weight: bold\">{</span><span style=\"color: #008000; text-decoration-color: #008000\">'R-R9'</span>: <span style=\"color: #008080; text-decoration-color: #008080; font-weight: bold\">409639</span><span style=\"font-weight: bold\">}</span>,\n",
       "    <span style=\"color: #800080; text-decoration-color: #800080; font-weight: bold\">N</span><span style=\"font-weight: bold\">(</span>R-R259<span style=\"font-weight: bold\">)</span>: <span style=\"font-weight: bold\">{</span><span style=\"color: #008000; text-decoration-color: #008000\">'R-R9'</span>: <span style=\"color: #008080; text-decoration-color: #008080; font-weight: bold\">456701</span><span style=\"font-weight: bold\">}</span>,\n",
       "    <span style=\"color: #800080; text-decoration-color: #800080; font-weight: bold\">N</span><span style=\"font-weight: bold\">(</span>R-R260<span style=\"font-weight: bold\">)</span>: <span style=\"font-weight: bold\">{</span><span style=\"color: #008000; text-decoration-color: #008000\">'R-R9'</span>: <span style=\"color: #008080; text-decoration-color: #008080; font-weight: bold\">348848</span><span style=\"font-weight: bold\">}</span>,\n",
       "    <span style=\"color: #800080; text-decoration-color: #800080; font-weight: bold\">N</span><span style=\"font-weight: bold\">(</span>R-R261<span style=\"font-weight: bold\">)</span>: <span style=\"font-weight: bold\">{</span><span style=\"color: #008000; text-decoration-color: #008000\">'R-R9'</span>: <span style=\"color: #008080; text-decoration-color: #008080; font-weight: bold\">348494</span><span style=\"font-weight: bold\">}</span>,\n",
       "    <span style=\"color: #800080; text-decoration-color: #800080; font-weight: bold\">N</span><span style=\"font-weight: bold\">(</span>R-R262<span style=\"font-weight: bold\">)</span>: <span style=\"font-weight: bold\">{</span><span style=\"color: #008000; text-decoration-color: #008000\">'R-R9'</span>: <span style=\"color: #008080; text-decoration-color: #008080; font-weight: bold\">513278</span><span style=\"font-weight: bold\">}</span>,\n",
       "    <span style=\"color: #800080; text-decoration-color: #800080; font-weight: bold\">N</span><span style=\"font-weight: bold\">(</span>R-R263<span style=\"font-weight: bold\">)</span>: <span style=\"font-weight: bold\">{</span><span style=\"color: #008000; text-decoration-color: #008000\">'R-R9'</span>: <span style=\"color: #008080; text-decoration-color: #008080; font-weight: bold\">483761</span><span style=\"font-weight: bold\">}</span>,\n",
       "    <span style=\"color: #800080; text-decoration-color: #800080; font-weight: bold\">N</span><span style=\"font-weight: bold\">(</span>R-R264<span style=\"font-weight: bold\">)</span>: <span style=\"font-weight: bold\">{</span><span style=\"color: #008000; text-decoration-color: #008000\">'R-R9'</span>: <span style=\"color: #008080; text-decoration-color: #008080; font-weight: bold\">336655</span><span style=\"font-weight: bold\">}</span>,\n",
       "    <span style=\"color: #800080; text-decoration-color: #800080; font-weight: bold\">N</span><span style=\"font-weight: bold\">(</span>R-R265<span style=\"font-weight: bold\">)</span>: <span style=\"font-weight: bold\">{</span><span style=\"color: #008000; text-decoration-color: #008000\">'R-R9'</span>: <span style=\"color: #008080; text-decoration-color: #008080; font-weight: bold\">396323</span><span style=\"font-weight: bold\">}</span>,\n",
       "    <span style=\"color: #800080; text-decoration-color: #800080; font-weight: bold\">N</span><span style=\"font-weight: bold\">(</span>R-R266<span style=\"font-weight: bold\">)</span>: <span style=\"font-weight: bold\">{</span><span style=\"color: #008000; text-decoration-color: #008000\">'R-R9'</span>: <span style=\"color: #008080; text-decoration-color: #008080; font-weight: bold\">641793</span><span style=\"font-weight: bold\">}</span>,\n",
       "    <span style=\"color: #800080; text-decoration-color: #800080; font-weight: bold\">N</span><span style=\"font-weight: bold\">(</span>R-R267<span style=\"font-weight: bold\">)</span>: <span style=\"font-weight: bold\">{</span><span style=\"color: #008000; text-decoration-color: #008000\">'R-R9'</span>: <span style=\"color: #008080; text-decoration-color: #008080; font-weight: bold\">625203</span><span style=\"font-weight: bold\">}</span>,\n",
       "    <span style=\"color: #800080; text-decoration-color: #800080; font-weight: bold\">N</span><span style=\"font-weight: bold\">(</span>R-R268<span style=\"font-weight: bold\">)</span>: <span style=\"font-weight: bold\">{</span><span style=\"color: #008000; text-decoration-color: #008000\">'R-R9'</span>: <span style=\"color: #008080; text-decoration-color: #008080; font-weight: bold\">374723</span><span style=\"font-weight: bold\">}</span>,\n",
       "    <span style=\"color: #800080; text-decoration-color: #800080; font-weight: bold\">N</span><span style=\"font-weight: bold\">(</span>R-R269<span style=\"font-weight: bold\">)</span>: <span style=\"font-weight: bold\">{</span><span style=\"color: #008000; text-decoration-color: #008000\">'R-R9'</span>: <span style=\"color: #008080; text-decoration-color: #008080; font-weight: bold\">394966</span><span style=\"font-weight: bold\">}</span>,\n",
       "    <span style=\"color: #800080; text-decoration-color: #800080; font-weight: bold\">N</span><span style=\"font-weight: bold\">(</span>R-R270<span style=\"font-weight: bold\">)</span>: <span style=\"font-weight: bold\">{</span><span style=\"color: #008000; text-decoration-color: #008000\">'R-R9'</span>: <span style=\"color: #008080; text-decoration-color: #008080; font-weight: bold\">382950</span><span style=\"font-weight: bold\">}</span>,\n",
       "    <span style=\"color: #800080; text-decoration-color: #800080; font-weight: bold\">N</span><span style=\"font-weight: bold\">(</span>R-R271<span style=\"font-weight: bold\">)</span>: <span style=\"font-weight: bold\">{</span><span style=\"color: #008000; text-decoration-color: #008000\">'R-R9'</span>: <span style=\"color: #008080; text-decoration-color: #008080; font-weight: bold\">439993</span><span style=\"font-weight: bold\">}</span>,\n",
       "    <span style=\"color: #800080; text-decoration-color: #800080; font-weight: bold\">N</span><span style=\"font-weight: bold\">(</span>R-R272<span style=\"font-weight: bold\">)</span>: <span style=\"font-weight: bold\">{</span><span style=\"color: #008000; text-decoration-color: #008000\">'R-R9'</span>: <span style=\"color: #008080; text-decoration-color: #008080; font-weight: bold\">471264</span><span style=\"font-weight: bold\">}</span>,\n",
       "    <span style=\"color: #800080; text-decoration-color: #800080; font-weight: bold\">N</span><span style=\"font-weight: bold\">(</span>R-R273<span style=\"font-weight: bold\">)</span>: <span style=\"font-weight: bold\">{</span><span style=\"color: #008000; text-decoration-color: #008000\">'R-R9'</span>: <span style=\"color: #008080; text-decoration-color: #008080; font-weight: bold\">632056</span><span style=\"font-weight: bold\">}</span>,\n",
       "    <span style=\"color: #800080; text-decoration-color: #800080; font-weight: bold\">N</span><span style=\"font-weight: bold\">(</span>R-R274<span style=\"font-weight: bold\">)</span>: <span style=\"font-weight: bold\">{</span><span style=\"color: #008000; text-decoration-color: #008000\">'R-R9'</span>: <span style=\"color: #008080; text-decoration-color: #008080; font-weight: bold\">412608</span><span style=\"font-weight: bold\">}</span>,\n",
       "    <span style=\"color: #800080; text-decoration-color: #800080; font-weight: bold\">N</span><span style=\"font-weight: bold\">(</span>R-R275<span style=\"font-weight: bold\">)</span>: <span style=\"font-weight: bold\">{</span><span style=\"color: #008000; text-decoration-color: #008000\">'R-R9'</span>: <span style=\"color: #008080; text-decoration-color: #008080; font-weight: bold\">279555</span><span style=\"font-weight: bold\">}</span>,\n",
       "    <span style=\"color: #800080; text-decoration-color: #800080; font-weight: bold\">N</span><span style=\"font-weight: bold\">(</span>R-R276<span style=\"font-weight: bold\">)</span>: <span style=\"font-weight: bold\">{</span><span style=\"color: #008000; text-decoration-color: #008000\">'R-R9'</span>: <span style=\"color: #008080; text-decoration-color: #008080; font-weight: bold\">435779</span><span style=\"font-weight: bold\">}</span>,\n",
       "    <span style=\"color: #800080; text-decoration-color: #800080; font-weight: bold\">N</span><span style=\"font-weight: bold\">(</span>R-R277<span style=\"font-weight: bold\">)</span>: <span style=\"font-weight: bold\">{</span><span style=\"color: #008000; text-decoration-color: #008000\">'R-R9'</span>: <span style=\"color: #008080; text-decoration-color: #008080; font-weight: bold\">460696</span><span style=\"font-weight: bold\">}</span>,\n",
       "    <span style=\"color: #800080; text-decoration-color: #800080; font-weight: bold\">N</span><span style=\"font-weight: bold\">(</span>R-R278<span style=\"font-weight: bold\">)</span>: <span style=\"font-weight: bold\">{</span><span style=\"color: #008000; text-decoration-color: #008000\">'R-R9'</span>: <span style=\"color: #008080; text-decoration-color: #008080; font-weight: bold\">420964</span><span style=\"font-weight: bold\">}</span>,\n",
       "    <span style=\"color: #800080; text-decoration-color: #800080; font-weight: bold\">N</span><span style=\"font-weight: bold\">(</span>R-R279<span style=\"font-weight: bold\">)</span>: <span style=\"font-weight: bold\">{</span><span style=\"color: #008000; text-decoration-color: #008000\">'R-R9'</span>: <span style=\"color: #008080; text-decoration-color: #008080; font-weight: bold\">408867</span><span style=\"font-weight: bold\">}</span>,\n",
       "    <span style=\"color: #800080; text-decoration-color: #800080; font-weight: bold\">N</span><span style=\"font-weight: bold\">(</span>R-R280<span style=\"font-weight: bold\">)</span>: <span style=\"font-weight: bold\">{</span><span style=\"color: #008000; text-decoration-color: #008000\">'R-R9'</span>: <span style=\"color: #008080; text-decoration-color: #008080; font-weight: bold\">541648</span><span style=\"font-weight: bold\">}</span>,\n",
       "    <span style=\"color: #800080; text-decoration-color: #800080; font-weight: bold\">N</span><span style=\"font-weight: bold\">(</span>R-R281<span style=\"font-weight: bold\">)</span>: <span style=\"font-weight: bold\">{</span><span style=\"color: #008000; text-decoration-color: #008000\">'R-R9'</span>: <span style=\"color: #008080; text-decoration-color: #008080; font-weight: bold\">483499</span><span style=\"font-weight: bold\">}</span>,\n",
       "    <span style=\"color: #800080; text-decoration-color: #800080; font-weight: bold\">N</span><span style=\"font-weight: bold\">(</span>R-R282<span style=\"font-weight: bold\">)</span>: <span style=\"font-weight: bold\">{</span><span style=\"color: #008000; text-decoration-color: #008000\">'R-R9'</span>: <span style=\"color: #008080; text-decoration-color: #008080; font-weight: bold\">300567</span><span style=\"font-weight: bold\">}</span>,\n",
       "    <span style=\"color: #800080; text-decoration-color: #800080; font-weight: bold\">N</span><span style=\"font-weight: bold\">(</span>R-R283<span style=\"font-weight: bold\">)</span>: <span style=\"font-weight: bold\">{</span><span style=\"color: #008000; text-decoration-color: #008000\">'R-R9'</span>: <span style=\"color: #008080; text-decoration-color: #008080; font-weight: bold\">275979</span><span style=\"font-weight: bold\">}</span>,\n",
       "    <span style=\"color: #800080; text-decoration-color: #800080; font-weight: bold\">N</span><span style=\"font-weight: bold\">(</span>R-R284<span style=\"font-weight: bold\">)</span>: <span style=\"font-weight: bold\">{</span><span style=\"color: #008000; text-decoration-color: #008000\">'R-R9'</span>: <span style=\"color: #008080; text-decoration-color: #008080; font-weight: bold\">523747</span><span style=\"font-weight: bold\">}</span>,\n",
       "    <span style=\"color: #800080; text-decoration-color: #800080; font-weight: bold\">N</span><span style=\"font-weight: bold\">(</span>R-R285<span style=\"font-weight: bold\">)</span>: <span style=\"font-weight: bold\">{</span><span style=\"color: #008000; text-decoration-color: #008000\">'R-R9'</span>: <span style=\"color: #008080; text-decoration-color: #008080; font-weight: bold\">544473</span><span style=\"font-weight: bold\">}</span>,\n",
       "    <span style=\"color: #800080; text-decoration-color: #800080; font-weight: bold\">N</span><span style=\"font-weight: bold\">(</span>R-R286<span style=\"font-weight: bold\">)</span>: <span style=\"font-weight: bold\">{</span><span style=\"color: #008000; text-decoration-color: #008000\">'R-R9'</span>: <span style=\"color: #008080; text-decoration-color: #008080; font-weight: bold\">646566</span><span style=\"font-weight: bold\">}</span>,\n",
       "    <span style=\"color: #800080; text-decoration-color: #800080; font-weight: bold\">N</span><span style=\"font-weight: bold\">(</span>R-R287<span style=\"font-weight: bold\">)</span>: <span style=\"font-weight: bold\">{</span><span style=\"color: #008000; text-decoration-color: #008000\">'R-R9'</span>: <span style=\"color: #008080; text-decoration-color: #008080; font-weight: bold\">369824</span><span style=\"font-weight: bold\">}</span>,\n",
       "    <span style=\"color: #800080; text-decoration-color: #800080; font-weight: bold\">N</span><span style=\"font-weight: bold\">(</span>R-R288<span style=\"font-weight: bold\">)</span>: <span style=\"font-weight: bold\">{</span><span style=\"color: #008000; text-decoration-color: #008000\">'R-R9'</span>: <span style=\"color: #008080; text-decoration-color: #008080; font-weight: bold\">394916</span><span style=\"font-weight: bold\">}</span>,\n",
       "    <span style=\"color: #800080; text-decoration-color: #800080; font-weight: bold\">N</span><span style=\"font-weight: bold\">(</span>R-R289<span style=\"font-weight: bold\">)</span>: <span style=\"font-weight: bold\">{</span><span style=\"color: #008000; text-decoration-color: #008000\">'R-R9'</span>: <span style=\"color: #008080; text-decoration-color: #008080; font-weight: bold\">652232</span><span style=\"font-weight: bold\">}</span>,\n",
       "    <span style=\"color: #800080; text-decoration-color: #800080; font-weight: bold\">N</span><span style=\"font-weight: bold\">(</span>R-R290<span style=\"font-weight: bold\">)</span>: <span style=\"font-weight: bold\">{</span><span style=\"color: #008000; text-decoration-color: #008000\">'R-R9'</span>: <span style=\"color: #008080; text-decoration-color: #008080; font-weight: bold\">644267</span><span style=\"font-weight: bold\">}</span>,\n",
       "    <span style=\"color: #800080; text-decoration-color: #800080; font-weight: bold\">N</span><span style=\"font-weight: bold\">(</span>R-R291<span style=\"font-weight: bold\">)</span>: <span style=\"font-weight: bold\">{</span><span style=\"color: #008000; text-decoration-color: #008000\">'R-R9'</span>: <span style=\"color: #008080; text-decoration-color: #008080; font-weight: bold\">388182</span><span style=\"font-weight: bold\">}</span>,\n",
       "    <span style=\"color: #800080; text-decoration-color: #800080; font-weight: bold\">N</span><span style=\"font-weight: bold\">(</span>R-R292<span style=\"font-weight: bold\">)</span>: <span style=\"font-weight: bold\">{</span><span style=\"color: #008000; text-decoration-color: #008000\">'R-R9'</span>: <span style=\"color: #008080; text-decoration-color: #008080; font-weight: bold\">384851</span><span style=\"font-weight: bold\">}</span>,\n",
       "    <span style=\"color: #800080; text-decoration-color: #800080; font-weight: bold\">N</span><span style=\"font-weight: bold\">(</span>R-R293<span style=\"font-weight: bold\">)</span>: <span style=\"font-weight: bold\">{</span><span style=\"color: #008000; text-decoration-color: #008000\">'R-R9'</span>: <span style=\"color: #008080; text-decoration-color: #008080; font-weight: bold\">399712</span><span style=\"font-weight: bold\">}</span>,\n",
       "    <span style=\"color: #800080; text-decoration-color: #800080; font-weight: bold\">N</span><span style=\"font-weight: bold\">(</span>R-R294<span style=\"font-weight: bold\">)</span>: <span style=\"font-weight: bold\">{</span><span style=\"color: #008000; text-decoration-color: #008000\">'R-R9'</span>: <span style=\"color: #008080; text-decoration-color: #008080; font-weight: bold\">379997</span><span style=\"font-weight: bold\">}</span>,\n",
       "    <span style=\"color: #800080; text-decoration-color: #800080; font-weight: bold\">N</span><span style=\"font-weight: bold\">(</span>R-R295<span style=\"font-weight: bold\">)</span>: <span style=\"font-weight: bold\">{</span><span style=\"color: #008000; text-decoration-color: #008000\">'R-R9'</span>: <span style=\"color: #008080; text-decoration-color: #008080; font-weight: bold\">383104</span><span style=\"font-weight: bold\">}</span>,\n",
       "    <span style=\"color: #800080; text-decoration-color: #800080; font-weight: bold\">N</span><span style=\"font-weight: bold\">(</span>R-R296<span style=\"font-weight: bold\">)</span>: <span style=\"font-weight: bold\">{</span><span style=\"color: #008000; text-decoration-color: #008000\">'R-R9'</span>: <span style=\"color: #008080; text-decoration-color: #008080; font-weight: bold\">375904</span><span style=\"font-weight: bold\">}</span>,\n",
       "    <span style=\"color: #800080; text-decoration-color: #800080; font-weight: bold\">N</span><span style=\"font-weight: bold\">(</span>R-R297<span style=\"font-weight: bold\">)</span>: <span style=\"font-weight: bold\">{</span><span style=\"color: #008000; text-decoration-color: #008000\">'R-R9'</span>: <span style=\"color: #008080; text-decoration-color: #008080; font-weight: bold\">408583</span><span style=\"font-weight: bold\">}</span>,\n",
       "    <span style=\"color: #800080; text-decoration-color: #800080; font-weight: bold\">N</span><span style=\"font-weight: bold\">(</span>R-R298<span style=\"font-weight: bold\">)</span>: <span style=\"font-weight: bold\">{</span><span style=\"color: #008000; text-decoration-color: #008000\">'R-R9'</span>: <span style=\"color: #008080; text-decoration-color: #008080; font-weight: bold\">405300</span><span style=\"font-weight: bold\">}</span>,\n",
       "    <span style=\"color: #800080; text-decoration-color: #800080; font-weight: bold\">N</span><span style=\"font-weight: bold\">(</span>R-R299<span style=\"font-weight: bold\">)</span>: <span style=\"font-weight: bold\">{</span><span style=\"color: #008000; text-decoration-color: #008000\">'R-R9'</span>: <span style=\"color: #008080; text-decoration-color: #008080; font-weight: bold\">385898</span><span style=\"font-weight: bold\">}</span>\n",
       "<span style=\"font-weight: bold\">}</span>\n",
       "</pre>\n"
      ],
      "text/plain": [
       "\n",
       "\u001b[1m{\u001b[0m\n",
       "    \u001b[1;35mN\u001b[0m\u001b[1m(\u001b[0mR-R0\u001b[1m)\u001b[0m: \u001b[1m{\u001b[0m\u001b[32m'R-R9'\u001b[0m: \u001b[1;36m525260\u001b[0m\u001b[1m}\u001b[0m,\n",
       "    \u001b[1;35mN\u001b[0m\u001b[1m(\u001b[0mR-R1\u001b[1m)\u001b[0m: \u001b[1m{\u001b[0m\u001b[32m'R-R9'\u001b[0m: \u001b[1;36m297242\u001b[0m\u001b[1m}\u001b[0m,\n",
       "    \u001b[1;35mN\u001b[0m\u001b[1m(\u001b[0mR-R2\u001b[1m)\u001b[0m: \u001b[1m{\u001b[0m\u001b[32m'R-R9'\u001b[0m: \u001b[1;36m397941\u001b[0m\u001b[1m}\u001b[0m,\n",
       "    \u001b[1;35mN\u001b[0m\u001b[1m(\u001b[0mR-R3\u001b[1m)\u001b[0m: \u001b[1m{\u001b[0m\u001b[32m'R-R9'\u001b[0m: \u001b[1;36m260324\u001b[0m\u001b[1m}\u001b[0m,\n",
       "    \u001b[1;35mN\u001b[0m\u001b[1m(\u001b[0mR-R4\u001b[1m)\u001b[0m: \u001b[1m{\u001b[0m\u001b[32m'R-R9'\u001b[0m: \u001b[1;36m269634\u001b[0m\u001b[1m}\u001b[0m,\n",
       "    \u001b[1;35mN\u001b[0m\u001b[1m(\u001b[0mR-R5\u001b[1m)\u001b[0m: \u001b[1m{\u001b[0m\u001b[32m'R-R9'\u001b[0m: \u001b[1;36m167062\u001b[0m\u001b[1m}\u001b[0m,\n",
       "    \u001b[1;35mN\u001b[0m\u001b[1m(\u001b[0mR-R6\u001b[1m)\u001b[0m: \u001b[1m{\u001b[0m\u001b[32m'R-R9'\u001b[0m: \u001b[1;36m176576\u001b[0m\u001b[1m}\u001b[0m,\n",
       "    \u001b[1;35mN\u001b[0m\u001b[1m(\u001b[0mR-R7\u001b[1m)\u001b[0m: \u001b[1m{\u001b[0m\u001b[32m'R-R9'\u001b[0m: \u001b[1;36m340127\u001b[0m\u001b[1m}\u001b[0m,\n",
       "    \u001b[1;35mN\u001b[0m\u001b[1m(\u001b[0mR-R8\u001b[1m)\u001b[0m: \u001b[1m{\u001b[0m\u001b[32m'R-R9'\u001b[0m: \u001b[1;36m318077\u001b[0m\u001b[1m}\u001b[0m,\n",
       "    \u001b[1;35mN\u001b[0m\u001b[1m(\u001b[0mR-R9\u001b[1m)\u001b[0m: \u001b[1m{\u001b[0m\u001b[32m'R-R9'\u001b[0m: \u001b[1;36m469601\u001b[0m\u001b[1m}\u001b[0m,\n",
       "    \u001b[1;35mN\u001b[0m\u001b[1m(\u001b[0mR-R10\u001b[1m)\u001b[0m: \u001b[1m{\u001b[0m\u001b[32m'R-R9'\u001b[0m: \u001b[1;36m378983\u001b[0m\u001b[1m}\u001b[0m,\n",
       "    \u001b[1;35mN\u001b[0m\u001b[1m(\u001b[0mR-R11\u001b[1m)\u001b[0m: \u001b[1m{\u001b[0m\u001b[32m'R-R9'\u001b[0m: \u001b[1;36m335668\u001b[0m\u001b[1m}\u001b[0m,\n",
       "    \u001b[1;35mN\u001b[0m\u001b[1m(\u001b[0mR-R12\u001b[1m)\u001b[0m: \u001b[1m{\u001b[0m\u001b[32m'R-R9'\u001b[0m: \u001b[1;36m355765\u001b[0m\u001b[1m}\u001b[0m,\n",
       "    \u001b[1;35mN\u001b[0m\u001b[1m(\u001b[0mR-R13\u001b[1m)\u001b[0m: \u001b[1m{\u001b[0m\u001b[32m'R-R9'\u001b[0m: \u001b[1;36m409728\u001b[0m\u001b[1m}\u001b[0m,\n",
       "    \u001b[1;35mN\u001b[0m\u001b[1m(\u001b[0mR-R14\u001b[1m)\u001b[0m: \u001b[1m{\u001b[0m\u001b[32m'R-R9'\u001b[0m: \u001b[1;36m401672\u001b[0m\u001b[1m}\u001b[0m,\n",
       "    \u001b[1;35mN\u001b[0m\u001b[1m(\u001b[0mR-R15\u001b[1m)\u001b[0m: \u001b[1m{\u001b[0m\u001b[32m'R-R9'\u001b[0m: \u001b[1;36m250534\u001b[0m\u001b[1m}\u001b[0m,\n",
       "    \u001b[1;35mN\u001b[0m\u001b[1m(\u001b[0mR-R16\u001b[1m)\u001b[0m: \u001b[1m{\u001b[0m\u001b[32m'R-R9'\u001b[0m: \u001b[1;36m452917\u001b[0m\u001b[1m}\u001b[0m,\n",
       "    \u001b[1;35mN\u001b[0m\u001b[1m(\u001b[0mR-R17\u001b[1m)\u001b[0m: \u001b[1m{\u001b[0m\u001b[32m'R-R9'\u001b[0m: \u001b[1;36m504651\u001b[0m\u001b[1m}\u001b[0m,\n",
       "    \u001b[1;35mN\u001b[0m\u001b[1m(\u001b[0mR-R18\u001b[1m)\u001b[0m: \u001b[1m{\u001b[0m\u001b[32m'R-R9'\u001b[0m: \u001b[1;36m443675\u001b[0m\u001b[1m}\u001b[0m,\n",
       "    \u001b[1;35mN\u001b[0m\u001b[1m(\u001b[0mR-R19\u001b[1m)\u001b[0m: \u001b[1m{\u001b[0m\u001b[32m'R-R9'\u001b[0m: \u001b[1;36m455244\u001b[0m\u001b[1m}\u001b[0m,\n",
       "    \u001b[1;35mN\u001b[0m\u001b[1m(\u001b[0mR-R20\u001b[1m)\u001b[0m: \u001b[1m{\u001b[0m\u001b[32m'R-R9'\u001b[0m: \u001b[1;36m506675\u001b[0m\u001b[1m}\u001b[0m,\n",
       "    \u001b[1;35mN\u001b[0m\u001b[1m(\u001b[0mR-R21\u001b[1m)\u001b[0m: \u001b[1m{\u001b[0m\u001b[32m'R-R9'\u001b[0m: \u001b[1;36m391519\u001b[0m\u001b[1m}\u001b[0m,\n",
       "    \u001b[1;35mN\u001b[0m\u001b[1m(\u001b[0mR-R22\u001b[1m)\u001b[0m: \u001b[1m{\u001b[0m\u001b[32m'R-R9'\u001b[0m: \u001b[1;36m480612\u001b[0m\u001b[1m}\u001b[0m,\n",
       "    \u001b[1;35mN\u001b[0m\u001b[1m(\u001b[0mR-R23\u001b[1m)\u001b[0m: \u001b[1m{\u001b[0m\u001b[32m'R-R9'\u001b[0m: \u001b[1;36m391235\u001b[0m\u001b[1m}\u001b[0m,\n",
       "    \u001b[1;35mN\u001b[0m\u001b[1m(\u001b[0mR-R24\u001b[1m)\u001b[0m: \u001b[1m{\u001b[0m\u001b[32m'R-R9'\u001b[0m: \u001b[1;36m341402\u001b[0m\u001b[1m}\u001b[0m,\n",
       "    \u001b[1;35mN\u001b[0m\u001b[1m(\u001b[0mR-R25\u001b[1m)\u001b[0m: \u001b[1m{\u001b[0m\u001b[32m'R-R9'\u001b[0m: \u001b[1;36m316098\u001b[0m\u001b[1m}\u001b[0m,\n",
       "    \u001b[1;35mN\u001b[0m\u001b[1m(\u001b[0mR-R26\u001b[1m)\u001b[0m: \u001b[1m{\u001b[0m\u001b[32m'R-R9'\u001b[0m: \u001b[1;36m298222\u001b[0m\u001b[1m}\u001b[0m,\n",
       "    \u001b[1;35mN\u001b[0m\u001b[1m(\u001b[0mR-R27\u001b[1m)\u001b[0m: \u001b[1m{\u001b[0m\u001b[32m'R-R9'\u001b[0m: \u001b[1;36m283708\u001b[0m\u001b[1m}\u001b[0m,\n",
       "    \u001b[1;35mN\u001b[0m\u001b[1m(\u001b[0mR-R28\u001b[1m)\u001b[0m: \u001b[1m{\u001b[0m\u001b[32m'R-R9'\u001b[0m: \u001b[1;36m362781\u001b[0m\u001b[1m}\u001b[0m,\n",
       "    \u001b[1;35mN\u001b[0m\u001b[1m(\u001b[0mR-R29\u001b[1m)\u001b[0m: \u001b[1m{\u001b[0m\u001b[32m'R-R9'\u001b[0m: \u001b[1;36m330183\u001b[0m\u001b[1m}\u001b[0m,\n",
       "    \u001b[1;35mN\u001b[0m\u001b[1m(\u001b[0mR-R30\u001b[1m)\u001b[0m: \u001b[1m{\u001b[0m\u001b[32m'R-R9'\u001b[0m: \u001b[1;36m451235\u001b[0m\u001b[1m}\u001b[0m,\n",
       "    \u001b[1;35mN\u001b[0m\u001b[1m(\u001b[0mR-R31\u001b[1m)\u001b[0m: \u001b[1m{\u001b[0m\u001b[32m'R-R9'\u001b[0m: \u001b[1;36m489188\u001b[0m\u001b[1m}\u001b[0m,\n",
       "    \u001b[1;35mN\u001b[0m\u001b[1m(\u001b[0mR-R32\u001b[1m)\u001b[0m: \u001b[1m{\u001b[0m\u001b[32m'R-R9'\u001b[0m: \u001b[1;36m389700\u001b[0m\u001b[1m}\u001b[0m,\n",
       "    \u001b[1;35mN\u001b[0m\u001b[1m(\u001b[0mR-R33\u001b[1m)\u001b[0m: \u001b[1m{\u001b[0m\u001b[32m'R-R9'\u001b[0m: \u001b[1;36m362636\u001b[0m\u001b[1m}\u001b[0m,\n",
       "    \u001b[1;35mN\u001b[0m\u001b[1m(\u001b[0mR-R34\u001b[1m)\u001b[0m: \u001b[1m{\u001b[0m\u001b[32m'R-R9'\u001b[0m: \u001b[1;36m376072\u001b[0m\u001b[1m}\u001b[0m,\n",
       "    \u001b[1;35mN\u001b[0m\u001b[1m(\u001b[0mR-R35\u001b[1m)\u001b[0m: \u001b[1m{\u001b[0m\u001b[32m'R-R9'\u001b[0m: \u001b[1;36m466822\u001b[0m\u001b[1m}\u001b[0m,\n",
       "    \u001b[1;35mN\u001b[0m\u001b[1m(\u001b[0mR-R36\u001b[1m)\u001b[0m: \u001b[1m{\u001b[0m\u001b[32m'R-R9'\u001b[0m: \u001b[1;36m277075\u001b[0m\u001b[1m}\u001b[0m,\n",
       "    \u001b[1;35mN\u001b[0m\u001b[1m(\u001b[0mR-R37\u001b[1m)\u001b[0m: \u001b[1m{\u001b[0m\u001b[32m'R-R9'\u001b[0m: \u001b[1;36m336636\u001b[0m\u001b[1m}\u001b[0m,\n",
       "    \u001b[1;35mN\u001b[0m\u001b[1m(\u001b[0mR-R38\u001b[1m)\u001b[0m: \u001b[1m{\u001b[0m\u001b[32m'R-R9'\u001b[0m: \u001b[1;36m212425\u001b[0m\u001b[1m}\u001b[0m,\n",
       "    \u001b[1;35mN\u001b[0m\u001b[1m(\u001b[0mR-R39\u001b[1m)\u001b[0m: \u001b[1m{\u001b[0m\u001b[32m'R-R9'\u001b[0m: \u001b[1;36m491013\u001b[0m\u001b[1m}\u001b[0m,\n",
       "    \u001b[1;35mN\u001b[0m\u001b[1m(\u001b[0mR-R40\u001b[1m)\u001b[0m: \u001b[1m{\u001b[0m\u001b[32m'R-R9'\u001b[0m: \u001b[1;36m394164\u001b[0m\u001b[1m}\u001b[0m,\n",
       "    \u001b[1;35mN\u001b[0m\u001b[1m(\u001b[0mR-R41\u001b[1m)\u001b[0m: \u001b[1m{\u001b[0m\u001b[32m'R-R9'\u001b[0m: \u001b[1;36m408936\u001b[0m\u001b[1m}\u001b[0m,\n",
       "    \u001b[1;35mN\u001b[0m\u001b[1m(\u001b[0mR-R42\u001b[1m)\u001b[0m: \u001b[1m{\u001b[0m\u001b[32m'R-R9'\u001b[0m: \u001b[1;36m382331\u001b[0m\u001b[1m}\u001b[0m,\n",
       "    \u001b[1;35mN\u001b[0m\u001b[1m(\u001b[0mR-R43\u001b[1m)\u001b[0m: \u001b[1m{\u001b[0m\u001b[32m'R-R9'\u001b[0m: \u001b[1;36m385744\u001b[0m\u001b[1m}\u001b[0m,\n",
       "    \u001b[1;35mN\u001b[0m\u001b[1m(\u001b[0mR-R44\u001b[1m)\u001b[0m: \u001b[1m{\u001b[0m\u001b[32m'R-R9'\u001b[0m: \u001b[1;36m386711\u001b[0m\u001b[1m}\u001b[0m,\n",
       "    \u001b[1;35mN\u001b[0m\u001b[1m(\u001b[0mR-R45\u001b[1m)\u001b[0m: \u001b[1m{\u001b[0m\u001b[32m'R-R9'\u001b[0m: \u001b[1;36m383424\u001b[0m\u001b[1m}\u001b[0m,\n",
       "    \u001b[1;35mN\u001b[0m\u001b[1m(\u001b[0mR-R46\u001b[1m)\u001b[0m: \u001b[1m{\u001b[0m\u001b[32m'R-R9'\u001b[0m: \u001b[1;36m415258\u001b[0m\u001b[1m}\u001b[0m,\n",
       "    \u001b[1;35mN\u001b[0m\u001b[1m(\u001b[0mR-R47\u001b[1m)\u001b[0m: \u001b[1m{\u001b[0m\u001b[32m'R-R9'\u001b[0m: \u001b[1;36m366894\u001b[0m\u001b[1m}\u001b[0m,\n",
       "    \u001b[1;35mN\u001b[0m\u001b[1m(\u001b[0mR-R48\u001b[1m)\u001b[0m: \u001b[1m{\u001b[0m\u001b[32m'R-R9'\u001b[0m: \u001b[1;36m371444\u001b[0m\u001b[1m}\u001b[0m,\n",
       "    \u001b[1;35mN\u001b[0m\u001b[1m(\u001b[0mR-R49\u001b[1m)\u001b[0m: \u001b[1m{\u001b[0m\u001b[32m'R-R9'\u001b[0m: \u001b[1;36m522368\u001b[0m\u001b[1m}\u001b[0m,\n",
       "    \u001b[1;35mN\u001b[0m\u001b[1m(\u001b[0mR-R50\u001b[1m)\u001b[0m: \u001b[1m{\u001b[0m\u001b[32m'R-R9'\u001b[0m: \u001b[1;36m489781\u001b[0m\u001b[1m}\u001b[0m,\n",
       "    \u001b[1;35mN\u001b[0m\u001b[1m(\u001b[0mR-R51\u001b[1m)\u001b[0m: \u001b[1m{\u001b[0m\u001b[32m'R-R9'\u001b[0m: \u001b[1;36m126652\u001b[0m\u001b[1m}\u001b[0m,\n",
       "    \u001b[1;35mN\u001b[0m\u001b[1m(\u001b[0mR-R52\u001b[1m)\u001b[0m: \u001b[1m{\u001b[0m\u001b[32m'R-R9'\u001b[0m: \u001b[1;36m125812\u001b[0m\u001b[1m}\u001b[0m,\n",
       "    \u001b[1;35mN\u001b[0m\u001b[1m(\u001b[0mR-R53\u001b[1m)\u001b[0m: \u001b[1m{\u001b[0m\u001b[32m'R-R9'\u001b[0m: \u001b[1;36m274692\u001b[0m\u001b[1m}\u001b[0m,\n",
       "    \u001b[1;35mN\u001b[0m\u001b[1m(\u001b[0mR-R54\u001b[1m)\u001b[0m: \u001b[1m{\u001b[0m\u001b[32m'R-R9'\u001b[0m: \u001b[1;36m235265\u001b[0m\u001b[1m}\u001b[0m,\n",
       "    \u001b[1;35mN\u001b[0m\u001b[1m(\u001b[0mR-R55\u001b[1m)\u001b[0m: \u001b[1m{\u001b[0m\u001b[32m'R-R9'\u001b[0m: \u001b[1;36m200519\u001b[0m\u001b[1m}\u001b[0m,\n",
       "    \u001b[1;35mN\u001b[0m\u001b[1m(\u001b[0mR-R56\u001b[1m)\u001b[0m: \u001b[1m{\u001b[0m\u001b[32m'R-R9'\u001b[0m: \u001b[1;36m404735\u001b[0m\u001b[1m}\u001b[0m,\n",
       "    \u001b[1;35mN\u001b[0m\u001b[1m(\u001b[0mR-R57\u001b[1m)\u001b[0m: \u001b[1m{\u001b[0m\u001b[32m'R-R9'\u001b[0m: \u001b[1;36m441874\u001b[0m\u001b[1m}\u001b[0m,\n",
       "    \u001b[1;35mN\u001b[0m\u001b[1m(\u001b[0mR-R58\u001b[1m)\u001b[0m: \u001b[1m{\u001b[0m\u001b[32m'R-R9'\u001b[0m: \u001b[1;36m422419\u001b[0m\u001b[1m}\u001b[0m,\n",
       "    \u001b[1;35mN\u001b[0m\u001b[1m(\u001b[0mR-R59\u001b[1m)\u001b[0m: \u001b[1m{\u001b[0m\u001b[32m'R-R9'\u001b[0m: \u001b[1;36m195989\u001b[0m\u001b[1m}\u001b[0m,\n",
       "    \u001b[1;35mN\u001b[0m\u001b[1m(\u001b[0mR-R60\u001b[1m)\u001b[0m: \u001b[1m{\u001b[0m\u001b[32m'R-R9'\u001b[0m: \u001b[1;36m195358\u001b[0m\u001b[1m}\u001b[0m,\n",
       "    \u001b[1;35mN\u001b[0m\u001b[1m(\u001b[0mR-R61\u001b[1m)\u001b[0m: \u001b[1m{\u001b[0m\u001b[32m'R-R9'\u001b[0m: \u001b[1;36m427655\u001b[0m\u001b[1m}\u001b[0m,\n",
       "    \u001b[1;35mN\u001b[0m\u001b[1m(\u001b[0mR-R62\u001b[1m)\u001b[0m: \u001b[1m{\u001b[0m\u001b[32m'R-R9'\u001b[0m: \u001b[1;36m396334\u001b[0m\u001b[1m}\u001b[0m,\n",
       "    \u001b[1;35mN\u001b[0m\u001b[1m(\u001b[0mR-R63\u001b[1m)\u001b[0m: \u001b[1m{\u001b[0m\u001b[32m'R-R9'\u001b[0m: \u001b[1;36m310794\u001b[0m\u001b[1m}\u001b[0m,\n",
       "    \u001b[1;35mN\u001b[0m\u001b[1m(\u001b[0mR-R64\u001b[1m)\u001b[0m: \u001b[1m{\u001b[0m\u001b[32m'R-R9'\u001b[0m: \u001b[1;36m273066\u001b[0m\u001b[1m}\u001b[0m,\n",
       "    \u001b[1;35mN\u001b[0m\u001b[1m(\u001b[0mR-R65\u001b[1m)\u001b[0m: \u001b[1m{\u001b[0m\u001b[32m'R-R9'\u001b[0m: \u001b[1;36m338983\u001b[0m\u001b[1m}\u001b[0m,\n",
       "    \u001b[1;35mN\u001b[0m\u001b[1m(\u001b[0mR-R66\u001b[1m)\u001b[0m: \u001b[1m{\u001b[0m\u001b[32m'R-R9'\u001b[0m: \u001b[1;36m205204\u001b[0m\u001b[1m}\u001b[0m,\n",
       "    \u001b[1;35mN\u001b[0m\u001b[1m(\u001b[0mR-R67\u001b[1m)\u001b[0m: \u001b[1m{\u001b[0m\u001b[32m'R-R9'\u001b[0m: \u001b[1;36m165788\u001b[0m\u001b[1m}\u001b[0m,\n",
       "    \u001b[1;35mN\u001b[0m\u001b[1m(\u001b[0mR-R68\u001b[1m)\u001b[0m: \u001b[1m{\u001b[0m\u001b[32m'R-R9'\u001b[0m: \u001b[1;36m185558\u001b[0m\u001b[1m}\u001b[0m,\n",
       "    \u001b[1;35mN\u001b[0m\u001b[1m(\u001b[0mR-R69\u001b[1m)\u001b[0m: \u001b[1m{\u001b[0m\u001b[32m'R-R9'\u001b[0m: \u001b[1;36m187226\u001b[0m\u001b[1m}\u001b[0m,\n",
       "    \u001b[1;35mN\u001b[0m\u001b[1m(\u001b[0mR-R70\u001b[1m)\u001b[0m: \u001b[1m{\u001b[0m\u001b[32m'R-R9'\u001b[0m: \u001b[1;36m184692\u001b[0m\u001b[1m}\u001b[0m,\n",
       "    \u001b[1;35mN\u001b[0m\u001b[1m(\u001b[0mR-R71\u001b[1m)\u001b[0m: \u001b[1m{\u001b[0m\u001b[32m'R-R9'\u001b[0m: \u001b[1;36m335576\u001b[0m\u001b[1m}\u001b[0m,\n",
       "    \u001b[1;35mN\u001b[0m\u001b[1m(\u001b[0mR-R72\u001b[1m)\u001b[0m: \u001b[1m{\u001b[0m\u001b[32m'R-R9'\u001b[0m: \u001b[1;36m327588\u001b[0m\u001b[1m}\u001b[0m,\n",
       "    \u001b[1;35mN\u001b[0m\u001b[1m(\u001b[0mR-R73\u001b[1m)\u001b[0m: \u001b[1m{\u001b[0m\u001b[32m'R-R9'\u001b[0m: \u001b[1;36m252647\u001b[0m\u001b[1m}\u001b[0m,\n",
       "    \u001b[1;35mN\u001b[0m\u001b[1m(\u001b[0mR-R74\u001b[1m)\u001b[0m: \u001b[1m{\u001b[0m\u001b[32m'R-R9'\u001b[0m: \u001b[1;36m227740\u001b[0m\u001b[1m}\u001b[0m,\n",
       "    \u001b[1;35mN\u001b[0m\u001b[1m(\u001b[0mR-R75\u001b[1m)\u001b[0m: \u001b[1m{\u001b[0m\u001b[32m'R-R9'\u001b[0m: \u001b[1;36m405660\u001b[0m\u001b[1m}\u001b[0m,\n",
       "    \u001b[1;35mN\u001b[0m\u001b[1m(\u001b[0mR-R76\u001b[1m)\u001b[0m: \u001b[1m{\u001b[0m\u001b[32m'R-R9'\u001b[0m: \u001b[1;36m350893\u001b[0m\u001b[1m}\u001b[0m,\n",
       "    \u001b[1;35mN\u001b[0m\u001b[1m(\u001b[0mR-R77\u001b[1m)\u001b[0m: \u001b[1m{\u001b[0m\u001b[32m'R-R9'\u001b[0m: \u001b[1;36m381418\u001b[0m\u001b[1m}\u001b[0m,\n",
       "    \u001b[1;35mN\u001b[0m\u001b[1m(\u001b[0mR-R78\u001b[1m)\u001b[0m: \u001b[1m{\u001b[0m\u001b[32m'R-R9'\u001b[0m: \u001b[1;36m265330\u001b[0m\u001b[1m}\u001b[0m,\n",
       "    \u001b[1;35mN\u001b[0m\u001b[1m(\u001b[0mR-R79\u001b[1m)\u001b[0m: \u001b[1m{\u001b[0m\u001b[32m'R-R9'\u001b[0m: \u001b[1;36m266218\u001b[0m\u001b[1m}\u001b[0m,\n",
       "    \u001b[1;35mN\u001b[0m\u001b[1m(\u001b[0mR-R80\u001b[1m)\u001b[0m: \u001b[1m{\u001b[0m\u001b[32m'R-R9'\u001b[0m: \u001b[1;36m289482\u001b[0m\u001b[1m}\u001b[0m,\n",
       "    \u001b[1;35mN\u001b[0m\u001b[1m(\u001b[0mR-R81\u001b[1m)\u001b[0m: \u001b[1m{\u001b[0m\u001b[32m'R-R9'\u001b[0m: \u001b[1;36m418112\u001b[0m\u001b[1m}\u001b[0m,\n",
       "    \u001b[1;35mN\u001b[0m\u001b[1m(\u001b[0mR-R82\u001b[1m)\u001b[0m: \u001b[1m{\u001b[0m\u001b[32m'R-R9'\u001b[0m: \u001b[1;36m481735\u001b[0m\u001b[1m}\u001b[0m,\n",
       "    \u001b[1;35mN\u001b[0m\u001b[1m(\u001b[0mR-R83\u001b[1m)\u001b[0m: \u001b[1m{\u001b[0m\u001b[32m'R-R9'\u001b[0m: \u001b[1;36m507612\u001b[0m\u001b[1m}\u001b[0m,\n",
       "    \u001b[1;35mN\u001b[0m\u001b[1m(\u001b[0mR-R84\u001b[1m)\u001b[0m: \u001b[1m{\u001b[0m\u001b[32m'R-R9'\u001b[0m: \u001b[1;36m338749\u001b[0m\u001b[1m}\u001b[0m,\n",
       "    \u001b[1;35mN\u001b[0m\u001b[1m(\u001b[0mR-R85\u001b[1m)\u001b[0m: \u001b[1m{\u001b[0m\u001b[32m'R-R9'\u001b[0m: \u001b[1;36m246775\u001b[0m\u001b[1m}\u001b[0m,\n",
       "    \u001b[1;35mN\u001b[0m\u001b[1m(\u001b[0mR-R86\u001b[1m)\u001b[0m: \u001b[1m{\u001b[0m\u001b[32m'R-R9'\u001b[0m: \u001b[1;36m232533\u001b[0m\u001b[1m}\u001b[0m,\n",
       "    \u001b[1;35mN\u001b[0m\u001b[1m(\u001b[0mR-R87\u001b[1m)\u001b[0m: \u001b[1m{\u001b[0m\u001b[32m'R-R9'\u001b[0m: \u001b[1;36m240364\u001b[0m\u001b[1m}\u001b[0m,\n",
       "    \u001b[1;35mN\u001b[0m\u001b[1m(\u001b[0mR-R88\u001b[1m)\u001b[0m: \u001b[1m{\u001b[0m\u001b[32m'R-R9'\u001b[0m: \u001b[1;36m219347\u001b[0m\u001b[1m}\u001b[0m,\n",
       "    \u001b[1;35mN\u001b[0m\u001b[1m(\u001b[0mR-R89\u001b[1m)\u001b[0m: \u001b[1m{\u001b[0m\u001b[32m'R-R9'\u001b[0m: \u001b[1;36m332980\u001b[0m\u001b[1m}\u001b[0m,\n",
       "    \u001b[1;35mN\u001b[0m\u001b[1m(\u001b[0mR-R90\u001b[1m)\u001b[0m: \u001b[1m{\u001b[0m\u001b[32m'R-R9'\u001b[0m: \u001b[1;36m328450\u001b[0m\u001b[1m}\u001b[0m,\n",
       "    \u001b[1;35mN\u001b[0m\u001b[1m(\u001b[0mR-R91\u001b[1m)\u001b[0m: \u001b[1m{\u001b[0m\u001b[32m'R-R9'\u001b[0m: \u001b[1;36m324915\u001b[0m\u001b[1m}\u001b[0m,\n",
       "    \u001b[1;35mN\u001b[0m\u001b[1m(\u001b[0mR-R92\u001b[1m)\u001b[0m: \u001b[1m{\u001b[0m\u001b[32m'R-R9'\u001b[0m: \u001b[1;36m336395\u001b[0m\u001b[1m}\u001b[0m,\n",
       "    \u001b[1;35mN\u001b[0m\u001b[1m(\u001b[0mR-R93\u001b[1m)\u001b[0m: \u001b[1m{\u001b[0m\u001b[32m'R-R9'\u001b[0m: \u001b[1;36m305798\u001b[0m\u001b[1m}\u001b[0m,\n",
       "    \u001b[1;35mN\u001b[0m\u001b[1m(\u001b[0mR-R94\u001b[1m)\u001b[0m: \u001b[1m{\u001b[0m\u001b[32m'R-R9'\u001b[0m: \u001b[1;36m311703\u001b[0m\u001b[1m}\u001b[0m,\n",
       "    \u001b[1;35mN\u001b[0m\u001b[1m(\u001b[0mR-R95\u001b[1m)\u001b[0m: \u001b[1m{\u001b[0m\u001b[32m'R-R9'\u001b[0m: \u001b[1;36m308446\u001b[0m\u001b[1m}\u001b[0m,\n",
       "    \u001b[1;35mN\u001b[0m\u001b[1m(\u001b[0mR-R96\u001b[1m)\u001b[0m: \u001b[1m{\u001b[0m\u001b[32m'R-R9'\u001b[0m: \u001b[1;36m270164\u001b[0m\u001b[1m}\u001b[0m,\n",
       "    \u001b[1;35mN\u001b[0m\u001b[1m(\u001b[0mR-R97\u001b[1m)\u001b[0m: \u001b[1m{\u001b[0m\u001b[32m'R-R9'\u001b[0m: \u001b[1;36m192498\u001b[0m\u001b[1m}\u001b[0m,\n",
       "    \u001b[1;35mN\u001b[0m\u001b[1m(\u001b[0mR-R98\u001b[1m)\u001b[0m: \u001b[1m{\u001b[0m\u001b[32m'R-R9'\u001b[0m: \u001b[1;36m292964\u001b[0m\u001b[1m}\u001b[0m,\n",
       "    \u001b[1;35mN\u001b[0m\u001b[1m(\u001b[0mR-R99\u001b[1m)\u001b[0m: \u001b[1m{\u001b[0m\u001b[32m'R-R9'\u001b[0m: \u001b[1;36m255926\u001b[0m\u001b[1m}\u001b[0m,\n",
       "    \u001b[1;35mN\u001b[0m\u001b[1m(\u001b[0mR-R100\u001b[1m)\u001b[0m: \u001b[1m{\u001b[0m\u001b[32m'R-R9'\u001b[0m: \u001b[1;36m252689\u001b[0m\u001b[1m}\u001b[0m,\n",
       "    \u001b[1;35mN\u001b[0m\u001b[1m(\u001b[0mR-R101\u001b[1m)\u001b[0m: \u001b[1m{\u001b[0m\u001b[32m'R-R9'\u001b[0m: \u001b[1;36m293406\u001b[0m\u001b[1m}\u001b[0m,\n",
       "    \u001b[1;35mN\u001b[0m\u001b[1m(\u001b[0mR-R102\u001b[1m)\u001b[0m: \u001b[1m{\u001b[0m\u001b[32m'R-R9'\u001b[0m: \u001b[1;36m337144\u001b[0m\u001b[1m}\u001b[0m,\n",
       "    \u001b[1;35mN\u001b[0m\u001b[1m(\u001b[0mR-R103\u001b[1m)\u001b[0m: \u001b[1m{\u001b[0m\u001b[32m'R-R9'\u001b[0m: \u001b[1;36m487958\u001b[0m\u001b[1m}\u001b[0m,\n",
       "    \u001b[1;35mN\u001b[0m\u001b[1m(\u001b[0mR-R104\u001b[1m)\u001b[0m: \u001b[1m{\u001b[0m\u001b[32m'R-R9'\u001b[0m: \u001b[1;36m265188\u001b[0m\u001b[1m}\u001b[0m,\n",
       "    \u001b[1;35mN\u001b[0m\u001b[1m(\u001b[0mR-R105\u001b[1m)\u001b[0m: \u001b[1m{\u001b[0m\u001b[32m'R-R9'\u001b[0m: \u001b[1;36m233587\u001b[0m\u001b[1m}\u001b[0m,\n",
       "    \u001b[1;35mN\u001b[0m\u001b[1m(\u001b[0mR-R106\u001b[1m)\u001b[0m: \u001b[1m{\u001b[0m\u001b[32m'R-R9'\u001b[0m: \u001b[1;36m528420\u001b[0m\u001b[1m}\u001b[0m,\n",
       "    \u001b[1;35mN\u001b[0m\u001b[1m(\u001b[0mR-R107\u001b[1m)\u001b[0m: \u001b[1m{\u001b[0m\u001b[32m'R-R9'\u001b[0m: \u001b[1;36m227747\u001b[0m\u001b[1m}\u001b[0m,\n",
       "    \u001b[1;35mN\u001b[0m\u001b[1m(\u001b[0mR-R108\u001b[1m)\u001b[0m: \u001b[1m{\u001b[0m\u001b[32m'R-R9'\u001b[0m: \u001b[1;36m267433\u001b[0m\u001b[1m}\u001b[0m,\n",
       "    \u001b[1;35mN\u001b[0m\u001b[1m(\u001b[0mR-R109\u001b[1m)\u001b[0m: \u001b[1m{\u001b[0m\u001b[32m'R-R9'\u001b[0m: \u001b[1;36m286803\u001b[0m\u001b[1m}\u001b[0m,\n",
       "    \u001b[1;35mN\u001b[0m\u001b[1m(\u001b[0mR-R110\u001b[1m)\u001b[0m: \u001b[1m{\u001b[0m\u001b[32m'R-R9'\u001b[0m: \u001b[1;36m160312\u001b[0m\u001b[1m}\u001b[0m,\n",
       "    \u001b[1;35mN\u001b[0m\u001b[1m(\u001b[0mR-R111\u001b[1m)\u001b[0m: \u001b[1m{\u001b[0m\u001b[32m'R-R9'\u001b[0m: \u001b[1;36m171951\u001b[0m\u001b[1m}\u001b[0m,\n",
       "    \u001b[1;35mN\u001b[0m\u001b[1m(\u001b[0mR-R112\u001b[1m)\u001b[0m: \u001b[1m{\u001b[0m\u001b[32m'R-R9'\u001b[0m: \u001b[1;36m316430\u001b[0m\u001b[1m}\u001b[0m,\n",
       "    \u001b[1;35mN\u001b[0m\u001b[1m(\u001b[0mR-R113\u001b[1m)\u001b[0m: \u001b[1m{\u001b[0m\u001b[32m'R-R9'\u001b[0m: \u001b[1;36m327910\u001b[0m\u001b[1m}\u001b[0m,\n",
       "    \u001b[1;35mN\u001b[0m\u001b[1m(\u001b[0mR-R114\u001b[1m)\u001b[0m: \u001b[1m{\u001b[0m\u001b[32m'R-R9'\u001b[0m: \u001b[1;36m264360\u001b[0m\u001b[1m}\u001b[0m,\n",
       "    \u001b[1;35mN\u001b[0m\u001b[1m(\u001b[0mR-R115\u001b[1m)\u001b[0m: \u001b[1m{\u001b[0m\u001b[32m'R-R9'\u001b[0m: \u001b[1;36m309144\u001b[0m\u001b[1m}\u001b[0m,\n",
       "    \u001b[1;35mN\u001b[0m\u001b[1m(\u001b[0mR-R116\u001b[1m)\u001b[0m: \u001b[1m{\u001b[0m\u001b[32m'R-R9'\u001b[0m: \u001b[1;36m362486\u001b[0m\u001b[1m}\u001b[0m,\n",
       "    \u001b[1;35mN\u001b[0m\u001b[1m(\u001b[0mR-R117\u001b[1m)\u001b[0m: \u001b[1m{\u001b[0m\u001b[32m'R-R9'\u001b[0m: \u001b[1;36m485770\u001b[0m\u001b[1m}\u001b[0m,\n",
       "    \u001b[1;35mN\u001b[0m\u001b[1m(\u001b[0mR-R118\u001b[1m)\u001b[0m: \u001b[1m{\u001b[0m\u001b[32m'R-R9'\u001b[0m: \u001b[1;36m360055\u001b[0m\u001b[1m}\u001b[0m,\n",
       "    \u001b[1;35mN\u001b[0m\u001b[1m(\u001b[0mR-R119\u001b[1m)\u001b[0m: \u001b[1m{\u001b[0m\u001b[32m'R-R9'\u001b[0m: \u001b[1;36m352167\u001b[0m\u001b[1m}\u001b[0m,\n",
       "    \u001b[1;35mN\u001b[0m\u001b[1m(\u001b[0mR-R120\u001b[1m)\u001b[0m: \u001b[1m{\u001b[0m\u001b[32m'R-R9'\u001b[0m: \u001b[1;36m331684\u001b[0m\u001b[1m}\u001b[0m,\n",
       "    \u001b[1;35mN\u001b[0m\u001b[1m(\u001b[0mR-R121\u001b[1m)\u001b[0m: \u001b[1m{\u001b[0m\u001b[32m'R-R9'\u001b[0m: \u001b[1;36m264491\u001b[0m\u001b[1m}\u001b[0m,\n",
       "    \u001b[1;35mN\u001b[0m\u001b[1m(\u001b[0mR-R122\u001b[1m)\u001b[0m: \u001b[1m{\u001b[0m\u001b[32m'R-R9'\u001b[0m: \u001b[1;36m336430\u001b[0m\u001b[1m}\u001b[0m,\n",
       "    \u001b[1;35mN\u001b[0m\u001b[1m(\u001b[0mR-R123\u001b[1m)\u001b[0m: \u001b[1m{\u001b[0m\u001b[32m'R-R9'\u001b[0m: \u001b[1;36m348940\u001b[0m\u001b[1m}\u001b[0m,\n",
       "    \u001b[1;35mN\u001b[0m\u001b[1m(\u001b[0mR-R124\u001b[1m)\u001b[0m: \u001b[1m{\u001b[0m\u001b[32m'R-R9'\u001b[0m: \u001b[1;36m364407\u001b[0m\u001b[1m}\u001b[0m,\n",
       "    \u001b[1;35mN\u001b[0m\u001b[1m(\u001b[0mR-R125\u001b[1m)\u001b[0m: \u001b[1m{\u001b[0m\u001b[32m'R-R9'\u001b[0m: \u001b[1;36m283291\u001b[0m\u001b[1m}\u001b[0m,\n",
       "    \u001b[1;35mN\u001b[0m\u001b[1m(\u001b[0mR-R126\u001b[1m)\u001b[0m: \u001b[1m{\u001b[0m\u001b[32m'R-R9'\u001b[0m: \u001b[1;36m290835\u001b[0m\u001b[1m}\u001b[0m,\n",
       "    \u001b[1;35mN\u001b[0m\u001b[1m(\u001b[0mR-R127\u001b[1m)\u001b[0m: \u001b[1m{\u001b[0m\u001b[32m'R-R9'\u001b[0m: \u001b[1;36m258945\u001b[0m\u001b[1m}\u001b[0m,\n",
       "    \u001b[1;35mN\u001b[0m\u001b[1m(\u001b[0mR-R128\u001b[1m)\u001b[0m: \u001b[1m{\u001b[0m\u001b[32m'R-R9'\u001b[0m: \u001b[1;36m200395\u001b[0m\u001b[1m}\u001b[0m,\n",
       "    \u001b[1;35mN\u001b[0m\u001b[1m(\u001b[0mR-R129\u001b[1m)\u001b[0m: \u001b[1m{\u001b[0m\u001b[32m'R-R9'\u001b[0m: \u001b[1;36m204226\u001b[0m\u001b[1m}\u001b[0m,\n",
       "    \u001b[1;35mN\u001b[0m\u001b[1m(\u001b[0mR-R130\u001b[1m)\u001b[0m: \u001b[1m{\u001b[0m\u001b[32m'R-R9'\u001b[0m: \u001b[1;36m197639\u001b[0m\u001b[1m}\u001b[0m,\n",
       "    \u001b[1;35mN\u001b[0m\u001b[1m(\u001b[0mR-R131\u001b[1m)\u001b[0m: \u001b[1m{\u001b[0m\u001b[32m'R-R9'\u001b[0m: \u001b[1;36m355994\u001b[0m\u001b[1m}\u001b[0m,\n",
       "    \u001b[1;35mN\u001b[0m\u001b[1m(\u001b[0mR-R132\u001b[1m)\u001b[0m: \u001b[1m{\u001b[0m\u001b[32m'R-R9'\u001b[0m: \u001b[1;36m339259\u001b[0m\u001b[1m}\u001b[0m,\n",
       "    \u001b[1;35mN\u001b[0m\u001b[1m(\u001b[0mR-R133\u001b[1m)\u001b[0m: \u001b[1m{\u001b[0m\u001b[32m'R-R9'\u001b[0m: \u001b[1;36m342513\u001b[0m\u001b[1m}\u001b[0m,\n",
       "    \u001b[1;35mN\u001b[0m\u001b[1m(\u001b[0mR-R134\u001b[1m)\u001b[0m: \u001b[1m{\u001b[0m\u001b[32m'R-R9'\u001b[0m: \u001b[1;36m289387\u001b[0m\u001b[1m}\u001b[0m,\n",
       "    \u001b[1;35mN\u001b[0m\u001b[1m(\u001b[0mR-R135\u001b[1m)\u001b[0m: \u001b[1m{\u001b[0m\u001b[32m'R-R9'\u001b[0m: \u001b[1;36m283423\u001b[0m\u001b[1m}\u001b[0m,\n",
       "    \u001b[1;35mN\u001b[0m\u001b[1m(\u001b[0mR-R136\u001b[1m)\u001b[0m: \u001b[1m{\u001b[0m\u001b[32m'R-R9'\u001b[0m: \u001b[1;36m302963\u001b[0m\u001b[1m}\u001b[0m,\n",
       "    \u001b[1;35mN\u001b[0m\u001b[1m(\u001b[0mR-R137\u001b[1m)\u001b[0m: \u001b[1m{\u001b[0m\u001b[32m'R-R9'\u001b[0m: \u001b[1;36m317295\u001b[0m\u001b[1m}\u001b[0m,\n",
       "    \u001b[1;35mN\u001b[0m\u001b[1m(\u001b[0mR-R138\u001b[1m)\u001b[0m: \u001b[1m{\u001b[0m\u001b[32m'R-R9'\u001b[0m: \u001b[1;36m311322\u001b[0m\u001b[1m}\u001b[0m,\n",
       "    \u001b[1;35mN\u001b[0m\u001b[1m(\u001b[0mR-R139\u001b[1m)\u001b[0m: \u001b[1m{\u001b[0m\u001b[32m'R-R9'\u001b[0m: \u001b[1;36m380293\u001b[0m\u001b[1m}\u001b[0m,\n",
       "    \u001b[1;35mN\u001b[0m\u001b[1m(\u001b[0mR-R140\u001b[1m)\u001b[0m: \u001b[1m{\u001b[0m\u001b[32m'R-R9'\u001b[0m: \u001b[1;36m376340\u001b[0m\u001b[1m}\u001b[0m,\n",
       "    \u001b[1;35mN\u001b[0m\u001b[1m(\u001b[0mR-R141\u001b[1m)\u001b[0m: \u001b[1m{\u001b[0m\u001b[32m'R-R9'\u001b[0m: \u001b[1;36m294598\u001b[0m\u001b[1m}\u001b[0m,\n",
       "    \u001b[1;35mN\u001b[0m\u001b[1m(\u001b[0mR-R142\u001b[1m)\u001b[0m: \u001b[1m{\u001b[0m\u001b[32m'R-R9'\u001b[0m: \u001b[1;36m298765\u001b[0m\u001b[1m}\u001b[0m,\n",
       "    \u001b[1;35mN\u001b[0m\u001b[1m(\u001b[0mR-R143\u001b[1m)\u001b[0m: \u001b[1m{\u001b[0m\u001b[32m'R-R9'\u001b[0m: \u001b[1;36m297294\u001b[0m\u001b[1m}\u001b[0m,\n",
       "    \u001b[1;35mN\u001b[0m\u001b[1m(\u001b[0mR-R144\u001b[1m)\u001b[0m: \u001b[1m{\u001b[0m\u001b[32m'R-R9'\u001b[0m: \u001b[1;36m297493\u001b[0m\u001b[1m}\u001b[0m,\n",
       "    \u001b[1;35mN\u001b[0m\u001b[1m(\u001b[0mR-R145\u001b[1m)\u001b[0m: \u001b[1m{\u001b[0m\u001b[32m'R-R9'\u001b[0m: \u001b[1;36m319053\u001b[0m\u001b[1m}\u001b[0m,\n",
       "    \u001b[1;35mN\u001b[0m\u001b[1m(\u001b[0mR-R146\u001b[1m)\u001b[0m: \u001b[1m{\u001b[0m\u001b[32m'R-R9'\u001b[0m: \u001b[1;36m302113\u001b[0m\u001b[1m}\u001b[0m,\n",
       "    \u001b[1;35mN\u001b[0m\u001b[1m(\u001b[0mR-R147\u001b[1m)\u001b[0m: \u001b[1m{\u001b[0m\u001b[32m'R-R9'\u001b[0m: \u001b[1;36m264660\u001b[0m\u001b[1m}\u001b[0m,\n",
       "    \u001b[1;35mN\u001b[0m\u001b[1m(\u001b[0mR-R148\u001b[1m)\u001b[0m: \u001b[1m{\u001b[0m\u001b[32m'R-R9'\u001b[0m: \u001b[1;36m244074\u001b[0m\u001b[1m}\u001b[0m,\n",
       "    \u001b[1;35mN\u001b[0m\u001b[1m(\u001b[0mR-R149\u001b[1m)\u001b[0m: \u001b[1m{\u001b[0m\u001b[32m'R-R9'\u001b[0m: \u001b[1;36m228593\u001b[0m\u001b[1m}\u001b[0m,\n",
       "    \u001b[1;35mN\u001b[0m\u001b[1m(\u001b[0mR-R150\u001b[1m)\u001b[0m: \u001b[1m{\u001b[0m\u001b[32m'R-R9'\u001b[0m: \u001b[1;36m267744\u001b[0m\u001b[1m}\u001b[0m,\n",
       "    \u001b[1;35mN\u001b[0m\u001b[1m(\u001b[0mR-R151\u001b[1m)\u001b[0m: \u001b[1m{\u001b[0m\u001b[32m'R-R9'\u001b[0m: \u001b[1;36m289526\u001b[0m\u001b[1m}\u001b[0m,\n",
       "    \u001b[1;35mN\u001b[0m\u001b[1m(\u001b[0mR-R152\u001b[1m)\u001b[0m: \u001b[1m{\u001b[0m\u001b[32m'R-R9'\u001b[0m: \u001b[1;36m264884\u001b[0m\u001b[1m}\u001b[0m,\n",
       "    \u001b[1;35mN\u001b[0m\u001b[1m(\u001b[0mR-R153\u001b[1m)\u001b[0m: \u001b[1m{\u001b[0m\u001b[32m'R-R9'\u001b[0m: \u001b[1;36m211076\u001b[0m\u001b[1m}\u001b[0m,\n",
       "    \u001b[1;35mN\u001b[0m\u001b[1m(\u001b[0mR-R154\u001b[1m)\u001b[0m: \u001b[1m{\u001b[0m\u001b[32m'R-R9'\u001b[0m: \u001b[1;36m205152\u001b[0m\u001b[1m}\u001b[0m,\n",
       "    \u001b[1;35mN\u001b[0m\u001b[1m(\u001b[0mR-R155\u001b[1m)\u001b[0m: \u001b[1m{\u001b[0m\u001b[32m'R-R9'\u001b[0m: \u001b[1;36m219251\u001b[0m\u001b[1m}\u001b[0m,\n",
       "    \u001b[1;35mN\u001b[0m\u001b[1m(\u001b[0mR-R156\u001b[1m)\u001b[0m: \u001b[1m{\u001b[0m\u001b[32m'R-R9'\u001b[0m: \u001b[1;36m501885\u001b[0m\u001b[1m}\u001b[0m,\n",
       "    \u001b[1;35mN\u001b[0m\u001b[1m(\u001b[0mR-R157\u001b[1m)\u001b[0m: \u001b[1m{\u001b[0m\u001b[32m'R-R9'\u001b[0m: \u001b[1;36m522648\u001b[0m\u001b[1m}\u001b[0m,\n",
       "    \u001b[1;35mN\u001b[0m\u001b[1m(\u001b[0mR-R158\u001b[1m)\u001b[0m: \u001b[1m{\u001b[0m\u001b[32m'R-R9'\u001b[0m: \u001b[1;36m161700\u001b[0m\u001b[1m}\u001b[0m,\n",
       "    \u001b[1;35mN\u001b[0m\u001b[1m(\u001b[0mR-R159\u001b[1m)\u001b[0m: \u001b[1m{\u001b[0m\u001b[32m'R-R9'\u001b[0m: \u001b[1;36m253406\u001b[0m\u001b[1m}\u001b[0m,\n",
       "    \u001b[1;35mN\u001b[0m\u001b[1m(\u001b[0mR-R160\u001b[1m)\u001b[0m: \u001b[1m{\u001b[0m\u001b[32m'R-R9'\u001b[0m: \u001b[1;36m419162\u001b[0m\u001b[1m}\u001b[0m,\n",
       "    \u001b[1;35mN\u001b[0m\u001b[1m(\u001b[0mR-R161\u001b[1m)\u001b[0m: \u001b[1m{\u001b[0m\u001b[32m'R-R9'\u001b[0m: \u001b[1;36m223119\u001b[0m\u001b[1m}\u001b[0m,\n",
       "    \u001b[1;35mN\u001b[0m\u001b[1m(\u001b[0mR-R162\u001b[1m)\u001b[0m: \u001b[1m{\u001b[0m\u001b[32m'R-R9'\u001b[0m: \u001b[1;36m226429\u001b[0m\u001b[1m}\u001b[0m,\n",
       "    \u001b[1;35mN\u001b[0m\u001b[1m(\u001b[0mR-R163\u001b[1m)\u001b[0m: \u001b[1m{\u001b[0m\u001b[32m'R-R9'\u001b[0m: \u001b[1;36m230504\u001b[0m\u001b[1m}\u001b[0m,\n",
       "    \u001b[1;35mN\u001b[0m\u001b[1m(\u001b[0mR-R164\u001b[1m)\u001b[0m: \u001b[1m{\u001b[0m\u001b[32m'R-R9'\u001b[0m: \u001b[1;36m227428\u001b[0m\u001b[1m}\u001b[0m,\n",
       "    \u001b[1;35mN\u001b[0m\u001b[1m(\u001b[0mR-R165\u001b[1m)\u001b[0m: \u001b[1m{\u001b[0m\u001b[32m'R-R9'\u001b[0m: \u001b[1;36m248978\u001b[0m\u001b[1m}\u001b[0m,\n",
       "    \u001b[1;35mN\u001b[0m\u001b[1m(\u001b[0mR-R166\u001b[1m)\u001b[0m: \u001b[1m{\u001b[0m\u001b[32m'R-R9'\u001b[0m: \u001b[1;36m317024\u001b[0m\u001b[1m}\u001b[0m,\n",
       "    \u001b[1;35mN\u001b[0m\u001b[1m(\u001b[0mR-R167\u001b[1m)\u001b[0m: \u001b[1m{\u001b[0m\u001b[32m'R-R9'\u001b[0m: \u001b[1;36m250319\u001b[0m\u001b[1m}\u001b[0m,\n",
       "    \u001b[1;35mN\u001b[0m\u001b[1m(\u001b[0mR-R168\u001b[1m)\u001b[0m: \u001b[1m{\u001b[0m\u001b[32m'R-R9'\u001b[0m: \u001b[1;36m237326\u001b[0m\u001b[1m}\u001b[0m,\n",
       "    \u001b[1;35mN\u001b[0m\u001b[1m(\u001b[0mR-R169\u001b[1m)\u001b[0m: \u001b[1m{\u001b[0m\u001b[32m'R-R9'\u001b[0m: \u001b[1;36m438652\u001b[0m\u001b[1m}\u001b[0m,\n",
       "    \u001b[1;35mN\u001b[0m\u001b[1m(\u001b[0mR-R170\u001b[1m)\u001b[0m: \u001b[1m{\u001b[0m\u001b[32m'R-R9'\u001b[0m: \u001b[1;36m246928\u001b[0m\u001b[1m}\u001b[0m,\n",
       "    \u001b[1;35mN\u001b[0m\u001b[1m(\u001b[0mR-R171\u001b[1m)\u001b[0m: \u001b[1m{\u001b[0m\u001b[32m'R-R9'\u001b[0m: \u001b[1;36m256586\u001b[0m\u001b[1m}\u001b[0m,\n",
       "    \u001b[1;35mN\u001b[0m\u001b[1m(\u001b[0mR-R172\u001b[1m)\u001b[0m: \u001b[1m{\u001b[0m\u001b[32m'R-R9'\u001b[0m: \u001b[1;36m335820\u001b[0m\u001b[1m}\u001b[0m,\n",
       "    \u001b[1;35mN\u001b[0m\u001b[1m(\u001b[0mR-R173\u001b[1m)\u001b[0m: \u001b[1m{\u001b[0m\u001b[32m'R-R9'\u001b[0m: \u001b[1;36m361411\u001b[0m\u001b[1m}\u001b[0m,\n",
       "    \u001b[1;35mN\u001b[0m\u001b[1m(\u001b[0mR-R174\u001b[1m)\u001b[0m: \u001b[1m{\u001b[0m\u001b[32m'R-R9'\u001b[0m: \u001b[1;36m516248\u001b[0m\u001b[1m}\u001b[0m,\n",
       "    \u001b[1;35mN\u001b[0m\u001b[1m(\u001b[0mR-R175\u001b[1m)\u001b[0m: \u001b[1m{\u001b[0m\u001b[32m'R-R9'\u001b[0m: \u001b[1;36m411965\u001b[0m\u001b[1m}\u001b[0m,\n",
       "    \u001b[1;35mN\u001b[0m\u001b[1m(\u001b[0mR-R176\u001b[1m)\u001b[0m: \u001b[1m{\u001b[0m\u001b[32m'R-R9'\u001b[0m: \u001b[1;36m403810\u001b[0m\u001b[1m}\u001b[0m,\n",
       "    \u001b[1;35mN\u001b[0m\u001b[1m(\u001b[0mR-R177\u001b[1m)\u001b[0m: \u001b[1m{\u001b[0m\u001b[32m'R-R9'\u001b[0m: \u001b[1;36m525535\u001b[0m\u001b[1m}\u001b[0m,\n",
       "    \u001b[1;35mN\u001b[0m\u001b[1m(\u001b[0mR-R178\u001b[1m)\u001b[0m: \u001b[1m{\u001b[0m\u001b[32m'R-R9'\u001b[0m: \u001b[1;36m235866\u001b[0m\u001b[1m}\u001b[0m,\n",
       "    \u001b[1;35mN\u001b[0m\u001b[1m(\u001b[0mR-R179\u001b[1m)\u001b[0m: \u001b[1m{\u001b[0m\u001b[32m'R-R9'\u001b[0m: \u001b[1;36m368791\u001b[0m\u001b[1m}\u001b[0m,\n",
       "    \u001b[1;35mN\u001b[0m\u001b[1m(\u001b[0mR-R180\u001b[1m)\u001b[0m: \u001b[1m{\u001b[0m\u001b[32m'R-R9'\u001b[0m: \u001b[1;36m310828\u001b[0m\u001b[1m}\u001b[0m,\n",
       "    \u001b[1;35mN\u001b[0m\u001b[1m(\u001b[0mR-R181\u001b[1m)\u001b[0m: \u001b[1m{\u001b[0m\u001b[32m'R-R9'\u001b[0m: \u001b[1;36m308014\u001b[0m\u001b[1m}\u001b[0m,\n",
       "    \u001b[1;35mN\u001b[0m\u001b[1m(\u001b[0mR-R182\u001b[1m)\u001b[0m: \u001b[1m{\u001b[0m\u001b[32m'R-R9'\u001b[0m: \u001b[1;36m357388\u001b[0m\u001b[1m}\u001b[0m,\n",
       "    \u001b[1;35mN\u001b[0m\u001b[1m(\u001b[0mR-R183\u001b[1m)\u001b[0m: \u001b[1m{\u001b[0m\u001b[32m'R-R9'\u001b[0m: \u001b[1;36m331385\u001b[0m\u001b[1m}\u001b[0m,\n",
       "    \u001b[1;35mN\u001b[0m\u001b[1m(\u001b[0mR-R184\u001b[1m)\u001b[0m: \u001b[1m{\u001b[0m\u001b[32m'R-R9'\u001b[0m: \u001b[1;36m316421\u001b[0m\u001b[1m}\u001b[0m,\n",
       "    \u001b[1;35mN\u001b[0m\u001b[1m(\u001b[0mR-R185\u001b[1m)\u001b[0m: \u001b[1m{\u001b[0m\u001b[32m'R-R9'\u001b[0m: \u001b[1;36m440124\u001b[0m\u001b[1m}\u001b[0m,\n",
       "    \u001b[1;35mN\u001b[0m\u001b[1m(\u001b[0mR-R186\u001b[1m)\u001b[0m: \u001b[1m{\u001b[0m\u001b[32m'R-R9'\u001b[0m: \u001b[1;36m451091\u001b[0m\u001b[1m}\u001b[0m,\n",
       "    \u001b[1;35mN\u001b[0m\u001b[1m(\u001b[0mR-R187\u001b[1m)\u001b[0m: \u001b[1m{\u001b[0m\u001b[32m'R-R9'\u001b[0m: \u001b[1;36m395401\u001b[0m\u001b[1m}\u001b[0m,\n",
       "    \u001b[1;35mN\u001b[0m\u001b[1m(\u001b[0mR-R188\u001b[1m)\u001b[0m: \u001b[1m{\u001b[0m\u001b[32m'R-R9'\u001b[0m: \u001b[1;36m391007\u001b[0m\u001b[1m}\u001b[0m,\n",
       "    \u001b[1;35mN\u001b[0m\u001b[1m(\u001b[0mR-R189\u001b[1m)\u001b[0m: \u001b[1m{\u001b[0m\u001b[32m'R-R9'\u001b[0m: \u001b[1;36m306307\u001b[0m\u001b[1m}\u001b[0m,\n",
       "    \u001b[1;35mN\u001b[0m\u001b[1m(\u001b[0mR-R190\u001b[1m)\u001b[0m: \u001b[1m{\u001b[0m\u001b[32m'R-R9'\u001b[0m: \u001b[1;36m292528\u001b[0m\u001b[1m}\u001b[0m,\n",
       "    \u001b[1;35mN\u001b[0m\u001b[1m(\u001b[0mR-R191\u001b[1m)\u001b[0m: \u001b[1m{\u001b[0m\u001b[32m'R-R9'\u001b[0m: \u001b[1;36m288698\u001b[0m\u001b[1m}\u001b[0m,\n",
       "    \u001b[1;35mN\u001b[0m\u001b[1m(\u001b[0mR-R192\u001b[1m)\u001b[0m: \u001b[1m{\u001b[0m\u001b[32m'R-R9'\u001b[0m: \u001b[1;36m290664\u001b[0m\u001b[1m}\u001b[0m,\n",
       "    \u001b[1;35mN\u001b[0m\u001b[1m(\u001b[0mR-R193\u001b[1m)\u001b[0m: \u001b[1m{\u001b[0m\u001b[32m'R-R9'\u001b[0m: \u001b[1;36m432642\u001b[0m\u001b[1m}\u001b[0m,\n",
       "    \u001b[1;35mN\u001b[0m\u001b[1m(\u001b[0mR-R194\u001b[1m)\u001b[0m: \u001b[1m{\u001b[0m\u001b[32m'R-R9'\u001b[0m: \u001b[1;36m425434\u001b[0m\u001b[1m}\u001b[0m,\n",
       "    \u001b[1;35mN\u001b[0m\u001b[1m(\u001b[0mR-R195\u001b[1m)\u001b[0m: \u001b[1m{\u001b[0m\u001b[32m'R-R9'\u001b[0m: \u001b[1;36m197930\u001b[0m\u001b[1m}\u001b[0m,\n",
       "    \u001b[1;35mN\u001b[0m\u001b[1m(\u001b[0mR-R196\u001b[1m)\u001b[0m: \u001b[1m{\u001b[0m\u001b[32m'R-R9'\u001b[0m: \u001b[1;36m191228\u001b[0m\u001b[1m}\u001b[0m,\n",
       "    \u001b[1;35mN\u001b[0m\u001b[1m(\u001b[0mR-R197\u001b[1m)\u001b[0m: \u001b[1m{\u001b[0m\u001b[32m'R-R9'\u001b[0m: \u001b[1;36m193322\u001b[0m\u001b[1m}\u001b[0m,\n",
       "    \u001b[1;35mN\u001b[0m\u001b[1m(\u001b[0mR-R198\u001b[1m)\u001b[0m: \u001b[1m{\u001b[0m\u001b[32m'R-R9'\u001b[0m: \u001b[1;36m196633\u001b[0m\u001b[1m}\u001b[0m,\n",
       "    \u001b[1;35mN\u001b[0m\u001b[1m(\u001b[0mR-R199\u001b[1m)\u001b[0m: \u001b[1m{\u001b[0m\u001b[32m'R-R9'\u001b[0m: \u001b[1;36m297625\u001b[0m\u001b[1m}\u001b[0m,\n",
       "    \u001b[1;35mN\u001b[0m\u001b[1m(\u001b[0mR-R200\u001b[1m)\u001b[0m: \u001b[1m{\u001b[0m\u001b[32m'R-R9'\u001b[0m: \u001b[1;36m293070\u001b[0m\u001b[1m}\u001b[0m,\n",
       "    \u001b[1;35mN\u001b[0m\u001b[1m(\u001b[0mR-R201\u001b[1m)\u001b[0m: \u001b[1m{\u001b[0m\u001b[32m'R-R9'\u001b[0m: \u001b[1;36m308835\u001b[0m\u001b[1m}\u001b[0m,\n",
       "    \u001b[1;35mN\u001b[0m\u001b[1m(\u001b[0mR-R202\u001b[1m)\u001b[0m: \u001b[1m{\u001b[0m\u001b[32m'R-R9'\u001b[0m: \u001b[1;36m309705\u001b[0m\u001b[1m}\u001b[0m,\n",
       "    \u001b[1;35mN\u001b[0m\u001b[1m(\u001b[0mR-R203\u001b[1m)\u001b[0m: \u001b[1m{\u001b[0m\u001b[32m'R-R9'\u001b[0m: \u001b[1;36m313405\u001b[0m\u001b[1m}\u001b[0m,\n",
       "    \u001b[1;35mN\u001b[0m\u001b[1m(\u001b[0mR-R204\u001b[1m)\u001b[0m: \u001b[1m{\u001b[0m\u001b[32m'R-R9'\u001b[0m: \u001b[1;36m273539\u001b[0m\u001b[1m}\u001b[0m,\n",
       "    \u001b[1;35mN\u001b[0m\u001b[1m(\u001b[0mR-R205\u001b[1m)\u001b[0m: \u001b[1m{\u001b[0m\u001b[32m'R-R9'\u001b[0m: \u001b[1;36m244252\u001b[0m\u001b[1m}\u001b[0m,\n",
       "    \u001b[1;35mN\u001b[0m\u001b[1m(\u001b[0mR-R206\u001b[1m)\u001b[0m: \u001b[1m{\u001b[0m\u001b[32m'R-R9'\u001b[0m: \u001b[1;36m234768\u001b[0m\u001b[1m}\u001b[0m,\n",
       "    \u001b[1;35mN\u001b[0m\u001b[1m(\u001b[0mR-R207\u001b[1m)\u001b[0m: \u001b[1m{\u001b[0m\u001b[32m'R-R9'\u001b[0m: \u001b[1;36m244295\u001b[0m\u001b[1m}\u001b[0m,\n",
       "    \u001b[1;35mN\u001b[0m\u001b[1m(\u001b[0mR-R208\u001b[1m)\u001b[0m: \u001b[1m{\u001b[0m\u001b[32m'R-R9'\u001b[0m: \u001b[1;36m233345\u001b[0m\u001b[1m}\u001b[0m,\n",
       "    \u001b[1;35mN\u001b[0m\u001b[1m(\u001b[0mR-R209\u001b[1m)\u001b[0m: \u001b[1m{\u001b[0m\u001b[32m'R-R9'\u001b[0m: \u001b[1;36m170921\u001b[0m\u001b[1m}\u001b[0m,\n",
       "    \u001b[1;35mN\u001b[0m\u001b[1m(\u001b[0mR-R210\u001b[1m)\u001b[0m: \u001b[1m{\u001b[0m\u001b[32m'R-R9'\u001b[0m: \u001b[1;36m166573\u001b[0m\u001b[1m}\u001b[0m,\n",
       "    \u001b[1;35mN\u001b[0m\u001b[1m(\u001b[0mR-R211\u001b[1m)\u001b[0m: \u001b[1m{\u001b[0m\u001b[32m'R-R9'\u001b[0m: \u001b[1;36m313088\u001b[0m\u001b[1m}\u001b[0m,\n",
       "    \u001b[1;35mN\u001b[0m\u001b[1m(\u001b[0mR-R212\u001b[1m)\u001b[0m: \u001b[1m{\u001b[0m\u001b[32m'R-R9'\u001b[0m: \u001b[1;36m314679\u001b[0m\u001b[1m}\u001b[0m,\n",
       "    \u001b[1;35mN\u001b[0m\u001b[1m(\u001b[0mR-R213\u001b[1m)\u001b[0m: \u001b[1m{\u001b[0m\u001b[32m'R-R9'\u001b[0m: \u001b[1;36m380013\u001b[0m\u001b[1m}\u001b[0m,\n",
       "    \u001b[1;35mN\u001b[0m\u001b[1m(\u001b[0mR-R214\u001b[1m)\u001b[0m: \u001b[1m{\u001b[0m\u001b[32m'R-R9'\u001b[0m: \u001b[1;36m363007\u001b[0m\u001b[1m}\u001b[0m,\n",
       "    \u001b[1;35mN\u001b[0m\u001b[1m(\u001b[0mR-R215\u001b[1m)\u001b[0m: \u001b[1m{\u001b[0m\u001b[32m'R-R9'\u001b[0m: \u001b[1;36m471874\u001b[0m\u001b[1m}\u001b[0m,\n",
       "    \u001b[1;35mN\u001b[0m\u001b[1m(\u001b[0mR-R216\u001b[1m)\u001b[0m: \u001b[1m{\u001b[0m\u001b[32m'R-R9'\u001b[0m: \u001b[1;36m495793\u001b[0m\u001b[1m}\u001b[0m,\n",
       "    \u001b[1;35mN\u001b[0m\u001b[1m(\u001b[0mR-R217\u001b[1m)\u001b[0m: \u001b[1m{\u001b[0m\u001b[32m'R-R9'\u001b[0m: \u001b[1;36m501967\u001b[0m\u001b[1m}\u001b[0m,\n",
       "    \u001b[1;35mN\u001b[0m\u001b[1m(\u001b[0mR-R218\u001b[1m)\u001b[0m: \u001b[1m{\u001b[0m\u001b[32m'R-R9'\u001b[0m: \u001b[1;36m572211\u001b[0m\u001b[1m}\u001b[0m,\n",
       "    \u001b[1;35mN\u001b[0m\u001b[1m(\u001b[0mR-R219\u001b[1m)\u001b[0m: \u001b[1m{\u001b[0m\u001b[32m'R-R9'\u001b[0m: \u001b[1;36m291092\u001b[0m\u001b[1m}\u001b[0m,\n",
       "    \u001b[1;35mN\u001b[0m\u001b[1m(\u001b[0mR-R220\u001b[1m)\u001b[0m: \u001b[1m{\u001b[0m\u001b[32m'R-R9'\u001b[0m: \u001b[1;36m297359\u001b[0m\u001b[1m}\u001b[0m,\n",
       "    \u001b[1;35mN\u001b[0m\u001b[1m(\u001b[0mR-R221\u001b[1m)\u001b[0m: \u001b[1m{\u001b[0m\u001b[32m'R-R9'\u001b[0m: \u001b[1;36m297541\u001b[0m\u001b[1m}\u001b[0m,\n",
       "    \u001b[1;35mN\u001b[0m\u001b[1m(\u001b[0mR-R222\u001b[1m)\u001b[0m: \u001b[1m{\u001b[0m\u001b[32m'R-R9'\u001b[0m: \u001b[1;36m414374\u001b[0m\u001b[1m}\u001b[0m,\n",
       "    \u001b[1;35mN\u001b[0m\u001b[1m(\u001b[0mR-R223\u001b[1m)\u001b[0m: \u001b[1m{\u001b[0m\u001b[32m'R-R9'\u001b[0m: \u001b[1;36m363918\u001b[0m\u001b[1m}\u001b[0m,\n",
       "    \u001b[1;35mN\u001b[0m\u001b[1m(\u001b[0mR-R224\u001b[1m)\u001b[0m: \u001b[1m{\u001b[0m\u001b[32m'R-R9'\u001b[0m: \u001b[1;36m351156\u001b[0m\u001b[1m}\u001b[0m,\n",
       "    \u001b[1;35mN\u001b[0m\u001b[1m(\u001b[0mR-R225\u001b[1m)\u001b[0m: \u001b[1m{\u001b[0m\u001b[32m'R-R9'\u001b[0m: \u001b[1;36m273023\u001b[0m\u001b[1m}\u001b[0m,\n",
       "    \u001b[1;35mN\u001b[0m\u001b[1m(\u001b[0mR-R226\u001b[1m)\u001b[0m: \u001b[1m{\u001b[0m\u001b[32m'R-R9'\u001b[0m: \u001b[1;36m263543\u001b[0m\u001b[1m}\u001b[0m,\n",
       "    \u001b[1;35mN\u001b[0m\u001b[1m(\u001b[0mR-R227\u001b[1m)\u001b[0m: \u001b[1m{\u001b[0m\u001b[32m'R-R9'\u001b[0m: \u001b[1;36m300426\u001b[0m\u001b[1m}\u001b[0m,\n",
       "    \u001b[1;35mN\u001b[0m\u001b[1m(\u001b[0mR-R228\u001b[1m)\u001b[0m: \u001b[1m{\u001b[0m\u001b[32m'R-R9'\u001b[0m: \u001b[1;36m401213\u001b[0m\u001b[1m}\u001b[0m,\n",
       "    \u001b[1;35mN\u001b[0m\u001b[1m(\u001b[0mR-R229\u001b[1m)\u001b[0m: \u001b[1m{\u001b[0m\u001b[32m'R-R9'\u001b[0m: \u001b[1;36m314907\u001b[0m\u001b[1m}\u001b[0m,\n",
       "    \u001b[1;35mN\u001b[0m\u001b[1m(\u001b[0mR-R230\u001b[1m)\u001b[0m: \u001b[1m{\u001b[0m\u001b[32m'R-R9'\u001b[0m: \u001b[1;36m425763\u001b[0m\u001b[1m}\u001b[0m,\n",
       "    \u001b[1;35mN\u001b[0m\u001b[1m(\u001b[0mR-R231\u001b[1m)\u001b[0m: \u001b[1m{\u001b[0m\u001b[32m'R-R9'\u001b[0m: \u001b[1;36m346817\u001b[0m\u001b[1m}\u001b[0m,\n",
       "    \u001b[1;35mN\u001b[0m\u001b[1m(\u001b[0mR-R232\u001b[1m)\u001b[0m: \u001b[1m{\u001b[0m\u001b[32m'R-R9'\u001b[0m: \u001b[1;36m615018\u001b[0m\u001b[1m}\u001b[0m,\n",
       "    \u001b[1;35mN\u001b[0m\u001b[1m(\u001b[0mR-R233\u001b[1m)\u001b[0m: \u001b[1m{\u001b[0m\u001b[32m'R-R9'\u001b[0m: \u001b[1;36m640166\u001b[0m\u001b[1m}\u001b[0m,\n",
       "    \u001b[1;35mN\u001b[0m\u001b[1m(\u001b[0mR-R234\u001b[1m)\u001b[0m: \u001b[1m{\u001b[0m\u001b[32m'R-R9'\u001b[0m: \u001b[1;36m454145\u001b[0m\u001b[1m}\u001b[0m,\n",
       "    \u001b[1;35mN\u001b[0m\u001b[1m(\u001b[0mR-R235\u001b[1m)\u001b[0m: \u001b[1m{\u001b[0m\u001b[32m'R-R9'\u001b[0m: \u001b[1;36m530416\u001b[0m\u001b[1m}\u001b[0m,\n",
       "    \u001b[1;35mN\u001b[0m\u001b[1m(\u001b[0mR-R236\u001b[1m)\u001b[0m: \u001b[1m{\u001b[0m\u001b[32m'R-R9'\u001b[0m: \u001b[1;36m468946\u001b[0m\u001b[1m}\u001b[0m,\n",
       "    \u001b[1;35mN\u001b[0m\u001b[1m(\u001b[0mR-R237\u001b[1m)\u001b[0m: \u001b[1m{\u001b[0m\u001b[32m'R-R9'\u001b[0m: \u001b[1;36m645504\u001b[0m\u001b[1m}\u001b[0m,\n",
       "    \u001b[1;35mN\u001b[0m\u001b[1m(\u001b[0mR-R238\u001b[1m)\u001b[0m: \u001b[1m{\u001b[0m\u001b[32m'R-R9'\u001b[0m: \u001b[1;36m287848\u001b[0m\u001b[1m}\u001b[0m,\n",
       "    \u001b[1;35mN\u001b[0m\u001b[1m(\u001b[0mR-R239\u001b[1m)\u001b[0m: \u001b[1m{\u001b[0m\u001b[32m'R-R9'\u001b[0m: \u001b[1;36m499883\u001b[0m\u001b[1m}\u001b[0m,\n",
       "    \u001b[1;35mN\u001b[0m\u001b[1m(\u001b[0mR-R240\u001b[1m)\u001b[0m: \u001b[1m{\u001b[0m\u001b[32m'R-R9'\u001b[0m: \u001b[1;36m434818\u001b[0m\u001b[1m}\u001b[0m,\n",
       "    \u001b[1;35mN\u001b[0m\u001b[1m(\u001b[0mR-R241\u001b[1m)\u001b[0m: \u001b[1m{\u001b[0m\u001b[32m'R-R9'\u001b[0m: \u001b[1;36m378390\u001b[0m\u001b[1m}\u001b[0m,\n",
       "    \u001b[1;35mN\u001b[0m\u001b[1m(\u001b[0mR-R242\u001b[1m)\u001b[0m: \u001b[1m{\u001b[0m\u001b[32m'R-R9'\u001b[0m: \u001b[1;36m387033\u001b[0m\u001b[1m}\u001b[0m,\n",
       "    \u001b[1;35mN\u001b[0m\u001b[1m(\u001b[0mR-R243\u001b[1m)\u001b[0m: \u001b[1m{\u001b[0m\u001b[32m'R-R9'\u001b[0m: \u001b[1;36m314183\u001b[0m\u001b[1m}\u001b[0m,\n",
       "    \u001b[1;35mN\u001b[0m\u001b[1m(\u001b[0mR-R244\u001b[1m)\u001b[0m: \u001b[1m{\u001b[0m\u001b[32m'R-R9'\u001b[0m: \u001b[1;36m422784\u001b[0m\u001b[1m}\u001b[0m,\n",
       "    \u001b[1;35mN\u001b[0m\u001b[1m(\u001b[0mR-R245\u001b[1m)\u001b[0m: \u001b[1m{\u001b[0m\u001b[32m'R-R9'\u001b[0m: \u001b[1;36m437240\u001b[0m\u001b[1m}\u001b[0m,\n",
       "    \u001b[1;35mN\u001b[0m\u001b[1m(\u001b[0mR-R246\u001b[1m)\u001b[0m: \u001b[1m{\u001b[0m\u001b[32m'R-R9'\u001b[0m: \u001b[1;36m312708\u001b[0m\u001b[1m}\u001b[0m,\n",
       "    \u001b[1;35mN\u001b[0m\u001b[1m(\u001b[0mR-R247\u001b[1m)\u001b[0m: \u001b[1m{\u001b[0m\u001b[32m'R-R9'\u001b[0m: \u001b[1;36m629922\u001b[0m\u001b[1m}\u001b[0m,\n",
       "    \u001b[1;35mN\u001b[0m\u001b[1m(\u001b[0mR-R248\u001b[1m)\u001b[0m: \u001b[1m{\u001b[0m\u001b[32m'R-R9'\u001b[0m: \u001b[1;36m439020\u001b[0m\u001b[1m}\u001b[0m,\n",
       "    \u001b[1;35mN\u001b[0m\u001b[1m(\u001b[0mR-R249\u001b[1m)\u001b[0m: \u001b[1m{\u001b[0m\u001b[32m'R-R9'\u001b[0m: \u001b[1;36m395683\u001b[0m\u001b[1m}\u001b[0m,\n",
       "    \u001b[1;35mN\u001b[0m\u001b[1m(\u001b[0mR-R250\u001b[1m)\u001b[0m: \u001b[1m{\u001b[0m\u001b[32m'R-R9'\u001b[0m: \u001b[1;36m444696\u001b[0m\u001b[1m}\u001b[0m,\n",
       "    \u001b[1;35mN\u001b[0m\u001b[1m(\u001b[0mR-R251\u001b[1m)\u001b[0m: \u001b[1m{\u001b[0m\u001b[32m'R-R9'\u001b[0m: \u001b[1;36m426310\u001b[0m\u001b[1m}\u001b[0m,\n",
       "    \u001b[1;35mN\u001b[0m\u001b[1m(\u001b[0mR-R252\u001b[1m)\u001b[0m: \u001b[1m{\u001b[0m\u001b[32m'R-R9'\u001b[0m: \u001b[1;36m481692\u001b[0m\u001b[1m}\u001b[0m,\n",
       "    \u001b[1;35mN\u001b[0m\u001b[1m(\u001b[0mR-R253\u001b[1m)\u001b[0m: \u001b[1m{\u001b[0m\u001b[32m'R-R9'\u001b[0m: \u001b[1;36m611207\u001b[0m\u001b[1m}\u001b[0m,\n",
       "    \u001b[1;35mN\u001b[0m\u001b[1m(\u001b[0mR-R254\u001b[1m)\u001b[0m: \u001b[1m{\u001b[0m\u001b[32m'R-R9'\u001b[0m: \u001b[1;36m269612\u001b[0m\u001b[1m}\u001b[0m,\n",
       "    \u001b[1;35mN\u001b[0m\u001b[1m(\u001b[0mR-R255\u001b[1m)\u001b[0m: \u001b[1m{\u001b[0m\u001b[32m'R-R9'\u001b[0m: \u001b[1;36m568183\u001b[0m\u001b[1m}\u001b[0m,\n",
       "    \u001b[1;35mN\u001b[0m\u001b[1m(\u001b[0mR-R256\u001b[1m)\u001b[0m: \u001b[1m{\u001b[0m\u001b[32m'R-R9'\u001b[0m: \u001b[1;36m433814\u001b[0m\u001b[1m}\u001b[0m,\n",
       "    \u001b[1;35mN\u001b[0m\u001b[1m(\u001b[0mR-R257\u001b[1m)\u001b[0m: \u001b[1m{\u001b[0m\u001b[32m'R-R9'\u001b[0m: \u001b[1;36m434231\u001b[0m\u001b[1m}\u001b[0m,\n",
       "    \u001b[1;35mN\u001b[0m\u001b[1m(\u001b[0mR-R258\u001b[1m)\u001b[0m: \u001b[1m{\u001b[0m\u001b[32m'R-R9'\u001b[0m: \u001b[1;36m409639\u001b[0m\u001b[1m}\u001b[0m,\n",
       "    \u001b[1;35mN\u001b[0m\u001b[1m(\u001b[0mR-R259\u001b[1m)\u001b[0m: \u001b[1m{\u001b[0m\u001b[32m'R-R9'\u001b[0m: \u001b[1;36m456701\u001b[0m\u001b[1m}\u001b[0m,\n",
       "    \u001b[1;35mN\u001b[0m\u001b[1m(\u001b[0mR-R260\u001b[1m)\u001b[0m: \u001b[1m{\u001b[0m\u001b[32m'R-R9'\u001b[0m: \u001b[1;36m348848\u001b[0m\u001b[1m}\u001b[0m,\n",
       "    \u001b[1;35mN\u001b[0m\u001b[1m(\u001b[0mR-R261\u001b[1m)\u001b[0m: \u001b[1m{\u001b[0m\u001b[32m'R-R9'\u001b[0m: \u001b[1;36m348494\u001b[0m\u001b[1m}\u001b[0m,\n",
       "    \u001b[1;35mN\u001b[0m\u001b[1m(\u001b[0mR-R262\u001b[1m)\u001b[0m: \u001b[1m{\u001b[0m\u001b[32m'R-R9'\u001b[0m: \u001b[1;36m513278\u001b[0m\u001b[1m}\u001b[0m,\n",
       "    \u001b[1;35mN\u001b[0m\u001b[1m(\u001b[0mR-R263\u001b[1m)\u001b[0m: \u001b[1m{\u001b[0m\u001b[32m'R-R9'\u001b[0m: \u001b[1;36m483761\u001b[0m\u001b[1m}\u001b[0m,\n",
       "    \u001b[1;35mN\u001b[0m\u001b[1m(\u001b[0mR-R264\u001b[1m)\u001b[0m: \u001b[1m{\u001b[0m\u001b[32m'R-R9'\u001b[0m: \u001b[1;36m336655\u001b[0m\u001b[1m}\u001b[0m,\n",
       "    \u001b[1;35mN\u001b[0m\u001b[1m(\u001b[0mR-R265\u001b[1m)\u001b[0m: \u001b[1m{\u001b[0m\u001b[32m'R-R9'\u001b[0m: \u001b[1;36m396323\u001b[0m\u001b[1m}\u001b[0m,\n",
       "    \u001b[1;35mN\u001b[0m\u001b[1m(\u001b[0mR-R266\u001b[1m)\u001b[0m: \u001b[1m{\u001b[0m\u001b[32m'R-R9'\u001b[0m: \u001b[1;36m641793\u001b[0m\u001b[1m}\u001b[0m,\n",
       "    \u001b[1;35mN\u001b[0m\u001b[1m(\u001b[0mR-R267\u001b[1m)\u001b[0m: \u001b[1m{\u001b[0m\u001b[32m'R-R9'\u001b[0m: \u001b[1;36m625203\u001b[0m\u001b[1m}\u001b[0m,\n",
       "    \u001b[1;35mN\u001b[0m\u001b[1m(\u001b[0mR-R268\u001b[1m)\u001b[0m: \u001b[1m{\u001b[0m\u001b[32m'R-R9'\u001b[0m: \u001b[1;36m374723\u001b[0m\u001b[1m}\u001b[0m,\n",
       "    \u001b[1;35mN\u001b[0m\u001b[1m(\u001b[0mR-R269\u001b[1m)\u001b[0m: \u001b[1m{\u001b[0m\u001b[32m'R-R9'\u001b[0m: \u001b[1;36m394966\u001b[0m\u001b[1m}\u001b[0m,\n",
       "    \u001b[1;35mN\u001b[0m\u001b[1m(\u001b[0mR-R270\u001b[1m)\u001b[0m: \u001b[1m{\u001b[0m\u001b[32m'R-R9'\u001b[0m: \u001b[1;36m382950\u001b[0m\u001b[1m}\u001b[0m,\n",
       "    \u001b[1;35mN\u001b[0m\u001b[1m(\u001b[0mR-R271\u001b[1m)\u001b[0m: \u001b[1m{\u001b[0m\u001b[32m'R-R9'\u001b[0m: \u001b[1;36m439993\u001b[0m\u001b[1m}\u001b[0m,\n",
       "    \u001b[1;35mN\u001b[0m\u001b[1m(\u001b[0mR-R272\u001b[1m)\u001b[0m: \u001b[1m{\u001b[0m\u001b[32m'R-R9'\u001b[0m: \u001b[1;36m471264\u001b[0m\u001b[1m}\u001b[0m,\n",
       "    \u001b[1;35mN\u001b[0m\u001b[1m(\u001b[0mR-R273\u001b[1m)\u001b[0m: \u001b[1m{\u001b[0m\u001b[32m'R-R9'\u001b[0m: \u001b[1;36m632056\u001b[0m\u001b[1m}\u001b[0m,\n",
       "    \u001b[1;35mN\u001b[0m\u001b[1m(\u001b[0mR-R274\u001b[1m)\u001b[0m: \u001b[1m{\u001b[0m\u001b[32m'R-R9'\u001b[0m: \u001b[1;36m412608\u001b[0m\u001b[1m}\u001b[0m,\n",
       "    \u001b[1;35mN\u001b[0m\u001b[1m(\u001b[0mR-R275\u001b[1m)\u001b[0m: \u001b[1m{\u001b[0m\u001b[32m'R-R9'\u001b[0m: \u001b[1;36m279555\u001b[0m\u001b[1m}\u001b[0m,\n",
       "    \u001b[1;35mN\u001b[0m\u001b[1m(\u001b[0mR-R276\u001b[1m)\u001b[0m: \u001b[1m{\u001b[0m\u001b[32m'R-R9'\u001b[0m: \u001b[1;36m435779\u001b[0m\u001b[1m}\u001b[0m,\n",
       "    \u001b[1;35mN\u001b[0m\u001b[1m(\u001b[0mR-R277\u001b[1m)\u001b[0m: \u001b[1m{\u001b[0m\u001b[32m'R-R9'\u001b[0m: \u001b[1;36m460696\u001b[0m\u001b[1m}\u001b[0m,\n",
       "    \u001b[1;35mN\u001b[0m\u001b[1m(\u001b[0mR-R278\u001b[1m)\u001b[0m: \u001b[1m{\u001b[0m\u001b[32m'R-R9'\u001b[0m: \u001b[1;36m420964\u001b[0m\u001b[1m}\u001b[0m,\n",
       "    \u001b[1;35mN\u001b[0m\u001b[1m(\u001b[0mR-R279\u001b[1m)\u001b[0m: \u001b[1m{\u001b[0m\u001b[32m'R-R9'\u001b[0m: \u001b[1;36m408867\u001b[0m\u001b[1m}\u001b[0m,\n",
       "    \u001b[1;35mN\u001b[0m\u001b[1m(\u001b[0mR-R280\u001b[1m)\u001b[0m: \u001b[1m{\u001b[0m\u001b[32m'R-R9'\u001b[0m: \u001b[1;36m541648\u001b[0m\u001b[1m}\u001b[0m,\n",
       "    \u001b[1;35mN\u001b[0m\u001b[1m(\u001b[0mR-R281\u001b[1m)\u001b[0m: \u001b[1m{\u001b[0m\u001b[32m'R-R9'\u001b[0m: \u001b[1;36m483499\u001b[0m\u001b[1m}\u001b[0m,\n",
       "    \u001b[1;35mN\u001b[0m\u001b[1m(\u001b[0mR-R282\u001b[1m)\u001b[0m: \u001b[1m{\u001b[0m\u001b[32m'R-R9'\u001b[0m: \u001b[1;36m300567\u001b[0m\u001b[1m}\u001b[0m,\n",
       "    \u001b[1;35mN\u001b[0m\u001b[1m(\u001b[0mR-R283\u001b[1m)\u001b[0m: \u001b[1m{\u001b[0m\u001b[32m'R-R9'\u001b[0m: \u001b[1;36m275979\u001b[0m\u001b[1m}\u001b[0m,\n",
       "    \u001b[1;35mN\u001b[0m\u001b[1m(\u001b[0mR-R284\u001b[1m)\u001b[0m: \u001b[1m{\u001b[0m\u001b[32m'R-R9'\u001b[0m: \u001b[1;36m523747\u001b[0m\u001b[1m}\u001b[0m,\n",
       "    \u001b[1;35mN\u001b[0m\u001b[1m(\u001b[0mR-R285\u001b[1m)\u001b[0m: \u001b[1m{\u001b[0m\u001b[32m'R-R9'\u001b[0m: \u001b[1;36m544473\u001b[0m\u001b[1m}\u001b[0m,\n",
       "    \u001b[1;35mN\u001b[0m\u001b[1m(\u001b[0mR-R286\u001b[1m)\u001b[0m: \u001b[1m{\u001b[0m\u001b[32m'R-R9'\u001b[0m: \u001b[1;36m646566\u001b[0m\u001b[1m}\u001b[0m,\n",
       "    \u001b[1;35mN\u001b[0m\u001b[1m(\u001b[0mR-R287\u001b[1m)\u001b[0m: \u001b[1m{\u001b[0m\u001b[32m'R-R9'\u001b[0m: \u001b[1;36m369824\u001b[0m\u001b[1m}\u001b[0m,\n",
       "    \u001b[1;35mN\u001b[0m\u001b[1m(\u001b[0mR-R288\u001b[1m)\u001b[0m: \u001b[1m{\u001b[0m\u001b[32m'R-R9'\u001b[0m: \u001b[1;36m394916\u001b[0m\u001b[1m}\u001b[0m,\n",
       "    \u001b[1;35mN\u001b[0m\u001b[1m(\u001b[0mR-R289\u001b[1m)\u001b[0m: \u001b[1m{\u001b[0m\u001b[32m'R-R9'\u001b[0m: \u001b[1;36m652232\u001b[0m\u001b[1m}\u001b[0m,\n",
       "    \u001b[1;35mN\u001b[0m\u001b[1m(\u001b[0mR-R290\u001b[1m)\u001b[0m: \u001b[1m{\u001b[0m\u001b[32m'R-R9'\u001b[0m: \u001b[1;36m644267\u001b[0m\u001b[1m}\u001b[0m,\n",
       "    \u001b[1;35mN\u001b[0m\u001b[1m(\u001b[0mR-R291\u001b[1m)\u001b[0m: \u001b[1m{\u001b[0m\u001b[32m'R-R9'\u001b[0m: \u001b[1;36m388182\u001b[0m\u001b[1m}\u001b[0m,\n",
       "    \u001b[1;35mN\u001b[0m\u001b[1m(\u001b[0mR-R292\u001b[1m)\u001b[0m: \u001b[1m{\u001b[0m\u001b[32m'R-R9'\u001b[0m: \u001b[1;36m384851\u001b[0m\u001b[1m}\u001b[0m,\n",
       "    \u001b[1;35mN\u001b[0m\u001b[1m(\u001b[0mR-R293\u001b[1m)\u001b[0m: \u001b[1m{\u001b[0m\u001b[32m'R-R9'\u001b[0m: \u001b[1;36m399712\u001b[0m\u001b[1m}\u001b[0m,\n",
       "    \u001b[1;35mN\u001b[0m\u001b[1m(\u001b[0mR-R294\u001b[1m)\u001b[0m: \u001b[1m{\u001b[0m\u001b[32m'R-R9'\u001b[0m: \u001b[1;36m379997\u001b[0m\u001b[1m}\u001b[0m,\n",
       "    \u001b[1;35mN\u001b[0m\u001b[1m(\u001b[0mR-R295\u001b[1m)\u001b[0m: \u001b[1m{\u001b[0m\u001b[32m'R-R9'\u001b[0m: \u001b[1;36m383104\u001b[0m\u001b[1m}\u001b[0m,\n",
       "    \u001b[1;35mN\u001b[0m\u001b[1m(\u001b[0mR-R296\u001b[1m)\u001b[0m: \u001b[1m{\u001b[0m\u001b[32m'R-R9'\u001b[0m: \u001b[1;36m375904\u001b[0m\u001b[1m}\u001b[0m,\n",
       "    \u001b[1;35mN\u001b[0m\u001b[1m(\u001b[0mR-R297\u001b[1m)\u001b[0m: \u001b[1m{\u001b[0m\u001b[32m'R-R9'\u001b[0m: \u001b[1;36m408583\u001b[0m\u001b[1m}\u001b[0m,\n",
       "    \u001b[1;35mN\u001b[0m\u001b[1m(\u001b[0mR-R298\u001b[1m)\u001b[0m: \u001b[1m{\u001b[0m\u001b[32m'R-R9'\u001b[0m: \u001b[1;36m405300\u001b[0m\u001b[1m}\u001b[0m,\n",
       "    \u001b[1;35mN\u001b[0m\u001b[1m(\u001b[0mR-R299\u001b[1m)\u001b[0m: \u001b[1m{\u001b[0m\u001b[32m'R-R9'\u001b[0m: \u001b[1;36m385898\u001b[0m\u001b[1m}\u001b[0m\n",
       "\u001b[1m}\u001b[0m\n"
      ]
     },
     "metadata": {},
     "output_type": "display_data"
    }
   ],
   "source": [
    "R.iters()"
   ]
  },
  {
   "cell_type": "code",
   "execution_count": 4,
   "metadata": {},
   "outputs": [
    {
     "name": "stdout",
     "output_type": "stream",
     "text": [
      "Starting\n",
      "Monitoring: N(R-R0)\n"
     ]
    },
    {
     "name": "stderr",
     "output_type": "stream",
     "text": [
      "\n",
      "\u001b[A\n",
      "Running: <function HUD._is_registered.<locals>.__get_is_registered at 0x135585dc0>: 100%|██████████| 1/1 [00:05<00:00,  5.34s/it]\n"
     ]
    },
    {
     "name": "stdout",
     "output_type": "stream",
     "text": [
      "N(R-R0) is registered\n"
     ]
    },
    {
     "name": "stderr",
     "output_type": "stream",
     "text": [
      "\n",
      "\u001b[A\n",
      "Running: pm2 pid script: 100%|██████████| 1/1 [00:02<00:00,  2.35s/it]\n"
     ]
    },
    {
     "name": "stdout",
     "output_type": "stream",
     "text": [
      "N(R-R0) is running\n",
      "Monitoring: N(R-R1)\n"
     ]
    },
    {
     "name": "stderr",
     "output_type": "stream",
     "text": [
      "\n",
      "\u001b[A\n",
      "Running: <function HUD._is_registered.<locals>.__get_is_registered at 0x1433225e0>: 100%|██████████| 1/1 [00:04<00:00,  4.93s/it]\n"
     ]
    },
    {
     "name": "stdout",
     "output_type": "stream",
     "text": [
      "N(R-R1) is registered\n"
     ]
    },
    {
     "name": "stderr",
     "output_type": "stream",
     "text": [
      "\n",
      "\u001b[A\n",
      "Running: pm2 pid script: 100%|██████████| 1/1 [00:04<00:00,  4.20s/it]\n"
     ]
    },
    {
     "name": "stdout",
     "output_type": "stream",
     "text": [
      "N(R-R1) is running\n",
      "Monitoring: N(R-R2)\n"
     ]
    },
    {
     "name": "stderr",
     "output_type": "stream",
     "text": [
      "\n",
      "\u001b[A\n",
      "Running: <function HUD._is_registered.<locals>.__get_is_registered at 0x1433224c0>: 100%|██████████| 1/1 [00:05<00:00,  5.21s/it]\n"
     ]
    },
    {
     "name": "stdout",
     "output_type": "stream",
     "text": [
      "N(R-R2) is registered\n"
     ]
    },
    {
     "name": "stderr",
     "output_type": "stream",
     "text": [
      "\n",
      "\u001b[A\n",
      "Running: pm2 pid script: 100%|██████████| 1/1 [00:02<00:00,  2.78s/it]\n"
     ]
    },
    {
     "name": "stdout",
     "output_type": "stream",
     "text": [
      "N(R-R2) is running\n",
      "Monitoring: N(R-R3)\n"
     ]
    },
    {
     "name": "stderr",
     "output_type": "stream",
     "text": [
      "\n",
      "\u001b[A\n",
      "Running: <function HUD._is_registered.<locals>.__get_is_registered at 0x131efd280>: 100%|██████████| 1/1 [00:05<00:00,  5.83s/it]\n"
     ]
    },
    {
     "name": "stdout",
     "output_type": "stream",
     "text": [
      "N(R-R3) is registered\n"
     ]
    },
    {
     "name": "stderr",
     "output_type": "stream",
     "text": [
      "\n",
      "\u001b[A\n",
      "Running: pm2 pid script: 100%|██████████| 1/1 [00:05<00:00,  5.58s/it]\n"
     ]
    },
    {
     "name": "stdout",
     "output_type": "stream",
     "text": [
      "N(R-R3) is running\n",
      "Monitoring: N(R-R4)\n"
     ]
    },
    {
     "name": "stderr",
     "output_type": "stream",
     "text": [
      "\n",
      "\u001b[A\n",
      "Running: pm2 pid script: 100%|██████████| 1/1 [10:24<00:00, 624.11s/it]\n",
      "Running: <function HUD._is_registered.<locals>.__get_is_registered at 0x132336280>: 100%|██████████| 1/1 [00:06<00:00,  6.33s/it]\n"
     ]
    },
    {
     "name": "stdout",
     "output_type": "stream",
     "text": [
      "N(R-R4) is registered\n"
     ]
    },
    {
     "name": "stderr",
     "output_type": "stream",
     "text": [
      "Running: pm2 pid script: 100%|██████████| 1/1 [00:06<00:00,  6.26s/it]\n"
     ]
    },
    {
     "name": "stdout",
     "output_type": "stream",
     "text": [
      "N(R-R4) is running\n",
      "Monitoring: N(R-R5)\n"
     ]
    },
    {
     "name": "stderr",
     "output_type": "stream",
     "text": [
      "Running: <function HUD._is_registered.<locals>.__get_is_registered at 0x14018c670>: 100%|██████████| 1/1 [00:05<00:00,  5.98s/it]\n"
     ]
    },
    {
     "name": "stdout",
     "output_type": "stream",
     "text": [
      "N(R-R5) is registered\n"
     ]
    },
    {
     "name": "stderr",
     "output_type": "stream",
     "text": [
      "Running: pm2 pid script: 100%|██████████| 1/1 [00:07<00:00,  7.07s/it]\n"
     ]
    },
    {
     "name": "stdout",
     "output_type": "stream",
     "text": [
      "N(R-R5) is running\n",
      "Monitoring: N(R-R6)\n"
     ]
    },
    {
     "name": "stderr",
     "output_type": "stream",
     "text": [
      "Running: <function HUD._is_registered.<locals>.__get_is_registered at 0x13688eb80>: 100%|██████████| 1/1 [00:05<00:00,  5.72s/it]\n"
     ]
    },
    {
     "name": "stdout",
     "output_type": "stream",
     "text": [
      "N(R-R6) is registered\n"
     ]
    },
    {
     "name": "stderr",
     "output_type": "stream",
     "text": [
      "Running: pm2 pid script: 100%|██████████| 1/1 [00:05<00:00,  5.91s/it]\n"
     ]
    },
    {
     "name": "stdout",
     "output_type": "stream",
     "text": [
      "N(R-R6) is running\n",
      "Monitoring: N(R-R7)\n"
     ]
    },
    {
     "name": "stderr",
     "output_type": "stream",
     "text": [
      "Running: <function HUD._is_registered.<locals>.__get_is_registered at 0x13470ce50>: 100%|██████████| 1/1 [00:04<00:00,  4.89s/it]\n"
     ]
    },
    {
     "name": "stdout",
     "output_type": "stream",
     "text": [
      "N(R-R7) is registered\n"
     ]
    },
    {
     "name": "stderr",
     "output_type": "stream",
     "text": [
      "Running: pm2 pid script: 100%|██████████| 1/1 [00:04<00:00,  4.96s/it]\n"
     ]
    },
    {
     "name": "stdout",
     "output_type": "stream",
     "text": [
      "N(R-R7) is running\n",
      "Monitoring: N(R-R8)\n"
     ]
    },
    {
     "name": "stderr",
     "output_type": "stream",
     "text": [
      "Running: <function HUD._is_registered.<locals>.__get_is_registered at 0x1335cd310>: 100%|██████████| 1/1 [00:04<00:00,  4.80s/it]\n"
     ]
    },
    {
     "name": "stdout",
     "output_type": "stream",
     "text": [
      "N(R-R8) is registered\n"
     ]
    },
    {
     "name": "stderr",
     "output_type": "stream",
     "text": [
      "Running: pm2 pid script: 100%|██████████| 1/1 [00:04<00:00,  4.56s/it]\n"
     ]
    },
    {
     "name": "stdout",
     "output_type": "stream",
     "text": [
      "N(R-R8) is running\n",
      "Monitoring: N(R-R9)\n"
     ]
    },
    {
     "name": "stderr",
     "output_type": "stream",
     "text": [
      "Running: <function HUD._is_registered.<locals>.__get_is_registered at 0x140fc8430>: 100%|██████████| 1/1 [00:04<00:00,  5.00s/it]\n"
     ]
    },
    {
     "name": "stdout",
     "output_type": "stream",
     "text": [
      "N(R-R9) is registered\n"
     ]
    },
    {
     "name": "stderr",
     "output_type": "stream",
     "text": [
      "Running: pm2 pid script: 100%|██████████| 1/1 [00:02<00:00,  2.27s/it]\n"
     ]
    },
    {
     "name": "stdout",
     "output_type": "stream",
     "text": [
      "N(R-R9) is running\n",
      "Monitoring: N(R-R10)\n"
     ]
    },
    {
     "name": "stderr",
     "output_type": "stream",
     "text": [
      "Running: <function HUD._is_registered.<locals>.__get_is_registered at 0x1429edf70>: 100%|██████████| 1/1 [00:05<00:00,  5.09s/it]\n"
     ]
    },
    {
     "name": "stdout",
     "output_type": "stream",
     "text": [
      "N(R-R10) is registered\n"
     ]
    },
    {
     "name": "stderr",
     "output_type": "stream",
     "text": [
      "Running: pm2 pid script: 100%|██████████| 1/1 [00:02<00:00,  2.81s/it]\n"
     ]
    },
    {
     "name": "stdout",
     "output_type": "stream",
     "text": [
      "N(R-R10) is running\n",
      "Monitoring: N(R-R11)\n"
     ]
    },
    {
     "name": "stderr",
     "output_type": "stream",
     "text": [
      "Running: <function HUD._is_registered.<locals>.__get_is_registered at 0x133566430>: 100%|██████████| 1/1 [00:05<00:00,  5.12s/it]\n"
     ]
    },
    {
     "name": "stdout",
     "output_type": "stream",
     "text": [
      "N(R-R11) is not registered\n"
     ]
    },
    {
     "name": "stderr",
     "output_type": "stream",
     "text": [
      "Running: pkill -f pow.py & rm  pow_*: 100%|██████████| 300/300 [00:19<00:00, 15.27it/s]\n"
     ]
    },
    {
     "name": "stdout",
     "output_type": "stream",
     "text": [
      "Killing pow: [N(R-R0), N(R-R1), N(R-R2), N(R-R3), N(R-R4), N(R-R5), N(R-R6), N(R-R7), N(R-R8), N(R-R9), N(R-R10), N(R-R11), N(R-R12), N(R-R13), N(R-R14), N(R-R15), N(R-R16), N(R-R17), N(R-R18), N(R-R19), N(R-R20), N(R-R21), N(R-R22), N(R-R23), N(R-R24), N(R-R25), N(R-R26), N(R-R27), N(R-R28), N(R-R29), N(R-R30), N(R-R31), N(R-R32), N(R-R33), N(R-R34), N(R-R35), N(R-R36), N(R-R37), N(R-R38), N(R-R39), N(R-R40), N(R-R41), N(R-R42), N(R-R43), N(R-R44), N(R-R45), N(R-R46), N(R-R47), N(R-R48), N(R-R49), N(R-R50), N(R-R51), N(R-R52), N(R-R53), N(R-R54), N(R-R55), N(R-R56), N(R-R57), N(R-R58), N(R-R59), N(R-R60), N(R-R61), N(R-R62), N(R-R63), N(R-R64), N(R-R65), N(R-R66), N(R-R67), N(R-R68), N(R-R69), N(R-R70), N(R-R71), N(R-R72), N(R-R73), N(R-R74), N(R-R75), N(R-R76), N(R-R77), N(R-R78), N(R-R79), N(R-R80), N(R-R81), N(R-R82), N(R-R83), N(R-R84), N(R-R85), N(R-R86), N(R-R87), N(R-R88), N(R-R89), N(R-R90), N(R-R91), N(R-R92), N(R-R93), N(R-R94), N(R-R95), N(R-R96), N(R-R97), N(R-R98), N(R-R99), N(R-R100), N(R-R101), N(R-R102), N(R-R103), N(R-R104), N(R-R105), N(R-R106), N(R-R107), N(R-R108), N(R-R109), N(R-R110), N(R-R111), N(R-R112), N(R-R113), N(R-R114), N(R-R115), N(R-R116), N(R-R117), N(R-R118), N(R-R119), N(R-R120), N(R-R121), N(R-R122), N(R-R123), N(R-R124), N(R-R125), N(R-R126), N(R-R127), N(R-R128), N(R-R129), N(R-R130), N(R-R131), N(R-R132), N(R-R133), N(R-R134), N(R-R135), N(R-R136), N(R-R137), N(R-R138), N(R-R139), N(R-R140), N(R-R141), N(R-R142), N(R-R143), N(R-R144), N(R-R145), N(R-R146), N(R-R147), N(R-R148), N(R-R149), N(R-R150), N(R-R151), N(R-R152), N(R-R153), N(R-R154), N(R-R155), N(R-R156), N(R-R157), N(R-R158), N(R-R159), N(R-R160), N(R-R161), N(R-R162), N(R-R163), N(R-R164), N(R-R165), N(R-R166), N(R-R167), N(R-R168), N(R-R169), N(R-R170), N(R-R171), N(R-R172), N(R-R173), N(R-R174), N(R-R175), N(R-R176), N(R-R177), N(R-R178), N(R-R179), N(R-R180), N(R-R181), N(R-R182), N(R-R183), N(R-R184), N(R-R185), N(R-R186), N(R-R187), N(R-R188), N(R-R189), N(R-R190), N(R-R191), N(R-R192), N(R-R193), N(R-R194), N(R-R195), N(R-R196), N(R-R197), N(R-R198), N(R-R199), N(R-R200), N(R-R201), N(R-R202), N(R-R203), N(R-R204), N(R-R205), N(R-R206), N(R-R207), N(R-R208), N(R-R209), N(R-R210), N(R-R211), N(R-R212), N(R-R213), N(R-R214), N(R-R215), N(R-R216), N(R-R217), N(R-R218), N(R-R219), N(R-R220), N(R-R221), N(R-R222), N(R-R223), N(R-R224), N(R-R225), N(R-R226), N(R-R227), N(R-R228), N(R-R229), N(R-R230), N(R-R231), N(R-R232), N(R-R233), N(R-R234), N(R-R235), N(R-R236), N(R-R237), N(R-R238), N(R-R239), N(R-R240), N(R-R241), N(R-R242), N(R-R243), N(R-R244), N(R-R245), N(R-R246), N(R-R247), N(R-R248), N(R-R249), N(R-R250), N(R-R251), N(R-R252), N(R-R253), N(R-R254), N(R-R255), N(R-R256), N(R-R257), N(R-R258), N(R-R259), N(R-R260), N(R-R261), N(R-R262), N(R-R263), N(R-R264), N(R-R265), N(R-R266), N(R-R267), N(R-R268), N(R-R269), N(R-R270), N(R-R271), N(R-R272), N(R-R273), N(R-R274), N(R-R275), N(R-R276), N(R-R277), N(R-R278), N(R-R279), N(R-R280), N(R-R281), N(R-R282), N(R-R283), N(R-R284), N(R-R285), N(R-R286), N(R-R287), N(R-R288), N(R-R289), N(R-R290), N(R-R291), N(R-R292), N(R-R293), N(R-R294), N(R-R295), N(R-R296), N(R-R297), N(R-R298), N(R-R299)]\n",
      "INFO Starting PoW | targets:[N(R-R11)] workers: [N(R-R0), N(R-R1), N(R-R2), N(R-R3), N(R-R4), N(R-R5), N(R-R6), N(R-R7), N(R-R8), N(R-R9), N(R-R10), N(R-R11), N(R-R12), N(R-R13), N(R-R14), N(R-R15), N(R-R16), N(R-R17), N(R-R18), N(R-R19), N(R-R20), N(R-R21), N(R-R22), N(R-R23), N(R-R24), N(R-R25), N(R-R26), N(R-R27), N(R-R28), N(R-R29), N(R-R30), N(R-R31), N(R-R32), N(R-R33), N(R-R34), N(R-R35), N(R-R36), N(R-R37), N(R-R38), N(R-R39), N(R-R40), N(R-R41), N(R-R42), N(R-R43), N(R-R44), N(R-R45), N(R-R46), N(R-R47), N(R-R48), N(R-R49), N(R-R50), N(R-R51), N(R-R52), N(R-R53), N(R-R54), N(R-R55), N(R-R56), N(R-R57), N(R-R58), N(R-R59), N(R-R60), N(R-R61), N(R-R62), N(R-R63), N(R-R64), N(R-R65), N(R-R66), N(R-R67), N(R-R68), N(R-R69), N(R-R70), N(R-R71), N(R-R72), N(R-R73), N(R-R74), N(R-R75), N(R-R76), N(R-R77), N(R-R78), N(R-R79), N(R-R80), N(R-R81), N(R-R82), N(R-R83), N(R-R84), N(R-R85), N(R-R86), N(R-R87), N(R-R88), N(R-R89), N(R-R90), N(R-R91), N(R-R92), N(R-R93), N(R-R94), N(R-R95), N(R-R96), N(R-R97), N(R-R98), N(R-R99), N(R-R100), N(R-R101), N(R-R102), N(R-R103), N(R-R104), N(R-R105), N(R-R106), N(R-R107), N(R-R108), N(R-R109), N(R-R110), N(R-R111), N(R-R112), N(R-R113), N(R-R114), N(R-R115), N(R-R116), N(R-R117), N(R-R118), N(R-R119), N(R-R120), N(R-R121), N(R-R122), N(R-R123), N(R-R124), N(R-R125), N(R-R126), N(R-R127), N(R-R128), N(R-R129), N(R-R130), N(R-R131), N(R-R132), N(R-R133), N(R-R134), N(R-R135), N(R-R136), N(R-R137), N(R-R138), N(R-R139), N(R-R140), N(R-R141), N(R-R142), N(R-R143), N(R-R144), N(R-R145), N(R-R146), N(R-R147), N(R-R148), N(R-R149), N(R-R150), N(R-R151), N(R-R152), N(R-R153), N(R-R154), N(R-R155), N(R-R156), N(R-R157), N(R-R158), N(R-R159), N(R-R160), N(R-R161), N(R-R162), N(R-R163), N(R-R164), N(R-R165), N(R-R166), N(R-R167), N(R-R168), N(R-R169), N(R-R170), N(R-R171), N(R-R172), N(R-R173), N(R-R174), N(R-R175), N(R-R176), N(R-R177), N(R-R178), N(R-R179), N(R-R180), N(R-R181), N(R-R182), N(R-R183), N(R-R184), N(R-R185), N(R-R186), N(R-R187), N(R-R188), N(R-R189), N(R-R190), N(R-R191), N(R-R192), N(R-R193), N(R-R194), N(R-R195), N(R-R196), N(R-R197), N(R-R198), N(R-R199), N(R-R200), N(R-R201), N(R-R202), N(R-R203), N(R-R204), N(R-R205), N(R-R206), N(R-R207), N(R-R208), N(R-R209), N(R-R210), N(R-R211), N(R-R212), N(R-R213), N(R-R214), N(R-R215), N(R-R216), N(R-R217), N(R-R218), N(R-R219), N(R-R220), N(R-R221), N(R-R222), N(R-R223), N(R-R224), N(R-R225), N(R-R226), N(R-R227), N(R-R228), N(R-R229), N(R-R230), N(R-R231), N(R-R232), N(R-R233), N(R-R234), N(R-R235), N(R-R236), N(R-R237), N(R-R238), N(R-R239), N(R-R240), N(R-R241), N(R-R242), N(R-R243), N(R-R244), N(R-R245), N(R-R246), N(R-R247), N(R-R248), N(R-R249), N(R-R250), N(R-R251), N(R-R252), N(R-R253), N(R-R254), N(R-R255), N(R-R256), N(R-R257), N(R-R258), N(R-R259), N(R-R260), N(R-R261), N(R-R262), N(R-R263), N(R-R264), N(R-R265), N(R-R266), N(R-R267), N(R-R268), N(R-R269), N(R-R270), N(R-R271), N(R-R272), N(R-R273), N(R-R274), N(R-R275), N(R-R276), N(R-R277), N(R-R278), N(R-R279), N(R-R280), N(R-R281), N(R-R282), N(R-R283), N(R-R284), N(R-R285), N(R-R286), N(R-R287), N(R-R288), N(R-R289), N(R-R290), N(R-R291), N(R-R292), N(R-R293), N(R-R294), N(R-R295), N(R-R296), N(R-R297), N(R-R298), N(R-R299)]\n"
     ]
    },
    {
     "name": "stderr",
     "output_type": "stream",
     "text": [
      "Running: <function HUD._is_registered.<locals>.__get_is_registered at 0x1405c9f70>: 100%|██████████| 1/1 [00:02<00:00,  2.40s/it]\n",
      "Running: pkill -f **hR11** & rm **hR11**: 100%|██████████| 300/300 [00:13<00:00, 22.55it/s] \n",
      "Running: mkdir -p ~/.bittensor/wallets/R/hotkeys: 100%|██████████| 300/300 [00:04<00:00, 67.92it/s] \n",
      "Running: echo '{\"accountId\": \"0x5a4c85aa8035dd95cc1d6d406212c0cc71cd83f64f615ff252e0a5a751f2dd66\", \"publicKey\": \"0x5a4c85aa8035dd95cc1d6d406212c0cc71cd83f64f615ff252e0a5a751f2dd66\", \"secretPhrase\": \"lobster decorate school light kingdom craft ice better parent equal doll coconut\", \"secretSeed\": \"0xefe0c6cb91b7e321a939457bf5c8ea57bb55169f779507abc4787045665dad69\", \"ss58Address\": \"5E76u5AMt72MRWWyB3UA5UWgUgustHEitAvaoTwLwGHG8r8v\"}' > ~/.bittensor/wallets/R/hotkeys/R11: 100%|██████████| 300/300 [00:16<00:00, 18.41it/s]\n",
      "Running: echo '{\"accountId\": \"0xa40472d672511733d6acc49d0ee68da88006c8fbbc3786b9b2b13fcf21c6143f\", \"publicKey\": \"0xa40472d672511733d6acc49d0ee68da88006c8fbbc3786b9b2b13fcf21c6143f\", \"secretPhrase\": null, \"secretSeed\": null, \"ss58Address\": \"5Fmm2o5x6zW3USdNUxJRqBHMipZW6ryv18Wp21RNFVcmxmAP\"}' > ~/.bittensor/wallets/R/coldkeypub.txt: 100%|██████████| 300/300 [00:03<00:00, 89.66it/s] \n",
      "Running: nohup python3 HUD/pow.py --subtensor.network nakamoto --wallet.name R --wallet.hotkey R11 > pow_0_cR_hR11.out &: 600it [00:04, 132.26it/s]                         \n"
     ]
    },
    {
     "name": "stdout",
     "output_type": "stream",
     "text": [
      "Starting pow: [N(R-R0), N(R-R1), N(R-R2), N(R-R3), N(R-R4), N(R-R5), N(R-R6), N(R-R7), N(R-R8), N(R-R9), N(R-R10), N(R-R11), N(R-R12), N(R-R13), N(R-R14), N(R-R15), N(R-R16), N(R-R17), N(R-R18), N(R-R19), N(R-R20), N(R-R21), N(R-R22), N(R-R23), N(R-R24), N(R-R25), N(R-R26), N(R-R27), N(R-R28), N(R-R29), N(R-R30), N(R-R31), N(R-R32), N(R-R33), N(R-R34), N(R-R35), N(R-R36), N(R-R37), N(R-R38), N(R-R39), N(R-R40), N(R-R41), N(R-R42), N(R-R43), N(R-R44), N(R-R45), N(R-R46), N(R-R47), N(R-R48), N(R-R49), N(R-R50), N(R-R51), N(R-R52), N(R-R53), N(R-R54), N(R-R55), N(R-R56), N(R-R57), N(R-R58), N(R-R59), N(R-R60), N(R-R61), N(R-R62), N(R-R63), N(R-R64), N(R-R65), N(R-R66), N(R-R67), N(R-R68), N(R-R69), N(R-R70), N(R-R71), N(R-R72), N(R-R73), N(R-R74), N(R-R75), N(R-R76), N(R-R77), N(R-R78), N(R-R79), N(R-R80), N(R-R81), N(R-R82), N(R-R83), N(R-R84), N(R-R85), N(R-R86), N(R-R87), N(R-R88), N(R-R89), N(R-R90), N(R-R91), N(R-R92), N(R-R93), N(R-R94), N(R-R95), N(R-R96), N(R-R97), N(R-R98), N(R-R99), N(R-R100), N(R-R101), N(R-R102), N(R-R103), N(R-R104), N(R-R105), N(R-R106), N(R-R107), N(R-R108), N(R-R109), N(R-R110), N(R-R111), N(R-R112), N(R-R113), N(R-R114), N(R-R115), N(R-R116), N(R-R117), N(R-R118), N(R-R119), N(R-R120), N(R-R121), N(R-R122), N(R-R123), N(R-R124), N(R-R125), N(R-R126), N(R-R127), N(R-R128), N(R-R129), N(R-R130), N(R-R131), N(R-R132), N(R-R133), N(R-R134), N(R-R135), N(R-R136), N(R-R137), N(R-R138), N(R-R139), N(R-R140), N(R-R141), N(R-R142), N(R-R143), N(R-R144), N(R-R145), N(R-R146), N(R-R147), N(R-R148), N(R-R149), N(R-R150), N(R-R151), N(R-R152), N(R-R153), N(R-R154), N(R-R155), N(R-R156), N(R-R157), N(R-R158), N(R-R159), N(R-R160), N(R-R161), N(R-R162), N(R-R163), N(R-R164), N(R-R165), N(R-R166), N(R-R167), N(R-R168), N(R-R169), N(R-R170), N(R-R171), N(R-R172), N(R-R173), N(R-R174), N(R-R175), N(R-R176), N(R-R177), N(R-R178), N(R-R179), N(R-R180), N(R-R181), N(R-R182), N(R-R183), N(R-R184), N(R-R185), N(R-R186), N(R-R187), N(R-R188), N(R-R189), N(R-R190), N(R-R191), N(R-R192), N(R-R193), N(R-R194), N(R-R195), N(R-R196), N(R-R197), N(R-R198), N(R-R199), N(R-R200), N(R-R201), N(R-R202), N(R-R203), N(R-R204), N(R-R205), N(R-R206), N(R-R207), N(R-R208), N(R-R209), N(R-R210), N(R-R211), N(R-R212), N(R-R213), N(R-R214), N(R-R215), N(R-R216), N(R-R217), N(R-R218), N(R-R219), N(R-R220), N(R-R221), N(R-R222), N(R-R223), N(R-R224), N(R-R225), N(R-R226), N(R-R227), N(R-R228), N(R-R229), N(R-R230), N(R-R231), N(R-R232), N(R-R233), N(R-R234), N(R-R235), N(R-R236), N(R-R237), N(R-R238), N(R-R239), N(R-R240), N(R-R241), N(R-R242), N(R-R243), N(R-R244), N(R-R245), N(R-R246), N(R-R247), N(R-R248), N(R-R249), N(R-R250), N(R-R251), N(R-R252), N(R-R253), N(R-R254), N(R-R255), N(R-R256), N(R-R257), N(R-R258), N(R-R259), N(R-R260), N(R-R261), N(R-R262), N(R-R263), N(R-R264), N(R-R265), N(R-R266), N(R-R267), N(R-R268), N(R-R269), N(R-R270), N(R-R271), N(R-R272), N(R-R273), N(R-R274), N(R-R275), N(R-R276), N(R-R277), N(R-R278), N(R-R279), N(R-R280), N(R-R281), N(R-R282), N(R-R283), N(R-R284), N(R-R285), N(R-R286), N(R-R287), N(R-R288), N(R-R289), N(R-R290), N(R-R291), N(R-R292), N(R-R293), N(R-R294), N(R-R295), N(R-R296), N(R-R297), N(R-R298), N(R-R299)]\n"
     ]
    },
    {
     "name": "stderr",
     "output_type": "stream",
     "text": [
      "Running: <function HUD._is_registered.<locals>.__get_is_registered at 0x135ad90d0>: 100%|██████████| 1/1 [00:06<00:00,  6.87s/it]\n"
     ]
    },
    {
     "name": "stdout",
     "output_type": "stream",
     "text": [
      "Waiting ... \n"
     ]
    },
    {
     "name": "stderr",
     "output_type": "stream",
     "text": [
      "Running: <function HUD._is_registered.<locals>.__get_is_registered at 0x140b15d30>: 100%|██████████| 1/1 [00:02<00:00,  2.34s/it]\n"
     ]
    },
    {
     "name": "stdout",
     "output_type": "stream",
     "text": [
      "Waiting ... \n"
     ]
    },
    {
     "name": "stderr",
     "output_type": "stream",
     "text": [
      "Running: <function HUD._is_registered.<locals>.__get_is_registered at 0x1415e2a60>: 100%|██████████| 1/1 [00:03<00:00,  3.11s/it]\n"
     ]
    },
    {
     "name": "stdout",
     "output_type": "stream",
     "text": [
      "Waiting ... \n"
     ]
    },
    {
     "name": "stderr",
     "output_type": "stream",
     "text": [
      "Running: <function HUD._is_registered.<locals>.__get_is_registered at 0x140b15d30>: 100%|██████████| 1/1 [00:02<00:00,  2.29s/it]\n"
     ]
    },
    {
     "name": "stdout",
     "output_type": "stream",
     "text": [
      "Waiting ... \n"
     ]
    },
    {
     "name": "stderr",
     "output_type": "stream",
     "text": [
      "Running: <function HUD._is_registered.<locals>.__get_is_registered at 0x1415e2a60>: 100%|██████████| 1/1 [00:10<00:00, 10.97s/it]\n"
     ]
    },
    {
     "name": "stdout",
     "output_type": "stream",
     "text": [
      "Waiting ... \n"
     ]
    },
    {
     "name": "stderr",
     "output_type": "stream",
     "text": [
      "Running: <function HUD._is_registered.<locals>.__get_is_registered at 0x140b15d30>: 100%|██████████| 1/1 [00:02<00:00,  2.38s/it]\n"
     ]
    },
    {
     "name": "stdout",
     "output_type": "stream",
     "text": [
      "Waiting ... \n"
     ]
    },
    {
     "name": "stderr",
     "output_type": "stream",
     "text": [
      "Running: <function HUD._is_registered.<locals>.__get_is_registered at 0x137b09310>: 100%|██████████| 1/1 [00:02<00:00,  2.28s/it]\n"
     ]
    },
    {
     "name": "stdout",
     "output_type": "stream",
     "text": [
      "Waiting ... \n"
     ]
    },
    {
     "name": "stderr",
     "output_type": "stream",
     "text": [
      "Running: <function HUD._is_registered.<locals>.__get_is_registered at 0x140b15d30>: 100%|██████████| 1/1 [00:02<00:00,  2.84s/it]\n"
     ]
    },
    {
     "name": "stdout",
     "output_type": "stream",
     "text": [
      "Waiting ... \n"
     ]
    },
    {
     "name": "stderr",
     "output_type": "stream",
     "text": [
      "Running: <function HUD._is_registered.<locals>.__get_is_registered at 0x1335cd820>: 100%|██████████| 1/1 [00:02<00:00,  2.54s/it]\n"
     ]
    },
    {
     "name": "stdout",
     "output_type": "stream",
     "text": [
      "Waiting ... \n"
     ]
    },
    {
     "name": "stderr",
     "output_type": "stream",
     "text": [
      "Running: <function HUD._is_registered.<locals>.__get_is_registered at 0x140b15d30>: 100%|██████████| 1/1 [00:02<00:00,  2.65s/it]\n"
     ]
    },
    {
     "name": "stdout",
     "output_type": "stream",
     "text": [
      "Waiting ... \n"
     ]
    },
    {
     "name": "stderr",
     "output_type": "stream",
     "text": [
      "Running: <function HUD._is_registered.<locals>.__get_is_registered at 0x1335cd820>: 100%|██████████| 1/1 [00:02<00:00,  2.29s/it]\n"
     ]
    },
    {
     "name": "stdout",
     "output_type": "stream",
     "text": [
      "Waiting ... \n"
     ]
    },
    {
     "name": "stderr",
     "output_type": "stream",
     "text": [
      "Running: <function HUD._is_registered.<locals>.__get_is_registered at 0x1335cd820>: 100%|██████████| 1/1 [00:02<00:00,  2.32s/it]\n"
     ]
    },
    {
     "name": "stdout",
     "output_type": "stream",
     "text": [
      "Waiting ... \n"
     ]
    },
    {
     "name": "stderr",
     "output_type": "stream",
     "text": [
      "Running: <function HUD._is_registered.<locals>.__get_is_registered at 0x13470c790>: 100%|██████████| 1/1 [00:08<00:00,  8.14s/it]\n"
     ]
    },
    {
     "name": "stdout",
     "output_type": "stream",
     "text": [
      "Waiting ... \n"
     ]
    },
    {
     "name": "stderr",
     "output_type": "stream",
     "text": [
      "Running: <function HUD._is_registered.<locals>.__get_is_registered at 0x1335cd820>: 100%|██████████| 1/1 [00:02<00:00,  2.15s/it]\n"
     ]
    },
    {
     "name": "stdout",
     "output_type": "stream",
     "text": [
      "Waiting ... \n"
     ]
    },
    {
     "name": "stderr",
     "output_type": "stream",
     "text": [
      "Running: <function HUD._is_registered.<locals>.__get_is_registered at 0x131fb6040>: 100%|██████████| 1/1 [00:02<00:00,  2.44s/it]\n"
     ]
    },
    {
     "name": "stdout",
     "output_type": "stream",
     "text": [
      "Waiting ... \n"
     ]
    },
    {
     "name": "stderr",
     "output_type": "stream",
     "text": [
      "Running: <function HUD._is_registered.<locals>.__get_is_registered at 0x1335cd820>: 100%|██████████| 1/1 [00:02<00:00,  2.41s/it]\n"
     ]
    },
    {
     "name": "stdout",
     "output_type": "stream",
     "text": [
      "Waiting ... \n"
     ]
    },
    {
     "name": "stderr",
     "output_type": "stream",
     "text": [
      "Running: <function HUD._is_registered.<locals>.__get_is_registered at 0x14018c700>: 100%|██████████| 1/1 [00:02<00:00,  2.66s/it]\n"
     ]
    },
    {
     "name": "stdout",
     "output_type": "stream",
     "text": [
      "Waiting ... \n"
     ]
    },
    {
     "name": "stderr",
     "output_type": "stream",
     "text": [
      "Running: <function HUD._is_registered.<locals>.__get_is_registered at 0x131fb6040>: 100%|██████████| 1/1 [00:02<00:00,  2.80s/it]\n"
     ]
    },
    {
     "name": "stdout",
     "output_type": "stream",
     "text": [
      "Waiting ... \n"
     ]
    },
    {
     "name": "stderr",
     "output_type": "stream",
     "text": [
      "Running: <function HUD._is_registered.<locals>.__get_is_registered at 0x131fb61f0>: 100%|██████████| 1/1 [00:02<00:00,  2.33s/it]\n"
     ]
    },
    {
     "name": "stdout",
     "output_type": "stream",
     "text": [
      "Waiting ... \n"
     ]
    },
    {
     "name": "stderr",
     "output_type": "stream",
     "text": [
      "Running: <function HUD._is_registered.<locals>.__get_is_registered at 0x131fb6040>: 100%|██████████| 1/1 [00:22<00:00, 22.22s/it]\n"
     ]
    },
    {
     "name": "stdout",
     "output_type": "stream",
     "text": [
      "Waiting ... \n"
     ]
    },
    {
     "name": "stderr",
     "output_type": "stream",
     "text": [
      "Running: <function HUD._is_registered.<locals>.__get_is_registered at 0x1427758b0>: 100%|██████████| 1/1 [00:02<00:00,  2.72s/it]\n"
     ]
    },
    {
     "name": "stdout",
     "output_type": "stream",
     "text": [
      "Waiting ... \n"
     ]
    },
    {
     "name": "stderr",
     "output_type": "stream",
     "text": [
      "Running: <function HUD._is_registered.<locals>.__get_is_registered at 0x131fb6040>: 100%|██████████| 1/1 [00:02<00:00,  2.80s/it]\n"
     ]
    },
    {
     "name": "stdout",
     "output_type": "stream",
     "text": [
      "Waiting ... \n"
     ]
    },
    {
     "name": "stderr",
     "output_type": "stream",
     "text": [
      "Running: <function HUD._is_registered.<locals>.__get_is_registered at 0x142e863a0>: 100%|██████████| 1/1 [00:02<00:00,  2.84s/it]\n"
     ]
    },
    {
     "name": "stdout",
     "output_type": "stream",
     "text": [
      "Waiting ... \n"
     ]
    },
    {
     "name": "stderr",
     "output_type": "stream",
     "text": [
      "Running: <function HUD._is_registered.<locals>.__get_is_registered at 0x1335cd0d0>: 100%|██████████| 1/1 [00:02<00:00,  2.51s/it]\n"
     ]
    },
    {
     "name": "stdout",
     "output_type": "stream",
     "text": [
      "Waiting ... \n"
     ]
    },
    {
     "name": "stderr",
     "output_type": "stream",
     "text": [
      "Running: <function HUD._is_registered.<locals>.__get_is_registered at 0x1427758b0>: 100%|██████████| 1/1 [00:02<00:00,  2.29s/it]\n"
     ]
    },
    {
     "name": "stdout",
     "output_type": "stream",
     "text": [
      "Waiting ... \n"
     ]
    },
    {
     "name": "stderr",
     "output_type": "stream",
     "text": [
      "Running: <function HUD._is_registered.<locals>.__get_is_registered at 0x1335cd0d0>: 100%|██████████| 1/1 [00:04<00:00,  4.81s/it]\n"
     ]
    },
    {
     "name": "stdout",
     "output_type": "stream",
     "text": [
      "Waiting ... \n"
     ]
    },
    {
     "name": "stderr",
     "output_type": "stream",
     "text": [
      "Running: <function HUD._is_registered.<locals>.__get_is_registered at 0x1427758b0>: 100%|██████████| 1/1 [00:02<00:00,  2.50s/it]\n"
     ]
    },
    {
     "name": "stdout",
     "output_type": "stream",
     "text": [
      "Waiting ... \n"
     ]
    },
    {
     "name": "stderr",
     "output_type": "stream",
     "text": [
      "Running: <function HUD._is_registered.<locals>.__get_is_registered at 0x133c474c0>: 100%|██████████| 1/1 [00:03<00:00,  3.40s/it]\n"
     ]
    },
    {
     "name": "stdout",
     "output_type": "stream",
     "text": [
      "Waiting ... \n"
     ]
    }
   ],
   "source": [
    "import time\n",
    "from hud import HUD\n",
    "\n",
    "R = HUD.load_from_config(project=\"R\")\n",
    "miners = R\n",
    "pow_workers = R\n",
    "while True:\n",
    "    try:\n",
    "        print(\"Starting\")\n",
    "        for r in miners:\n",
    "            print( \"Monitoring: {}\".format(r) )\n",
    "            if not r.is_registered():\n",
    "                print( \"{} is not registered\".format(r) )\n",
    "                pow_workers.kill_pow()\n",
    "                print( \"Killing pow: {}\".format( pow_workers ) )\n",
    "                pow_workers.pow( r )\n",
    "                print( \"Starting pow: {}\".format( pow_workers ) )\n",
    "                while True:\n",
    "                    if r.is_registered():\n",
    "                        print( \"{} was just registered\".format(r) )\n",
    "                        break\n",
    "                    else:\n",
    "                        print( \"Waiting ... \" )\n",
    "                        time.sleep(60)\n",
    "                pow_workers.kill_pow( r )\n",
    "            else:\n",
    "                print( \"{} is registered\".format(r) )\n",
    "            \n",
    "            if not r.is_running():\n",
    "                print( \"{} is not running\".format(r) )\n",
    "                r.start()\n",
    "                print( \"{} is running\".format(r) )\n",
    "            else:\n",
    "                print( \"{} is running\".format(r) )\n",
    "\n",
    "    except Exception as e:\n",
    "        print ( e )\n"
   ]
  },
  {
   "cell_type": "code",
   "execution_count": null,
   "metadata": {},
   "outputs": [],
   "source": [
    "R.kill_pow()"
   ]
  },
  {
   "cell_type": "code",
   "execution_count": null,
   "metadata": {},
   "outputs": [],
   "source": [
    "\n",
    "\n",
    "totals = {}\n",
    "for dic in result.values():\n",
    "    for key, value in dic.items():\n",
    "        if key not in totals: totals[key] = 0\n",
    "        totals[key] += value\n",
    "\n",
    "print(totals)\n",
    "\n"
   ]
  },
  {
   "cell_type": "code",
   "execution_count": null,
   "metadata": {},
   "outputs": [],
   "source": [
    "result = R.iters()"
   ]
  },
  {
   "cell_type": "code",
   "execution_count": null,
   "metadata": {},
   "outputs": [],
   "source": [
    "\n"
   ]
  },
  {
   "cell_type": "code",
   "execution_count": null,
   "metadata": {},
   "outputs": [],
   "source": []
  }
 ],
 "metadata": {
  "interpreter": {
   "hash": "b0fa6594d8f4cbf19f97940f81e996739fb7646882a419484c72d19e05852a7e"
  },
  "kernelspec": {
   "display_name": "Python 3.9.12 64-bit",
   "language": "python",
   "name": "python3"
  },
  "language_info": {
   "codemirror_mode": {
    "name": "ipython",
    "version": 3
   },
   "file_extension": ".py",
   "mimetype": "text/x-python",
   "name": "python",
   "nbconvert_exporter": "python",
   "pygments_lexer": "ipython3",
   "version": "3.9.12"
  },
  "orig_nbformat": 4
 },
 "nbformat": 4,
 "nbformat_minor": 2
}
