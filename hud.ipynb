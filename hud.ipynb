{
 "cells": [
  {
   "cell_type": "code",
   "execution_count": 1,
   "metadata": {},
   "outputs": [],
   "source": [
    "from hud import HUD\n",
    "R = HUD.load_from_config(project=\"R\")\n"
   ]
  },
  {
   "cell_type": "code",
   "execution_count": 2,
   "metadata": {},
   "outputs": [
    {
     "name": "stderr",
     "output_type": "stream",
     "text": [
      "Running: pm2 pid script: 100%|██████████| 300/300 [00:20<00:00, 14.83it/s] \n"
     ]
    },
    {
     "data": {
      "text/html": [
       "<pre style=\"white-space:pre;overflow-x:auto;line-height:normal;font-family:Menlo,'DejaVu Sans Mono',consolas,'Courier New',monospace\">\n",
       "<span style=\"font-weight: bold\">{</span>\n",
       "    <span style=\"color: #800080; text-decoration-color: #800080; font-weight: bold\">N</span><span style=\"font-weight: bold\">(</span>R-R0<span style=\"font-weight: bold\">)</span>: <span style=\"color: #00ff00; text-decoration-color: #00ff00; font-style: italic\">True</span>,\n",
       "    <span style=\"color: #800080; text-decoration-color: #800080; font-weight: bold\">N</span><span style=\"font-weight: bold\">(</span>R-R1<span style=\"font-weight: bold\">)</span>: <span style=\"color: #00ff00; text-decoration-color: #00ff00; font-style: italic\">True</span>,\n",
       "    <span style=\"color: #800080; text-decoration-color: #800080; font-weight: bold\">N</span><span style=\"font-weight: bold\">(</span>R-R2<span style=\"font-weight: bold\">)</span>: <span style=\"color: #00ff00; text-decoration-color: #00ff00; font-style: italic\">True</span>,\n",
       "    <span style=\"color: #800080; text-decoration-color: #800080; font-weight: bold\">N</span><span style=\"font-weight: bold\">(</span>R-R3<span style=\"font-weight: bold\">)</span>: <span style=\"color: #00ff00; text-decoration-color: #00ff00; font-style: italic\">True</span>,\n",
       "    <span style=\"color: #800080; text-decoration-color: #800080; font-weight: bold\">N</span><span style=\"font-weight: bold\">(</span>R-R4<span style=\"font-weight: bold\">)</span>: <span style=\"color: #00ff00; text-decoration-color: #00ff00; font-style: italic\">True</span>,\n",
       "    <span style=\"color: #800080; text-decoration-color: #800080; font-weight: bold\">N</span><span style=\"font-weight: bold\">(</span>R-R5<span style=\"font-weight: bold\">)</span>: <span style=\"color: #00ff00; text-decoration-color: #00ff00; font-style: italic\">True</span>,\n",
       "    <span style=\"color: #800080; text-decoration-color: #800080; font-weight: bold\">N</span><span style=\"font-weight: bold\">(</span>R-R6<span style=\"font-weight: bold\">)</span>: <span style=\"color: #00ff00; text-decoration-color: #00ff00; font-style: italic\">True</span>,\n",
       "    <span style=\"color: #800080; text-decoration-color: #800080; font-weight: bold\">N</span><span style=\"font-weight: bold\">(</span>R-R7<span style=\"font-weight: bold\">)</span>: <span style=\"color: #00ff00; text-decoration-color: #00ff00; font-style: italic\">True</span>,\n",
       "    <span style=\"color: #800080; text-decoration-color: #800080; font-weight: bold\">N</span><span style=\"font-weight: bold\">(</span>R-R8<span style=\"font-weight: bold\">)</span>: <span style=\"color: #00ff00; text-decoration-color: #00ff00; font-style: italic\">True</span>,\n",
       "    <span style=\"color: #800080; text-decoration-color: #800080; font-weight: bold\">N</span><span style=\"font-weight: bold\">(</span>R-R9<span style=\"font-weight: bold\">)</span>: <span style=\"color: #00ff00; text-decoration-color: #00ff00; font-style: italic\">True</span>,\n",
       "    <span style=\"color: #800080; text-decoration-color: #800080; font-weight: bold\">N</span><span style=\"font-weight: bold\">(</span>R-R10<span style=\"font-weight: bold\">)</span>: <span style=\"color: #00ff00; text-decoration-color: #00ff00; font-style: italic\">True</span>,\n",
       "    <span style=\"color: #800080; text-decoration-color: #800080; font-weight: bold\">N</span><span style=\"font-weight: bold\">(</span>R-R11<span style=\"font-weight: bold\">)</span>: <span style=\"color: #00ff00; text-decoration-color: #00ff00; font-style: italic\">True</span>,\n",
       "    <span style=\"color: #800080; text-decoration-color: #800080; font-weight: bold\">N</span><span style=\"font-weight: bold\">(</span>R-R12<span style=\"font-weight: bold\">)</span>: <span style=\"color: #00ff00; text-decoration-color: #00ff00; font-style: italic\">True</span>,\n",
       "    <span style=\"color: #800080; text-decoration-color: #800080; font-weight: bold\">N</span><span style=\"font-weight: bold\">(</span>R-R13<span style=\"font-weight: bold\">)</span>: <span style=\"color: #00ff00; text-decoration-color: #00ff00; font-style: italic\">True</span>,\n",
       "    <span style=\"color: #800080; text-decoration-color: #800080; font-weight: bold\">N</span><span style=\"font-weight: bold\">(</span>R-R14<span style=\"font-weight: bold\">)</span>: <span style=\"color: #00ff00; text-decoration-color: #00ff00; font-style: italic\">True</span>,\n",
       "    <span style=\"color: #800080; text-decoration-color: #800080; font-weight: bold\">N</span><span style=\"font-weight: bold\">(</span>R-R15<span style=\"font-weight: bold\">)</span>: <span style=\"color: #00ff00; text-decoration-color: #00ff00; font-style: italic\">True</span>,\n",
       "    <span style=\"color: #800080; text-decoration-color: #800080; font-weight: bold\">N</span><span style=\"font-weight: bold\">(</span>R-R16<span style=\"font-weight: bold\">)</span>: <span style=\"color: #00ff00; text-decoration-color: #00ff00; font-style: italic\">True</span>,\n",
       "    <span style=\"color: #800080; text-decoration-color: #800080; font-weight: bold\">N</span><span style=\"font-weight: bold\">(</span>R-R17<span style=\"font-weight: bold\">)</span>: <span style=\"color: #00ff00; text-decoration-color: #00ff00; font-style: italic\">True</span>,\n",
       "    <span style=\"color: #800080; text-decoration-color: #800080; font-weight: bold\">N</span><span style=\"font-weight: bold\">(</span>R-R18<span style=\"font-weight: bold\">)</span>: <span style=\"color: #00ff00; text-decoration-color: #00ff00; font-style: italic\">True</span>,\n",
       "    <span style=\"color: #800080; text-decoration-color: #800080; font-weight: bold\">N</span><span style=\"font-weight: bold\">(</span>R-R19<span style=\"font-weight: bold\">)</span>: <span style=\"color: #00ff00; text-decoration-color: #00ff00; font-style: italic\">True</span>,\n",
       "    <span style=\"color: #800080; text-decoration-color: #800080; font-weight: bold\">N</span><span style=\"font-weight: bold\">(</span>R-R20<span style=\"font-weight: bold\">)</span>: <span style=\"color: #00ff00; text-decoration-color: #00ff00; font-style: italic\">True</span>,\n",
       "    <span style=\"color: #800080; text-decoration-color: #800080; font-weight: bold\">N</span><span style=\"font-weight: bold\">(</span>R-R21<span style=\"font-weight: bold\">)</span>: <span style=\"color: #00ff00; text-decoration-color: #00ff00; font-style: italic\">True</span>,\n",
       "    <span style=\"color: #800080; text-decoration-color: #800080; font-weight: bold\">N</span><span style=\"font-weight: bold\">(</span>R-R22<span style=\"font-weight: bold\">)</span>: <span style=\"color: #00ff00; text-decoration-color: #00ff00; font-style: italic\">True</span>,\n",
       "    <span style=\"color: #800080; text-decoration-color: #800080; font-weight: bold\">N</span><span style=\"font-weight: bold\">(</span>R-R23<span style=\"font-weight: bold\">)</span>: <span style=\"color: #00ff00; text-decoration-color: #00ff00; font-style: italic\">True</span>,\n",
       "    <span style=\"color: #800080; text-decoration-color: #800080; font-weight: bold\">N</span><span style=\"font-weight: bold\">(</span>R-R24<span style=\"font-weight: bold\">)</span>: <span style=\"color: #00ff00; text-decoration-color: #00ff00; font-style: italic\">True</span>,\n",
       "    <span style=\"color: #800080; text-decoration-color: #800080; font-weight: bold\">N</span><span style=\"font-weight: bold\">(</span>R-R25<span style=\"font-weight: bold\">)</span>: <span style=\"color: #00ff00; text-decoration-color: #00ff00; font-style: italic\">True</span>,\n",
       "    <span style=\"color: #800080; text-decoration-color: #800080; font-weight: bold\">N</span><span style=\"font-weight: bold\">(</span>R-R26<span style=\"font-weight: bold\">)</span>: <span style=\"color: #00ff00; text-decoration-color: #00ff00; font-style: italic\">True</span>,\n",
       "    <span style=\"color: #800080; text-decoration-color: #800080; font-weight: bold\">N</span><span style=\"font-weight: bold\">(</span>R-R27<span style=\"font-weight: bold\">)</span>: <span style=\"color: #00ff00; text-decoration-color: #00ff00; font-style: italic\">True</span>,\n",
       "    <span style=\"color: #800080; text-decoration-color: #800080; font-weight: bold\">N</span><span style=\"font-weight: bold\">(</span>R-R28<span style=\"font-weight: bold\">)</span>: <span style=\"color: #00ff00; text-decoration-color: #00ff00; font-style: italic\">True</span>,\n",
       "    <span style=\"color: #800080; text-decoration-color: #800080; font-weight: bold\">N</span><span style=\"font-weight: bold\">(</span>R-R29<span style=\"font-weight: bold\">)</span>: <span style=\"color: #00ff00; text-decoration-color: #00ff00; font-style: italic\">True</span>,\n",
       "    <span style=\"color: #800080; text-decoration-color: #800080; font-weight: bold\">N</span><span style=\"font-weight: bold\">(</span>R-R30<span style=\"font-weight: bold\">)</span>: <span style=\"color: #00ff00; text-decoration-color: #00ff00; font-style: italic\">True</span>,\n",
       "    <span style=\"color: #800080; text-decoration-color: #800080; font-weight: bold\">N</span><span style=\"font-weight: bold\">(</span>R-R31<span style=\"font-weight: bold\">)</span>: <span style=\"color: #00ff00; text-decoration-color: #00ff00; font-style: italic\">True</span>,\n",
       "    <span style=\"color: #800080; text-decoration-color: #800080; font-weight: bold\">N</span><span style=\"font-weight: bold\">(</span>R-R32<span style=\"font-weight: bold\">)</span>: <span style=\"color: #00ff00; text-decoration-color: #00ff00; font-style: italic\">True</span>,\n",
       "    <span style=\"color: #800080; text-decoration-color: #800080; font-weight: bold\">N</span><span style=\"font-weight: bold\">(</span>R-R33<span style=\"font-weight: bold\">)</span>: <span style=\"color: #00ff00; text-decoration-color: #00ff00; font-style: italic\">True</span>,\n",
       "    <span style=\"color: #800080; text-decoration-color: #800080; font-weight: bold\">N</span><span style=\"font-weight: bold\">(</span>R-R34<span style=\"font-weight: bold\">)</span>: <span style=\"color: #00ff00; text-decoration-color: #00ff00; font-style: italic\">True</span>,\n",
       "    <span style=\"color: #800080; text-decoration-color: #800080; font-weight: bold\">N</span><span style=\"font-weight: bold\">(</span>R-R35<span style=\"font-weight: bold\">)</span>: <span style=\"color: #00ff00; text-decoration-color: #00ff00; font-style: italic\">True</span>,\n",
       "    <span style=\"color: #800080; text-decoration-color: #800080; font-weight: bold\">N</span><span style=\"font-weight: bold\">(</span>R-R36<span style=\"font-weight: bold\">)</span>: <span style=\"color: #00ff00; text-decoration-color: #00ff00; font-style: italic\">True</span>,\n",
       "    <span style=\"color: #800080; text-decoration-color: #800080; font-weight: bold\">N</span><span style=\"font-weight: bold\">(</span>R-R37<span style=\"font-weight: bold\">)</span>: <span style=\"color: #ff0000; text-decoration-color: #ff0000; font-style: italic\">False</span>,\n",
       "    <span style=\"color: #800080; text-decoration-color: #800080; font-weight: bold\">N</span><span style=\"font-weight: bold\">(</span>R-R38<span style=\"font-weight: bold\">)</span>: <span style=\"color: #ff0000; text-decoration-color: #ff0000; font-style: italic\">False</span>,\n",
       "    <span style=\"color: #800080; text-decoration-color: #800080; font-weight: bold\">N</span><span style=\"font-weight: bold\">(</span>R-R39<span style=\"font-weight: bold\">)</span>: <span style=\"color: #ff0000; text-decoration-color: #ff0000; font-style: italic\">False</span>,\n",
       "    <span style=\"color: #800080; text-decoration-color: #800080; font-weight: bold\">N</span><span style=\"font-weight: bold\">(</span>R-R40<span style=\"font-weight: bold\">)</span>: <span style=\"color: #ff0000; text-decoration-color: #ff0000; font-style: italic\">False</span>,\n",
       "    <span style=\"color: #800080; text-decoration-color: #800080; font-weight: bold\">N</span><span style=\"font-weight: bold\">(</span>R-R41<span style=\"font-weight: bold\">)</span>: <span style=\"color: #ff0000; text-decoration-color: #ff0000; font-style: italic\">False</span>,\n",
       "    <span style=\"color: #800080; text-decoration-color: #800080; font-weight: bold\">N</span><span style=\"font-weight: bold\">(</span>R-R42<span style=\"font-weight: bold\">)</span>: <span style=\"color: #ff0000; text-decoration-color: #ff0000; font-style: italic\">False</span>,\n",
       "    <span style=\"color: #800080; text-decoration-color: #800080; font-weight: bold\">N</span><span style=\"font-weight: bold\">(</span>R-R43<span style=\"font-weight: bold\">)</span>: <span style=\"color: #ff0000; text-decoration-color: #ff0000; font-style: italic\">False</span>,\n",
       "    <span style=\"color: #800080; text-decoration-color: #800080; font-weight: bold\">N</span><span style=\"font-weight: bold\">(</span>R-R44<span style=\"font-weight: bold\">)</span>: <span style=\"color: #ff0000; text-decoration-color: #ff0000; font-style: italic\">False</span>,\n",
       "    <span style=\"color: #800080; text-decoration-color: #800080; font-weight: bold\">N</span><span style=\"font-weight: bold\">(</span>R-R45<span style=\"font-weight: bold\">)</span>: <span style=\"color: #ff0000; text-decoration-color: #ff0000; font-style: italic\">False</span>,\n",
       "    <span style=\"color: #800080; text-decoration-color: #800080; font-weight: bold\">N</span><span style=\"font-weight: bold\">(</span>R-R46<span style=\"font-weight: bold\">)</span>: <span style=\"color: #ff0000; text-decoration-color: #ff0000; font-style: italic\">False</span>,\n",
       "    <span style=\"color: #800080; text-decoration-color: #800080; font-weight: bold\">N</span><span style=\"font-weight: bold\">(</span>R-R47<span style=\"font-weight: bold\">)</span>: <span style=\"color: #ff0000; text-decoration-color: #ff0000; font-style: italic\">False</span>,\n",
       "    <span style=\"color: #800080; text-decoration-color: #800080; font-weight: bold\">N</span><span style=\"font-weight: bold\">(</span>R-R48<span style=\"font-weight: bold\">)</span>: <span style=\"color: #ff0000; text-decoration-color: #ff0000; font-style: italic\">False</span>,\n",
       "    <span style=\"color: #800080; text-decoration-color: #800080; font-weight: bold\">N</span><span style=\"font-weight: bold\">(</span>R-R49<span style=\"font-weight: bold\">)</span>: <span style=\"color: #ff0000; text-decoration-color: #ff0000; font-style: italic\">False</span>,\n",
       "    <span style=\"color: #800080; text-decoration-color: #800080; font-weight: bold\">N</span><span style=\"font-weight: bold\">(</span>R-R50<span style=\"font-weight: bold\">)</span>: <span style=\"color: #00ff00; text-decoration-color: #00ff00; font-style: italic\">True</span>,\n",
       "    <span style=\"color: #800080; text-decoration-color: #800080; font-weight: bold\">N</span><span style=\"font-weight: bold\">(</span>R-R51<span style=\"font-weight: bold\">)</span>: <span style=\"color: #00ff00; text-decoration-color: #00ff00; font-style: italic\">True</span>,\n",
       "    <span style=\"color: #800080; text-decoration-color: #800080; font-weight: bold\">N</span><span style=\"font-weight: bold\">(</span>R-R52<span style=\"font-weight: bold\">)</span>: <span style=\"color: #00ff00; text-decoration-color: #00ff00; font-style: italic\">True</span>,\n",
       "    <span style=\"color: #800080; text-decoration-color: #800080; font-weight: bold\">N</span><span style=\"font-weight: bold\">(</span>R-R53<span style=\"font-weight: bold\">)</span>: <span style=\"color: #00ff00; text-decoration-color: #00ff00; font-style: italic\">True</span>,\n",
       "    <span style=\"color: #800080; text-decoration-color: #800080; font-weight: bold\">N</span><span style=\"font-weight: bold\">(</span>R-R54<span style=\"font-weight: bold\">)</span>: <span style=\"color: #00ff00; text-decoration-color: #00ff00; font-style: italic\">True</span>,\n",
       "    <span style=\"color: #800080; text-decoration-color: #800080; font-weight: bold\">N</span><span style=\"font-weight: bold\">(</span>R-R55<span style=\"font-weight: bold\">)</span>: <span style=\"color: #ff0000; text-decoration-color: #ff0000; font-style: italic\">False</span>,\n",
       "    <span style=\"color: #800080; text-decoration-color: #800080; font-weight: bold\">N</span><span style=\"font-weight: bold\">(</span>R-R56<span style=\"font-weight: bold\">)</span>: <span style=\"color: #ff0000; text-decoration-color: #ff0000; font-style: italic\">False</span>,\n",
       "    <span style=\"color: #800080; text-decoration-color: #800080; font-weight: bold\">N</span><span style=\"font-weight: bold\">(</span>R-R57<span style=\"font-weight: bold\">)</span>: <span style=\"color: #ff0000; text-decoration-color: #ff0000; font-style: italic\">False</span>,\n",
       "    <span style=\"color: #800080; text-decoration-color: #800080; font-weight: bold\">N</span><span style=\"font-weight: bold\">(</span>R-R58<span style=\"font-weight: bold\">)</span>: <span style=\"color: #ff0000; text-decoration-color: #ff0000; font-style: italic\">False</span>,\n",
       "    <span style=\"color: #800080; text-decoration-color: #800080; font-weight: bold\">N</span><span style=\"font-weight: bold\">(</span>R-R59<span style=\"font-weight: bold\">)</span>: <span style=\"color: #ff0000; text-decoration-color: #ff0000; font-style: italic\">False</span>,\n",
       "    <span style=\"color: #800080; text-decoration-color: #800080; font-weight: bold\">N</span><span style=\"font-weight: bold\">(</span>R-R60<span style=\"font-weight: bold\">)</span>: <span style=\"color: #ff0000; text-decoration-color: #ff0000; font-style: italic\">False</span>,\n",
       "    <span style=\"color: #800080; text-decoration-color: #800080; font-weight: bold\">N</span><span style=\"font-weight: bold\">(</span>R-R61<span style=\"font-weight: bold\">)</span>: <span style=\"color: #ff0000; text-decoration-color: #ff0000; font-style: italic\">False</span>,\n",
       "    <span style=\"color: #800080; text-decoration-color: #800080; font-weight: bold\">N</span><span style=\"font-weight: bold\">(</span>R-R62<span style=\"font-weight: bold\">)</span>: <span style=\"color: #ff0000; text-decoration-color: #ff0000; font-style: italic\">False</span>,\n",
       "    <span style=\"color: #800080; text-decoration-color: #800080; font-weight: bold\">N</span><span style=\"font-weight: bold\">(</span>R-R63<span style=\"font-weight: bold\">)</span>: <span style=\"color: #ff0000; text-decoration-color: #ff0000; font-style: italic\">False</span>,\n",
       "    <span style=\"color: #800080; text-decoration-color: #800080; font-weight: bold\">N</span><span style=\"font-weight: bold\">(</span>R-R64<span style=\"font-weight: bold\">)</span>: <span style=\"color: #ff0000; text-decoration-color: #ff0000; font-style: italic\">False</span>,\n",
       "    <span style=\"color: #800080; text-decoration-color: #800080; font-weight: bold\">N</span><span style=\"font-weight: bold\">(</span>R-R65<span style=\"font-weight: bold\">)</span>: <span style=\"color: #ff0000; text-decoration-color: #ff0000; font-style: italic\">False</span>,\n",
       "    <span style=\"color: #800080; text-decoration-color: #800080; font-weight: bold\">N</span><span style=\"font-weight: bold\">(</span>R-R66<span style=\"font-weight: bold\">)</span>: <span style=\"color: #ff0000; text-decoration-color: #ff0000; font-style: italic\">False</span>,\n",
       "    <span style=\"color: #800080; text-decoration-color: #800080; font-weight: bold\">N</span><span style=\"font-weight: bold\">(</span>R-R67<span style=\"font-weight: bold\">)</span>: <span style=\"color: #ff0000; text-decoration-color: #ff0000; font-style: italic\">False</span>,\n",
       "    <span style=\"color: #800080; text-decoration-color: #800080; font-weight: bold\">N</span><span style=\"font-weight: bold\">(</span>R-R68<span style=\"font-weight: bold\">)</span>: <span style=\"color: #ff0000; text-decoration-color: #ff0000; font-style: italic\">False</span>,\n",
       "    <span style=\"color: #800080; text-decoration-color: #800080; font-weight: bold\">N</span><span style=\"font-weight: bold\">(</span>R-R69<span style=\"font-weight: bold\">)</span>: <span style=\"color: #ff0000; text-decoration-color: #ff0000; font-style: italic\">False</span>,\n",
       "    <span style=\"color: #800080; text-decoration-color: #800080; font-weight: bold\">N</span><span style=\"font-weight: bold\">(</span>R-R70<span style=\"font-weight: bold\">)</span>: <span style=\"color: #ff0000; text-decoration-color: #ff0000; font-style: italic\">False</span>,\n",
       "    <span style=\"color: #800080; text-decoration-color: #800080; font-weight: bold\">N</span><span style=\"font-weight: bold\">(</span>R-R71<span style=\"font-weight: bold\">)</span>: <span style=\"color: #ff0000; text-decoration-color: #ff0000; font-style: italic\">False</span>,\n",
       "    <span style=\"color: #800080; text-decoration-color: #800080; font-weight: bold\">N</span><span style=\"font-weight: bold\">(</span>R-R72<span style=\"font-weight: bold\">)</span>: <span style=\"color: #ff0000; text-decoration-color: #ff0000; font-style: italic\">False</span>,\n",
       "    <span style=\"color: #800080; text-decoration-color: #800080; font-weight: bold\">N</span><span style=\"font-weight: bold\">(</span>R-R73<span style=\"font-weight: bold\">)</span>: <span style=\"color: #ff0000; text-decoration-color: #ff0000; font-style: italic\">False</span>,\n",
       "    <span style=\"color: #800080; text-decoration-color: #800080; font-weight: bold\">N</span><span style=\"font-weight: bold\">(</span>R-R74<span style=\"font-weight: bold\">)</span>: <span style=\"color: #ff0000; text-decoration-color: #ff0000; font-style: italic\">False</span>,\n",
       "    <span style=\"color: #800080; text-decoration-color: #800080; font-weight: bold\">N</span><span style=\"font-weight: bold\">(</span>R-R75<span style=\"font-weight: bold\">)</span>: <span style=\"color: #ff0000; text-decoration-color: #ff0000; font-style: italic\">False</span>,\n",
       "    <span style=\"color: #800080; text-decoration-color: #800080; font-weight: bold\">N</span><span style=\"font-weight: bold\">(</span>R-R76<span style=\"font-weight: bold\">)</span>: <span style=\"color: #ff0000; text-decoration-color: #ff0000; font-style: italic\">False</span>,\n",
       "    <span style=\"color: #800080; text-decoration-color: #800080; font-weight: bold\">N</span><span style=\"font-weight: bold\">(</span>R-R77<span style=\"font-weight: bold\">)</span>: <span style=\"color: #ff0000; text-decoration-color: #ff0000; font-style: italic\">False</span>,\n",
       "    <span style=\"color: #800080; text-decoration-color: #800080; font-weight: bold\">N</span><span style=\"font-weight: bold\">(</span>R-R78<span style=\"font-weight: bold\">)</span>: <span style=\"color: #ff0000; text-decoration-color: #ff0000; font-style: italic\">False</span>,\n",
       "    <span style=\"color: #800080; text-decoration-color: #800080; font-weight: bold\">N</span><span style=\"font-weight: bold\">(</span>R-R79<span style=\"font-weight: bold\">)</span>: <span style=\"color: #ff0000; text-decoration-color: #ff0000; font-style: italic\">False</span>,\n",
       "    <span style=\"color: #800080; text-decoration-color: #800080; font-weight: bold\">N</span><span style=\"font-weight: bold\">(</span>R-R80<span style=\"font-weight: bold\">)</span>: <span style=\"color: #ff0000; text-decoration-color: #ff0000; font-style: italic\">False</span>,\n",
       "    <span style=\"color: #800080; text-decoration-color: #800080; font-weight: bold\">N</span><span style=\"font-weight: bold\">(</span>R-R81<span style=\"font-weight: bold\">)</span>: <span style=\"color: #ff0000; text-decoration-color: #ff0000; font-style: italic\">False</span>,\n",
       "    <span style=\"color: #800080; text-decoration-color: #800080; font-weight: bold\">N</span><span style=\"font-weight: bold\">(</span>R-R82<span style=\"font-weight: bold\">)</span>: <span style=\"color: #ff0000; text-decoration-color: #ff0000; font-style: italic\">False</span>,\n",
       "    <span style=\"color: #800080; text-decoration-color: #800080; font-weight: bold\">N</span><span style=\"font-weight: bold\">(</span>R-R83<span style=\"font-weight: bold\">)</span>: <span style=\"color: #ff0000; text-decoration-color: #ff0000; font-style: italic\">False</span>,\n",
       "    <span style=\"color: #800080; text-decoration-color: #800080; font-weight: bold\">N</span><span style=\"font-weight: bold\">(</span>R-R84<span style=\"font-weight: bold\">)</span>: <span style=\"color: #ff0000; text-decoration-color: #ff0000; font-style: italic\">False</span>,\n",
       "    <span style=\"color: #800080; text-decoration-color: #800080; font-weight: bold\">N</span><span style=\"font-weight: bold\">(</span>R-R85<span style=\"font-weight: bold\">)</span>: <span style=\"color: #ff0000; text-decoration-color: #ff0000; font-style: italic\">False</span>,\n",
       "    <span style=\"color: #800080; text-decoration-color: #800080; font-weight: bold\">N</span><span style=\"font-weight: bold\">(</span>R-R86<span style=\"font-weight: bold\">)</span>: <span style=\"color: #ff0000; text-decoration-color: #ff0000; font-style: italic\">False</span>,\n",
       "    <span style=\"color: #800080; text-decoration-color: #800080; font-weight: bold\">N</span><span style=\"font-weight: bold\">(</span>R-R87<span style=\"font-weight: bold\">)</span>: <span style=\"color: #ff0000; text-decoration-color: #ff0000; font-style: italic\">False</span>,\n",
       "    <span style=\"color: #800080; text-decoration-color: #800080; font-weight: bold\">N</span><span style=\"font-weight: bold\">(</span>R-R88<span style=\"font-weight: bold\">)</span>: <span style=\"color: #ff0000; text-decoration-color: #ff0000; font-style: italic\">False</span>,\n",
       "    <span style=\"color: #800080; text-decoration-color: #800080; font-weight: bold\">N</span><span style=\"font-weight: bold\">(</span>R-R89<span style=\"font-weight: bold\">)</span>: <span style=\"color: #ff0000; text-decoration-color: #ff0000; font-style: italic\">False</span>,\n",
       "    <span style=\"color: #800080; text-decoration-color: #800080; font-weight: bold\">N</span><span style=\"font-weight: bold\">(</span>R-R90<span style=\"font-weight: bold\">)</span>: <span style=\"color: #ff0000; text-decoration-color: #ff0000; font-style: italic\">False</span>,\n",
       "    <span style=\"color: #800080; text-decoration-color: #800080; font-weight: bold\">N</span><span style=\"font-weight: bold\">(</span>R-R91<span style=\"font-weight: bold\">)</span>: <span style=\"color: #ff0000; text-decoration-color: #ff0000; font-style: italic\">False</span>,\n",
       "    <span style=\"color: #800080; text-decoration-color: #800080; font-weight: bold\">N</span><span style=\"font-weight: bold\">(</span>R-R92<span style=\"font-weight: bold\">)</span>: <span style=\"color: #ff0000; text-decoration-color: #ff0000; font-style: italic\">False</span>,\n",
       "    <span style=\"color: #800080; text-decoration-color: #800080; font-weight: bold\">N</span><span style=\"font-weight: bold\">(</span>R-R93<span style=\"font-weight: bold\">)</span>: <span style=\"color: #ff0000; text-decoration-color: #ff0000; font-style: italic\">False</span>,\n",
       "    <span style=\"color: #800080; text-decoration-color: #800080; font-weight: bold\">N</span><span style=\"font-weight: bold\">(</span>R-R94<span style=\"font-weight: bold\">)</span>: <span style=\"color: #ff0000; text-decoration-color: #ff0000; font-style: italic\">False</span>,\n",
       "    <span style=\"color: #800080; text-decoration-color: #800080; font-weight: bold\">N</span><span style=\"font-weight: bold\">(</span>R-R95<span style=\"font-weight: bold\">)</span>: <span style=\"color: #ff0000; text-decoration-color: #ff0000; font-style: italic\">False</span>,\n",
       "    <span style=\"color: #800080; text-decoration-color: #800080; font-weight: bold\">N</span><span style=\"font-weight: bold\">(</span>R-R96<span style=\"font-weight: bold\">)</span>: <span style=\"color: #ff0000; text-decoration-color: #ff0000; font-style: italic\">False</span>,\n",
       "    <span style=\"color: #800080; text-decoration-color: #800080; font-weight: bold\">N</span><span style=\"font-weight: bold\">(</span>R-R97<span style=\"font-weight: bold\">)</span>: <span style=\"color: #ff0000; text-decoration-color: #ff0000; font-style: italic\">False</span>,\n",
       "    <span style=\"color: #800080; text-decoration-color: #800080; font-weight: bold\">N</span><span style=\"font-weight: bold\">(</span>R-R98<span style=\"font-weight: bold\">)</span>: <span style=\"color: #ff0000; text-decoration-color: #ff0000; font-style: italic\">False</span>,\n",
       "    <span style=\"color: #800080; text-decoration-color: #800080; font-weight: bold\">N</span><span style=\"font-weight: bold\">(</span>R-R99<span style=\"font-weight: bold\">)</span>: <span style=\"color: #ff0000; text-decoration-color: #ff0000; font-style: italic\">False</span>,\n",
       "    <span style=\"color: #800080; text-decoration-color: #800080; font-weight: bold\">N</span><span style=\"font-weight: bold\">(</span>R-R100<span style=\"font-weight: bold\">)</span>: <span style=\"color: #ff0000; text-decoration-color: #ff0000; font-style: italic\">False</span>,\n",
       "    <span style=\"color: #800080; text-decoration-color: #800080; font-weight: bold\">N</span><span style=\"font-weight: bold\">(</span>R-R101<span style=\"font-weight: bold\">)</span>: <span style=\"color: #ff0000; text-decoration-color: #ff0000; font-style: italic\">False</span>,\n",
       "    <span style=\"color: #800080; text-decoration-color: #800080; font-weight: bold\">N</span><span style=\"font-weight: bold\">(</span>R-R102<span style=\"font-weight: bold\">)</span>: <span style=\"color: #ff0000; text-decoration-color: #ff0000; font-style: italic\">False</span>,\n",
       "    <span style=\"color: #800080; text-decoration-color: #800080; font-weight: bold\">N</span><span style=\"font-weight: bold\">(</span>R-R103<span style=\"font-weight: bold\">)</span>: <span style=\"color: #ff0000; text-decoration-color: #ff0000; font-style: italic\">False</span>,\n",
       "    <span style=\"color: #800080; text-decoration-color: #800080; font-weight: bold\">N</span><span style=\"font-weight: bold\">(</span>R-R104<span style=\"font-weight: bold\">)</span>: <span style=\"color: #ff0000; text-decoration-color: #ff0000; font-style: italic\">False</span>,\n",
       "    <span style=\"color: #800080; text-decoration-color: #800080; font-weight: bold\">N</span><span style=\"font-weight: bold\">(</span>R-R105<span style=\"font-weight: bold\">)</span>: <span style=\"color: #ff0000; text-decoration-color: #ff0000; font-style: italic\">False</span>,\n",
       "    <span style=\"color: #800080; text-decoration-color: #800080; font-weight: bold\">N</span><span style=\"font-weight: bold\">(</span>R-R106<span style=\"font-weight: bold\">)</span>: <span style=\"color: #ff0000; text-decoration-color: #ff0000; font-style: italic\">False</span>,\n",
       "    <span style=\"color: #800080; text-decoration-color: #800080; font-weight: bold\">N</span><span style=\"font-weight: bold\">(</span>R-R107<span style=\"font-weight: bold\">)</span>: <span style=\"color: #ff0000; text-decoration-color: #ff0000; font-style: italic\">False</span>,\n",
       "    <span style=\"color: #800080; text-decoration-color: #800080; font-weight: bold\">N</span><span style=\"font-weight: bold\">(</span>R-R108<span style=\"font-weight: bold\">)</span>: <span style=\"color: #ff0000; text-decoration-color: #ff0000; font-style: italic\">False</span>,\n",
       "    <span style=\"color: #800080; text-decoration-color: #800080; font-weight: bold\">N</span><span style=\"font-weight: bold\">(</span>R-R109<span style=\"font-weight: bold\">)</span>: <span style=\"color: #ff0000; text-decoration-color: #ff0000; font-style: italic\">False</span>,\n",
       "    <span style=\"color: #800080; text-decoration-color: #800080; font-weight: bold\">N</span><span style=\"font-weight: bold\">(</span>R-R110<span style=\"font-weight: bold\">)</span>: <span style=\"color: #ff0000; text-decoration-color: #ff0000; font-style: italic\">False</span>,\n",
       "    <span style=\"color: #800080; text-decoration-color: #800080; font-weight: bold\">N</span><span style=\"font-weight: bold\">(</span>R-R111<span style=\"font-weight: bold\">)</span>: <span style=\"color: #ff0000; text-decoration-color: #ff0000; font-style: italic\">False</span>,\n",
       "    <span style=\"color: #800080; text-decoration-color: #800080; font-weight: bold\">N</span><span style=\"font-weight: bold\">(</span>R-R112<span style=\"font-weight: bold\">)</span>: <span style=\"color: #ff0000; text-decoration-color: #ff0000; font-style: italic\">False</span>,\n",
       "    <span style=\"color: #800080; text-decoration-color: #800080; font-weight: bold\">N</span><span style=\"font-weight: bold\">(</span>R-R113<span style=\"font-weight: bold\">)</span>: <span style=\"color: #ff0000; text-decoration-color: #ff0000; font-style: italic\">False</span>,\n",
       "    <span style=\"color: #800080; text-decoration-color: #800080; font-weight: bold\">N</span><span style=\"font-weight: bold\">(</span>R-R114<span style=\"font-weight: bold\">)</span>: <span style=\"color: #ff0000; text-decoration-color: #ff0000; font-style: italic\">False</span>,\n",
       "    <span style=\"color: #800080; text-decoration-color: #800080; font-weight: bold\">N</span><span style=\"font-weight: bold\">(</span>R-R115<span style=\"font-weight: bold\">)</span>: <span style=\"color: #ff0000; text-decoration-color: #ff0000; font-style: italic\">False</span>,\n",
       "    <span style=\"color: #800080; text-decoration-color: #800080; font-weight: bold\">N</span><span style=\"font-weight: bold\">(</span>R-R116<span style=\"font-weight: bold\">)</span>: <span style=\"color: #ff0000; text-decoration-color: #ff0000; font-style: italic\">False</span>,\n",
       "    <span style=\"color: #800080; text-decoration-color: #800080; font-weight: bold\">N</span><span style=\"font-weight: bold\">(</span>R-R117<span style=\"font-weight: bold\">)</span>: <span style=\"color: #ff0000; text-decoration-color: #ff0000; font-style: italic\">False</span>,\n",
       "    <span style=\"color: #800080; text-decoration-color: #800080; font-weight: bold\">N</span><span style=\"font-weight: bold\">(</span>R-R118<span style=\"font-weight: bold\">)</span>: <span style=\"color: #ff0000; text-decoration-color: #ff0000; font-style: italic\">False</span>,\n",
       "    <span style=\"color: #800080; text-decoration-color: #800080; font-weight: bold\">N</span><span style=\"font-weight: bold\">(</span>R-R119<span style=\"font-weight: bold\">)</span>: <span style=\"color: #ff0000; text-decoration-color: #ff0000; font-style: italic\">False</span>,\n",
       "    <span style=\"color: #800080; text-decoration-color: #800080; font-weight: bold\">N</span><span style=\"font-weight: bold\">(</span>R-R120<span style=\"font-weight: bold\">)</span>: <span style=\"color: #ff0000; text-decoration-color: #ff0000; font-style: italic\">False</span>,\n",
       "    <span style=\"color: #800080; text-decoration-color: #800080; font-weight: bold\">N</span><span style=\"font-weight: bold\">(</span>R-R121<span style=\"font-weight: bold\">)</span>: <span style=\"color: #ff0000; text-decoration-color: #ff0000; font-style: italic\">False</span>,\n",
       "    <span style=\"color: #800080; text-decoration-color: #800080; font-weight: bold\">N</span><span style=\"font-weight: bold\">(</span>R-R122<span style=\"font-weight: bold\">)</span>: <span style=\"color: #ff0000; text-decoration-color: #ff0000; font-style: italic\">False</span>,\n",
       "    <span style=\"color: #800080; text-decoration-color: #800080; font-weight: bold\">N</span><span style=\"font-weight: bold\">(</span>R-R123<span style=\"font-weight: bold\">)</span>: <span style=\"color: #ff0000; text-decoration-color: #ff0000; font-style: italic\">False</span>,\n",
       "    <span style=\"color: #800080; text-decoration-color: #800080; font-weight: bold\">N</span><span style=\"font-weight: bold\">(</span>R-R124<span style=\"font-weight: bold\">)</span>: <span style=\"color: #ff0000; text-decoration-color: #ff0000; font-style: italic\">False</span>,\n",
       "    <span style=\"color: #800080; text-decoration-color: #800080; font-weight: bold\">N</span><span style=\"font-weight: bold\">(</span>R-R125<span style=\"font-weight: bold\">)</span>: <span style=\"color: #ff0000; text-decoration-color: #ff0000; font-style: italic\">False</span>,\n",
       "    <span style=\"color: #800080; text-decoration-color: #800080; font-weight: bold\">N</span><span style=\"font-weight: bold\">(</span>R-R126<span style=\"font-weight: bold\">)</span>: <span style=\"color: #ff0000; text-decoration-color: #ff0000; font-style: italic\">False</span>,\n",
       "    <span style=\"color: #800080; text-decoration-color: #800080; font-weight: bold\">N</span><span style=\"font-weight: bold\">(</span>R-R127<span style=\"font-weight: bold\">)</span>: <span style=\"color: #ff0000; text-decoration-color: #ff0000; font-style: italic\">False</span>,\n",
       "    <span style=\"color: #800080; text-decoration-color: #800080; font-weight: bold\">N</span><span style=\"font-weight: bold\">(</span>R-R128<span style=\"font-weight: bold\">)</span>: <span style=\"color: #ff0000; text-decoration-color: #ff0000; font-style: italic\">False</span>,\n",
       "    <span style=\"color: #800080; text-decoration-color: #800080; font-weight: bold\">N</span><span style=\"font-weight: bold\">(</span>R-R129<span style=\"font-weight: bold\">)</span>: <span style=\"color: #ff0000; text-decoration-color: #ff0000; font-style: italic\">False</span>,\n",
       "    <span style=\"color: #800080; text-decoration-color: #800080; font-weight: bold\">N</span><span style=\"font-weight: bold\">(</span>R-R130<span style=\"font-weight: bold\">)</span>: <span style=\"color: #ff0000; text-decoration-color: #ff0000; font-style: italic\">False</span>,\n",
       "    <span style=\"color: #800080; text-decoration-color: #800080; font-weight: bold\">N</span><span style=\"font-weight: bold\">(</span>R-R131<span style=\"font-weight: bold\">)</span>: <span style=\"color: #ff0000; text-decoration-color: #ff0000; font-style: italic\">False</span>,\n",
       "    <span style=\"color: #800080; text-decoration-color: #800080; font-weight: bold\">N</span><span style=\"font-weight: bold\">(</span>R-R132<span style=\"font-weight: bold\">)</span>: <span style=\"color: #ff0000; text-decoration-color: #ff0000; font-style: italic\">False</span>,\n",
       "    <span style=\"color: #800080; text-decoration-color: #800080; font-weight: bold\">N</span><span style=\"font-weight: bold\">(</span>R-R133<span style=\"font-weight: bold\">)</span>: <span style=\"color: #ff0000; text-decoration-color: #ff0000; font-style: italic\">False</span>,\n",
       "    <span style=\"color: #800080; text-decoration-color: #800080; font-weight: bold\">N</span><span style=\"font-weight: bold\">(</span>R-R134<span style=\"font-weight: bold\">)</span>: <span style=\"color: #ff0000; text-decoration-color: #ff0000; font-style: italic\">False</span>,\n",
       "    <span style=\"color: #800080; text-decoration-color: #800080; font-weight: bold\">N</span><span style=\"font-weight: bold\">(</span>R-R135<span style=\"font-weight: bold\">)</span>: <span style=\"color: #ff0000; text-decoration-color: #ff0000; font-style: italic\">False</span>,\n",
       "    <span style=\"color: #800080; text-decoration-color: #800080; font-weight: bold\">N</span><span style=\"font-weight: bold\">(</span>R-R136<span style=\"font-weight: bold\">)</span>: <span style=\"color: #ff0000; text-decoration-color: #ff0000; font-style: italic\">False</span>,\n",
       "    <span style=\"color: #800080; text-decoration-color: #800080; font-weight: bold\">N</span><span style=\"font-weight: bold\">(</span>R-R137<span style=\"font-weight: bold\">)</span>: <span style=\"color: #ff0000; text-decoration-color: #ff0000; font-style: italic\">False</span>,\n",
       "    <span style=\"color: #800080; text-decoration-color: #800080; font-weight: bold\">N</span><span style=\"font-weight: bold\">(</span>R-R138<span style=\"font-weight: bold\">)</span>: <span style=\"color: #ff0000; text-decoration-color: #ff0000; font-style: italic\">False</span>,\n",
       "    <span style=\"color: #800080; text-decoration-color: #800080; font-weight: bold\">N</span><span style=\"font-weight: bold\">(</span>R-R139<span style=\"font-weight: bold\">)</span>: <span style=\"color: #ff0000; text-decoration-color: #ff0000; font-style: italic\">False</span>,\n",
       "    <span style=\"color: #800080; text-decoration-color: #800080; font-weight: bold\">N</span><span style=\"font-weight: bold\">(</span>R-R140<span style=\"font-weight: bold\">)</span>: <span style=\"color: #ff0000; text-decoration-color: #ff0000; font-style: italic\">False</span>,\n",
       "    <span style=\"color: #800080; text-decoration-color: #800080; font-weight: bold\">N</span><span style=\"font-weight: bold\">(</span>R-R141<span style=\"font-weight: bold\">)</span>: <span style=\"color: #ff0000; text-decoration-color: #ff0000; font-style: italic\">False</span>,\n",
       "    <span style=\"color: #800080; text-decoration-color: #800080; font-weight: bold\">N</span><span style=\"font-weight: bold\">(</span>R-R142<span style=\"font-weight: bold\">)</span>: <span style=\"color: #ff0000; text-decoration-color: #ff0000; font-style: italic\">False</span>,\n",
       "    <span style=\"color: #800080; text-decoration-color: #800080; font-weight: bold\">N</span><span style=\"font-weight: bold\">(</span>R-R143<span style=\"font-weight: bold\">)</span>: <span style=\"color: #ff0000; text-decoration-color: #ff0000; font-style: italic\">False</span>,\n",
       "    <span style=\"color: #800080; text-decoration-color: #800080; font-weight: bold\">N</span><span style=\"font-weight: bold\">(</span>R-R144<span style=\"font-weight: bold\">)</span>: <span style=\"color: #ff0000; text-decoration-color: #ff0000; font-style: italic\">False</span>,\n",
       "    <span style=\"color: #800080; text-decoration-color: #800080; font-weight: bold\">N</span><span style=\"font-weight: bold\">(</span>R-R145<span style=\"font-weight: bold\">)</span>: <span style=\"color: #ff0000; text-decoration-color: #ff0000; font-style: italic\">False</span>,\n",
       "    <span style=\"color: #800080; text-decoration-color: #800080; font-weight: bold\">N</span><span style=\"font-weight: bold\">(</span>R-R146<span style=\"font-weight: bold\">)</span>: <span style=\"color: #ff0000; text-decoration-color: #ff0000; font-style: italic\">False</span>,\n",
       "    <span style=\"color: #800080; text-decoration-color: #800080; font-weight: bold\">N</span><span style=\"font-weight: bold\">(</span>R-R147<span style=\"font-weight: bold\">)</span>: <span style=\"color: #ff0000; text-decoration-color: #ff0000; font-style: italic\">False</span>,\n",
       "    <span style=\"color: #800080; text-decoration-color: #800080; font-weight: bold\">N</span><span style=\"font-weight: bold\">(</span>R-R148<span style=\"font-weight: bold\">)</span>: <span style=\"color: #ff0000; text-decoration-color: #ff0000; font-style: italic\">False</span>,\n",
       "    <span style=\"color: #800080; text-decoration-color: #800080; font-weight: bold\">N</span><span style=\"font-weight: bold\">(</span>R-R149<span style=\"font-weight: bold\">)</span>: <span style=\"color: #ff0000; text-decoration-color: #ff0000; font-style: italic\">False</span>,\n",
       "    <span style=\"color: #800080; text-decoration-color: #800080; font-weight: bold\">N</span><span style=\"font-weight: bold\">(</span>R-R150<span style=\"font-weight: bold\">)</span>: <span style=\"color: #ff0000; text-decoration-color: #ff0000; font-style: italic\">False</span>,\n",
       "    <span style=\"color: #800080; text-decoration-color: #800080; font-weight: bold\">N</span><span style=\"font-weight: bold\">(</span>R-R151<span style=\"font-weight: bold\">)</span>: <span style=\"color: #ff0000; text-decoration-color: #ff0000; font-style: italic\">False</span>,\n",
       "    <span style=\"color: #800080; text-decoration-color: #800080; font-weight: bold\">N</span><span style=\"font-weight: bold\">(</span>R-R152<span style=\"font-weight: bold\">)</span>: <span style=\"color: #ff0000; text-decoration-color: #ff0000; font-style: italic\">False</span>,\n",
       "    <span style=\"color: #800080; text-decoration-color: #800080; font-weight: bold\">N</span><span style=\"font-weight: bold\">(</span>R-R153<span style=\"font-weight: bold\">)</span>: <span style=\"color: #ff0000; text-decoration-color: #ff0000; font-style: italic\">False</span>,\n",
       "    <span style=\"color: #800080; text-decoration-color: #800080; font-weight: bold\">N</span><span style=\"font-weight: bold\">(</span>R-R154<span style=\"font-weight: bold\">)</span>: <span style=\"color: #ff0000; text-decoration-color: #ff0000; font-style: italic\">False</span>,\n",
       "    <span style=\"color: #800080; text-decoration-color: #800080; font-weight: bold\">N</span><span style=\"font-weight: bold\">(</span>R-R155<span style=\"font-weight: bold\">)</span>: <span style=\"color: #ff0000; text-decoration-color: #ff0000; font-style: italic\">False</span>,\n",
       "    <span style=\"color: #800080; text-decoration-color: #800080; font-weight: bold\">N</span><span style=\"font-weight: bold\">(</span>R-R156<span style=\"font-weight: bold\">)</span>: <span style=\"color: #ff0000; text-decoration-color: #ff0000; font-style: italic\">False</span>,\n",
       "    <span style=\"color: #800080; text-decoration-color: #800080; font-weight: bold\">N</span><span style=\"font-weight: bold\">(</span>R-R157<span style=\"font-weight: bold\">)</span>: <span style=\"color: #ff0000; text-decoration-color: #ff0000; font-style: italic\">False</span>,\n",
       "    <span style=\"color: #800080; text-decoration-color: #800080; font-weight: bold\">N</span><span style=\"font-weight: bold\">(</span>R-R158<span style=\"font-weight: bold\">)</span>: <span style=\"color: #ff0000; text-decoration-color: #ff0000; font-style: italic\">False</span>,\n",
       "    <span style=\"color: #800080; text-decoration-color: #800080; font-weight: bold\">N</span><span style=\"font-weight: bold\">(</span>R-R159<span style=\"font-weight: bold\">)</span>: <span style=\"color: #ff0000; text-decoration-color: #ff0000; font-style: italic\">False</span>,\n",
       "    <span style=\"color: #800080; text-decoration-color: #800080; font-weight: bold\">N</span><span style=\"font-weight: bold\">(</span>R-R160<span style=\"font-weight: bold\">)</span>: <span style=\"color: #ff0000; text-decoration-color: #ff0000; font-style: italic\">False</span>,\n",
       "    <span style=\"color: #800080; text-decoration-color: #800080; font-weight: bold\">N</span><span style=\"font-weight: bold\">(</span>R-R161<span style=\"font-weight: bold\">)</span>: <span style=\"color: #ff0000; text-decoration-color: #ff0000; font-style: italic\">False</span>,\n",
       "    <span style=\"color: #800080; text-decoration-color: #800080; font-weight: bold\">N</span><span style=\"font-weight: bold\">(</span>R-R162<span style=\"font-weight: bold\">)</span>: <span style=\"color: #ff0000; text-decoration-color: #ff0000; font-style: italic\">False</span>,\n",
       "    <span style=\"color: #800080; text-decoration-color: #800080; font-weight: bold\">N</span><span style=\"font-weight: bold\">(</span>R-R163<span style=\"font-weight: bold\">)</span>: <span style=\"color: #ff0000; text-decoration-color: #ff0000; font-style: italic\">False</span>,\n",
       "    <span style=\"color: #800080; text-decoration-color: #800080; font-weight: bold\">N</span><span style=\"font-weight: bold\">(</span>R-R164<span style=\"font-weight: bold\">)</span>: <span style=\"color: #ff0000; text-decoration-color: #ff0000; font-style: italic\">False</span>,\n",
       "    <span style=\"color: #800080; text-decoration-color: #800080; font-weight: bold\">N</span><span style=\"font-weight: bold\">(</span>R-R165<span style=\"font-weight: bold\">)</span>: <span style=\"color: #ff0000; text-decoration-color: #ff0000; font-style: italic\">False</span>,\n",
       "    <span style=\"color: #800080; text-decoration-color: #800080; font-weight: bold\">N</span><span style=\"font-weight: bold\">(</span>R-R166<span style=\"font-weight: bold\">)</span>: <span style=\"color: #ff0000; text-decoration-color: #ff0000; font-style: italic\">False</span>,\n",
       "    <span style=\"color: #800080; text-decoration-color: #800080; font-weight: bold\">N</span><span style=\"font-weight: bold\">(</span>R-R167<span style=\"font-weight: bold\">)</span>: <span style=\"color: #ff0000; text-decoration-color: #ff0000; font-style: italic\">False</span>,\n",
       "    <span style=\"color: #800080; text-decoration-color: #800080; font-weight: bold\">N</span><span style=\"font-weight: bold\">(</span>R-R168<span style=\"font-weight: bold\">)</span>: <span style=\"color: #ff0000; text-decoration-color: #ff0000; font-style: italic\">False</span>,\n",
       "    <span style=\"color: #800080; text-decoration-color: #800080; font-weight: bold\">N</span><span style=\"font-weight: bold\">(</span>R-R169<span style=\"font-weight: bold\">)</span>: <span style=\"color: #ff0000; text-decoration-color: #ff0000; font-style: italic\">False</span>,\n",
       "    <span style=\"color: #800080; text-decoration-color: #800080; font-weight: bold\">N</span><span style=\"font-weight: bold\">(</span>R-R170<span style=\"font-weight: bold\">)</span>: <span style=\"color: #ff0000; text-decoration-color: #ff0000; font-style: italic\">False</span>,\n",
       "    <span style=\"color: #800080; text-decoration-color: #800080; font-weight: bold\">N</span><span style=\"font-weight: bold\">(</span>R-R171<span style=\"font-weight: bold\">)</span>: <span style=\"color: #ff0000; text-decoration-color: #ff0000; font-style: italic\">False</span>,\n",
       "    <span style=\"color: #800080; text-decoration-color: #800080; font-weight: bold\">N</span><span style=\"font-weight: bold\">(</span>R-R172<span style=\"font-weight: bold\">)</span>: <span style=\"color: #ff0000; text-decoration-color: #ff0000; font-style: italic\">False</span>,\n",
       "    <span style=\"color: #800080; text-decoration-color: #800080; font-weight: bold\">N</span><span style=\"font-weight: bold\">(</span>R-R173<span style=\"font-weight: bold\">)</span>: <span style=\"color: #ff0000; text-decoration-color: #ff0000; font-style: italic\">False</span>,\n",
       "    <span style=\"color: #800080; text-decoration-color: #800080; font-weight: bold\">N</span><span style=\"font-weight: bold\">(</span>R-R174<span style=\"font-weight: bold\">)</span>: <span style=\"color: #ff0000; text-decoration-color: #ff0000; font-style: italic\">False</span>,\n",
       "    <span style=\"color: #800080; text-decoration-color: #800080; font-weight: bold\">N</span><span style=\"font-weight: bold\">(</span>R-R175<span style=\"font-weight: bold\">)</span>: <span style=\"color: #ff0000; text-decoration-color: #ff0000; font-style: italic\">False</span>,\n",
       "    <span style=\"color: #800080; text-decoration-color: #800080; font-weight: bold\">N</span><span style=\"font-weight: bold\">(</span>R-R176<span style=\"font-weight: bold\">)</span>: <span style=\"color: #ff0000; text-decoration-color: #ff0000; font-style: italic\">False</span>,\n",
       "    <span style=\"color: #800080; text-decoration-color: #800080; font-weight: bold\">N</span><span style=\"font-weight: bold\">(</span>R-R177<span style=\"font-weight: bold\">)</span>: <span style=\"color: #ff0000; text-decoration-color: #ff0000; font-style: italic\">False</span>,\n",
       "    <span style=\"color: #800080; text-decoration-color: #800080; font-weight: bold\">N</span><span style=\"font-weight: bold\">(</span>R-R178<span style=\"font-weight: bold\">)</span>: <span style=\"color: #ff0000; text-decoration-color: #ff0000; font-style: italic\">False</span>,\n",
       "    <span style=\"color: #800080; text-decoration-color: #800080; font-weight: bold\">N</span><span style=\"font-weight: bold\">(</span>R-R179<span style=\"font-weight: bold\">)</span>: <span style=\"color: #ff0000; text-decoration-color: #ff0000; font-style: italic\">False</span>,\n",
       "    <span style=\"color: #800080; text-decoration-color: #800080; font-weight: bold\">N</span><span style=\"font-weight: bold\">(</span>R-R180<span style=\"font-weight: bold\">)</span>: <span style=\"color: #ff0000; text-decoration-color: #ff0000; font-style: italic\">False</span>,\n",
       "    <span style=\"color: #800080; text-decoration-color: #800080; font-weight: bold\">N</span><span style=\"font-weight: bold\">(</span>R-R181<span style=\"font-weight: bold\">)</span>: <span style=\"color: #ff0000; text-decoration-color: #ff0000; font-style: italic\">False</span>,\n",
       "    <span style=\"color: #800080; text-decoration-color: #800080; font-weight: bold\">N</span><span style=\"font-weight: bold\">(</span>R-R182<span style=\"font-weight: bold\">)</span>: <span style=\"color: #ff0000; text-decoration-color: #ff0000; font-style: italic\">False</span>,\n",
       "    <span style=\"color: #800080; text-decoration-color: #800080; font-weight: bold\">N</span><span style=\"font-weight: bold\">(</span>R-R183<span style=\"font-weight: bold\">)</span>: <span style=\"color: #ff0000; text-decoration-color: #ff0000; font-style: italic\">False</span>,\n",
       "    <span style=\"color: #800080; text-decoration-color: #800080; font-weight: bold\">N</span><span style=\"font-weight: bold\">(</span>R-R184<span style=\"font-weight: bold\">)</span>: <span style=\"color: #ff0000; text-decoration-color: #ff0000; font-style: italic\">False</span>,\n",
       "    <span style=\"color: #800080; text-decoration-color: #800080; font-weight: bold\">N</span><span style=\"font-weight: bold\">(</span>R-R185<span style=\"font-weight: bold\">)</span>: <span style=\"color: #ff0000; text-decoration-color: #ff0000; font-style: italic\">False</span>,\n",
       "    <span style=\"color: #800080; text-decoration-color: #800080; font-weight: bold\">N</span><span style=\"font-weight: bold\">(</span>R-R186<span style=\"font-weight: bold\">)</span>: <span style=\"color: #ff0000; text-decoration-color: #ff0000; font-style: italic\">False</span>,\n",
       "    <span style=\"color: #800080; text-decoration-color: #800080; font-weight: bold\">N</span><span style=\"font-weight: bold\">(</span>R-R187<span style=\"font-weight: bold\">)</span>: <span style=\"color: #ff0000; text-decoration-color: #ff0000; font-style: italic\">False</span>,\n",
       "    <span style=\"color: #800080; text-decoration-color: #800080; font-weight: bold\">N</span><span style=\"font-weight: bold\">(</span>R-R188<span style=\"font-weight: bold\">)</span>: <span style=\"color: #ff0000; text-decoration-color: #ff0000; font-style: italic\">False</span>,\n",
       "    <span style=\"color: #800080; text-decoration-color: #800080; font-weight: bold\">N</span><span style=\"font-weight: bold\">(</span>R-R189<span style=\"font-weight: bold\">)</span>: <span style=\"color: #ff0000; text-decoration-color: #ff0000; font-style: italic\">False</span>,\n",
       "    <span style=\"color: #800080; text-decoration-color: #800080; font-weight: bold\">N</span><span style=\"font-weight: bold\">(</span>R-R190<span style=\"font-weight: bold\">)</span>: <span style=\"color: #ff0000; text-decoration-color: #ff0000; font-style: italic\">False</span>,\n",
       "    <span style=\"color: #800080; text-decoration-color: #800080; font-weight: bold\">N</span><span style=\"font-weight: bold\">(</span>R-R191<span style=\"font-weight: bold\">)</span>: <span style=\"color: #ff0000; text-decoration-color: #ff0000; font-style: italic\">False</span>,\n",
       "    <span style=\"color: #800080; text-decoration-color: #800080; font-weight: bold\">N</span><span style=\"font-weight: bold\">(</span>R-R192<span style=\"font-weight: bold\">)</span>: <span style=\"color: #ff0000; text-decoration-color: #ff0000; font-style: italic\">False</span>,\n",
       "    <span style=\"color: #800080; text-decoration-color: #800080; font-weight: bold\">N</span><span style=\"font-weight: bold\">(</span>R-R193<span style=\"font-weight: bold\">)</span>: <span style=\"color: #ff0000; text-decoration-color: #ff0000; font-style: italic\">False</span>,\n",
       "    <span style=\"color: #800080; text-decoration-color: #800080; font-weight: bold\">N</span><span style=\"font-weight: bold\">(</span>R-R194<span style=\"font-weight: bold\">)</span>: <span style=\"color: #ff0000; text-decoration-color: #ff0000; font-style: italic\">False</span>,\n",
       "    <span style=\"color: #800080; text-decoration-color: #800080; font-weight: bold\">N</span><span style=\"font-weight: bold\">(</span>R-R195<span style=\"font-weight: bold\">)</span>: <span style=\"color: #ff0000; text-decoration-color: #ff0000; font-style: italic\">False</span>,\n",
       "    <span style=\"color: #800080; text-decoration-color: #800080; font-weight: bold\">N</span><span style=\"font-weight: bold\">(</span>R-R196<span style=\"font-weight: bold\">)</span>: <span style=\"color: #ff0000; text-decoration-color: #ff0000; font-style: italic\">False</span>,\n",
       "    <span style=\"color: #800080; text-decoration-color: #800080; font-weight: bold\">N</span><span style=\"font-weight: bold\">(</span>R-R197<span style=\"font-weight: bold\">)</span>: <span style=\"color: #ff0000; text-decoration-color: #ff0000; font-style: italic\">False</span>,\n",
       "    <span style=\"color: #800080; text-decoration-color: #800080; font-weight: bold\">N</span><span style=\"font-weight: bold\">(</span>R-R198<span style=\"font-weight: bold\">)</span>: <span style=\"color: #ff0000; text-decoration-color: #ff0000; font-style: italic\">False</span>,\n",
       "    <span style=\"color: #800080; text-decoration-color: #800080; font-weight: bold\">N</span><span style=\"font-weight: bold\">(</span>R-R199<span style=\"font-weight: bold\">)</span>: <span style=\"color: #ff0000; text-decoration-color: #ff0000; font-style: italic\">False</span>,\n",
       "    <span style=\"color: #800080; text-decoration-color: #800080; font-weight: bold\">N</span><span style=\"font-weight: bold\">(</span>R-R200<span style=\"font-weight: bold\">)</span>: <span style=\"color: #ff0000; text-decoration-color: #ff0000; font-style: italic\">False</span>,\n",
       "    <span style=\"color: #800080; text-decoration-color: #800080; font-weight: bold\">N</span><span style=\"font-weight: bold\">(</span>R-R201<span style=\"font-weight: bold\">)</span>: <span style=\"color: #ff0000; text-decoration-color: #ff0000; font-style: italic\">False</span>,\n",
       "    <span style=\"color: #800080; text-decoration-color: #800080; font-weight: bold\">N</span><span style=\"font-weight: bold\">(</span>R-R202<span style=\"font-weight: bold\">)</span>: <span style=\"color: #ff0000; text-decoration-color: #ff0000; font-style: italic\">False</span>,\n",
       "    <span style=\"color: #800080; text-decoration-color: #800080; font-weight: bold\">N</span><span style=\"font-weight: bold\">(</span>R-R203<span style=\"font-weight: bold\">)</span>: <span style=\"color: #ff0000; text-decoration-color: #ff0000; font-style: italic\">False</span>,\n",
       "    <span style=\"color: #800080; text-decoration-color: #800080; font-weight: bold\">N</span><span style=\"font-weight: bold\">(</span>R-R204<span style=\"font-weight: bold\">)</span>: <span style=\"color: #ff0000; text-decoration-color: #ff0000; font-style: italic\">False</span>,\n",
       "    <span style=\"color: #800080; text-decoration-color: #800080; font-weight: bold\">N</span><span style=\"font-weight: bold\">(</span>R-R205<span style=\"font-weight: bold\">)</span>: <span style=\"color: #ff0000; text-decoration-color: #ff0000; font-style: italic\">False</span>,\n",
       "    <span style=\"color: #800080; text-decoration-color: #800080; font-weight: bold\">N</span><span style=\"font-weight: bold\">(</span>R-R206<span style=\"font-weight: bold\">)</span>: <span style=\"color: #ff0000; text-decoration-color: #ff0000; font-style: italic\">False</span>,\n",
       "    <span style=\"color: #800080; text-decoration-color: #800080; font-weight: bold\">N</span><span style=\"font-weight: bold\">(</span>R-R207<span style=\"font-weight: bold\">)</span>: <span style=\"color: #ff0000; text-decoration-color: #ff0000; font-style: italic\">False</span>,\n",
       "    <span style=\"color: #800080; text-decoration-color: #800080; font-weight: bold\">N</span><span style=\"font-weight: bold\">(</span>R-R208<span style=\"font-weight: bold\">)</span>: <span style=\"color: #ff0000; text-decoration-color: #ff0000; font-style: italic\">False</span>,\n",
       "    <span style=\"color: #800080; text-decoration-color: #800080; font-weight: bold\">N</span><span style=\"font-weight: bold\">(</span>R-R209<span style=\"font-weight: bold\">)</span>: <span style=\"color: #ff0000; text-decoration-color: #ff0000; font-style: italic\">False</span>,\n",
       "    <span style=\"color: #800080; text-decoration-color: #800080; font-weight: bold\">N</span><span style=\"font-weight: bold\">(</span>R-R210<span style=\"font-weight: bold\">)</span>: <span style=\"color: #ff0000; text-decoration-color: #ff0000; font-style: italic\">False</span>,\n",
       "    <span style=\"color: #800080; text-decoration-color: #800080; font-weight: bold\">N</span><span style=\"font-weight: bold\">(</span>R-R211<span style=\"font-weight: bold\">)</span>: <span style=\"color: #ff0000; text-decoration-color: #ff0000; font-style: italic\">False</span>,\n",
       "    <span style=\"color: #800080; text-decoration-color: #800080; font-weight: bold\">N</span><span style=\"font-weight: bold\">(</span>R-R212<span style=\"font-weight: bold\">)</span>: <span style=\"color: #ff0000; text-decoration-color: #ff0000; font-style: italic\">False</span>,\n",
       "    <span style=\"color: #800080; text-decoration-color: #800080; font-weight: bold\">N</span><span style=\"font-weight: bold\">(</span>R-R213<span style=\"font-weight: bold\">)</span>: <span style=\"color: #ff0000; text-decoration-color: #ff0000; font-style: italic\">False</span>,\n",
       "    <span style=\"color: #800080; text-decoration-color: #800080; font-weight: bold\">N</span><span style=\"font-weight: bold\">(</span>R-R214<span style=\"font-weight: bold\">)</span>: <span style=\"color: #ff0000; text-decoration-color: #ff0000; font-style: italic\">False</span>,\n",
       "    <span style=\"color: #800080; text-decoration-color: #800080; font-weight: bold\">N</span><span style=\"font-weight: bold\">(</span>R-R215<span style=\"font-weight: bold\">)</span>: <span style=\"color: #ff0000; text-decoration-color: #ff0000; font-style: italic\">False</span>,\n",
       "    <span style=\"color: #800080; text-decoration-color: #800080; font-weight: bold\">N</span><span style=\"font-weight: bold\">(</span>R-R216<span style=\"font-weight: bold\">)</span>: <span style=\"color: #ff0000; text-decoration-color: #ff0000; font-style: italic\">False</span>,\n",
       "    <span style=\"color: #800080; text-decoration-color: #800080; font-weight: bold\">N</span><span style=\"font-weight: bold\">(</span>R-R217<span style=\"font-weight: bold\">)</span>: <span style=\"color: #ff0000; text-decoration-color: #ff0000; font-style: italic\">False</span>,\n",
       "    <span style=\"color: #800080; text-decoration-color: #800080; font-weight: bold\">N</span><span style=\"font-weight: bold\">(</span>R-R218<span style=\"font-weight: bold\">)</span>: <span style=\"color: #ff0000; text-decoration-color: #ff0000; font-style: italic\">False</span>,\n",
       "    <span style=\"color: #800080; text-decoration-color: #800080; font-weight: bold\">N</span><span style=\"font-weight: bold\">(</span>R-R219<span style=\"font-weight: bold\">)</span>: <span style=\"color: #ff0000; text-decoration-color: #ff0000; font-style: italic\">False</span>,\n",
       "    <span style=\"color: #800080; text-decoration-color: #800080; font-weight: bold\">N</span><span style=\"font-weight: bold\">(</span>R-R220<span style=\"font-weight: bold\">)</span>: <span style=\"color: #ff0000; text-decoration-color: #ff0000; font-style: italic\">False</span>,\n",
       "    <span style=\"color: #800080; text-decoration-color: #800080; font-weight: bold\">N</span><span style=\"font-weight: bold\">(</span>R-R221<span style=\"font-weight: bold\">)</span>: <span style=\"color: #ff0000; text-decoration-color: #ff0000; font-style: italic\">False</span>,\n",
       "    <span style=\"color: #800080; text-decoration-color: #800080; font-weight: bold\">N</span><span style=\"font-weight: bold\">(</span>R-R222<span style=\"font-weight: bold\">)</span>: <span style=\"color: #ff0000; text-decoration-color: #ff0000; font-style: italic\">False</span>,\n",
       "    <span style=\"color: #800080; text-decoration-color: #800080; font-weight: bold\">N</span><span style=\"font-weight: bold\">(</span>R-R223<span style=\"font-weight: bold\">)</span>: <span style=\"color: #ff0000; text-decoration-color: #ff0000; font-style: italic\">False</span>,\n",
       "    <span style=\"color: #800080; text-decoration-color: #800080; font-weight: bold\">N</span><span style=\"font-weight: bold\">(</span>R-R224<span style=\"font-weight: bold\">)</span>: <span style=\"color: #ff0000; text-decoration-color: #ff0000; font-style: italic\">False</span>,\n",
       "    <span style=\"color: #800080; text-decoration-color: #800080; font-weight: bold\">N</span><span style=\"font-weight: bold\">(</span>R-R225<span style=\"font-weight: bold\">)</span>: <span style=\"color: #ff0000; text-decoration-color: #ff0000; font-style: italic\">False</span>,\n",
       "    <span style=\"color: #800080; text-decoration-color: #800080; font-weight: bold\">N</span><span style=\"font-weight: bold\">(</span>R-R226<span style=\"font-weight: bold\">)</span>: <span style=\"color: #ff0000; text-decoration-color: #ff0000; font-style: italic\">False</span>,\n",
       "    <span style=\"color: #800080; text-decoration-color: #800080; font-weight: bold\">N</span><span style=\"font-weight: bold\">(</span>R-R227<span style=\"font-weight: bold\">)</span>: <span style=\"color: #ff0000; text-decoration-color: #ff0000; font-style: italic\">False</span>,\n",
       "    <span style=\"color: #800080; text-decoration-color: #800080; font-weight: bold\">N</span><span style=\"font-weight: bold\">(</span>R-R228<span style=\"font-weight: bold\">)</span>: <span style=\"color: #ff0000; text-decoration-color: #ff0000; font-style: italic\">False</span>,\n",
       "    <span style=\"color: #800080; text-decoration-color: #800080; font-weight: bold\">N</span><span style=\"font-weight: bold\">(</span>R-R229<span style=\"font-weight: bold\">)</span>: <span style=\"color: #ff0000; text-decoration-color: #ff0000; font-style: italic\">False</span>,\n",
       "    <span style=\"color: #800080; text-decoration-color: #800080; font-weight: bold\">N</span><span style=\"font-weight: bold\">(</span>R-R230<span style=\"font-weight: bold\">)</span>: <span style=\"color: #ff0000; text-decoration-color: #ff0000; font-style: italic\">False</span>,\n",
       "    <span style=\"color: #800080; text-decoration-color: #800080; font-weight: bold\">N</span><span style=\"font-weight: bold\">(</span>R-R231<span style=\"font-weight: bold\">)</span>: <span style=\"color: #ff0000; text-decoration-color: #ff0000; font-style: italic\">False</span>,\n",
       "    <span style=\"color: #800080; text-decoration-color: #800080; font-weight: bold\">N</span><span style=\"font-weight: bold\">(</span>R-R232<span style=\"font-weight: bold\">)</span>: <span style=\"color: #ff0000; text-decoration-color: #ff0000; font-style: italic\">False</span>,\n",
       "    <span style=\"color: #800080; text-decoration-color: #800080; font-weight: bold\">N</span><span style=\"font-weight: bold\">(</span>R-R233<span style=\"font-weight: bold\">)</span>: <span style=\"color: #ff0000; text-decoration-color: #ff0000; font-style: italic\">False</span>,\n",
       "    <span style=\"color: #800080; text-decoration-color: #800080; font-weight: bold\">N</span><span style=\"font-weight: bold\">(</span>R-R234<span style=\"font-weight: bold\">)</span>: <span style=\"color: #ff0000; text-decoration-color: #ff0000; font-style: italic\">False</span>,\n",
       "    <span style=\"color: #800080; text-decoration-color: #800080; font-weight: bold\">N</span><span style=\"font-weight: bold\">(</span>R-R235<span style=\"font-weight: bold\">)</span>: <span style=\"color: #ff0000; text-decoration-color: #ff0000; font-style: italic\">False</span>,\n",
       "    <span style=\"color: #800080; text-decoration-color: #800080; font-weight: bold\">N</span><span style=\"font-weight: bold\">(</span>R-R236<span style=\"font-weight: bold\">)</span>: <span style=\"color: #ff0000; text-decoration-color: #ff0000; font-style: italic\">False</span>,\n",
       "    <span style=\"color: #800080; text-decoration-color: #800080; font-weight: bold\">N</span><span style=\"font-weight: bold\">(</span>R-R237<span style=\"font-weight: bold\">)</span>: <span style=\"color: #ff0000; text-decoration-color: #ff0000; font-style: italic\">False</span>,\n",
       "    <span style=\"color: #800080; text-decoration-color: #800080; font-weight: bold\">N</span><span style=\"font-weight: bold\">(</span>R-R238<span style=\"font-weight: bold\">)</span>: <span style=\"color: #ff0000; text-decoration-color: #ff0000; font-style: italic\">False</span>,\n",
       "    <span style=\"color: #800080; text-decoration-color: #800080; font-weight: bold\">N</span><span style=\"font-weight: bold\">(</span>R-R239<span style=\"font-weight: bold\">)</span>: <span style=\"color: #ff0000; text-decoration-color: #ff0000; font-style: italic\">False</span>,\n",
       "    <span style=\"color: #800080; text-decoration-color: #800080; font-weight: bold\">N</span><span style=\"font-weight: bold\">(</span>R-R240<span style=\"font-weight: bold\">)</span>: <span style=\"color: #ff0000; text-decoration-color: #ff0000; font-style: italic\">False</span>,\n",
       "    <span style=\"color: #800080; text-decoration-color: #800080; font-weight: bold\">N</span><span style=\"font-weight: bold\">(</span>R-R241<span style=\"font-weight: bold\">)</span>: <span style=\"color: #ff0000; text-decoration-color: #ff0000; font-style: italic\">False</span>,\n",
       "    <span style=\"color: #800080; text-decoration-color: #800080; font-weight: bold\">N</span><span style=\"font-weight: bold\">(</span>R-R242<span style=\"font-weight: bold\">)</span>: <span style=\"color: #ff0000; text-decoration-color: #ff0000; font-style: italic\">False</span>,\n",
       "    <span style=\"color: #800080; text-decoration-color: #800080; font-weight: bold\">N</span><span style=\"font-weight: bold\">(</span>R-R243<span style=\"font-weight: bold\">)</span>: <span style=\"color: #ff0000; text-decoration-color: #ff0000; font-style: italic\">False</span>,\n",
       "    <span style=\"color: #800080; text-decoration-color: #800080; font-weight: bold\">N</span><span style=\"font-weight: bold\">(</span>R-R244<span style=\"font-weight: bold\">)</span>: <span style=\"color: #ff0000; text-decoration-color: #ff0000; font-style: italic\">False</span>,\n",
       "    <span style=\"color: #800080; text-decoration-color: #800080; font-weight: bold\">N</span><span style=\"font-weight: bold\">(</span>R-R245<span style=\"font-weight: bold\">)</span>: <span style=\"color: #ff0000; text-decoration-color: #ff0000; font-style: italic\">False</span>,\n",
       "    <span style=\"color: #800080; text-decoration-color: #800080; font-weight: bold\">N</span><span style=\"font-weight: bold\">(</span>R-R246<span style=\"font-weight: bold\">)</span>: <span style=\"color: #ff0000; text-decoration-color: #ff0000; font-style: italic\">False</span>,\n",
       "    <span style=\"color: #800080; text-decoration-color: #800080; font-weight: bold\">N</span><span style=\"font-weight: bold\">(</span>R-R247<span style=\"font-weight: bold\">)</span>: <span style=\"color: #ff0000; text-decoration-color: #ff0000; font-style: italic\">False</span>,\n",
       "    <span style=\"color: #800080; text-decoration-color: #800080; font-weight: bold\">N</span><span style=\"font-weight: bold\">(</span>R-R248<span style=\"font-weight: bold\">)</span>: <span style=\"color: #ff0000; text-decoration-color: #ff0000; font-style: italic\">False</span>,\n",
       "    <span style=\"color: #800080; text-decoration-color: #800080; font-weight: bold\">N</span><span style=\"font-weight: bold\">(</span>R-R249<span style=\"font-weight: bold\">)</span>: <span style=\"color: #ff0000; text-decoration-color: #ff0000; font-style: italic\">False</span>,\n",
       "    <span style=\"color: #800080; text-decoration-color: #800080; font-weight: bold\">N</span><span style=\"font-weight: bold\">(</span>R-R250<span style=\"font-weight: bold\">)</span>: <span style=\"color: #ff0000; text-decoration-color: #ff0000; font-style: italic\">False</span>,\n",
       "    <span style=\"color: #800080; text-decoration-color: #800080; font-weight: bold\">N</span><span style=\"font-weight: bold\">(</span>R-R251<span style=\"font-weight: bold\">)</span>: <span style=\"color: #ff0000; text-decoration-color: #ff0000; font-style: italic\">False</span>,\n",
       "    <span style=\"color: #800080; text-decoration-color: #800080; font-weight: bold\">N</span><span style=\"font-weight: bold\">(</span>R-R252<span style=\"font-weight: bold\">)</span>: <span style=\"color: #ff0000; text-decoration-color: #ff0000; font-style: italic\">False</span>,\n",
       "    <span style=\"color: #800080; text-decoration-color: #800080; font-weight: bold\">N</span><span style=\"font-weight: bold\">(</span>R-R253<span style=\"font-weight: bold\">)</span>: <span style=\"color: #ff0000; text-decoration-color: #ff0000; font-style: italic\">False</span>,\n",
       "    <span style=\"color: #800080; text-decoration-color: #800080; font-weight: bold\">N</span><span style=\"font-weight: bold\">(</span>R-R254<span style=\"font-weight: bold\">)</span>: <span style=\"color: #ff0000; text-decoration-color: #ff0000; font-style: italic\">False</span>,\n",
       "    <span style=\"color: #800080; text-decoration-color: #800080; font-weight: bold\">N</span><span style=\"font-weight: bold\">(</span>R-R255<span style=\"font-weight: bold\">)</span>: <span style=\"color: #ff0000; text-decoration-color: #ff0000; font-style: italic\">False</span>,\n",
       "    <span style=\"color: #800080; text-decoration-color: #800080; font-weight: bold\">N</span><span style=\"font-weight: bold\">(</span>R-R256<span style=\"font-weight: bold\">)</span>: <span style=\"color: #ff0000; text-decoration-color: #ff0000; font-style: italic\">False</span>,\n",
       "    <span style=\"color: #800080; text-decoration-color: #800080; font-weight: bold\">N</span><span style=\"font-weight: bold\">(</span>R-R257<span style=\"font-weight: bold\">)</span>: <span style=\"color: #ff0000; text-decoration-color: #ff0000; font-style: italic\">False</span>,\n",
       "    <span style=\"color: #800080; text-decoration-color: #800080; font-weight: bold\">N</span><span style=\"font-weight: bold\">(</span>R-R258<span style=\"font-weight: bold\">)</span>: <span style=\"color: #ff0000; text-decoration-color: #ff0000; font-style: italic\">False</span>,\n",
       "    <span style=\"color: #800080; text-decoration-color: #800080; font-weight: bold\">N</span><span style=\"font-weight: bold\">(</span>R-R259<span style=\"font-weight: bold\">)</span>: <span style=\"color: #ff0000; text-decoration-color: #ff0000; font-style: italic\">False</span>,\n",
       "    <span style=\"color: #800080; text-decoration-color: #800080; font-weight: bold\">N</span><span style=\"font-weight: bold\">(</span>R-R260<span style=\"font-weight: bold\">)</span>: <span style=\"color: #ff0000; text-decoration-color: #ff0000; font-style: italic\">False</span>,\n",
       "    <span style=\"color: #800080; text-decoration-color: #800080; font-weight: bold\">N</span><span style=\"font-weight: bold\">(</span>R-R261<span style=\"font-weight: bold\">)</span>: <span style=\"color: #ff0000; text-decoration-color: #ff0000; font-style: italic\">False</span>,\n",
       "    <span style=\"color: #800080; text-decoration-color: #800080; font-weight: bold\">N</span><span style=\"font-weight: bold\">(</span>R-R262<span style=\"font-weight: bold\">)</span>: <span style=\"color: #ff0000; text-decoration-color: #ff0000; font-style: italic\">False</span>,\n",
       "    <span style=\"color: #800080; text-decoration-color: #800080; font-weight: bold\">N</span><span style=\"font-weight: bold\">(</span>R-R263<span style=\"font-weight: bold\">)</span>: <span style=\"color: #ff0000; text-decoration-color: #ff0000; font-style: italic\">False</span>,\n",
       "    <span style=\"color: #800080; text-decoration-color: #800080; font-weight: bold\">N</span><span style=\"font-weight: bold\">(</span>R-R264<span style=\"font-weight: bold\">)</span>: <span style=\"color: #ff0000; text-decoration-color: #ff0000; font-style: italic\">False</span>,\n",
       "    <span style=\"color: #800080; text-decoration-color: #800080; font-weight: bold\">N</span><span style=\"font-weight: bold\">(</span>R-R265<span style=\"font-weight: bold\">)</span>: <span style=\"color: #ff0000; text-decoration-color: #ff0000; font-style: italic\">False</span>,\n",
       "    <span style=\"color: #800080; text-decoration-color: #800080; font-weight: bold\">N</span><span style=\"font-weight: bold\">(</span>R-R266<span style=\"font-weight: bold\">)</span>: <span style=\"color: #ff0000; text-decoration-color: #ff0000; font-style: italic\">False</span>,\n",
       "    <span style=\"color: #800080; text-decoration-color: #800080; font-weight: bold\">N</span><span style=\"font-weight: bold\">(</span>R-R267<span style=\"font-weight: bold\">)</span>: <span style=\"color: #ff0000; text-decoration-color: #ff0000; font-style: italic\">False</span>,\n",
       "    <span style=\"color: #800080; text-decoration-color: #800080; font-weight: bold\">N</span><span style=\"font-weight: bold\">(</span>R-R268<span style=\"font-weight: bold\">)</span>: <span style=\"color: #ff0000; text-decoration-color: #ff0000; font-style: italic\">False</span>,\n",
       "    <span style=\"color: #800080; text-decoration-color: #800080; font-weight: bold\">N</span><span style=\"font-weight: bold\">(</span>R-R269<span style=\"font-weight: bold\">)</span>: <span style=\"color: #ff0000; text-decoration-color: #ff0000; font-style: italic\">False</span>,\n",
       "    <span style=\"color: #800080; text-decoration-color: #800080; font-weight: bold\">N</span><span style=\"font-weight: bold\">(</span>R-R270<span style=\"font-weight: bold\">)</span>: <span style=\"color: #ff0000; text-decoration-color: #ff0000; font-style: italic\">False</span>,\n",
       "    <span style=\"color: #800080; text-decoration-color: #800080; font-weight: bold\">N</span><span style=\"font-weight: bold\">(</span>R-R271<span style=\"font-weight: bold\">)</span>: <span style=\"color: #ff0000; text-decoration-color: #ff0000; font-style: italic\">False</span>,\n",
       "    <span style=\"color: #800080; text-decoration-color: #800080; font-weight: bold\">N</span><span style=\"font-weight: bold\">(</span>R-R272<span style=\"font-weight: bold\">)</span>: <span style=\"color: #ff0000; text-decoration-color: #ff0000; font-style: italic\">False</span>,\n",
       "    <span style=\"color: #800080; text-decoration-color: #800080; font-weight: bold\">N</span><span style=\"font-weight: bold\">(</span>R-R273<span style=\"font-weight: bold\">)</span>: <span style=\"color: #ff0000; text-decoration-color: #ff0000; font-style: italic\">False</span>,\n",
       "    <span style=\"color: #800080; text-decoration-color: #800080; font-weight: bold\">N</span><span style=\"font-weight: bold\">(</span>R-R274<span style=\"font-weight: bold\">)</span>: <span style=\"color: #ff0000; text-decoration-color: #ff0000; font-style: italic\">False</span>,\n",
       "    <span style=\"color: #800080; text-decoration-color: #800080; font-weight: bold\">N</span><span style=\"font-weight: bold\">(</span>R-R275<span style=\"font-weight: bold\">)</span>: <span style=\"color: #ff0000; text-decoration-color: #ff0000; font-style: italic\">False</span>,\n",
       "    <span style=\"color: #800080; text-decoration-color: #800080; font-weight: bold\">N</span><span style=\"font-weight: bold\">(</span>R-R276<span style=\"font-weight: bold\">)</span>: <span style=\"color: #ff0000; text-decoration-color: #ff0000; font-style: italic\">False</span>,\n",
       "    <span style=\"color: #800080; text-decoration-color: #800080; font-weight: bold\">N</span><span style=\"font-weight: bold\">(</span>R-R277<span style=\"font-weight: bold\">)</span>: <span style=\"color: #ff0000; text-decoration-color: #ff0000; font-style: italic\">False</span>,\n",
       "    <span style=\"color: #800080; text-decoration-color: #800080; font-weight: bold\">N</span><span style=\"font-weight: bold\">(</span>R-R278<span style=\"font-weight: bold\">)</span>: <span style=\"color: #ff0000; text-decoration-color: #ff0000; font-style: italic\">False</span>,\n",
       "    <span style=\"color: #800080; text-decoration-color: #800080; font-weight: bold\">N</span><span style=\"font-weight: bold\">(</span>R-R279<span style=\"font-weight: bold\">)</span>: <span style=\"color: #ff0000; text-decoration-color: #ff0000; font-style: italic\">False</span>,\n",
       "    <span style=\"color: #800080; text-decoration-color: #800080; font-weight: bold\">N</span><span style=\"font-weight: bold\">(</span>R-R280<span style=\"font-weight: bold\">)</span>: <span style=\"color: #ff0000; text-decoration-color: #ff0000; font-style: italic\">False</span>,\n",
       "    <span style=\"color: #800080; text-decoration-color: #800080; font-weight: bold\">N</span><span style=\"font-weight: bold\">(</span>R-R281<span style=\"font-weight: bold\">)</span>: <span style=\"color: #ff0000; text-decoration-color: #ff0000; font-style: italic\">False</span>,\n",
       "    <span style=\"color: #800080; text-decoration-color: #800080; font-weight: bold\">N</span><span style=\"font-weight: bold\">(</span>R-R282<span style=\"font-weight: bold\">)</span>: <span style=\"color: #ff0000; text-decoration-color: #ff0000; font-style: italic\">False</span>,\n",
       "    <span style=\"color: #800080; text-decoration-color: #800080; font-weight: bold\">N</span><span style=\"font-weight: bold\">(</span>R-R283<span style=\"font-weight: bold\">)</span>: <span style=\"color: #ff0000; text-decoration-color: #ff0000; font-style: italic\">False</span>,\n",
       "    <span style=\"color: #800080; text-decoration-color: #800080; font-weight: bold\">N</span><span style=\"font-weight: bold\">(</span>R-R284<span style=\"font-weight: bold\">)</span>: <span style=\"color: #ff0000; text-decoration-color: #ff0000; font-style: italic\">False</span>,\n",
       "    <span style=\"color: #800080; text-decoration-color: #800080; font-weight: bold\">N</span><span style=\"font-weight: bold\">(</span>R-R285<span style=\"font-weight: bold\">)</span>: <span style=\"color: #ff0000; text-decoration-color: #ff0000; font-style: italic\">False</span>,\n",
       "    <span style=\"color: #800080; text-decoration-color: #800080; font-weight: bold\">N</span><span style=\"font-weight: bold\">(</span>R-R286<span style=\"font-weight: bold\">)</span>: <span style=\"color: #ff0000; text-decoration-color: #ff0000; font-style: italic\">False</span>,\n",
       "    <span style=\"color: #800080; text-decoration-color: #800080; font-weight: bold\">N</span><span style=\"font-weight: bold\">(</span>R-R287<span style=\"font-weight: bold\">)</span>: <span style=\"color: #ff0000; text-decoration-color: #ff0000; font-style: italic\">False</span>,\n",
       "    <span style=\"color: #800080; text-decoration-color: #800080; font-weight: bold\">N</span><span style=\"font-weight: bold\">(</span>R-R288<span style=\"font-weight: bold\">)</span>: <span style=\"color: #ff0000; text-decoration-color: #ff0000; font-style: italic\">False</span>,\n",
       "    <span style=\"color: #800080; text-decoration-color: #800080; font-weight: bold\">N</span><span style=\"font-weight: bold\">(</span>R-R289<span style=\"font-weight: bold\">)</span>: <span style=\"color: #ff0000; text-decoration-color: #ff0000; font-style: italic\">False</span>,\n",
       "    <span style=\"color: #800080; text-decoration-color: #800080; font-weight: bold\">N</span><span style=\"font-weight: bold\">(</span>R-R290<span style=\"font-weight: bold\">)</span>: <span style=\"color: #ff0000; text-decoration-color: #ff0000; font-style: italic\">False</span>,\n",
       "    <span style=\"color: #800080; text-decoration-color: #800080; font-weight: bold\">N</span><span style=\"font-weight: bold\">(</span>R-R291<span style=\"font-weight: bold\">)</span>: <span style=\"color: #ff0000; text-decoration-color: #ff0000; font-style: italic\">False</span>,\n",
       "    <span style=\"color: #800080; text-decoration-color: #800080; font-weight: bold\">N</span><span style=\"font-weight: bold\">(</span>R-R292<span style=\"font-weight: bold\">)</span>: <span style=\"color: #ff0000; text-decoration-color: #ff0000; font-style: italic\">False</span>,\n",
       "    <span style=\"color: #800080; text-decoration-color: #800080; font-weight: bold\">N</span><span style=\"font-weight: bold\">(</span>R-R293<span style=\"font-weight: bold\">)</span>: <span style=\"color: #ff0000; text-decoration-color: #ff0000; font-style: italic\">False</span>,\n",
       "    <span style=\"color: #800080; text-decoration-color: #800080; font-weight: bold\">N</span><span style=\"font-weight: bold\">(</span>R-R294<span style=\"font-weight: bold\">)</span>: <span style=\"color: #ff0000; text-decoration-color: #ff0000; font-style: italic\">False</span>,\n",
       "    <span style=\"color: #800080; text-decoration-color: #800080; font-weight: bold\">N</span><span style=\"font-weight: bold\">(</span>R-R295<span style=\"font-weight: bold\">)</span>: <span style=\"color: #ff0000; text-decoration-color: #ff0000; font-style: italic\">False</span>,\n",
       "    <span style=\"color: #800080; text-decoration-color: #800080; font-weight: bold\">N</span><span style=\"font-weight: bold\">(</span>R-R296<span style=\"font-weight: bold\">)</span>: <span style=\"color: #ff0000; text-decoration-color: #ff0000; font-style: italic\">False</span>,\n",
       "    <span style=\"color: #800080; text-decoration-color: #800080; font-weight: bold\">N</span><span style=\"font-weight: bold\">(</span>R-R297<span style=\"font-weight: bold\">)</span>: <span style=\"color: #ff0000; text-decoration-color: #ff0000; font-style: italic\">False</span>,\n",
       "    <span style=\"color: #800080; text-decoration-color: #800080; font-weight: bold\">N</span><span style=\"font-weight: bold\">(</span>R-R298<span style=\"font-weight: bold\">)</span>: <span style=\"color: #ff0000; text-decoration-color: #ff0000; font-style: italic\">False</span>,\n",
       "    <span style=\"color: #800080; text-decoration-color: #800080; font-weight: bold\">N</span><span style=\"font-weight: bold\">(</span>R-R299<span style=\"font-weight: bold\">)</span>: <span style=\"color: #ff0000; text-decoration-color: #ff0000; font-style: italic\">False</span>\n",
       "<span style=\"font-weight: bold\">}</span>\n",
       "</pre>\n"
      ],
      "text/plain": [
       "\n",
       "\u001b[1m{\u001b[0m\n",
       "    \u001b[1;35mN\u001b[0m\u001b[1m(\u001b[0mR-R0\u001b[1m)\u001b[0m: \u001b[3;92mTrue\u001b[0m,\n",
       "    \u001b[1;35mN\u001b[0m\u001b[1m(\u001b[0mR-R1\u001b[1m)\u001b[0m: \u001b[3;92mTrue\u001b[0m,\n",
       "    \u001b[1;35mN\u001b[0m\u001b[1m(\u001b[0mR-R2\u001b[1m)\u001b[0m: \u001b[3;92mTrue\u001b[0m,\n",
       "    \u001b[1;35mN\u001b[0m\u001b[1m(\u001b[0mR-R3\u001b[1m)\u001b[0m: \u001b[3;92mTrue\u001b[0m,\n",
       "    \u001b[1;35mN\u001b[0m\u001b[1m(\u001b[0mR-R4\u001b[1m)\u001b[0m: \u001b[3;92mTrue\u001b[0m,\n",
       "    \u001b[1;35mN\u001b[0m\u001b[1m(\u001b[0mR-R5\u001b[1m)\u001b[0m: \u001b[3;92mTrue\u001b[0m,\n",
       "    \u001b[1;35mN\u001b[0m\u001b[1m(\u001b[0mR-R6\u001b[1m)\u001b[0m: \u001b[3;92mTrue\u001b[0m,\n",
       "    \u001b[1;35mN\u001b[0m\u001b[1m(\u001b[0mR-R7\u001b[1m)\u001b[0m: \u001b[3;92mTrue\u001b[0m,\n",
       "    \u001b[1;35mN\u001b[0m\u001b[1m(\u001b[0mR-R8\u001b[1m)\u001b[0m: \u001b[3;92mTrue\u001b[0m,\n",
       "    \u001b[1;35mN\u001b[0m\u001b[1m(\u001b[0mR-R9\u001b[1m)\u001b[0m: \u001b[3;92mTrue\u001b[0m,\n",
       "    \u001b[1;35mN\u001b[0m\u001b[1m(\u001b[0mR-R10\u001b[1m)\u001b[0m: \u001b[3;92mTrue\u001b[0m,\n",
       "    \u001b[1;35mN\u001b[0m\u001b[1m(\u001b[0mR-R11\u001b[1m)\u001b[0m: \u001b[3;92mTrue\u001b[0m,\n",
       "    \u001b[1;35mN\u001b[0m\u001b[1m(\u001b[0mR-R12\u001b[1m)\u001b[0m: \u001b[3;92mTrue\u001b[0m,\n",
       "    \u001b[1;35mN\u001b[0m\u001b[1m(\u001b[0mR-R13\u001b[1m)\u001b[0m: \u001b[3;92mTrue\u001b[0m,\n",
       "    \u001b[1;35mN\u001b[0m\u001b[1m(\u001b[0mR-R14\u001b[1m)\u001b[0m: \u001b[3;92mTrue\u001b[0m,\n",
       "    \u001b[1;35mN\u001b[0m\u001b[1m(\u001b[0mR-R15\u001b[1m)\u001b[0m: \u001b[3;92mTrue\u001b[0m,\n",
       "    \u001b[1;35mN\u001b[0m\u001b[1m(\u001b[0mR-R16\u001b[1m)\u001b[0m: \u001b[3;92mTrue\u001b[0m,\n",
       "    \u001b[1;35mN\u001b[0m\u001b[1m(\u001b[0mR-R17\u001b[1m)\u001b[0m: \u001b[3;92mTrue\u001b[0m,\n",
       "    \u001b[1;35mN\u001b[0m\u001b[1m(\u001b[0mR-R18\u001b[1m)\u001b[0m: \u001b[3;92mTrue\u001b[0m,\n",
       "    \u001b[1;35mN\u001b[0m\u001b[1m(\u001b[0mR-R19\u001b[1m)\u001b[0m: \u001b[3;92mTrue\u001b[0m,\n",
       "    \u001b[1;35mN\u001b[0m\u001b[1m(\u001b[0mR-R20\u001b[1m)\u001b[0m: \u001b[3;92mTrue\u001b[0m,\n",
       "    \u001b[1;35mN\u001b[0m\u001b[1m(\u001b[0mR-R21\u001b[1m)\u001b[0m: \u001b[3;92mTrue\u001b[0m,\n",
       "    \u001b[1;35mN\u001b[0m\u001b[1m(\u001b[0mR-R22\u001b[1m)\u001b[0m: \u001b[3;92mTrue\u001b[0m,\n",
       "    \u001b[1;35mN\u001b[0m\u001b[1m(\u001b[0mR-R23\u001b[1m)\u001b[0m: \u001b[3;92mTrue\u001b[0m,\n",
       "    \u001b[1;35mN\u001b[0m\u001b[1m(\u001b[0mR-R24\u001b[1m)\u001b[0m: \u001b[3;92mTrue\u001b[0m,\n",
       "    \u001b[1;35mN\u001b[0m\u001b[1m(\u001b[0mR-R25\u001b[1m)\u001b[0m: \u001b[3;92mTrue\u001b[0m,\n",
       "    \u001b[1;35mN\u001b[0m\u001b[1m(\u001b[0mR-R26\u001b[1m)\u001b[0m: \u001b[3;92mTrue\u001b[0m,\n",
       "    \u001b[1;35mN\u001b[0m\u001b[1m(\u001b[0mR-R27\u001b[1m)\u001b[0m: \u001b[3;92mTrue\u001b[0m,\n",
       "    \u001b[1;35mN\u001b[0m\u001b[1m(\u001b[0mR-R28\u001b[1m)\u001b[0m: \u001b[3;92mTrue\u001b[0m,\n",
       "    \u001b[1;35mN\u001b[0m\u001b[1m(\u001b[0mR-R29\u001b[1m)\u001b[0m: \u001b[3;92mTrue\u001b[0m,\n",
       "    \u001b[1;35mN\u001b[0m\u001b[1m(\u001b[0mR-R30\u001b[1m)\u001b[0m: \u001b[3;92mTrue\u001b[0m,\n",
       "    \u001b[1;35mN\u001b[0m\u001b[1m(\u001b[0mR-R31\u001b[1m)\u001b[0m: \u001b[3;92mTrue\u001b[0m,\n",
       "    \u001b[1;35mN\u001b[0m\u001b[1m(\u001b[0mR-R32\u001b[1m)\u001b[0m: \u001b[3;92mTrue\u001b[0m,\n",
       "    \u001b[1;35mN\u001b[0m\u001b[1m(\u001b[0mR-R33\u001b[1m)\u001b[0m: \u001b[3;92mTrue\u001b[0m,\n",
       "    \u001b[1;35mN\u001b[0m\u001b[1m(\u001b[0mR-R34\u001b[1m)\u001b[0m: \u001b[3;92mTrue\u001b[0m,\n",
       "    \u001b[1;35mN\u001b[0m\u001b[1m(\u001b[0mR-R35\u001b[1m)\u001b[0m: \u001b[3;92mTrue\u001b[0m,\n",
       "    \u001b[1;35mN\u001b[0m\u001b[1m(\u001b[0mR-R36\u001b[1m)\u001b[0m: \u001b[3;92mTrue\u001b[0m,\n",
       "    \u001b[1;35mN\u001b[0m\u001b[1m(\u001b[0mR-R37\u001b[1m)\u001b[0m: \u001b[3;91mFalse\u001b[0m,\n",
       "    \u001b[1;35mN\u001b[0m\u001b[1m(\u001b[0mR-R38\u001b[1m)\u001b[0m: \u001b[3;91mFalse\u001b[0m,\n",
       "    \u001b[1;35mN\u001b[0m\u001b[1m(\u001b[0mR-R39\u001b[1m)\u001b[0m: \u001b[3;91mFalse\u001b[0m,\n",
       "    \u001b[1;35mN\u001b[0m\u001b[1m(\u001b[0mR-R40\u001b[1m)\u001b[0m: \u001b[3;91mFalse\u001b[0m,\n",
       "    \u001b[1;35mN\u001b[0m\u001b[1m(\u001b[0mR-R41\u001b[1m)\u001b[0m: \u001b[3;91mFalse\u001b[0m,\n",
       "    \u001b[1;35mN\u001b[0m\u001b[1m(\u001b[0mR-R42\u001b[1m)\u001b[0m: \u001b[3;91mFalse\u001b[0m,\n",
       "    \u001b[1;35mN\u001b[0m\u001b[1m(\u001b[0mR-R43\u001b[1m)\u001b[0m: \u001b[3;91mFalse\u001b[0m,\n",
       "    \u001b[1;35mN\u001b[0m\u001b[1m(\u001b[0mR-R44\u001b[1m)\u001b[0m: \u001b[3;91mFalse\u001b[0m,\n",
       "    \u001b[1;35mN\u001b[0m\u001b[1m(\u001b[0mR-R45\u001b[1m)\u001b[0m: \u001b[3;91mFalse\u001b[0m,\n",
       "    \u001b[1;35mN\u001b[0m\u001b[1m(\u001b[0mR-R46\u001b[1m)\u001b[0m: \u001b[3;91mFalse\u001b[0m,\n",
       "    \u001b[1;35mN\u001b[0m\u001b[1m(\u001b[0mR-R47\u001b[1m)\u001b[0m: \u001b[3;91mFalse\u001b[0m,\n",
       "    \u001b[1;35mN\u001b[0m\u001b[1m(\u001b[0mR-R48\u001b[1m)\u001b[0m: \u001b[3;91mFalse\u001b[0m,\n",
       "    \u001b[1;35mN\u001b[0m\u001b[1m(\u001b[0mR-R49\u001b[1m)\u001b[0m: \u001b[3;91mFalse\u001b[0m,\n",
       "    \u001b[1;35mN\u001b[0m\u001b[1m(\u001b[0mR-R50\u001b[1m)\u001b[0m: \u001b[3;92mTrue\u001b[0m,\n",
       "    \u001b[1;35mN\u001b[0m\u001b[1m(\u001b[0mR-R51\u001b[1m)\u001b[0m: \u001b[3;92mTrue\u001b[0m,\n",
       "    \u001b[1;35mN\u001b[0m\u001b[1m(\u001b[0mR-R52\u001b[1m)\u001b[0m: \u001b[3;92mTrue\u001b[0m,\n",
       "    \u001b[1;35mN\u001b[0m\u001b[1m(\u001b[0mR-R53\u001b[1m)\u001b[0m: \u001b[3;92mTrue\u001b[0m,\n",
       "    \u001b[1;35mN\u001b[0m\u001b[1m(\u001b[0mR-R54\u001b[1m)\u001b[0m: \u001b[3;92mTrue\u001b[0m,\n",
       "    \u001b[1;35mN\u001b[0m\u001b[1m(\u001b[0mR-R55\u001b[1m)\u001b[0m: \u001b[3;91mFalse\u001b[0m,\n",
       "    \u001b[1;35mN\u001b[0m\u001b[1m(\u001b[0mR-R56\u001b[1m)\u001b[0m: \u001b[3;91mFalse\u001b[0m,\n",
       "    \u001b[1;35mN\u001b[0m\u001b[1m(\u001b[0mR-R57\u001b[1m)\u001b[0m: \u001b[3;91mFalse\u001b[0m,\n",
       "    \u001b[1;35mN\u001b[0m\u001b[1m(\u001b[0mR-R58\u001b[1m)\u001b[0m: \u001b[3;91mFalse\u001b[0m,\n",
       "    \u001b[1;35mN\u001b[0m\u001b[1m(\u001b[0mR-R59\u001b[1m)\u001b[0m: \u001b[3;91mFalse\u001b[0m,\n",
       "    \u001b[1;35mN\u001b[0m\u001b[1m(\u001b[0mR-R60\u001b[1m)\u001b[0m: \u001b[3;91mFalse\u001b[0m,\n",
       "    \u001b[1;35mN\u001b[0m\u001b[1m(\u001b[0mR-R61\u001b[1m)\u001b[0m: \u001b[3;91mFalse\u001b[0m,\n",
       "    \u001b[1;35mN\u001b[0m\u001b[1m(\u001b[0mR-R62\u001b[1m)\u001b[0m: \u001b[3;91mFalse\u001b[0m,\n",
       "    \u001b[1;35mN\u001b[0m\u001b[1m(\u001b[0mR-R63\u001b[1m)\u001b[0m: \u001b[3;91mFalse\u001b[0m,\n",
       "    \u001b[1;35mN\u001b[0m\u001b[1m(\u001b[0mR-R64\u001b[1m)\u001b[0m: \u001b[3;91mFalse\u001b[0m,\n",
       "    \u001b[1;35mN\u001b[0m\u001b[1m(\u001b[0mR-R65\u001b[1m)\u001b[0m: \u001b[3;91mFalse\u001b[0m,\n",
       "    \u001b[1;35mN\u001b[0m\u001b[1m(\u001b[0mR-R66\u001b[1m)\u001b[0m: \u001b[3;91mFalse\u001b[0m,\n",
       "    \u001b[1;35mN\u001b[0m\u001b[1m(\u001b[0mR-R67\u001b[1m)\u001b[0m: \u001b[3;91mFalse\u001b[0m,\n",
       "    \u001b[1;35mN\u001b[0m\u001b[1m(\u001b[0mR-R68\u001b[1m)\u001b[0m: \u001b[3;91mFalse\u001b[0m,\n",
       "    \u001b[1;35mN\u001b[0m\u001b[1m(\u001b[0mR-R69\u001b[1m)\u001b[0m: \u001b[3;91mFalse\u001b[0m,\n",
       "    \u001b[1;35mN\u001b[0m\u001b[1m(\u001b[0mR-R70\u001b[1m)\u001b[0m: \u001b[3;91mFalse\u001b[0m,\n",
       "    \u001b[1;35mN\u001b[0m\u001b[1m(\u001b[0mR-R71\u001b[1m)\u001b[0m: \u001b[3;91mFalse\u001b[0m,\n",
       "    \u001b[1;35mN\u001b[0m\u001b[1m(\u001b[0mR-R72\u001b[1m)\u001b[0m: \u001b[3;91mFalse\u001b[0m,\n",
       "    \u001b[1;35mN\u001b[0m\u001b[1m(\u001b[0mR-R73\u001b[1m)\u001b[0m: \u001b[3;91mFalse\u001b[0m,\n",
       "    \u001b[1;35mN\u001b[0m\u001b[1m(\u001b[0mR-R74\u001b[1m)\u001b[0m: \u001b[3;91mFalse\u001b[0m,\n",
       "    \u001b[1;35mN\u001b[0m\u001b[1m(\u001b[0mR-R75\u001b[1m)\u001b[0m: \u001b[3;91mFalse\u001b[0m,\n",
       "    \u001b[1;35mN\u001b[0m\u001b[1m(\u001b[0mR-R76\u001b[1m)\u001b[0m: \u001b[3;91mFalse\u001b[0m,\n",
       "    \u001b[1;35mN\u001b[0m\u001b[1m(\u001b[0mR-R77\u001b[1m)\u001b[0m: \u001b[3;91mFalse\u001b[0m,\n",
       "    \u001b[1;35mN\u001b[0m\u001b[1m(\u001b[0mR-R78\u001b[1m)\u001b[0m: \u001b[3;91mFalse\u001b[0m,\n",
       "    \u001b[1;35mN\u001b[0m\u001b[1m(\u001b[0mR-R79\u001b[1m)\u001b[0m: \u001b[3;91mFalse\u001b[0m,\n",
       "    \u001b[1;35mN\u001b[0m\u001b[1m(\u001b[0mR-R80\u001b[1m)\u001b[0m: \u001b[3;91mFalse\u001b[0m,\n",
       "    \u001b[1;35mN\u001b[0m\u001b[1m(\u001b[0mR-R81\u001b[1m)\u001b[0m: \u001b[3;91mFalse\u001b[0m,\n",
       "    \u001b[1;35mN\u001b[0m\u001b[1m(\u001b[0mR-R82\u001b[1m)\u001b[0m: \u001b[3;91mFalse\u001b[0m,\n",
       "    \u001b[1;35mN\u001b[0m\u001b[1m(\u001b[0mR-R83\u001b[1m)\u001b[0m: \u001b[3;91mFalse\u001b[0m,\n",
       "    \u001b[1;35mN\u001b[0m\u001b[1m(\u001b[0mR-R84\u001b[1m)\u001b[0m: \u001b[3;91mFalse\u001b[0m,\n",
       "    \u001b[1;35mN\u001b[0m\u001b[1m(\u001b[0mR-R85\u001b[1m)\u001b[0m: \u001b[3;91mFalse\u001b[0m,\n",
       "    \u001b[1;35mN\u001b[0m\u001b[1m(\u001b[0mR-R86\u001b[1m)\u001b[0m: \u001b[3;91mFalse\u001b[0m,\n",
       "    \u001b[1;35mN\u001b[0m\u001b[1m(\u001b[0mR-R87\u001b[1m)\u001b[0m: \u001b[3;91mFalse\u001b[0m,\n",
       "    \u001b[1;35mN\u001b[0m\u001b[1m(\u001b[0mR-R88\u001b[1m)\u001b[0m: \u001b[3;91mFalse\u001b[0m,\n",
       "    \u001b[1;35mN\u001b[0m\u001b[1m(\u001b[0mR-R89\u001b[1m)\u001b[0m: \u001b[3;91mFalse\u001b[0m,\n",
       "    \u001b[1;35mN\u001b[0m\u001b[1m(\u001b[0mR-R90\u001b[1m)\u001b[0m: \u001b[3;91mFalse\u001b[0m,\n",
       "    \u001b[1;35mN\u001b[0m\u001b[1m(\u001b[0mR-R91\u001b[1m)\u001b[0m: \u001b[3;91mFalse\u001b[0m,\n",
       "    \u001b[1;35mN\u001b[0m\u001b[1m(\u001b[0mR-R92\u001b[1m)\u001b[0m: \u001b[3;91mFalse\u001b[0m,\n",
       "    \u001b[1;35mN\u001b[0m\u001b[1m(\u001b[0mR-R93\u001b[1m)\u001b[0m: \u001b[3;91mFalse\u001b[0m,\n",
       "    \u001b[1;35mN\u001b[0m\u001b[1m(\u001b[0mR-R94\u001b[1m)\u001b[0m: \u001b[3;91mFalse\u001b[0m,\n",
       "    \u001b[1;35mN\u001b[0m\u001b[1m(\u001b[0mR-R95\u001b[1m)\u001b[0m: \u001b[3;91mFalse\u001b[0m,\n",
       "    \u001b[1;35mN\u001b[0m\u001b[1m(\u001b[0mR-R96\u001b[1m)\u001b[0m: \u001b[3;91mFalse\u001b[0m,\n",
       "    \u001b[1;35mN\u001b[0m\u001b[1m(\u001b[0mR-R97\u001b[1m)\u001b[0m: \u001b[3;91mFalse\u001b[0m,\n",
       "    \u001b[1;35mN\u001b[0m\u001b[1m(\u001b[0mR-R98\u001b[1m)\u001b[0m: \u001b[3;91mFalse\u001b[0m,\n",
       "    \u001b[1;35mN\u001b[0m\u001b[1m(\u001b[0mR-R99\u001b[1m)\u001b[0m: \u001b[3;91mFalse\u001b[0m,\n",
       "    \u001b[1;35mN\u001b[0m\u001b[1m(\u001b[0mR-R100\u001b[1m)\u001b[0m: \u001b[3;91mFalse\u001b[0m,\n",
       "    \u001b[1;35mN\u001b[0m\u001b[1m(\u001b[0mR-R101\u001b[1m)\u001b[0m: \u001b[3;91mFalse\u001b[0m,\n",
       "    \u001b[1;35mN\u001b[0m\u001b[1m(\u001b[0mR-R102\u001b[1m)\u001b[0m: \u001b[3;91mFalse\u001b[0m,\n",
       "    \u001b[1;35mN\u001b[0m\u001b[1m(\u001b[0mR-R103\u001b[1m)\u001b[0m: \u001b[3;91mFalse\u001b[0m,\n",
       "    \u001b[1;35mN\u001b[0m\u001b[1m(\u001b[0mR-R104\u001b[1m)\u001b[0m: \u001b[3;91mFalse\u001b[0m,\n",
       "    \u001b[1;35mN\u001b[0m\u001b[1m(\u001b[0mR-R105\u001b[1m)\u001b[0m: \u001b[3;91mFalse\u001b[0m,\n",
       "    \u001b[1;35mN\u001b[0m\u001b[1m(\u001b[0mR-R106\u001b[1m)\u001b[0m: \u001b[3;91mFalse\u001b[0m,\n",
       "    \u001b[1;35mN\u001b[0m\u001b[1m(\u001b[0mR-R107\u001b[1m)\u001b[0m: \u001b[3;91mFalse\u001b[0m,\n",
       "    \u001b[1;35mN\u001b[0m\u001b[1m(\u001b[0mR-R108\u001b[1m)\u001b[0m: \u001b[3;91mFalse\u001b[0m,\n",
       "    \u001b[1;35mN\u001b[0m\u001b[1m(\u001b[0mR-R109\u001b[1m)\u001b[0m: \u001b[3;91mFalse\u001b[0m,\n",
       "    \u001b[1;35mN\u001b[0m\u001b[1m(\u001b[0mR-R110\u001b[1m)\u001b[0m: \u001b[3;91mFalse\u001b[0m,\n",
       "    \u001b[1;35mN\u001b[0m\u001b[1m(\u001b[0mR-R111\u001b[1m)\u001b[0m: \u001b[3;91mFalse\u001b[0m,\n",
       "    \u001b[1;35mN\u001b[0m\u001b[1m(\u001b[0mR-R112\u001b[1m)\u001b[0m: \u001b[3;91mFalse\u001b[0m,\n",
       "    \u001b[1;35mN\u001b[0m\u001b[1m(\u001b[0mR-R113\u001b[1m)\u001b[0m: \u001b[3;91mFalse\u001b[0m,\n",
       "    \u001b[1;35mN\u001b[0m\u001b[1m(\u001b[0mR-R114\u001b[1m)\u001b[0m: \u001b[3;91mFalse\u001b[0m,\n",
       "    \u001b[1;35mN\u001b[0m\u001b[1m(\u001b[0mR-R115\u001b[1m)\u001b[0m: \u001b[3;91mFalse\u001b[0m,\n",
       "    \u001b[1;35mN\u001b[0m\u001b[1m(\u001b[0mR-R116\u001b[1m)\u001b[0m: \u001b[3;91mFalse\u001b[0m,\n",
       "    \u001b[1;35mN\u001b[0m\u001b[1m(\u001b[0mR-R117\u001b[1m)\u001b[0m: \u001b[3;91mFalse\u001b[0m,\n",
       "    \u001b[1;35mN\u001b[0m\u001b[1m(\u001b[0mR-R118\u001b[1m)\u001b[0m: \u001b[3;91mFalse\u001b[0m,\n",
       "    \u001b[1;35mN\u001b[0m\u001b[1m(\u001b[0mR-R119\u001b[1m)\u001b[0m: \u001b[3;91mFalse\u001b[0m,\n",
       "    \u001b[1;35mN\u001b[0m\u001b[1m(\u001b[0mR-R120\u001b[1m)\u001b[0m: \u001b[3;91mFalse\u001b[0m,\n",
       "    \u001b[1;35mN\u001b[0m\u001b[1m(\u001b[0mR-R121\u001b[1m)\u001b[0m: \u001b[3;91mFalse\u001b[0m,\n",
       "    \u001b[1;35mN\u001b[0m\u001b[1m(\u001b[0mR-R122\u001b[1m)\u001b[0m: \u001b[3;91mFalse\u001b[0m,\n",
       "    \u001b[1;35mN\u001b[0m\u001b[1m(\u001b[0mR-R123\u001b[1m)\u001b[0m: \u001b[3;91mFalse\u001b[0m,\n",
       "    \u001b[1;35mN\u001b[0m\u001b[1m(\u001b[0mR-R124\u001b[1m)\u001b[0m: \u001b[3;91mFalse\u001b[0m,\n",
       "    \u001b[1;35mN\u001b[0m\u001b[1m(\u001b[0mR-R125\u001b[1m)\u001b[0m: \u001b[3;91mFalse\u001b[0m,\n",
       "    \u001b[1;35mN\u001b[0m\u001b[1m(\u001b[0mR-R126\u001b[1m)\u001b[0m: \u001b[3;91mFalse\u001b[0m,\n",
       "    \u001b[1;35mN\u001b[0m\u001b[1m(\u001b[0mR-R127\u001b[1m)\u001b[0m: \u001b[3;91mFalse\u001b[0m,\n",
       "    \u001b[1;35mN\u001b[0m\u001b[1m(\u001b[0mR-R128\u001b[1m)\u001b[0m: \u001b[3;91mFalse\u001b[0m,\n",
       "    \u001b[1;35mN\u001b[0m\u001b[1m(\u001b[0mR-R129\u001b[1m)\u001b[0m: \u001b[3;91mFalse\u001b[0m,\n",
       "    \u001b[1;35mN\u001b[0m\u001b[1m(\u001b[0mR-R130\u001b[1m)\u001b[0m: \u001b[3;91mFalse\u001b[0m,\n",
       "    \u001b[1;35mN\u001b[0m\u001b[1m(\u001b[0mR-R131\u001b[1m)\u001b[0m: \u001b[3;91mFalse\u001b[0m,\n",
       "    \u001b[1;35mN\u001b[0m\u001b[1m(\u001b[0mR-R132\u001b[1m)\u001b[0m: \u001b[3;91mFalse\u001b[0m,\n",
       "    \u001b[1;35mN\u001b[0m\u001b[1m(\u001b[0mR-R133\u001b[1m)\u001b[0m: \u001b[3;91mFalse\u001b[0m,\n",
       "    \u001b[1;35mN\u001b[0m\u001b[1m(\u001b[0mR-R134\u001b[1m)\u001b[0m: \u001b[3;91mFalse\u001b[0m,\n",
       "    \u001b[1;35mN\u001b[0m\u001b[1m(\u001b[0mR-R135\u001b[1m)\u001b[0m: \u001b[3;91mFalse\u001b[0m,\n",
       "    \u001b[1;35mN\u001b[0m\u001b[1m(\u001b[0mR-R136\u001b[1m)\u001b[0m: \u001b[3;91mFalse\u001b[0m,\n",
       "    \u001b[1;35mN\u001b[0m\u001b[1m(\u001b[0mR-R137\u001b[1m)\u001b[0m: \u001b[3;91mFalse\u001b[0m,\n",
       "    \u001b[1;35mN\u001b[0m\u001b[1m(\u001b[0mR-R138\u001b[1m)\u001b[0m: \u001b[3;91mFalse\u001b[0m,\n",
       "    \u001b[1;35mN\u001b[0m\u001b[1m(\u001b[0mR-R139\u001b[1m)\u001b[0m: \u001b[3;91mFalse\u001b[0m,\n",
       "    \u001b[1;35mN\u001b[0m\u001b[1m(\u001b[0mR-R140\u001b[1m)\u001b[0m: \u001b[3;91mFalse\u001b[0m,\n",
       "    \u001b[1;35mN\u001b[0m\u001b[1m(\u001b[0mR-R141\u001b[1m)\u001b[0m: \u001b[3;91mFalse\u001b[0m,\n",
       "    \u001b[1;35mN\u001b[0m\u001b[1m(\u001b[0mR-R142\u001b[1m)\u001b[0m: \u001b[3;91mFalse\u001b[0m,\n",
       "    \u001b[1;35mN\u001b[0m\u001b[1m(\u001b[0mR-R143\u001b[1m)\u001b[0m: \u001b[3;91mFalse\u001b[0m,\n",
       "    \u001b[1;35mN\u001b[0m\u001b[1m(\u001b[0mR-R144\u001b[1m)\u001b[0m: \u001b[3;91mFalse\u001b[0m,\n",
       "    \u001b[1;35mN\u001b[0m\u001b[1m(\u001b[0mR-R145\u001b[1m)\u001b[0m: \u001b[3;91mFalse\u001b[0m,\n",
       "    \u001b[1;35mN\u001b[0m\u001b[1m(\u001b[0mR-R146\u001b[1m)\u001b[0m: \u001b[3;91mFalse\u001b[0m,\n",
       "    \u001b[1;35mN\u001b[0m\u001b[1m(\u001b[0mR-R147\u001b[1m)\u001b[0m: \u001b[3;91mFalse\u001b[0m,\n",
       "    \u001b[1;35mN\u001b[0m\u001b[1m(\u001b[0mR-R148\u001b[1m)\u001b[0m: \u001b[3;91mFalse\u001b[0m,\n",
       "    \u001b[1;35mN\u001b[0m\u001b[1m(\u001b[0mR-R149\u001b[1m)\u001b[0m: \u001b[3;91mFalse\u001b[0m,\n",
       "    \u001b[1;35mN\u001b[0m\u001b[1m(\u001b[0mR-R150\u001b[1m)\u001b[0m: \u001b[3;91mFalse\u001b[0m,\n",
       "    \u001b[1;35mN\u001b[0m\u001b[1m(\u001b[0mR-R151\u001b[1m)\u001b[0m: \u001b[3;91mFalse\u001b[0m,\n",
       "    \u001b[1;35mN\u001b[0m\u001b[1m(\u001b[0mR-R152\u001b[1m)\u001b[0m: \u001b[3;91mFalse\u001b[0m,\n",
       "    \u001b[1;35mN\u001b[0m\u001b[1m(\u001b[0mR-R153\u001b[1m)\u001b[0m: \u001b[3;91mFalse\u001b[0m,\n",
       "    \u001b[1;35mN\u001b[0m\u001b[1m(\u001b[0mR-R154\u001b[1m)\u001b[0m: \u001b[3;91mFalse\u001b[0m,\n",
       "    \u001b[1;35mN\u001b[0m\u001b[1m(\u001b[0mR-R155\u001b[1m)\u001b[0m: \u001b[3;91mFalse\u001b[0m,\n",
       "    \u001b[1;35mN\u001b[0m\u001b[1m(\u001b[0mR-R156\u001b[1m)\u001b[0m: \u001b[3;91mFalse\u001b[0m,\n",
       "    \u001b[1;35mN\u001b[0m\u001b[1m(\u001b[0mR-R157\u001b[1m)\u001b[0m: \u001b[3;91mFalse\u001b[0m,\n",
       "    \u001b[1;35mN\u001b[0m\u001b[1m(\u001b[0mR-R158\u001b[1m)\u001b[0m: \u001b[3;91mFalse\u001b[0m,\n",
       "    \u001b[1;35mN\u001b[0m\u001b[1m(\u001b[0mR-R159\u001b[1m)\u001b[0m: \u001b[3;91mFalse\u001b[0m,\n",
       "    \u001b[1;35mN\u001b[0m\u001b[1m(\u001b[0mR-R160\u001b[1m)\u001b[0m: \u001b[3;91mFalse\u001b[0m,\n",
       "    \u001b[1;35mN\u001b[0m\u001b[1m(\u001b[0mR-R161\u001b[1m)\u001b[0m: \u001b[3;91mFalse\u001b[0m,\n",
       "    \u001b[1;35mN\u001b[0m\u001b[1m(\u001b[0mR-R162\u001b[1m)\u001b[0m: \u001b[3;91mFalse\u001b[0m,\n",
       "    \u001b[1;35mN\u001b[0m\u001b[1m(\u001b[0mR-R163\u001b[1m)\u001b[0m: \u001b[3;91mFalse\u001b[0m,\n",
       "    \u001b[1;35mN\u001b[0m\u001b[1m(\u001b[0mR-R164\u001b[1m)\u001b[0m: \u001b[3;91mFalse\u001b[0m,\n",
       "    \u001b[1;35mN\u001b[0m\u001b[1m(\u001b[0mR-R165\u001b[1m)\u001b[0m: \u001b[3;91mFalse\u001b[0m,\n",
       "    \u001b[1;35mN\u001b[0m\u001b[1m(\u001b[0mR-R166\u001b[1m)\u001b[0m: \u001b[3;91mFalse\u001b[0m,\n",
       "    \u001b[1;35mN\u001b[0m\u001b[1m(\u001b[0mR-R167\u001b[1m)\u001b[0m: \u001b[3;91mFalse\u001b[0m,\n",
       "    \u001b[1;35mN\u001b[0m\u001b[1m(\u001b[0mR-R168\u001b[1m)\u001b[0m: \u001b[3;91mFalse\u001b[0m,\n",
       "    \u001b[1;35mN\u001b[0m\u001b[1m(\u001b[0mR-R169\u001b[1m)\u001b[0m: \u001b[3;91mFalse\u001b[0m,\n",
       "    \u001b[1;35mN\u001b[0m\u001b[1m(\u001b[0mR-R170\u001b[1m)\u001b[0m: \u001b[3;91mFalse\u001b[0m,\n",
       "    \u001b[1;35mN\u001b[0m\u001b[1m(\u001b[0mR-R171\u001b[1m)\u001b[0m: \u001b[3;91mFalse\u001b[0m,\n",
       "    \u001b[1;35mN\u001b[0m\u001b[1m(\u001b[0mR-R172\u001b[1m)\u001b[0m: \u001b[3;91mFalse\u001b[0m,\n",
       "    \u001b[1;35mN\u001b[0m\u001b[1m(\u001b[0mR-R173\u001b[1m)\u001b[0m: \u001b[3;91mFalse\u001b[0m,\n",
       "    \u001b[1;35mN\u001b[0m\u001b[1m(\u001b[0mR-R174\u001b[1m)\u001b[0m: \u001b[3;91mFalse\u001b[0m,\n",
       "    \u001b[1;35mN\u001b[0m\u001b[1m(\u001b[0mR-R175\u001b[1m)\u001b[0m: \u001b[3;91mFalse\u001b[0m,\n",
       "    \u001b[1;35mN\u001b[0m\u001b[1m(\u001b[0mR-R176\u001b[1m)\u001b[0m: \u001b[3;91mFalse\u001b[0m,\n",
       "    \u001b[1;35mN\u001b[0m\u001b[1m(\u001b[0mR-R177\u001b[1m)\u001b[0m: \u001b[3;91mFalse\u001b[0m,\n",
       "    \u001b[1;35mN\u001b[0m\u001b[1m(\u001b[0mR-R178\u001b[1m)\u001b[0m: \u001b[3;91mFalse\u001b[0m,\n",
       "    \u001b[1;35mN\u001b[0m\u001b[1m(\u001b[0mR-R179\u001b[1m)\u001b[0m: \u001b[3;91mFalse\u001b[0m,\n",
       "    \u001b[1;35mN\u001b[0m\u001b[1m(\u001b[0mR-R180\u001b[1m)\u001b[0m: \u001b[3;91mFalse\u001b[0m,\n",
       "    \u001b[1;35mN\u001b[0m\u001b[1m(\u001b[0mR-R181\u001b[1m)\u001b[0m: \u001b[3;91mFalse\u001b[0m,\n",
       "    \u001b[1;35mN\u001b[0m\u001b[1m(\u001b[0mR-R182\u001b[1m)\u001b[0m: \u001b[3;91mFalse\u001b[0m,\n",
       "    \u001b[1;35mN\u001b[0m\u001b[1m(\u001b[0mR-R183\u001b[1m)\u001b[0m: \u001b[3;91mFalse\u001b[0m,\n",
       "    \u001b[1;35mN\u001b[0m\u001b[1m(\u001b[0mR-R184\u001b[1m)\u001b[0m: \u001b[3;91mFalse\u001b[0m,\n",
       "    \u001b[1;35mN\u001b[0m\u001b[1m(\u001b[0mR-R185\u001b[1m)\u001b[0m: \u001b[3;91mFalse\u001b[0m,\n",
       "    \u001b[1;35mN\u001b[0m\u001b[1m(\u001b[0mR-R186\u001b[1m)\u001b[0m: \u001b[3;91mFalse\u001b[0m,\n",
       "    \u001b[1;35mN\u001b[0m\u001b[1m(\u001b[0mR-R187\u001b[1m)\u001b[0m: \u001b[3;91mFalse\u001b[0m,\n",
       "    \u001b[1;35mN\u001b[0m\u001b[1m(\u001b[0mR-R188\u001b[1m)\u001b[0m: \u001b[3;91mFalse\u001b[0m,\n",
       "    \u001b[1;35mN\u001b[0m\u001b[1m(\u001b[0mR-R189\u001b[1m)\u001b[0m: \u001b[3;91mFalse\u001b[0m,\n",
       "    \u001b[1;35mN\u001b[0m\u001b[1m(\u001b[0mR-R190\u001b[1m)\u001b[0m: \u001b[3;91mFalse\u001b[0m,\n",
       "    \u001b[1;35mN\u001b[0m\u001b[1m(\u001b[0mR-R191\u001b[1m)\u001b[0m: \u001b[3;91mFalse\u001b[0m,\n",
       "    \u001b[1;35mN\u001b[0m\u001b[1m(\u001b[0mR-R192\u001b[1m)\u001b[0m: \u001b[3;91mFalse\u001b[0m,\n",
       "    \u001b[1;35mN\u001b[0m\u001b[1m(\u001b[0mR-R193\u001b[1m)\u001b[0m: \u001b[3;91mFalse\u001b[0m,\n",
       "    \u001b[1;35mN\u001b[0m\u001b[1m(\u001b[0mR-R194\u001b[1m)\u001b[0m: \u001b[3;91mFalse\u001b[0m,\n",
       "    \u001b[1;35mN\u001b[0m\u001b[1m(\u001b[0mR-R195\u001b[1m)\u001b[0m: \u001b[3;91mFalse\u001b[0m,\n",
       "    \u001b[1;35mN\u001b[0m\u001b[1m(\u001b[0mR-R196\u001b[1m)\u001b[0m: \u001b[3;91mFalse\u001b[0m,\n",
       "    \u001b[1;35mN\u001b[0m\u001b[1m(\u001b[0mR-R197\u001b[1m)\u001b[0m: \u001b[3;91mFalse\u001b[0m,\n",
       "    \u001b[1;35mN\u001b[0m\u001b[1m(\u001b[0mR-R198\u001b[1m)\u001b[0m: \u001b[3;91mFalse\u001b[0m,\n",
       "    \u001b[1;35mN\u001b[0m\u001b[1m(\u001b[0mR-R199\u001b[1m)\u001b[0m: \u001b[3;91mFalse\u001b[0m,\n",
       "    \u001b[1;35mN\u001b[0m\u001b[1m(\u001b[0mR-R200\u001b[1m)\u001b[0m: \u001b[3;91mFalse\u001b[0m,\n",
       "    \u001b[1;35mN\u001b[0m\u001b[1m(\u001b[0mR-R201\u001b[1m)\u001b[0m: \u001b[3;91mFalse\u001b[0m,\n",
       "    \u001b[1;35mN\u001b[0m\u001b[1m(\u001b[0mR-R202\u001b[1m)\u001b[0m: \u001b[3;91mFalse\u001b[0m,\n",
       "    \u001b[1;35mN\u001b[0m\u001b[1m(\u001b[0mR-R203\u001b[1m)\u001b[0m: \u001b[3;91mFalse\u001b[0m,\n",
       "    \u001b[1;35mN\u001b[0m\u001b[1m(\u001b[0mR-R204\u001b[1m)\u001b[0m: \u001b[3;91mFalse\u001b[0m,\n",
       "    \u001b[1;35mN\u001b[0m\u001b[1m(\u001b[0mR-R205\u001b[1m)\u001b[0m: \u001b[3;91mFalse\u001b[0m,\n",
       "    \u001b[1;35mN\u001b[0m\u001b[1m(\u001b[0mR-R206\u001b[1m)\u001b[0m: \u001b[3;91mFalse\u001b[0m,\n",
       "    \u001b[1;35mN\u001b[0m\u001b[1m(\u001b[0mR-R207\u001b[1m)\u001b[0m: \u001b[3;91mFalse\u001b[0m,\n",
       "    \u001b[1;35mN\u001b[0m\u001b[1m(\u001b[0mR-R208\u001b[1m)\u001b[0m: \u001b[3;91mFalse\u001b[0m,\n",
       "    \u001b[1;35mN\u001b[0m\u001b[1m(\u001b[0mR-R209\u001b[1m)\u001b[0m: \u001b[3;91mFalse\u001b[0m,\n",
       "    \u001b[1;35mN\u001b[0m\u001b[1m(\u001b[0mR-R210\u001b[1m)\u001b[0m: \u001b[3;91mFalse\u001b[0m,\n",
       "    \u001b[1;35mN\u001b[0m\u001b[1m(\u001b[0mR-R211\u001b[1m)\u001b[0m: \u001b[3;91mFalse\u001b[0m,\n",
       "    \u001b[1;35mN\u001b[0m\u001b[1m(\u001b[0mR-R212\u001b[1m)\u001b[0m: \u001b[3;91mFalse\u001b[0m,\n",
       "    \u001b[1;35mN\u001b[0m\u001b[1m(\u001b[0mR-R213\u001b[1m)\u001b[0m: \u001b[3;91mFalse\u001b[0m,\n",
       "    \u001b[1;35mN\u001b[0m\u001b[1m(\u001b[0mR-R214\u001b[1m)\u001b[0m: \u001b[3;91mFalse\u001b[0m,\n",
       "    \u001b[1;35mN\u001b[0m\u001b[1m(\u001b[0mR-R215\u001b[1m)\u001b[0m: \u001b[3;91mFalse\u001b[0m,\n",
       "    \u001b[1;35mN\u001b[0m\u001b[1m(\u001b[0mR-R216\u001b[1m)\u001b[0m: \u001b[3;91mFalse\u001b[0m,\n",
       "    \u001b[1;35mN\u001b[0m\u001b[1m(\u001b[0mR-R217\u001b[1m)\u001b[0m: \u001b[3;91mFalse\u001b[0m,\n",
       "    \u001b[1;35mN\u001b[0m\u001b[1m(\u001b[0mR-R218\u001b[1m)\u001b[0m: \u001b[3;91mFalse\u001b[0m,\n",
       "    \u001b[1;35mN\u001b[0m\u001b[1m(\u001b[0mR-R219\u001b[1m)\u001b[0m: \u001b[3;91mFalse\u001b[0m,\n",
       "    \u001b[1;35mN\u001b[0m\u001b[1m(\u001b[0mR-R220\u001b[1m)\u001b[0m: \u001b[3;91mFalse\u001b[0m,\n",
       "    \u001b[1;35mN\u001b[0m\u001b[1m(\u001b[0mR-R221\u001b[1m)\u001b[0m: \u001b[3;91mFalse\u001b[0m,\n",
       "    \u001b[1;35mN\u001b[0m\u001b[1m(\u001b[0mR-R222\u001b[1m)\u001b[0m: \u001b[3;91mFalse\u001b[0m,\n",
       "    \u001b[1;35mN\u001b[0m\u001b[1m(\u001b[0mR-R223\u001b[1m)\u001b[0m: \u001b[3;91mFalse\u001b[0m,\n",
       "    \u001b[1;35mN\u001b[0m\u001b[1m(\u001b[0mR-R224\u001b[1m)\u001b[0m: \u001b[3;91mFalse\u001b[0m,\n",
       "    \u001b[1;35mN\u001b[0m\u001b[1m(\u001b[0mR-R225\u001b[1m)\u001b[0m: \u001b[3;91mFalse\u001b[0m,\n",
       "    \u001b[1;35mN\u001b[0m\u001b[1m(\u001b[0mR-R226\u001b[1m)\u001b[0m: \u001b[3;91mFalse\u001b[0m,\n",
       "    \u001b[1;35mN\u001b[0m\u001b[1m(\u001b[0mR-R227\u001b[1m)\u001b[0m: \u001b[3;91mFalse\u001b[0m,\n",
       "    \u001b[1;35mN\u001b[0m\u001b[1m(\u001b[0mR-R228\u001b[1m)\u001b[0m: \u001b[3;91mFalse\u001b[0m,\n",
       "    \u001b[1;35mN\u001b[0m\u001b[1m(\u001b[0mR-R229\u001b[1m)\u001b[0m: \u001b[3;91mFalse\u001b[0m,\n",
       "    \u001b[1;35mN\u001b[0m\u001b[1m(\u001b[0mR-R230\u001b[1m)\u001b[0m: \u001b[3;91mFalse\u001b[0m,\n",
       "    \u001b[1;35mN\u001b[0m\u001b[1m(\u001b[0mR-R231\u001b[1m)\u001b[0m: \u001b[3;91mFalse\u001b[0m,\n",
       "    \u001b[1;35mN\u001b[0m\u001b[1m(\u001b[0mR-R232\u001b[1m)\u001b[0m: \u001b[3;91mFalse\u001b[0m,\n",
       "    \u001b[1;35mN\u001b[0m\u001b[1m(\u001b[0mR-R233\u001b[1m)\u001b[0m: \u001b[3;91mFalse\u001b[0m,\n",
       "    \u001b[1;35mN\u001b[0m\u001b[1m(\u001b[0mR-R234\u001b[1m)\u001b[0m: \u001b[3;91mFalse\u001b[0m,\n",
       "    \u001b[1;35mN\u001b[0m\u001b[1m(\u001b[0mR-R235\u001b[1m)\u001b[0m: \u001b[3;91mFalse\u001b[0m,\n",
       "    \u001b[1;35mN\u001b[0m\u001b[1m(\u001b[0mR-R236\u001b[1m)\u001b[0m: \u001b[3;91mFalse\u001b[0m,\n",
       "    \u001b[1;35mN\u001b[0m\u001b[1m(\u001b[0mR-R237\u001b[1m)\u001b[0m: \u001b[3;91mFalse\u001b[0m,\n",
       "    \u001b[1;35mN\u001b[0m\u001b[1m(\u001b[0mR-R238\u001b[1m)\u001b[0m: \u001b[3;91mFalse\u001b[0m,\n",
       "    \u001b[1;35mN\u001b[0m\u001b[1m(\u001b[0mR-R239\u001b[1m)\u001b[0m: \u001b[3;91mFalse\u001b[0m,\n",
       "    \u001b[1;35mN\u001b[0m\u001b[1m(\u001b[0mR-R240\u001b[1m)\u001b[0m: \u001b[3;91mFalse\u001b[0m,\n",
       "    \u001b[1;35mN\u001b[0m\u001b[1m(\u001b[0mR-R241\u001b[1m)\u001b[0m: \u001b[3;91mFalse\u001b[0m,\n",
       "    \u001b[1;35mN\u001b[0m\u001b[1m(\u001b[0mR-R242\u001b[1m)\u001b[0m: \u001b[3;91mFalse\u001b[0m,\n",
       "    \u001b[1;35mN\u001b[0m\u001b[1m(\u001b[0mR-R243\u001b[1m)\u001b[0m: \u001b[3;91mFalse\u001b[0m,\n",
       "    \u001b[1;35mN\u001b[0m\u001b[1m(\u001b[0mR-R244\u001b[1m)\u001b[0m: \u001b[3;91mFalse\u001b[0m,\n",
       "    \u001b[1;35mN\u001b[0m\u001b[1m(\u001b[0mR-R245\u001b[1m)\u001b[0m: \u001b[3;91mFalse\u001b[0m,\n",
       "    \u001b[1;35mN\u001b[0m\u001b[1m(\u001b[0mR-R246\u001b[1m)\u001b[0m: \u001b[3;91mFalse\u001b[0m,\n",
       "    \u001b[1;35mN\u001b[0m\u001b[1m(\u001b[0mR-R247\u001b[1m)\u001b[0m: \u001b[3;91mFalse\u001b[0m,\n",
       "    \u001b[1;35mN\u001b[0m\u001b[1m(\u001b[0mR-R248\u001b[1m)\u001b[0m: \u001b[3;91mFalse\u001b[0m,\n",
       "    \u001b[1;35mN\u001b[0m\u001b[1m(\u001b[0mR-R249\u001b[1m)\u001b[0m: \u001b[3;91mFalse\u001b[0m,\n",
       "    \u001b[1;35mN\u001b[0m\u001b[1m(\u001b[0mR-R250\u001b[1m)\u001b[0m: \u001b[3;91mFalse\u001b[0m,\n",
       "    \u001b[1;35mN\u001b[0m\u001b[1m(\u001b[0mR-R251\u001b[1m)\u001b[0m: \u001b[3;91mFalse\u001b[0m,\n",
       "    \u001b[1;35mN\u001b[0m\u001b[1m(\u001b[0mR-R252\u001b[1m)\u001b[0m: \u001b[3;91mFalse\u001b[0m,\n",
       "    \u001b[1;35mN\u001b[0m\u001b[1m(\u001b[0mR-R253\u001b[1m)\u001b[0m: \u001b[3;91mFalse\u001b[0m,\n",
       "    \u001b[1;35mN\u001b[0m\u001b[1m(\u001b[0mR-R254\u001b[1m)\u001b[0m: \u001b[3;91mFalse\u001b[0m,\n",
       "    \u001b[1;35mN\u001b[0m\u001b[1m(\u001b[0mR-R255\u001b[1m)\u001b[0m: \u001b[3;91mFalse\u001b[0m,\n",
       "    \u001b[1;35mN\u001b[0m\u001b[1m(\u001b[0mR-R256\u001b[1m)\u001b[0m: \u001b[3;91mFalse\u001b[0m,\n",
       "    \u001b[1;35mN\u001b[0m\u001b[1m(\u001b[0mR-R257\u001b[1m)\u001b[0m: \u001b[3;91mFalse\u001b[0m,\n",
       "    \u001b[1;35mN\u001b[0m\u001b[1m(\u001b[0mR-R258\u001b[1m)\u001b[0m: \u001b[3;91mFalse\u001b[0m,\n",
       "    \u001b[1;35mN\u001b[0m\u001b[1m(\u001b[0mR-R259\u001b[1m)\u001b[0m: \u001b[3;91mFalse\u001b[0m,\n",
       "    \u001b[1;35mN\u001b[0m\u001b[1m(\u001b[0mR-R260\u001b[1m)\u001b[0m: \u001b[3;91mFalse\u001b[0m,\n",
       "    \u001b[1;35mN\u001b[0m\u001b[1m(\u001b[0mR-R261\u001b[1m)\u001b[0m: \u001b[3;91mFalse\u001b[0m,\n",
       "    \u001b[1;35mN\u001b[0m\u001b[1m(\u001b[0mR-R262\u001b[1m)\u001b[0m: \u001b[3;91mFalse\u001b[0m,\n",
       "    \u001b[1;35mN\u001b[0m\u001b[1m(\u001b[0mR-R263\u001b[1m)\u001b[0m: \u001b[3;91mFalse\u001b[0m,\n",
       "    \u001b[1;35mN\u001b[0m\u001b[1m(\u001b[0mR-R264\u001b[1m)\u001b[0m: \u001b[3;91mFalse\u001b[0m,\n",
       "    \u001b[1;35mN\u001b[0m\u001b[1m(\u001b[0mR-R265\u001b[1m)\u001b[0m: \u001b[3;91mFalse\u001b[0m,\n",
       "    \u001b[1;35mN\u001b[0m\u001b[1m(\u001b[0mR-R266\u001b[1m)\u001b[0m: \u001b[3;91mFalse\u001b[0m,\n",
       "    \u001b[1;35mN\u001b[0m\u001b[1m(\u001b[0mR-R267\u001b[1m)\u001b[0m: \u001b[3;91mFalse\u001b[0m,\n",
       "    \u001b[1;35mN\u001b[0m\u001b[1m(\u001b[0mR-R268\u001b[1m)\u001b[0m: \u001b[3;91mFalse\u001b[0m,\n",
       "    \u001b[1;35mN\u001b[0m\u001b[1m(\u001b[0mR-R269\u001b[1m)\u001b[0m: \u001b[3;91mFalse\u001b[0m,\n",
       "    \u001b[1;35mN\u001b[0m\u001b[1m(\u001b[0mR-R270\u001b[1m)\u001b[0m: \u001b[3;91mFalse\u001b[0m,\n",
       "    \u001b[1;35mN\u001b[0m\u001b[1m(\u001b[0mR-R271\u001b[1m)\u001b[0m: \u001b[3;91mFalse\u001b[0m,\n",
       "    \u001b[1;35mN\u001b[0m\u001b[1m(\u001b[0mR-R272\u001b[1m)\u001b[0m: \u001b[3;91mFalse\u001b[0m,\n",
       "    \u001b[1;35mN\u001b[0m\u001b[1m(\u001b[0mR-R273\u001b[1m)\u001b[0m: \u001b[3;91mFalse\u001b[0m,\n",
       "    \u001b[1;35mN\u001b[0m\u001b[1m(\u001b[0mR-R274\u001b[1m)\u001b[0m: \u001b[3;91mFalse\u001b[0m,\n",
       "    \u001b[1;35mN\u001b[0m\u001b[1m(\u001b[0mR-R275\u001b[1m)\u001b[0m: \u001b[3;91mFalse\u001b[0m,\n",
       "    \u001b[1;35mN\u001b[0m\u001b[1m(\u001b[0mR-R276\u001b[1m)\u001b[0m: \u001b[3;91mFalse\u001b[0m,\n",
       "    \u001b[1;35mN\u001b[0m\u001b[1m(\u001b[0mR-R277\u001b[1m)\u001b[0m: \u001b[3;91mFalse\u001b[0m,\n",
       "    \u001b[1;35mN\u001b[0m\u001b[1m(\u001b[0mR-R278\u001b[1m)\u001b[0m: \u001b[3;91mFalse\u001b[0m,\n",
       "    \u001b[1;35mN\u001b[0m\u001b[1m(\u001b[0mR-R279\u001b[1m)\u001b[0m: \u001b[3;91mFalse\u001b[0m,\n",
       "    \u001b[1;35mN\u001b[0m\u001b[1m(\u001b[0mR-R280\u001b[1m)\u001b[0m: \u001b[3;91mFalse\u001b[0m,\n",
       "    \u001b[1;35mN\u001b[0m\u001b[1m(\u001b[0mR-R281\u001b[1m)\u001b[0m: \u001b[3;91mFalse\u001b[0m,\n",
       "    \u001b[1;35mN\u001b[0m\u001b[1m(\u001b[0mR-R282\u001b[1m)\u001b[0m: \u001b[3;91mFalse\u001b[0m,\n",
       "    \u001b[1;35mN\u001b[0m\u001b[1m(\u001b[0mR-R283\u001b[1m)\u001b[0m: \u001b[3;91mFalse\u001b[0m,\n",
       "    \u001b[1;35mN\u001b[0m\u001b[1m(\u001b[0mR-R284\u001b[1m)\u001b[0m: \u001b[3;91mFalse\u001b[0m,\n",
       "    \u001b[1;35mN\u001b[0m\u001b[1m(\u001b[0mR-R285\u001b[1m)\u001b[0m: \u001b[3;91mFalse\u001b[0m,\n",
       "    \u001b[1;35mN\u001b[0m\u001b[1m(\u001b[0mR-R286\u001b[1m)\u001b[0m: \u001b[3;91mFalse\u001b[0m,\n",
       "    \u001b[1;35mN\u001b[0m\u001b[1m(\u001b[0mR-R287\u001b[1m)\u001b[0m: \u001b[3;91mFalse\u001b[0m,\n",
       "    \u001b[1;35mN\u001b[0m\u001b[1m(\u001b[0mR-R288\u001b[1m)\u001b[0m: \u001b[3;91mFalse\u001b[0m,\n",
       "    \u001b[1;35mN\u001b[0m\u001b[1m(\u001b[0mR-R289\u001b[1m)\u001b[0m: \u001b[3;91mFalse\u001b[0m,\n",
       "    \u001b[1;35mN\u001b[0m\u001b[1m(\u001b[0mR-R290\u001b[1m)\u001b[0m: \u001b[3;91mFalse\u001b[0m,\n",
       "    \u001b[1;35mN\u001b[0m\u001b[1m(\u001b[0mR-R291\u001b[1m)\u001b[0m: \u001b[3;91mFalse\u001b[0m,\n",
       "    \u001b[1;35mN\u001b[0m\u001b[1m(\u001b[0mR-R292\u001b[1m)\u001b[0m: \u001b[3;91mFalse\u001b[0m,\n",
       "    \u001b[1;35mN\u001b[0m\u001b[1m(\u001b[0mR-R293\u001b[1m)\u001b[0m: \u001b[3;91mFalse\u001b[0m,\n",
       "    \u001b[1;35mN\u001b[0m\u001b[1m(\u001b[0mR-R294\u001b[1m)\u001b[0m: \u001b[3;91mFalse\u001b[0m,\n",
       "    \u001b[1;35mN\u001b[0m\u001b[1m(\u001b[0mR-R295\u001b[1m)\u001b[0m: \u001b[3;91mFalse\u001b[0m,\n",
       "    \u001b[1;35mN\u001b[0m\u001b[1m(\u001b[0mR-R296\u001b[1m)\u001b[0m: \u001b[3;91mFalse\u001b[0m,\n",
       "    \u001b[1;35mN\u001b[0m\u001b[1m(\u001b[0mR-R297\u001b[1m)\u001b[0m: \u001b[3;91mFalse\u001b[0m,\n",
       "    \u001b[1;35mN\u001b[0m\u001b[1m(\u001b[0mR-R298\u001b[1m)\u001b[0m: \u001b[3;91mFalse\u001b[0m,\n",
       "    \u001b[1;35mN\u001b[0m\u001b[1m(\u001b[0mR-R299\u001b[1m)\u001b[0m: \u001b[3;91mFalse\u001b[0m\n",
       "\u001b[1m}\u001b[0m\n"
      ]
     },
     "metadata": {},
     "output_type": "display_data"
    }
   ],
   "source": [
    "R.is_running()"
   ]
  },
  {
   "cell_type": "code",
   "execution_count": 5,
   "metadata": {},
   "outputs": [
    {
     "name": "stderr",
     "output_type": "stream",
     "text": [
      "Running: pkill -f pow.py & rm  pow_*: 100%|██████████| 300/300 [00:01<00:00, 187.96it/s]\n"
     ]
    }
   ],
   "source": [
    "R.kill_pow()"
   ]
  },
  {
   "cell_type": "code",
   "execution_count": null,
   "metadata": {},
   "outputs": [],
   "source": [
    "R.pow(pow)"
   ]
  },
  {
   "cell_type": "code",
   "execution_count": null,
   "metadata": {},
   "outputs": [],
   "source": [
    "import time\n",
    "\n",
    "R = HUD.load_from_config(project=\"R\")\n",
    "chunk_size = 5\n",
    "chunk_start = 50\n",
    "chunk = R[chunk_start:chunk_start + chunk_size]\n",
    "while True:\n",
    "    try:\n",
    "        R.kill_pow()\n",
    "        R.pow( chunk )\n",
    "        while True:\n",
    "            all_registered = True\n",
    "            for r in chunk:\n",
    "                if r.is_registered() and not r.is_running():\n",
    "                    r.start()\n",
    "                else:\n",
    "                    all_registered = False\n",
    "                time.sleep(12)\n",
    "            if all_registered:\n",
    "                chunk_start = chunk_start + chunk_size\n",
    "                chunk = R[chunk_start:chunk_start + chunk_size]\n",
    "                break\n",
    "    except Exception as e:\n",
    "        R = HUD.load_from_config(project=\"R\")\n",
    "        pass\n"
   ]
  },
  {
   "cell_type": "code",
   "execution_count": 7,
   "metadata": {},
   "outputs": [
    {
     "name": "stderr",
     "output_type": "stream",
     "text": [
      "Running: pkill -f pow.py & rm  pow_*: 100%|██████████| 300/300 [00:02<00:00, 132.58it/s]\n",
      "Running: nohup python3 HUD/pow.py --subtensor.network nakamoto --wallet.name R --wallet.hotkey R72 > pow_0_cR_hR72.out &: 600it [00:22, 54.05it/s]"
     ]
    }
   ],
   "source": [
    "R.kill_pow()"
   ]
  },
  {
   "cell_type": "code",
   "execution_count": null,
   "metadata": {},
   "outputs": [
    {
     "name": "stdout",
     "output_type": "stream",
     "text": [
      "Starting\n",
      "Monitoring: N(R-R0)\n"
     ]
    },
    {
     "name": "stderr",
     "output_type": "stream",
     "text": [
      "Running: <function HUD._is_registered.<locals>.__get_is_registered at 0x11e7a99d0>: 100%|██████████| 1/1 [00:04<00:00,  4.30s/it]\n"
     ]
    },
    {
     "name": "stdout",
     "output_type": "stream",
     "text": [
      "N(R-R0) is registered\n"
     ]
    },
    {
     "name": "stderr",
     "output_type": "stream",
     "text": [
      "Running: pm2 pid script: 100%|██████████| 1/1 [00:01<00:00,  1.39s/it]\n"
     ]
    },
    {
     "name": "stdout",
     "output_type": "stream",
     "text": [
      "N(R-R0) is running\n",
      "Monitoring: N(R-R1)\n"
     ]
    },
    {
     "name": "stderr",
     "output_type": "stream",
     "text": [
      "Running: <function HUD._is_registered.<locals>.__get_is_registered at 0x11e7a9790>: 100%|██████████| 1/1 [00:05<00:00,  5.08s/it]\n"
     ]
    },
    {
     "name": "stdout",
     "output_type": "stream",
     "text": [
      "N(R-R1) is registered\n"
     ]
    },
    {
     "name": "stderr",
     "output_type": "stream",
     "text": [
      "Running: pm2 pid script: 100%|██████████| 1/1 [00:02<00:00,  2.04s/it]\n"
     ]
    },
    {
     "name": "stdout",
     "output_type": "stream",
     "text": [
      "N(R-R1) is running\n",
      "Monitoring: N(R-R2)\n"
     ]
    },
    {
     "name": "stderr",
     "output_type": "stream",
     "text": [
      "Running: <function HUD._is_registered.<locals>.__get_is_registered at 0x1241bad30>: 100%|██████████| 1/1 [00:04<00:00,  4.99s/it]\n"
     ]
    },
    {
     "name": "stdout",
     "output_type": "stream",
     "text": [
      "N(R-R2) is registered\n"
     ]
    },
    {
     "name": "stderr",
     "output_type": "stream",
     "text": [
      "Running: pm2 pid script: 100%|██████████| 1/1 [00:01<00:00,  1.35s/it]\n"
     ]
    },
    {
     "name": "stdout",
     "output_type": "stream",
     "text": [
      "N(R-R2) is running\n",
      "Monitoring: N(R-R3)\n"
     ]
    },
    {
     "name": "stderr",
     "output_type": "stream",
     "text": [
      "Running: <function HUD._is_registered.<locals>.__get_is_registered at 0x123b21790>: 100%|██████████| 1/1 [00:04<00:00,  4.86s/it]\n"
     ]
    },
    {
     "name": "stdout",
     "output_type": "stream",
     "text": [
      "N(R-R3) is registered\n"
     ]
    },
    {
     "name": "stderr",
     "output_type": "stream",
     "text": [
      "Running: pm2 pid script: 100%|██████████| 1/1 [00:01<00:00,  1.89s/it]\n"
     ]
    },
    {
     "name": "stdout",
     "output_type": "stream",
     "text": [
      "N(R-R3) is running\n",
      "Monitoring: N(R-R4)\n"
     ]
    },
    {
     "name": "stderr",
     "output_type": "stream",
     "text": [
      "Running: <function HUD._is_registered.<locals>.__get_is_registered at 0x123a99790>: 100%|██████████| 1/1 [00:04<00:00,  4.49s/it]\n"
     ]
    },
    {
     "name": "stdout",
     "output_type": "stream",
     "text": [
      "N(R-R4) is registered\n"
     ]
    },
    {
     "name": "stderr",
     "output_type": "stream",
     "text": [
      "Running: pm2 pid script: 100%|██████████| 1/1 [00:01<00:00,  1.65s/it]\n"
     ]
    },
    {
     "name": "stdout",
     "output_type": "stream",
     "text": [
      "N(R-R4) is running\n",
      "Monitoring: N(R-R5)\n"
     ]
    },
    {
     "name": "stderr",
     "output_type": "stream",
     "text": [
      "Running: <function HUD._is_registered.<locals>.__get_is_registered at 0x123867040>: 100%|██████████| 1/1 [00:06<00:00,  6.32s/it]\n"
     ]
    },
    {
     "name": "stdout",
     "output_type": "stream",
     "text": [
      "N(R-R5) is registered\n"
     ]
    },
    {
     "name": "stderr",
     "output_type": "stream",
     "text": [
      "Running: pm2 pid script: 100%|██████████| 1/1 [00:01<00:00,  1.90s/it]\n"
     ]
    },
    {
     "name": "stdout",
     "output_type": "stream",
     "text": [
      "N(R-R5) is running\n",
      "Monitoring: N(R-R6)\n"
     ]
    },
    {
     "name": "stderr",
     "output_type": "stream",
     "text": [
      "Running: <function HUD._is_registered.<locals>.__get_is_registered at 0x12391f430>: 100%|██████████| 1/1 [00:05<00:00,  5.34s/it]\n"
     ]
    },
    {
     "name": "stdout",
     "output_type": "stream",
     "text": [
      "N(R-R6) is registered\n"
     ]
    },
    {
     "name": "stderr",
     "output_type": "stream",
     "text": [
      "Running: pm2 pid script: 100%|██████████| 1/1 [00:02<00:00,  2.07s/it]\n"
     ]
    },
    {
     "name": "stdout",
     "output_type": "stream",
     "text": [
      "N(R-R6) is running\n",
      "Monitoring: N(R-R7)\n"
     ]
    },
    {
     "name": "stderr",
     "output_type": "stream",
     "text": [
      "Running: <function HUD._is_registered.<locals>.__get_is_registered at 0x122dbaa60>: 100%|██████████| 1/1 [00:04<00:00,  4.39s/it]\n"
     ]
    },
    {
     "name": "stdout",
     "output_type": "stream",
     "text": [
      "N(R-R7) is registered\n"
     ]
    },
    {
     "name": "stderr",
     "output_type": "stream",
     "text": [
      "Running: pm2 pid script: 100%|██████████| 1/1 [00:01<00:00,  1.44s/it]\n"
     ]
    },
    {
     "name": "stdout",
     "output_type": "stream",
     "text": [
      "N(R-R7) is running\n",
      "Monitoring: N(R-R8)\n"
     ]
    },
    {
     "name": "stderr",
     "output_type": "stream",
     "text": [
      "Running: <function HUD._is_registered.<locals>.__get_is_registered at 0x120415940>: 100%|██████████| 1/1 [00:03<00:00,  3.81s/it]\n"
     ]
    },
    {
     "name": "stdout",
     "output_type": "stream",
     "text": [
      "N(R-R8) is registered\n"
     ]
    },
    {
     "name": "stderr",
     "output_type": "stream",
     "text": [
      "Running: pm2 pid script: 100%|██████████| 1/1 [00:01<00:00,  1.38s/it]\n"
     ]
    },
    {
     "name": "stdout",
     "output_type": "stream",
     "text": [
      "N(R-R8) is running\n",
      "Monitoring: N(R-R9)\n"
     ]
    },
    {
     "name": "stderr",
     "output_type": "stream",
     "text": [
      "Running: <function HUD._is_registered.<locals>.__get_is_registered at 0x11f494550>: 100%|██████████| 1/1 [00:05<00:00,  5.07s/it]\n"
     ]
    },
    {
     "name": "stdout",
     "output_type": "stream",
     "text": [
      "N(R-R9) is registered\n"
     ]
    },
    {
     "name": "stderr",
     "output_type": "stream",
     "text": [
      "Running: pm2 pid script: 100%|██████████| 1/1 [00:01<00:00,  1.65s/it]\n"
     ]
    },
    {
     "name": "stdout",
     "output_type": "stream",
     "text": [
      "N(R-R9) is running\n",
      "Monitoring: N(R-R10)\n"
     ]
    },
    {
     "name": "stderr",
     "output_type": "stream",
     "text": [
      "Running: <function HUD._is_registered.<locals>.__get_is_registered at 0x11ee875e0>: 100%|██████████| 1/1 [00:04<00:00,  4.48s/it]\n"
     ]
    },
    {
     "name": "stdout",
     "output_type": "stream",
     "text": [
      "N(R-R10) is registered\n"
     ]
    },
    {
     "name": "stderr",
     "output_type": "stream",
     "text": [
      "Running: pm2 pid script: 100%|██████████| 1/1 [00:01<00:00,  1.85s/it]\n"
     ]
    },
    {
     "name": "stdout",
     "output_type": "stream",
     "text": [
      "N(R-R10) is running\n",
      "Monitoring: N(R-R11)\n"
     ]
    },
    {
     "name": "stderr",
     "output_type": "stream",
     "text": [
      "Running: <function HUD._is_registered.<locals>.__get_is_registered at 0x11e5eb820>: 100%|██████████| 1/1 [00:04<00:00,  4.68s/it]\n"
     ]
    },
    {
     "name": "stdout",
     "output_type": "stream",
     "text": [
      "N(R-R11) is registered\n"
     ]
    },
    {
     "name": "stderr",
     "output_type": "stream",
     "text": [
      "Running: pm2 pid script: 100%|██████████| 1/1 [00:01<00:00,  1.36s/it]\n"
     ]
    },
    {
     "name": "stdout",
     "output_type": "stream",
     "text": [
      "N(R-R11) is running\n",
      "Monitoring: N(R-R12)\n"
     ]
    },
    {
     "name": "stderr",
     "output_type": "stream",
     "text": [
      "Running: <function HUD._is_registered.<locals>.__get_is_registered at 0x122ac35e0>: 100%|██████████| 1/1 [00:04<00:00,  4.43s/it]\n"
     ]
    },
    {
     "name": "stdout",
     "output_type": "stream",
     "text": [
      "N(R-R12) is registered\n"
     ]
    },
    {
     "name": "stderr",
     "output_type": "stream",
     "text": [
      "Running: pm2 pid script: 100%|██████████| 1/1 [00:01<00:00,  1.43s/it]\n"
     ]
    },
    {
     "name": "stdout",
     "output_type": "stream",
     "text": [
      "N(R-R12) is running\n",
      "Monitoring: N(R-R13)\n"
     ]
    },
    {
     "name": "stderr",
     "output_type": "stream",
     "text": [
      "Running: <function HUD._is_registered.<locals>.__get_is_registered at 0x1241ba280>: 100%|██████████| 1/1 [00:04<00:00,  4.37s/it]\n"
     ]
    },
    {
     "name": "stdout",
     "output_type": "stream",
     "text": [
      "N(R-R13) is registered\n"
     ]
    },
    {
     "name": "stderr",
     "output_type": "stream",
     "text": [
      "Running: pm2 pid script: 100%|██████████| 1/1 [00:01<00:00,  1.39s/it]\n"
     ]
    },
    {
     "name": "stdout",
     "output_type": "stream",
     "text": [
      "N(R-R13) is running\n",
      "Monitoring: N(R-R14)\n"
     ]
    },
    {
     "name": "stderr",
     "output_type": "stream",
     "text": [
      "Running: <function HUD._is_registered.<locals>.__get_is_registered at 0x11e5eb670>: 100%|██████████| 1/1 [00:04<00:00,  4.14s/it]\n"
     ]
    },
    {
     "name": "stdout",
     "output_type": "stream",
     "text": [
      "N(R-R14) is registered\n"
     ]
    },
    {
     "name": "stderr",
     "output_type": "stream",
     "text": [
      "Running: pm2 pid script: 100%|██████████| 1/1 [00:01<00:00,  1.39s/it]\n"
     ]
    },
    {
     "name": "stdout",
     "output_type": "stream",
     "text": [
      "N(R-R14) is running\n",
      "Monitoring: N(R-R15)\n"
     ]
    },
    {
     "name": "stderr",
     "output_type": "stream",
     "text": [
      "Running: <function HUD._is_registered.<locals>.__get_is_registered at 0x123a99ca0>: 100%|██████████| 1/1 [00:04<00:00,  4.36s/it]\n"
     ]
    },
    {
     "name": "stdout",
     "output_type": "stream",
     "text": [
      "N(R-R15) is registered\n"
     ]
    },
    {
     "name": "stderr",
     "output_type": "stream",
     "text": [
      "Running: pm2 pid script: 100%|██████████| 1/1 [00:01<00:00,  1.90s/it]\n"
     ]
    },
    {
     "name": "stdout",
     "output_type": "stream",
     "text": [
      "N(R-R15) is running\n",
      "Monitoring: N(R-R16)\n"
     ]
    },
    {
     "name": "stderr",
     "output_type": "stream",
     "text": [
      "Running: <function HUD._is_registered.<locals>.__get_is_registered at 0x123a99ca0>: 100%|██████████| 1/1 [00:04<00:00,  4.37s/it]\n"
     ]
    },
    {
     "name": "stdout",
     "output_type": "stream",
     "text": [
      "N(R-R16) is registered\n"
     ]
    },
    {
     "name": "stderr",
     "output_type": "stream",
     "text": [
      "Running: pm2 pid script: 100%|██████████| 1/1 [00:01<00:00,  1.40s/it]\n"
     ]
    },
    {
     "name": "stdout",
     "output_type": "stream",
     "text": [
      "N(R-R16) is running\n",
      "Monitoring: N(R-R17)\n"
     ]
    },
    {
     "name": "stderr",
     "output_type": "stream",
     "text": [
      "Running: <function HUD._is_registered.<locals>.__get_is_registered at 0x123352af0>: 2it [00:33, 16.68s/it]                       \n"
     ]
    },
    {
     "name": "stdout",
     "output_type": "stream",
     "text": [
      "N(R-R17) is registered\n"
     ]
    },
    {
     "name": "stderr",
     "output_type": "stream",
     "text": [
      "Running: pm2 pid script: 100%|██████████| 1/1 [00:01<00:00,  1.43s/it]\n"
     ]
    },
    {
     "name": "stdout",
     "output_type": "stream",
     "text": [
      "N(R-R17) is running\n",
      "Monitoring: N(R-R18)\n"
     ]
    },
    {
     "name": "stderr",
     "output_type": "stream",
     "text": [
      "Running: <function HUD._is_registered.<locals>.__get_is_registered at 0x123a99160>: 2it [00:33, 16.66s/it]                       \n"
     ]
    },
    {
     "name": "stdout",
     "output_type": "stream",
     "text": [
      "N(R-R18) is registered\n"
     ]
    },
    {
     "name": "stderr",
     "output_type": "stream",
     "text": [
      "Running: pm2 pid script: 100%|██████████| 1/1 [00:01<00:00,  1.58s/it]\n"
     ]
    },
    {
     "name": "stdout",
     "output_type": "stream",
     "text": [
      "N(R-R18) is running\n",
      "Monitoring: N(R-R19)\n"
     ]
    },
    {
     "name": "stderr",
     "output_type": "stream",
     "text": [
      "Running: <function HUD._is_registered.<locals>.__get_is_registered at 0x1238ef550>: 100%|██████████| 1/1 [00:04<00:00,  4.91s/it]\n"
     ]
    },
    {
     "name": "stdout",
     "output_type": "stream",
     "text": [
      "N(R-R19) is registered\n"
     ]
    },
    {
     "name": "stderr",
     "output_type": "stream",
     "text": [
      "Running: pm2 pid script: 100%|██████████| 1/1 [00:01<00:00,  1.44s/it]\n"
     ]
    },
    {
     "name": "stdout",
     "output_type": "stream",
     "text": [
      "N(R-R19) is running\n",
      "Monitoring: N(R-R20)\n"
     ]
    },
    {
     "name": "stderr",
     "output_type": "stream",
     "text": [
      "Running: <function HUD._is_registered.<locals>.__get_is_registered at 0x12391f5e0>: 100%|██████████| 1/1 [00:04<00:00,  4.49s/it]\n"
     ]
    },
    {
     "name": "stdout",
     "output_type": "stream",
     "text": [
      "N(R-R20) is registered\n"
     ]
    },
    {
     "name": "stderr",
     "output_type": "stream",
     "text": [
      "Running: pm2 pid script: 100%|██████████| 1/1 [00:01<00:00,  1.42s/it]\n"
     ]
    },
    {
     "name": "stdout",
     "output_type": "stream",
     "text": [
      "N(R-R20) is running\n",
      "Monitoring: N(R-R21)\n"
     ]
    },
    {
     "name": "stderr",
     "output_type": "stream",
     "text": [
      "Running: <function HUD._is_registered.<locals>.__get_is_registered at 0x1223459d0>: 100%|██████████| 1/1 [00:05<00:00,  5.10s/it]\n"
     ]
    },
    {
     "name": "stdout",
     "output_type": "stream",
     "text": [
      "N(R-R21) is registered\n"
     ]
    },
    {
     "name": "stderr",
     "output_type": "stream",
     "text": [
      "Running: pm2 pid script: 100%|██████████| 1/1 [00:01<00:00,  1.39s/it]\n"
     ]
    },
    {
     "name": "stdout",
     "output_type": "stream",
     "text": [
      "N(R-R21) is running\n",
      "Monitoring: N(R-R22)\n"
     ]
    },
    {
     "name": "stderr",
     "output_type": "stream",
     "text": [
      "Running: <function HUD._is_registered.<locals>.__get_is_registered at 0x121271b80>: 100%|██████████| 1/1 [00:04<00:00,  4.57s/it]\n"
     ]
    },
    {
     "name": "stdout",
     "output_type": "stream",
     "text": [
      "N(R-R22) is registered\n"
     ]
    },
    {
     "name": "stderr",
     "output_type": "stream",
     "text": [
      "Running: pm2 pid script: 100%|██████████| 1/1 [00:01<00:00,  1.48s/it]\n"
     ]
    },
    {
     "name": "stdout",
     "output_type": "stream",
     "text": [
      "N(R-R22) is running\n",
      "Monitoring: N(R-R23)\n"
     ]
    },
    {
     "name": "stderr",
     "output_type": "stream",
     "text": [
      "Running: <function HUD._is_registered.<locals>.__get_is_registered at 0x11ee87820>: 100%|██████████| 1/1 [00:04<00:00,  4.28s/it]\n"
     ]
    },
    {
     "name": "stdout",
     "output_type": "stream",
     "text": [
      "N(R-R23) is registered\n"
     ]
    },
    {
     "name": "stderr",
     "output_type": "stream",
     "text": [
      "Running: pm2 pid script: 100%|██████████| 1/1 [00:01<00:00,  1.40s/it]\n"
     ]
    },
    {
     "name": "stdout",
     "output_type": "stream",
     "text": [
      "N(R-R23) is running\n",
      "Monitoring: N(R-R24)\n"
     ]
    },
    {
     "name": "stderr",
     "output_type": "stream",
     "text": [
      "Running: <function HUD._is_registered.<locals>.__get_is_registered at 0x123b218b0>: 100%|██████████| 1/1 [00:04<00:00,  4.54s/it]\n"
     ]
    },
    {
     "name": "stdout",
     "output_type": "stream",
     "text": [
      "N(R-R24) is registered\n"
     ]
    },
    {
     "name": "stderr",
     "output_type": "stream",
     "text": [
      "Running: pm2 pid script: 100%|██████████| 1/1 [00:01<00:00,  1.81s/it]\n"
     ]
    },
    {
     "name": "stdout",
     "output_type": "stream",
     "text": [
      "N(R-R24) is running\n",
      "Monitoring: N(R-R25)\n"
     ]
    },
    {
     "name": "stderr",
     "output_type": "stream",
     "text": [
      "Running: <function HUD._is_registered.<locals>.__get_is_registered at 0x11f8b4b80>: 100%|██████████| 1/1 [00:04<00:00,  4.58s/it]\n"
     ]
    },
    {
     "name": "stdout",
     "output_type": "stream",
     "text": [
      "N(R-R25) is registered\n"
     ]
    },
    {
     "name": "stderr",
     "output_type": "stream",
     "text": [
      "Running: pm2 pid script: 100%|██████████| 1/1 [00:01<00:00,  1.85s/it]\n"
     ]
    },
    {
     "name": "stdout",
     "output_type": "stream",
     "text": [
      "N(R-R25) is running\n",
      "Monitoring: N(R-R26)\n"
     ]
    },
    {
     "name": "stderr",
     "output_type": "stream",
     "text": [
      "Running: <function HUD._is_registered.<locals>.__get_is_registered at 0x1241ba1f0>: 100%|██████████| 1/1 [00:04<00:00,  4.02s/it]\n"
     ]
    },
    {
     "name": "stdout",
     "output_type": "stream",
     "text": [
      "N(R-R26) is registered\n"
     ]
    },
    {
     "name": "stderr",
     "output_type": "stream",
     "text": [
      "Running: pm2 pid script: 100%|██████████| 1/1 [00:01<00:00,  1.40s/it]\n"
     ]
    },
    {
     "name": "stdout",
     "output_type": "stream",
     "text": [
      "N(R-R26) is running\n",
      "Monitoring: N(R-R27)\n"
     ]
    },
    {
     "name": "stderr",
     "output_type": "stream",
     "text": [
      "Running: <function HUD._is_registered.<locals>.__get_is_registered at 0x123b21a60>: 100%|██████████| 1/1 [00:04<00:00,  4.22s/it]\n"
     ]
    },
    {
     "name": "stdout",
     "output_type": "stream",
     "text": [
      "N(R-R27) is registered\n"
     ]
    },
    {
     "name": "stderr",
     "output_type": "stream",
     "text": [
      "Running: pm2 pid script: 100%|██████████| 1/1 [00:01<00:00,  1.49s/it]\n"
     ]
    },
    {
     "name": "stdout",
     "output_type": "stream",
     "text": [
      "N(R-R27) is running\n",
      "Monitoring: N(R-R28)\n"
     ]
    },
    {
     "name": "stderr",
     "output_type": "stream",
     "text": [
      "Running: <function HUD._is_registered.<locals>.__get_is_registered at 0x11f8b4b80>: 100%|██████████| 1/1 [00:05<00:00,  5.33s/it]\n"
     ]
    },
    {
     "name": "stdout",
     "output_type": "stream",
     "text": [
      "N(R-R28) is registered\n"
     ]
    },
    {
     "name": "stderr",
     "output_type": "stream",
     "text": [
      "Running: pm2 pid script: 100%|██████████| 1/1 [00:01<00:00,  1.67s/it]\n"
     ]
    },
    {
     "name": "stdout",
     "output_type": "stream",
     "text": [
      "N(R-R28) is running\n",
      "Monitoring: N(R-R29)\n"
     ]
    },
    {
     "name": "stderr",
     "output_type": "stream",
     "text": [
      "Running: <function HUD._is_registered.<locals>.__get_is_registered at 0x123a1d5e0>: 100%|██████████| 1/1 [00:04<00:00,  4.16s/it]\n"
     ]
    },
    {
     "name": "stdout",
     "output_type": "stream",
     "text": [
      "N(R-R29) is registered\n"
     ]
    },
    {
     "name": "stderr",
     "output_type": "stream",
     "text": [
      "Running: pm2 pid script: 100%|██████████| 1/1 [00:01<00:00,  1.40s/it]\n"
     ]
    },
    {
     "name": "stdout",
     "output_type": "stream",
     "text": [
      "N(R-R29) is running\n",
      "Monitoring: N(R-R30)\n"
     ]
    },
    {
     "name": "stderr",
     "output_type": "stream",
     "text": [
      "Running: <function HUD._is_registered.<locals>.__get_is_registered at 0x1238ef9d0>: 100%|██████████| 1/1 [00:05<00:00,  5.32s/it]\n"
     ]
    },
    {
     "name": "stdout",
     "output_type": "stream",
     "text": [
      "N(R-R30) is registered\n"
     ]
    },
    {
     "name": "stderr",
     "output_type": "stream",
     "text": [
      "Running: pm2 pid script: 100%|██████████| 1/1 [00:01<00:00,  1.36s/it]\n"
     ]
    },
    {
     "name": "stdout",
     "output_type": "stream",
     "text": [
      "N(R-R30) is running\n",
      "Monitoring: N(R-R31)\n"
     ]
    },
    {
     "name": "stderr",
     "output_type": "stream",
     "text": [
      "Running: <function HUD._is_registered.<locals>.__get_is_registered at 0x123a1d5e0>: 100%|██████████| 1/1 [00:04<00:00,  4.48s/it]\n"
     ]
    },
    {
     "name": "stdout",
     "output_type": "stream",
     "text": [
      "N(R-R31) is registered\n"
     ]
    },
    {
     "name": "stderr",
     "output_type": "stream",
     "text": [
      "Running: pm2 pid script: 100%|██████████| 1/1 [00:01<00:00,  1.45s/it]\n"
     ]
    },
    {
     "name": "stdout",
     "output_type": "stream",
     "text": [
      "N(R-R31) is running\n",
      "Monitoring: N(R-R32)\n"
     ]
    },
    {
     "name": "stderr",
     "output_type": "stream",
     "text": [
      "Running: <function HUD._is_registered.<locals>.__get_is_registered at 0x1233484c0>: 100%|██████████| 1/1 [00:05<00:00,  5.03s/it]\n"
     ]
    },
    {
     "name": "stdout",
     "output_type": "stream",
     "text": [
      "N(R-R32) is registered\n"
     ]
    },
    {
     "name": "stderr",
     "output_type": "stream",
     "text": [
      "Running: pm2 pid script: 100%|██████████| 1/1 [00:01<00:00,  1.56s/it]\n"
     ]
    },
    {
     "name": "stdout",
     "output_type": "stream",
     "text": [
      "N(R-R32) is running\n",
      "Monitoring: N(R-R33)\n"
     ]
    },
    {
     "name": "stderr",
     "output_type": "stream",
     "text": [
      "Running: <function HUD._is_registered.<locals>.__get_is_registered at 0x1227e3af0>: 100%|██████████| 1/1 [00:03<00:00,  3.88s/it]\n"
     ]
    },
    {
     "name": "stdout",
     "output_type": "stream",
     "text": [
      "N(R-R33) is registered\n"
     ]
    },
    {
     "name": "stderr",
     "output_type": "stream",
     "text": [
      "Running: pm2 pid script: 100%|██████████| 1/1 [00:01<00:00,  1.40s/it]\n"
     ]
    },
    {
     "name": "stdout",
     "output_type": "stream",
     "text": [
      "N(R-R33) is running\n",
      "Monitoring: N(R-R34)\n"
     ]
    },
    {
     "name": "stderr",
     "output_type": "stream",
     "text": [
      "Running: <function HUD._is_registered.<locals>.__get_is_registered at 0x121169c10>: 100%|██████████| 1/1 [00:03<00:00,  3.99s/it]\n"
     ]
    },
    {
     "name": "stdout",
     "output_type": "stream",
     "text": [
      "N(R-R34) is registered\n"
     ]
    },
    {
     "name": "stderr",
     "output_type": "stream",
     "text": [
      "Running: pm2 pid script: 100%|██████████| 1/1 [00:01<00:00,  1.64s/it]\n"
     ]
    },
    {
     "name": "stdout",
     "output_type": "stream",
     "text": [
      "N(R-R34) is running\n",
      "Monitoring: N(R-R35)\n"
     ]
    },
    {
     "name": "stderr",
     "output_type": "stream",
     "text": [
      "Running: <function HUD._is_registered.<locals>.__get_is_registered at 0x11e5eb9d0>: 100%|██████████| 1/1 [00:04<00:00,  4.73s/it]\n"
     ]
    },
    {
     "name": "stdout",
     "output_type": "stream",
     "text": [
      "N(R-R35) is registered\n"
     ]
    },
    {
     "name": "stderr",
     "output_type": "stream",
     "text": [
      "Running: pm2 pid script: 100%|██████████| 1/1 [00:01<00:00,  1.60s/it]\n"
     ]
    },
    {
     "name": "stdout",
     "output_type": "stream",
     "text": [
      "N(R-R35) is running\n",
      "Monitoring: N(R-R36)\n"
     ]
    },
    {
     "name": "stderr",
     "output_type": "stream",
     "text": [
      "Running: <function HUD._is_registered.<locals>.__get_is_registered at 0x11f8b4a60>: 100%|██████████| 1/1 [00:04<00:00,  4.74s/it]\n"
     ]
    },
    {
     "name": "stdout",
     "output_type": "stream",
     "text": [
      "N(R-R36) is not registered\n"
     ]
    },
    {
     "name": "stderr",
     "output_type": "stream",
     "text": [
      "Running: pkill -f pow.py & rm  pow_*: 100%|██████████| 300/300 [00:06<00:00, 46.19it/s] \n"
     ]
    },
    {
     "name": "stdout",
     "output_type": "stream",
     "text": [
      "Killing pow: [N(R-R0), N(R-R1), N(R-R2), N(R-R3), N(R-R4), N(R-R5), N(R-R6), N(R-R7), N(R-R8), N(R-R9), N(R-R10), N(R-R11), N(R-R12), N(R-R13), N(R-R14), N(R-R15), N(R-R16), N(R-R17), N(R-R18), N(R-R19), N(R-R20), N(R-R21), N(R-R22), N(R-R23), N(R-R24), N(R-R25), N(R-R26), N(R-R27), N(R-R28), N(R-R29), N(R-R30), N(R-R31), N(R-R32), N(R-R33), N(R-R34), N(R-R35), N(R-R36), N(R-R37), N(R-R38), N(R-R39), N(R-R40), N(R-R41), N(R-R42), N(R-R43), N(R-R44), N(R-R45), N(R-R46), N(R-R47), N(R-R48), N(R-R49), N(R-R50), N(R-R51), N(R-R52), N(R-R53), N(R-R54), N(R-R55), N(R-R56), N(R-R57), N(R-R58), N(R-R59), N(R-R60), N(R-R61), N(R-R62), N(R-R63), N(R-R64), N(R-R65), N(R-R66), N(R-R67), N(R-R68), N(R-R69), N(R-R70), N(R-R71), N(R-R72), N(R-R73), N(R-R74), N(R-R75), N(R-R76), N(R-R77), N(R-R78), N(R-R79), N(R-R80), N(R-R81), N(R-R82), N(R-R83), N(R-R84), N(R-R85), N(R-R86), N(R-R87), N(R-R88), N(R-R89), N(R-R90), N(R-R91), N(R-R92), N(R-R93), N(R-R94), N(R-R95), N(R-R96), N(R-R97), N(R-R98), N(R-R99), N(R-R100), N(R-R101), N(R-R102), N(R-R103), N(R-R104), N(R-R105), N(R-R106), N(R-R107), N(R-R108), N(R-R109), N(R-R110), N(R-R111), N(R-R112), N(R-R113), N(R-R114), N(R-R115), N(R-R116), N(R-R117), N(R-R118), N(R-R119), N(R-R120), N(R-R121), N(R-R122), N(R-R123), N(R-R124), N(R-R125), N(R-R126), N(R-R127), N(R-R128), N(R-R129), N(R-R130), N(R-R131), N(R-R132), N(R-R133), N(R-R134), N(R-R135), N(R-R136), N(R-R137), N(R-R138), N(R-R139), N(R-R140), N(R-R141), N(R-R142), N(R-R143), N(R-R144), N(R-R145), N(R-R146), N(R-R147), N(R-R148), N(R-R149), N(R-R150), N(R-R151), N(R-R152), N(R-R153), N(R-R154), N(R-R155), N(R-R156), N(R-R157), N(R-R158), N(R-R159), N(R-R160), N(R-R161), N(R-R162), N(R-R163), N(R-R164), N(R-R165), N(R-R166), N(R-R167), N(R-R168), N(R-R169), N(R-R170), N(R-R171), N(R-R172), N(R-R173), N(R-R174), N(R-R175), N(R-R176), N(R-R177), N(R-R178), N(R-R179), N(R-R180), N(R-R181), N(R-R182), N(R-R183), N(R-R184), N(R-R185), N(R-R186), N(R-R187), N(R-R188), N(R-R189), N(R-R190), N(R-R191), N(R-R192), N(R-R193), N(R-R194), N(R-R195), N(R-R196), N(R-R197), N(R-R198), N(R-R199), N(R-R200), N(R-R201), N(R-R202), N(R-R203), N(R-R204), N(R-R205), N(R-R206), N(R-R207), N(R-R208), N(R-R209), N(R-R210), N(R-R211), N(R-R212), N(R-R213), N(R-R214), N(R-R215), N(R-R216), N(R-R217), N(R-R218), N(R-R219), N(R-R220), N(R-R221), N(R-R222), N(R-R223), N(R-R224), N(R-R225), N(R-R226), N(R-R227), N(R-R228), N(R-R229), N(R-R230), N(R-R231), N(R-R232), N(R-R233), N(R-R234), N(R-R235), N(R-R236), N(R-R237), N(R-R238), N(R-R239), N(R-R240), N(R-R241), N(R-R242), N(R-R243), N(R-R244), N(R-R245), N(R-R246), N(R-R247), N(R-R248), N(R-R249), N(R-R250), N(R-R251), N(R-R252), N(R-R253), N(R-R254), N(R-R255), N(R-R256), N(R-R257), N(R-R258), N(R-R259), N(R-R260), N(R-R261), N(R-R262), N(R-R263), N(R-R264), N(R-R265), N(R-R266), N(R-R267), N(R-R268), N(R-R269), N(R-R270), N(R-R271), N(R-R272), N(R-R273), N(R-R274), N(R-R275), N(R-R276), N(R-R277), N(R-R278), N(R-R279), N(R-R280), N(R-R281), N(R-R282), N(R-R283), N(R-R284), N(R-R285), N(R-R286), N(R-R287), N(R-R288), N(R-R289), N(R-R290), N(R-R291), N(R-R292), N(R-R293), N(R-R294), N(R-R295), N(R-R296), N(R-R297), N(R-R298), N(R-R299)]\n",
      "INFO Starting PoW | targets:[N(R-R36)] workers: [N(R-R0), N(R-R1), N(R-R2), N(R-R3), N(R-R4), N(R-R5), N(R-R6), N(R-R7), N(R-R8), N(R-R9), N(R-R10), N(R-R11), N(R-R12), N(R-R13), N(R-R14), N(R-R15), N(R-R16), N(R-R17), N(R-R18), N(R-R19), N(R-R20), N(R-R21), N(R-R22), N(R-R23), N(R-R24), N(R-R25), N(R-R26), N(R-R27), N(R-R28), N(R-R29), N(R-R30), N(R-R31), N(R-R32), N(R-R33), N(R-R34), N(R-R35), N(R-R36), N(R-R37), N(R-R38), N(R-R39), N(R-R40), N(R-R41), N(R-R42), N(R-R43), N(R-R44), N(R-R45), N(R-R46), N(R-R47), N(R-R48), N(R-R49), N(R-R50), N(R-R51), N(R-R52), N(R-R53), N(R-R54), N(R-R55), N(R-R56), N(R-R57), N(R-R58), N(R-R59), N(R-R60), N(R-R61), N(R-R62), N(R-R63), N(R-R64), N(R-R65), N(R-R66), N(R-R67), N(R-R68), N(R-R69), N(R-R70), N(R-R71), N(R-R72), N(R-R73), N(R-R74), N(R-R75), N(R-R76), N(R-R77), N(R-R78), N(R-R79), N(R-R80), N(R-R81), N(R-R82), N(R-R83), N(R-R84), N(R-R85), N(R-R86), N(R-R87), N(R-R88), N(R-R89), N(R-R90), N(R-R91), N(R-R92), N(R-R93), N(R-R94), N(R-R95), N(R-R96), N(R-R97), N(R-R98), N(R-R99), N(R-R100), N(R-R101), N(R-R102), N(R-R103), N(R-R104), N(R-R105), N(R-R106), N(R-R107), N(R-R108), N(R-R109), N(R-R110), N(R-R111), N(R-R112), N(R-R113), N(R-R114), N(R-R115), N(R-R116), N(R-R117), N(R-R118), N(R-R119), N(R-R120), N(R-R121), N(R-R122), N(R-R123), N(R-R124), N(R-R125), N(R-R126), N(R-R127), N(R-R128), N(R-R129), N(R-R130), N(R-R131), N(R-R132), N(R-R133), N(R-R134), N(R-R135), N(R-R136), N(R-R137), N(R-R138), N(R-R139), N(R-R140), N(R-R141), N(R-R142), N(R-R143), N(R-R144), N(R-R145), N(R-R146), N(R-R147), N(R-R148), N(R-R149), N(R-R150), N(R-R151), N(R-R152), N(R-R153), N(R-R154), N(R-R155), N(R-R156), N(R-R157), N(R-R158), N(R-R159), N(R-R160), N(R-R161), N(R-R162), N(R-R163), N(R-R164), N(R-R165), N(R-R166), N(R-R167), N(R-R168), N(R-R169), N(R-R170), N(R-R171), N(R-R172), N(R-R173), N(R-R174), N(R-R175), N(R-R176), N(R-R177), N(R-R178), N(R-R179), N(R-R180), N(R-R181), N(R-R182), N(R-R183), N(R-R184), N(R-R185), N(R-R186), N(R-R187), N(R-R188), N(R-R189), N(R-R190), N(R-R191), N(R-R192), N(R-R193), N(R-R194), N(R-R195), N(R-R196), N(R-R197), N(R-R198), N(R-R199), N(R-R200), N(R-R201), N(R-R202), N(R-R203), N(R-R204), N(R-R205), N(R-R206), N(R-R207), N(R-R208), N(R-R209), N(R-R210), N(R-R211), N(R-R212), N(R-R213), N(R-R214), N(R-R215), N(R-R216), N(R-R217), N(R-R218), N(R-R219), N(R-R220), N(R-R221), N(R-R222), N(R-R223), N(R-R224), N(R-R225), N(R-R226), N(R-R227), N(R-R228), N(R-R229), N(R-R230), N(R-R231), N(R-R232), N(R-R233), N(R-R234), N(R-R235), N(R-R236), N(R-R237), N(R-R238), N(R-R239), N(R-R240), N(R-R241), N(R-R242), N(R-R243), N(R-R244), N(R-R245), N(R-R246), N(R-R247), N(R-R248), N(R-R249), N(R-R250), N(R-R251), N(R-R252), N(R-R253), N(R-R254), N(R-R255), N(R-R256), N(R-R257), N(R-R258), N(R-R259), N(R-R260), N(R-R261), N(R-R262), N(R-R263), N(R-R264), N(R-R265), N(R-R266), N(R-R267), N(R-R268), N(R-R269), N(R-R270), N(R-R271), N(R-R272), N(R-R273), N(R-R274), N(R-R275), N(R-R276), N(R-R277), N(R-R278), N(R-R279), N(R-R280), N(R-R281), N(R-R282), N(R-R283), N(R-R284), N(R-R285), N(R-R286), N(R-R287), N(R-R288), N(R-R289), N(R-R290), N(R-R291), N(R-R292), N(R-R293), N(R-R294), N(R-R295), N(R-R296), N(R-R297), N(R-R298), N(R-R299)]\n"
     ]
    },
    {
     "name": "stderr",
     "output_type": "stream",
     "text": [
      "Running: <function HUD._is_registered.<locals>.__get_is_registered at 0x11f776dc0>: 100%|██████████| 1/1 [00:03<00:00,  3.31s/it]\n",
      "Running: pkill -f **hR36** & rm **hR36**: 100%|██████████| 300/300 [00:02<00:00, 114.04it/s]\n",
      "Running: mkdir -p ~/.bittensor/wallets/R/hotkeys: 100%|██████████| 300/300 [00:02<00:00, 131.64it/s]\n",
      "Running: echo '{\"accountId\": \"0x1ca21e097e4ac08ecbdd1aabbd15424d50d8f20fa4b1c861a195b11d6204bf6c\", \"publicKey\": \"0x1ca21e097e4ac08ecbdd1aabbd15424d50d8f20fa4b1c861a195b11d6204bf6c\", \"secretPhrase\": \"cart then stumble witness pumpkin setup sauce merry rescue merge zero train\", \"secretSeed\": \"0x0a99cb8b65c2bb8d2525914246945a21523f8fd1ac51c0612c889d449523ea80\", \"ss58Address\": \"5CiFMefFp7jqGAgyLFkLAy3JmkYEngZojdWWJfUAFe1Jx2f6\"}' > ~/.bittensor/wallets/R/hotkeys/R36: 100%|██████████| 300/300 [00:02<00:00, 134.58it/s]\n",
      "Running: echo '{\"accountId\": \"0xa40472d672511733d6acc49d0ee68da88006c8fbbc3786b9b2b13fcf21c6143f\", \"publicKey\": \"0xa40472d672511733d6acc49d0ee68da88006c8fbbc3786b9b2b13fcf21c6143f\", \"secretPhrase\": null, \"secretSeed\": null, \"ss58Address\": \"5Fmm2o5x6zW3USdNUxJRqBHMipZW6ryv18Wp21RNFVcmxmAP\"}' > ~/.bittensor/wallets/R/coldkeypub.txt: 100%|██████████| 300/300 [00:01<00:00, 167.48it/s]\n",
      "Running: nohup python3 HUD/pow.py --subtensor.network nakamoto --wallet.name R --wallet.hotkey R36 > pow_0_cR_hR36.out &: 600it [00:02, 299.09it/s]                         \n"
     ]
    },
    {
     "name": "stdout",
     "output_type": "stream",
     "text": [
      "Starting pow: [N(R-R0), N(R-R1), N(R-R2), N(R-R3), N(R-R4), N(R-R5), N(R-R6), N(R-R7), N(R-R8), N(R-R9), N(R-R10), N(R-R11), N(R-R12), N(R-R13), N(R-R14), N(R-R15), N(R-R16), N(R-R17), N(R-R18), N(R-R19), N(R-R20), N(R-R21), N(R-R22), N(R-R23), N(R-R24), N(R-R25), N(R-R26), N(R-R27), N(R-R28), N(R-R29), N(R-R30), N(R-R31), N(R-R32), N(R-R33), N(R-R34), N(R-R35), N(R-R36), N(R-R37), N(R-R38), N(R-R39), N(R-R40), N(R-R41), N(R-R42), N(R-R43), N(R-R44), N(R-R45), N(R-R46), N(R-R47), N(R-R48), N(R-R49), N(R-R50), N(R-R51), N(R-R52), N(R-R53), N(R-R54), N(R-R55), N(R-R56), N(R-R57), N(R-R58), N(R-R59), N(R-R60), N(R-R61), N(R-R62), N(R-R63), N(R-R64), N(R-R65), N(R-R66), N(R-R67), N(R-R68), N(R-R69), N(R-R70), N(R-R71), N(R-R72), N(R-R73), N(R-R74), N(R-R75), N(R-R76), N(R-R77), N(R-R78), N(R-R79), N(R-R80), N(R-R81), N(R-R82), N(R-R83), N(R-R84), N(R-R85), N(R-R86), N(R-R87), N(R-R88), N(R-R89), N(R-R90), N(R-R91), N(R-R92), N(R-R93), N(R-R94), N(R-R95), N(R-R96), N(R-R97), N(R-R98), N(R-R99), N(R-R100), N(R-R101), N(R-R102), N(R-R103), N(R-R104), N(R-R105), N(R-R106), N(R-R107), N(R-R108), N(R-R109), N(R-R110), N(R-R111), N(R-R112), N(R-R113), N(R-R114), N(R-R115), N(R-R116), N(R-R117), N(R-R118), N(R-R119), N(R-R120), N(R-R121), N(R-R122), N(R-R123), N(R-R124), N(R-R125), N(R-R126), N(R-R127), N(R-R128), N(R-R129), N(R-R130), N(R-R131), N(R-R132), N(R-R133), N(R-R134), N(R-R135), N(R-R136), N(R-R137), N(R-R138), N(R-R139), N(R-R140), N(R-R141), N(R-R142), N(R-R143), N(R-R144), N(R-R145), N(R-R146), N(R-R147), N(R-R148), N(R-R149), N(R-R150), N(R-R151), N(R-R152), N(R-R153), N(R-R154), N(R-R155), N(R-R156), N(R-R157), N(R-R158), N(R-R159), N(R-R160), N(R-R161), N(R-R162), N(R-R163), N(R-R164), N(R-R165), N(R-R166), N(R-R167), N(R-R168), N(R-R169), N(R-R170), N(R-R171), N(R-R172), N(R-R173), N(R-R174), N(R-R175), N(R-R176), N(R-R177), N(R-R178), N(R-R179), N(R-R180), N(R-R181), N(R-R182), N(R-R183), N(R-R184), N(R-R185), N(R-R186), N(R-R187), N(R-R188), N(R-R189), N(R-R190), N(R-R191), N(R-R192), N(R-R193), N(R-R194), N(R-R195), N(R-R196), N(R-R197), N(R-R198), N(R-R199), N(R-R200), N(R-R201), N(R-R202), N(R-R203), N(R-R204), N(R-R205), N(R-R206), N(R-R207), N(R-R208), N(R-R209), N(R-R210), N(R-R211), N(R-R212), N(R-R213), N(R-R214), N(R-R215), N(R-R216), N(R-R217), N(R-R218), N(R-R219), N(R-R220), N(R-R221), N(R-R222), N(R-R223), N(R-R224), N(R-R225), N(R-R226), N(R-R227), N(R-R228), N(R-R229), N(R-R230), N(R-R231), N(R-R232), N(R-R233), N(R-R234), N(R-R235), N(R-R236), N(R-R237), N(R-R238), N(R-R239), N(R-R240), N(R-R241), N(R-R242), N(R-R243), N(R-R244), N(R-R245), N(R-R246), N(R-R247), N(R-R248), N(R-R249), N(R-R250), N(R-R251), N(R-R252), N(R-R253), N(R-R254), N(R-R255), N(R-R256), N(R-R257), N(R-R258), N(R-R259), N(R-R260), N(R-R261), N(R-R262), N(R-R263), N(R-R264), N(R-R265), N(R-R266), N(R-R267), N(R-R268), N(R-R269), N(R-R270), N(R-R271), N(R-R272), N(R-R273), N(R-R274), N(R-R275), N(R-R276), N(R-R277), N(R-R278), N(R-R279), N(R-R280), N(R-R281), N(R-R282), N(R-R283), N(R-R284), N(R-R285), N(R-R286), N(R-R287), N(R-R288), N(R-R289), N(R-R290), N(R-R291), N(R-R292), N(R-R293), N(R-R294), N(R-R295), N(R-R296), N(R-R297), N(R-R298), N(R-R299)]\n"
     ]
    },
    {
     "name": "stderr",
     "output_type": "stream",
     "text": [
      "Running: <function HUD._is_registered.<locals>.__get_is_registered at 0x15d90e3a0>: 100%|██████████| 1/1 [00:02<00:00,  2.44s/it]\n"
     ]
    },
    {
     "name": "stdout",
     "output_type": "stream",
     "text": [
      "Waiting ... \n"
     ]
    },
    {
     "name": "stderr",
     "output_type": "stream",
     "text": [
      "Running: <function HUD._is_registered.<locals>.__get_is_registered at 0x11e5e1040>: 100%|██████████| 1/1 [00:02<00:00,  2.74s/it]\n"
     ]
    },
    {
     "name": "stdout",
     "output_type": "stream",
     "text": [
      "Waiting ... \n"
     ]
    },
    {
     "name": "stderr",
     "output_type": "stream",
     "text": [
      "Running: <function HUD._is_registered.<locals>.__get_is_registered at 0x11e5e1040>: 100%|██████████| 1/1 [00:02<00:00,  2.67s/it]\n"
     ]
    },
    {
     "name": "stdout",
     "output_type": "stream",
     "text": [
      "Waiting ... \n"
     ]
    },
    {
     "name": "stderr",
     "output_type": "stream",
     "text": [
      "Running: <function HUD._is_registered.<locals>.__get_is_registered at 0x15d90e940>: 100%|██████████| 1/1 [00:03<00:00,  3.76s/it]\n"
     ]
    },
    {
     "name": "stdout",
     "output_type": "stream",
     "text": [
      "Waiting ... \n"
     ]
    },
    {
     "name": "stderr",
     "output_type": "stream",
     "text": [
      "Running: <function HUD._is_registered.<locals>.__get_is_registered at 0x123348e50>: 100%|██████████| 1/1 [00:03<00:00,  3.27s/it]\n"
     ]
    },
    {
     "name": "stdout",
     "output_type": "stream",
     "text": [
      "Waiting ... \n"
     ]
    },
    {
     "name": "stderr",
     "output_type": "stream",
     "text": [
      "Running: <function HUD._is_registered.<locals>.__get_is_registered at 0x15d90e940>: 100%|██████████| 1/1 [00:02<00:00,  2.62s/it]\n"
     ]
    },
    {
     "name": "stdout",
     "output_type": "stream",
     "text": [
      "Waiting ... \n"
     ]
    },
    {
     "name": "stderr",
     "output_type": "stream",
     "text": [
      "Running: <function HUD._is_registered.<locals>.__get_is_registered at 0x121e8bc10>: 100%|██████████| 1/1 [00:03<00:00,  3.18s/it]\n"
     ]
    },
    {
     "name": "stdout",
     "output_type": "stream",
     "text": [
      "Waiting ... \n"
     ]
    },
    {
     "name": "stderr",
     "output_type": "stream",
     "text": [
      "Running: <function HUD._is_registered.<locals>.__get_is_registered at 0x121e8bb80>: 100%|██████████| 1/1 [00:02<00:00,  2.51s/it]\n"
     ]
    },
    {
     "name": "stdout",
     "output_type": "stream",
     "text": [
      "Waiting ... \n"
     ]
    },
    {
     "name": "stderr",
     "output_type": "stream",
     "text": [
      "Running: <function HUD._is_registered.<locals>.__get_is_registered at 0x1218c1550>: 100%|██████████| 1/1 [00:02<00:00,  2.95s/it]\n"
     ]
    },
    {
     "name": "stdout",
     "output_type": "stream",
     "text": [
      "Waiting ... \n"
     ]
    },
    {
     "name": "stderr",
     "output_type": "stream",
     "text": [
      "Running: <function HUD._is_registered.<locals>.__get_is_registered at 0x122cfe790>: 100%|██████████| 1/1 [00:03<00:00,  3.27s/it]\n"
     ]
    },
    {
     "name": "stdout",
     "output_type": "stream",
     "text": [
      "Waiting ... \n"
     ]
    },
    {
     "name": "stderr",
     "output_type": "stream",
     "text": [
      "Running: <function HUD._is_registered.<locals>.__get_is_registered at 0x15d90e940>: 2it [00:27, 13.78s/it]                       \n"
     ]
    },
    {
     "name": "stdout",
     "output_type": "stream",
     "text": [
      "N(R-R36) was just registered\n",
      "'NoneType' object has no attribute 'name'\n",
      "Starting\n",
      "Monitoring: N(R-R0)\n"
     ]
    },
    {
     "name": "stderr",
     "output_type": "stream",
     "text": [
      "Running: <function HUD._is_registered.<locals>.__get_is_registered at 0x122cfe790>: 100%|██████████| 1/1 [00:04<00:00,  4.64s/it]\n"
     ]
    },
    {
     "name": "stdout",
     "output_type": "stream",
     "text": [
      "N(R-R0) is registered\n"
     ]
    },
    {
     "name": "stderr",
     "output_type": "stream",
     "text": [
      "Running: pm2 pid script: 100%|██████████| 1/1 [00:02<00:00,  2.05s/it]\n"
     ]
    },
    {
     "name": "stdout",
     "output_type": "stream",
     "text": [
      "N(R-R0) is running\n",
      "Monitoring: N(R-R1)\n"
     ]
    },
    {
     "name": "stderr",
     "output_type": "stream",
     "text": [
      "Running: <function HUD._is_registered.<locals>.__get_is_registered at 0x15d90eca0>: 100%|██████████| 1/1 [00:04<00:00,  4.90s/it]\n"
     ]
    },
    {
     "name": "stdout",
     "output_type": "stream",
     "text": [
      "N(R-R1) is registered\n"
     ]
    },
    {
     "name": "stderr",
     "output_type": "stream",
     "text": [
      "Running: pm2 pid script: 100%|██████████| 1/1 [00:03<00:00,  3.25s/it]\n"
     ]
    },
    {
     "name": "stdout",
     "output_type": "stream",
     "text": [
      "N(R-R1) is running\n",
      "Monitoring: N(R-R2)\n"
     ]
    },
    {
     "name": "stderr",
     "output_type": "stream",
     "text": [
      "Running: <function HUD._is_registered.<locals>.__get_is_registered at 0x123a454c0>: 100%|██████████| 1/1 [00:04<00:00,  4.70s/it]\n"
     ]
    },
    {
     "name": "stdout",
     "output_type": "stream",
     "text": [
      "N(R-R2) is registered\n"
     ]
    },
    {
     "name": "stderr",
     "output_type": "stream",
     "text": [
      "Running: pm2 pid script: 100%|██████████| 1/1 [00:02<00:00,  2.24s/it]\n"
     ]
    },
    {
     "name": "stdout",
     "output_type": "stream",
     "text": [
      "N(R-R2) is running\n",
      "Monitoring: N(R-R3)\n"
     ]
    },
    {
     "name": "stderr",
     "output_type": "stream",
     "text": [
      "Running: <function HUD._is_registered.<locals>.__get_is_registered at 0x12013c430>: 100%|██████████| 1/1 [00:06<00:00,  6.45s/it]\n"
     ]
    },
    {
     "name": "stdout",
     "output_type": "stream",
     "text": [
      "N(R-R3) is registered\n"
     ]
    },
    {
     "name": "stderr",
     "output_type": "stream",
     "text": [
      "Running: pm2 pid script: 100%|██████████| 1/1 [00:03<00:00,  3.50s/it]\n"
     ]
    },
    {
     "name": "stdout",
     "output_type": "stream",
     "text": [
      "N(R-R3) is running\n",
      "Monitoring: N(R-R4)\n"
     ]
    },
    {
     "name": "stderr",
     "output_type": "stream",
     "text": [
      "Running: <function HUD._is_registered.<locals>.__get_is_registered at 0x1218c1af0>: 100%|██████████| 1/1 [00:04<00:00,  4.31s/it]\n"
     ]
    },
    {
     "name": "stdout",
     "output_type": "stream",
     "text": [
      "N(R-R4) is registered\n"
     ]
    },
    {
     "name": "stderr",
     "output_type": "stream",
     "text": [
      "Running: pm2 pid script: 100%|██████████| 1/1 [00:02<00:00,  2.83s/it]\n"
     ]
    },
    {
     "name": "stdout",
     "output_type": "stream",
     "text": [
      "N(R-R4) is running\n",
      "Monitoring: N(R-R5)\n"
     ]
    },
    {
     "name": "stderr",
     "output_type": "stream",
     "text": [
      "Running: <function HUD._is_registered.<locals>.__get_is_registered at 0x121c9fa60>: 100%|██████████| 1/1 [00:05<00:00,  5.98s/it]\n"
     ]
    },
    {
     "name": "stdout",
     "output_type": "stream",
     "text": [
      "N(R-R5) is registered\n"
     ]
    },
    {
     "name": "stderr",
     "output_type": "stream",
     "text": [
      "Running: pm2 pid script: 100%|██████████| 1/1 [00:03<00:00,  3.42s/it]\n"
     ]
    },
    {
     "name": "stdout",
     "output_type": "stream",
     "text": [
      "N(R-R5) is running\n",
      "Monitoring: N(R-R6)\n"
     ]
    },
    {
     "name": "stderr",
     "output_type": "stream",
     "text": [
      "Running: <function HUD._is_registered.<locals>.__get_is_registered at 0x121c9fa60>: 100%|██████████| 1/1 [00:05<00:00,  5.31s/it]\n"
     ]
    },
    {
     "name": "stdout",
     "output_type": "stream",
     "text": [
      "N(R-R6) is registered\n"
     ]
    },
    {
     "name": "stderr",
     "output_type": "stream",
     "text": [
      "Running: pm2 pid script: 100%|██████████| 1/1 [00:03<00:00,  3.73s/it]\n"
     ]
    },
    {
     "name": "stdout",
     "output_type": "stream",
     "text": [
      "N(R-R6) is running\n",
      "Monitoring: N(R-R7)\n"
     ]
    },
    {
     "name": "stderr",
     "output_type": "stream",
     "text": [
      "Running: <function HUD._is_registered.<locals>.__get_is_registered at 0x123038280>: 100%|██████████| 1/1 [00:03<00:00,  3.66s/it]\n"
     ]
    },
    {
     "name": "stdout",
     "output_type": "stream",
     "text": [
      "N(R-R7) is registered\n"
     ]
    },
    {
     "name": "stderr",
     "output_type": "stream",
     "text": [
      "Running: pm2 pid script: 100%|██████████| 1/1 [00:02<00:00,  2.31s/it]\n"
     ]
    },
    {
     "name": "stdout",
     "output_type": "stream",
     "text": [
      "N(R-R7) is running\n",
      "Monitoring: N(R-R8)\n"
     ]
    },
    {
     "name": "stderr",
     "output_type": "stream",
     "text": [
      "Running: <function HUD._is_registered.<locals>.__get_is_registered at 0x12219ba60>: 100%|██████████| 1/1 [00:04<00:00,  4.66s/it]\n"
     ]
    },
    {
     "name": "stdout",
     "output_type": "stream",
     "text": [
      "N(R-R8) is registered\n"
     ]
    },
    {
     "name": "stderr",
     "output_type": "stream",
     "text": [
      "Running: pm2 pid script: 100%|██████████| 1/1 [00:03<00:00,  3.03s/it]\n"
     ]
    },
    {
     "name": "stdout",
     "output_type": "stream",
     "text": [
      "N(R-R8) is running\n",
      "Monitoring: N(R-R9)\n"
     ]
    },
    {
     "name": "stderr",
     "output_type": "stream",
     "text": [
      "Running: <function HUD._is_registered.<locals>.__get_is_registered at 0x120e635e0>: 100%|██████████| 1/1 [00:04<00:00,  4.52s/it]\n"
     ]
    },
    {
     "name": "stdout",
     "output_type": "stream",
     "text": [
      "N(R-R9) is registered\n"
     ]
    },
    {
     "name": "stderr",
     "output_type": "stream",
     "text": [
      "Running: pm2 pid script: 100%|██████████| 1/1 [00:02<00:00,  2.17s/it]\n"
     ]
    },
    {
     "name": "stdout",
     "output_type": "stream",
     "text": [
      "N(R-R9) is running\n",
      "Monitoring: N(R-R10)\n"
     ]
    },
    {
     "name": "stderr",
     "output_type": "stream",
     "text": [
      "Running: <function HUD._is_registered.<locals>.__get_is_registered at 0x121090550>: 100%|██████████| 1/1 [00:04<00:00,  4.70s/it]\n"
     ]
    },
    {
     "name": "stdout",
     "output_type": "stream",
     "text": [
      "N(R-R10) is registered\n"
     ]
    },
    {
     "name": "stderr",
     "output_type": "stream",
     "text": [
      "Running: pm2 pid script: 100%|██████████| 1/1 [00:02<00:00,  2.70s/it]\n"
     ]
    },
    {
     "name": "stdout",
     "output_type": "stream",
     "text": [
      "N(R-R10) is running\n",
      "Monitoring: N(R-R11)\n"
     ]
    },
    {
     "name": "stderr",
     "output_type": "stream",
     "text": [
      "Running: <function HUD._is_registered.<locals>.__get_is_registered at 0x121e8b280>: 100%|██████████| 1/1 [00:05<00:00,  5.37s/it]\n"
     ]
    },
    {
     "name": "stdout",
     "output_type": "stream",
     "text": [
      "N(R-R11) is registered\n"
     ]
    },
    {
     "name": "stderr",
     "output_type": "stream",
     "text": [
      "Running: pm2 pid script: 100%|██████████| 1/1 [00:01<00:00,  1.90s/it]\n"
     ]
    },
    {
     "name": "stdout",
     "output_type": "stream",
     "text": [
      "N(R-R11) is running\n",
      "Monitoring: N(R-R12)\n"
     ]
    },
    {
     "name": "stderr",
     "output_type": "stream",
     "text": [
      "Running: <function HUD._is_registered.<locals>.__get_is_registered at 0x15d90ee50>: 100%|██████████| 1/1 [00:03<00:00,  3.86s/it]\n"
     ]
    },
    {
     "name": "stdout",
     "output_type": "stream",
     "text": [
      "N(R-R12) is registered\n"
     ]
    },
    {
     "name": "stderr",
     "output_type": "stream",
     "text": [
      "Running: pm2 pid script: 100%|██████████| 1/1 [00:02<00:00,  2.16s/it]\n"
     ]
    },
    {
     "name": "stdout",
     "output_type": "stream",
     "text": [
      "N(R-R12) is running\n",
      "Monitoring: N(R-R13)\n"
     ]
    },
    {
     "name": "stderr",
     "output_type": "stream",
     "text": [
      "Running: <function HUD._is_registered.<locals>.__get_is_registered at 0x123a45430>: 100%|██████████| 1/1 [00:04<00:00,  4.01s/it]\n"
     ]
    },
    {
     "name": "stdout",
     "output_type": "stream",
     "text": [
      "N(R-R13) is registered\n"
     ]
    },
    {
     "name": "stderr",
     "output_type": "stream",
     "text": [
      "Running: pm2 pid script: 100%|██████████| 1/1 [00:02<00:00,  2.25s/it]\n"
     ]
    },
    {
     "name": "stdout",
     "output_type": "stream",
     "text": [
      "N(R-R13) is running\n",
      "Monitoring: N(R-R14)\n"
     ]
    },
    {
     "name": "stderr",
     "output_type": "stream",
     "text": [
      "Running: <function HUD._is_registered.<locals>.__get_is_registered at 0x123a1d670>: 100%|██████████| 1/1 [00:04<00:00,  4.87s/it]\n"
     ]
    },
    {
     "name": "stdout",
     "output_type": "stream",
     "text": [
      "N(R-R14) is registered\n"
     ]
    },
    {
     "name": "stderr",
     "output_type": "stream",
     "text": [
      "Running: pm2 pid script: 100%|██████████| 1/1 [00:01<00:00,  1.90s/it]\n"
     ]
    },
    {
     "name": "stdout",
     "output_type": "stream",
     "text": [
      "N(R-R14) is running\n",
      "Monitoring: N(R-R15)\n"
     ]
    },
    {
     "name": "stderr",
     "output_type": "stream",
     "text": [
      "Running: <function HUD._is_registered.<locals>.__get_is_registered at 0x1218c1b80>: 100%|██████████| 1/1 [00:05<00:00,  5.28s/it]\n"
     ]
    },
    {
     "name": "stdout",
     "output_type": "stream",
     "text": [
      "N(R-R15) is registered\n"
     ]
    },
    {
     "name": "stderr",
     "output_type": "stream",
     "text": [
      "Running: pm2 pid script: 100%|██████████| 1/1 [00:01<00:00,  1.93s/it]\n"
     ]
    },
    {
     "name": "stdout",
     "output_type": "stream",
     "text": [
      "N(R-R15) is running\n",
      "Monitoring: N(R-R16)\n"
     ]
    },
    {
     "name": "stderr",
     "output_type": "stream",
     "text": [
      "Running: <function HUD._is_registered.<locals>.__get_is_registered at 0x123a45f70>: 100%|██████████| 1/1 [00:04<00:00,  4.55s/it]\n"
     ]
    },
    {
     "name": "stdout",
     "output_type": "stream",
     "text": [
      "N(R-R16) is registered\n"
     ]
    },
    {
     "name": "stderr",
     "output_type": "stream",
     "text": [
      "Running: pm2 pid script: 100%|██████████| 1/1 [00:02<00:00,  2.17s/it]\n"
     ]
    },
    {
     "name": "stdout",
     "output_type": "stream",
     "text": [
      "N(R-R16) is running\n",
      "Monitoring: N(R-R17)\n"
     ]
    },
    {
     "name": "stderr",
     "output_type": "stream",
     "text": [
      "Running: <function HUD._is_registered.<locals>.__get_is_registered at 0x121272e50>: 100%|██████████| 1/1 [00:04<00:00,  4.39s/it]\n"
     ]
    },
    {
     "name": "stdout",
     "output_type": "stream",
     "text": [
      "N(R-R17) is registered\n"
     ]
    },
    {
     "name": "stderr",
     "output_type": "stream",
     "text": [
      "Running: pm2 pid script: 100%|██████████| 1/1 [00:02<00:00,  2.19s/it]\n"
     ]
    },
    {
     "name": "stdout",
     "output_type": "stream",
     "text": [
      "N(R-R17) is running\n",
      "Monitoring: N(R-R18)\n"
     ]
    },
    {
     "name": "stderr",
     "output_type": "stream",
     "text": [
      "Running: <function HUD._is_registered.<locals>.__get_is_registered at 0x123867550>: 100%|██████████| 1/1 [00:04<00:00,  4.93s/it]\n"
     ]
    },
    {
     "name": "stdout",
     "output_type": "stream",
     "text": [
      "N(R-R18) is registered\n"
     ]
    },
    {
     "name": "stderr",
     "output_type": "stream",
     "text": [
      "Running: pm2 pid script: 100%|██████████| 1/1 [00:02<00:00,  2.26s/it]\n"
     ]
    },
    {
     "name": "stdout",
     "output_type": "stream",
     "text": [
      "N(R-R18) is running\n",
      "Monitoring: N(R-R19)\n"
     ]
    },
    {
     "name": "stderr",
     "output_type": "stream",
     "text": [
      "Running: <function HUD._is_registered.<locals>.__get_is_registered at 0x122cfe0d0>: 100%|██████████| 1/1 [00:04<00:00,  4.60s/it]\n"
     ]
    },
    {
     "name": "stdout",
     "output_type": "stream",
     "text": [
      "N(R-R19) is registered\n"
     ]
    },
    {
     "name": "stderr",
     "output_type": "stream",
     "text": [
      "Running: pm2 pid script: 100%|██████████| 1/1 [00:02<00:00,  2.09s/it]\n"
     ]
    },
    {
     "name": "stdout",
     "output_type": "stream",
     "text": [
      "N(R-R19) is running\n",
      "Monitoring: N(R-R20)\n"
     ]
    },
    {
     "name": "stderr",
     "output_type": "stream",
     "text": [
      "Running: <function HUD._is_registered.<locals>.__get_is_registered at 0x121e8b5e0>: 100%|██████████| 1/1 [00:03<00:00,  3.92s/it]\n"
     ]
    },
    {
     "name": "stdout",
     "output_type": "stream",
     "text": [
      "N(R-R20) is registered\n"
     ]
    },
    {
     "name": "stderr",
     "output_type": "stream",
     "text": [
      "Running: pm2 pid script: 100%|██████████| 1/1 [00:02<00:00,  2.03s/it]\n"
     ]
    },
    {
     "name": "stdout",
     "output_type": "stream",
     "text": [
      "N(R-R20) is running\n",
      "Monitoring: N(R-R21)\n"
     ]
    },
    {
     "name": "stderr",
     "output_type": "stream",
     "text": [
      "Running: <function HUD._is_registered.<locals>.__get_is_registered at 0x121090670>: 100%|██████████| 1/1 [00:04<00:00,  4.41s/it]\n"
     ]
    },
    {
     "name": "stdout",
     "output_type": "stream",
     "text": [
      "N(R-R21) is registered\n"
     ]
    },
    {
     "name": "stderr",
     "output_type": "stream",
     "text": [
      "Running: pm2 pid script: 100%|██████████| 1/1 [00:02<00:00,  2.06s/it]\n"
     ]
    },
    {
     "name": "stdout",
     "output_type": "stream",
     "text": [
      "N(R-R21) is running\n",
      "Monitoring: N(R-R22)\n"
     ]
    },
    {
     "name": "stderr",
     "output_type": "stream",
     "text": [
      "Running: <function HUD._is_registered.<locals>.__get_is_registered at 0x158e84550>: 100%|██████████| 1/1 [00:04<00:00,  4.79s/it]\n"
     ]
    },
    {
     "name": "stdout",
     "output_type": "stream",
     "text": [
      "N(R-R22) is registered\n"
     ]
    },
    {
     "name": "stderr",
     "output_type": "stream",
     "text": [
      "Running: pm2 pid script: 100%|██████████| 1/1 [00:02<00:00,  2.48s/it]\n"
     ]
    },
    {
     "name": "stdout",
     "output_type": "stream",
     "text": [
      "N(R-R22) is running\n",
      "Monitoring: N(R-R23)\n"
     ]
    },
    {
     "name": "stderr",
     "output_type": "stream",
     "text": [
      "Running: <function HUD._is_registered.<locals>.__get_is_registered at 0x11e7a9790>: 100%|██████████| 1/1 [00:05<00:00,  5.45s/it]\n"
     ]
    },
    {
     "name": "stdout",
     "output_type": "stream",
     "text": [
      "N(R-R23) is registered\n"
     ]
    },
    {
     "name": "stderr",
     "output_type": "stream",
     "text": [
      "Running: pm2 pid script: 100%|██████████| 1/1 [00:01<00:00,  1.73s/it]\n"
     ]
    },
    {
     "name": "stdout",
     "output_type": "stream",
     "text": [
      "N(R-R23) is running\n",
      "Monitoring: N(R-R24)\n"
     ]
    },
    {
     "name": "stderr",
     "output_type": "stream",
     "text": [
      "Running: <function HUD._is_registered.<locals>.__get_is_registered at 0x123a453a0>: 100%|██████████| 1/1 [00:05<00:00,  5.04s/it]\n"
     ]
    },
    {
     "name": "stdout",
     "output_type": "stream",
     "text": [
      "N(R-R24) is registered\n"
     ]
    },
    {
     "name": "stderr",
     "output_type": "stream",
     "text": [
      "Running: pm2 pid script: 100%|██████████| 1/1 [00:02<00:00,  2.56s/it]\n"
     ]
    },
    {
     "name": "stdout",
     "output_type": "stream",
     "text": [
      "N(R-R24) is running\n",
      "Monitoring: N(R-R25)\n"
     ]
    },
    {
     "name": "stderr",
     "output_type": "stream",
     "text": [
      "Running: <function HUD._is_registered.<locals>.__get_is_registered at 0x123a1dd30>: 100%|██████████| 1/1 [00:05<00:00,  5.72s/it]\n"
     ]
    },
    {
     "name": "stdout",
     "output_type": "stream",
     "text": [
      "N(R-R25) is registered\n"
     ]
    },
    {
     "name": "stderr",
     "output_type": "stream",
     "text": [
      "Running: pm2 pid script: 100%|██████████| 1/1 [00:03<00:00,  3.03s/it]\n"
     ]
    },
    {
     "name": "stdout",
     "output_type": "stream",
     "text": [
      "N(R-R25) is running\n",
      "Monitoring: N(R-R26)\n"
     ]
    },
    {
     "name": "stderr",
     "output_type": "stream",
     "text": [
      "Running: <function HUD._is_registered.<locals>.__get_is_registered at 0x11f776940>: 100%|██████████| 1/1 [00:03<00:00,  3.90s/it]\n"
     ]
    },
    {
     "name": "stdout",
     "output_type": "stream",
     "text": [
      "N(R-R26) is registered\n"
     ]
    },
    {
     "name": "stderr",
     "output_type": "stream",
     "text": [
      "Running: pm2 pid script: 100%|██████████| 1/1 [00:01<00:00,  1.99s/it]\n"
     ]
    },
    {
     "name": "stdout",
     "output_type": "stream",
     "text": [
      "N(R-R26) is running\n",
      "Monitoring: N(R-R27)\n"
     ]
    },
    {
     "name": "stderr",
     "output_type": "stream",
     "text": [
      "Running: <function HUD._is_registered.<locals>.__get_is_registered at 0x15db21b80>: 100%|██████████| 1/1 [00:04<00:00,  4.98s/it]\n"
     ]
    },
    {
     "name": "stdout",
     "output_type": "stream",
     "text": [
      "N(R-R27) is registered\n"
     ]
    },
    {
     "name": "stderr",
     "output_type": "stream",
     "text": [
      "Running: pm2 pid script: 100%|██████████| 1/1 [00:03<00:00,  3.17s/it]\n"
     ]
    },
    {
     "name": "stdout",
     "output_type": "stream",
     "text": [
      "N(R-R27) is running\n",
      "Monitoring: N(R-R28)\n"
     ]
    },
    {
     "name": "stderr",
     "output_type": "stream",
     "text": [
      "Running: <function HUD._is_registered.<locals>.__get_is_registered at 0x1218c1b80>: 100%|██████████| 1/1 [00:04<00:00,  4.40s/it]\n"
     ]
    },
    {
     "name": "stdout",
     "output_type": "stream",
     "text": [
      "N(R-R28) is registered\n"
     ]
    },
    {
     "name": "stderr",
     "output_type": "stream",
     "text": [
      "Running: pm2 pid script: 100%|██████████| 1/1 [00:01<00:00,  1.65s/it]\n"
     ]
    },
    {
     "name": "stdout",
     "output_type": "stream",
     "text": [
      "N(R-R28) is running\n",
      "Monitoring: N(R-R29)\n"
     ]
    },
    {
     "name": "stderr",
     "output_type": "stream",
     "text": [
      "Running: <function HUD._is_registered.<locals>.__get_is_registered at 0x123038a60>: 100%|██████████| 1/1 [00:04<00:00,  4.36s/it]\n"
     ]
    },
    {
     "name": "stdout",
     "output_type": "stream",
     "text": [
      "N(R-R29) is registered\n"
     ]
    },
    {
     "name": "stderr",
     "output_type": "stream",
     "text": [
      "Running: pm2 pid script: 100%|██████████| 1/1 [00:02<00:00,  2.61s/it]\n"
     ]
    },
    {
     "name": "stdout",
     "output_type": "stream",
     "text": [
      "N(R-R29) is running\n",
      "Monitoring: N(R-R30)\n"
     ]
    },
    {
     "name": "stderr",
     "output_type": "stream",
     "text": [
      "Running: <function HUD._is_registered.<locals>.__get_is_registered at 0x1227e33a0>: 100%|██████████| 1/1 [00:04<00:00,  4.83s/it]\n"
     ]
    },
    {
     "name": "stdout",
     "output_type": "stream",
     "text": [
      "N(R-R30) is registered\n"
     ]
    },
    {
     "name": "stderr",
     "output_type": "stream",
     "text": [
      "Running: pm2 pid script: 100%|██████████| 1/1 [00:02<00:00,  2.01s/it]\n"
     ]
    },
    {
     "name": "stdout",
     "output_type": "stream",
     "text": [
      "N(R-R30) is running\n",
      "Monitoring: N(R-R31)\n"
     ]
    },
    {
     "name": "stderr",
     "output_type": "stream",
     "text": [
      "Running: <function HUD._is_registered.<locals>.__get_is_registered at 0x120e63a60>: 100%|██████████| 1/1 [00:04<00:00,  4.88s/it]\n"
     ]
    },
    {
     "name": "stdout",
     "output_type": "stream",
     "text": [
      "N(R-R31) is registered\n"
     ]
    },
    {
     "name": "stderr",
     "output_type": "stream",
     "text": [
      "Running: pm2 pid script: 100%|██████████| 1/1 [00:01<00:00,  1.91s/it]\n"
     ]
    },
    {
     "name": "stdout",
     "output_type": "stream",
     "text": [
      "N(R-R31) is running\n",
      "Monitoring: N(R-R32)\n"
     ]
    },
    {
     "name": "stderr",
     "output_type": "stream",
     "text": [
      "Running: <function HUD._is_registered.<locals>.__get_is_registered at 0x158e84670>: 100%|██████████| 1/1 [00:05<00:00,  5.59s/it]\n"
     ]
    },
    {
     "name": "stdout",
     "output_type": "stream",
     "text": [
      "N(R-R32) is registered\n"
     ]
    },
    {
     "name": "stderr",
     "output_type": "stream",
     "text": [
      "Running: pm2 pid script: 100%|██████████| 1/1 [00:02<00:00,  2.42s/it]\n"
     ]
    },
    {
     "name": "stdout",
     "output_type": "stream",
     "text": [
      "N(R-R32) is running\n",
      "Monitoring: N(R-R33)\n"
     ]
    },
    {
     "name": "stderr",
     "output_type": "stream",
     "text": [
      "Running: <function HUD._is_registered.<locals>.__get_is_registered at 0x11e7a99d0>: 100%|██████████| 1/1 [00:05<00:00,  5.85s/it]\n"
     ]
    },
    {
     "name": "stdout",
     "output_type": "stream",
     "text": [
      "N(R-R33) is registered\n"
     ]
    },
    {
     "name": "stderr",
     "output_type": "stream",
     "text": [
      "Running: pm2 pid script: 100%|██████████| 1/1 [00:01<00:00,  1.82s/it]\n"
     ]
    },
    {
     "name": "stdout",
     "output_type": "stream",
     "text": [
      "N(R-R33) is running\n",
      "Monitoring: N(R-R34)\n"
     ]
    },
    {
     "name": "stderr",
     "output_type": "stream",
     "text": [
      "Running: <function HUD._is_registered.<locals>.__get_is_registered at 0x158e84670>: 100%|██████████| 1/1 [00:04<00:00,  4.99s/it]\n"
     ]
    },
    {
     "name": "stdout",
     "output_type": "stream",
     "text": [
      "N(R-R34) is registered\n"
     ]
    },
    {
     "name": "stderr",
     "output_type": "stream",
     "text": [
      "Running: pm2 pid script: 100%|██████████| 1/1 [00:02<00:00,  2.57s/it]\n"
     ]
    },
    {
     "name": "stdout",
     "output_type": "stream",
     "text": [
      "N(R-R34) is running\n",
      "Monitoring: N(R-R35)\n"
     ]
    },
    {
     "name": "stderr",
     "output_type": "stream",
     "text": [
      "Running: <function HUD._is_registered.<locals>.__get_is_registered at 0x11efe7ca0>: 100%|██████████| 1/1 [00:05<00:00,  5.71s/it]\n"
     ]
    },
    {
     "name": "stdout",
     "output_type": "stream",
     "text": [
      "N(R-R35) is registered\n"
     ]
    },
    {
     "name": "stderr",
     "output_type": "stream",
     "text": [
      "Running: pm2 pid script: 100%|██████████| 1/1 [00:02<00:00,  2.32s/it]\n"
     ]
    },
    {
     "name": "stdout",
     "output_type": "stream",
     "text": [
      "N(R-R35) is running\n",
      "Monitoring: N(R-R36)\n"
     ]
    },
    {
     "name": "stderr",
     "output_type": "stream",
     "text": [
      "Running: <function HUD._is_registered.<locals>.__get_is_registered at 0x1232185e0>: 100%|██████████| 1/1 [00:05<00:00,  5.79s/it]\n"
     ]
    },
    {
     "name": "stdout",
     "output_type": "stream",
     "text": [
      "N(R-R36) is not registered\n"
     ]
    },
    {
     "name": "stderr",
     "output_type": "stream",
     "text": [
      "Running: pkill -f pow.py & rm  pow_*: 100%|██████████| 300/300 [00:12<00:00, 24.17it/s]\n"
     ]
    },
    {
     "name": "stdout",
     "output_type": "stream",
     "text": [
      "Killing pow: [N(R-R0), N(R-R1), N(R-R2), N(R-R3), N(R-R4), N(R-R5), N(R-R6), N(R-R7), N(R-R8), N(R-R9), N(R-R10), N(R-R11), N(R-R12), N(R-R13), N(R-R14), N(R-R15), N(R-R16), N(R-R17), N(R-R18), N(R-R19), N(R-R20), N(R-R21), N(R-R22), N(R-R23), N(R-R24), N(R-R25), N(R-R26), N(R-R27), N(R-R28), N(R-R29), N(R-R30), N(R-R31), N(R-R32), N(R-R33), N(R-R34), N(R-R35), N(R-R36), N(R-R37), N(R-R38), N(R-R39), N(R-R40), N(R-R41), N(R-R42), N(R-R43), N(R-R44), N(R-R45), N(R-R46), N(R-R47), N(R-R48), N(R-R49), N(R-R50), N(R-R51), N(R-R52), N(R-R53), N(R-R54), N(R-R55), N(R-R56), N(R-R57), N(R-R58), N(R-R59), N(R-R60), N(R-R61), N(R-R62), N(R-R63), N(R-R64), N(R-R65), N(R-R66), N(R-R67), N(R-R68), N(R-R69), N(R-R70), N(R-R71), N(R-R72), N(R-R73), N(R-R74), N(R-R75), N(R-R76), N(R-R77), N(R-R78), N(R-R79), N(R-R80), N(R-R81), N(R-R82), N(R-R83), N(R-R84), N(R-R85), N(R-R86), N(R-R87), N(R-R88), N(R-R89), N(R-R90), N(R-R91), N(R-R92), N(R-R93), N(R-R94), N(R-R95), N(R-R96), N(R-R97), N(R-R98), N(R-R99), N(R-R100), N(R-R101), N(R-R102), N(R-R103), N(R-R104), N(R-R105), N(R-R106), N(R-R107), N(R-R108), N(R-R109), N(R-R110), N(R-R111), N(R-R112), N(R-R113), N(R-R114), N(R-R115), N(R-R116), N(R-R117), N(R-R118), N(R-R119), N(R-R120), N(R-R121), N(R-R122), N(R-R123), N(R-R124), N(R-R125), N(R-R126), N(R-R127), N(R-R128), N(R-R129), N(R-R130), N(R-R131), N(R-R132), N(R-R133), N(R-R134), N(R-R135), N(R-R136), N(R-R137), N(R-R138), N(R-R139), N(R-R140), N(R-R141), N(R-R142), N(R-R143), N(R-R144), N(R-R145), N(R-R146), N(R-R147), N(R-R148), N(R-R149), N(R-R150), N(R-R151), N(R-R152), N(R-R153), N(R-R154), N(R-R155), N(R-R156), N(R-R157), N(R-R158), N(R-R159), N(R-R160), N(R-R161), N(R-R162), N(R-R163), N(R-R164), N(R-R165), N(R-R166), N(R-R167), N(R-R168), N(R-R169), N(R-R170), N(R-R171), N(R-R172), N(R-R173), N(R-R174), N(R-R175), N(R-R176), N(R-R177), N(R-R178), N(R-R179), N(R-R180), N(R-R181), N(R-R182), N(R-R183), N(R-R184), N(R-R185), N(R-R186), N(R-R187), N(R-R188), N(R-R189), N(R-R190), N(R-R191), N(R-R192), N(R-R193), N(R-R194), N(R-R195), N(R-R196), N(R-R197), N(R-R198), N(R-R199), N(R-R200), N(R-R201), N(R-R202), N(R-R203), N(R-R204), N(R-R205), N(R-R206), N(R-R207), N(R-R208), N(R-R209), N(R-R210), N(R-R211), N(R-R212), N(R-R213), N(R-R214), N(R-R215), N(R-R216), N(R-R217), N(R-R218), N(R-R219), N(R-R220), N(R-R221), N(R-R222), N(R-R223), N(R-R224), N(R-R225), N(R-R226), N(R-R227), N(R-R228), N(R-R229), N(R-R230), N(R-R231), N(R-R232), N(R-R233), N(R-R234), N(R-R235), N(R-R236), N(R-R237), N(R-R238), N(R-R239), N(R-R240), N(R-R241), N(R-R242), N(R-R243), N(R-R244), N(R-R245), N(R-R246), N(R-R247), N(R-R248), N(R-R249), N(R-R250), N(R-R251), N(R-R252), N(R-R253), N(R-R254), N(R-R255), N(R-R256), N(R-R257), N(R-R258), N(R-R259), N(R-R260), N(R-R261), N(R-R262), N(R-R263), N(R-R264), N(R-R265), N(R-R266), N(R-R267), N(R-R268), N(R-R269), N(R-R270), N(R-R271), N(R-R272), N(R-R273), N(R-R274), N(R-R275), N(R-R276), N(R-R277), N(R-R278), N(R-R279), N(R-R280), N(R-R281), N(R-R282), N(R-R283), N(R-R284), N(R-R285), N(R-R286), N(R-R287), N(R-R288), N(R-R289), N(R-R290), N(R-R291), N(R-R292), N(R-R293), N(R-R294), N(R-R295), N(R-R296), N(R-R297), N(R-R298), N(R-R299)]\n",
      "INFO Starting PoW | targets:[N(R-R36)] workers: [N(R-R0), N(R-R1), N(R-R2), N(R-R3), N(R-R4), N(R-R5), N(R-R6), N(R-R7), N(R-R8), N(R-R9), N(R-R10), N(R-R11), N(R-R12), N(R-R13), N(R-R14), N(R-R15), N(R-R16), N(R-R17), N(R-R18), N(R-R19), N(R-R20), N(R-R21), N(R-R22), N(R-R23), N(R-R24), N(R-R25), N(R-R26), N(R-R27), N(R-R28), N(R-R29), N(R-R30), N(R-R31), N(R-R32), N(R-R33), N(R-R34), N(R-R35), N(R-R36), N(R-R37), N(R-R38), N(R-R39), N(R-R40), N(R-R41), N(R-R42), N(R-R43), N(R-R44), N(R-R45), N(R-R46), N(R-R47), N(R-R48), N(R-R49), N(R-R50), N(R-R51), N(R-R52), N(R-R53), N(R-R54), N(R-R55), N(R-R56), N(R-R57), N(R-R58), N(R-R59), N(R-R60), N(R-R61), N(R-R62), N(R-R63), N(R-R64), N(R-R65), N(R-R66), N(R-R67), N(R-R68), N(R-R69), N(R-R70), N(R-R71), N(R-R72), N(R-R73), N(R-R74), N(R-R75), N(R-R76), N(R-R77), N(R-R78), N(R-R79), N(R-R80), N(R-R81), N(R-R82), N(R-R83), N(R-R84), N(R-R85), N(R-R86), N(R-R87), N(R-R88), N(R-R89), N(R-R90), N(R-R91), N(R-R92), N(R-R93), N(R-R94), N(R-R95), N(R-R96), N(R-R97), N(R-R98), N(R-R99), N(R-R100), N(R-R101), N(R-R102), N(R-R103), N(R-R104), N(R-R105), N(R-R106), N(R-R107), N(R-R108), N(R-R109), N(R-R110), N(R-R111), N(R-R112), N(R-R113), N(R-R114), N(R-R115), N(R-R116), N(R-R117), N(R-R118), N(R-R119), N(R-R120), N(R-R121), N(R-R122), N(R-R123), N(R-R124), N(R-R125), N(R-R126), N(R-R127), N(R-R128), N(R-R129), N(R-R130), N(R-R131), N(R-R132), N(R-R133), N(R-R134), N(R-R135), N(R-R136), N(R-R137), N(R-R138), N(R-R139), N(R-R140), N(R-R141), N(R-R142), N(R-R143), N(R-R144), N(R-R145), N(R-R146), N(R-R147), N(R-R148), N(R-R149), N(R-R150), N(R-R151), N(R-R152), N(R-R153), N(R-R154), N(R-R155), N(R-R156), N(R-R157), N(R-R158), N(R-R159), N(R-R160), N(R-R161), N(R-R162), N(R-R163), N(R-R164), N(R-R165), N(R-R166), N(R-R167), N(R-R168), N(R-R169), N(R-R170), N(R-R171), N(R-R172), N(R-R173), N(R-R174), N(R-R175), N(R-R176), N(R-R177), N(R-R178), N(R-R179), N(R-R180), N(R-R181), N(R-R182), N(R-R183), N(R-R184), N(R-R185), N(R-R186), N(R-R187), N(R-R188), N(R-R189), N(R-R190), N(R-R191), N(R-R192), N(R-R193), N(R-R194), N(R-R195), N(R-R196), N(R-R197), N(R-R198), N(R-R199), N(R-R200), N(R-R201), N(R-R202), N(R-R203), N(R-R204), N(R-R205), N(R-R206), N(R-R207), N(R-R208), N(R-R209), N(R-R210), N(R-R211), N(R-R212), N(R-R213), N(R-R214), N(R-R215), N(R-R216), N(R-R217), N(R-R218), N(R-R219), N(R-R220), N(R-R221), N(R-R222), N(R-R223), N(R-R224), N(R-R225), N(R-R226), N(R-R227), N(R-R228), N(R-R229), N(R-R230), N(R-R231), N(R-R232), N(R-R233), N(R-R234), N(R-R235), N(R-R236), N(R-R237), N(R-R238), N(R-R239), N(R-R240), N(R-R241), N(R-R242), N(R-R243), N(R-R244), N(R-R245), N(R-R246), N(R-R247), N(R-R248), N(R-R249), N(R-R250), N(R-R251), N(R-R252), N(R-R253), N(R-R254), N(R-R255), N(R-R256), N(R-R257), N(R-R258), N(R-R259), N(R-R260), N(R-R261), N(R-R262), N(R-R263), N(R-R264), N(R-R265), N(R-R266), N(R-R267), N(R-R268), N(R-R269), N(R-R270), N(R-R271), N(R-R272), N(R-R273), N(R-R274), N(R-R275), N(R-R276), N(R-R277), N(R-R278), N(R-R279), N(R-R280), N(R-R281), N(R-R282), N(R-R283), N(R-R284), N(R-R285), N(R-R286), N(R-R287), N(R-R288), N(R-R289), N(R-R290), N(R-R291), N(R-R292), N(R-R293), N(R-R294), N(R-R295), N(R-R296), N(R-R297), N(R-R298), N(R-R299)]\n"
     ]
    },
    {
     "name": "stderr",
     "output_type": "stream",
     "text": [
      "Running: <function HUD._is_registered.<locals>.__get_is_registered at 0x15cdc5670>: 100%|██████████| 1/1 [00:02<00:00,  2.32s/it]\n",
      "Running: pkill -f **hR36** & rm **hR36**: 100%|██████████| 300/300 [00:01<00:00, 173.75it/s]\n",
      "Running: mkdir -p ~/.bittensor/wallets/R/hotkeys: 100%|██████████| 300/300 [00:03<00:00, 76.50it/s] \n",
      "Running: echo '{\"accountId\": \"0x1ca21e097e4ac08ecbdd1aabbd15424d50d8f20fa4b1c861a195b11d6204bf6c\", \"publicKey\": \"0x1ca21e097e4ac08ecbdd1aabbd15424d50d8f20fa4b1c861a195b11d6204bf6c\", \"secretPhrase\": \"cart then stumble witness pumpkin setup sauce merry rescue merge zero train\", \"secretSeed\": \"0x0a99cb8b65c2bb8d2525914246945a21523f8fd1ac51c0612c889d449523ea80\", \"ss58Address\": \"5CiFMefFp7jqGAgyLFkLAy3JmkYEngZojdWWJfUAFe1Jx2f6\"}' > ~/.bittensor/wallets/R/hotkeys/R36: 100%|██████████| 300/300 [00:02<00:00, 130.46it/s]\n",
      "Running: echo '{\"accountId\": \"0xa40472d672511733d6acc49d0ee68da88006c8fbbc3786b9b2b13fcf21c6143f\", \"publicKey\": \"0xa40472d672511733d6acc49d0ee68da88006c8fbbc3786b9b2b13fcf21c6143f\", \"secretPhrase\": null, \"secretSeed\": null, \"ss58Address\": \"5Fmm2o5x6zW3USdNUxJRqBHMipZW6ryv18Wp21RNFVcmxmAP\"}' > ~/.bittensor/wallets/R/coldkeypub.txt: 100%|██████████| 300/300 [00:01<00:00, 205.80it/s]\n",
      "Running: nohup python3 HUD/pow.py --subtensor.network nakamoto --wallet.name R --wallet.hotkey R36 > pow_0_cR_hR36.out &: 600it [00:04, 122.86it/s]                         \n"
     ]
    },
    {
     "name": "stdout",
     "output_type": "stream",
     "text": [
      "Starting pow: [N(R-R0), N(R-R1), N(R-R2), N(R-R3), N(R-R4), N(R-R5), N(R-R6), N(R-R7), N(R-R8), N(R-R9), N(R-R10), N(R-R11), N(R-R12), N(R-R13), N(R-R14), N(R-R15), N(R-R16), N(R-R17), N(R-R18), N(R-R19), N(R-R20), N(R-R21), N(R-R22), N(R-R23), N(R-R24), N(R-R25), N(R-R26), N(R-R27), N(R-R28), N(R-R29), N(R-R30), N(R-R31), N(R-R32), N(R-R33), N(R-R34), N(R-R35), N(R-R36), N(R-R37), N(R-R38), N(R-R39), N(R-R40), N(R-R41), N(R-R42), N(R-R43), N(R-R44), N(R-R45), N(R-R46), N(R-R47), N(R-R48), N(R-R49), N(R-R50), N(R-R51), N(R-R52), N(R-R53), N(R-R54), N(R-R55), N(R-R56), N(R-R57), N(R-R58), N(R-R59), N(R-R60), N(R-R61), N(R-R62), N(R-R63), N(R-R64), N(R-R65), N(R-R66), N(R-R67), N(R-R68), N(R-R69), N(R-R70), N(R-R71), N(R-R72), N(R-R73), N(R-R74), N(R-R75), N(R-R76), N(R-R77), N(R-R78), N(R-R79), N(R-R80), N(R-R81), N(R-R82), N(R-R83), N(R-R84), N(R-R85), N(R-R86), N(R-R87), N(R-R88), N(R-R89), N(R-R90), N(R-R91), N(R-R92), N(R-R93), N(R-R94), N(R-R95), N(R-R96), N(R-R97), N(R-R98), N(R-R99), N(R-R100), N(R-R101), N(R-R102), N(R-R103), N(R-R104), N(R-R105), N(R-R106), N(R-R107), N(R-R108), N(R-R109), N(R-R110), N(R-R111), N(R-R112), N(R-R113), N(R-R114), N(R-R115), N(R-R116), N(R-R117), N(R-R118), N(R-R119), N(R-R120), N(R-R121), N(R-R122), N(R-R123), N(R-R124), N(R-R125), N(R-R126), N(R-R127), N(R-R128), N(R-R129), N(R-R130), N(R-R131), N(R-R132), N(R-R133), N(R-R134), N(R-R135), N(R-R136), N(R-R137), N(R-R138), N(R-R139), N(R-R140), N(R-R141), N(R-R142), N(R-R143), N(R-R144), N(R-R145), N(R-R146), N(R-R147), N(R-R148), N(R-R149), N(R-R150), N(R-R151), N(R-R152), N(R-R153), N(R-R154), N(R-R155), N(R-R156), N(R-R157), N(R-R158), N(R-R159), N(R-R160), N(R-R161), N(R-R162), N(R-R163), N(R-R164), N(R-R165), N(R-R166), N(R-R167), N(R-R168), N(R-R169), N(R-R170), N(R-R171), N(R-R172), N(R-R173), N(R-R174), N(R-R175), N(R-R176), N(R-R177), N(R-R178), N(R-R179), N(R-R180), N(R-R181), N(R-R182), N(R-R183), N(R-R184), N(R-R185), N(R-R186), N(R-R187), N(R-R188), N(R-R189), N(R-R190), N(R-R191), N(R-R192), N(R-R193), N(R-R194), N(R-R195), N(R-R196), N(R-R197), N(R-R198), N(R-R199), N(R-R200), N(R-R201), N(R-R202), N(R-R203), N(R-R204), N(R-R205), N(R-R206), N(R-R207), N(R-R208), N(R-R209), N(R-R210), N(R-R211), N(R-R212), N(R-R213), N(R-R214), N(R-R215), N(R-R216), N(R-R217), N(R-R218), N(R-R219), N(R-R220), N(R-R221), N(R-R222), N(R-R223), N(R-R224), N(R-R225), N(R-R226), N(R-R227), N(R-R228), N(R-R229), N(R-R230), N(R-R231), N(R-R232), N(R-R233), N(R-R234), N(R-R235), N(R-R236), N(R-R237), N(R-R238), N(R-R239), N(R-R240), N(R-R241), N(R-R242), N(R-R243), N(R-R244), N(R-R245), N(R-R246), N(R-R247), N(R-R248), N(R-R249), N(R-R250), N(R-R251), N(R-R252), N(R-R253), N(R-R254), N(R-R255), N(R-R256), N(R-R257), N(R-R258), N(R-R259), N(R-R260), N(R-R261), N(R-R262), N(R-R263), N(R-R264), N(R-R265), N(R-R266), N(R-R267), N(R-R268), N(R-R269), N(R-R270), N(R-R271), N(R-R272), N(R-R273), N(R-R274), N(R-R275), N(R-R276), N(R-R277), N(R-R278), N(R-R279), N(R-R280), N(R-R281), N(R-R282), N(R-R283), N(R-R284), N(R-R285), N(R-R286), N(R-R287), N(R-R288), N(R-R289), N(R-R290), N(R-R291), N(R-R292), N(R-R293), N(R-R294), N(R-R295), N(R-R296), N(R-R297), N(R-R298), N(R-R299)]\n"
     ]
    },
    {
     "name": "stderr",
     "output_type": "stream",
     "text": [
      "Running: <function HUD._is_registered.<locals>.__get_is_registered at 0x158e91280>: 100%|██████████| 1/1 [00:02<00:00,  2.89s/it]\n"
     ]
    },
    {
     "name": "stdout",
     "output_type": "stream",
     "text": [
      "Waiting ... \n"
     ]
    },
    {
     "name": "stderr",
     "output_type": "stream",
     "text": [
      "Running: <function HUD._is_registered.<locals>.__get_is_registered at 0x15d7693a0>: 100%|██████████| 1/1 [00:02<00:00,  2.43s/it]\n"
     ]
    },
    {
     "name": "stdout",
     "output_type": "stream",
     "text": [
      "Waiting ... \n"
     ]
    },
    {
     "name": "stderr",
     "output_type": "stream",
     "text": [
      "Running: <function HUD._is_registered.<locals>.__get_is_registered at 0x15d7693a0>: 100%|██████████| 1/1 [00:02<00:00,  2.93s/it]\n"
     ]
    },
    {
     "name": "stdout",
     "output_type": "stream",
     "text": [
      "Waiting ... \n"
     ]
    },
    {
     "name": "stderr",
     "output_type": "stream",
     "text": [
      "Running: <function HUD._is_registered.<locals>.__get_is_registered at 0x158e91280>: 100%|██████████| 1/1 [00:02<00:00,  2.92s/it]\n"
     ]
    },
    {
     "name": "stdout",
     "output_type": "stream",
     "text": [
      "Waiting ... \n"
     ]
    },
    {
     "name": "stderr",
     "output_type": "stream",
     "text": [
      "Running: <function HUD._is_registered.<locals>.__get_is_registered at 0x121d51af0>: 100%|██████████| 1/1 [00:03<00:00,  3.01s/it]\n"
     ]
    },
    {
     "name": "stdout",
     "output_type": "stream",
     "text": [
      "Waiting ... \n"
     ]
    },
    {
     "name": "stderr",
     "output_type": "stream",
     "text": [
      "Running: <function HUD._is_registered.<locals>.__get_is_registered at 0x15d7693a0>: 100%|██████████| 1/1 [00:02<00:00,  2.43s/it]\n"
     ]
    },
    {
     "name": "stdout",
     "output_type": "stream",
     "text": [
      "Waiting ... \n"
     ]
    },
    {
     "name": "stderr",
     "output_type": "stream",
     "text": [
      "Running: <function HUD._is_registered.<locals>.__get_is_registered at 0x1208d2b80>: 100%|██████████| 1/1 [00:02<00:00,  2.33s/it]\n"
     ]
    },
    {
     "name": "stdout",
     "output_type": "stream",
     "text": [
      "Waiting ... \n"
     ]
    },
    {
     "name": "stderr",
     "output_type": "stream",
     "text": [
      "Running: <function HUD._is_registered.<locals>.__get_is_registered at 0x158e91280>: 100%|██████████| 1/1 [00:02<00:00,  2.72s/it]\n"
     ]
    },
    {
     "name": "stdout",
     "output_type": "stream",
     "text": [
      "Waiting ... \n"
     ]
    },
    {
     "name": "stderr",
     "output_type": "stream",
     "text": [
      "Running: <function HUD._is_registered.<locals>.__get_is_registered at 0x1206b01f0>: 100%|██████████| 1/1 [00:02<00:00,  2.37s/it]\n"
     ]
    },
    {
     "name": "stdout",
     "output_type": "stream",
     "text": [
      "Waiting ... \n"
     ]
    },
    {
     "name": "stderr",
     "output_type": "stream",
     "text": [
      "Running: <function HUD._is_registered.<locals>.__get_is_registered at 0x11f7761f0>: 100%|██████████| 1/1 [00:02<00:00,  2.70s/it]\n"
     ]
    },
    {
     "name": "stdout",
     "output_type": "stream",
     "text": [
      "Waiting ... \n"
     ]
    },
    {
     "name": "stderr",
     "output_type": "stream",
     "text": [
      "Running: <function HUD._is_registered.<locals>.__get_is_registered at 0x1227e3790>: 100%|██████████| 1/1 [00:02<00:00,  2.36s/it]\n"
     ]
    },
    {
     "name": "stdout",
     "output_type": "stream",
     "text": [
      "Waiting ... \n"
     ]
    },
    {
     "name": "stderr",
     "output_type": "stream",
     "text": [
      "Running: <function HUD._is_registered.<locals>.__get_is_registered at 0x11f7761f0>: 100%|██████████| 1/1 [00:03<00:00,  3.84s/it]\n"
     ]
    },
    {
     "name": "stdout",
     "output_type": "stream",
     "text": [
      "Waiting ... \n"
     ]
    },
    {
     "name": "stderr",
     "output_type": "stream",
     "text": [
      "Running: <function HUD._is_registered.<locals>.__get_is_registered at 0x1239259d0>: 100%|██████████| 1/1 [00:02<00:00,  2.32s/it]\n"
     ]
    },
    {
     "name": "stdout",
     "output_type": "stream",
     "text": [
      "Waiting ... \n"
     ]
    },
    {
     "name": "stderr",
     "output_type": "stream",
     "text": [
      "Running: <function HUD._is_registered.<locals>.__get_is_registered at 0x158e91280>: 100%|██████████| 1/1 [00:02<00:00,  2.43s/it]\n"
     ]
    },
    {
     "name": "stdout",
     "output_type": "stream",
     "text": [
      "Waiting ... \n"
     ]
    },
    {
     "name": "stderr",
     "output_type": "stream",
     "text": [
      "Running: <function HUD._is_registered.<locals>.__get_is_registered at 0x1239259d0>: 100%|██████████| 1/1 [00:03<00:00,  3.30s/it]\n"
     ]
    },
    {
     "name": "stdout",
     "output_type": "stream",
     "text": [
      "Waiting ... \n"
     ]
    },
    {
     "name": "stderr",
     "output_type": "stream",
     "text": [
      "Running: <function HUD._is_registered.<locals>.__get_is_registered at 0x158e91280>: 100%|██████████| 1/1 [00:02<00:00,  2.42s/it]\n"
     ]
    },
    {
     "name": "stdout",
     "output_type": "stream",
     "text": [
      "Waiting ... \n"
     ]
    },
    {
     "name": "stderr",
     "output_type": "stream",
     "text": [
      "Running: <function HUD._is_registered.<locals>.__get_is_registered at 0x1214474c0>: 100%|██████████| 1/1 [00:02<00:00,  2.13s/it]\n"
     ]
    },
    {
     "name": "stdout",
     "output_type": "stream",
     "text": [
      "Waiting ... \n"
     ]
    },
    {
     "name": "stderr",
     "output_type": "stream",
     "text": [
      "Running: <function HUD._is_registered.<locals>.__get_is_registered at 0x158e91280>: 100%|██████████| 1/1 [00:05<00:00,  5.67s/it]\n"
     ]
    },
    {
     "name": "stdout",
     "output_type": "stream",
     "text": [
      "Waiting ... \n"
     ]
    },
    {
     "name": "stderr",
     "output_type": "stream",
     "text": [
      "Running: <function HUD._is_registered.<locals>.__get_is_registered at 0x1219dbd30>: 100%|██████████| 1/1 [00:01<00:00,  1.94s/it]\n"
     ]
    },
    {
     "name": "stdout",
     "output_type": "stream",
     "text": [
      "Waiting ... \n"
     ]
    },
    {
     "name": "stderr",
     "output_type": "stream",
     "text": [
      "Running: <function HUD._is_registered.<locals>.__get_is_registered at 0x1206b00d0>: 100%|██████████| 1/1 [00:03<00:00,  3.96s/it]\n"
     ]
    },
    {
     "name": "stdout",
     "output_type": "stream",
     "text": [
      "Waiting ... \n"
     ]
    },
    {
     "name": "stderr",
     "output_type": "stream",
     "text": [
      "Running: <function HUD._is_registered.<locals>.__get_is_registered at 0x121d51af0>: 100%|██████████| 1/1 [00:02<00:00,  2.67s/it]\n"
     ]
    },
    {
     "name": "stdout",
     "output_type": "stream",
     "text": [
      "Waiting ... \n"
     ]
    },
    {
     "name": "stderr",
     "output_type": "stream",
     "text": [
      "Running: <function HUD._is_registered.<locals>.__get_is_registered at 0x121d51af0>: 100%|██████████| 1/1 [00:02<00:00,  2.41s/it]\n"
     ]
    },
    {
     "name": "stdout",
     "output_type": "stream",
     "text": [
      "Waiting ... \n"
     ]
    },
    {
     "name": "stderr",
     "output_type": "stream",
     "text": [
      "Running: <function HUD._is_registered.<locals>.__get_is_registered at 0x1219dbd30>: 100%|██████████| 1/1 [00:02<00:00,  2.29s/it]\n"
     ]
    },
    {
     "name": "stdout",
     "output_type": "stream",
     "text": [
      "Waiting ... \n"
     ]
    },
    {
     "name": "stderr",
     "output_type": "stream",
     "text": [
      "Running: <function HUD._is_registered.<locals>.__get_is_registered at 0x121d51af0>: 100%|██████████| 1/1 [00:02<00:00,  2.49s/it]\n"
     ]
    },
    {
     "name": "stdout",
     "output_type": "stream",
     "text": [
      "Waiting ... \n"
     ]
    },
    {
     "name": "stderr",
     "output_type": "stream",
     "text": [
      "Running: <function HUD._is_registered.<locals>.__get_is_registered at 0x1219dbd30>: 100%|██████████| 1/1 [00:03<00:00,  3.35s/it]\n"
     ]
    },
    {
     "name": "stdout",
     "output_type": "stream",
     "text": [
      "Waiting ... \n"
     ]
    },
    {
     "name": "stderr",
     "output_type": "stream",
     "text": [
      "Running: <function HUD._is_registered.<locals>.__get_is_registered at 0x1219dbd30>: 100%|██████████| 1/1 [00:02<00:00,  2.57s/it]\n"
     ]
    },
    {
     "name": "stdout",
     "output_type": "stream",
     "text": [
      "Waiting ... \n"
     ]
    },
    {
     "name": "stderr",
     "output_type": "stream",
     "text": [
      "Running: <function HUD._is_registered.<locals>.__get_is_registered at 0x123352790>: 100%|██████████| 1/1 [00:02<00:00,  2.87s/it]\n"
     ]
    },
    {
     "name": "stdout",
     "output_type": "stream",
     "text": [
      "Waiting ... \n"
     ]
    },
    {
     "name": "stderr",
     "output_type": "stream",
     "text": [
      "Running: <function HUD._is_registered.<locals>.__get_is_registered at 0x1219dbd30>: 100%|██████████| 1/1 [00:02<00:00,  2.43s/it]\n"
     ]
    },
    {
     "name": "stdout",
     "output_type": "stream",
     "text": [
      "Waiting ... \n"
     ]
    },
    {
     "name": "stderr",
     "output_type": "stream",
     "text": [
      "Running: <function HUD._is_registered.<locals>.__get_is_registered at 0x123352790>: 100%|██████████| 1/1 [00:04<00:00,  4.03s/it]\n"
     ]
    },
    {
     "name": "stdout",
     "output_type": "stream",
     "text": [
      "Waiting ... \n"
     ]
    },
    {
     "name": "stderr",
     "output_type": "stream",
     "text": [
      "Running: <function HUD._is_registered.<locals>.__get_is_registered at 0x158e91280>: 100%|██████████| 1/1 [00:02<00:00,  2.80s/it]\n"
     ]
    },
    {
     "name": "stdout",
     "output_type": "stream",
     "text": [
      "Waiting ... \n"
     ]
    },
    {
     "name": "stderr",
     "output_type": "stream",
     "text": [
      "Running: <function HUD._is_registered.<locals>.__get_is_registered at 0x158e91280>: 100%|██████████| 1/1 [00:02<00:00,  2.39s/it]\n"
     ]
    },
    {
     "name": "stdout",
     "output_type": "stream",
     "text": [
      "Waiting ... \n"
     ]
    },
    {
     "name": "stderr",
     "output_type": "stream",
     "text": [
      "Running: <function HUD._is_registered.<locals>.__get_is_registered at 0x1219db3a0>: 100%|██████████| 1/1 [00:02<00:00,  2.25s/it]\n"
     ]
    },
    {
     "name": "stdout",
     "output_type": "stream",
     "text": [
      "Waiting ... \n"
     ]
    },
    {
     "name": "stderr",
     "output_type": "stream",
     "text": [
      "Running: <function HUD._is_registered.<locals>.__get_is_registered at 0x1219db3a0>: 100%|██████████| 1/1 [00:02<00:00,  2.35s/it]\n"
     ]
    },
    {
     "name": "stdout",
     "output_type": "stream",
     "text": [
      "Waiting ... \n"
     ]
    },
    {
     "name": "stderr",
     "output_type": "stream",
     "text": [
      "Running: <function HUD._is_registered.<locals>.__get_is_registered at 0x138f84a60>: 100%|██████████| 1/1 [00:02<00:00,  2.56s/it]\n"
     ]
    },
    {
     "name": "stdout",
     "output_type": "stream",
     "text": [
      "Waiting ... \n"
     ]
    },
    {
     "name": "stderr",
     "output_type": "stream",
     "text": [
      "Running: <function HUD._is_registered.<locals>.__get_is_registered at 0x158e9f820>: 100%|██████████| 1/1 [00:02<00:00,  2.83s/it]\n"
     ]
    },
    {
     "name": "stdout",
     "output_type": "stream",
     "text": [
      "Waiting ... \n"
     ]
    },
    {
     "name": "stderr",
     "output_type": "stream",
     "text": [
      "Running: <function HUD._is_registered.<locals>.__get_is_registered at 0x1219db3a0>: 100%|██████████| 1/1 [00:02<00:00,  2.42s/it]\n"
     ]
    },
    {
     "name": "stdout",
     "output_type": "stream",
     "text": [
      "Waiting ... \n"
     ]
    },
    {
     "name": "stderr",
     "output_type": "stream",
     "text": [
      "Running: <function HUD._is_registered.<locals>.__get_is_registered at 0x123218940>: 100%|██████████| 1/1 [00:02<00:00,  2.17s/it]\n"
     ]
    },
    {
     "name": "stdout",
     "output_type": "stream",
     "text": [
      "N(R-R36) was just registered\n",
      "'NoneType' object has no attribute 'name'\n",
      "Starting\n",
      "Monitoring: N(R-R0)\n"
     ]
    },
    {
     "name": "stderr",
     "output_type": "stream",
     "text": [
      "Running: <function HUD._is_registered.<locals>.__get_is_registered at 0x158ec0c10>: 100%|██████████| 1/1 [00:03<00:00,  3.98s/it]\n"
     ]
    },
    {
     "name": "stdout",
     "output_type": "stream",
     "text": [
      "N(R-R0) is registered\n"
     ]
    },
    {
     "name": "stderr",
     "output_type": "stream",
     "text": [
      "Running: pm2 pid script: 100%|██████████| 1/1 [00:01<00:00,  1.52s/it]\n"
     ]
    },
    {
     "name": "stdout",
     "output_type": "stream",
     "text": [
      "N(R-R0) is running\n",
      "Monitoring: N(R-R1)\n"
     ]
    },
    {
     "name": "stderr",
     "output_type": "stream",
     "text": [
      "Running: <function HUD._is_registered.<locals>.__get_is_registered at 0x1392f9e50>: 100%|██████████| 1/1 [00:04<00:00,  4.10s/it]\n"
     ]
    },
    {
     "name": "stdout",
     "output_type": "stream",
     "text": [
      "N(R-R1) is registered\n"
     ]
    },
    {
     "name": "stderr",
     "output_type": "stream",
     "text": [
      "Running: pm2 pid script: 100%|██████████| 1/1 [00:01<00:00,  1.69s/it]\n"
     ]
    },
    {
     "name": "stdout",
     "output_type": "stream",
     "text": [
      "N(R-R1) is running\n",
      "Monitoring: N(R-R2)\n"
     ]
    },
    {
     "name": "stderr",
     "output_type": "stream",
     "text": [
      "Running: <function HUD._is_registered.<locals>.__get_is_registered at 0x1219db9d0>: 100%|██████████| 1/1 [00:03<00:00,  3.93s/it]\n"
     ]
    },
    {
     "name": "stdout",
     "output_type": "stream",
     "text": [
      "N(R-R2) is registered\n"
     ]
    },
    {
     "name": "stderr",
     "output_type": "stream",
     "text": [
      "Running: pm2 pid script: 100%|██████████| 1/1 [00:01<00:00,  1.38s/it]\n"
     ]
    },
    {
     "name": "stdout",
     "output_type": "stream",
     "text": [
      "N(R-R2) is running\n",
      "Monitoring: N(R-R3)\n"
     ]
    },
    {
     "name": "stderr",
     "output_type": "stream",
     "text": [
      "Running: <function HUD._is_registered.<locals>.__get_is_registered at 0x1398dd820>: 100%|██████████| 1/1 [00:04<00:00,  4.38s/it]\n"
     ]
    },
    {
     "name": "stdout",
     "output_type": "stream",
     "text": [
      "N(R-R3) is registered\n"
     ]
    },
    {
     "name": "stderr",
     "output_type": "stream",
     "text": [
      "Running: pm2 pid script: 100%|██████████| 1/1 [00:01<00:00,  1.53s/it]\n"
     ]
    },
    {
     "name": "stdout",
     "output_type": "stream",
     "text": [
      "N(R-R3) is running\n",
      "Monitoring: N(R-R4)\n"
     ]
    },
    {
     "name": "stderr",
     "output_type": "stream",
     "text": [
      "Running: <function HUD._is_registered.<locals>.__get_is_registered at 0x11f314dc0>: 100%|██████████| 1/1 [00:04<00:00,  4.37s/it]\n"
     ]
    },
    {
     "name": "stdout",
     "output_type": "stream",
     "text": [
      "N(R-R4) is registered\n"
     ]
    },
    {
     "name": "stderr",
     "output_type": "stream",
     "text": [
      "Running: pm2 pid script: 100%|██████████| 1/1 [00:01<00:00,  1.53s/it]\n"
     ]
    },
    {
     "name": "stdout",
     "output_type": "stream",
     "text": [
      "N(R-R4) is running\n",
      "Monitoring: N(R-R5)\n"
     ]
    },
    {
     "name": "stderr",
     "output_type": "stream",
     "text": [
      "Running: <function HUD._is_registered.<locals>.__get_is_registered at 0x139cb3160>: 100%|██████████| 1/1 [00:05<00:00,  5.91s/it]\n"
     ]
    },
    {
     "name": "stdout",
     "output_type": "stream",
     "text": [
      "N(R-R5) is registered\n"
     ]
    },
    {
     "name": "stderr",
     "output_type": "stream",
     "text": [
      "Running: pm2 pid script: 100%|██████████| 1/1 [00:01<00:00,  1.64s/it]\n"
     ]
    },
    {
     "name": "stdout",
     "output_type": "stream",
     "text": [
      "N(R-R5) is running\n",
      "Monitoring: N(R-R6)\n"
     ]
    },
    {
     "name": "stderr",
     "output_type": "stream",
     "text": [
      "Running: <function HUD._is_registered.<locals>.__get_is_registered at 0x11e5ebca0>: 100%|██████████| 1/1 [00:04<00:00,  4.75s/it]\n"
     ]
    },
    {
     "name": "stdout",
     "output_type": "stream",
     "text": [
      "N(R-R6) is registered\n"
     ]
    },
    {
     "name": "stderr",
     "output_type": "stream",
     "text": [
      "Running: pm2 pid script: 100%|██████████| 1/1 [00:02<00:00,  2.13s/it]\n"
     ]
    },
    {
     "name": "stdout",
     "output_type": "stream",
     "text": [
      "N(R-R6) is running\n",
      "Monitoring: N(R-R7)\n"
     ]
    },
    {
     "name": "stderr",
     "output_type": "stream",
     "text": [
      "Running: <function HUD._is_registered.<locals>.__get_is_registered at 0x1201ea430>: 100%|██████████| 1/1 [00:05<00:00,  5.19s/it]\n"
     ]
    },
    {
     "name": "stdout",
     "output_type": "stream",
     "text": [
      "N(R-R7) is registered\n"
     ]
    },
    {
     "name": "stderr",
     "output_type": "stream",
     "text": [
      "Running: pm2 pid script: 100%|██████████| 1/1 [00:01<00:00,  1.32s/it]\n"
     ]
    },
    {
     "name": "stdout",
     "output_type": "stream",
     "text": [
      "N(R-R7) is running\n",
      "Monitoring: N(R-R8)\n"
     ]
    },
    {
     "name": "stderr",
     "output_type": "stream",
     "text": [
      "Running: <function HUD._is_registered.<locals>.__get_is_registered at 0x11efe74c0>: 100%|██████████| 1/1 [00:05<00:00,  5.22s/it]\n"
     ]
    },
    {
     "name": "stdout",
     "output_type": "stream",
     "text": [
      "N(R-R8) is registered\n"
     ]
    },
    {
     "name": "stderr",
     "output_type": "stream",
     "text": [
      "Running: pm2 pid script: 100%|██████████| 1/1 [00:01<00:00,  1.71s/it]\n"
     ]
    },
    {
     "name": "stdout",
     "output_type": "stream",
     "text": [
      "N(R-R8) is running\n",
      "Monitoring: N(R-R9)\n"
     ]
    },
    {
     "name": "stderr",
     "output_type": "stream",
     "text": [
      "Running: <function HUD._is_registered.<locals>.__get_is_registered at 0x121271b80>: 100%|██████████| 1/1 [00:03<00:00,  3.80s/it]\n"
     ]
    },
    {
     "name": "stdout",
     "output_type": "stream",
     "text": [
      "N(R-R9) is registered\n"
     ]
    },
    {
     "name": "stderr",
     "output_type": "stream",
     "text": [
      "Running: pm2 pid script: 100%|██████████| 1/1 [00:01<00:00,  1.40s/it]\n"
     ]
    },
    {
     "name": "stdout",
     "output_type": "stream",
     "text": [
      "N(R-R9) is running\n",
      "Monitoring: N(R-R10)\n"
     ]
    },
    {
     "name": "stderr",
     "output_type": "stream",
     "text": [
      "Running: <function HUD._is_registered.<locals>.__get_is_registered at 0x15d90edc0>: 100%|██████████| 1/1 [00:03<00:00,  3.65s/it]\n"
     ]
    },
    {
     "name": "stdout",
     "output_type": "stream",
     "text": [
      "N(R-R10) is registered\n"
     ]
    },
    {
     "name": "stderr",
     "output_type": "stream",
     "text": [
      "Running: pm2 pid script: 100%|██████████| 1/1 [00:01<00:00,  1.35s/it]\n"
     ]
    },
    {
     "name": "stdout",
     "output_type": "stream",
     "text": [
      "N(R-R10) is running\n",
      "Monitoring: N(R-R11)\n"
     ]
    },
    {
     "name": "stderr",
     "output_type": "stream",
     "text": [
      "Running: <function HUD._is_registered.<locals>.__get_is_registered at 0x126a3d940>: 100%|██████████| 1/1 [00:03<00:00,  3.70s/it]\n"
     ]
    },
    {
     "name": "stdout",
     "output_type": "stream",
     "text": [
      "N(R-R11) is registered\n"
     ]
    },
    {
     "name": "stderr",
     "output_type": "stream",
     "text": [
      "Running: pm2 pid script: 100%|██████████| 1/1 [00:01<00:00,  1.33s/it]\n"
     ]
    },
    {
     "name": "stdout",
     "output_type": "stream",
     "text": [
      "N(R-R11) is running\n",
      "Monitoring: N(R-R12)\n"
     ]
    },
    {
     "name": "stderr",
     "output_type": "stream",
     "text": [
      "Running: <function HUD._is_registered.<locals>.__get_is_registered at 0x158ee9280>: 100%|██████████| 1/1 [00:03<00:00,  3.89s/it]\n"
     ]
    },
    {
     "name": "stdout",
     "output_type": "stream",
     "text": [
      "N(R-R12) is registered\n"
     ]
    },
    {
     "name": "stderr",
     "output_type": "stream",
     "text": [
      "Running: pm2 pid script: 100%|██████████| 1/1 [00:01<00:00,  1.40s/it]\n"
     ]
    },
    {
     "name": "stdout",
     "output_type": "stream",
     "text": [
      "N(R-R12) is running\n",
      "Monitoring: N(R-R13)\n"
     ]
    },
    {
     "name": "stderr",
     "output_type": "stream",
     "text": [
      "Running: <function HUD._is_registered.<locals>.__get_is_registered at 0x158ec05e0>: 100%|██████████| 1/1 [00:03<00:00,  3.85s/it]\n"
     ]
    },
    {
     "name": "stdout",
     "output_type": "stream",
     "text": [
      "N(R-R13) is registered\n"
     ]
    },
    {
     "name": "stderr",
     "output_type": "stream",
     "text": [
      "Running: pm2 pid script: 100%|██████████| 1/1 [00:01<00:00,  1.35s/it]\n"
     ]
    },
    {
     "name": "stdout",
     "output_type": "stream",
     "text": [
      "N(R-R13) is running\n",
      "Monitoring: N(R-R14)\n"
     ]
    },
    {
     "name": "stderr",
     "output_type": "stream",
     "text": [
      "Running: <function HUD._is_registered.<locals>.__get_is_registered at 0x1392f9e50>: 100%|██████████| 1/1 [00:03<00:00,  3.95s/it]\n"
     ]
    },
    {
     "name": "stdout",
     "output_type": "stream",
     "text": [
      "N(R-R14) is registered\n"
     ]
    },
    {
     "name": "stderr",
     "output_type": "stream",
     "text": [
      "Running: pm2 pid script: 100%|██████████| 1/1 [00:01<00:00,  1.36s/it]\n"
     ]
    },
    {
     "name": "stdout",
     "output_type": "stream",
     "text": [
      "N(R-R14) is running\n",
      "Monitoring: N(R-R15)\n"
     ]
    },
    {
     "name": "stderr",
     "output_type": "stream",
     "text": [
      "Running: <function HUD._is_registered.<locals>.__get_is_registered at 0x11f314af0>: 100%|██████████| 1/1 [00:04<00:00,  4.42s/it]\n"
     ]
    },
    {
     "name": "stdout",
     "output_type": "stream",
     "text": [
      "N(R-R15) is registered\n"
     ]
    },
    {
     "name": "stderr",
     "output_type": "stream",
     "text": [
      "Running: pm2 pid script: 100%|██████████| 1/1 [00:01<00:00,  1.91s/it]\n"
     ]
    },
    {
     "name": "stdout",
     "output_type": "stream",
     "text": [
      "N(R-R15) is running\n",
      "Monitoring: N(R-R16)\n"
     ]
    },
    {
     "name": "stderr",
     "output_type": "stream",
     "text": [
      "Running: <function HUD._is_registered.<locals>.__get_is_registered at 0x11f314af0>: 100%|██████████| 1/1 [00:03<00:00,  3.75s/it]\n"
     ]
    },
    {
     "name": "stdout",
     "output_type": "stream",
     "text": [
      "N(R-R16) is registered\n"
     ]
    },
    {
     "name": "stderr",
     "output_type": "stream",
     "text": [
      "Running: pm2 pid script: 100%|██████████| 1/1 [00:01<00:00,  1.35s/it]\n"
     ]
    },
    {
     "name": "stdout",
     "output_type": "stream",
     "text": [
      "N(R-R16) is running\n",
      "Monitoring: N(R-R17)\n"
     ]
    },
    {
     "name": "stderr",
     "output_type": "stream",
     "text": [
      "Running: <function HUD._is_registered.<locals>.__get_is_registered at 0x1392f9940>: 100%|██████████| 1/1 [00:03<00:00,  3.77s/it]\n"
     ]
    },
    {
     "name": "stdout",
     "output_type": "stream",
     "text": [
      "N(R-R17) is registered\n"
     ]
    },
    {
     "name": "stderr",
     "output_type": "stream",
     "text": [
      "Running: pm2 pid script: 100%|██████████| 1/1 [00:01<00:00,  1.40s/it]\n"
     ]
    },
    {
     "name": "stdout",
     "output_type": "stream",
     "text": [
      "N(R-R17) is running\n",
      "Monitoring: N(R-R18)\n"
     ]
    },
    {
     "name": "stderr",
     "output_type": "stream",
     "text": [
      "Running: <function HUD._is_registered.<locals>.__get_is_registered at 0x15cbb8430>: 100%|██████████| 1/1 [00:03<00:00,  3.85s/it]\n"
     ]
    },
    {
     "name": "stdout",
     "output_type": "stream",
     "text": [
      "N(R-R18) is registered\n"
     ]
    },
    {
     "name": "stderr",
     "output_type": "stream",
     "text": [
      "Running: pm2 pid script: 100%|██████████| 1/1 [00:01<00:00,  1.42s/it]\n"
     ]
    },
    {
     "name": "stdout",
     "output_type": "stream",
     "text": [
      "N(R-R18) is running\n",
      "Monitoring: N(R-R19)\n"
     ]
    },
    {
     "name": "stderr",
     "output_type": "stream",
     "text": [
      "Running: <function HUD._is_registered.<locals>.__get_is_registered at 0x158ee93a0>: 100%|██████████| 1/1 [00:03<00:00,  3.78s/it]\n"
     ]
    },
    {
     "name": "stdout",
     "output_type": "stream",
     "text": [
      "N(R-R19) is registered\n"
     ]
    },
    {
     "name": "stderr",
     "output_type": "stream",
     "text": [
      "Running: pm2 pid script: 100%|██████████| 1/1 [00:01<00:00,  1.38s/it]\n"
     ]
    },
    {
     "name": "stdout",
     "output_type": "stream",
     "text": [
      "N(R-R19) is running\n",
      "Monitoring: N(R-R20)\n"
     ]
    },
    {
     "name": "stderr",
     "output_type": "stream",
     "text": [
      "Running: <function HUD._is_registered.<locals>.__get_is_registered at 0x159913ca0>: 100%|██████████| 1/1 [00:05<00:00,  5.30s/it]\n"
     ]
    },
    {
     "name": "stdout",
     "output_type": "stream",
     "text": [
      "N(R-R20) is registered\n"
     ]
    },
    {
     "name": "stderr",
     "output_type": "stream",
     "text": [
      "Running: pm2 pid script: 100%|██████████| 1/1 [00:01<00:00,  1.73s/it]\n"
     ]
    },
    {
     "name": "stdout",
     "output_type": "stream",
     "text": [
      "N(R-R20) is running\n",
      "Monitoring: N(R-R21)\n"
     ]
    },
    {
     "name": "stderr",
     "output_type": "stream",
     "text": [
      "Running: <function HUD._is_registered.<locals>.__get_is_registered at 0x11e5e1040>: 100%|██████████| 1/1 [00:04<00:00,  4.42s/it]\n"
     ]
    },
    {
     "name": "stdout",
     "output_type": "stream",
     "text": [
      "N(R-R21) is registered\n"
     ]
    },
    {
     "name": "stderr",
     "output_type": "stream",
     "text": [
      "Running: pm2 pid script: 100%|██████████| 1/1 [00:01<00:00,  1.31s/it]\n"
     ]
    },
    {
     "name": "stdout",
     "output_type": "stream",
     "text": [
      "N(R-R21) is running\n",
      "Monitoring: N(R-R22)\n"
     ]
    },
    {
     "name": "stderr",
     "output_type": "stream",
     "text": [
      "Running: <function HUD._is_registered.<locals>.__get_is_registered at 0x158f31670>: 100%|██████████| 1/1 [00:04<00:00,  4.04s/it]\n"
     ]
    },
    {
     "name": "stdout",
     "output_type": "stream",
     "text": [
      "N(R-R22) is registered\n"
     ]
    },
    {
     "name": "stderr",
     "output_type": "stream",
     "text": [
      "Running: pm2 pid script: 100%|██████████| 1/1 [00:01<00:00,  1.73s/it]\n"
     ]
    },
    {
     "name": "stdout",
     "output_type": "stream",
     "text": [
      "N(R-R22) is running\n",
      "Monitoring: N(R-R23)\n"
     ]
    },
    {
     "name": "stderr",
     "output_type": "stream",
     "text": [
      "Running: <function HUD._is_registered.<locals>.__get_is_registered at 0x158f315e0>: 100%|██████████| 1/1 [00:04<00:00,  4.75s/it]\n"
     ]
    },
    {
     "name": "stdout",
     "output_type": "stream",
     "text": [
      "N(R-R23) is registered\n"
     ]
    },
    {
     "name": "stderr",
     "output_type": "stream",
     "text": [
      "Running: pm2 pid script: 100%|██████████| 1/1 [00:01<00:00,  1.33s/it]\n"
     ]
    },
    {
     "name": "stdout",
     "output_type": "stream",
     "text": [
      "N(R-R23) is running\n",
      "Monitoring: N(R-R24)\n"
     ]
    },
    {
     "name": "stderr",
     "output_type": "stream",
     "text": [
      "Running: <function HUD._is_registered.<locals>.__get_is_registered at 0x123925b80>: 100%|██████████| 1/1 [00:04<00:00,  4.71s/it]\n"
     ]
    },
    {
     "name": "stdout",
     "output_type": "stream",
     "text": [
      "N(R-R24) is registered\n"
     ]
    },
    {
     "name": "stderr",
     "output_type": "stream",
     "text": [
      "Running: pm2 pid script: 100%|██████████| 1/1 [00:01<00:00,  1.87s/it]\n"
     ]
    },
    {
     "name": "stdout",
     "output_type": "stream",
     "text": [
      "N(R-R24) is running\n",
      "Monitoring: N(R-R25)\n"
     ]
    },
    {
     "name": "stderr",
     "output_type": "stream",
     "text": [
      "Running: <function HUD._is_registered.<locals>.__get_is_registered at 0x1398dd310>: 100%|██████████| 1/1 [00:04<00:00,  4.58s/it]\n"
     ]
    },
    {
     "name": "stdout",
     "output_type": "stream",
     "text": [
      "N(R-R25) is registered\n"
     ]
    },
    {
     "name": "stderr",
     "output_type": "stream",
     "text": [
      "Running: pm2 pid script: 100%|██████████| 1/1 [00:01<00:00,  1.72s/it]\n"
     ]
    },
    {
     "name": "stdout",
     "output_type": "stream",
     "text": [
      "N(R-R25) is running\n",
      "Monitoring: N(R-R26)\n"
     ]
    },
    {
     "name": "stderr",
     "output_type": "stream",
     "text": [
      "Running: <function HUD._is_registered.<locals>.__get_is_registered at 0x15e624ee0>: 100%|██████████| 1/1 [00:03<00:00,  3.73s/it]\n"
     ]
    },
    {
     "name": "stdout",
     "output_type": "stream",
     "text": [
      "N(R-R26) is registered\n"
     ]
    },
    {
     "name": "stderr",
     "output_type": "stream",
     "text": [
      "Running: pm2 pid script: 100%|██████████| 1/1 [00:01<00:00,  1.37s/it]\n"
     ]
    },
    {
     "name": "stdout",
     "output_type": "stream",
     "text": [
      "N(R-R26) is running\n",
      "Monitoring: N(R-R27)\n"
     ]
    },
    {
     "name": "stderr",
     "output_type": "stream",
     "text": [
      "Running: <function HUD._is_registered.<locals>.__get_is_registered at 0x123b21af0>: 100%|██████████| 1/1 [00:03<00:00,  3.82s/it]\n"
     ]
    },
    {
     "name": "stdout",
     "output_type": "stream",
     "text": [
      "N(R-R27) is registered\n"
     ]
    },
    {
     "name": "stderr",
     "output_type": "stream",
     "text": [
      "Running: pm2 pid script: 100%|██████████| 1/1 [00:01<00:00,  1.35s/it]\n"
     ]
    },
    {
     "name": "stdout",
     "output_type": "stream",
     "text": [
      "N(R-R27) is running\n",
      "Monitoring: N(R-R28)\n"
     ]
    },
    {
     "name": "stderr",
     "output_type": "stream",
     "text": [
      "Running: <function HUD._is_registered.<locals>.__get_is_registered at 0x1241badc0>: 100%|██████████| 1/1 [00:04<00:00,  4.15s/it]\n"
     ]
    },
    {
     "name": "stdout",
     "output_type": "stream",
     "text": [
      "N(R-R28) is registered\n"
     ]
    },
    {
     "name": "stderr",
     "output_type": "stream",
     "text": [
      "Running: pm2 pid script: 100%|██████████| 1/1 [00:01<00:00,  1.51s/it]\n"
     ]
    },
    {
     "name": "stdout",
     "output_type": "stream",
     "text": [
      "N(R-R28) is running\n",
      "Monitoring: N(R-R29)\n"
     ]
    },
    {
     "name": "stderr",
     "output_type": "stream",
     "text": [
      "Running: <function HUD._is_registered.<locals>.__get_is_registered at 0x123b218b0>: 100%|██████████| 1/1 [00:04<00:00,  4.76s/it]\n"
     ]
    },
    {
     "name": "stdout",
     "output_type": "stream",
     "text": [
      "N(R-R29) is registered\n"
     ]
    },
    {
     "name": "stderr",
     "output_type": "stream",
     "text": [
      "Running: pm2 pid script: 100%|██████████| 1/1 [00:01<00:00,  1.94s/it]\n"
     ]
    },
    {
     "name": "stdout",
     "output_type": "stream",
     "text": [
      "N(R-R29) is running\n",
      "Monitoring: N(R-R30)\n"
     ]
    },
    {
     "name": "stderr",
     "output_type": "stream",
     "text": [
      "Running: <function HUD._is_registered.<locals>.__get_is_registered at 0x1230e35e0>: 100%|██████████| 1/1 [00:04<00:00,  4.45s/it]\n"
     ]
    },
    {
     "name": "stdout",
     "output_type": "stream",
     "text": [
      "N(R-R30) is registered\n"
     ]
    },
    {
     "name": "stderr",
     "output_type": "stream",
     "text": [
      "Running: pm2 pid script: 100%|██████████| 1/1 [00:01<00:00,  1.60s/it]\n"
     ]
    },
    {
     "name": "stdout",
     "output_type": "stream",
     "text": [
      "N(R-R30) is running\n",
      "Monitoring: N(R-R31)\n"
     ]
    },
    {
     "name": "stderr",
     "output_type": "stream",
     "text": [
      "Running: <function HUD._is_registered.<locals>.__get_is_registered at 0x1593c69d0>: 100%|██████████| 1/1 [00:03<00:00,  3.86s/it]\n"
     ]
    },
    {
     "name": "stdout",
     "output_type": "stream",
     "text": [
      "N(R-R31) is registered\n"
     ]
    },
    {
     "name": "stderr",
     "output_type": "stream",
     "text": [
      "Running: pm2 pid script: 100%|██████████| 1/1 [00:01<00:00,  1.40s/it]\n"
     ]
    },
    {
     "name": "stdout",
     "output_type": "stream",
     "text": [
      "N(R-R31) is running\n",
      "Monitoring: N(R-R32)\n"
     ]
    },
    {
     "name": "stderr",
     "output_type": "stream",
     "text": [
      "Running: <function HUD._is_registered.<locals>.__get_is_registered at 0x1393fb310>: 100%|██████████| 1/1 [00:04<00:00,  4.32s/it]\n"
     ]
    },
    {
     "name": "stdout",
     "output_type": "stream",
     "text": [
      "N(R-R32) is registered\n"
     ]
    },
    {
     "name": "stderr",
     "output_type": "stream",
     "text": [
      "Running: pm2 pid script: 100%|██████████| 1/1 [00:01<00:00,  1.61s/it]\n"
     ]
    },
    {
     "name": "stdout",
     "output_type": "stream",
     "text": [
      "N(R-R32) is running\n",
      "Monitoring: N(R-R33)\n"
     ]
    },
    {
     "name": "stderr",
     "output_type": "stream",
     "text": [
      "Running: <function HUD._is_registered.<locals>.__get_is_registered at 0x159006310>: 100%|██████████| 1/1 [00:07<00:00,  7.86s/it]\n"
     ]
    },
    {
     "name": "stdout",
     "output_type": "stream",
     "text": [
      "N(R-R33) is registered\n"
     ]
    },
    {
     "name": "stderr",
     "output_type": "stream",
     "text": [
      "Running: pm2 pid script: 100%|██████████| 1/1 [00:01<00:00,  1.35s/it]\n"
     ]
    },
    {
     "name": "stdout",
     "output_type": "stream",
     "text": [
      "N(R-R33) is running\n",
      "Monitoring: N(R-R34)\n"
     ]
    },
    {
     "name": "stderr",
     "output_type": "stream",
     "text": [
      "Running: <function HUD._is_registered.<locals>.__get_is_registered at 0x159006310>: 100%|██████████| 1/1 [00:03<00:00,  3.89s/it]\n"
     ]
    },
    {
     "name": "stdout",
     "output_type": "stream",
     "text": [
      "N(R-R34) is registered\n"
     ]
    },
    {
     "name": "stderr",
     "output_type": "stream",
     "text": [
      "Running: pm2 pid script: 100%|██████████| 1/1 [00:01<00:00,  1.61s/it]\n"
     ]
    },
    {
     "name": "stdout",
     "output_type": "stream",
     "text": [
      "N(R-R34) is running\n",
      "Monitoring: N(R-R35)\n"
     ]
    },
    {
     "name": "stderr",
     "output_type": "stream",
     "text": [
      "Running: <function HUD._is_registered.<locals>.__get_is_registered at 0x138f84b80>: 100%|██████████| 1/1 [00:05<00:00,  5.40s/it]\n"
     ]
    },
    {
     "name": "stdout",
     "output_type": "stream",
     "text": [
      "N(R-R35) is registered\n"
     ]
    },
    {
     "name": "stderr",
     "output_type": "stream",
     "text": [
      "Running: pm2 pid script: 100%|██████████| 1/1 [00:01<00:00,  1.45s/it]\n"
     ]
    },
    {
     "name": "stdout",
     "output_type": "stream",
     "text": [
      "N(R-R35) is running\n",
      "Monitoring: N(R-R36)\n"
     ]
    },
    {
     "name": "stderr",
     "output_type": "stream",
     "text": [
      "Running: <function HUD._is_registered.<locals>.__get_is_registered at 0x12219b040>: 100%|██████████| 1/1 [00:04<00:00,  4.21s/it]\n"
     ]
    },
    {
     "name": "stdout",
     "output_type": "stream",
     "text": [
      "N(R-R36) is registered\n"
     ]
    },
    {
     "name": "stderr",
     "output_type": "stream",
     "text": [
      "Running: pm2 pid script: 100%|██████████| 1/1 [00:01<00:00,  1.35s/it]\n"
     ]
    },
    {
     "name": "stdout",
     "output_type": "stream",
     "text": [
      "N(R-R36) is not running\n"
     ]
    },
    {
     "name": "stderr",
     "output_type": "stream",
     "text": [
      "100%|██████████| 1/1 [00:02<00:00,  2.17s/it]\n",
      "Running: pm2 pid script: 100%|██████████| 1/1 [00:01<00:00,  1.57s/it]\n"
     ]
    },
    {
     "name": "stdout",
     "output_type": "stream",
     "text": [
      "N(R-R36) is running\n",
      "Monitoring: N(R-R37)\n"
     ]
    },
    {
     "name": "stderr",
     "output_type": "stream",
     "text": [
      "Running: <function HUD._is_registered.<locals>.__get_is_registered at 0x158a5e4c0>: 100%|██████████| 1/1 [00:03<00:00,  3.78s/it]\n"
     ]
    },
    {
     "name": "stdout",
     "output_type": "stream",
     "text": [
      "N(R-R37) is not registered\n"
     ]
    },
    {
     "name": "stderr",
     "output_type": "stream",
     "text": [
      "Running: pkill -f pow.py & rm  pow_*: 100%|██████████| 300/300 [00:09<00:00, 32.18it/s] \n"
     ]
    },
    {
     "name": "stdout",
     "output_type": "stream",
     "text": [
      "Killing pow: [N(R-R0), N(R-R1), N(R-R2), N(R-R3), N(R-R4), N(R-R5), N(R-R6), N(R-R7), N(R-R8), N(R-R9), N(R-R10), N(R-R11), N(R-R12), N(R-R13), N(R-R14), N(R-R15), N(R-R16), N(R-R17), N(R-R18), N(R-R19), N(R-R20), N(R-R21), N(R-R22), N(R-R23), N(R-R24), N(R-R25), N(R-R26), N(R-R27), N(R-R28), N(R-R29), N(R-R30), N(R-R31), N(R-R32), N(R-R33), N(R-R34), N(R-R35), N(R-R36), N(R-R37), N(R-R38), N(R-R39), N(R-R40), N(R-R41), N(R-R42), N(R-R43), N(R-R44), N(R-R45), N(R-R46), N(R-R47), N(R-R48), N(R-R49), N(R-R50), N(R-R51), N(R-R52), N(R-R53), N(R-R54), N(R-R55), N(R-R56), N(R-R57), N(R-R58), N(R-R59), N(R-R60), N(R-R61), N(R-R62), N(R-R63), N(R-R64), N(R-R65), N(R-R66), N(R-R67), N(R-R68), N(R-R69), N(R-R70), N(R-R71), N(R-R72), N(R-R73), N(R-R74), N(R-R75), N(R-R76), N(R-R77), N(R-R78), N(R-R79), N(R-R80), N(R-R81), N(R-R82), N(R-R83), N(R-R84), N(R-R85), N(R-R86), N(R-R87), N(R-R88), N(R-R89), N(R-R90), N(R-R91), N(R-R92), N(R-R93), N(R-R94), N(R-R95), N(R-R96), N(R-R97), N(R-R98), N(R-R99), N(R-R100), N(R-R101), N(R-R102), N(R-R103), N(R-R104), N(R-R105), N(R-R106), N(R-R107), N(R-R108), N(R-R109), N(R-R110), N(R-R111), N(R-R112), N(R-R113), N(R-R114), N(R-R115), N(R-R116), N(R-R117), N(R-R118), N(R-R119), N(R-R120), N(R-R121), N(R-R122), N(R-R123), N(R-R124), N(R-R125), N(R-R126), N(R-R127), N(R-R128), N(R-R129), N(R-R130), N(R-R131), N(R-R132), N(R-R133), N(R-R134), N(R-R135), N(R-R136), N(R-R137), N(R-R138), N(R-R139), N(R-R140), N(R-R141), N(R-R142), N(R-R143), N(R-R144), N(R-R145), N(R-R146), N(R-R147), N(R-R148), N(R-R149), N(R-R150), N(R-R151), N(R-R152), N(R-R153), N(R-R154), N(R-R155), N(R-R156), N(R-R157), N(R-R158), N(R-R159), N(R-R160), N(R-R161), N(R-R162), N(R-R163), N(R-R164), N(R-R165), N(R-R166), N(R-R167), N(R-R168), N(R-R169), N(R-R170), N(R-R171), N(R-R172), N(R-R173), N(R-R174), N(R-R175), N(R-R176), N(R-R177), N(R-R178), N(R-R179), N(R-R180), N(R-R181), N(R-R182), N(R-R183), N(R-R184), N(R-R185), N(R-R186), N(R-R187), N(R-R188), N(R-R189), N(R-R190), N(R-R191), N(R-R192), N(R-R193), N(R-R194), N(R-R195), N(R-R196), N(R-R197), N(R-R198), N(R-R199), N(R-R200), N(R-R201), N(R-R202), N(R-R203), N(R-R204), N(R-R205), N(R-R206), N(R-R207), N(R-R208), N(R-R209), N(R-R210), N(R-R211), N(R-R212), N(R-R213), N(R-R214), N(R-R215), N(R-R216), N(R-R217), N(R-R218), N(R-R219), N(R-R220), N(R-R221), N(R-R222), N(R-R223), N(R-R224), N(R-R225), N(R-R226), N(R-R227), N(R-R228), N(R-R229), N(R-R230), N(R-R231), N(R-R232), N(R-R233), N(R-R234), N(R-R235), N(R-R236), N(R-R237), N(R-R238), N(R-R239), N(R-R240), N(R-R241), N(R-R242), N(R-R243), N(R-R244), N(R-R245), N(R-R246), N(R-R247), N(R-R248), N(R-R249), N(R-R250), N(R-R251), N(R-R252), N(R-R253), N(R-R254), N(R-R255), N(R-R256), N(R-R257), N(R-R258), N(R-R259), N(R-R260), N(R-R261), N(R-R262), N(R-R263), N(R-R264), N(R-R265), N(R-R266), N(R-R267), N(R-R268), N(R-R269), N(R-R270), N(R-R271), N(R-R272), N(R-R273), N(R-R274), N(R-R275), N(R-R276), N(R-R277), N(R-R278), N(R-R279), N(R-R280), N(R-R281), N(R-R282), N(R-R283), N(R-R284), N(R-R285), N(R-R286), N(R-R287), N(R-R288), N(R-R289), N(R-R290), N(R-R291), N(R-R292), N(R-R293), N(R-R294), N(R-R295), N(R-R296), N(R-R297), N(R-R298), N(R-R299)]\n",
      "INFO Starting PoW | targets:[N(R-R37)] workers: [N(R-R0), N(R-R1), N(R-R2), N(R-R3), N(R-R4), N(R-R5), N(R-R6), N(R-R7), N(R-R8), N(R-R9), N(R-R10), N(R-R11), N(R-R12), N(R-R13), N(R-R14), N(R-R15), N(R-R16), N(R-R17), N(R-R18), N(R-R19), N(R-R20), N(R-R21), N(R-R22), N(R-R23), N(R-R24), N(R-R25), N(R-R26), N(R-R27), N(R-R28), N(R-R29), N(R-R30), N(R-R31), N(R-R32), N(R-R33), N(R-R34), N(R-R35), N(R-R36), N(R-R37), N(R-R38), N(R-R39), N(R-R40), N(R-R41), N(R-R42), N(R-R43), N(R-R44), N(R-R45), N(R-R46), N(R-R47), N(R-R48), N(R-R49), N(R-R50), N(R-R51), N(R-R52), N(R-R53), N(R-R54), N(R-R55), N(R-R56), N(R-R57), N(R-R58), N(R-R59), N(R-R60), N(R-R61), N(R-R62), N(R-R63), N(R-R64), N(R-R65), N(R-R66), N(R-R67), N(R-R68), N(R-R69), N(R-R70), N(R-R71), N(R-R72), N(R-R73), N(R-R74), N(R-R75), N(R-R76), N(R-R77), N(R-R78), N(R-R79), N(R-R80), N(R-R81), N(R-R82), N(R-R83), N(R-R84), N(R-R85), N(R-R86), N(R-R87), N(R-R88), N(R-R89), N(R-R90), N(R-R91), N(R-R92), N(R-R93), N(R-R94), N(R-R95), N(R-R96), N(R-R97), N(R-R98), N(R-R99), N(R-R100), N(R-R101), N(R-R102), N(R-R103), N(R-R104), N(R-R105), N(R-R106), N(R-R107), N(R-R108), N(R-R109), N(R-R110), N(R-R111), N(R-R112), N(R-R113), N(R-R114), N(R-R115), N(R-R116), N(R-R117), N(R-R118), N(R-R119), N(R-R120), N(R-R121), N(R-R122), N(R-R123), N(R-R124), N(R-R125), N(R-R126), N(R-R127), N(R-R128), N(R-R129), N(R-R130), N(R-R131), N(R-R132), N(R-R133), N(R-R134), N(R-R135), N(R-R136), N(R-R137), N(R-R138), N(R-R139), N(R-R140), N(R-R141), N(R-R142), N(R-R143), N(R-R144), N(R-R145), N(R-R146), N(R-R147), N(R-R148), N(R-R149), N(R-R150), N(R-R151), N(R-R152), N(R-R153), N(R-R154), N(R-R155), N(R-R156), N(R-R157), N(R-R158), N(R-R159), N(R-R160), N(R-R161), N(R-R162), N(R-R163), N(R-R164), N(R-R165), N(R-R166), N(R-R167), N(R-R168), N(R-R169), N(R-R170), N(R-R171), N(R-R172), N(R-R173), N(R-R174), N(R-R175), N(R-R176), N(R-R177), N(R-R178), N(R-R179), N(R-R180), N(R-R181), N(R-R182), N(R-R183), N(R-R184), N(R-R185), N(R-R186), N(R-R187), N(R-R188), N(R-R189), N(R-R190), N(R-R191), N(R-R192), N(R-R193), N(R-R194), N(R-R195), N(R-R196), N(R-R197), N(R-R198), N(R-R199), N(R-R200), N(R-R201), N(R-R202), N(R-R203), N(R-R204), N(R-R205), N(R-R206), N(R-R207), N(R-R208), N(R-R209), N(R-R210), N(R-R211), N(R-R212), N(R-R213), N(R-R214), N(R-R215), N(R-R216), N(R-R217), N(R-R218), N(R-R219), N(R-R220), N(R-R221), N(R-R222), N(R-R223), N(R-R224), N(R-R225), N(R-R226), N(R-R227), N(R-R228), N(R-R229), N(R-R230), N(R-R231), N(R-R232), N(R-R233), N(R-R234), N(R-R235), N(R-R236), N(R-R237), N(R-R238), N(R-R239), N(R-R240), N(R-R241), N(R-R242), N(R-R243), N(R-R244), N(R-R245), N(R-R246), N(R-R247), N(R-R248), N(R-R249), N(R-R250), N(R-R251), N(R-R252), N(R-R253), N(R-R254), N(R-R255), N(R-R256), N(R-R257), N(R-R258), N(R-R259), N(R-R260), N(R-R261), N(R-R262), N(R-R263), N(R-R264), N(R-R265), N(R-R266), N(R-R267), N(R-R268), N(R-R269), N(R-R270), N(R-R271), N(R-R272), N(R-R273), N(R-R274), N(R-R275), N(R-R276), N(R-R277), N(R-R278), N(R-R279), N(R-R280), N(R-R281), N(R-R282), N(R-R283), N(R-R284), N(R-R285), N(R-R286), N(R-R287), N(R-R288), N(R-R289), N(R-R290), N(R-R291), N(R-R292), N(R-R293), N(R-R294), N(R-R295), N(R-R296), N(R-R297), N(R-R298), N(R-R299)]\n"
     ]
    },
    {
     "name": "stderr",
     "output_type": "stream",
     "text": [
      "Running: <function HUD._is_registered.<locals>.__get_is_registered at 0x158a5ee50>: 100%|██████████| 1/1 [00:02<00:00,  2.15s/it]\n",
      "Running: pkill -f **hR37** & rm **hR37**: 100%|██████████| 300/300 [00:07<00:00, 40.89it/s] \n",
      "Running: mkdir -p ~/.bittensor/wallets/R/hotkeys: 100%|██████████| 300/300 [00:01<00:00, 193.94it/s]\n",
      "Running: echo '{\"accountId\": \"0x0ac6d72064f343555e61b1cbccbc3112b2199aa74fb97b689bdc4f6687d20e5f\", \"publicKey\": \"0x0ac6d72064f343555e61b1cbccbc3112b2199aa74fb97b689bdc4f6687d20e5f\", \"secretPhrase\": \"enable entry collect narrow drama auto engine barrel arena priority rib cheese\", \"secretSeed\": \"0x6933dc42d6d2297145fbf42b974c4c5362dc05a4e47218777ca75872c7ac7d5e\", \"ss58Address\": \"5CJqQP4RmvL85jGC5DjcJZbDvPGkNzPMKXSNpnyHkTTigVFz\"}' > ~/.bittensor/wallets/R/hotkeys/R37: 100%|██████████| 300/300 [00:07<00:00, 40.91it/s]\n",
      "Running: echo '{\"accountId\": \"0xa40472d672511733d6acc49d0ee68da88006c8fbbc3786b9b2b13fcf21c6143f\", \"publicKey\": \"0xa40472d672511733d6acc49d0ee68da88006c8fbbc3786b9b2b13fcf21c6143f\", \"secretPhrase\": null, \"secretSeed\": null, \"ss58Address\": \"5Fmm2o5x6zW3USdNUxJRqBHMipZW6ryv18Wp21RNFVcmxmAP\"}' > ~/.bittensor/wallets/R/coldkeypub.txt: 100%|██████████| 300/300 [00:01<00:00, 209.75it/s]\n",
      "Running: nohup python3 HUD/pow.py --subtensor.network nakamoto --wallet.name R --wallet.hotkey R37 > pow_0_cR_hR37.out &: 600it [00:01, 372.29it/s]                         \n"
     ]
    },
    {
     "name": "stdout",
     "output_type": "stream",
     "text": [
      "Starting pow: [N(R-R0), N(R-R1), N(R-R2), N(R-R3), N(R-R4), N(R-R5), N(R-R6), N(R-R7), N(R-R8), N(R-R9), N(R-R10), N(R-R11), N(R-R12), N(R-R13), N(R-R14), N(R-R15), N(R-R16), N(R-R17), N(R-R18), N(R-R19), N(R-R20), N(R-R21), N(R-R22), N(R-R23), N(R-R24), N(R-R25), N(R-R26), N(R-R27), N(R-R28), N(R-R29), N(R-R30), N(R-R31), N(R-R32), N(R-R33), N(R-R34), N(R-R35), N(R-R36), N(R-R37), N(R-R38), N(R-R39), N(R-R40), N(R-R41), N(R-R42), N(R-R43), N(R-R44), N(R-R45), N(R-R46), N(R-R47), N(R-R48), N(R-R49), N(R-R50), N(R-R51), N(R-R52), N(R-R53), N(R-R54), N(R-R55), N(R-R56), N(R-R57), N(R-R58), N(R-R59), N(R-R60), N(R-R61), N(R-R62), N(R-R63), N(R-R64), N(R-R65), N(R-R66), N(R-R67), N(R-R68), N(R-R69), N(R-R70), N(R-R71), N(R-R72), N(R-R73), N(R-R74), N(R-R75), N(R-R76), N(R-R77), N(R-R78), N(R-R79), N(R-R80), N(R-R81), N(R-R82), N(R-R83), N(R-R84), N(R-R85), N(R-R86), N(R-R87), N(R-R88), N(R-R89), N(R-R90), N(R-R91), N(R-R92), N(R-R93), N(R-R94), N(R-R95), N(R-R96), N(R-R97), N(R-R98), N(R-R99), N(R-R100), N(R-R101), N(R-R102), N(R-R103), N(R-R104), N(R-R105), N(R-R106), N(R-R107), N(R-R108), N(R-R109), N(R-R110), N(R-R111), N(R-R112), N(R-R113), N(R-R114), N(R-R115), N(R-R116), N(R-R117), N(R-R118), N(R-R119), N(R-R120), N(R-R121), N(R-R122), N(R-R123), N(R-R124), N(R-R125), N(R-R126), N(R-R127), N(R-R128), N(R-R129), N(R-R130), N(R-R131), N(R-R132), N(R-R133), N(R-R134), N(R-R135), N(R-R136), N(R-R137), N(R-R138), N(R-R139), N(R-R140), N(R-R141), N(R-R142), N(R-R143), N(R-R144), N(R-R145), N(R-R146), N(R-R147), N(R-R148), N(R-R149), N(R-R150), N(R-R151), N(R-R152), N(R-R153), N(R-R154), N(R-R155), N(R-R156), N(R-R157), N(R-R158), N(R-R159), N(R-R160), N(R-R161), N(R-R162), N(R-R163), N(R-R164), N(R-R165), N(R-R166), N(R-R167), N(R-R168), N(R-R169), N(R-R170), N(R-R171), N(R-R172), N(R-R173), N(R-R174), N(R-R175), N(R-R176), N(R-R177), N(R-R178), N(R-R179), N(R-R180), N(R-R181), N(R-R182), N(R-R183), N(R-R184), N(R-R185), N(R-R186), N(R-R187), N(R-R188), N(R-R189), N(R-R190), N(R-R191), N(R-R192), N(R-R193), N(R-R194), N(R-R195), N(R-R196), N(R-R197), N(R-R198), N(R-R199), N(R-R200), N(R-R201), N(R-R202), N(R-R203), N(R-R204), N(R-R205), N(R-R206), N(R-R207), N(R-R208), N(R-R209), N(R-R210), N(R-R211), N(R-R212), N(R-R213), N(R-R214), N(R-R215), N(R-R216), N(R-R217), N(R-R218), N(R-R219), N(R-R220), N(R-R221), N(R-R222), N(R-R223), N(R-R224), N(R-R225), N(R-R226), N(R-R227), N(R-R228), N(R-R229), N(R-R230), N(R-R231), N(R-R232), N(R-R233), N(R-R234), N(R-R235), N(R-R236), N(R-R237), N(R-R238), N(R-R239), N(R-R240), N(R-R241), N(R-R242), N(R-R243), N(R-R244), N(R-R245), N(R-R246), N(R-R247), N(R-R248), N(R-R249), N(R-R250), N(R-R251), N(R-R252), N(R-R253), N(R-R254), N(R-R255), N(R-R256), N(R-R257), N(R-R258), N(R-R259), N(R-R260), N(R-R261), N(R-R262), N(R-R263), N(R-R264), N(R-R265), N(R-R266), N(R-R267), N(R-R268), N(R-R269), N(R-R270), N(R-R271), N(R-R272), N(R-R273), N(R-R274), N(R-R275), N(R-R276), N(R-R277), N(R-R278), N(R-R279), N(R-R280), N(R-R281), N(R-R282), N(R-R283), N(R-R284), N(R-R285), N(R-R286), N(R-R287), N(R-R288), N(R-R289), N(R-R290), N(R-R291), N(R-R292), N(R-R293), N(R-R294), N(R-R295), N(R-R296), N(R-R297), N(R-R298), N(R-R299)]\n"
     ]
    },
    {
     "name": "stderr",
     "output_type": "stream",
     "text": [
      "Running: <function HUD._is_registered.<locals>.__get_is_registered at 0x159a49790>: 100%|██████████| 1/1 [00:02<00:00,  2.13s/it]\n"
     ]
    },
    {
     "name": "stdout",
     "output_type": "stream",
     "text": [
      "Waiting ... \n"
     ]
    },
    {
     "name": "stderr",
     "output_type": "stream",
     "text": [
      "Running: <function HUD._is_registered.<locals>.__get_is_registered at 0x1206b0af0>: 100%|██████████| 1/1 [00:02<00:00,  2.56s/it]\n"
     ]
    },
    {
     "name": "stdout",
     "output_type": "stream",
     "text": [
      "Waiting ... \n"
     ]
    },
    {
     "name": "stderr",
     "output_type": "stream",
     "text": [
      "Running: <function HUD._is_registered.<locals>.__get_is_registered at 0x1273cb8b0>: 100%|██████████| 1/1 [00:02<00:00,  2.43s/it]\n"
     ]
    },
    {
     "name": "stdout",
     "output_type": "stream",
     "text": [
      "Waiting ... \n"
     ]
    },
    {
     "name": "stderr",
     "output_type": "stream",
     "text": [
      "Running: <function HUD._is_registered.<locals>.__get_is_registered at 0x1273cb8b0>: 100%|██████████| 1/1 [00:02<00:00,  2.43s/it]\n"
     ]
    },
    {
     "name": "stdout",
     "output_type": "stream",
     "text": [
      "Waiting ... \n"
     ]
    },
    {
     "name": "stderr",
     "output_type": "stream",
     "text": [
      "Running: <function HUD._is_registered.<locals>.__get_is_registered at 0x122dba160>: 2it [00:14,  7.46s/it]                       \n"
     ]
    },
    {
     "name": "stdout",
     "output_type": "stream",
     "text": [
      "N(R-R37) was just registered\n",
      "'NoneType' object has no attribute 'name'\n",
      "Starting\n",
      "Monitoring: N(R-R0)\n"
     ]
    },
    {
     "name": "stderr",
     "output_type": "stream",
     "text": [
      "Running: <function HUD._is_registered.<locals>.__get_is_registered at 0x1206b3040>: 100%|██████████| 1/1 [00:14<00:00, 14.50s/it]\n"
     ]
    },
    {
     "name": "stdout",
     "output_type": "stream",
     "text": [
      "N(R-R0) is registered\n"
     ]
    },
    {
     "name": "stderr",
     "output_type": "stream",
     "text": [
      "Running: pm2 pid script: 100%|██████████| 1/1 [00:01<00:00,  1.84s/it]\n"
     ]
    },
    {
     "name": "stdout",
     "output_type": "stream",
     "text": [
      "N(R-R0) is running\n",
      "Monitoring: N(R-R1)\n"
     ]
    },
    {
     "name": "stderr",
     "output_type": "stream",
     "text": [
      "Running: <function HUD._is_registered.<locals>.__get_is_registered at 0x15d90ea60>: 100%|██████████| 1/1 [00:05<00:00,  5.59s/it]\n"
     ]
    },
    {
     "name": "stdout",
     "output_type": "stream",
     "text": [
      "N(R-R1) is registered\n"
     ]
    },
    {
     "name": "stderr",
     "output_type": "stream",
     "text": [
      "Running: pm2 pid script: 100%|██████████| 1/1 [00:02<00:00,  2.71s/it]\n"
     ]
    },
    {
     "name": "stdout",
     "output_type": "stream",
     "text": [
      "N(R-R1) is running\n",
      "Monitoring: N(R-R2)\n"
     ]
    },
    {
     "name": "stderr",
     "output_type": "stream",
     "text": [
      "Running: <function HUD._is_registered.<locals>.__get_is_registered at 0x15d90ea60>: 100%|██████████| 1/1 [00:04<00:00,  4.52s/it]\n"
     ]
    },
    {
     "name": "stdout",
     "output_type": "stream",
     "text": [
      "N(R-R2) is registered\n"
     ]
    },
    {
     "name": "stderr",
     "output_type": "stream",
     "text": [
      "Running: pm2 pid script: 100%|██████████| 1/1 [00:01<00:00,  1.73s/it]\n"
     ]
    },
    {
     "name": "stdout",
     "output_type": "stream",
     "text": [
      "N(R-R2) is running\n",
      "Monitoring: N(R-R3)\n"
     ]
    },
    {
     "name": "stderr",
     "output_type": "stream",
     "text": [
      "Running: <function HUD._is_registered.<locals>.__get_is_registered at 0x1392f9d30>: 100%|██████████| 1/1 [00:05<00:00,  5.25s/it]\n"
     ]
    },
    {
     "name": "stdout",
     "output_type": "stream",
     "text": [
      "N(R-R3) is registered\n"
     ]
    },
    {
     "name": "stderr",
     "output_type": "stream",
     "text": [
      "Running: pm2 pid script: 100%|██████████| 1/1 [00:03<00:00,  3.39s/it]\n"
     ]
    },
    {
     "name": "stdout",
     "output_type": "stream",
     "text": [
      "N(R-R3) is running\n",
      "Monitoring: N(R-R4)\n"
     ]
    },
    {
     "name": "stderr",
     "output_type": "stream",
     "text": [
      "Running: <function HUD._is_registered.<locals>.__get_is_registered at 0x12370e160>: 100%|██████████| 1/1 [00:05<00:00,  5.14s/it]\n"
     ]
    },
    {
     "name": "stdout",
     "output_type": "stream",
     "text": [
      "N(R-R4) is registered\n"
     ]
    },
    {
     "name": "stderr",
     "output_type": "stream",
     "text": [
      "Running: pm2 pid script: 100%|██████████| 1/1 [00:03<00:00,  3.09s/it]\n"
     ]
    },
    {
     "name": "stdout",
     "output_type": "stream",
     "text": [
      "N(R-R4) is running\n",
      "Monitoring: N(R-R5)\n"
     ]
    },
    {
     "name": "stderr",
     "output_type": "stream",
     "text": [
      "Running: <function HUD._is_registered.<locals>.__get_is_registered at 0x158ebbc10>: 100%|██████████| 1/1 [00:05<00:00,  5.69s/it]\n"
     ]
    },
    {
     "name": "stdout",
     "output_type": "stream",
     "text": [
      "N(R-R5) is registered\n"
     ]
    },
    {
     "name": "stderr",
     "output_type": "stream",
     "text": [
      "Running: pm2 pid script: 100%|██████████| 1/1 [00:04<00:00,  4.87s/it]\n"
     ]
    },
    {
     "name": "stdout",
     "output_type": "stream",
     "text": [
      "N(R-R5) is running\n",
      "Monitoring: N(R-R6)\n"
     ]
    },
    {
     "name": "stderr",
     "output_type": "stream",
     "text": [
      "Running: <function HUD._is_registered.<locals>.__get_is_registered at 0x1223458b0>: 100%|██████████| 1/1 [00:05<00:00,  5.55s/it]\n"
     ]
    },
    {
     "name": "stdout",
     "output_type": "stream",
     "text": [
      "N(R-R6) is registered\n"
     ]
    },
    {
     "name": "stderr",
     "output_type": "stream",
     "text": [
      "Running: pm2 pid script: 100%|██████████| 1/1 [00:03<00:00,  3.25s/it]\n"
     ]
    },
    {
     "name": "stdout",
     "output_type": "stream",
     "text": [
      "N(R-R6) is running\n",
      "Monitoring: N(R-R7)\n"
     ]
    },
    {
     "name": "stderr",
     "output_type": "stream",
     "text": [
      "Running: <function HUD._is_registered.<locals>.__get_is_registered at 0x120b58dc0>: 100%|██████████| 1/1 [00:03<00:00,  3.34s/it]\n"
     ]
    },
    {
     "name": "stdout",
     "output_type": "stream",
     "text": [
      "N(R-R7) is registered\n"
     ]
    },
    {
     "name": "stderr",
     "output_type": "stream",
     "text": [
      "Running: pm2 pid script: 100%|██████████| 1/1 [00:01<00:00,  1.92s/it]\n"
     ]
    },
    {
     "name": "stdout",
     "output_type": "stream",
     "text": [
      "N(R-R7) is running\n",
      "Monitoring: N(R-R8)\n"
     ]
    },
    {
     "name": "stderr",
     "output_type": "stream",
     "text": [
      "Running: <function HUD._is_registered.<locals>.__get_is_registered at 0x138f615e0>: 100%|██████████| 1/1 [00:03<00:00,  3.92s/it]\n"
     ]
    },
    {
     "name": "stdout",
     "output_type": "stream",
     "text": [
      "N(R-R8) is registered\n"
     ]
    },
    {
     "name": "stderr",
     "output_type": "stream",
     "text": [
      "Running: pm2 pid script: 100%|██████████| 1/1 [00:01<00:00,  1.57s/it]\n"
     ]
    },
    {
     "name": "stdout",
     "output_type": "stream",
     "text": [
      "N(R-R8) is running\n",
      "Monitoring: N(R-R9)\n"
     ]
    },
    {
     "name": "stderr",
     "output_type": "stream",
     "text": [
      "Running: <function HUD._is_registered.<locals>.__get_is_registered at 0x1206b0430>: 100%|██████████| 1/1 [00:04<00:00,  4.64s/it]\n"
     ]
    },
    {
     "name": "stdout",
     "output_type": "stream",
     "text": [
      "N(R-R9) is registered\n"
     ]
    },
    {
     "name": "stderr",
     "output_type": "stream",
     "text": [
      "Running: pm2 pid script: 100%|██████████| 1/1 [00:01<00:00,  1.49s/it]\n"
     ]
    },
    {
     "name": "stdout",
     "output_type": "stream",
     "text": [
      "N(R-R9) is running\n",
      "Monitoring: N(R-R10)\n"
     ]
    },
    {
     "name": "stderr",
     "output_type": "stream",
     "text": [
      "Running: <function HUD._is_registered.<locals>.__get_is_registered at 0x1206b0430>: 100%|██████████| 1/1 [00:05<00:00,  5.95s/it]\n"
     ]
    },
    {
     "name": "stdout",
     "output_type": "stream",
     "text": [
      "N(R-R10) is registered\n"
     ]
    },
    {
     "name": "stderr",
     "output_type": "stream",
     "text": [
      "Running: pm2 pid script: 100%|██████████| 1/1 [00:02<00:00,  2.09s/it]\n"
     ]
    },
    {
     "name": "stdout",
     "output_type": "stream",
     "text": [
      "N(R-R10) is running\n",
      "Monitoring: N(R-R11)\n"
     ]
    },
    {
     "name": "stderr",
     "output_type": "stream",
     "text": [
      "Running: <function HUD._is_registered.<locals>.__get_is_registered at 0x1392f9e50>: 100%|██████████| 1/1 [00:04<00:00,  4.31s/it]\n"
     ]
    },
    {
     "name": "stdout",
     "output_type": "stream",
     "text": [
      "N(R-R11) is registered\n"
     ]
    },
    {
     "name": "stderr",
     "output_type": "stream",
     "text": [
      "Running: pm2 pid script: 100%|██████████| 1/1 [00:01<00:00,  1.52s/it]\n"
     ]
    },
    {
     "name": "stdout",
     "output_type": "stream",
     "text": [
      "N(R-R11) is running\n",
      "Monitoring: N(R-R12)\n"
     ]
    },
    {
     "name": "stderr",
     "output_type": "stream",
     "text": [
      "Running: <function HUD._is_registered.<locals>.__get_is_registered at 0x15cdc8dc0>: 100%|██████████| 1/1 [00:07<00:00,  7.68s/it]\n"
     ]
    },
    {
     "name": "stdout",
     "output_type": "stream",
     "text": [
      "N(R-R12) is registered\n"
     ]
    },
    {
     "name": "stderr",
     "output_type": "stream",
     "text": [
      "Running: pm2 pid script: 100%|██████████| 1/1 [00:02<00:00,  2.62s/it]\n"
     ]
    },
    {
     "name": "stdout",
     "output_type": "stream",
     "text": [
      "N(R-R12) is running\n",
      "Monitoring: N(R-R13)\n"
     ]
    },
    {
     "name": "stderr",
     "output_type": "stream",
     "text": [
      "Running: <function HUD._is_registered.<locals>.__get_is_registered at 0x1599131f0>: 100%|██████████| 1/1 [00:05<00:00,  5.30s/it]\n"
     ]
    },
    {
     "name": "stdout",
     "output_type": "stream",
     "text": [
      "N(R-R13) is registered\n"
     ]
    },
    {
     "name": "stderr",
     "output_type": "stream",
     "text": [
      "Running: pm2 pid script: 100%|██████████| 1/1 [00:02<00:00,  2.34s/it]\n"
     ]
    },
    {
     "name": "stdout",
     "output_type": "stream",
     "text": [
      "N(R-R13) is running\n",
      "Monitoring: N(R-R14)\n"
     ]
    },
    {
     "name": "stderr",
     "output_type": "stream",
     "text": [
      "Running: <function HUD._is_registered.<locals>.__get_is_registered at 0x1599131f0>: 100%|██████████| 1/1 [00:03<00:00,  3.15s/it]\n"
     ]
    },
    {
     "name": "stdout",
     "output_type": "stream",
     "text": [
      "N(R-R14) is registered\n"
     ]
    },
    {
     "name": "stderr",
     "output_type": "stream",
     "text": [
      "Running: pm2 pid script: 100%|██████████| 1/1 [00:01<00:00,  1.79s/it]\n"
     ]
    },
    {
     "name": "stdout",
     "output_type": "stream",
     "text": [
      "N(R-R14) is running\n",
      "Monitoring: N(R-R15)\n"
     ]
    },
    {
     "name": "stderr",
     "output_type": "stream",
     "text": [
      "Running: <function HUD._is_registered.<locals>.__get_is_registered at 0x158e84670>: 100%|██████████| 1/1 [00:04<00:00,  4.62s/it]\n"
     ]
    },
    {
     "name": "stdout",
     "output_type": "stream",
     "text": [
      "N(R-R15) is registered\n"
     ]
    },
    {
     "name": "stderr",
     "output_type": "stream",
     "text": [
      "Running: pm2 pid script: 100%|██████████| 1/1 [00:02<00:00,  2.24s/it]\n"
     ]
    },
    {
     "name": "stdout",
     "output_type": "stream",
     "text": [
      "N(R-R15) is running\n",
      "Monitoring: N(R-R16)\n"
     ]
    },
    {
     "name": "stderr",
     "output_type": "stream",
     "text": [
      "Running: <function HUD._is_registered.<locals>.__get_is_registered at 0x159a491f0>: 100%|██████████| 1/1 [00:04<00:00,  4.43s/it]\n"
     ]
    },
    {
     "name": "stdout",
     "output_type": "stream",
     "text": [
      "N(R-R16) is registered\n"
     ]
    },
    {
     "name": "stderr",
     "output_type": "stream",
     "text": [
      "Running: pm2 pid script: 100%|██████████| 1/1 [00:02<00:00,  2.15s/it]\n"
     ]
    },
    {
     "name": "stdout",
     "output_type": "stream",
     "text": [
      "N(R-R16) is running\n",
      "Monitoring: N(R-R17)\n"
     ]
    },
    {
     "name": "stderr",
     "output_type": "stream",
     "text": [
      "Running: <function HUD._is_registered.<locals>.__get_is_registered at 0x123218d30>: 100%|██████████| 1/1 [00:04<00:00,  4.24s/it]\n"
     ]
    },
    {
     "name": "stdout",
     "output_type": "stream",
     "text": [
      "N(R-R17) is registered\n"
     ]
    },
    {
     "name": "stderr",
     "output_type": "stream",
     "text": [
      "Running: pm2 pid script: 100%|██████████| 1/1 [00:01<00:00,  1.80s/it]\n"
     ]
    },
    {
     "name": "stdout",
     "output_type": "stream",
     "text": [
      "N(R-R17) is running\n",
      "Monitoring: N(R-R18)\n"
     ]
    },
    {
     "name": "stderr",
     "output_type": "stream",
     "text": [
      "Running: <function HUD._is_registered.<locals>.__get_is_registered at 0x1587db940>: 100%|██████████| 1/1 [00:04<00:00,  4.21s/it]\n"
     ]
    },
    {
     "name": "stdout",
     "output_type": "stream",
     "text": [
      "N(R-R18) is registered\n"
     ]
    },
    {
     "name": "stderr",
     "output_type": "stream",
     "text": [
      "Running: pm2 pid script: 100%|██████████| 1/1 [00:02<00:00,  2.16s/it]\n"
     ]
    },
    {
     "name": "stdout",
     "output_type": "stream",
     "text": [
      "N(R-R18) is running\n",
      "Monitoring: N(R-R19)\n"
     ]
    },
    {
     "name": "stderr",
     "output_type": "stream",
     "text": [
      "Running: <function HUD._is_registered.<locals>.__get_is_registered at 0x158e954c0>: 100%|██████████| 1/1 [00:03<00:00,  3.96s/it]\n"
     ]
    },
    {
     "name": "stdout",
     "output_type": "stream",
     "text": [
      "N(R-R19) is registered\n"
     ]
    },
    {
     "name": "stderr",
     "output_type": "stream",
     "text": [
      "Running: pm2 pid script: 100%|██████████| 1/1 [00:02<00:00,  2.47s/it]\n"
     ]
    },
    {
     "name": "stdout",
     "output_type": "stream",
     "text": [
      "N(R-R19) is running\n",
      "Monitoring: N(R-R20)\n"
     ]
    },
    {
     "name": "stderr",
     "output_type": "stream",
     "text": [
      "Running: <function HUD._is_registered.<locals>.__get_is_registered at 0x1201ea280>: 100%|██████████| 1/1 [00:04<00:00,  4.31s/it]\n"
     ]
    },
    {
     "name": "stdout",
     "output_type": "stream",
     "text": [
      "N(R-R20) is registered\n"
     ]
    },
    {
     "name": "stderr",
     "output_type": "stream",
     "text": [
      "Running: pm2 pid script: 100%|██████████| 1/1 [00:01<00:00,  1.82s/it]\n"
     ]
    },
    {
     "name": "stdout",
     "output_type": "stream",
     "text": [
      "N(R-R20) is running\n",
      "Monitoring: N(R-R21)\n"
     ]
    },
    {
     "name": "stderr",
     "output_type": "stream",
     "text": [
      "Running: <function HUD._is_registered.<locals>.__get_is_registered at 0x158e954c0>: 100%|██████████| 1/1 [00:04<00:00,  4.32s/it]\n"
     ]
    },
    {
     "name": "stdout",
     "output_type": "stream",
     "text": [
      "N(R-R21) is registered\n"
     ]
    },
    {
     "name": "stderr",
     "output_type": "stream",
     "text": [
      "Running: pm2 pid script: 100%|██████████| 1/1 [00:02<00:00,  2.16s/it]\n"
     ]
    },
    {
     "name": "stdout",
     "output_type": "stream",
     "text": [
      "N(R-R21) is running\n",
      "Monitoring: N(R-R22)\n"
     ]
    },
    {
     "name": "stderr",
     "output_type": "stream",
     "text": [
      "Running: <function HUD._is_registered.<locals>.__get_is_registered at 0x158e95ca0>: 100%|██████████| 1/1 [00:04<00:00,  4.57s/it]\n"
     ]
    },
    {
     "name": "stdout",
     "output_type": "stream",
     "text": [
      "N(R-R22) is registered\n"
     ]
    },
    {
     "name": "stderr",
     "output_type": "stream",
     "text": [
      "Running: pm2 pid script: 100%|██████████| 1/1 [00:01<00:00,  1.48s/it]\n"
     ]
    },
    {
     "name": "stdout",
     "output_type": "stream",
     "text": [
      "N(R-R22) is running\n",
      "Monitoring: N(R-R23)\n"
     ]
    },
    {
     "name": "stderr",
     "output_type": "stream",
     "text": [
      "Running: <function HUD._is_registered.<locals>.__get_is_registered at 0x158f63670>: 100%|██████████| 1/1 [00:03<00:00,  3.40s/it]\n"
     ]
    },
    {
     "name": "stdout",
     "output_type": "stream",
     "text": [
      "N(R-R23) is registered\n"
     ]
    },
    {
     "name": "stderr",
     "output_type": "stream",
     "text": [
      "Running: pm2 pid script: 100%|██████████| 1/1 [00:02<00:00,  2.26s/it]\n"
     ]
    },
    {
     "name": "stdout",
     "output_type": "stream",
     "text": [
      "N(R-R23) is running\n",
      "Monitoring: N(R-R24)\n"
     ]
    },
    {
     "name": "stderr",
     "output_type": "stream",
     "text": [
      "Running: <function HUD._is_registered.<locals>.__get_is_registered at 0x158ea0a60>: 100%|██████████| 1/1 [00:04<00:00,  4.52s/it]\n"
     ]
    },
    {
     "name": "stdout",
     "output_type": "stream",
     "text": [
      "N(R-R24) is registered\n"
     ]
    },
    {
     "name": "stderr",
     "output_type": "stream",
     "text": [
      "Running: pm2 pid script: 100%|██████████| 1/1 [00:01<00:00,  1.98s/it]\n"
     ]
    },
    {
     "name": "stdout",
     "output_type": "stream",
     "text": [
      "N(R-R24) is running\n",
      "Monitoring: N(R-R25)\n"
     ]
    },
    {
     "name": "stderr",
     "output_type": "stream",
     "text": [
      "Running: <function HUD._is_registered.<locals>.__get_is_registered at 0x123925b80>: 100%|██████████| 1/1 [00:09<00:00,  9.15s/it]\n"
     ]
    },
    {
     "name": "stdout",
     "output_type": "stream",
     "text": [
      "N(R-R25) is registered\n"
     ]
    },
    {
     "name": "stderr",
     "output_type": "stream",
     "text": [
      "Running: pm2 pid script: 100%|██████████| 1/1 [00:03<00:00,  3.30s/it]\n"
     ]
    },
    {
     "name": "stdout",
     "output_type": "stream",
     "text": [
      "N(R-R25) is running\n",
      "Monitoring: N(R-R26)\n"
     ]
    },
    {
     "name": "stderr",
     "output_type": "stream",
     "text": [
      "Running: <function HUD._is_registered.<locals>.__get_is_registered at 0x1215bd5e0>: 100%|██████████| 1/1 [00:06<00:00,  6.66s/it]\n"
     ]
    },
    {
     "name": "stdout",
     "output_type": "stream",
     "text": [
      "N(R-R26) is registered\n"
     ]
    },
    {
     "name": "stderr",
     "output_type": "stream",
     "text": [
      "Running: pm2 pid script: 100%|██████████| 1/1 [00:04<00:00,  4.50s/it]\n"
     ]
    },
    {
     "name": "stdout",
     "output_type": "stream",
     "text": [
      "N(R-R26) is running\n",
      "Monitoring: N(R-R27)\n"
     ]
    },
    {
     "name": "stderr",
     "output_type": "stream",
     "text": [
      "Running: <function HUD._is_registered.<locals>.__get_is_registered at 0x159006ca0>: 100%|██████████| 1/1 [00:05<00:00,  5.09s/it]\n"
     ]
    },
    {
     "name": "stdout",
     "output_type": "stream",
     "text": [
      "N(R-R27) is registered\n"
     ]
    },
    {
     "name": "stderr",
     "output_type": "stream",
     "text": [
      "Running: pm2 pid script: 100%|██████████| 1/1 [00:01<00:00,  1.79s/it]\n"
     ]
    },
    {
     "name": "stdout",
     "output_type": "stream",
     "text": [
      "N(R-R27) is running\n",
      "Monitoring: N(R-R28)\n"
     ]
    },
    {
     "name": "stderr",
     "output_type": "stream",
     "text": [
      "Running: <function HUD._is_registered.<locals>.__get_is_registered at 0x159913310>: 100%|██████████| 1/1 [00:04<00:00,  4.58s/it]\n"
     ]
    },
    {
     "name": "stdout",
     "output_type": "stream",
     "text": [
      "N(R-R28) is registered\n"
     ]
    },
    {
     "name": "stderr",
     "output_type": "stream",
     "text": [
      "Running: pm2 pid script: 100%|██████████| 1/1 [00:02<00:00,  2.52s/it]\n"
     ]
    },
    {
     "name": "stdout",
     "output_type": "stream",
     "text": [
      "N(R-R28) is running\n",
      "Monitoring: N(R-R29)\n"
     ]
    },
    {
     "name": "stderr",
     "output_type": "stream",
     "text": [
      "Running: <function HUD._is_registered.<locals>.__get_is_registered at 0x1215bd700>: 100%|██████████| 1/1 [00:04<00:00,  4.55s/it]\n"
     ]
    },
    {
     "name": "stdout",
     "output_type": "stream",
     "text": [
      "N(R-R29) is registered\n"
     ]
    },
    {
     "name": "stderr",
     "output_type": "stream",
     "text": [
      "Running: pm2 pid script: 100%|██████████| 1/1 [00:02<00:00,  2.15s/it]\n"
     ]
    },
    {
     "name": "stdout",
     "output_type": "stream",
     "text": [
      "N(R-R29) is running\n",
      "Monitoring: N(R-R30)\n"
     ]
    },
    {
     "name": "stderr",
     "output_type": "stream",
     "text": [
      "Running: <function HUD._is_registered.<locals>.__get_is_registered at 0x158e8cd30>: 100%|██████████| 1/1 [00:04<00:00,  4.48s/it]\n"
     ]
    },
    {
     "name": "stdout",
     "output_type": "stream",
     "text": [
      "N(R-R30) is registered\n"
     ]
    },
    {
     "name": "stderr",
     "output_type": "stream",
     "text": [
      "Running: pm2 pid script: 100%|██████████| 1/1 [00:01<00:00,  1.43s/it]\n"
     ]
    },
    {
     "name": "stdout",
     "output_type": "stream",
     "text": [
      "N(R-R30) is running\n",
      "Monitoring: N(R-R31)\n"
     ]
    },
    {
     "name": "stderr",
     "output_type": "stream",
     "text": [
      "Running: <function HUD._is_registered.<locals>.__get_is_registered at 0x139ac6550>: 100%|██████████| 1/1 [00:04<00:00,  5.00s/it]\n"
     ]
    },
    {
     "name": "stdout",
     "output_type": "stream",
     "text": [
      "N(R-R31) is registered\n"
     ]
    },
    {
     "name": "stderr",
     "output_type": "stream",
     "text": [
      "Running: pm2 pid script: 100%|██████████| 1/1 [00:02<00:00,  2.18s/it]\n"
     ]
    },
    {
     "name": "stdout",
     "output_type": "stream",
     "text": [
      "N(R-R31) is running\n",
      "Monitoring: N(R-R32)\n"
     ]
    },
    {
     "name": "stderr",
     "output_type": "stream",
     "text": [
      "Running: <function HUD._is_registered.<locals>.__get_is_registered at 0x15cbb89d0>: 100%|██████████| 1/1 [00:04<00:00,  4.60s/it]\n"
     ]
    },
    {
     "name": "stdout",
     "output_type": "stream",
     "text": [
      "N(R-R32) is registered\n"
     ]
    },
    {
     "name": "stderr",
     "output_type": "stream",
     "text": [
      "Running: pm2 pid script: 100%|██████████| 1/1 [00:01<00:00,  1.62s/it]\n"
     ]
    },
    {
     "name": "stdout",
     "output_type": "stream",
     "text": [
      "N(R-R32) is running\n",
      "Monitoring: N(R-R33)\n"
     ]
    },
    {
     "name": "stderr",
     "output_type": "stream",
     "text": [
      "Running: <function HUD._is_registered.<locals>.__get_is_registered at 0x120b585e0>: 100%|██████████| 1/1 [00:04<00:00,  4.48s/it]\n"
     ]
    },
    {
     "name": "stdout",
     "output_type": "stream",
     "text": [
      "N(R-R33) is registered\n"
     ]
    },
    {
     "name": "stderr",
     "output_type": "stream",
     "text": [
      "Running: pm2 pid script: 100%|██████████| 1/1 [00:02<00:00,  2.15s/it]\n"
     ]
    },
    {
     "name": "stdout",
     "output_type": "stream",
     "text": [
      "N(R-R33) is running\n",
      "Monitoring: N(R-R34)\n"
     ]
    },
    {
     "name": "stderr",
     "output_type": "stream",
     "text": [
      "Running: <function HUD._is_registered.<locals>.__get_is_registered at 0x139bd88b0>: 100%|██████████| 1/1 [00:03<00:00,  3.31s/it]\n"
     ]
    },
    {
     "name": "stdout",
     "output_type": "stream",
     "text": [
      "N(R-R34) is registered\n"
     ]
    },
    {
     "name": "stderr",
     "output_type": "stream",
     "text": [
      "Running: pm2 pid script: 100%|██████████| 1/1 [00:03<00:00,  3.00s/it]\n"
     ]
    },
    {
     "name": "stdout",
     "output_type": "stream",
     "text": [
      "N(R-R34) is running\n",
      "Monitoring: N(R-R35)\n"
     ]
    },
    {
     "name": "stderr",
     "output_type": "stream",
     "text": [
      "Running: <function HUD._is_registered.<locals>.__get_is_registered at 0x139bd81f0>: 100%|██████████| 1/1 [00:03<00:00,  3.72s/it]\n"
     ]
    },
    {
     "name": "stdout",
     "output_type": "stream",
     "text": [
      "N(R-R35) is registered\n"
     ]
    },
    {
     "name": "stderr",
     "output_type": "stream",
     "text": [
      "Running: pm2 pid script: 100%|██████████| 1/1 [00:01<00:00,  1.98s/it]\n"
     ]
    },
    {
     "name": "stdout",
     "output_type": "stream",
     "text": [
      "N(R-R35) is running\n",
      "Monitoring: N(R-R36)\n"
     ]
    },
    {
     "name": "stderr",
     "output_type": "stream",
     "text": [
      "Running: <function HUD._is_registered.<locals>.__get_is_registered at 0x120b585e0>: 100%|██████████| 1/1 [00:04<00:00,  4.65s/it]\n"
     ]
    },
    {
     "name": "stdout",
     "output_type": "stream",
     "text": [
      "N(R-R36) is registered\n"
     ]
    },
    {
     "name": "stderr",
     "output_type": "stream",
     "text": [
      "Running: pm2 pid script: 100%|██████████| 1/1 [00:02<00:00,  2.67s/it]\n"
     ]
    },
    {
     "name": "stdout",
     "output_type": "stream",
     "text": [
      "N(R-R36) is running\n",
      "Monitoring: N(R-R37)\n"
     ]
    },
    {
     "name": "stderr",
     "output_type": "stream",
     "text": [
      "Running: <function HUD._is_registered.<locals>.__get_is_registered at 0x139bd83a0>: 100%|██████████| 1/1 [00:05<00:00,  5.51s/it]\n"
     ]
    },
    {
     "name": "stdout",
     "output_type": "stream",
     "text": [
      "N(R-R37) is not registered\n"
     ]
    },
    {
     "name": "stderr",
     "output_type": "stream",
     "text": [
      "Running: pkill -f pow.py & rm  pow_*:  13%|█▎        | 38/300 [00:12<00:08, 31.50it/s]Exception: Error reading SSH protocol banner\n",
      "Running: pkill -f pow.py & rm  pow_*:  13%|█▎        | 38/300 [00:28<00:08, 31.50it/s]Exception: Error reading SSH protocol banner\n",
      "Exception: Error reading SSH protocol banner\n",
      "Exception: Error reading SSH protocol banner\n",
      "Exception: Error reading SSH protocol banner\n",
      "Exception: Error reading SSH protocol banner\n",
      "Exception: Error reading SSH protocol banner\n",
      "Exception: Error reading SSH protocol banner\n",
      "Exception: Error reading SSH protocol banner\n",
      "Exception: Error reading SSH protocol banner\n",
      "Exception: Error reading SSH protocol banner\n",
      "Exception: Error reading SSH protocol banner\n",
      "Exception: Error reading SSH protocol banner\n",
      "Exception: Error reading SSH protocol banner\n",
      "Exception: Error reading SSH protocol banner\n",
      "Traceback (most recent call last):\n",
      "Traceback (most recent call last):\n",
      "Running: pkill -f pow.py & rm  pow_*:  13%|█▎        | 39/300 [00:37<08:54,  2.05s/it]Traceback (most recent call last):\n",
      "Traceback (most recent call last):\n",
      "Running: pkill -f pow.py & rm  pow_*:  14%|█▍        | 43/300 [00:37<22:34,  5.27s/it]Traceback (most recent call last):\n",
      "Running: pkill -f pow.py & rm  pow_*:  15%|█▌        | 46/300 [00:37<22:19,  5.27s/it]Traceback (most recent call last):\n",
      "Traceback (most recent call last):\n",
      "  File \"/opt/homebrew/lib/python3.9/site-packages/paramiko/transport.py\", line 2211, in _check_banner\n",
      "Traceback (most recent call last):\n",
      "Traceback (most recent call last):\n",
      "  File \"/opt/homebrew/lib/python3.9/site-packages/paramiko/transport.py\", line 2211, in _check_banner\n",
      "Traceback (most recent call last):\n",
      "Traceback (most recent call last):\n",
      "Traceback (most recent call last):\n",
      "Traceback (most recent call last):\n",
      "  File \"/opt/homebrew/lib/python3.9/site-packages/paramiko/transport.py\", line 2211, in _check_banner\n",
      "  File \"/opt/homebrew/lib/python3.9/site-packages/paramiko/transport.py\", line 2211, in _check_banner\n",
      "  File \"/opt/homebrew/lib/python3.9/site-packages/paramiko/transport.py\", line 2211, in _check_banner\n",
      "  File \"/opt/homebrew/lib/python3.9/site-packages/paramiko/transport.py\", line 2211, in _check_banner\n",
      "    buf = self.packetizer.readline(timeout)\n",
      "  File \"/opt/homebrew/lib/python3.9/site-packages/paramiko/packet.py\", line 380, in readline\n",
      "    buf += self._read_timeout(timeout)\n",
      "    buf = self.packetizer.readline(timeout)\n",
      "  File \"/opt/homebrew/lib/python3.9/site-packages/paramiko/transport.py\", line 2211, in _check_banner\n",
      "Traceback (most recent call last):\n",
      "    buf = self.packetizer.readline(timeout)\n",
      "  File \"/opt/homebrew/lib/python3.9/site-packages/paramiko/transport.py\", line 2211, in _check_banner\n",
      "  File \"/opt/homebrew/lib/python3.9/site-packages/paramiko/transport.py\", line 2211, in _check_banner\n",
      "    buf = self.packetizer.readline(timeout)\n",
      "  File \"/opt/homebrew/lib/python3.9/site-packages/paramiko/transport.py\", line 2211, in _check_banner\n",
      "    buf = self.packetizer.readline(timeout)\n",
      "    buf = self.packetizer.readline(timeout)\n",
      "    buf = self.packetizer.readline(timeout)\n",
      "  File \"/opt/homebrew/lib/python3.9/site-packages/paramiko/transport.py\", line 2211, in _check_banner\n",
      "    buf = self.packetizer.readline(timeout)\n",
      "Traceback (most recent call last):\n",
      "  File \"/opt/homebrew/lib/python3.9/site-packages/paramiko/packet.py\", line 622, in _read_timeout\n",
      "  File \"/opt/homebrew/lib/python3.9/site-packages/paramiko/packet.py\", line 380, in readline\n",
      "    buf = self.packetizer.readline(timeout)\n",
      "  File \"/opt/homebrew/lib/python3.9/site-packages/paramiko/transport.py\", line 2211, in _check_banner\n",
      "  File \"/opt/homebrew/lib/python3.9/site-packages/paramiko/packet.py\", line 380, in readline\n",
      "    buf = self.packetizer.readline(timeout)\n",
      "  File \"/opt/homebrew/lib/python3.9/site-packages/paramiko/packet.py\", line 380, in readline\n",
      "  File \"/opt/homebrew/lib/python3.9/site-packages/paramiko/packet.py\", line 380, in readline\n",
      "    buf = self.packetizer.readline(timeout)\n",
      "  File \"/opt/homebrew/lib/python3.9/site-packages/paramiko/packet.py\", line 380, in readline\n",
      "  File \"/opt/homebrew/lib/python3.9/site-packages/paramiko/packet.py\", line 380, in readline\n",
      "    buf += self._read_timeout(timeout)\n",
      "  File \"/opt/homebrew/lib/python3.9/site-packages/paramiko/transport.py\", line 2211, in _check_banner\n",
      "    buf = self.packetizer.readline(timeout)\n",
      "  File \"/opt/homebrew/lib/python3.9/site-packages/paramiko/packet.py\", line 380, in readline\n",
      "    raise socket.timeout()\n",
      "    buf += self._read_timeout(timeout)\n",
      "  File \"/opt/homebrew/lib/python3.9/site-packages/paramiko/packet.py\", line 380, in readline\n",
      "    buf = self.packetizer.readline(timeout)\n",
      "    buf += self._read_timeout(timeout)\n",
      "  File \"/opt/homebrew/lib/python3.9/site-packages/paramiko/transport.py\", line 2211, in _check_banner\n",
      "    buf = self.packetizer.readline(timeout)\n",
      "  File \"/opt/homebrew/lib/python3.9/site-packages/paramiko/packet.py\", line 380, in readline\n",
      "  File \"/opt/homebrew/lib/python3.9/site-packages/paramiko/packet.py\", line 380, in readline\n",
      "    buf += self._read_timeout(timeout)\n",
      "  File \"/opt/homebrew/lib/python3.9/site-packages/paramiko/packet.py\", line 380, in readline\n",
      "  File \"/opt/homebrew/lib/python3.9/site-packages/paramiko/packet.py\", line 622, in _read_timeout\n",
      "  File \"/opt/homebrew/lib/python3.9/site-packages/paramiko/packet.py\", line 380, in readline\n",
      "    buf += self._read_timeout(timeout)\n",
      "    buf += self._read_timeout(timeout)\n",
      "socket.timeout\n",
      "  File \"/opt/homebrew/lib/python3.9/site-packages/paramiko/packet.py\", line 622, in _read_timeout\n",
      "    buf += self._read_timeout(timeout)\n",
      "  File \"/opt/homebrew/lib/python3.9/site-packages/paramiko/packet.py\", line 380, in readline\n",
      "    buf += self._read_timeout(timeout)\n",
      "    buf += self._read_timeout(timeout)\n",
      "    buf += self._read_timeout(timeout)\n",
      "    buf += self._read_timeout(timeout)\n",
      "    buf += self._read_timeout(timeout)\n",
      "  File \"/opt/homebrew/lib/python3.9/site-packages/paramiko/packet.py\", line 622, in _read_timeout\n",
      "    buf += self._read_timeout(timeout)\n",
      "    raise socket.timeout()\n",
      "  File \"/opt/homebrew/lib/python3.9/site-packages/paramiko/transport.py\", line 2211, in _check_banner\n",
      "  File \"/opt/homebrew/lib/python3.9/site-packages/paramiko/packet.py\", line 622, in _read_timeout\n",
      "  File \"/opt/homebrew/lib/python3.9/site-packages/paramiko/packet.py\", line 622, in _read_timeout\n",
      "\n",
      "    raise socket.timeout()\n",
      "socket.timeout\n",
      "  File \"/opt/homebrew/lib/python3.9/site-packages/paramiko/packet.py\", line 622, in _read_timeout\n",
      "    raise socket.timeout()\n",
      "  File \"/opt/homebrew/lib/python3.9/site-packages/paramiko/packet.py\", line 622, in _read_timeout\n",
      "Running: pkill -f pow.py & rm  pow_*:  22%|██▏       | 65/300 [00:37<06:00,  1.54s/it]  File \"/opt/homebrew/lib/python3.9/site-packages/paramiko/packet.py\", line 622, in _read_timeout\n",
      "    raise socket.timeout()\n",
      "  File \"/opt/homebrew/lib/python3.9/site-packages/paramiko/packet.py\", line 622, in _read_timeout\n",
      "    raise socket.timeout()\n",
      "socket.timeout\n",
      "socket.timeout\n",
      "    buf = self.packetizer.readline(timeout)\n",
      "    raise socket.timeout()\n",
      "socket.timeout\n",
      "During handling of the above exception, another exception occurred:\n",
      "\n",
      "Traceback (most recent call last):\n",
      "  File \"/opt/homebrew/lib/python3.9/site-packages/paramiko/packet.py\", line 622, in _read_timeout\n",
      "socket.timeout\n",
      "    raise socket.timeout()\n",
      "  File \"/opt/homebrew/lib/python3.9/site-packages/paramiko/packet.py\", line 622, in _read_timeout\n",
      "    raise socket.timeout()\n",
      "    raise socket.timeout()\n",
      "socket.timeout\n",
      "\n",
      "\n",
      "  File \"/opt/homebrew/lib/python3.9/site-packages/paramiko/packet.py\", line 380, in readline\n",
      "    buf += self._read_timeout(timeout)\n",
      "\n",
      "  File \"/opt/homebrew/lib/python3.9/site-packages/paramiko/packet.py\", line 622, in _read_timeout\n",
      "    raise socket.timeout()\n",
      "  File \"/opt/homebrew/lib/python3.9/site-packages/paramiko/transport.py\", line 2039, in run\n",
      "    raise socket.timeout()\n",
      "\n",
      "socket.timeout\n",
      "\n",
      "socket.timeout\n",
      "  File \"/opt/homebrew/lib/python3.9/site-packages/paramiko/packet.py\", line 622, in _read_timeout\n",
      "\n",
      "During handling of the above exception, another exception occurred:\n",
      "During handling of the above exception, another exception occurred:\n",
      "    raise socket.timeout()\n",
      "  File \"/opt/homebrew/lib/python3.9/site-packages/paramiko/packet.py\", line 622, in _read_timeout\n",
      "During handling of the above exception, another exception occurred:\n",
      "\n",
      "socket.timeout\n",
      "\n",
      "socket.timeout\n",
      "During handling of the above exception, another exception occurred:\n",
      "socket.timeout\n",
      "During handling of the above exception, another exception occurred:\n",
      "\n",
      "Traceback (most recent call last):\n",
      "  File \"/opt/homebrew/lib/python3.9/site-packages/paramiko/transport.py\", line 2039, in run\n",
      "\n",
      "\n",
      "socket.timeout\n",
      "\n",
      "During handling of the above exception, another exception occurred:\n",
      "During handling of the above exception, another exception occurred:\n",
      "\n",
      "During handling of the above exception, another exception occurred:\n",
      "\n",
      "\n",
      "\n",
      "\n",
      "    raise socket.timeout()\n",
      "During handling of the above exception, another exception occurred:\n",
      "    self._check_banner()\n",
      "Traceback (most recent call last):\n",
      "Traceback (most recent call last):\n",
      "    raise socket.timeout()\n",
      "\n",
      "Traceback (most recent call last):\n",
      "    self._check_banner()\n",
      "  File \"/opt/homebrew/lib/python3.9/site-packages/paramiko/transport.py\", line 2215, in _check_banner\n",
      "    raise SSHException(\n",
      "Traceback (most recent call last):\n",
      "Traceback (most recent call last):\n",
      "During handling of the above exception, another exception occurred:\n",
      "During handling of the above exception, another exception occurred:\n",
      "socket.timeout\n",
      "\n",
      "  File \"/opt/homebrew/lib/python3.9/site-packages/paramiko/transport.py\", line 2215, in _check_banner\n",
      "  File \"/opt/homebrew/lib/python3.9/site-packages/paramiko/transport.py\", line 2039, in run\n",
      "  File \"/opt/homebrew/lib/python3.9/site-packages/paramiko/transport.py\", line 2039, in run\n",
      "socket.timeout\n",
      "\n",
      "  File \"/opt/homebrew/lib/python3.9/site-packages/paramiko/transport.py\", line 2039, in run\n",
      "Traceback (most recent call last):\n",
      "\n",
      "paramiko.ssh_exception.SSHException: Error reading SSH protocol banner\n",
      "  File \"/opt/homebrew/lib/python3.9/site-packages/paramiko/transport.py\", line 2039, in run\n",
      "  File \"/opt/homebrew/lib/python3.9/site-packages/paramiko/transport.py\", line 2039, in run\n",
      "    self._check_banner()\n",
      "  File \"/opt/homebrew/lib/python3.9/site-packages/paramiko/transport.py\", line 2215, in _check_banner\n",
      "\n",
      "Traceback (most recent call last):\n",
      "    raise SSHException(\n",
      "    self._check_banner()\n",
      "    self._check_banner()\n",
      "  File \"/opt/homebrew/lib/python3.9/site-packages/paramiko/transport.py\", line 2215, in _check_banner\n",
      "Traceback (most recent call last):\n",
      "    self._check_banner()\n",
      "  File \"/opt/homebrew/lib/python3.9/site-packages/paramiko/transport.py\", line 2039, in run\n",
      "During handling of the above exception, another exception occurred:\n",
      "\n",
      "Traceback (most recent call last):\n",
      "\n",
      "\n",
      "Traceback (most recent call last):\n",
      "  File \"/opt/homebrew/lib/python3.9/site-packages/paramiko/transport.py\", line 2039, in run\n",
      "Running: pkill -f pow.py & rm  pow_*:  27%|██▋       | 81/300 [00:37<02:57,  1.23it/s]  File \"/opt/homebrew/lib/python3.9/site-packages/paramiko/transport.py\", line 2039, in run\n",
      "Running: pkill -f pow.py & rm  pow_*:  27%|██▋       | 82/300 [00:37<01:43,  2.11it/s]paramiko.ssh_exception.SSHException: Error reading SSH protocol banner\n",
      "\n",
      "\n",
      "During handling of the above exception, another exception occurred:\n",
      "  File \"/opt/homebrew/lib/python3.9/site-packages/paramiko/transport.py\", line 2039, in run\n",
      "  File \"/opt/homebrew/lib/python3.9/site-packages/paramiko/transport.py\", line 2215, in _check_banner\n",
      "    raise SSHException(\n",
      "paramiko.ssh_exception.SSHException: Error reading SSH protocol banner\n",
      "\n",
      "  File \"/opt/homebrew/lib/python3.9/site-packages/paramiko/transport.py\", line 2039, in run\n",
      "Traceback (most recent call last):\n",
      "    raise SSHException(\n",
      "During handling of the above exception, another exception occurred:\n",
      "    self._check_banner()\n",
      "    self._check_banner()\n",
      "  File \"/opt/homebrew/lib/python3.9/site-packages/paramiko/transport.py\", line 2215, in _check_banner\n",
      "    raise SSHException(\n",
      "paramiko.ssh_exception.SSHException: Error reading SSH protocol banner\n",
      "\n",
      "    self._check_banner()\n",
      "\n",
      "    self._check_banner()\n",
      "    self._check_banner()\n",
      "  File \"/opt/homebrew/lib/python3.9/site-packages/paramiko/transport.py\", line 2039, in run\n",
      "paramiko.ssh_exception.SSHException: Error reading SSH protocol banner\n",
      "\n",
      "  File \"/opt/homebrew/lib/python3.9/site-packages/paramiko/transport.py\", line 2215, in _check_banner\n",
      "  File \"/opt/homebrew/lib/python3.9/site-packages/paramiko/transport.py\", line 2215, in _check_banner\n",
      "    raise SSHException(\n",
      "\n",
      "    self._check_banner()\n",
      "  File \"/opt/homebrew/lib/python3.9/site-packages/paramiko/transport.py\", line 2215, in _check_banner\n",
      "  File \"/opt/homebrew/lib/python3.9/site-packages/paramiko/transport.py\", line 2215, in _check_banner\n",
      "  File \"/opt/homebrew/lib/python3.9/site-packages/paramiko/transport.py\", line 2215, in _check_banner\n",
      "    self._check_banner()\n",
      "\n",
      "Traceback (most recent call last):\n",
      "    raise SSHException(\n",
      "    raise SSHException(\n",
      "paramiko.ssh_exception.SSHException: Error reading SSH protocol banner\n",
      "Traceback (most recent call last):\n",
      "  File \"/opt/homebrew/lib/python3.9/site-packages/paramiko/transport.py\", line 2215, in _check_banner\n",
      "    raise SSHException(\n",
      "    raise SSHException(\n",
      "    raise SSHException(\n",
      "  File \"/opt/homebrew/lib/python3.9/site-packages/paramiko/transport.py\", line 2215, in _check_banner\n",
      "  File \"/opt/homebrew/lib/python3.9/site-packages/paramiko/transport.py\", line 2039, in run\n",
      "paramiko.ssh_exception.SSHException: Error reading SSH protocol banner\n",
      "paramiko.ssh_exception.SSHException: Error reading SSH protocol banner\n",
      "\n",
      "  File \"/opt/homebrew/lib/python3.9/site-packages/paramiko/transport.py\", line 2039, in run\n",
      "paramiko.ssh_exception.SSHException: Error reading SSH protocol banner\n",
      "    raise SSHException(\n",
      "paramiko.ssh_exception.SSHException: Error reading SSH protocol banner\n",
      "paramiko.ssh_exception.SSHException: Error reading SSH protocol banner\n",
      "    raise SSHException(\n",
      "paramiko.ssh_exception.SSHException: Error reading SSH protocol banner\n",
      "\n",
      "\n",
      "    self._check_banner()\n",
      "Running: pkill -f pow.py & rm  pow_*:  34%|███▍      | 102/300 [00:37<00:55,  3.56it/s]\n",
      "Running: pkill -f pow.py & rm  pow_*:  36%|███▌      | 107/300 [00:37<00:22,  8.71it/s]paramiko.ssh_exception.SSHException: Error reading SSH protocol banner\n",
      "Running: pkill -f pow.py & rm  pow_*:  36%|███▌      | 108/300 [00:37<00:22,  8.71it/s]\n",
      "\n",
      "    self._check_banner()\n",
      "\n",
      "  File \"/opt/homebrew/lib/python3.9/site-packages/paramiko/transport.py\", line 2215, in _check_banner\n",
      "\n",
      "  File \"/opt/homebrew/lib/python3.9/site-packages/paramiko/transport.py\", line 2215, in _check_banner\n",
      "    raise SSHException(\n",
      "    raise SSHException(\n",
      "paramiko.ssh_exception.SSHException: Error reading SSH protocol banner\n",
      "paramiko.ssh_exception.SSHException: Error reading SSH protocol banner\n",
      "\n",
      "\n",
      "Running: pkill -f pow.py & rm  pow_*: 100%|█████████▉| 299/300 [00:41<00:00, 34.34it/s]"
     ]
    },
    {
     "name": "stdout",
     "output_type": "stream",
     "text": [
      "Killing pow: [N(R-R0), N(R-R1), N(R-R2), N(R-R3), N(R-R4), N(R-R5), N(R-R6), N(R-R7), N(R-R8), N(R-R9), N(R-R10), N(R-R11), N(R-R12), N(R-R13), N(R-R14), N(R-R15), N(R-R16), N(R-R17), N(R-R18), N(R-R19), N(R-R20), N(R-R21), N(R-R22), N(R-R23), N(R-R24), N(R-R25), N(R-R26), N(R-R27), N(R-R28), N(R-R29), N(R-R30), N(R-R31), N(R-R32), N(R-R33), N(R-R34), N(R-R35), N(R-R36), N(R-R37), N(R-R38), N(R-R39), N(R-R40), N(R-R41), N(R-R42), N(R-R43), N(R-R44), N(R-R45), N(R-R46), N(R-R47), N(R-R48), N(R-R49), N(R-R50), N(R-R51), N(R-R52), N(R-R53), N(R-R54), N(R-R55), N(R-R56), N(R-R57), N(R-R58), N(R-R59), N(R-R60), N(R-R61), N(R-R62), N(R-R63), N(R-R64), N(R-R65), N(R-R66), N(R-R67), N(R-R68), N(R-R69), N(R-R70), N(R-R71), N(R-R72), N(R-R73), N(R-R74), N(R-R75), N(R-R76), N(R-R77), N(R-R78), N(R-R79), N(R-R80), N(R-R81), N(R-R82), N(R-R83), N(R-R84), N(R-R85), N(R-R86), N(R-R87), N(R-R88), N(R-R89), N(R-R90), N(R-R91), N(R-R92), N(R-R93), N(R-R94), N(R-R95), N(R-R96), N(R-R97), N(R-R98), N(R-R99), N(R-R100), N(R-R101), N(R-R102), N(R-R103), N(R-R104), N(R-R105), N(R-R106), N(R-R107), N(R-R108), N(R-R109), N(R-R110), N(R-R111), N(R-R112), N(R-R113), N(R-R114), N(R-R115), N(R-R116), N(R-R117), N(R-R118), N(R-R119), N(R-R120), N(R-R121), N(R-R122), N(R-R123), N(R-R124), N(R-R125), N(R-R126), N(R-R127), N(R-R128), N(R-R129), N(R-R130), N(R-R131), N(R-R132), N(R-R133), N(R-R134), N(R-R135), N(R-R136), N(R-R137), N(R-R138), N(R-R139), N(R-R140), N(R-R141), N(R-R142), N(R-R143), N(R-R144), N(R-R145), N(R-R146), N(R-R147), N(R-R148), N(R-R149), N(R-R150), N(R-R151), N(R-R152), N(R-R153), N(R-R154), N(R-R155), N(R-R156), N(R-R157), N(R-R158), N(R-R159), N(R-R160), N(R-R161), N(R-R162), N(R-R163), N(R-R164), N(R-R165), N(R-R166), N(R-R167), N(R-R168), N(R-R169), N(R-R170), N(R-R171), N(R-R172), N(R-R173), N(R-R174), N(R-R175), N(R-R176), N(R-R177), N(R-R178), N(R-R179), N(R-R180), N(R-R181), N(R-R182), N(R-R183), N(R-R184), N(R-R185), N(R-R186), N(R-R187), N(R-R188), N(R-R189), N(R-R190), N(R-R191), N(R-R192), N(R-R193), N(R-R194), N(R-R195), N(R-R196), N(R-R197), N(R-R198), N(R-R199), N(R-R200), N(R-R201), N(R-R202), N(R-R203), N(R-R204), N(R-R205), N(R-R206), N(R-R207), N(R-R208), N(R-R209), N(R-R210), N(R-R211), N(R-R212), N(R-R213), N(R-R214), N(R-R215), N(R-R216), N(R-R217), N(R-R218), N(R-R219), N(R-R220), N(R-R221), N(R-R222), N(R-R223), N(R-R224), N(R-R225), N(R-R226), N(R-R227), N(R-R228), N(R-R229), N(R-R230), N(R-R231), N(R-R232), N(R-R233), N(R-R234), N(R-R235), N(R-R236), N(R-R237), N(R-R238), N(R-R239), N(R-R240), N(R-R241), N(R-R242), N(R-R243), N(R-R244), N(R-R245), N(R-R246), N(R-R247), N(R-R248), N(R-R249), N(R-R250), N(R-R251), N(R-R252), N(R-R253), N(R-R254), N(R-R255), N(R-R256), N(R-R257), N(R-R258), N(R-R259), N(R-R260), N(R-R261), N(R-R262), N(R-R263), N(R-R264), N(R-R265), N(R-R266), N(R-R267), N(R-R268), N(R-R269), N(R-R270), N(R-R271), N(R-R272), N(R-R273), N(R-R274), N(R-R275), N(R-R276), N(R-R277), N(R-R278), N(R-R279), N(R-R280), N(R-R281), N(R-R282), N(R-R283), N(R-R284), N(R-R285), N(R-R286), N(R-R287), N(R-R288), N(R-R289), N(R-R290), N(R-R291), N(R-R292), N(R-R293), N(R-R294), N(R-R295), N(R-R296), N(R-R297), N(R-R298), N(R-R299)]\n",
      "INFO Starting PoW | targets:[N(R-R37)] workers: [N(R-R0), N(R-R1), N(R-R2), N(R-R3), N(R-R4), N(R-R5), N(R-R6), N(R-R7), N(R-R8), N(R-R9), N(R-R10), N(R-R11), N(R-R12), N(R-R13), N(R-R14), N(R-R15), N(R-R16), N(R-R17), N(R-R18), N(R-R19), N(R-R20), N(R-R21), N(R-R22), N(R-R23), N(R-R24), N(R-R25), N(R-R26), N(R-R27), N(R-R28), N(R-R29), N(R-R30), N(R-R31), N(R-R32), N(R-R33), N(R-R34), N(R-R35), N(R-R36), N(R-R37), N(R-R38), N(R-R39), N(R-R40), N(R-R41), N(R-R42), N(R-R43), N(R-R44), N(R-R45), N(R-R46), N(R-R47), N(R-R48), N(R-R49), N(R-R50), N(R-R51), N(R-R52), N(R-R53), N(R-R54), N(R-R55), N(R-R56), N(R-R57), N(R-R58), N(R-R59), N(R-R60), N(R-R61), N(R-R62), N(R-R63), N(R-R64), N(R-R65), N(R-R66), N(R-R67), N(R-R68), N(R-R69), N(R-R70), N(R-R71), N(R-R72), N(R-R73), N(R-R74), N(R-R75), N(R-R76), N(R-R77), N(R-R78), N(R-R79), N(R-R80), N(R-R81), N(R-R82), N(R-R83), N(R-R84), N(R-R85), N(R-R86), N(R-R87), N(R-R88), N(R-R89), N(R-R90), N(R-R91), N(R-R92), N(R-R93), N(R-R94), N(R-R95), N(R-R96), N(R-R97), N(R-R98), N(R-R99), N(R-R100), N(R-R101), N(R-R102), N(R-R103), N(R-R104), N(R-R105), N(R-R106), N(R-R107), N(R-R108), N(R-R109), N(R-R110), N(R-R111), N(R-R112), N(R-R113), N(R-R114), N(R-R115), N(R-R116), N(R-R117), N(R-R118), N(R-R119), N(R-R120), N(R-R121), N(R-R122), N(R-R123), N(R-R124), N(R-R125), N(R-R126), N(R-R127), N(R-R128), N(R-R129), N(R-R130), N(R-R131), N(R-R132), N(R-R133), N(R-R134), N(R-R135), N(R-R136), N(R-R137), N(R-R138), N(R-R139), N(R-R140), N(R-R141), N(R-R142), N(R-R143), N(R-R144), N(R-R145), N(R-R146), N(R-R147), N(R-R148), N(R-R149), N(R-R150), N(R-R151), N(R-R152), N(R-R153), N(R-R154), N(R-R155), N(R-R156), N(R-R157), N(R-R158), N(R-R159), N(R-R160), N(R-R161), N(R-R162), N(R-R163), N(R-R164), N(R-R165), N(R-R166), N(R-R167), N(R-R168), N(R-R169), N(R-R170), N(R-R171), N(R-R172), N(R-R173), N(R-R174), N(R-R175), N(R-R176), N(R-R177), N(R-R178), N(R-R179), N(R-R180), N(R-R181), N(R-R182), N(R-R183), N(R-R184), N(R-R185), N(R-R186), N(R-R187), N(R-R188), N(R-R189), N(R-R190), N(R-R191), N(R-R192), N(R-R193), N(R-R194), N(R-R195), N(R-R196), N(R-R197), N(R-R198), N(R-R199), N(R-R200), N(R-R201), N(R-R202), N(R-R203), N(R-R204), N(R-R205), N(R-R206), N(R-R207), N(R-R208), N(R-R209), N(R-R210), N(R-R211), N(R-R212), N(R-R213), N(R-R214), N(R-R215), N(R-R216), N(R-R217), N(R-R218), N(R-R219), N(R-R220), N(R-R221), N(R-R222), N(R-R223), N(R-R224), N(R-R225), N(R-R226), N(R-R227), N(R-R228), N(R-R229), N(R-R230), N(R-R231), N(R-R232), N(R-R233), N(R-R234), N(R-R235), N(R-R236), N(R-R237), N(R-R238), N(R-R239), N(R-R240), N(R-R241), N(R-R242), N(R-R243), N(R-R244), N(R-R245), N(R-R246), N(R-R247), N(R-R248), N(R-R249), N(R-R250), N(R-R251), N(R-R252), N(R-R253), N(R-R254), N(R-R255), N(R-R256), N(R-R257), N(R-R258), N(R-R259), N(R-R260), N(R-R261), N(R-R262), N(R-R263), N(R-R264), N(R-R265), N(R-R266), N(R-R267), N(R-R268), N(R-R269), N(R-R270), N(R-R271), N(R-R272), N(R-R273), N(R-R274), N(R-R275), N(R-R276), N(R-R277), N(R-R278), N(R-R279), N(R-R280), N(R-R281), N(R-R282), N(R-R283), N(R-R284), N(R-R285), N(R-R286), N(R-R287), N(R-R288), N(R-R289), N(R-R290), N(R-R291), N(R-R292), N(R-R293), N(R-R294), N(R-R295), N(R-R296), N(R-R297), N(R-R298), N(R-R299)]\n"
     ]
    },
    {
     "name": "stderr",
     "output_type": "stream",
     "text": [
      "Running: <function HUD._is_registered.<locals>.__get_is_registered at 0x125072dc0>: 100%|██████████| 1/1 [00:02<00:00,  2.37s/it]\n",
      "\n",
      "Running: pkill -f **hR37** & rm **hR37**:  15%|█▍        | 44/300 [00:28<02:55,  1.46it/s]\n",
      "Unknown exception: can't start new threadUnknown exception: can't start new thread\n",
      "\n",
      "Traceback (most recent call last):\n",
      "Running: pkill -f **hR37** & rm **hR37**:  22%|██▏       | 65/300 [00:28<01:47,  2.19it/s]  File \"/opt/homebrew/lib/python3.9/site-packages/paramiko/transport.py\", line 2047, in run\n",
      "Traceback (most recent call last):    self.packetizer.start_handshake(self.handshake_timeout)\n",
      "\n",
      "  File \"/opt/homebrew/lib/python3.9/site-packages/paramiko/transport.py\", line 2047, in run  File \"/opt/homebrew/lib/python3.9/site-packages/paramiko/packet.py\", line 252, in start_handshake\n",
      "\n",
      "    self.packetizer.start_handshake(self.handshake_timeout)\n",
      "Running: pkill -f **hR37** & rm **hR37**:  22%|██▏       | 65/300 [00:28<01:47,  2.19it/s]    self.__timer.start()  File \"/opt/homebrew/Cellar/python@3.9/3.9.12/Frameworks/Python.framework/Versions/3.9/lib/python3.9/threading.py\", line 892, in start\n",
      "\n",
      "Running: pkill -f **hR37** & rm **hR37**:  22%|██▏       | 65/300 [00:28<01:47,  2.19it/s]  File \"/opt/homebrew/lib/python3.9/site-packages/paramiko/packet.py\", line 252, in start_handshake    self.__timer.start()\n",
      "\n",
      "    _start_new_thread(self._bootstrap, ())  File \"/opt/homebrew/Cellar/python@3.9/3.9.12/Frameworks/Python.framework/Versions/3.9/lib/python3.9/threading.py\", line 892, in start\n",
      "\n",
      "RuntimeError: can't start new thread\n",
      "Running: pkill -f **hR37** & rm **hR37**:  22%|██▏       | 65/300 [00:28<01:47,  2.19it/s]    _start_new_thread(self._bootstrap, ())\n",
      "RuntimeError: can't start new thread\n",
      "\n",
      "\n",
      "Unknown exception: can't start new thread\n",
      "Unknown exception: can't start new thread\n",
      "Unknown exception: can't start new thread\n",
      "Running: pkill -f **hR37** & rm **hR37**:  59%|█████▊    | 176/300 [00:29<00:08, 13.87it/s]Unknown exception: can't start new threadTraceback (most recent call last):\n",
      "\n",
      "Traceback (most recent call last):\n",
      "Running: pkill -f **hR37** & rm **hR37**:  69%|██████▉   | 208/300 [00:29<00:08, 10.36it/s]Traceback (most recent call last):\n",
      "Traceback (most recent call last):\n",
      "Running: pkill -f **hR37** & rm **hR37**:  73%|███████▎  | 218/300 [00:29<00:12,  6.58it/s]  File \"/opt/homebrew/lib/python3.9/site-packages/paramiko/transport.py\", line 2047, in run\n",
      "  File \"/opt/homebrew/lib/python3.9/site-packages/paramiko/transport.py\", line 2047, in run\n",
      "Running: pkill -f **hR37** & rm **hR37**:  74%|███████▍  | 223/300 [00:29<00:17,  4.39it/s]  File \"/opt/homebrew/lib/python3.9/site-packages/paramiko/transport.py\", line 2047, in run  File \"/opt/homebrew/lib/python3.9/site-packages/paramiko/transport.py\", line 2047, in run\n",
      "    self.packetizer.start_handshake(self.handshake_timeout)\n",
      "\n",
      "Running: pkill -f **hR37** & rm **hR37**:  85%|████████▍ | 254/300 [00:29<00:03, 15.10it/s]    self.packetizer.start_handshake(self.handshake_timeout)    self.packetizer.start_handshake(self.handshake_timeout)\n",
      "\n",
      "    self.packetizer.start_handshake(self.handshake_timeout)\n",
      "Running: pkill -f **hR37** & rm **hR37**:  88%|████████▊ | 264/300 [00:29<00:02, 14.61it/s]  File \"/opt/homebrew/lib/python3.9/site-packages/paramiko/packet.py\", line 252, in start_handshake\n",
      "  File \"/opt/homebrew/lib/python3.9/site-packages/paramiko/packet.py\", line 252, in start_handshake\n",
      "\u001b[A\n",
      "Running: pkill -f **hR37** & rm **hR37**:  88%|████████▊ | 264/300 [00:29<00:02, 14.61it/s]  File \"/opt/homebrew/lib/python3.9/site-packages/paramiko/packet.py\", line 252, in start_handshake  File \"/opt/homebrew/lib/python3.9/site-packages/paramiko/packet.py\", line 252, in start_handshake\n",
      "\n",
      "Running: pkill -f **hR37** & rm **hR37**:  88%|████████▊ | 264/300 [00:29<00:02, 14.61it/s]    self.__timer.start()\n",
      "  File \"/opt/homebrew/Cellar/python@3.9/3.9.12/Frameworks/Python.framework/Versions/3.9/lib/python3.9/threading.py\", line 892, in start    self.__timer.start()\n",
      "\n",
      "Running: pkill -f **hR37** & rm **hR37**:  88%|████████▊ | 264/300 [00:29<00:02, 14.61it/s]    self.__timer.start()    self.__timer.start()\n",
      "    _start_new_thread(self._bootstrap, ())\n",
      "\n",
      "  File \"/opt/homebrew/Cellar/python@3.9/3.9.12/Frameworks/Python.framework/Versions/3.9/lib/python3.9/threading.py\", line 892, in start\n",
      "Running: pkill -f **hR37** & rm **hR37**:  88%|████████▊ | 264/300 [00:29<00:02, 14.61it/s]  File \"/opt/homebrew/Cellar/python@3.9/3.9.12/Frameworks/Python.framework/Versions/3.9/lib/python3.9/threading.py\", line 892, in start\n",
      "  File \"/opt/homebrew/Cellar/python@3.9/3.9.12/Frameworks/Python.framework/Versions/3.9/lib/python3.9/threading.py\", line 892, in start\n",
      "Running: pkill -f **hR37** & rm **hR37**:  88%|████████▊ | 264/300 [00:29<00:02, 14.61it/s]RuntimeError: can't start new thread    _start_new_thread(self._bootstrap, ())\n",
      "\n",
      "    _start_new_thread(self._bootstrap, ())\n",
      "Running: pkill -f **hR37** & rm **hR37**:  88%|████████▊ | 264/300 [00:29<00:02, 14.61it/s]    _start_new_thread(self._bootstrap, ())\n",
      "\n",
      "RuntimeError: can't start new thread\n",
      "Running: pkill -f **hR37** & rm **hR37**:  88%|████████▊ | 265/300 [00:29<00:03, 10.56it/s]RuntimeError: can't start new threadRuntimeError: can't start new thread\n",
      "\n",
      "\n",
      "Running: pkill -f **hR37** & rm **hR37**:  88%|████████▊ | 265/300 [00:29<00:03, 10.56it/s]\n",
      "Running: pkill -f pow.py & rm  pow_*: 100%|██████████| 300/300 [01:13<00:00,  4.07it/s]\n",
      "\n"
     ]
    }
   ],
   "source": [
    "import time\n",
    "from hud import HUD\n",
    "\n",
    "R = HUD.load_from_config(project=\"R\")\n",
    "miners = R\n",
    "pow_workers = R\n",
    "while True:\n",
    "    try:\n",
    "        R = HUD.load_from_config(project=\"R\")\n",
    "        miners = R\n",
    "        pow_workers = R\n",
    "        print(\"Starting\")\n",
    "        for r in miners:\n",
    "            print( \"Monitoring: {}\".format(r) )\n",
    "            if not r.is_registered():\n",
    "                print( \"{} is not registered\".format(r) )\n",
    "                pow_workers.kill_pow()\n",
    "                print( \"Killing pow: {}\".format( pow_workers ) )\n",
    "                pow_workers.pow( r )\n",
    "                print( \"Starting pow: {}\".format( pow_workers ) )\n",
    "                while True:\n",
    "                    if r.is_registered():\n",
    "                        print( \"{} was just registered\".format(r) )\n",
    "                        break\n",
    "                    else:\n",
    "                        print( \"Waiting ... \" )\n",
    "                        time.sleep(60)\n",
    "                pow_workers.kill_pow( r )\n",
    "            else:\n",
    "                print( \"{} is registered\".format(r) )\n",
    "            \n",
    "            if not r.is_running():\n",
    "                print( \"{} is not running\".format(r) )\n",
    "                r.start()\n",
    "                print( \"{} is running\".format(r) )\n",
    "            else:\n",
    "                print( \"{} is running\".format(r) )\n",
    "\n",
    "    except Exception as e:\n",
    "        R = HUD.load_from_config(project=\"R\")\n",
    "        miners = R\n",
    "        pow_workers = R\n",
    "        print ( e )\n"
   ]
  },
  {
   "cell_type": "code",
   "execution_count": null,
   "metadata": {},
   "outputs": [],
   "source": [
    "R.kill_pow()"
   ]
  },
  {
   "cell_type": "code",
   "execution_count": null,
   "metadata": {},
   "outputs": [],
   "source": [
    "\n",
    "\n",
    "totals = {}\n",
    "for dic in result.values():\n",
    "    for key, value in dic.items():\n",
    "        if key not in totals: totals[key] = 0\n",
    "        totals[key] += value\n",
    "\n",
    "print(totals)\n",
    "\n"
   ]
  },
  {
   "cell_type": "code",
   "execution_count": null,
   "metadata": {},
   "outputs": [],
   "source": [
    "result = R.iters()"
   ]
  },
  {
   "cell_type": "code",
   "execution_count": null,
   "metadata": {},
   "outputs": [],
   "source": [
    "\n"
   ]
  },
  {
   "cell_type": "code",
   "execution_count": null,
   "metadata": {},
   "outputs": [],
   "source": []
  }
 ],
 "metadata": {
  "interpreter": {
   "hash": "b0fa6594d8f4cbf19f97940f81e996739fb7646882a419484c72d19e05852a7e"
  },
  "kernelspec": {
   "display_name": "Python 3.9.12 64-bit",
   "language": "python",
   "name": "python3"
  },
  "language_info": {
   "codemirror_mode": {
    "name": "ipython",
    "version": 3
   },
   "file_extension": ".py",
   "mimetype": "text/x-python",
   "name": "python",
   "nbconvert_exporter": "python",
   "pygments_lexer": "ipython3",
   "version": "3.9.12"
  },
  "orig_nbformat": 4
 },
 "nbformat": 4,
 "nbformat_minor": 2
}
