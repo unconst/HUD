{
 "cells": [
  {
   "cell_type": "code",
   "execution_count": 46,
   "metadata": {},
   "outputs": [
    {
     "name": "stdout",
     "output_type": "stream",
     "text": [
      "[<Droplet: 295186682 B0>]\n"
     ]
    }
   ],
   "source": [
    "\n",
    "import digitalocean\n",
    "import os\n",
    "\n",
    "manager = digitalocean.Manager( token = os.getenv( 'MARIUS_DOTOKEN' ) ) \n",
    "my_droplets = manager.get_all_droplets(tag_name=\"B\")\n",
    "print(my_droplets)\n"
   ]
  },
  {
   "cell_type": "code",
   "execution_count": 44,
   "metadata": {},
   "outputs": [],
   "source": [
    "for i in range(1, 400):\n",
    "    name = \"B{}\".format(i)\n",
    "    print(name)\n",
    "    keys = manager.get_all_sshkeys()\n",
    "    projects = manager.get_all_projects()\n",
    "    droplet = digitalocean.Droplet(token = os.getenv( 'MARIUS_DOTOKEN' ), name=name, region='nyc3', image='ubuntu-20-04-x64', size_slug='g-16vcpu-64gb', backups=True, tags = ['B'], ssh_keys = keys)\n",
    "    droplet.create()\n",
    "    for p in projects:\n",
    "        if p.name == \"B\":\n",
    "            p.assign_resource([\"do:droplet:{}\".format(droplet.id)])\n",
    "            break"
   ]
  },
  {
   "cell_type": "code",
   "execution_count": 39,
   "metadata": {},
   "outputs": [
    {
     "name": "stdout",
     "output_type": "stream",
     "text": [
      "kusanagi\n",
      "kusanagi\n",
      "kusanagi\n",
      "kusanagi\n",
      "kusanagi\n",
      "kusanagi\n",
      "kusanagi\n",
      "kusanagi\n",
      "kusanagi\n",
      "kusanagi\n",
      "wicka\n",
      "<Droplet: 285793071 W4>\n",
      "wicka\n",
      "<Droplet: 285793073 W6>\n",
      "wicka\n",
      "<Droplet: 285793074 W9>\n",
      "wicka\n",
      "<Droplet: 285793075 W3>\n",
      "wicka\n",
      "<Droplet: 285793076 W7>\n",
      "wicka\n",
      "<Droplet: 285793077 W0>\n",
      "wicka\n",
      "<Droplet: 285793078 W5>\n",
      "wicka\n",
      "<Droplet: 285793079 W2>\n",
      "wicka\n",
      "<Droplet: 285793080 W1>\n",
      "wicka\n",
      "<Droplet: 285793081 W8>\n",
      "const\n",
      "const\n",
      "const\n",
      "const\n",
      "const\n",
      "const\n",
      "const\n",
      "const\n",
      "const\n",
      "const\n"
     ]
    }
   ],
   "source": [
    "for droplet in my_droplets:\n",
    "    if len(droplet.tags) != 0:\n",
    "        print (droplet.tags[0])\n",
    "        if droplet.tags[0] == \"wicka\":\n",
    "            print(droplet)\n",
    "            droplet.destroy()\n"
   ]
  },
  {
   "cell_type": "code",
   "execution_count": null,
   "metadata": {},
   "outputs": [],
   "source": []
  }
 ],
 "metadata": {
  "interpreter": {
   "hash": "b0fa6594d8f4cbf19f97940f81e996739fb7646882a419484c72d19e05852a7e"
  },
  "kernelspec": {
   "display_name": "Python 3.9.12 64-bit",
   "language": "python",
   "name": "python3"
  },
  "language_info": {
   "codemirror_mode": {
    "name": "ipython",
    "version": 3
   },
   "file_extension": ".py",
   "mimetype": "text/x-python",
   "name": "python",
   "nbconvert_exporter": "python",
   "pygments_lexer": "ipython3",
   "version": "3.9.12"
  },
  "orig_nbformat": 4
 },
 "nbformat": 4,
 "nbformat_minor": 2
}
