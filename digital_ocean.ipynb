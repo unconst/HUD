{
 "cells": [
  {
   "cell_type": "code",
   "execution_count": null,
   "metadata": {},
   "outputs": [],
   "source": [
    "# To destroy.\n",
    "import digitalocean\n",
    "import os\n",
    "import datetime\n",
    "from tqdm import tqdm\n",
    "project_to_destroy = \"W\"\n",
    "to_destroy = []\n",
    "manager = digitalocean.Manager( token = os.getenv( 'MARIUS_DOTOKEN' ) ) \n",
    "my_droplets = manager.get_all_droplets()\n",
    "for droplet in my_droplets:\n",
    "    if len(droplet.tags) > 0 and droplet.tags[0] == project_to_destroy:\n",
    "        to_destroy.append(droplet)\n",
    "pbar = tqdm(range(0, len(to_destroy)), \"Destroying Droplets\")\n",
    "for droplet in to_destroy:\n",
    "    pbar.set_description(\"Destroying %s\" % droplet.name)\n",
    "    droplet.destroy()\n",
    "    pbar.update(1)\n"
   ]
  },
  {
   "cell_type": "code",
   "execution_count": null,
   "metadata": {},
   "outputs": [],
   "source": [
    "# To create.\n",
    "import digitalocean\n",
    "import os\n",
    "from tqdm import tqdm\n",
    "manager = digitalocean.Manager( token = os.getenv( 'MARIUS_DOTOKEN' ) ) \n",
    "project = \"R\"\n",
    "slug = 's-8vcpu-16gb'\n",
    "region = 'nyc3'\n",
    "#n_to_create = 200\n",
    "keys = manager.get_all_sshkeys()\n",
    "projects = manager.get_all_projects()\n",
    "pbar = tqdm(range(300, 500), \"Creating Droplets\")\n",
    "for i in pbar:\n",
    "    name = \"{}{}\".format(project, i)\n",
    "    pbar.set_description(\"Creating %s\" % name)\n",
    "    droplet = digitalocean.Droplet(token = os.getenv( 'MARIUS_DOTOKEN' ), name=name, region=region, image='ubuntu-20-04-x64', size_slug=slug, backups=True, tags = [project], ssh_keys = keys)\n",
    "    droplet.create()\n",
    "    for p in projects:\n",
    "        if p.name == project:\n",
    "            p.assign_resource([\"do:droplet:{}\".format(droplet.id)])\n",
    "            break"
   ]
  },
  {
   "cell_type": "code",
   "execution_count": null,
   "metadata": {},
   "outputs": [],
   "source": [
    "# Create wallets\n",
    "import bittensor\n",
    "from tqdm import tqdm\n",
    "project = \"R\"\n",
    "manager = digitalocean.Manager( token = os.getenv( 'MARIUS_DOTOKEN' ) ) \n",
    "my_droplets = manager.get_all_droplets()\n",
    "wallet = bittensor.wallet(name = project)\n",
    "if not wallet.coldkey_file.exists_on_device():\n",
    "    wallet.create_new_coldkey()\n",
    "for droplet in my_droplets:\n",
    "    wallet = bittensor.wallet(name = project, hotkey=droplet.name )\n",
    "    if not wallet.hotkey_file.exists_on_device():\n",
    "        wallet.create_new_hotkey()\n"
   ]
  },
  {
   "cell_type": "code",
   "execution_count": null,
   "metadata": {},
   "outputs": [],
   "source": [
    "# Append droplets to config\n",
    "from hud import HUD\n",
    "project = \"R\"\n",
    "neurons = HUD.load_from_digital_ocean( tag = project )\n",
    "HUD.write_to_config( neurons )\n",
    "neurons = HUD.load_from_config( project = project )\n",
    "print( neurons )\n"
   ]
  },
  {
   "cell_type": "code",
   "execution_count": null,
   "metadata": {},
   "outputs": [],
   "source": []
  }
 ],
 "metadata": {
  "interpreter": {
   "hash": "b0fa6594d8f4cbf19f97940f81e996739fb7646882a419484c72d19e05852a7e"
  },
  "kernelspec": {
   "display_name": "Python 3.9.12 64-bit",
   "language": "python",
   "name": "python3"
  },
  "language_info": {
   "codemirror_mode": {
    "name": "ipython",
    "version": 3
   },
   "file_extension": ".py",
   "mimetype": "text/x-python",
   "name": "python",
   "nbconvert_exporter": "python",
   "pygments_lexer": "ipython3",
   "version": "3.9.12"
  },
  "orig_nbformat": 4
 },
 "nbformat": 4,
 "nbformat_minor": 2
}
